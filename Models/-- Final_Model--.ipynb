{
 "cells": [
  {
   "cell_type": "markdown",
   "metadata": {},
   "source": [
    "# MODELO FINAL VENTA PRODUCTOS FINANCIEROS\n",
    "\n",
    "\n",
    "Presentamos e Importamos todas las librerias que vamos a necesitar a lo largo del modelo.\n",
    "\n"
   ]
  },
  {
   "cell_type": "code",
   "execution_count": 1,
   "metadata": {},
   "outputs": [],
   "source": [
    "import pandas as pd\n",
    "import numpy as np\n",
    "\n",
    "#Librerias Visualizacion\n",
    "import matplotlib.pyplot as plt\n",
    "import pylab as pl\n",
    "import seaborn as sns \n",
    "from pylab import rcParams \n",
    "\n",
    "#Libreria Metricas\n",
    "from sklearn.metrics import f1_score, recall_score, precision_score, accuracy_score\n",
    "from sklearn.metrics import roc_auc_score, roc_curve\n",
    "from sklearn.metrics import confusion_matrix\n",
    "from sklearn.metrics import classification_report\n",
    "from sklearn.metrics import confusion_matrix\n",
    "from sklearn.metrics import classification_report\n",
    "\n",
    "#Librerias Modelos\n",
    "from sklearn.linear_model import LogisticRegression\n",
    "from sklearn.neighbors import KNeighborsRegressor\n",
    "from sklearn.tree import DecisionTreeClassifier \n",
    "from sklearn.ensemble import RandomForestClassifier\n",
    "from sklearn.model_selection import train_test_split \n",
    "\n",
    "# librerias Procesamieno Feature_engineering\n",
    "from sklearn.preprocessing import LabelEncoder\n",
    "from imblearn.over_sampling import RandomOverSampler\n",
    "from imblearn.combine import SMOTETomek\n",
    "from imblearn.ensemble import BalancedBaggingClassifier \n",
    "from collections import Counter\n",
    "\n",
    "# Libreria Dimensionalidad\n",
    "from sklearn.decomposition import PCA\n"
   ]
  },
  {
   "cell_type": "markdown",
   "metadata": {},
   "source": [
    "Leemos y presentamos nuestra Base de Datos. Mostramos las 5 primeras filas, el tipo y el nombre de las Columnas / variables que la componen. Las variables que se refierne a unidades de negocio no las vamos a utilizar en el modelo por lo que las transformamos a Objeto para un mejor entendimiento y segmentacion de las propias variables. La variable edad tambien es transformada a Int(64)"
   ]
  },
  {
   "cell_type": "code",
   "execution_count": 2,
   "metadata": {},
   "outputs": [],
   "source": [
    "df = pd.read_csv('/home/dsc/Master-Kschool/TFM/Financial-Product-Sales-Forecast-Model/0rigin_data/cleanned_data/df.tfm')"
   ]
  },
  {
   "cell_type": "code",
   "execution_count": 3,
   "metadata": {
    "scrolled": true
   },
   "outputs": [
    {
     "data": {
      "text/html": [
       "<div>\n",
       "<style scoped>\n",
       "    .dataframe tbody tr th:only-of-type {\n",
       "        vertical-align: middle;\n",
       "    }\n",
       "\n",
       "    .dataframe tbody tr th {\n",
       "        vertical-align: top;\n",
       "    }\n",
       "\n",
       "    .dataframe thead th {\n",
       "        text-align: right;\n",
       "    }\n",
       "</style>\n",
       "<table border=\"1\" class=\"dataframe\">\n",
       "  <thead>\n",
       "    <tr style=\"text-align: right;\">\n",
       "      <th></th>\n",
       "      <th>cliente</th>\n",
       "      <th>saldo_captacion</th>\n",
       "      <th>esta_carterizado</th>\n",
       "      <th>cliente_bbp</th>\n",
       "      <th>tipo_gestor</th>\n",
       "      <th>gestor</th>\n",
       "      <th>cartera_patron</th>\n",
       "      <th>codigo_cartera</th>\n",
       "      <th>digital_3_meses</th>\n",
       "      <th>camino_digital</th>\n",
       "      <th>...</th>\n",
       "      <th>edad</th>\n",
       "      <th>seg_valor</th>\n",
       "      <th>seg_recorrido</th>\n",
       "      <th>dz</th>\n",
       "      <th>oficina</th>\n",
       "      <th>lp_seg_vida</th>\n",
       "      <th>lp_seg_acc</th>\n",
       "      <th>lp_seg_salud</th>\n",
       "      <th>lp_seg_hogar</th>\n",
       "      <th>lp_seg_auto</th>\n",
       "    </tr>\n",
       "  </thead>\n",
       "  <tbody>\n",
       "    <tr>\n",
       "      <th>0</th>\n",
       "      <td>1</td>\n",
       "      <td>1328106.49</td>\n",
       "      <td>SI</td>\n",
       "      <td>NO</td>\n",
       "      <td>ASESOR FINANCIERO</td>\n",
       "      <td>18287.0</td>\n",
       "      <td>ASESORAMIENTO FINANCIERO</td>\n",
       "      <td>14881.0</td>\n",
       "      <td>SI</td>\n",
       "      <td>COMPRADOR</td>\n",
       "      <td>...</td>\n",
       "      <td>69.0</td>\n",
       "      <td>ALTO</td>\n",
       "      <td>BAJO RECORRIDO</td>\n",
       "      <td>2</td>\n",
       "      <td>210</td>\n",
       "      <td>0</td>\n",
       "      <td>0</td>\n",
       "      <td>0</td>\n",
       "      <td>1</td>\n",
       "      <td>0</td>\n",
       "    </tr>\n",
       "    <tr>\n",
       "      <th>1</th>\n",
       "      <td>2</td>\n",
       "      <td>1142234.34</td>\n",
       "      <td>SI</td>\n",
       "      <td>NO</td>\n",
       "      <td>ASESOR FINANCIERO</td>\n",
       "      <td>18287.0</td>\n",
       "      <td>ASESORAMIENTO FINANCIERO</td>\n",
       "      <td>14881.0</td>\n",
       "      <td>SI</td>\n",
       "      <td>COMPRADOR</td>\n",
       "      <td>...</td>\n",
       "      <td>81.0</td>\n",
       "      <td>ALTO</td>\n",
       "      <td>ALTO RECORRIDO</td>\n",
       "      <td>2</td>\n",
       "      <td>210</td>\n",
       "      <td>0</td>\n",
       "      <td>0</td>\n",
       "      <td>0</td>\n",
       "      <td>0</td>\n",
       "      <td>0</td>\n",
       "    </tr>\n",
       "    <tr>\n",
       "      <th>2</th>\n",
       "      <td>3</td>\n",
       "      <td>1142234.34</td>\n",
       "      <td>SI</td>\n",
       "      <td>NO</td>\n",
       "      <td>ASESOR FINANCIERO</td>\n",
       "      <td>18287.0</td>\n",
       "      <td>TUTELA</td>\n",
       "      <td>28332.0</td>\n",
       "      <td>NO</td>\n",
       "      <td>SIN USO</td>\n",
       "      <td>...</td>\n",
       "      <td>75.0</td>\n",
       "      <td>ALTO</td>\n",
       "      <td>BAJO RECORRIDO</td>\n",
       "      <td>2</td>\n",
       "      <td>210</td>\n",
       "      <td>0</td>\n",
       "      <td>0</td>\n",
       "      <td>0</td>\n",
       "      <td>0</td>\n",
       "      <td>0</td>\n",
       "    </tr>\n",
       "    <tr>\n",
       "      <th>3</th>\n",
       "      <td>4</td>\n",
       "      <td>1340503.88</td>\n",
       "      <td>SI</td>\n",
       "      <td>NO</td>\n",
       "      <td>ASESOR FINANCIERO</td>\n",
       "      <td>41475.0</td>\n",
       "      <td>ASESORAMIENTO FINANCIERO</td>\n",
       "      <td>14204.0</td>\n",
       "      <td>NO</td>\n",
       "      <td>SIN USO</td>\n",
       "      <td>...</td>\n",
       "      <td>94.0</td>\n",
       "      <td>ALTO</td>\n",
       "      <td>BAJO RECORRIDO</td>\n",
       "      <td>2</td>\n",
       "      <td>210</td>\n",
       "      <td>0</td>\n",
       "      <td>0</td>\n",
       "      <td>0</td>\n",
       "      <td>0</td>\n",
       "      <td>0</td>\n",
       "    </tr>\n",
       "    <tr>\n",
       "      <th>4</th>\n",
       "      <td>5</td>\n",
       "      <td>1758517.70</td>\n",
       "      <td>SI</td>\n",
       "      <td>NO</td>\n",
       "      <td>ASESOR FINANCIERO</td>\n",
       "      <td>39000.0</td>\n",
       "      <td>ASESORAMIENTO FINANCIERO</td>\n",
       "      <td>14219.0</td>\n",
       "      <td>SI</td>\n",
       "      <td>COMPRADOR</td>\n",
       "      <td>...</td>\n",
       "      <td>64.0</td>\n",
       "      <td>ALTO</td>\n",
       "      <td>BAJO RECORRIDO</td>\n",
       "      <td>2</td>\n",
       "      <td>210</td>\n",
       "      <td>0</td>\n",
       "      <td>0</td>\n",
       "      <td>0</td>\n",
       "      <td>0</td>\n",
       "      <td>0</td>\n",
       "    </tr>\n",
       "  </tbody>\n",
       "</table>\n",
       "<p>5 rows × 30 columns</p>\n",
       "</div>"
      ],
      "text/plain": [
       "   cliente  saldo_captacion esta_carterizado cliente_bbp        tipo_gestor  \\\n",
       "0        1       1328106.49               SI          NO  ASESOR FINANCIERO   \n",
       "1        2       1142234.34               SI          NO  ASESOR FINANCIERO   \n",
       "2        3       1142234.34               SI          NO  ASESOR FINANCIERO   \n",
       "3        4       1340503.88               SI          NO  ASESOR FINANCIERO   \n",
       "4        5       1758517.70               SI          NO  ASESOR FINANCIERO   \n",
       "\n",
       "    gestor            cartera_patron  codigo_cartera digital_3_meses  \\\n",
       "0  18287.0  ASESORAMIENTO FINANCIERO         14881.0              SI   \n",
       "1  18287.0  ASESORAMIENTO FINANCIERO         14881.0              SI   \n",
       "2  18287.0                    TUTELA         28332.0              NO   \n",
       "3  41475.0  ASESORAMIENTO FINANCIERO         14204.0              NO   \n",
       "4  39000.0  ASESORAMIENTO FINANCIERO         14219.0              SI   \n",
       "\n",
       "  camino_digital  ...  edad  seg_valor   seg_recorrido  dz  oficina  \\\n",
       "0      COMPRADOR  ...  69.0       ALTO  BAJO RECORRIDO   2      210   \n",
       "1      COMPRADOR  ...  81.0       ALTO  ALTO RECORRIDO   2      210   \n",
       "2        SIN USO  ...  75.0       ALTO  BAJO RECORRIDO   2      210   \n",
       "3        SIN USO  ...  94.0       ALTO  BAJO RECORRIDO   2      210   \n",
       "4      COMPRADOR  ...  64.0       ALTO  BAJO RECORRIDO   2      210   \n",
       "\n",
       "   lp_seg_vida  lp_seg_acc  lp_seg_salud lp_seg_hogar lp_seg_auto  \n",
       "0            0           0             0            1           0  \n",
       "1            0           0             0            0           0  \n",
       "2            0           0             0            0           0  \n",
       "3            0           0             0            0           0  \n",
       "4            0           0             0            0           0  \n",
       "\n",
       "[5 rows x 30 columns]"
      ]
     },
     "execution_count": 3,
     "metadata": {},
     "output_type": "execute_result"
    }
   ],
   "source": [
    "df.head(5)"
   ]
  },
  {
   "cell_type": "code",
   "execution_count": 4,
   "metadata": {
    "scrolled": true
   },
   "outputs": [
    {
     "data": {
      "text/plain": [
       "Index(['cliente', 'saldo_captacion', 'esta_carterizado', 'cliente_bbp',\n",
       "       'tipo_gestor', 'gestor', 'cartera_patron', 'codigo_cartera',\n",
       "       'digital_3_meses', 'camino_digital', 'saldo_financiacion', 'saldo_ffii',\n",
       "       'saldo_plp', 'lp_dom_ingresos', 'lp_tjta_cto', 'lp_tjt_rev', 'lp_rbos',\n",
       "       'lp_of_int', 'marca_bp', 'marca_ccte', 'edad', 'seg_valor',\n",
       "       'seg_recorrido', 'dz', 'oficina', 'lp_seg_vida', 'lp_seg_acc',\n",
       "       'lp_seg_salud', 'lp_seg_hogar', 'lp_seg_auto'],\n",
       "      dtype='object')"
      ]
     },
     "execution_count": 4,
     "metadata": {},
     "output_type": "execute_result"
    }
   ],
   "source": [
    "df.columns"
   ]
  },
  {
   "cell_type": "markdown",
   "metadata": {},
   "source": [
    "## LABEL ENCODER\n",
    "\n",
    "Dentro del Data Frame existen 10 variables categoricas las cuales tenemos que transformar a numero para poder utilizarlas en el modelo."
   ]
  },
  {
   "cell_type": "code",
   "execution_count": 5,
   "metadata": {},
   "outputs": [],
   "source": [
    "from sklearn.preprocessing import LabelEncoder\n",
    "lbl = LabelEncoder()"
   ]
  },
  {
   "cell_type": "markdown",
   "metadata": {},
   "source": [
    "Transformamos las variables"
   ]
  },
  {
   "cell_type": "code",
   "execution_count": 6,
   "metadata": {},
   "outputs": [
    {
     "data": {
      "text/plain": [
       "array([1, 0, 1, ..., 3, 3, 0])"
      ]
     },
     "execution_count": 6,
     "metadata": {},
     "output_type": "execute_result"
    }
   ],
   "source": [
    "lbl.fit_transform(df['tipo_gestor'])\n",
    "lbl.fit_transform(df['esta_carterizado'])\n",
    "lbl.fit_transform(df['cliente_bbp'])\n",
    "lbl.fit_transform(df['cartera_patron'])\n",
    "lbl.fit_transform(df['digital_3_meses'])\n",
    "lbl.fit_transform(df['camino_digital'])\n",
    "lbl.fit_transform(df['marca_bp'])\n",
    "lbl.fit_transform(df['marca_ccte'])\n",
    "lbl.fit_transform(df['seg_valor'])\n",
    "lbl.fit_transform(df['seg_recorrido'])\n"
   ]
  },
  {
   "cell_type": "markdown",
   "metadata": {},
   "source": [
    "Asignamos a cada una de estas variables una nueva columna"
   ]
  },
  {
   "cell_type": "code",
   "execution_count": 7,
   "metadata": {},
   "outputs": [],
   "source": [
    "df['tipo_gestor_etiqueta']=lbl.fit_transform(df['tipo_gestor'])\n",
    "df['esta_carterizado_etiqueta']=lbl.fit_transform(df['esta_carterizado'])\n",
    "df['cliente_bbp_etiqueta']=lbl.fit_transform(df['cliente_bbp'])\n",
    "df['cartera_patron_etiqueta']=lbl.fit_transform(df['cartera_patron'])\n",
    "df['digital_3_meses_etiqueta']=lbl.fit_transform(df['digital_3_meses'])\n",
    "df['camino_digital_etiqueta']=lbl.fit_transform(df['camino_digital'])\n",
    "df['marca_bp_etiqueta']=lbl.fit_transform(df['marca_bp'])\n",
    "df['marca_ccte_etiqueta']=lbl.fit_transform(df['marca_ccte'])\n",
    "df['seg_valor_etiqueta']=lbl.fit_transform(df['seg_valor'])\n",
    "df['seg_recorrido_etiqueta']=lbl.fit_transform(df['seg_recorrido'])"
   ]
  },
  {
   "cell_type": "markdown",
   "metadata": {},
   "source": [
    "Confirmamos que la transformacion se ha realizado correctamente. "
   ]
  },
  {
   "cell_type": "code",
   "execution_count": 8,
   "metadata": {},
   "outputs": [
    {
     "data": {
      "text/plain": [
       "0    163991\n",
       "2    149923\n",
       "1    127889\n",
       "3      9571\n",
       "Name: seg_recorrido_etiqueta, dtype: int64"
      ]
     },
     "execution_count": 8,
     "metadata": {},
     "output_type": "execute_result"
    }
   ],
   "source": [
    "df['seg_recorrido_etiqueta'].value_counts()"
   ]
  },
  {
   "cell_type": "markdown",
   "metadata": {
    "scrolled": false
   },
   "source": [
    "Eliminamos las antiguas variables categoricas que se han transformado y lo confirmamos listando las columnas"
   ]
  },
  {
   "cell_type": "code",
   "execution_count": 9,
   "metadata": {},
   "outputs": [],
   "source": [
    "df.drop(['tipo_gestor','esta_carterizado','cliente_bbp','cartera_patron','digital_3_meses','camino_digital',\n",
    "         'marca_bp','marca_ccte','seg_valor','seg_recorrido'],axis = 1,inplace = True)"
   ]
  },
  {
   "cell_type": "code",
   "execution_count": 10,
   "metadata": {},
   "outputs": [
    {
     "data": {
      "text/plain": [
       "Index(['cliente', 'saldo_captacion', 'gestor', 'codigo_cartera',\n",
       "       'saldo_financiacion', 'saldo_ffii', 'saldo_plp', 'lp_dom_ingresos',\n",
       "       'lp_tjta_cto', 'lp_tjt_rev', 'lp_rbos', 'lp_of_int', 'edad', 'dz',\n",
       "       'oficina', 'lp_seg_vida', 'lp_seg_acc', 'lp_seg_salud', 'lp_seg_hogar',\n",
       "       'lp_seg_auto', 'tipo_gestor_etiqueta', 'esta_carterizado_etiqueta',\n",
       "       'cliente_bbp_etiqueta', 'cartera_patron_etiqueta',\n",
       "       'digital_3_meses_etiqueta', 'camino_digital_etiqueta',\n",
       "       'marca_bp_etiqueta', 'marca_ccte_etiqueta', 'seg_valor_etiqueta',\n",
       "       'seg_recorrido_etiqueta'],\n",
       "      dtype='object')"
      ]
     },
     "execution_count": 10,
     "metadata": {},
     "output_type": "execute_result"
    }
   ],
   "source": [
    "df.columns"
   ]
  },
  {
   "cell_type": "markdown",
   "metadata": {},
   "source": [
    "# OUTLIERS\n",
    "\n",
    "Hemos visto durante la exploracion del data set que existen distintas variables que son susceptibles de tener Outliers. Estas son 'edad','saldo_captacion','saldo_financiacion','saldo_ffii','saldo_plp'.  Trabajamos con ellas.  Lo primero que hacemos es analizarlas estadisticamente con Describe() y plotear un histograma de las mismas para verlas graficamente"
   ]
  },
  {
   "cell_type": "code",
   "execution_count": 11,
   "metadata": {},
   "outputs": [],
   "source": [
    "posibles_variables_con_outliers = df[['edad','saldo_captacion','saldo_financiacion','saldo_ffii','saldo_plp']]"
   ]
  },
  {
   "cell_type": "code",
   "execution_count": 12,
   "metadata": {},
   "outputs": [
    {
     "data": {
      "text/html": [
       "<div>\n",
       "<style scoped>\n",
       "    .dataframe tbody tr th:only-of-type {\n",
       "        vertical-align: middle;\n",
       "    }\n",
       "\n",
       "    .dataframe tbody tr th {\n",
       "        vertical-align: top;\n",
       "    }\n",
       "\n",
       "    .dataframe thead th {\n",
       "        text-align: right;\n",
       "    }\n",
       "</style>\n",
       "<table border=\"1\" class=\"dataframe\">\n",
       "  <thead>\n",
       "    <tr style=\"text-align: right;\">\n",
       "      <th></th>\n",
       "      <th>edad</th>\n",
       "      <th>saldo_captacion</th>\n",
       "      <th>saldo_financiacion</th>\n",
       "      <th>saldo_ffii</th>\n",
       "      <th>saldo_plp</th>\n",
       "    </tr>\n",
       "  </thead>\n",
       "  <tbody>\n",
       "    <tr>\n",
       "      <th>count</th>\n",
       "      <td>451374.000000</td>\n",
       "      <td>4.513740e+05</td>\n",
       "      <td>4.513740e+05</td>\n",
       "      <td>4.513740e+05</td>\n",
       "      <td>451374.000000</td>\n",
       "    </tr>\n",
       "    <tr>\n",
       "      <th>mean</th>\n",
       "      <td>58.268941</td>\n",
       "      <td>4.971455e+04</td>\n",
       "      <td>1.380668e+04</td>\n",
       "      <td>8.483663e+03</td>\n",
       "      <td>1728.478326</td>\n",
       "    </tr>\n",
       "    <tr>\n",
       "      <th>std</th>\n",
       "      <td>19.018368</td>\n",
       "      <td>8.792364e+04</td>\n",
       "      <td>4.296438e+04</td>\n",
       "      <td>3.844671e+04</td>\n",
       "      <td>10780.622435</td>\n",
       "    </tr>\n",
       "    <tr>\n",
       "      <th>min</th>\n",
       "      <td>0.000000</td>\n",
       "      <td>-5.104332e+04</td>\n",
       "      <td>-4.900000e+03</td>\n",
       "      <td>0.000000e+00</td>\n",
       "      <td>0.000000</td>\n",
       "    </tr>\n",
       "    <tr>\n",
       "      <th>25%</th>\n",
       "      <td>45.000000</td>\n",
       "      <td>1.813182e+03</td>\n",
       "      <td>0.000000e+00</td>\n",
       "      <td>0.000000e+00</td>\n",
       "      <td>0.000000</td>\n",
       "    </tr>\n",
       "    <tr>\n",
       "      <th>50%</th>\n",
       "      <td>60.000000</td>\n",
       "      <td>1.520828e+04</td>\n",
       "      <td>0.000000e+00</td>\n",
       "      <td>0.000000e+00</td>\n",
       "      <td>0.000000</td>\n",
       "    </tr>\n",
       "    <tr>\n",
       "      <th>75%</th>\n",
       "      <td>73.000000</td>\n",
       "      <td>6.446964e+04</td>\n",
       "      <td>6.841775e+02</td>\n",
       "      <td>0.000000e+00</td>\n",
       "      <td>0.000000</td>\n",
       "    </tr>\n",
       "    <tr>\n",
       "      <th>max</th>\n",
       "      <td>118.000000</td>\n",
       "      <td>5.290216e+06</td>\n",
       "      <td>2.896317e+06</td>\n",
       "      <td>3.130940e+06</td>\n",
       "      <td>459937.460000</td>\n",
       "    </tr>\n",
       "  </tbody>\n",
       "</table>\n",
       "</div>"
      ],
      "text/plain": [
       "                edad  saldo_captacion  saldo_financiacion    saldo_ffii  \\\n",
       "count  451374.000000     4.513740e+05        4.513740e+05  4.513740e+05   \n",
       "mean       58.268941     4.971455e+04        1.380668e+04  8.483663e+03   \n",
       "std        19.018368     8.792364e+04        4.296438e+04  3.844671e+04   \n",
       "min         0.000000    -5.104332e+04       -4.900000e+03  0.000000e+00   \n",
       "25%        45.000000     1.813182e+03        0.000000e+00  0.000000e+00   \n",
       "50%        60.000000     1.520828e+04        0.000000e+00  0.000000e+00   \n",
       "75%        73.000000     6.446964e+04        6.841775e+02  0.000000e+00   \n",
       "max       118.000000     5.290216e+06        2.896317e+06  3.130940e+06   \n",
       "\n",
       "           saldo_plp  \n",
       "count  451374.000000  \n",
       "mean     1728.478326  \n",
       "std     10780.622435  \n",
       "min         0.000000  \n",
       "25%         0.000000  \n",
       "50%         0.000000  \n",
       "75%         0.000000  \n",
       "max    459937.460000  "
      ]
     },
     "execution_count": 12,
     "metadata": {},
     "output_type": "execute_result"
    }
   ],
   "source": [
    "posibles_variables_con_outliers.describe()"
   ]
  },
  {
   "cell_type": "markdown",
   "metadata": {},
   "source": [
    "- Variable Fondos de Inversion. No contiene outliers. Son valores reales. La mayoria de los clientes no tienen saldos en Fondos de Inversion.\n",
    "- Variable Planes de Pension.  No contiene outliers. Son valores reales. La mayoria de los clientes no tienen saldos en Planes de Pension.\n",
    "- Variable Captacion. No tiene outliers. Son valores reales. Solamente modificamos los negativos y les damos valor de la media.\n",
    "- Variable saldo Financiacion. No tiene outliers. Son valores reales.Solamente modificamos los negativos y les damos valor de la media.\n",
    "- __Variable edad. Es la unica que puede tener ouliers reales.  Estudiamos y esos ouliers les asignaremos un nuevo valor.__"
   ]
  },
  {
   "cell_type": "markdown",
   "metadata": {},
   "source": [
    "__Variable EDAD__\n",
    "\n",
    "Hacemos una primera visualizacion con un histograma y un BoxPlot.  Estos arrojan informacion interesante como la distribucion normal y que el maximo de edad es de 118 años y que existen clientes con 0 años. Con este Boxplot vemos que los valores por debajo de 3/4 años y los valores por encima de los 114/115 años son outliers.  Estos valores los vamos a corregir dandoles valores minimos de 18 años y maximo de 100, adaptandolos a la realidad de mayoria de edad y de logica de estimacion de vida."
   ]
  },
  {
   "cell_type": "code",
   "execution_count": 13,
   "metadata": {},
   "outputs": [
    {
     "data": {
      "text/plain": [
       "<AxesSubplot:>"
      ]
     },
     "execution_count": 13,
     "metadata": {},
     "output_type": "execute_result"
    },
    {
     "data": {
      "image/png": "[encoded data removed]",
      "text/plain": [
       "<Figure size 432x288 with 1 Axes>"
      ]
     },
     "metadata": {
      "needs_background": "light"
     },
     "output_type": "display_data"
    }
   ],
   "source": [
    "df['edad'].hist(color = 'g', bins = 25)"
   ]
  },
  {
   "cell_type": "code",
   "execution_count": 14,
   "metadata": {},
   "outputs": [
    {
     "name": "stdout",
     "output_type": "stream",
     "text": [
      "Boxplot edad\n"
     ]
    },
    {
     "data": {
      "text/plain": [
       "count    451374.000000\n",
       "mean         58.268941\n",
       "std          19.018368\n",
       "min           0.000000\n",
       "25%          45.000000\n",
       "50%          60.000000\n",
       "75%          73.000000\n",
       "max         118.000000\n",
       "Name: edad, dtype: float64"
      ]
     },
     "execution_count": 14,
     "metadata": {},
     "output_type": "execute_result"
    },
    {
     "data": {
      "image/png": "[encoded data removed]",
      "text/plain": [
       "<Figure size 432x288 with 1 Axes>"
      ]
     },
     "metadata": {
      "needs_background": "light"
     },
     "output_type": "display_data"
    }
   ],
   "source": [
    "print ('Boxplot edad')\n",
    "plt.boxplot(df['edad'],vert = False,widths = 2)\n",
    "plt.show   \n",
    "df['edad'].describe()"
   ]
  },
  {
   "cell_type": "code",
   "execution_count": 15,
   "metadata": {},
   "outputs": [
    {
     "name": "stdout",
     "output_type": "stream",
     "text": [
      "Cuartiles edad\n",
      "==============================\n",
      "Primer cuartil 45.0\n",
      "==============================\n",
      "Tercer cuartil 73.0\n",
      "==============================\n",
      "Rango_intercuartil 28.0\n",
      "==============================\n",
      "Mediana 60.0\n",
      "==============================\n",
      "Minimo 0.0\n",
      "==============================\n",
      "Maximo 118.0\n"
     ]
    }
   ],
   "source": [
    "print ('Cuartiles edad')\n",
    "print('='*30)\n",
    "Q1 = df['edad'].quantile(0.25)\n",
    "print ('Primer cuartil',Q1)\n",
    "print('='*30)\n",
    "Q3 = df['edad'].quantile(0.75)\n",
    "print ('Tercer cuartil',Q3)\n",
    "print('='*30)\n",
    "rangointercuartil = (Q3 - Q1)\n",
    "print ('Rango_intercuartil',rangointercuartil)\n",
    "print('='*30)\n",
    "mediana = df['edad'].median()\n",
    "print ('Mediana', mediana)\n",
    "print('='*30)\n",
    "minimo = df['edad'].min()\n",
    "print ('Minimo', minimo)\n",
    "print('='*30)\n",
    "maximo = df['edad'].max()\n",
    "print ('Maximo', maximo)"
   ]
  },
  {
   "cell_type": "code",
   "execution_count": 16,
   "metadata": {},
   "outputs": [
    {
     "name": "stdout",
     "output_type": "stream",
     "text": [
      "==============================\n",
      "Extremo bigote_inferior 3.0\n",
      "==============================\n",
      "Extremo bigote_superior 115.0\n",
      "==============================\n"
     ]
    }
   ],
   "source": [
    "#sacamos los extremos superiores e inferiores de los bigotes\n",
    "print('='*30)\n",
    "extremo_inferior = Q1 - 1.5 * rangointercuartil\n",
    "print ('Extremo bigote_inferior', extremo_inferior)\n",
    "print('='*30)\n",
    "extremo_superior = Q3 + 1.5 * rangointercuartil\n",
    "print ('Extremo bigote_superior', extremo_superior)\n",
    "print('='*30)"
   ]
  },
  {
   "cell_type": "code",
   "execution_count": 17,
   "metadata": {},
   "outputs": [
    {
     "name": "stdout",
     "output_type": "stream",
     "text": [
      "Outliers    : 254\n",
      "No Outliers : 451120\n"
     ]
    }
   ],
   "source": [
    "# Detectamos y contamos los outliers\n",
    "ubicacion_outliers = (df['edad'] < extremo_inferior) | (df['edad'] > extremo_superior)\n",
    "outliers = df['edad'][ubicacion_outliers]\n",
    "resto_datos_no_outliers = (df['edad'] >= extremo_inferior) & (df['edad'] <= extremo_superior)\n",
    "no_outliers = df['edad'][resto_datos_no_outliers]\n",
    "print('Outliers    :', outliers.count())\n",
    "print('No Outliers :', no_outliers.count())\n"
   ]
  },
  {
   "cell_type": "code",
   "execution_count": 18,
   "metadata": {},
   "outputs": [],
   "source": [
    "# No queremos eliminar los outliers ya que son muy pocos vs todo el df. Los transformamos a la media de edad\n",
    "df['edad'] = df['edad'].where(df['edad'] > 3 ,df['edad'].mean())\n",
    "df['edad'] = df['edad'].where(df['edad'] < 115 ,df['edad'].mean())"
   ]
  },
  {
   "cell_type": "code",
   "execution_count": 19,
   "metadata": {
    "scrolled": false
   },
   "outputs": [
    {
     "name": "stdout",
     "output_type": "stream",
     "text": [
      "Boxplot edad\n"
     ]
    },
    {
     "data": {
      "text/plain": [
       "count    451374.000000\n",
       "mean         58.324076\n",
       "std          18.934848\n",
       "min           4.000000\n",
       "25%          45.000000\n",
       "50%          60.000000\n",
       "75%          73.000000\n",
       "max         114.000000\n",
       "Name: edad, dtype: float64"
      ]
     },
     "execution_count": 19,
     "metadata": {},
     "output_type": "execute_result"
    },
    {
     "data": {
      "image/png": "[encoded data removed]",
      "text/plain": [
       "<Figure size 432x288 with 1 Axes>"
      ]
     },
     "metadata": {
      "needs_background": "light"
     },
     "output_type": "display_data"
    }
   ],
   "source": [
    "# Volvemos a hacer la  visualizacion\n",
    "print ('Boxplot edad')\n",
    "plt.boxplot(df['edad'],vert = False, widths = 2)\n",
    "plt.show   \n",
    "df['edad'].describe()"
   ]
  },
  {
   "cell_type": "markdown",
   "metadata": {},
   "source": [
    "__Variable SALDO CAPTACION__\n",
    "\n",
    "Sacamos un histograma y listamos un describe() para ver cual es su distribucion y sus principales estadisticas descirptivas. Esta variable esta conpuesta principalmente por clientes con bajos saldos de ahorro. En este caso todos los saldos son utiles, no existen outliers pero si saldos negativos que vamos a corregir para el modelo dandoles valores de 0 euros."
   ]
  },
  {
   "cell_type": "code",
   "execution_count": 20,
   "metadata": {},
   "outputs": [
    {
     "data": {
      "text/plain": [
       "<AxesSubplot:>"
      ]
     },
     "execution_count": 20,
     "metadata": {},
     "output_type": "execute_result"
    },
    {
     "data": {
      "image/png": "[encoded data removed]",
      "text/plain": [
       "<Figure size 432x288 with 1 Axes>"
      ]
     },
     "metadata": {
      "needs_background": "light"
     },
     "output_type": "display_data"
    }
   ],
   "source": [
    "df['saldo_captacion'].hist(color = 'g', bins = 50)"
   ]
  },
  {
   "cell_type": "code",
   "execution_count": 21,
   "metadata": {},
   "outputs": [
    {
     "data": {
      "text/plain": [
       "count    4.513740e+05\n",
       "mean     4.971455e+04\n",
       "std      8.792364e+04\n",
       "min     -5.104332e+04\n",
       "25%      1.813182e+03\n",
       "50%      1.520828e+04\n",
       "75%      6.446964e+04\n",
       "max      5.290216e+06\n",
       "Name: saldo_captacion, dtype: float64"
      ]
     },
     "execution_count": 21,
     "metadata": {},
     "output_type": "execute_result"
    }
   ],
   "source": [
    "df['saldo_captacion'].describe()"
   ]
  },
  {
   "cell_type": "code",
   "execution_count": 22,
   "metadata": {
    "scrolled": true
   },
   "outputs": [
    {
     "name": "stdout",
     "output_type": "stream",
     "text": [
      "Clientes_con_saldos_negativos : 9440\n",
      "Porcentaje_Clientes_con_saldos_negativos:  0.02091392060685817\n"
     ]
    }
   ],
   "source": [
    "# Hay 9440 clientes con saldo negativo . Solo el 2%\n",
    "Clientes_con_saldos_negativos = df[df['saldo_captacion'] < 0]['cliente'].nunique()\n",
    "Porcentaje_Clientes_con_saldos_negativos = df[df['saldo_captacion'] < 0]['cliente'].nunique() / df['cliente'].count()\n",
    "print ('Clientes_con_saldos_negativos :',Clientes_con_saldos_negativos)\n",
    "print ('Porcentaje_Clientes_con_saldos_negativos: ',Porcentaje_Clientes_con_saldos_negativos)"
   ]
  },
  {
   "cell_type": "code",
   "execution_count": 23,
   "metadata": {},
   "outputs": [],
   "source": [
    "# No queremos los valores negativos. Les damos valor de cero.\n",
    "df[df['saldo_captacion'] < 0] = 0"
   ]
  },
  {
   "cell_type": "code",
   "execution_count": 24,
   "metadata": {
    "scrolled": true
   },
   "outputs": [
    {
     "data": {
      "text/plain": [
       "count    4.513740e+05\n",
       "mean     4.971805e+04\n",
       "std      8.792162e+04\n",
       "min      0.000000e+00\n",
       "25%      1.813182e+03\n",
       "50%      1.520828e+04\n",
       "75%      6.446964e+04\n",
       "max      5.290216e+06\n",
       "Name: saldo_captacion, dtype: float64"
      ]
     },
     "execution_count": 24,
     "metadata": {},
     "output_type": "execute_result"
    }
   ],
   "source": [
    "# Sacamos nuvamente datos estadisticos..\n",
    "df['saldo_captacion'].describe()"
   ]
  },
  {
   "cell_type": "markdown",
   "metadata": {},
   "source": [
    "__Variable SALDO FINANCIACION__\n",
    "\n",
    "Sacamos un histograma y listamos un describe() para ver cual es su distribucion y sus principales estadisticas descirptivas. Todos los datos de esta variable son datos validos ya que se trata de financiacion real de los clientes.  No existen outliers pero si existen clientes con financiacion negativa, esto es que son deudores.  Estos datos los vamos a transformar a valor 0€"
   ]
  },
  {
   "cell_type": "code",
   "execution_count": 25,
   "metadata": {},
   "outputs": [
    {
     "data": {
      "text/plain": [
       "<AxesSubplot:>"
      ]
     },
     "execution_count": 25,
     "metadata": {},
     "output_type": "execute_result"
    },
    {
     "data": {
      "image/png": "[encoded data removed]",
      "text/plain": [
       "<Figure size 432x288 with 1 Axes>"
      ]
     },
     "metadata": {
      "needs_background": "light"
     },
     "output_type": "display_data"
    }
   ],
   "source": [
    "df['saldo_financiacion'].hist(color = 'g', bins = 50)"
   ]
  },
  {
   "cell_type": "code",
   "execution_count": 26,
   "metadata": {},
   "outputs": [
    {
     "data": {
      "text/plain": [
       "count    4.513740e+05\n",
       "mean     1.353979e+04\n",
       "std      4.262430e+04\n",
       "min     -4.900000e+03\n",
       "25%      0.000000e+00\n",
       "50%      0.000000e+00\n",
       "75%      6.066900e+02\n",
       "max      2.896317e+06\n",
       "Name: saldo_financiacion, dtype: float64"
      ]
     },
     "execution_count": 26,
     "metadata": {},
     "output_type": "execute_result"
    }
   ],
   "source": [
    "df['saldo_financiacion'].describe()"
   ]
  },
  {
   "cell_type": "code",
   "execution_count": 27,
   "metadata": {},
   "outputs": [
    {
     "name": "stdout",
     "output_type": "stream",
     "text": [
      "Clientes_con_financiacion_negativa : 696\n",
      "Porcentaje_Clientes_con_financiacion_negativa:  0.0015419585532175093\n"
     ]
    }
   ],
   "source": [
    "# Hay 9439 clientes con saldo negativo . \n",
    "Clientes_con_financiacion_negativa = df[df['saldo_financiacion'] < 0]['cliente'].nunique()\n",
    "Porcentaje_Clientes_con_financiacion_negativad = df[df['saldo_financiacion'] < 0]['cliente'].nunique() / df['cliente'].count()\n",
    "print ('Clientes_con_financiacion_negativa :',Clientes_con_financiacion_negativa)\n",
    "print ('Porcentaje_Clientes_con_financiacion_negativa: ',Porcentaje_Clientes_con_financiacion_negativad)"
   ]
  },
  {
   "cell_type": "code",
   "execution_count": 28,
   "metadata": {},
   "outputs": [],
   "source": [
    "# No queremos los valores negativos. Les damos valor de cero.\n",
    "df[df['saldo_financiacion'] < 0] = 0"
   ]
  },
  {
   "cell_type": "code",
   "execution_count": 29,
   "metadata": {},
   "outputs": [
    {
     "data": {
      "text/plain": [
       "count    4.513740e+05\n",
       "mean     1.354013e+04\n",
       "std      4.262418e+04\n",
       "min      0.000000e+00\n",
       "25%      0.000000e+00\n",
       "50%      0.000000e+00\n",
       "75%      6.066900e+02\n",
       "max      2.896317e+06\n",
       "Name: saldo_financiacion, dtype: float64"
      ]
     },
     "execution_count": 29,
     "metadata": {},
     "output_type": "execute_result"
    }
   ],
   "source": [
    "df['saldo_financiacion'].describe()"
   ]
  },
  {
   "cell_type": "markdown",
   "metadata": {},
   "source": [
    "__Variable SALDO PLANES DE PENSION__\n",
    "\n",
    "Sacamos un histograma y listamos un describe() para ver cual es su distribucion y sus principales estadisticas descriptivas. Se trata de una variable donde la mayoria de los clientes no tienen saldos en Planes de Pension.  Esta variable la mantenemos sin hacer ningun cambio. "
   ]
  },
  {
   "cell_type": "code",
   "execution_count": 30,
   "metadata": {},
   "outputs": [
    {
     "data": {
      "text/plain": [
       "<AxesSubplot:>"
      ]
     },
     "execution_count": 30,
     "metadata": {},
     "output_type": "execute_result"
    },
    {
     "data": {
      "image/png": "[encoded data removed]",
      "text/plain": [
       "<Figure size 432x288 with 1 Axes>"
      ]
     },
     "metadata": {
      "needs_background": "light"
     },
     "output_type": "display_data"
    }
   ],
   "source": [
    "df['saldo_plp'].hist(color = 'g', bins = 50)"
   ]
  },
  {
   "cell_type": "code",
   "execution_count": 31,
   "metadata": {
    "scrolled": true
   },
   "outputs": [
    {
     "data": {
      "text/plain": [
       "count    451374.000000\n",
       "mean       1720.115913\n",
       "std       10755.266998\n",
       "min           0.000000\n",
       "25%           0.000000\n",
       "50%           0.000000\n",
       "75%           0.000000\n",
       "max      459937.460000\n",
       "Name: saldo_plp, dtype: float64"
      ]
     },
     "execution_count": 31,
     "metadata": {},
     "output_type": "execute_result"
    }
   ],
   "source": [
    "df['saldo_plp'].describe()"
   ]
  },
  {
   "cell_type": "markdown",
   "metadata": {},
   "source": [
    "## __ADAPTAMOS EL DF SEGUN LAS VARIABLES QUE VAMOS A NECESITAR__\n",
    "\n"
   ]
  },
  {
   "cell_type": "code",
   "execution_count": 32,
   "metadata": {},
   "outputs": [
    {
     "data": {
      "text/plain": [
       "Index(['cliente', 'saldo_captacion', 'gestor', 'codigo_cartera',\n",
       "       'saldo_financiacion', 'saldo_ffii', 'saldo_plp', 'lp_dom_ingresos',\n",
       "       'lp_tjta_cto', 'lp_tjt_rev', 'lp_rbos', 'lp_of_int', 'edad', 'dz',\n",
       "       'oficina', 'lp_seg_vida', 'lp_seg_acc', 'lp_seg_salud', 'lp_seg_hogar',\n",
       "       'lp_seg_auto', 'tipo_gestor_etiqueta', 'esta_carterizado_etiqueta',\n",
       "       'cliente_bbp_etiqueta', 'cartera_patron_etiqueta',\n",
       "       'digital_3_meses_etiqueta', 'camino_digital_etiqueta',\n",
       "       'marca_bp_etiqueta', 'marca_ccte_etiqueta', 'seg_valor_etiqueta',\n",
       "       'seg_recorrido_etiqueta'],\n",
       "      dtype='object')"
      ]
     },
     "execution_count": 32,
     "metadata": {},
     "output_type": "execute_result"
    }
   ],
   "source": [
    "df.columns"
   ]
  },
  {
   "cell_type": "code",
   "execution_count": 33,
   "metadata": {},
   "outputs": [],
   "source": [
    "df = df[['edad','saldo_captacion','saldo_financiacion','saldo_ffii','saldo_plp',\n",
    "              'lp_dom_ingresos','lp_tjta_cto','lp_tjt_rev','lp_rbos','lp_of_int',\n",
    "              'lp_seg_vida','lp_seg_acc','lp_seg_salud','lp_seg_auto','lp_seg_hogar',\n",
    "              'cartera_patron_etiqueta','digital_3_meses_etiqueta','camino_digital_etiqueta','marca_bp_etiqueta','marca_ccte_etiqueta',\n",
    "              'seg_valor_etiqueta','seg_recorrido_etiqueta']]\n",
    "               "
   ]
  },
  {
   "cell_type": "code",
   "execution_count": 34,
   "metadata": {
    "scrolled": true
   },
   "outputs": [
    {
     "data": {
      "text/html": [
       "<div>\n",
       "<style scoped>\n",
       "    .dataframe tbody tr th:only-of-type {\n",
       "        vertical-align: middle;\n",
       "    }\n",
       "\n",
       "    .dataframe tbody tr th {\n",
       "        vertical-align: top;\n",
       "    }\n",
       "\n",
       "    .dataframe thead th {\n",
       "        text-align: right;\n",
       "    }\n",
       "</style>\n",
       "<table border=\"1\" class=\"dataframe\">\n",
       "  <thead>\n",
       "    <tr style=\"text-align: right;\">\n",
       "      <th></th>\n",
       "      <th>edad</th>\n",
       "      <th>saldo_captacion</th>\n",
       "      <th>saldo_financiacion</th>\n",
       "      <th>saldo_ffii</th>\n",
       "      <th>saldo_plp</th>\n",
       "      <th>lp_dom_ingresos</th>\n",
       "      <th>lp_tjta_cto</th>\n",
       "      <th>lp_tjt_rev</th>\n",
       "      <th>lp_rbos</th>\n",
       "      <th>lp_of_int</th>\n",
       "      <th>...</th>\n",
       "      <th>lp_seg_salud</th>\n",
       "      <th>lp_seg_auto</th>\n",
       "      <th>lp_seg_hogar</th>\n",
       "      <th>cartera_patron_etiqueta</th>\n",
       "      <th>digital_3_meses_etiqueta</th>\n",
       "      <th>camino_digital_etiqueta</th>\n",
       "      <th>marca_bp_etiqueta</th>\n",
       "      <th>marca_ccte_etiqueta</th>\n",
       "      <th>seg_valor_etiqueta</th>\n",
       "      <th>seg_recorrido_etiqueta</th>\n",
       "    </tr>\n",
       "  </thead>\n",
       "  <tbody>\n",
       "    <tr>\n",
       "      <th>count</th>\n",
       "      <td>451374.000000</td>\n",
       "      <td>4.513740e+05</td>\n",
       "      <td>4.513740e+05</td>\n",
       "      <td>4.513740e+05</td>\n",
       "      <td>451374.000000</td>\n",
       "      <td>451374.000000</td>\n",
       "      <td>451374.000000</td>\n",
       "      <td>451374.000000</td>\n",
       "      <td>451374.000000</td>\n",
       "      <td>451374.000000</td>\n",
       "      <td>...</td>\n",
       "      <td>451374.000000</td>\n",
       "      <td>451374.000000</td>\n",
       "      <td>451374.000000</td>\n",
       "      <td>451374.000000</td>\n",
       "      <td>451374.000000</td>\n",
       "      <td>451374.000000</td>\n",
       "      <td>451374.000000</td>\n",
       "      <td>451374.000000</td>\n",
       "      <td>451374.000000</td>\n",
       "      <td>451374.000000</td>\n",
       "    </tr>\n",
       "    <tr>\n",
       "      <th>mean</th>\n",
       "      <td>57.296366</td>\n",
       "      <td>4.957242e+04</td>\n",
       "      <td>1.354013e+04</td>\n",
       "      <td>8.443670e+03</td>\n",
       "      <td>1720.115913</td>\n",
       "      <td>0.693447</td>\n",
       "      <td>0.543656</td>\n",
       "      <td>0.234265</td>\n",
       "      <td>0.856356</td>\n",
       "      <td>0.753249</td>\n",
       "      <td>...</td>\n",
       "      <td>0.004143</td>\n",
       "      <td>0.013645</td>\n",
       "      <td>0.129228</td>\n",
       "      <td>0.494051</td>\n",
       "      <td>0.496830</td>\n",
       "      <td>2.479751</td>\n",
       "      <td>0.278603</td>\n",
       "      <td>0.633902</td>\n",
       "      <td>0.718752</td>\n",
       "      <td>0.986862</td>\n",
       "    </tr>\n",
       "    <tr>\n",
       "      <th>std</th>\n",
       "      <td>20.613212</td>\n",
       "      <td>8.743404e+04</td>\n",
       "      <td>4.262418e+04</td>\n",
       "      <td>3.806693e+04</td>\n",
       "      <td>10755.266998</td>\n",
       "      <td>0.461063</td>\n",
       "      <td>0.498091</td>\n",
       "      <td>0.423539</td>\n",
       "      <td>0.350728</td>\n",
       "      <td>0.431121</td>\n",
       "      <td>...</td>\n",
       "      <td>0.064232</td>\n",
       "      <td>0.116012</td>\n",
       "      <td>0.335452</td>\n",
       "      <td>0.806837</td>\n",
       "      <td>0.499991</td>\n",
       "      <td>1.226279</td>\n",
       "      <td>0.448312</td>\n",
       "      <td>0.866855</td>\n",
       "      <td>0.883551</td>\n",
       "      <td>0.886218</td>\n",
       "    </tr>\n",
       "    <tr>\n",
       "      <th>min</th>\n",
       "      <td>0.000000</td>\n",
       "      <td>0.000000e+00</td>\n",
       "      <td>0.000000e+00</td>\n",
       "      <td>0.000000e+00</td>\n",
       "      <td>0.000000</td>\n",
       "      <td>0.000000</td>\n",
       "      <td>0.000000</td>\n",
       "      <td>0.000000</td>\n",
       "      <td>0.000000</td>\n",
       "      <td>0.000000</td>\n",
       "      <td>...</td>\n",
       "      <td>0.000000</td>\n",
       "      <td>0.000000</td>\n",
       "      <td>0.000000</td>\n",
       "      <td>0.000000</td>\n",
       "      <td>0.000000</td>\n",
       "      <td>0.000000</td>\n",
       "      <td>0.000000</td>\n",
       "      <td>0.000000</td>\n",
       "      <td>0.000000</td>\n",
       "      <td>0.000000</td>\n",
       "    </tr>\n",
       "    <tr>\n",
       "      <th>25%</th>\n",
       "      <td>44.000000</td>\n",
       "      <td>1.788805e+03</td>\n",
       "      <td>0.000000e+00</td>\n",
       "      <td>0.000000e+00</td>\n",
       "      <td>0.000000</td>\n",
       "      <td>0.000000</td>\n",
       "      <td>0.000000</td>\n",
       "      <td>0.000000</td>\n",
       "      <td>1.000000</td>\n",
       "      <td>1.000000</td>\n",
       "      <td>...</td>\n",
       "      <td>0.000000</td>\n",
       "      <td>0.000000</td>\n",
       "      <td>0.000000</td>\n",
       "      <td>0.000000</td>\n",
       "      <td>0.000000</td>\n",
       "      <td>1.000000</td>\n",
       "      <td>0.000000</td>\n",
       "      <td>0.000000</td>\n",
       "      <td>0.000000</td>\n",
       "      <td>0.000000</td>\n",
       "    </tr>\n",
       "    <tr>\n",
       "      <th>50%</th>\n",
       "      <td>60.000000</td>\n",
       "      <td>1.509917e+04</td>\n",
       "      <td>0.000000e+00</td>\n",
       "      <td>0.000000e+00</td>\n",
       "      <td>0.000000</td>\n",
       "      <td>1.000000</td>\n",
       "      <td>1.000000</td>\n",
       "      <td>0.000000</td>\n",
       "      <td>1.000000</td>\n",
       "      <td>1.000000</td>\n",
       "      <td>...</td>\n",
       "      <td>0.000000</td>\n",
       "      <td>0.000000</td>\n",
       "      <td>0.000000</td>\n",
       "      <td>0.000000</td>\n",
       "      <td>0.000000</td>\n",
       "      <td>3.000000</td>\n",
       "      <td>0.000000</td>\n",
       "      <td>0.000000</td>\n",
       "      <td>0.000000</td>\n",
       "      <td>1.000000</td>\n",
       "    </tr>\n",
       "    <tr>\n",
       "      <th>75%</th>\n",
       "      <td>73.000000</td>\n",
       "      <td>6.427437e+04</td>\n",
       "      <td>6.066900e+02</td>\n",
       "      <td>0.000000e+00</td>\n",
       "      <td>0.000000</td>\n",
       "      <td>1.000000</td>\n",
       "      <td>1.000000</td>\n",
       "      <td>0.000000</td>\n",
       "      <td>1.000000</td>\n",
       "      <td>1.000000</td>\n",
       "      <td>...</td>\n",
       "      <td>0.000000</td>\n",
       "      <td>0.000000</td>\n",
       "      <td>0.000000</td>\n",
       "      <td>1.000000</td>\n",
       "      <td>1.000000</td>\n",
       "      <td>3.000000</td>\n",
       "      <td>1.000000</td>\n",
       "      <td>2.000000</td>\n",
       "      <td>2.000000</td>\n",
       "      <td>2.000000</td>\n",
       "    </tr>\n",
       "    <tr>\n",
       "      <th>max</th>\n",
       "      <td>114.000000</td>\n",
       "      <td>5.096383e+06</td>\n",
       "      <td>2.896317e+06</td>\n",
       "      <td>2.848191e+06</td>\n",
       "      <td>459937.460000</td>\n",
       "      <td>1.000000</td>\n",
       "      <td>1.000000</td>\n",
       "      <td>1.000000</td>\n",
       "      <td>1.000000</td>\n",
       "      <td>1.000000</td>\n",
       "      <td>...</td>\n",
       "      <td>1.000000</td>\n",
       "      <td>1.000000</td>\n",
       "      <td>1.000000</td>\n",
       "      <td>2.000000</td>\n",
       "      <td>1.000000</td>\n",
       "      <td>4.000000</td>\n",
       "      <td>1.000000</td>\n",
       "      <td>2.000000</td>\n",
       "      <td>2.000000</td>\n",
       "      <td>3.000000</td>\n",
       "    </tr>\n",
       "  </tbody>\n",
       "</table>\n",
       "<p>8 rows × 22 columns</p>\n",
       "</div>"
      ],
      "text/plain": [
       "                edad  saldo_captacion  saldo_financiacion    saldo_ffii  \\\n",
       "count  451374.000000     4.513740e+05        4.513740e+05  4.513740e+05   \n",
       "mean       57.296366     4.957242e+04        1.354013e+04  8.443670e+03   \n",
       "std        20.613212     8.743404e+04        4.262418e+04  3.806693e+04   \n",
       "min         0.000000     0.000000e+00        0.000000e+00  0.000000e+00   \n",
       "25%        44.000000     1.788805e+03        0.000000e+00  0.000000e+00   \n",
       "50%        60.000000     1.509917e+04        0.000000e+00  0.000000e+00   \n",
       "75%        73.000000     6.427437e+04        6.066900e+02  0.000000e+00   \n",
       "max       114.000000     5.096383e+06        2.896317e+06  2.848191e+06   \n",
       "\n",
       "           saldo_plp  lp_dom_ingresos    lp_tjta_cto     lp_tjt_rev  \\\n",
       "count  451374.000000    451374.000000  451374.000000  451374.000000   \n",
       "mean     1720.115913         0.693447       0.543656       0.234265   \n",
       "std     10755.266998         0.461063       0.498091       0.423539   \n",
       "min         0.000000         0.000000       0.000000       0.000000   \n",
       "25%         0.000000         0.000000       0.000000       0.000000   \n",
       "50%         0.000000         1.000000       1.000000       0.000000   \n",
       "75%         0.000000         1.000000       1.000000       0.000000   \n",
       "max    459937.460000         1.000000       1.000000       1.000000   \n",
       "\n",
       "             lp_rbos      lp_of_int  ...   lp_seg_salud    lp_seg_auto  \\\n",
       "count  451374.000000  451374.000000  ...  451374.000000  451374.000000   \n",
       "mean        0.856356       0.753249  ...       0.004143       0.013645   \n",
       "std         0.350728       0.431121  ...       0.064232       0.116012   \n",
       "min         0.000000       0.000000  ...       0.000000       0.000000   \n",
       "25%         1.000000       1.000000  ...       0.000000       0.000000   \n",
       "50%         1.000000       1.000000  ...       0.000000       0.000000   \n",
       "75%         1.000000       1.000000  ...       0.000000       0.000000   \n",
       "max         1.000000       1.000000  ...       1.000000       1.000000   \n",
       "\n",
       "        lp_seg_hogar  cartera_patron_etiqueta  digital_3_meses_etiqueta  \\\n",
       "count  451374.000000            451374.000000             451374.000000   \n",
       "mean        0.129228                 0.494051                  0.496830   \n",
       "std         0.335452                 0.806837                  0.499991   \n",
       "min         0.000000                 0.000000                  0.000000   \n",
       "25%         0.000000                 0.000000                  0.000000   \n",
       "50%         0.000000                 0.000000                  0.000000   \n",
       "75%         0.000000                 1.000000                  1.000000   \n",
       "max         1.000000                 2.000000                  1.000000   \n",
       "\n",
       "       camino_digital_etiqueta  marca_bp_etiqueta  marca_ccte_etiqueta  \\\n",
       "count            451374.000000      451374.000000        451374.000000   \n",
       "mean                  2.479751           0.278603             0.633902   \n",
       "std                   1.226279           0.448312             0.866855   \n",
       "min                   0.000000           0.000000             0.000000   \n",
       "25%                   1.000000           0.000000             0.000000   \n",
       "50%                   3.000000           0.000000             0.000000   \n",
       "75%                   3.000000           1.000000             2.000000   \n",
       "max                   4.000000           1.000000             2.000000   \n",
       "\n",
       "       seg_valor_etiqueta  seg_recorrido_etiqueta  \n",
       "count       451374.000000           451374.000000  \n",
       "mean             0.718752                0.986862  \n",
       "std              0.883551                0.886218  \n",
       "min              0.000000                0.000000  \n",
       "25%              0.000000                0.000000  \n",
       "50%              0.000000                1.000000  \n",
       "75%              2.000000                2.000000  \n",
       "max              2.000000                3.000000  \n",
       "\n",
       "[8 rows x 22 columns]"
      ]
     },
     "execution_count": 34,
     "metadata": {},
     "output_type": "execute_result"
    }
   ],
   "source": [
    "df.describe()"
   ]
  },
  {
   "cell_type": "markdown",
   "metadata": {},
   "source": [
    "## NORMALIZACION\n",
    "\n",
    "Debemos llevar todas las variables a una escala comun. Para ello utilizamos MinMaxScaler."
   ]
  },
  {
   "cell_type": "code",
   "execution_count": 35,
   "metadata": {},
   "outputs": [],
   "source": [
    "from sklearn.preprocessing import MinMaxScaler"
   ]
  },
  {
   "cell_type": "code",
   "execution_count": 36,
   "metadata": {},
   "outputs": [],
   "source": [
    "scaler = MinMaxScaler()"
   ]
  },
  {
   "cell_type": "code",
   "execution_count": 37,
   "metadata": {},
   "outputs": [],
   "source": [
    "df_normalizado = scaler.fit_transform(df)"
   ]
  },
  {
   "cell_type": "code",
   "execution_count": 38,
   "metadata": {},
   "outputs": [],
   "source": [
    "columnas_datos_numericos = df.columns"
   ]
  },
  {
   "cell_type": "code",
   "execution_count": 39,
   "metadata": {},
   "outputs": [],
   "source": [
    "df_normalizado = pd.DataFrame(df_normalizado, columns=columnas_datos_numericos)"
   ]
  },
  {
   "cell_type": "code",
   "execution_count": 40,
   "metadata": {},
   "outputs": [
    {
     "data": {
      "text/html": [
       "<div>\n",
       "<style scoped>\n",
       "    .dataframe tbody tr th:only-of-type {\n",
       "        vertical-align: middle;\n",
       "    }\n",
       "\n",
       "    .dataframe tbody tr th {\n",
       "        vertical-align: top;\n",
       "    }\n",
       "\n",
       "    .dataframe thead th {\n",
       "        text-align: right;\n",
       "    }\n",
       "</style>\n",
       "<table border=\"1\" class=\"dataframe\">\n",
       "  <thead>\n",
       "    <tr style=\"text-align: right;\">\n",
       "      <th></th>\n",
       "      <th>edad</th>\n",
       "      <th>saldo_captacion</th>\n",
       "      <th>saldo_financiacion</th>\n",
       "      <th>saldo_ffii</th>\n",
       "      <th>saldo_plp</th>\n",
       "      <th>lp_dom_ingresos</th>\n",
       "      <th>lp_tjta_cto</th>\n",
       "      <th>lp_tjt_rev</th>\n",
       "      <th>lp_rbos</th>\n",
       "      <th>lp_of_int</th>\n",
       "      <th>...</th>\n",
       "      <th>lp_seg_salud</th>\n",
       "      <th>lp_seg_auto</th>\n",
       "      <th>lp_seg_hogar</th>\n",
       "      <th>cartera_patron_etiqueta</th>\n",
       "      <th>digital_3_meses_etiqueta</th>\n",
       "      <th>camino_digital_etiqueta</th>\n",
       "      <th>marca_bp_etiqueta</th>\n",
       "      <th>marca_ccte_etiqueta</th>\n",
       "      <th>seg_valor_etiqueta</th>\n",
       "      <th>seg_recorrido_etiqueta</th>\n",
       "    </tr>\n",
       "  </thead>\n",
       "  <tbody>\n",
       "    <tr>\n",
       "      <th>0</th>\n",
       "      <td>0.605263</td>\n",
       "      <td>0.260598</td>\n",
       "      <td>0.0</td>\n",
       "      <td>0.45682</td>\n",
       "      <td>0.031101</td>\n",
       "      <td>1.0</td>\n",
       "      <td>1.0</td>\n",
       "      <td>1.0</td>\n",
       "      <td>1.0</td>\n",
       "      <td>1.0</td>\n",
       "      <td>...</td>\n",
       "      <td>0.0</td>\n",
       "      <td>0.0</td>\n",
       "      <td>1.0</td>\n",
       "      <td>0.0</td>\n",
       "      <td>1.0</td>\n",
       "      <td>0.00</td>\n",
       "      <td>0.0</td>\n",
       "      <td>0.0</td>\n",
       "      <td>0.0</td>\n",
       "      <td>0.333333</td>\n",
       "    </tr>\n",
       "    <tr>\n",
       "      <th>1</th>\n",
       "      <td>0.710526</td>\n",
       "      <td>0.224126</td>\n",
       "      <td>0.0</td>\n",
       "      <td>0.39064</td>\n",
       "      <td>0.000000</td>\n",
       "      <td>0.0</td>\n",
       "      <td>0.0</td>\n",
       "      <td>0.0</td>\n",
       "      <td>1.0</td>\n",
       "      <td>1.0</td>\n",
       "      <td>...</td>\n",
       "      <td>0.0</td>\n",
       "      <td>0.0</td>\n",
       "      <td>0.0</td>\n",
       "      <td>0.0</td>\n",
       "      <td>1.0</td>\n",
       "      <td>0.00</td>\n",
       "      <td>0.0</td>\n",
       "      <td>0.0</td>\n",
       "      <td>0.0</td>\n",
       "      <td>0.000000</td>\n",
       "    </tr>\n",
       "    <tr>\n",
       "      <th>2</th>\n",
       "      <td>0.657895</td>\n",
       "      <td>0.224126</td>\n",
       "      <td>0.0</td>\n",
       "      <td>0.39064</td>\n",
       "      <td>0.000000</td>\n",
       "      <td>0.0</td>\n",
       "      <td>0.0</td>\n",
       "      <td>0.0</td>\n",
       "      <td>1.0</td>\n",
       "      <td>0.0</td>\n",
       "      <td>...</td>\n",
       "      <td>0.0</td>\n",
       "      <td>0.0</td>\n",
       "      <td>0.0</td>\n",
       "      <td>1.0</td>\n",
       "      <td>0.0</td>\n",
       "      <td>0.75</td>\n",
       "      <td>0.0</td>\n",
       "      <td>1.0</td>\n",
       "      <td>0.0</td>\n",
       "      <td>0.333333</td>\n",
       "    </tr>\n",
       "  </tbody>\n",
       "</table>\n",
       "<p>3 rows × 22 columns</p>\n",
       "</div>"
      ],
      "text/plain": [
       "       edad  saldo_captacion  saldo_financiacion  saldo_ffii  saldo_plp  \\\n",
       "0  0.605263         0.260598                 0.0     0.45682   0.031101   \n",
       "1  0.710526         0.224126                 0.0     0.39064   0.000000   \n",
       "2  0.657895         0.224126                 0.0     0.39064   0.000000   \n",
       "\n",
       "   lp_dom_ingresos  lp_tjta_cto  lp_tjt_rev  lp_rbos  lp_of_int  ...  \\\n",
       "0              1.0          1.0         1.0      1.0        1.0  ...   \n",
       "1              0.0          0.0         0.0      1.0        1.0  ...   \n",
       "2              0.0          0.0         0.0      1.0        0.0  ...   \n",
       "\n",
       "   lp_seg_salud  lp_seg_auto  lp_seg_hogar  cartera_patron_etiqueta  \\\n",
       "0           0.0          0.0           1.0                      0.0   \n",
       "1           0.0          0.0           0.0                      0.0   \n",
       "2           0.0          0.0           0.0                      1.0   \n",
       "\n",
       "   digital_3_meses_etiqueta  camino_digital_etiqueta  marca_bp_etiqueta  \\\n",
       "0                       1.0                     0.00                0.0   \n",
       "1                       1.0                     0.00                0.0   \n",
       "2                       0.0                     0.75                0.0   \n",
       "\n",
       "   marca_ccte_etiqueta  seg_valor_etiqueta  seg_recorrido_etiqueta  \n",
       "0                  0.0                 0.0                0.333333  \n",
       "1                  0.0                 0.0                0.000000  \n",
       "2                  1.0                 0.0                0.333333  \n",
       "\n",
       "[3 rows x 22 columns]"
      ]
     },
     "execution_count": 40,
     "metadata": {},
     "output_type": "execute_result"
    }
   ],
   "source": [
    "df_normalizado.head(3)"
   ]
  },
  {
   "cell_type": "markdown",
   "metadata": {},
   "source": [
    "## PCA No aplicamos por no mejorar el resultado en ninguno de los modelos estudiados.\n",
    "\n",
    "Despues de haber reducido el Data Frame quedandonos unicamente con las columnas necesarias para el estudio del modelo, aun asi tenemos 22 variables que vamos a intentar reducir utilizando PCA para reducir la dimensionalidad. Compararemos si la utilizacion del PCA mejora o no el resultado.\n"
   ]
  },
  {
   "cell_type": "code",
   "execution_count": 41,
   "metadata": {},
   "outputs": [],
   "source": [
    "#from sklearn.decomposition import PCA"
   ]
  },
  {
   "cell_type": "code",
   "execution_count": 42,
   "metadata": {},
   "outputs": [],
   "source": [
    "#df_sin_target = df_normalizado.drop(['lp_seg_hogar'], axis = 1)"
   ]
  },
  {
   "cell_type": "code",
   "execution_count": 43,
   "metadata": {},
   "outputs": [],
   "source": [
    "#Instanciamos objeto PCA y aplicamos\n",
    "#pca = PCA(15) # n = 10 ponemos como numero de pcas 10 \n",
    "#pca.fit(df_sin_target) # obtener los componentes principales\n",
    "#df_transforming = pca.transform(df_sin_target) # convertimos nuestros datos con las nuevas dimensiones de PCA"
   ]
  },
  {
   "cell_type": "code",
   "execution_count": 44,
   "metadata": {},
   "outputs": [],
   "source": [
    "#pca.components_[5]"
   ]
  },
  {
   "cell_type": "code",
   "execution_count": 45,
   "metadata": {},
   "outputs": [],
   "source": [
    "#list(zip(df_sin_target.columns, df_transforming[0]))"
   ]
  },
  {
   "cell_type": "code",
   "execution_count": 46,
   "metadata": {},
   "outputs": [],
   "source": [
    "#print(\"shape of X_pca\", df_transforming.shape)\n",
    "#expl = pca.explained_variance_ratio_\n",
    "#print(expl)\n",
    "#print('suma:',sum(expl[0:15]))\n",
    "#Vemos que con 5 componentes tenemos algo mas del 85% de varianza explicada"
   ]
  },
  {
   "cell_type": "code",
   "execution_count": 47,
   "metadata": {
    "scrolled": true
   },
   "outputs": [],
   "source": [
    "#graficamos el acumulado de varianza explicada en las nuevas dimensiones\n",
    "#plt.plot(np.cumsum(pca.explained_variance_ratio_))\n",
    "#plt.xlabel('number of components')\n",
    "#plt.ylabel('cumulative explained variance')\n",
    "#plt.show() "
   ]
  },
  {
   "cell_type": "code",
   "execution_count": 48,
   "metadata": {},
   "outputs": [],
   "source": [
    "#df_pca = pd.DataFrame (data = df_transforming, columns = ['1','2','3','4','5','6','7','8','9',\n",
    "#                                                          '10','11','12','13','14','15','16',\n",
    "#                                                          '17','18','19','20'])"
   ]
  },
  {
   "cell_type": "code",
   "execution_count": 49,
   "metadata": {},
   "outputs": [],
   "source": [
    "#finalDf = pd.concat ([df_pca, df_normalizado [['lp_seg_hogar']]], axis = 1)"
   ]
  },
  {
   "cell_type": "code",
   "execution_count": 50,
   "metadata": {
    "scrolled": true
   },
   "outputs": [],
   "source": [
    "#finalDf.columns"
   ]
  },
  {
   "cell_type": "code",
   "execution_count": 51,
   "metadata": {},
   "outputs": [],
   "source": [
    "#finalDf = finalDf.drop(['15','16','17','18','19','20'], axis = 1)"
   ]
  },
  {
   "cell_type": "markdown",
   "metadata": {},
   "source": [
    "## MODELO"
   ]
  },
  {
   "cell_type": "code",
   "execution_count": 52,
   "metadata": {},
   "outputs": [],
   "source": [
    "from sklearn.ensemble import RandomForestClassifier\n",
    "from sklearn.model_selection import train_test_split"
   ]
  },
  {
   "cell_type": "code",
   "execution_count": 53,
   "metadata": {},
   "outputs": [
    {
     "name": "stdout",
     "output_type": "stream",
     "text": [
      "Datos X = 9478854 (451374, 21)\n",
      "Datos y = 451374 (451374,)\n"
     ]
    }
   ],
   "source": [
    "X = df_normalizado.drop(['lp_seg_hogar'], axis = 1)\n",
    "y= df_normalizado['lp_seg_hogar']\n",
    "print('Datos X =', X.size, X.shape)\n",
    "print('Datos y =', y.size, y.shape)"
   ]
  },
  {
   "cell_type": "code",
   "execution_count": 54,
   "metadata": {},
   "outputs": [],
   "source": [
    "test_size = 0.2\n",
    "seed = 47\n",
    "X_train, X_test, y_train, y_test = train_test_split(X, y, test_size = test_size, random_state = seed)"
   ]
  },
  {
   "cell_type": "code",
   "execution_count": 55,
   "metadata": {},
   "outputs": [],
   "source": [
    "clfforest = RandomForestClassifier(class_weight = 'balanced')"
   ]
  },
  {
   "cell_type": "code",
   "execution_count": 56,
   "metadata": {},
   "outputs": [
    {
     "data": {
      "text/plain": [
       "RandomForestClassifier(class_weight='balanced')"
      ]
     },
     "execution_count": 56,
     "metadata": {},
     "output_type": "execute_result"
    }
   ],
   "source": [
    "clfforest.fit(X_train, y_train)"
   ]
  },
  {
   "cell_type": "code",
   "execution_count": 57,
   "metadata": {},
   "outputs": [
    {
     "data": {
      "text/plain": [
       "array([1., 1., 0., ..., 0., 0., 0.])"
      ]
     },
     "execution_count": 57,
     "metadata": {},
     "output_type": "execute_result"
    }
   ],
   "source": [
    "clfforest.predict(X_test)"
   ]
  },
  {
   "cell_type": "code",
   "execution_count": 58,
   "metadata": {},
   "outputs": [
    {
     "data": {
      "text/plain": [
       "array([0.84, 0.74, 0.  , ..., 0.06, 0.  , 0.19])"
      ]
     },
     "execution_count": 58,
     "metadata": {},
     "output_type": "execute_result"
    }
   ],
   "source": [
    "clfforest.predict_proba(X_test)[:, 1]"
   ]
  },
  {
   "cell_type": "code",
   "execution_count": 59,
   "metadata": {},
   "outputs": [
    {
     "data": {
      "text/plain": [
       "array([[0.16, 0.84],\n",
       "       [0.26, 0.74],\n",
       "       [1.  , 0.  ],\n",
       "       ...,\n",
       "       [0.94, 0.06],\n",
       "       [1.  , 0.  ],\n",
       "       [0.81, 0.19]])"
      ]
     },
     "execution_count": 59,
     "metadata": {},
     "output_type": "execute_result"
    }
   ],
   "source": [
    "clfforest.predict_proba(X_test)"
   ]
  },
  {
   "cell_type": "code",
   "execution_count": 60,
   "metadata": {},
   "outputs": [
    {
     "name": "stdout",
     "output_type": "stream",
     "text": [
      "[[76236  2412]\n",
      " [ 7381  4246]]\n"
     ]
    },
    {
     "data": {
      "image/png": "[encoded data removed]",
      "text/plain": [
       "<Figure size 288x288 with 2 Axes>"
      ]
     },
     "metadata": {
      "needs_background": "light"
     },
     "output_type": "display_data"
    }
   ],
   "source": [
    "matriz_confusion_clfforest = confusion_matrix(y_test,clfforest.predict(X_test))\n",
    "print(matriz_confusion_clfforest)\n",
    "pl.matshow(confusion_matrix(y_test,clfforest.predict(X_test)))\n",
    "pl.title('Matriz de Confusion')\n",
    "pl.colorbar()\n",
    "pl.show()"
   ]
  },
  {
   "cell_type": "code",
   "execution_count": 61,
   "metadata": {},
   "outputs": [
    {
     "name": "stdout",
     "output_type": "stream",
     "text": [
      "========= CLFFOREST ================\n",
      "accuracy_score =  0.8915203544724453\n",
      "====================================\n",
      "precision = 0.6377290477620907\n",
      "====================================\n",
      "recall = 0.3651844843897824\n",
      "====================================\n",
      "f1_score = 0.464424391577796\n",
      "====================================\n",
      "roc_auc_score = 0.8810129857838198\n",
      "====================================\n"
     ]
    }
   ],
   "source": [
    "print('========= CLFFOREST ================')\n",
    "print ('accuracy_score = ', accuracy_score(y_test,clfforest.predict(X_test)))\n",
    "print('====================================')\n",
    "print('precision =', precision_score(y_test,clfforest.predict(X_test)))\n",
    "print('====================================')\n",
    "print('recall =', recall_score(y_test,clfforest.predict(X_test)))\n",
    "print('====================================')\n",
    "print('f1_score =', f1_score(y_test,clfforest.predict(X_test)))\n",
    "print('====================================')\n",
    "print('roc_auc_score =', roc_auc_score(y_test,clfforest.predict_proba(X_test)[:, 1]))\n",
    "print('====================================')"
   ]
  },
  {
   "cell_type": "markdown",
   "metadata": {},
   "source": [
    "## GridSearchCV  \n"
   ]
  },
  {
   "cell_type": "code",
   "execution_count": 62,
   "metadata": {},
   "outputs": [],
   "source": [
    "from sklearn.model_selection import GridSearchCV"
   ]
  },
  {
   "cell_type": "code",
   "execution_count": 63,
   "metadata": {},
   "outputs": [],
   "source": [
    "# RandomForestClassifier() solo para ver los parametros"
   ]
  },
  {
   "cell_type": "code",
   "execution_count": 64,
   "metadata": {},
   "outputs": [],
   "source": [
    "forest_grid_params = {\n",
    "    'n_estimators' : [100,125],\n",
    "    'max_features' : [\"auto\", \"log2\"],\n",
    "    'criterion' : ['gini', 'entropy'],\n",
    "    'max_depth' : [2,4,6,8,10],\n",
    "    #'max_depth' : [None],\n",
    "    #'min_samples_split' : [2,4,6,8,10],\n",
    "    'min_samples_split' :[2]\n",
    "    #'min_samples_leaf' : [20,25,30]\n",
    "    }\n",
    "\n",
    "forestgs = GridSearchCV(\n",
    "        clfforest,\n",
    "        forest_grid_params,\n",
    "        verbose = 1,\n",
    "        cv = 3,\n",
    "        n_jobs = -1\n",
    "        )\n"
   ]
  },
  {
   "cell_type": "code",
   "execution_count": 65,
   "metadata": {
    "scrolled": false
   },
   "outputs": [
    {
     "name": "stdout",
     "output_type": "stream",
     "text": [
      "Fitting 3 folds for each of 40 candidates, totalling 120 fits\n"
     ]
    },
    {
     "name": "stderr",
     "output_type": "stream",
     "text": [
      "[Parallel(n_jobs=-1)]: Using backend LokyBackend with 6 concurrent workers.\n",
      "[Parallel(n_jobs=-1)]: Done  38 tasks      | elapsed:  2.0min\n",
      "[Parallel(n_jobs=-1)]: Done 120 out of 120 | elapsed:  8.9min finished\n"
     ]
    },
    {
     "data": {
      "text/plain": [
       "GridSearchCV(cv=3, estimator=RandomForestClassifier(class_weight='balanced'),\n",
       "             n_jobs=-1,\n",
       "             param_grid={'criterion': ['gini', 'entropy'],\n",
       "                         'max_depth': [2, 4, 6, 8, 10],\n",
       "                         'max_features': ['auto', 'log2'],\n",
       "                         'min_samples_split': [2], 'n_estimators': [100, 125]},\n",
       "             verbose=1)"
      ]
     },
     "execution_count": 65,
     "metadata": {},
     "output_type": "execute_result"
    }
   ],
   "source": [
    "forestgs.fit(X_train,y_train)"
   ]
  },
  {
   "cell_type": "code",
   "execution_count": 66,
   "metadata": {},
   "outputs": [
    {
     "data": {
      "text/plain": [
       "0.7303066564523893"
      ]
     },
     "execution_count": 66,
     "metadata": {},
     "output_type": "execute_result"
    }
   ],
   "source": [
    "forestgs.best_score_"
   ]
  },
  {
   "cell_type": "code",
   "execution_count": 67,
   "metadata": {},
   "outputs": [
    {
     "data": {
      "text/plain": [
       "RandomForestClassifier(class_weight='balanced', max_depth=10, n_estimators=125)"
      ]
     },
     "execution_count": 67,
     "metadata": {},
     "output_type": "execute_result"
    }
   ],
   "source": [
    "forestgs.best_estimator_"
   ]
  },
  {
   "cell_type": "code",
   "execution_count": 68,
   "metadata": {},
   "outputs": [
    {
     "data": {
      "text/plain": [
       "{'criterion': 'gini',\n",
       " 'max_depth': 10,\n",
       " 'max_features': 'auto',\n",
       " 'min_samples_split': 2,\n",
       " 'n_estimators': 125}"
      ]
     },
     "execution_count": 68,
     "metadata": {},
     "output_type": "execute_result"
    }
   ],
   "source": [
    "forestgs.best_params_"
   ]
  },
  {
   "cell_type": "markdown",
   "metadata": {},
   "source": [
    "## Hacemos el modelo con los mejores parametros"
   ]
  },
  {
   "cell_type": "code",
   "execution_count": 69,
   "metadata": {},
   "outputs": [],
   "source": [
    "clfforest = RandomForestClassifier(class_weight = 'balanced', criterion = 'gini',\n",
    "                                  max_depth = 2, max_features = 'log2', min_samples_split = 2,\n",
    "                                  n_estimators = 100)"
   ]
  },
  {
   "cell_type": "code",
   "execution_count": 70,
   "metadata": {},
   "outputs": [
    {
     "data": {
      "text/plain": [
       "RandomForestClassifier(class_weight='balanced', max_depth=2,\n",
       "                       max_features='log2')"
      ]
     },
     "execution_count": 70,
     "metadata": {},
     "output_type": "execute_result"
    }
   ],
   "source": [
    "clfforest.fit(X_train, y_train)"
   ]
  },
  {
   "cell_type": "code",
   "execution_count": 71,
   "metadata": {},
   "outputs": [
    {
     "data": {
      "text/plain": [
       "array([1., 1., 0., ..., 0., 0., 1.])"
      ]
     },
     "execution_count": 71,
     "metadata": {},
     "output_type": "execute_result"
    }
   ],
   "source": [
    "clfforest.predict(X_test)"
   ]
  },
  {
   "cell_type": "code",
   "execution_count": 72,
   "metadata": {},
   "outputs": [
    {
     "data": {
      "text/plain": [
       "array([0.66296658, 0.64041255, 0.26215342, ..., 0.47048302, 0.3479227 ,\n",
       "       0.55827987])"
      ]
     },
     "execution_count": 72,
     "metadata": {},
     "output_type": "execute_result"
    }
   ],
   "source": [
    "clfforest.predict_proba(X_test)[:, 1]"
   ]
  },
  {
   "cell_type": "code",
   "execution_count": 73,
   "metadata": {},
   "outputs": [
    {
     "name": "stdout",
     "output_type": "stream",
     "text": [
      "[[50990 27658]\n",
      " [ 1095 10532]]\n"
     ]
    },
    {
     "data": {
      "image/png": "[encoded data removed]",
      "text/plain": [
       "<Figure size 288x288 with 2 Axes>"
      ]
     },
     "metadata": {
      "needs_background": "light"
     },
     "output_type": "display_data"
    }
   ],
   "source": [
    "matriz_confusion_clfforest = confusion_matrix(y_test,clfforest.predict(X_test))\n",
    "print(matriz_confusion_clfforest)\n",
    "pl.matshow(confusion_matrix(y_test,clfforest.predict(X_test)))\n",
    "pl.title('Matriz de Confusion')\n",
    "pl.colorbar()\n",
    "pl.show()"
   ]
  },
  {
   "cell_type": "markdown",
   "metadata": {},
   "source": [
    "## Metrics: Cross validation"
   ]
  },
  {
   "cell_type": "code",
   "execution_count": 74,
   "metadata": {},
   "outputs": [
    {
     "data": {
      "text/plain": [
       "(0.27434190826716487, 0.9128235899194239, 0.4156492855106477)"
      ]
     },
     "execution_count": 74,
     "metadata": {},
     "output_type": "execute_result"
    }
   ],
   "source": [
    "from sklearn.model_selection import cross_val_score\n",
    "cross_val_score_precision = cross_val_score(clfforest,X,y,cv=5,scoring=\"precision\").mean()\n",
    "cross_val_score_recall = cross_val_score(clfforest,X,y,cv=5,scoring=\"recall\").mean()\n",
    "cross_val_score_f1 = cross_val_score(clfforest,X,y,cv=5,scoring=\"f1\").mean() \n",
    "cross_val_score_precision , cross_val_score_recall, cross_val_score_f1"
   ]
  },
  {
   "cell_type": "code",
   "execution_count": 76,
   "metadata": {},
   "outputs": [
    {
     "name": "stdout",
     "output_type": "stream",
     "text": [
      "========= CLFFOREST ================\n",
      "accuracy_score =  0.6814954306286347\n",
      "====================================\n",
      "precision = 0.27577899973815134\n",
      "====================================\n",
      "recall = 0.905822654167025\n",
      "====================================\n",
      "f1_score = 0.4228275488287131\n",
      "====================================\n",
      "roc_auc_score = 0.832609311215218\n",
      "====================================\n",
      "classification_report\n",
      "              precision    recall  f1-score   support\n",
      "\n",
      "         0.0       0.98      0.65      0.78     78648\n",
      "         1.0       0.28      0.91      0.42     11627\n",
      "\n",
      "    accuracy                           0.68     90275\n",
      "   macro avg       0.63      0.78      0.60     90275\n",
      "weighted avg       0.89      0.68      0.73     90275\n",
      "\n"
     ]
    }
   ],
   "source": [
    "print('========= CLFFOREST ================')\n",
    "print ('accuracy_score = ', accuracy_score(y_test,clfforest.predict(X_test)))\n",
    "print('====================================')\n",
    "print('precision =', precision_score(y_test,clfforest.predict(X_test)))\n",
    "print('====================================')\n",
    "print('recall =', recall_score(y_test,clfforest.predict(X_test)))\n",
    "print('====================================')\n",
    "print('f1_score =', f1_score(y_test,clfforest.predict(X_test)))\n",
    "print('====================================')\n",
    "print('roc_auc_score =', roc_auc_score(y_test,clfforest.predict_proba(X_test)[:, 1]))\n",
    "print('====================================')\n",
    "print('classification_report')\n",
    "print(classification_report(y_test, clfforest.predict(X_test)))"
   ]
  },
  {
   "cell_type": "markdown",
   "metadata": {},
   "source": [
    "## Pintamos Curva Roc"
   ]
  },
  {
   "cell_type": "code",
   "execution_count": 77,
   "metadata": {},
   "outputs": [
    {
     "data": {
      "text/plain": [
       "[<matplotlib.lines.Line2D at 0x7f9887c61ed0>]"
      ]
     },
     "execution_count": 77,
     "metadata": {},
     "output_type": "execute_result"
    },
    {
     "data": {
      "image/png": "[encoded data removed]",
      "text/plain": [
       "<Figure size 432x288 with 1 Axes>"
      ]
     },
     "metadata": {
      "needs_background": "light"
     },
     "output_type": "display_data"
    }
   ],
   "source": [
    "# We chose the target\n",
    "target_pos = 1 # Or 0 for the other class\n",
    "fp,tp,_ = roc_curve(y_test,clfforest.predict_proba(X_test)[:,target_pos])\n",
    "plt.plot(fp,tp)\n",
    "fp,tp,_ = roc_curve(y_test,clfforest.predict_proba(X_test)[:,target_pos])\n",
    "plt.plot(fp,tp)"
   ]
  },
  {
   "cell_type": "code",
   "execution_count": null,
   "metadata": {},
   "outputs": [],
   "source": []
  }
 ],
 "metadata": {
  "kernelspec": {
   "display_name": "Python 3",
   "language": "python",
   "name": "python3"
  },
  "language_info": {
   "codemirror_mode": {
    "name": "ipython",
    "version": 3
   },
   "file_extension": ".py",
   "mimetype": "text/x-python",
   "name": "python",
   "nbconvert_exporter": "python",
   "pygments_lexer": "ipython3",
   "version": "3.7.7"
  }
 },
 "nbformat": 4,
 "nbformat_minor": 2
}
