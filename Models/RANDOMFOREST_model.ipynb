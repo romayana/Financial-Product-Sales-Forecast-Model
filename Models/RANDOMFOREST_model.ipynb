{
 "cells": [
  {
   "cell_type": "markdown",
   "metadata": {},
   "source": [
    "# MODELO CLASIFICACION RANDOM FOREST\n",
    "\n",
    "\n",
    "Presentamos e Importamos todas las librerias que vamos a necesitar a lo largo del modelo.\n",
    "\n"
   ]
  },
  {
   "cell_type": "code",
   "execution_count": 1,
   "metadata": {},
   "outputs": [],
   "source": [
    "import pandas as pd\n",
    "import numpy as np\n",
    "\n",
    "#Libreria Metricas\n",
    "from sklearn.metrics import f1_score, recall_score, precision_score, accuracy_score\n",
    "from sklearn.metrics import roc_auc_score, roc_curve\n",
    "from sklearn.metrics import confusion_matrix\n",
    "from sklearn.metrics import classification_report\n",
    "from sklearn.metrics import auc\n",
    "from sklearn.model_selection import KFold\n",
    "from sklearn.metrics import log_loss\n",
    "\n",
    "#Librerias Visualizacion\n",
    "import matplotlib.pyplot as plt\n",
    "import pylab as pl\n",
    "import seaborn as sns \n",
    "from pylab import rcParams \n",
    "from matplotlib import pyplot\n",
    "\n",
    "#Librerias Modelos\n",
    "from sklearn.linear_model import LogisticRegression\n",
    "from sklearn.neighbors import KNeighborsRegressor\n",
    "from sklearn.tree import DecisionTreeClassifier \n",
    "from sklearn.ensemble import RandomForestClassifier\n",
    "from sklearn.model_selection import train_test_split \n",
    "\n"
   ]
  },
  {
   "cell_type": "markdown",
   "metadata": {},
   "source": [
    "Leemos y presentamos nuestra Base de Datos. Mostramos las 5 primeras filas, el tipo y el nombre de las Columnas / variables que la componen. Las variables que se refierne a unidades de negocio no las vamos a utilizar en el modelo por lo que las transformamos a Objeto para un mejor entendimiento y segmentacion de las propias variables. "
   ]
  },
  {
   "cell_type": "code",
   "execution_count": 2,
   "metadata": {},
   "outputs": [],
   "source": [
    "df = pd.read_csv('/home/dsc/Master-Kschool/TFM/Financial-Product-Sales-Forecast-Model/0rigin_data/cleanned_data/df.tfm')"
   ]
  },
  {
   "cell_type": "code",
   "execution_count": 3,
   "metadata": {},
   "outputs": [],
   "source": [
    "# Transformamos variables unidad de negocio en object ya que no queremos utilizarlas.\n",
    "df[[\"cliente\", \"gestor\",\n",
    "    'codigo_cartera', 'dz', 'oficina']] = df[[\"cliente\", \"gestor\",\n",
    "                                              'codigo_cartera', 'dz', 'oficina']].astype(object);"
   ]
  },
  {
   "cell_type": "code",
   "execution_count": 4,
   "metadata": {
    "scrolled": true
   },
   "outputs": [
    {
     "data": {
      "text/html": [
       "<div>\n",
       "<style scoped>\n",
       "    .dataframe tbody tr th:only-of-type {\n",
       "        vertical-align: middle;\n",
       "    }\n",
       "\n",
       "    .dataframe tbody tr th {\n",
       "        vertical-align: top;\n",
       "    }\n",
       "\n",
       "    .dataframe thead th {\n",
       "        text-align: right;\n",
       "    }\n",
       "</style>\n",
       "<table border=\"1\" class=\"dataframe\">\n",
       "  <thead>\n",
       "    <tr style=\"text-align: right;\">\n",
       "      <th></th>\n",
       "      <th>cliente</th>\n",
       "      <th>saldo_captacion</th>\n",
       "      <th>esta_carterizado</th>\n",
       "      <th>cliente_bbp</th>\n",
       "      <th>tipo_gestor</th>\n",
       "      <th>gestor</th>\n",
       "      <th>cartera_patron</th>\n",
       "      <th>codigo_cartera</th>\n",
       "      <th>digital_3_meses</th>\n",
       "      <th>camino_digital</th>\n",
       "      <th>...</th>\n",
       "      <th>edad</th>\n",
       "      <th>seg_valor</th>\n",
       "      <th>seg_recorrido</th>\n",
       "      <th>dz</th>\n",
       "      <th>oficina</th>\n",
       "      <th>lp_seg_vida</th>\n",
       "      <th>lp_seg_acc</th>\n",
       "      <th>lp_seg_salud</th>\n",
       "      <th>lp_seg_hogar</th>\n",
       "      <th>lp_seg_auto</th>\n",
       "    </tr>\n",
       "  </thead>\n",
       "  <tbody>\n",
       "    <tr>\n",
       "      <th>0</th>\n",
       "      <td>1</td>\n",
       "      <td>1328106.49</td>\n",
       "      <td>SI</td>\n",
       "      <td>NO</td>\n",
       "      <td>ASESOR FINANCIERO</td>\n",
       "      <td>18287.0</td>\n",
       "      <td>ASESORAMIENTO FINANCIERO</td>\n",
       "      <td>14881.0</td>\n",
       "      <td>SI</td>\n",
       "      <td>COMPRADOR</td>\n",
       "      <td>...</td>\n",
       "      <td>69.0</td>\n",
       "      <td>ALTO</td>\n",
       "      <td>BAJO RECORRIDO</td>\n",
       "      <td>2</td>\n",
       "      <td>210</td>\n",
       "      <td>0</td>\n",
       "      <td>0</td>\n",
       "      <td>0</td>\n",
       "      <td>1</td>\n",
       "      <td>0</td>\n",
       "    </tr>\n",
       "    <tr>\n",
       "      <th>1</th>\n",
       "      <td>2</td>\n",
       "      <td>1142234.34</td>\n",
       "      <td>SI</td>\n",
       "      <td>NO</td>\n",
       "      <td>ASESOR FINANCIERO</td>\n",
       "      <td>18287.0</td>\n",
       "      <td>ASESORAMIENTO FINANCIERO</td>\n",
       "      <td>14881.0</td>\n",
       "      <td>SI</td>\n",
       "      <td>COMPRADOR</td>\n",
       "      <td>...</td>\n",
       "      <td>81.0</td>\n",
       "      <td>ALTO</td>\n",
       "      <td>ALTO RECORRIDO</td>\n",
       "      <td>2</td>\n",
       "      <td>210</td>\n",
       "      <td>0</td>\n",
       "      <td>0</td>\n",
       "      <td>0</td>\n",
       "      <td>0</td>\n",
       "      <td>0</td>\n",
       "    </tr>\n",
       "    <tr>\n",
       "      <th>2</th>\n",
       "      <td>3</td>\n",
       "      <td>1142234.34</td>\n",
       "      <td>SI</td>\n",
       "      <td>NO</td>\n",
       "      <td>ASESOR FINANCIERO</td>\n",
       "      <td>18287.0</td>\n",
       "      <td>TUTELA</td>\n",
       "      <td>28332.0</td>\n",
       "      <td>NO</td>\n",
       "      <td>SIN USO</td>\n",
       "      <td>...</td>\n",
       "      <td>75.0</td>\n",
       "      <td>ALTO</td>\n",
       "      <td>BAJO RECORRIDO</td>\n",
       "      <td>2</td>\n",
       "      <td>210</td>\n",
       "      <td>0</td>\n",
       "      <td>0</td>\n",
       "      <td>0</td>\n",
       "      <td>0</td>\n",
       "      <td>0</td>\n",
       "    </tr>\n",
       "    <tr>\n",
       "      <th>3</th>\n",
       "      <td>4</td>\n",
       "      <td>1340503.88</td>\n",
       "      <td>SI</td>\n",
       "      <td>NO</td>\n",
       "      <td>ASESOR FINANCIERO</td>\n",
       "      <td>41475.0</td>\n",
       "      <td>ASESORAMIENTO FINANCIERO</td>\n",
       "      <td>14204.0</td>\n",
       "      <td>NO</td>\n",
       "      <td>SIN USO</td>\n",
       "      <td>...</td>\n",
       "      <td>94.0</td>\n",
       "      <td>ALTO</td>\n",
       "      <td>BAJO RECORRIDO</td>\n",
       "      <td>2</td>\n",
       "      <td>210</td>\n",
       "      <td>0</td>\n",
       "      <td>0</td>\n",
       "      <td>0</td>\n",
       "      <td>0</td>\n",
       "      <td>0</td>\n",
       "    </tr>\n",
       "    <tr>\n",
       "      <th>4</th>\n",
       "      <td>5</td>\n",
       "      <td>1758517.70</td>\n",
       "      <td>SI</td>\n",
       "      <td>NO</td>\n",
       "      <td>ASESOR FINANCIERO</td>\n",
       "      <td>39000.0</td>\n",
       "      <td>ASESORAMIENTO FINANCIERO</td>\n",
       "      <td>14219.0</td>\n",
       "      <td>SI</td>\n",
       "      <td>COMPRADOR</td>\n",
       "      <td>...</td>\n",
       "      <td>64.0</td>\n",
       "      <td>ALTO</td>\n",
       "      <td>BAJO RECORRIDO</td>\n",
       "      <td>2</td>\n",
       "      <td>210</td>\n",
       "      <td>0</td>\n",
       "      <td>0</td>\n",
       "      <td>0</td>\n",
       "      <td>0</td>\n",
       "      <td>0</td>\n",
       "    </tr>\n",
       "  </tbody>\n",
       "</table>\n",
       "<p>5 rows × 30 columns</p>\n",
       "</div>"
      ],
      "text/plain": [
       "  cliente  saldo_captacion esta_carterizado cliente_bbp        tipo_gestor  \\\n",
       "0       1       1328106.49               SI          NO  ASESOR FINANCIERO   \n",
       "1       2       1142234.34               SI          NO  ASESOR FINANCIERO   \n",
       "2       3       1142234.34               SI          NO  ASESOR FINANCIERO   \n",
       "3       4       1340503.88               SI          NO  ASESOR FINANCIERO   \n",
       "4       5       1758517.70               SI          NO  ASESOR FINANCIERO   \n",
       "\n",
       "    gestor            cartera_patron codigo_cartera digital_3_meses  \\\n",
       "0  18287.0  ASESORAMIENTO FINANCIERO        14881.0              SI   \n",
       "1  18287.0  ASESORAMIENTO FINANCIERO        14881.0              SI   \n",
       "2  18287.0                    TUTELA        28332.0              NO   \n",
       "3  41475.0  ASESORAMIENTO FINANCIERO        14204.0              NO   \n",
       "4  39000.0  ASESORAMIENTO FINANCIERO        14219.0              SI   \n",
       "\n",
       "  camino_digital  ...  edad  seg_valor   seg_recorrido  dz  oficina  \\\n",
       "0      COMPRADOR  ...  69.0       ALTO  BAJO RECORRIDO   2      210   \n",
       "1      COMPRADOR  ...  81.0       ALTO  ALTO RECORRIDO   2      210   \n",
       "2        SIN USO  ...  75.0       ALTO  BAJO RECORRIDO   2      210   \n",
       "3        SIN USO  ...  94.0       ALTO  BAJO RECORRIDO   2      210   \n",
       "4      COMPRADOR  ...  64.0       ALTO  BAJO RECORRIDO   2      210   \n",
       "\n",
       "   lp_seg_vida  lp_seg_acc  lp_seg_salud lp_seg_hogar lp_seg_auto  \n",
       "0            0           0             0            1           0  \n",
       "1            0           0             0            0           0  \n",
       "2            0           0             0            0           0  \n",
       "3            0           0             0            0           0  \n",
       "4            0           0             0            0           0  \n",
       "\n",
       "[5 rows x 30 columns]"
      ]
     },
     "execution_count": 4,
     "metadata": {},
     "output_type": "execute_result"
    }
   ],
   "source": [
    "df.head(5)"
   ]
  },
  {
   "cell_type": "code",
   "execution_count": 5,
   "metadata": {
    "scrolled": true
   },
   "outputs": [
    {
     "data": {
      "text/plain": [
       "Index(['cliente', 'saldo_captacion', 'esta_carterizado', 'cliente_bbp',\n",
       "       'tipo_gestor', 'gestor', 'cartera_patron', 'codigo_cartera',\n",
       "       'digital_3_meses', 'camino_digital', 'saldo_financiacion', 'saldo_ffii',\n",
       "       'saldo_plp', 'lp_dom_ingresos', 'lp_tjta_cto', 'lp_tjt_rev', 'lp_rbos',\n",
       "       'lp_of_int', 'marca_bp', 'marca_ccte', 'edad', 'seg_valor',\n",
       "       'seg_recorrido', 'dz', 'oficina', 'lp_seg_vida', 'lp_seg_acc',\n",
       "       'lp_seg_salud', 'lp_seg_hogar', 'lp_seg_auto'],\n",
       "      dtype='object')"
      ]
     },
     "execution_count": 5,
     "metadata": {},
     "output_type": "execute_result"
    }
   ],
   "source": [
    "df.columns"
   ]
  },
  {
   "cell_type": "markdown",
   "metadata": {},
   "source": [
    "## PRIMERA APROXIMACION AL MODELO"
   ]
  },
  {
   "cell_type": "code",
   "execution_count": 6,
   "metadata": {},
   "outputs": [],
   "source": [
    "df = df.select_dtypes('number')"
   ]
  },
  {
   "cell_type": "code",
   "execution_count": 7,
   "metadata": {},
   "outputs": [
    {
     "name": "stdout",
     "output_type": "stream",
     "text": [
      "Datos X = 6319236 (451374, 14)\n",
      "Datos y = 451374 (451374,)\n"
     ]
    }
   ],
   "source": [
    "# Inputs y Target \n",
    "X = df.drop(['lp_seg_hogar'], axis = 1)\n",
    "y= df['lp_seg_hogar']\n",
    "print('Datos X =', X.size, X.shape)\n",
    "print('Datos y =', y.size, y.shape)"
   ]
  },
  {
   "cell_type": "code",
   "execution_count": 8,
   "metadata": {},
   "outputs": [],
   "source": [
    "clfforest = RandomForestClassifier()"
   ]
  },
  {
   "cell_type": "code",
   "execution_count": 9,
   "metadata": {},
   "outputs": [
    {
     "data": {
      "text/plain": [
       "RandomForestClassifier()"
      ]
     },
     "execution_count": 9,
     "metadata": {},
     "output_type": "execute_result"
    }
   ],
   "source": [
    "clfforest.fit(X,y)"
   ]
  },
  {
   "cell_type": "code",
   "execution_count": 10,
   "metadata": {},
   "outputs": [
    {
     "data": {
      "text/plain": [
       "array([1, 0, 0, ..., 0, 0, 0])"
      ]
     },
     "execution_count": 10,
     "metadata": {},
     "output_type": "execute_result"
    }
   ],
   "source": [
    "clfforest.predict(X)"
   ]
  },
  {
   "cell_type": "code",
   "execution_count": 11,
   "metadata": {},
   "outputs": [],
   "source": [
    "test_size = 0.20\n",
    "seed = 7\n",
    "X_train, X_test, y_train, y_test = train_test_split(X, y, test_size = test_size, random_state = seed)"
   ]
  },
  {
   "cell_type": "code",
   "execution_count": 12,
   "metadata": {},
   "outputs": [
    {
     "data": {
      "text/plain": [
       "RandomForestClassifier()"
      ]
     },
     "execution_count": 12,
     "metadata": {},
     "output_type": "execute_result"
    }
   ],
   "source": [
    "clfforest.fit(X_train,y_train)"
   ]
  },
  {
   "cell_type": "code",
   "execution_count": 13,
   "metadata": {},
   "outputs": [
    {
     "data": {
      "text/plain": [
       "array([0, 0, 1, ..., 0, 0, 0])"
      ]
     },
     "execution_count": 13,
     "metadata": {},
     "output_type": "execute_result"
    }
   ],
   "source": [
    "clfforest.predict(X_test)"
   ]
  },
  {
   "cell_type": "code",
   "execution_count": 14,
   "metadata": {
    "scrolled": true
   },
   "outputs": [
    {
     "data": {
      "text/plain": [
       "array([0.02, 0.24, 0.64, ..., 0.08, 0.15, 0.22])"
      ]
     },
     "execution_count": 14,
     "metadata": {},
     "output_type": "execute_result"
    }
   ],
   "source": [
    "clfforest.predict_proba(X_test)[:, 1]"
   ]
  },
  {
   "cell_type": "code",
   "execution_count": 15,
   "metadata": {},
   "outputs": [
    {
     "name": "stdout",
     "output_type": "stream",
     "text": [
      "== Primera Aproximacion TREE_model ==\n",
      "accuracy_score = 0.8566934367211299\n",
      "====================================\n",
      "precision  = 0.4118727050183599\n",
      "====================================\n",
      "recall = 0.22842596521001274\n",
      "====================================\n",
      "f1_score = 0.2938704219202009\n",
      "====================================\n",
      "roc_auc_score = 0.7834282470904336\n",
      "====================================\n",
      "classification_report\n",
      "              precision    recall  f1-score   support\n",
      "\n",
      "           0       0.89      0.95      0.92     78490\n",
      "           1       0.41      0.23      0.29     11785\n",
      "\n",
      "    accuracy                           0.86     90275\n",
      "   macro avg       0.65      0.59      0.61     90275\n",
      "weighted avg       0.83      0.86      0.84     90275\n",
      "\n"
     ]
    }
   ],
   "source": [
    "print('== Primera Aproximacion TREE_model ==')\n",
    "print ('accuracy_score =', accuracy_score(y_test,clfforest.predict(X_test)))\n",
    "print('====================================')\n",
    "print('precision  =', precision_score(y_test,clfforest.predict(X_test)))\n",
    "print('====================================')\n",
    "print('recall =', recall_score(y_test,clfforest.predict(X_test)))\n",
    "print('====================================')\n",
    "print('f1_score =', f1_score(y_test,clfforest.predict(X_test)))\n",
    "print('====================================')\n",
    "print('roc_auc_score =', roc_auc_score(y_test,clfforest.predict_proba(X_test)[:, 1]))\n",
    "print('====================================')\n",
    "print('classification_report')\n",
    "print(classification_report(y_test, clfforest.predict(X_test)))"
   ]
  },
  {
   "cell_type": "code",
   "execution_count": 16,
   "metadata": {},
   "outputs": [
    {
     "name": "stdout",
     "output_type": "stream",
     "text": [
      "Sin entrenar: ROC AUC=0.500\n",
      "Regresión Logística: ROC AUC=0.783\n"
     ]
    },
    {
     "data": {
      "image/png": "[encoded data removed]",
      "text/plain": [
       "<Figure size 432x288 with 1 Axes>"
      ]
     },
     "metadata": {
      "needs_background": "light"
     },
     "output_type": "display_data"
    }
   ],
   "source": [
    "#Generamos un clasificador sin entrenar , que asignará 0 a todo\n",
    "sin_entrenar = [0 for _ in range(len(X_test))]\n",
    "# Calculamos el AUC\n",
    "ns_auc = roc_auc_score(y_test, sin_entrenar)\n",
    "lr_auc = roc_auc_score(y_test, clfforest.predict_proba(X_test)[:, 1])\n",
    "# Imprimimos en pantalla\n",
    "print('Sin entrenar: ROC AUC=%.3f' % (ns_auc))\n",
    "print('Regresión Logística: ROC AUC=%.3f' % (lr_auc))\n",
    "# Calculamos las curvas ROC\n",
    "ns_fpr, ns_tpr, _ = roc_curve(y_test, sin_entrenar)\n",
    "lr_fpr, lr_tpr, _ = roc_curve(y_test, clfforest.predict_proba(X_test)[:, 1])\n",
    "# Pintamos las curvas ROC\n",
    "pyplot.plot(ns_fpr, ns_tpr, linestyle='--', label='Sin entrenar')\n",
    "pyplot.plot(lr_fpr, lr_tpr, marker='.', label=' clfforest' , color = \"y\")\n",
    "# Etiquetas de los ejes\n",
    "pyplot.xlabel('Tasa de Falsos Positivos')\n",
    "pyplot.ylabel('Tasa de Verdaderos Positivos')\n",
    "pyplot.legend()\n",
    "pyplot.show()"
   ]
  },
  {
   "cell_type": "markdown",
   "metadata": {},
   "source": [
    "## MODELO"
   ]
  },
  {
   "cell_type": "code",
   "execution_count": 17,
   "metadata": {},
   "outputs": [],
   "source": [
    "#df_normalizado\n",
    "df_normalizado = pd.read_csv('/home/dsc/Master-Kschool/TFM/Financial-Product-Sales-Forecast-Model/Preprocessing/df_normalizado.csv')"
   ]
  },
  {
   "cell_type": "code",
   "execution_count": 18,
   "metadata": {},
   "outputs": [],
   "source": [
    "# Liberias Precargadas al inicio del notebook\n",
    "from sklearn.ensemble import RandomForestClassifier\n",
    "from sklearn.model_selection import train_test_split"
   ]
  },
  {
   "cell_type": "code",
   "execution_count": 19,
   "metadata": {},
   "outputs": [
    {
     "name": "stdout",
     "output_type": "stream",
     "text": [
      "Datos X = 8774052 (417812, 21)\n",
      "Datos y = 417812 (417812,)\n"
     ]
    }
   ],
   "source": [
    "X = df_normalizado.drop(['lp_seg_hogar'], axis = 1)\n",
    "y= df_normalizado['lp_seg_hogar']\n",
    "print('Datos X =', X.size, X.shape)\n",
    "print('Datos y =', y.size, y.shape)"
   ]
  },
  {
   "cell_type": "code",
   "execution_count": 20,
   "metadata": {},
   "outputs": [],
   "source": [
    "test_size = 0.2\n",
    "seed = 47\n",
    "X_train, X_test, y_train, y_test = train_test_split(X, y, test_size = test_size, random_state = seed)"
   ]
  },
  {
   "cell_type": "code",
   "execution_count": 21,
   "metadata": {},
   "outputs": [
    {
     "data": {
      "text/plain": [
       "((334249, 21), (334249, 21))"
      ]
     },
     "execution_count": 21,
     "metadata": {},
     "output_type": "execute_result"
    }
   ],
   "source": [
    "X_train.shape,X_train.shape"
   ]
  },
  {
   "cell_type": "code",
   "execution_count": 22,
   "metadata": {},
   "outputs": [
    {
     "data": {
      "text/plain": [
       "((83563, 21), (83563,))"
      ]
     },
     "execution_count": 22,
     "metadata": {},
     "output_type": "execute_result"
    }
   ],
   "source": [
    "X_test.shape,y_test.shape"
   ]
  },
  {
   "cell_type": "code",
   "execution_count": 23,
   "metadata": {},
   "outputs": [],
   "source": [
    "clfforest = RandomForestClassifier(class_weight = 'balanced')"
   ]
  },
  {
   "cell_type": "code",
   "execution_count": 24,
   "metadata": {},
   "outputs": [
    {
     "data": {
      "text/plain": [
       "RandomForestClassifier(class_weight='balanced')"
      ]
     },
     "execution_count": 24,
     "metadata": {},
     "output_type": "execute_result"
    }
   ],
   "source": [
    "clfforest.fit(X_train, y_train)"
   ]
  },
  {
   "cell_type": "code",
   "execution_count": 25,
   "metadata": {},
   "outputs": [
    {
     "data": {
      "text/plain": [
       "array([0., 0., 0., ..., 0., 0., 0.])"
      ]
     },
     "execution_count": 25,
     "metadata": {},
     "output_type": "execute_result"
    }
   ],
   "source": [
    "clfforest.predict(X_test)"
   ]
  },
  {
   "cell_type": "code",
   "execution_count": 26,
   "metadata": {},
   "outputs": [
    {
     "data": {
      "text/plain": [
       "array([0.15      , 0.07      , 0.        , ..., 0.02      , 0.00415214,\n",
       "       0.07      ])"
      ]
     },
     "execution_count": 26,
     "metadata": {},
     "output_type": "execute_result"
    }
   ],
   "source": [
    "clfforest.predict_proba(X_test)[:, 1]"
   ]
  },
  {
   "cell_type": "code",
   "execution_count": 27,
   "metadata": {},
   "outputs": [
    {
     "data": {
      "text/plain": [
       "array([[0.85      , 0.15      ],\n",
       "       [0.93      , 0.07      ],\n",
       "       [1.        , 0.        ],\n",
       "       ...,\n",
       "       [0.98      , 0.02      ],\n",
       "       [0.99584786, 0.00415214],\n",
       "       [0.93      , 0.07      ]])"
      ]
     },
     "execution_count": 27,
     "metadata": {},
     "output_type": "execute_result"
    }
   ],
   "source": [
    "clfforest.predict_proba(X_test)"
   ]
  },
  {
   "cell_type": "markdown",
   "metadata": {},
   "source": [
    "__Primeros resultados__. Los resultados obtenidos de train y test utilizando como medida la metrica recall informan que el modelo no esta generalizando bien. Existe un calara situacion de overfiting que debo solucionar. Lo confirmarmos mediante Cross Validation. Para buscar soluciones y como siguiente paso utilizaremos Grid Search para buscar los mejores parametros a utilizar con este modelo y poder obtener una metrica correcta.\n"
   ]
  },
  {
   "cell_type": "code",
   "execution_count": 28,
   "metadata": {},
   "outputs": [
    {
     "name": "stdout",
     "output_type": "stream",
     "text": [
      "===========RECALL TRAIN============\n",
      "recall = 0.9994960119204137\n",
      "===========RECALL TEST=============\n",
      "recall = 0.37787857641311934\n"
     ]
    }
   ],
   "source": [
    "print('===========RECALL TRAIN============')\n",
    "print('recall =', recall_score(y_train,clfforest.predict(X_train)))\n",
    "print('===========RECALL TEST=============')\n",
    "print('recall =', recall_score(y_test,clfforest.predict(X_test)))"
   ]
  },
  {
   "cell_type": "markdown",
   "metadata": {},
   "source": [
    "## Tecnicas Validacion Cruzada.  Metrics: Cross validation\n",
    "Utilizamos Cross Validation para iterar con 'K_folds_veces' a lo largo del set de entrenamiento\n",
    "- K_Fold utilizado 5 veces.\n",
    "\n",
    "- Apartaremos 1/5 de muestras.\n",
    "- Entrenamos al modelo con el restante 4/5 de muestras.\n",
    "- Mediremos con distintas metricas el resultado obtenido sobre las muestras apartadas.\n",
    "- Esto quiere decir que hacemos 5 entrenamientos independientes.\n",
    "- Los resultados serán el promedio de las 5 accuracies anteriores."
   ]
  },
  {
   "cell_type": "code",
   "execution_count": 29,
   "metadata": {},
   "outputs": [
    {
     "data": {
      "text/plain": [
       "(0.6122498470446248, 0.3752014010507881, 0.4636059943290781)"
      ]
     },
     "execution_count": 29,
     "metadata": {},
     "output_type": "execute_result"
    }
   ],
   "source": [
    "from sklearn.model_selection import cross_val_score\n",
    "cross_val_score_precision = cross_val_score(clfforest,X,y,cv=5,scoring=\"precision\").mean()\n",
    "cross_val_score_recall = cross_val_score(clfforest,X,y,cv=5,scoring=\"recall\").mean()\n",
    "cross_val_score_f1 = cross_val_score(clfforest,X,y,cv=5,scoring=\"f1\").mean() \n",
    "cross_val_score_precision , cross_val_score_recall, cross_val_score_f1"
   ]
  },
  {
   "cell_type": "code",
   "execution_count": 30,
   "metadata": {},
   "outputs": [
    {
     "name": "stdout",
     "output_type": "stream",
     "text": [
      "[[69379  2720]\n",
      " [ 7132  4332]]\n"
     ]
    },
    {
     "data": {
      "image/png": "[encoded data removed]",
      "text/plain": [
       "<Figure size 288x288 with 2 Axes>"
      ]
     },
     "metadata": {
      "needs_background": "light"
     },
     "output_type": "display_data"
    }
   ],
   "source": [
    "matriz_confusion_clfforest = confusion_matrix(y_test,clfforest.predict(X_test))\n",
    "print(matriz_confusion_clfforest)\n",
    "pl.matshow(confusion_matrix(y_test,clfforest.predict(X_test)))\n",
    "pl.title('Matriz de Confusion')\n",
    "pl.colorbar()\n",
    "pl.show()"
   ]
  },
  {
   "cell_type": "code",
   "execution_count": 31,
   "metadata": {},
   "outputs": [
    {
     "name": "stdout",
     "output_type": "stream",
     "text": [
      "========= CLFFOREST ==================\n",
      "accuracy_score =  0.8821009298373682\n",
      "====================================\n",
      "precision = 0.6142938173567782\n",
      "====================================\n",
      "recall = 0.37787857641311934\n",
      "====================================\n",
      "f1_score = 0.4679196370706416\n",
      "====================================\n",
      "roc_auc_score = 0.8688552393604874\n",
      "====================================\n"
     ]
    }
   ],
   "source": [
    "print('========= CLFFOREST ==================')\n",
    "print ('accuracy_score = ', accuracy_score(y_test,clfforest.predict(X_test)))\n",
    "print('====================================')\n",
    "print('precision =', precision_score(y_test,clfforest.predict(X_test)))\n",
    "print('====================================')\n",
    "print('recall =', recall_score(y_test,clfforest.predict(X_test)))\n",
    "print('====================================')\n",
    "print('f1_score =', f1_score(y_test,clfforest.predict(X_test)))\n",
    "print('====================================')\n",
    "print('roc_auc_score =', roc_auc_score(y_test,clfforest.predict_proba(X_test)[:, 1]))\n",
    "print('====================================')\n"
   ]
  },
  {
   "cell_type": "markdown",
   "metadata": {},
   "source": [
    "## GridSearchCV  \n"
   ]
  },
  {
   "cell_type": "code",
   "execution_count": 32,
   "metadata": {},
   "outputs": [],
   "source": [
    "from sklearn.model_selection import GridSearchCV"
   ]
  },
  {
   "cell_type": "code",
   "execution_count": 33,
   "metadata": {},
   "outputs": [],
   "source": [
    "# RandomForestClassifier() solo para ver los parametros"
   ]
  },
  {
   "cell_type": "code",
   "execution_count": 34,
   "metadata": {},
   "outputs": [],
   "source": [
    "forest_grid_params = {\n",
    "    'n_estimators' : [100,125],\n",
    "    'max_features' : [\"auto\", \"log2\"],\n",
    "    'criterion' : ['gini', 'entropy'],\n",
    "    'max_depth' : [2,4,6,8,10],\n",
    "    #'max_depth' : [None],\n",
    "    #'min_samples_split' : [2,4,6,8,10],\n",
    "    'min_samples_split' :[2]\n",
    "    #'min_samples_leaf' : [20,25,30]\n",
    "    }\n",
    "\n",
    "forestgs = GridSearchCV(\n",
    "        clfforest,\n",
    "        forest_grid_params,\n",
    "        verbose = 1,\n",
    "        cv = 3,\n",
    "        n_jobs = -1\n",
    "        )\n"
   ]
  },
  {
   "cell_type": "code",
   "execution_count": 35,
   "metadata": {
    "scrolled": false
   },
   "outputs": [
    {
     "name": "stdout",
     "output_type": "stream",
     "text": [
      "Fitting 3 folds for each of 40 candidates, totalling 120 fits\n"
     ]
    },
    {
     "name": "stderr",
     "output_type": "stream",
     "text": [
      "[Parallel(n_jobs=-1)]: Using backend LokyBackend with 6 concurrent workers.\n",
      "[Parallel(n_jobs=-1)]: Done  38 tasks      | elapsed:  1.8min\n",
      "[Parallel(n_jobs=-1)]: Done 120 out of 120 | elapsed:  8.6min finished\n"
     ]
    },
    {
     "data": {
      "text/plain": [
       "GridSearchCV(cv=3, estimator=RandomForestClassifier(class_weight='balanced'),\n",
       "             n_jobs=-1,\n",
       "             param_grid={'criterion': ['gini', 'entropy'],\n",
       "                         'max_depth': [2, 4, 6, 8, 10],\n",
       "                         'max_features': ['auto', 'log2'],\n",
       "                         'min_samples_split': [2], 'n_estimators': [100, 125]},\n",
       "             verbose=1)"
      ]
     },
     "execution_count": 35,
     "metadata": {},
     "output_type": "execute_result"
    }
   ],
   "source": [
    "forestgs.fit(X_train,y_train)"
   ]
  },
  {
   "cell_type": "code",
   "execution_count": 36,
   "metadata": {},
   "outputs": [
    {
     "data": {
      "text/plain": [
       "0.7288787645002551"
      ]
     },
     "execution_count": 36,
     "metadata": {},
     "output_type": "execute_result"
    }
   ],
   "source": [
    "forestgs.best_score_"
   ]
  },
  {
   "cell_type": "code",
   "execution_count": 37,
   "metadata": {},
   "outputs": [
    {
     "data": {
      "text/plain": [
       "RandomForestClassifier(class_weight='balanced', max_depth=10, n_estimators=125)"
      ]
     },
     "execution_count": 37,
     "metadata": {},
     "output_type": "execute_result"
    }
   ],
   "source": [
    "forestgs.best_estimator_"
   ]
  },
  {
   "cell_type": "code",
   "execution_count": 38,
   "metadata": {},
   "outputs": [
    {
     "data": {
      "text/plain": [
       "{'criterion': 'gini',\n",
       " 'max_depth': 10,\n",
       " 'max_features': 'auto',\n",
       " 'min_samples_split': 2,\n",
       " 'n_estimators': 125}"
      ]
     },
     "execution_count": 38,
     "metadata": {},
     "output_type": "execute_result"
    }
   ],
   "source": [
    "forestgs.best_params_"
   ]
  },
  {
   "cell_type": "markdown",
   "metadata": {},
   "source": [
    "## Hacemos el modelo con los mejores parametros"
   ]
  },
  {
   "cell_type": "code",
   "execution_count": 39,
   "metadata": {},
   "outputs": [],
   "source": [
    "clfforest = RandomForestClassifier(class_weight = 'balanced', criterion = 'gini',\n",
    "                                  max_depth = 2, max_features = 'log2', min_samples_split = 2,\n",
    "                                  n_estimators = 100)"
   ]
  },
  {
   "cell_type": "code",
   "execution_count": 40,
   "metadata": {},
   "outputs": [
    {
     "data": {
      "text/plain": [
       "RandomForestClassifier(class_weight='balanced', max_depth=2,\n",
       "                       max_features='log2')"
      ]
     },
     "execution_count": 40,
     "metadata": {},
     "output_type": "execute_result"
    }
   ],
   "source": [
    "clfforest.fit(X_train, y_train)"
   ]
  },
  {
   "cell_type": "code",
   "execution_count": 41,
   "metadata": {},
   "outputs": [
    {
     "data": {
      "text/plain": [
       "array([1., 1., 0., ..., 0., 0., 0.])"
      ]
     },
     "execution_count": 41,
     "metadata": {},
     "output_type": "execute_result"
    }
   ],
   "source": [
    "clfforest.predict(X_test)"
   ]
  },
  {
   "cell_type": "code",
   "execution_count": 42,
   "metadata": {},
   "outputs": [
    {
     "data": {
      "text/plain": [
       "array([0.57364258, 0.58427184, 0.4141477 , ..., 0.24925471, 0.27911068,\n",
       "       0.26983809])"
      ]
     },
     "execution_count": 42,
     "metadata": {},
     "output_type": "execute_result"
    }
   ],
   "source": [
    "clfforest.predict_proba(X_test)[:, 1]"
   ]
  },
  {
   "cell_type": "markdown",
   "metadata": {},
   "source": [
    "__Evaluacion de overfiting.__ Los resultados obtenidos de train y test utilizando como medida la metrica recall informan que se ha conseguido mediante utilizacion de mejores parametros resolver el overfiting.Lo confirmarmos mediante Cross Validation y distintas medias de metricas. \n"
   ]
  },
  {
   "cell_type": "code",
   "execution_count": 43,
   "metadata": {},
   "outputs": [
    {
     "name": "stdout",
     "output_type": "stream",
     "text": [
      "===========RECALL TRAIN============\n",
      "recall = 0.9039135770006136\n",
      "===========RECALL TEST=============\n",
      "recall = 0.9023900907187719\n"
     ]
    }
   ],
   "source": [
    "print('===========RECALL TRAIN============')\n",
    "print('recall =', recall_score(y_train,clfforest.predict(X_train)))\n",
    "print('===========RECALL TEST=============')\n",
    "print('recall =', recall_score(y_test,clfforest.predict(X_test)))"
   ]
  },
  {
   "cell_type": "markdown",
   "metadata": {},
   "source": [
    "## Metrics: Cross validation"
   ]
  },
  {
   "cell_type": "code",
   "execution_count": 44,
   "metadata": {},
   "outputs": [
    {
     "data": {
      "text/plain": [
       "(0.27759343533265, 0.9043432574430822, 0.424005162025205)"
      ]
     },
     "execution_count": 44,
     "metadata": {},
     "output_type": "execute_result"
    }
   ],
   "source": [
    "from sklearn.model_selection import cross_val_score\n",
    "cross_val_score_precision = cross_val_score(clfforest,X,y,cv=5,scoring=\"precision\").mean()\n",
    "cross_val_score_recall = cross_val_score(clfforest,X,y,cv=5,scoring=\"recall\").mean()\n",
    "cross_val_score_f1 = cross_val_score(clfforest,X,y,cv=5,scoring=\"f1\").mean() \n",
    "cross_val_score_precision , cross_val_score_recall, cross_val_score_f1"
   ]
  },
  {
   "cell_type": "markdown",
   "metadata": {},
   "source": [
    "### Confussion Matrix"
   ]
  },
  {
   "cell_type": "code",
   "execution_count": 45,
   "metadata": {},
   "outputs": [
    {
     "name": "stdout",
     "output_type": "stream",
     "text": [
      "[[45567 26532]\n",
      " [ 1119 10345]]\n"
     ]
    },
    {
     "data": {
      "image/png": "[encoded data removed]",
      "text/plain": [
       "<Figure size 288x288 with 2 Axes>"
      ]
     },
     "metadata": {
      "needs_background": "light"
     },
     "output_type": "display_data"
    }
   ],
   "source": [
    "matriz_confusion_clfforest = confusion_matrix(y_test,clfforest.predict(X_test))\n",
    "print(matriz_confusion_clfforest)\n",
    "pl.matshow(confusion_matrix(y_test,clfforest.predict(X_test)))\n",
    "pl.title('Matriz de Confusion')\n",
    "pl.colorbar()\n",
    "pl.show()"
   ]
  },
  {
   "cell_type": "code",
   "execution_count": 46,
   "metadata": {},
   "outputs": [
    {
     "name": "stdout",
     "output_type": "stream",
     "text": [
      "========= CLFFOREST ================\n",
      "accuracy_score =  0.6690999605088377\n",
      "====================================\n",
      "precision = 0.2805271578490658\n",
      "====================================\n",
      "recall = 0.9023900907187719\n",
      "====================================\n",
      "f1_score = 0.428001075691442\n",
      "====================================\n",
      "roc_auc_score = 0.82405168967532\n",
      "====================================\n"
     ]
    }
   ],
   "source": [
    "print('========= CLFFOREST ================')\n",
    "print ('accuracy_score = ', accuracy_score(y_test,clfforest.predict(X_test)))\n",
    "print('====================================')\n",
    "print('precision =', precision_score(y_test,clfforest.predict(X_test)))\n",
    "print('====================================')\n",
    "print('recall =', recall_score(y_test,clfforest.predict(X_test)))\n",
    "print('====================================')\n",
    "print('f1_score =', f1_score(y_test,clfforest.predict(X_test)))\n",
    "print('====================================')\n",
    "print('roc_auc_score =', roc_auc_score(y_test,clfforest.predict_proba(X_test)[:, 1]))\n",
    "print('====================================')\n",
    "#print('classification_report')\n",
    "#print(classification_report(y_test, clfknn.predict(X_test)))3c445ddeb657"
   ]
  },
  {
   "cell_type": "markdown",
   "metadata": {},
   "source": [
    "## Curva Roc"
   ]
  },
  {
   "cell_type": "code",
   "execution_count": 47,
   "metadata": {},
   "outputs": [
    {
     "name": "stdout",
     "output_type": "stream",
     "text": [
      "Sin entrenar: ROC AUC=0.500\n",
      "Regresión Logística: ROC AUC=0.824\n"
     ]
    },
    {
     "data": {
      "image/png": "[encoded data removed]",
      "text/plain": [
       "<Figure size 432x288 with 1 Axes>"
      ]
     },
     "metadata": {
      "needs_background": "light"
     },
     "output_type": "display_data"
    }
   ],
   "source": [
    "#Generamos un clasificador sin entrenar , que asignará 0 a todo\n",
    "sin_entrenar = [0 for _ in range(len(X_test))]\n",
    "# Calculamos el AUC\n",
    "ns_auc = roc_auc_score(y_test, sin_entrenar)\n",
    "lr_auc = roc_auc_score(y_test, clfforest.predict_proba(X_test)[:, 1])\n",
    "# Imprimimos en pantalla\n",
    "print('Sin entrenar: ROC AUC=%.3f' % (ns_auc))\n",
    "print('Regresión Logística: ROC AUC=%.3f' % (lr_auc))\n",
    "# Calculamos las curvas ROC\n",
    "ns_fpr, ns_tpr, _ = roc_curve(y_test, sin_entrenar)\n",
    "lr_fpr, lr_tpr, _ = roc_curve(y_test, clfforest.predict_proba(X_test)[:, 1])\n",
    "# Pintamos las curvas ROC\n",
    "pyplot.plot(ns_fpr, ns_tpr, linestyle='--', label='Sin entrenar')\n",
    "pyplot.plot(lr_fpr, lr_tpr, marker='.', label=' Random Forest', color = \"orange\")\n",
    "# Etiquetas de los ejes\n",
    "pyplot.xlabel('Tasa de Falsos Positivos')\n",
    "pyplot.ylabel('Tasa de Verdaderos Positivos')\n",
    "pyplot.legend()\n",
    "pyplot.show()"
   ]
  },
  {
   "cell_type": "markdown",
   "metadata": {},
   "source": [
    " ## *** Conclusiones Modelo ***"
   ]
  },
  {
   "cell_type": "markdown",
   "metadata": {},
   "source": [
    "- __La metrica elegida__ para evaluar nuestro  Modelo de clasificacion Random Forest es __Recall y AUC - Curva Roc.__ \n",
    "- Iniciamos nuestro modelo con una __primera aproximacion__ obteniendo unos resultados __muy mejorables. Recall 0.22__ La base de datos utilizada es la original sin haber realizado ningun preprocesado. \n",
    "- Evolucionamos nuestro modelo. Utilizamos como base de datos df_normalizado ya preprocesada en nuestro bloque de preprocessing. (Adaptado, aplicado Label Encoder, Standar Scaler y  Normalizado variables.)  \n",
    "- Dado que nuestro __Target esta muy desbalanceado__ a razon de 87% No y 13% Si, en el entremaniemto del modelo se ha utilizado de inicio el parametro de 'class_weight = 'balanced'\n",
    "- __Vemos de inicio como nuestro set de entramiento no ha generalizado bien. Existe una gran diferencia entre los resultados obtenidos de Test y Train. 99 Train - 37 Test. Podemos en este caso confirmar la existencia de overfiting__ Comprobamos mediante Cross Validation obteniendo medias de distintas metricas.\n",
    "\n",
    "- Necesitamos mejorar el modelo y para ello utilizamos GridSearch para buscar soluciones y mejores parametros. Una vez obtenidos, entrenamos de nuevo y sacamos nuevamente metricas Recall 0.909 Train - 0.0987 Test para confirmar entre otras cosas que hemos conseguido solucionar el overfiting y que nuestro modelo ha conseguido generalizar bien. Confirmamos con Cross Validation obteniendo las medias de distintas metricas con 5 validaciones.\n",
    "- _Nuestras metricas elegidas finalmente son Reccal 0.90 y AUC 0,82 que consideramos apropiadas para la explicacion de nuestro modelo. \n",
    "- Por ultimo confirmar todo lo anteriormente expuesto con el estudio de la matriz de confusion. Obtenemos unos resultados de Falsos negativos 1045  y verdaderos negativos 10419.  En nuestro modelo prima la deteccion de clientes que no van a contratar el seguro. Detectando aquellos clientes que no son susceptibles de tener el seguro de hogar podemos trabajar con aquellos que si pueden tenerlo. Todo ello con un objetivo de optimizacion del tiempo y eficiencia comercial.\n",
    "- Se echan en falta, entre otras muchas, variables y datos como la renta de los clientes,  tipo de trabajo,  o nomina real en euros obtenida. "
   ]
  },
  {
   "cell_type": "code",
   "execution_count": null,
   "metadata": {},
   "outputs": [],
   "source": []
  }
 ],
 "metadata": {
  "kernelspec": {
   "display_name": "Python 3",
   "language": "python",
   "name": "python3"
  },
  "language_info": {
   "codemirror_mode": {
    "name": "ipython",
    "version": 3
   },
   "file_extension": ".py",
   "mimetype": "text/x-python",
   "name": "python",
   "nbconvert_exporter": "python",
   "pygments_lexer": "ipython3",
   "version": "3.7.7"
  }
 },
 "nbformat": 4,
 "nbformat_minor": 2
}
