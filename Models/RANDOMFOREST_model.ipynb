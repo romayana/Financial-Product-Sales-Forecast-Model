{
 "cells": [
  {
   "cell_type": "markdown",
   "metadata": {},
   "source": [
    "# RANDOM FOREST CLASIFICATION MODEL \n",
    "\n",
    "\n",
    "\n",
    "\n"
   ]
  },
  {
   "cell_type": "markdown",
   "metadata": {},
   "source": [
    "We present and import all the libraries that we are going to need throughout the model."
   ]
  },
  {
   "cell_type": "code",
   "execution_count": 1,
   "metadata": {},
   "outputs": [],
   "source": [
    "import pandas as pd\n",
    "import numpy as np\n",
    "\n",
    "#Libreria Metricas\n",
    "from sklearn.metrics import f1_score, recall_score, precision_score, accuracy_score\n",
    "from sklearn.metrics import roc_auc_score, roc_curve\n",
    "from sklearn.metrics import confusion_matrix\n",
    "from sklearn.metrics import classification_report\n",
    "from sklearn.metrics import auc\n",
    "from sklearn.model_selection import KFold\n",
    "from sklearn.metrics import log_loss\n",
    "\n",
    "#Librerias Visualizacion\n",
    "import matplotlib.pyplot as plt\n",
    "import pylab as pl\n",
    "import seaborn as sns \n",
    "from pylab import rcParams \n",
    "from matplotlib import pyplot\n",
    "\n",
    "#Librerias Modelos\n",
    "\n",
    "from sklearn.ensemble import RandomForestClassifier\n",
    "from sklearn.tree import DecisionTreeClassifier\n",
    "from sklearn.model_selection import train_test_split \n",
    "\n"
   ]
  },
  {
   "cell_type": "markdown",
   "metadata": {},
   "source": [
    "We read and present our Database. We show the first 5 rows, the type and name of the Columns / variables that compose it. The variables that refer to business units are not going to be used in the model so we transform them to Object for a better understanding and segmentation of the variables themselves."
   ]
  },
  {
   "cell_type": "code",
   "execution_count": 2,
   "metadata": {},
   "outputs": [],
   "source": [
    "df = pd.read_csv('C:/Users/manue/TFM/Financial-Product-Sales-Forecast-Model/Cleanning & Merging/df_cleanned.csv')"
   ]
  },
  {
   "cell_type": "code",
   "execution_count": 3,
   "metadata": {},
   "outputs": [],
   "source": [
    "# We transform business unit variables into object since we do not want to use them.\n",
    "df[[\"cliente\", \"gestor\",\n",
    "    'codigo_cartera', 'dz', 'oficina']] = df[[\"cliente\", \"gestor\",\n",
    "                                              'codigo_cartera', 'dz', 'oficina']].astype(object);"
   ]
  },
  {
   "cell_type": "code",
   "execution_count": 4,
   "metadata": {
    "scrolled": true
   },
   "outputs": [
    {
     "data": {
      "text/html": [
       "<div>\n",
       "<style scoped>\n",
       "    .dataframe tbody tr th:only-of-type {\n",
       "        vertical-align: middle;\n",
       "    }\n",
       "\n",
       "    .dataframe tbody tr th {\n",
       "        vertical-align: top;\n",
       "    }\n",
       "\n",
       "    .dataframe thead th {\n",
       "        text-align: right;\n",
       "    }\n",
       "</style>\n",
       "<table border=\"1\" class=\"dataframe\">\n",
       "  <thead>\n",
       "    <tr style=\"text-align: right;\">\n",
       "      <th></th>\n",
       "      <th>cliente</th>\n",
       "      <th>saldo_captacion</th>\n",
       "      <th>esta_carterizado</th>\n",
       "      <th>cliente_bbp</th>\n",
       "      <th>tipo_gestor</th>\n",
       "      <th>gestor</th>\n",
       "      <th>cartera_patron</th>\n",
       "      <th>codigo_cartera</th>\n",
       "      <th>digital_3_meses</th>\n",
       "      <th>camino_digital</th>\n",
       "      <th>...</th>\n",
       "      <th>edad</th>\n",
       "      <th>seg_valor</th>\n",
       "      <th>seg_recorrido</th>\n",
       "      <th>dz</th>\n",
       "      <th>oficina</th>\n",
       "      <th>lp_seg_vida</th>\n",
       "      <th>lp_seg_acc</th>\n",
       "      <th>lp_seg_salud</th>\n",
       "      <th>lp_seg_hogar</th>\n",
       "      <th>lp_seg_auto</th>\n",
       "    </tr>\n",
       "  </thead>\n",
       "  <tbody>\n",
       "    <tr>\n",
       "      <th>0</th>\n",
       "      <td>1</td>\n",
       "      <td>1328106.49</td>\n",
       "      <td>SI</td>\n",
       "      <td>NO</td>\n",
       "      <td>ASESOR FINANCIERO</td>\n",
       "      <td>18287</td>\n",
       "      <td>ASESORAMIENTO FINANCIERO</td>\n",
       "      <td>14881</td>\n",
       "      <td>SI</td>\n",
       "      <td>COMPRADOR</td>\n",
       "      <td>...</td>\n",
       "      <td>69.0</td>\n",
       "      <td>ALTO</td>\n",
       "      <td>BAJO RECORRIDO</td>\n",
       "      <td>2</td>\n",
       "      <td>210</td>\n",
       "      <td>0</td>\n",
       "      <td>0</td>\n",
       "      <td>0</td>\n",
       "      <td>1</td>\n",
       "      <td>0</td>\n",
       "    </tr>\n",
       "    <tr>\n",
       "      <th>1</th>\n",
       "      <td>2</td>\n",
       "      <td>1142234.34</td>\n",
       "      <td>SI</td>\n",
       "      <td>NO</td>\n",
       "      <td>ASESOR FINANCIERO</td>\n",
       "      <td>18287</td>\n",
       "      <td>ASESORAMIENTO FINANCIERO</td>\n",
       "      <td>14881</td>\n",
       "      <td>SI</td>\n",
       "      <td>COMPRADOR</td>\n",
       "      <td>...</td>\n",
       "      <td>81.0</td>\n",
       "      <td>ALTO</td>\n",
       "      <td>ALTO RECORRIDO</td>\n",
       "      <td>2</td>\n",
       "      <td>210</td>\n",
       "      <td>0</td>\n",
       "      <td>0</td>\n",
       "      <td>0</td>\n",
       "      <td>0</td>\n",
       "      <td>0</td>\n",
       "    </tr>\n",
       "    <tr>\n",
       "      <th>2</th>\n",
       "      <td>3</td>\n",
       "      <td>1142234.34</td>\n",
       "      <td>SI</td>\n",
       "      <td>NO</td>\n",
       "      <td>ASESOR FINANCIERO</td>\n",
       "      <td>18287</td>\n",
       "      <td>TUTELA</td>\n",
       "      <td>28332</td>\n",
       "      <td>NO</td>\n",
       "      <td>SIN USO</td>\n",
       "      <td>...</td>\n",
       "      <td>75.0</td>\n",
       "      <td>ALTO</td>\n",
       "      <td>BAJO RECORRIDO</td>\n",
       "      <td>2</td>\n",
       "      <td>210</td>\n",
       "      <td>0</td>\n",
       "      <td>0</td>\n",
       "      <td>0</td>\n",
       "      <td>0</td>\n",
       "      <td>0</td>\n",
       "    </tr>\n",
       "    <tr>\n",
       "      <th>3</th>\n",
       "      <td>4</td>\n",
       "      <td>1340503.88</td>\n",
       "      <td>SI</td>\n",
       "      <td>NO</td>\n",
       "      <td>ASESOR FINANCIERO</td>\n",
       "      <td>41475</td>\n",
       "      <td>ASESORAMIENTO FINANCIERO</td>\n",
       "      <td>14204</td>\n",
       "      <td>NO</td>\n",
       "      <td>SIN USO</td>\n",
       "      <td>...</td>\n",
       "      <td>94.0</td>\n",
       "      <td>ALTO</td>\n",
       "      <td>BAJO RECORRIDO</td>\n",
       "      <td>2</td>\n",
       "      <td>210</td>\n",
       "      <td>0</td>\n",
       "      <td>0</td>\n",
       "      <td>0</td>\n",
       "      <td>0</td>\n",
       "      <td>0</td>\n",
       "    </tr>\n",
       "    <tr>\n",
       "      <th>4</th>\n",
       "      <td>5</td>\n",
       "      <td>1758517.70</td>\n",
       "      <td>SI</td>\n",
       "      <td>NO</td>\n",
       "      <td>ASESOR FINANCIERO</td>\n",
       "      <td>39000</td>\n",
       "      <td>ASESORAMIENTO FINANCIERO</td>\n",
       "      <td>14219</td>\n",
       "      <td>SI</td>\n",
       "      <td>COMPRADOR</td>\n",
       "      <td>...</td>\n",
       "      <td>64.0</td>\n",
       "      <td>ALTO</td>\n",
       "      <td>BAJO RECORRIDO</td>\n",
       "      <td>2</td>\n",
       "      <td>210</td>\n",
       "      <td>0</td>\n",
       "      <td>0</td>\n",
       "      <td>0</td>\n",
       "      <td>0</td>\n",
       "      <td>0</td>\n",
       "    </tr>\n",
       "  </tbody>\n",
       "</table>\n",
       "<p>5 rows × 30 columns</p>\n",
       "</div>"
      ],
      "text/plain": [
       "  cliente  saldo_captacion esta_carterizado cliente_bbp        tipo_gestor  \\\n",
       "0       1       1328106.49               SI          NO  ASESOR FINANCIERO   \n",
       "1       2       1142234.34               SI          NO  ASESOR FINANCIERO   \n",
       "2       3       1142234.34               SI          NO  ASESOR FINANCIERO   \n",
       "3       4       1340503.88               SI          NO  ASESOR FINANCIERO   \n",
       "4       5       1758517.70               SI          NO  ASESOR FINANCIERO   \n",
       "\n",
       "  gestor            cartera_patron codigo_cartera digital_3_meses  \\\n",
       "0  18287  ASESORAMIENTO FINANCIERO          14881              SI   \n",
       "1  18287  ASESORAMIENTO FINANCIERO          14881              SI   \n",
       "2  18287                    TUTELA          28332              NO   \n",
       "3  41475  ASESORAMIENTO FINANCIERO          14204              NO   \n",
       "4  39000  ASESORAMIENTO FINANCIERO          14219              SI   \n",
       "\n",
       "  camino_digital  ...  edad  seg_valor   seg_recorrido  dz  oficina  \\\n",
       "0      COMPRADOR  ...  69.0       ALTO  BAJO RECORRIDO   2      210   \n",
       "1      COMPRADOR  ...  81.0       ALTO  ALTO RECORRIDO   2      210   \n",
       "2        SIN USO  ...  75.0       ALTO  BAJO RECORRIDO   2      210   \n",
       "3        SIN USO  ...  94.0       ALTO  BAJO RECORRIDO   2      210   \n",
       "4      COMPRADOR  ...  64.0       ALTO  BAJO RECORRIDO   2      210   \n",
       "\n",
       "   lp_seg_vida  lp_seg_acc  lp_seg_salud lp_seg_hogar lp_seg_auto  \n",
       "0            0           0             0            1           0  \n",
       "1            0           0             0            0           0  \n",
       "2            0           0             0            0           0  \n",
       "3            0           0             0            0           0  \n",
       "4            0           0             0            0           0  \n",
       "\n",
       "[5 rows x 30 columns]"
      ]
     },
     "execution_count": 4,
     "metadata": {},
     "output_type": "execute_result"
    }
   ],
   "source": [
    "df.head(5)"
   ]
  },
  {
   "cell_type": "code",
   "execution_count": 5,
   "metadata": {
    "scrolled": true
   },
   "outputs": [
    {
     "data": {
      "text/plain": [
       "Index(['cliente', 'saldo_captacion', 'esta_carterizado', 'cliente_bbp',\n",
       "       'tipo_gestor', 'gestor', 'cartera_patron', 'codigo_cartera',\n",
       "       'digital_3_meses', 'camino_digital', 'saldo_financiacion', 'saldo_ffii',\n",
       "       'saldo_plp', 'lp_dom_ingresos', 'lp_tjta_cto', 'lp_tjt_rev', 'lp_rbos',\n",
       "       'lp_of_int', 'marca_bp', 'marca_ccte', 'edad', 'seg_valor',\n",
       "       'seg_recorrido', 'dz', 'oficina', 'lp_seg_vida', 'lp_seg_acc',\n",
       "       'lp_seg_salud', 'lp_seg_hogar', 'lp_seg_auto'],\n",
       "      dtype='object')"
      ]
     },
     "execution_count": 5,
     "metadata": {},
     "output_type": "execute_result"
    }
   ],
   "source": [
    "df.columns"
   ]
  },
  {
   "cell_type": "markdown",
   "metadata": {},
   "source": [
    "## First aproach to the model"
   ]
  },
  {
   "cell_type": "code",
   "execution_count": 6,
   "metadata": {},
   "outputs": [],
   "source": [
    "df = df.select_dtypes('number')"
   ]
  },
  {
   "cell_type": "code",
   "execution_count": 7,
   "metadata": {},
   "outputs": [
    {
     "name": "stdout",
     "output_type": "stream",
     "text": [
      "Datos X = 6319236 (451374, 14)\n",
      "Datos y = 451374 (451374,)\n"
     ]
    }
   ],
   "source": [
    "# Inputs y Target \n",
    "X = df.drop(['lp_seg_hogar'], axis = 1)\n",
    "y= df['lp_seg_hogar']\n",
    "print('Datos X =', X.size, X.shape)\n",
    "print('Datos y =', y.size, y.shape)"
   ]
  },
  {
   "cell_type": "code",
   "execution_count": 8,
   "metadata": {},
   "outputs": [],
   "source": [
    "# Instantiate the classifier\n",
    "clfforest_first_aproach = RandomForestClassifier()"
   ]
  },
  {
   "cell_type": "code",
   "execution_count": 9,
   "metadata": {},
   "outputs": [
    {
     "data": {
      "text/plain": [
       "RandomForestClassifier()"
      ]
     },
     "execution_count": 9,
     "metadata": {},
     "output_type": "execute_result"
    }
   ],
   "source": [
    "# train the model\n",
    "clfforest_first_aproach.fit(X,y)"
   ]
  },
  {
   "cell_type": "code",
   "execution_count": 10,
   "metadata": {},
   "outputs": [
    {
     "data": {
      "text/plain": [
       "array([1, 0, 0, ..., 0, 0, 0], dtype=int64)"
      ]
     },
     "execution_count": 10,
     "metadata": {},
     "output_type": "execute_result"
    }
   ],
   "source": [
    "# Predictions\n",
    "clfforest_first_aproach.predict(X)"
   ]
  },
  {
   "cell_type": "code",
   "execution_count": 11,
   "metadata": {},
   "outputs": [],
   "source": [
    "# We divide our DF into Training Set 80% and Test Set 20%. \n",
    "test_size = 0.20\n",
    "seed = 7\n",
    "X_train, X_test, y_train, y_test = train_test_split(X, y, test_size = test_size, random_state = seed)"
   ]
  },
  {
   "cell_type": "code",
   "execution_count": 12,
   "metadata": {},
   "outputs": [
    {
     "data": {
      "text/plain": [
       "RandomForestClassifier()"
      ]
     },
     "execution_count": 12,
     "metadata": {},
     "output_type": "execute_result"
    }
   ],
   "source": [
    "# Train the model\n",
    "clfforest_first_aproach.fit(X_train,y_train)"
   ]
  },
  {
   "cell_type": "code",
   "execution_count": 13,
   "metadata": {},
   "outputs": [
    {
     "data": {
      "text/plain": [
       "array([0, 0, 1, ..., 0, 0, 0], dtype=int64)"
      ]
     },
     "execution_count": 13,
     "metadata": {},
     "output_type": "execute_result"
    }
   ],
   "source": [
    "# Predictions\n",
    "clfforest_first_aproach.predict(X_test)"
   ]
  },
  {
   "cell_type": "code",
   "execution_count": 14,
   "metadata": {
    "scrolled": true
   },
   "outputs": [
    {
     "data": {
      "text/plain": [
       "array([0.09, 0.32, 0.62, ..., 0.06, 0.12, 0.31])"
      ]
     },
     "execution_count": 14,
     "metadata": {},
     "output_type": "execute_result"
    }
   ],
   "source": [
    "# Probabilities of having home Insurance\n",
    "clfforest_first_aproach.predict_proba(X_test)[:, 1]"
   ]
  },
  {
   "cell_type": "code",
   "execution_count": 15,
   "metadata": {},
   "outputs": [
    {
     "name": "stdout",
     "output_type": "stream",
     "text": [
      "== First Aproximation RandomForest ==\n",
      "------------------------------------\n",
      "accuracy_score = 0.8565272777623927\n",
      "------------------------------------\n",
      "precision  = 0.4099953725127256\n",
      "------------------------------------\n",
      "recall = 0.22554094187526516\n",
      "------------------------------------\n",
      "f1_score = 0.2910006568863587\n",
      "------------------------------------\n",
      "roc_auc_score = 0.7839915475019503\n"
     ]
    }
   ],
   "source": [
    "# Results obtained from the model.\n",
    "\n",
    "accuracy_score_first_aproach = accuracy_score(y_test,clfforest_first_aproach.predict(X_test))\n",
    "precision_first_aproach  = precision_score(y_test,clfforest_first_aproach.predict(X_test))\n",
    "recall_first_aproach = recall_score(y_test,clfforest_first_aproach.predict(X_test))\n",
    "f1_score_first_aproach = f1_score(y_test,clfforest_first_aproach.predict(X_test))\n",
    "roc_auc_score_first_aproach = roc_auc_score(y_test,clfforest_first_aproach.predict_proba(X_test)[:, 1])\n",
    "\n",
    "print('== First Aproximation RandomForest ==')\n",
    "print('------------------------------------')\n",
    "print ('accuracy_score =', accuracy_score_first_aproach)\n",
    "print('------------------------------------')\n",
    "print('precision  =',precision_first_aproach)\n",
    "print('------------------------------------')\n",
    "print('recall =', recall_first_aproach)\n",
    "print('------------------------------------')\n",
    "print('f1_score =', f1_score_first_aproach)\n",
    "print('------------------------------------')\n",
    "print('roc_auc_score =', roc_auc_score_first_aproach)"
   ]
  },
  {
   "cell_type": "code",
   "execution_count": 16,
   "metadata": {},
   "outputs": [
    {
     "name": "stdout",
     "output_type": "stream",
     "text": [
      "Without training: ROC AUC=0.500\n",
      "Tree: ROC AUC=0.784\n"
     ]
    },
    {
     "data": {
      "image/png": "[encoded data removed]",
      "text/plain": [
       "<Figure size 432x288 with 1 Axes>"
      ]
     },
     "metadata": {
      "needs_background": "light"
     },
     "output_type": "display_data"
    }
   ],
   "source": [
    "# We paint Roc Curve\n",
    "# We generate an untrained classifier, which will assign 0 to everything\n",
    "no_train = [0 for _ in range(len(X_test))]\n",
    "# We calculate the AUC\n",
    "ns_auc = roc_auc_score(y_test, no_train)\n",
    "lr_auc = roc_auc_score(y_test, clfforest_first_aproach.predict_proba(X_test)[:, 1])\n",
    "# Print\n",
    "print('Without training: ROC AUC=%.3f' % (ns_auc))\n",
    "print('Tree: ROC AUC=%.3f' % (lr_auc))\n",
    "# We calculate the ROC curves\n",
    "ns_fpr, ns_tpr, _ = roc_curve(y_test, no_train)\n",
    "lr_fpr, lr_tpr, _ = roc_curve(y_test, clfforest_first_aproach.predict_proba(X_test)[:, 1])\n",
    "# We paint the ROC curves\n",
    "pyplot.plot(ns_fpr, ns_tpr, linestyle='--', label='Without training')\n",
    "pyplot.plot(lr_fpr, lr_tpr, marker='.', label=' clfforest_first_aproach' , color = \"y\")\n",
    "# Axes labels\n",
    "pyplot.title('Roc Curve First Aproach')\n",
    "pyplot.xlabel('False Positive Rate')\n",
    "pyplot.ylabel('True Positive Rate')\n",
    "pyplot.legend()\n",
    "plt.savefig('C:/Users/manue/TFM/Financial-Product-Sales-Forecast-Model/Pictures/RANDOMFOREST Model - Roc Curve First Aproach.png', dpi=75,bbox_inches='tight')\n",
    "plt.show()\n",
    "pyplot.show()"
   ]
  },
  {
   "cell_type": "markdown",
   "metadata": {},
   "source": [
    "## Building the Model"
   ]
  },
  {
   "cell_type": "code",
   "execution_count": 17,
   "metadata": {},
   "outputs": [],
   "source": [
    "# Read Data Frame \n",
    "df_normalized = pd.read_csv('C:/Users/manue/TFM/Financial-Product-Sales-Forecast-Model/Preprocessing/df_normalized.csv')"
   ]
  },
  {
   "cell_type": "code",
   "execution_count": 18,
   "metadata": {},
   "outputs": [
    {
     "data": {
      "text/html": [
       "<div>\n",
       "<style scoped>\n",
       "    .dataframe tbody tr th:only-of-type {\n",
       "        vertical-align: middle;\n",
       "    }\n",
       "\n",
       "    .dataframe tbody tr th {\n",
       "        vertical-align: top;\n",
       "    }\n",
       "\n",
       "    .dataframe thead th {\n",
       "        text-align: right;\n",
       "    }\n",
       "</style>\n",
       "<table border=\"1\" class=\"dataframe\">\n",
       "  <thead>\n",
       "    <tr style=\"text-align: right;\">\n",
       "      <th></th>\n",
       "      <th>saldo_captacion</th>\n",
       "      <th>saldo_financiacion</th>\n",
       "      <th>saldo_ffii</th>\n",
       "      <th>saldo_plp</th>\n",
       "      <th>lp_dom_ingresos</th>\n",
       "      <th>lp_tjta_cto</th>\n",
       "      <th>lp_tjt_rev</th>\n",
       "      <th>lp_rbos</th>\n",
       "      <th>lp_of_int</th>\n",
       "      <th>edad</th>\n",
       "      <th>lp_seg_vida</th>\n",
       "      <th>lp_seg_acc</th>\n",
       "      <th>lp_seg_salud</th>\n",
       "      <th>lp_seg_hogar</th>\n",
       "      <th>lp_seg_auto</th>\n",
       "    </tr>\n",
       "  </thead>\n",
       "  <tbody>\n",
       "    <tr>\n",
       "      <th>323023</th>\n",
       "      <td>25980.20</td>\n",
       "      <td>121.32</td>\n",
       "      <td>0.00</td>\n",
       "      <td>0.0</td>\n",
       "      <td>1</td>\n",
       "      <td>1</td>\n",
       "      <td>0</td>\n",
       "      <td>1</td>\n",
       "      <td>0</td>\n",
       "      <td>83.0</td>\n",
       "      <td>0</td>\n",
       "      <td>0</td>\n",
       "      <td>0</td>\n",
       "      <td>0</td>\n",
       "      <td>0</td>\n",
       "    </tr>\n",
       "    <tr>\n",
       "      <th>157645</th>\n",
       "      <td>17994.57</td>\n",
       "      <td>9525.11</td>\n",
       "      <td>0.00</td>\n",
       "      <td>0.0</td>\n",
       "      <td>0</td>\n",
       "      <td>1</td>\n",
       "      <td>0</td>\n",
       "      <td>1</td>\n",
       "      <td>1</td>\n",
       "      <td>70.0</td>\n",
       "      <td>0</td>\n",
       "      <td>0</td>\n",
       "      <td>0</td>\n",
       "      <td>0</td>\n",
       "      <td>0</td>\n",
       "    </tr>\n",
       "    <tr>\n",
       "      <th>38990</th>\n",
       "      <td>302.47</td>\n",
       "      <td>0.00</td>\n",
       "      <td>0.00</td>\n",
       "      <td>0.0</td>\n",
       "      <td>0</td>\n",
       "      <td>0</td>\n",
       "      <td>0</td>\n",
       "      <td>1</td>\n",
       "      <td>0</td>\n",
       "      <td>103.0</td>\n",
       "      <td>0</td>\n",
       "      <td>0</td>\n",
       "      <td>0</td>\n",
       "      <td>0</td>\n",
       "      <td>0</td>\n",
       "    </tr>\n",
       "    <tr>\n",
       "      <th>375591</th>\n",
       "      <td>10300.61</td>\n",
       "      <td>28086.45</td>\n",
       "      <td>0.00</td>\n",
       "      <td>0.0</td>\n",
       "      <td>1</td>\n",
       "      <td>1</td>\n",
       "      <td>0</td>\n",
       "      <td>1</td>\n",
       "      <td>1</td>\n",
       "      <td>46.0</td>\n",
       "      <td>0</td>\n",
       "      <td>0</td>\n",
       "      <td>0</td>\n",
       "      <td>0</td>\n",
       "      <td>0</td>\n",
       "    </tr>\n",
       "    <tr>\n",
       "      <th>269519</th>\n",
       "      <td>128746.69</td>\n",
       "      <td>0.00</td>\n",
       "      <td>97235.28</td>\n",
       "      <td>0.0</td>\n",
       "      <td>1</td>\n",
       "      <td>1</td>\n",
       "      <td>1</td>\n",
       "      <td>1</td>\n",
       "      <td>1</td>\n",
       "      <td>72.0</td>\n",
       "      <td>0</td>\n",
       "      <td>0</td>\n",
       "      <td>0</td>\n",
       "      <td>0</td>\n",
       "      <td>0</td>\n",
       "    </tr>\n",
       "  </tbody>\n",
       "</table>\n",
       "</div>"
      ],
      "text/plain": [
       "        saldo_captacion  saldo_financiacion  saldo_ffii  saldo_plp  \\\n",
       "323023         25980.20              121.32        0.00        0.0   \n",
       "157645         17994.57             9525.11        0.00        0.0   \n",
       "38990            302.47                0.00        0.00        0.0   \n",
       "375591         10300.61            28086.45        0.00        0.0   \n",
       "269519        128746.69                0.00    97235.28        0.0   \n",
       "\n",
       "        lp_dom_ingresos  lp_tjta_cto  lp_tjt_rev  lp_rbos  lp_of_int   edad  \\\n",
       "323023                1            1           0        1          0   83.0   \n",
       "157645                0            1           0        1          1   70.0   \n",
       "38990                 0            0           0        1          0  103.0   \n",
       "375591                1            1           0        1          1   46.0   \n",
       "269519                1            1           1        1          1   72.0   \n",
       "\n",
       "        lp_seg_vida  lp_seg_acc  lp_seg_salud  lp_seg_hogar  lp_seg_auto  \n",
       "323023            0           0             0             0            0  \n",
       "157645            0           0             0             0            0  \n",
       "38990             0           0             0             0            0  \n",
       "375591            0           0             0             0            0  \n",
       "269519            0           0             0             0            0  "
      ]
     },
     "execution_count": 18,
     "metadata": {},
     "output_type": "execute_result"
    }
   ],
   "source": [
    "df.sample(5)"
   ]
  },
  {
   "cell_type": "code",
   "execution_count": 19,
   "metadata": {},
   "outputs": [
    {
     "name": "stdout",
     "output_type": "stream",
     "text": [
      "Datos X = 6684992 (417812, 16)\n",
      "Datos y = 417812 (417812,)\n"
     ]
    }
   ],
   "source": [
    "# Inputs y Target \n",
    "X = df_normalized.drop(['lp_seg_hogar'], axis = 1)\n",
    "y= df_normalized['lp_seg_hogar']\n",
    "print('Datos X =', X.size, X.shape)\n",
    "print('Datos y =', y.size, y.shape)"
   ]
  },
  {
   "cell_type": "code",
   "execution_count": 20,
   "metadata": {},
   "outputs": [],
   "source": [
    "# We adjust our training and test set. (80-20)\n",
    "test_size = 0.2\n",
    "seed = 47\n",
    "X_train, X_test, y_train, y_test = train_test_split(X, y, test_size = test_size, random_state = seed)"
   ]
  },
  {
   "cell_type": "code",
   "execution_count": 21,
   "metadata": {},
   "outputs": [
    {
     "data": {
      "text/plain": [
       "((334249, 16), (334249,))"
      ]
     },
     "execution_count": 21,
     "metadata": {},
     "output_type": "execute_result"
    }
   ],
   "source": [
    "# Shapes Train\n",
    "X_train.shape, y_train.shape"
   ]
  },
  {
   "cell_type": "code",
   "execution_count": 22,
   "metadata": {},
   "outputs": [
    {
     "data": {
      "text/plain": [
       "((83563, 16), (83563,))"
      ]
     },
     "execution_count": 22,
     "metadata": {},
     "output_type": "execute_result"
    }
   ],
   "source": [
    "# Shapes Test\n",
    "X_test.shape,y_test.shape"
   ]
  },
  {
   "cell_type": "code",
   "execution_count": 23,
   "metadata": {},
   "outputs": [],
   "source": [
    "# Instantiate the classifier\n",
    "clfforest = RandomForestClassifier(class_weight = 'balanced')"
   ]
  },
  {
   "cell_type": "code",
   "execution_count": 24,
   "metadata": {},
   "outputs": [
    {
     "data": {
      "text/plain": [
       "RandomForestClassifier(class_weight='balanced')"
      ]
     },
     "execution_count": 24,
     "metadata": {},
     "output_type": "execute_result"
    }
   ],
   "source": [
    "# Train the model\n",
    "clfforest.fit(X_train, y_train)"
   ]
  },
  {
   "cell_type": "code",
   "execution_count": 25,
   "metadata": {},
   "outputs": [
    {
     "data": {
      "text/plain": [
       "array([0., 0., 0., ..., 0., 0., 0.])"
      ]
     },
     "execution_count": 25,
     "metadata": {},
     "output_type": "execute_result"
    }
   ],
   "source": [
    "# Predictions\n",
    "clfforest.predict(X_test)"
   ]
  },
  {
   "cell_type": "code",
   "execution_count": 26,
   "metadata": {},
   "outputs": [
    {
     "data": {
      "text/plain": [
       "array([0.07     , 0.05     , 0.       , ..., 0.       , 0.0080175,\n",
       "       0.01     ])"
      ]
     },
     "execution_count": 26,
     "metadata": {},
     "output_type": "execute_result"
    }
   ],
   "source": [
    "# Probabilities of having home Insurance\n",
    "clfforest.predict_proba(X_test)[:, 1]"
   ]
  },
  {
   "cell_type": "code",
   "execution_count": 27,
   "metadata": {},
   "outputs": [
    {
     "data": {
      "text/plain": [
       "array([[0.93     , 0.07     ],\n",
       "       [0.95     , 0.05     ],\n",
       "       [1.       , 0.       ],\n",
       "       ...,\n",
       "       [1.       , 0.       ],\n",
       "       [0.9919825, 0.0080175],\n",
       "       [0.99     , 0.01     ]])"
      ]
     },
     "execution_count": 27,
     "metadata": {},
     "output_type": "execute_result"
    }
   ],
   "source": [
    "# All Probabilities\n",
    "clfforest.predict_proba(X_test)"
   ]
  },
  {
   "cell_type": "markdown",
   "metadata": {},
   "source": [
    "__First results__. The results obtained from train and test using the recall metric as a measure show that the model is not generalizing well. There is a serious overfitting situation that I need to solve. We will confirm it by Cross Validation. To look for solutions and as a next step we will use Grid Search to search for the best parameters to use with this model and to obtain a correct metric."
   ]
  },
  {
   "cell_type": "code",
   "execution_count": 28,
   "metadata": {},
   "outputs": [
    {
     "name": "stdout",
     "output_type": "stream",
     "text": [
      "===========RECALL TRAIN============\n",
      "recall = 0.9992111490928215\n",
      "===========RECALL TEST=============\n",
      "recall = 0.3788381018841591\n"
     ]
    }
   ],
   "source": [
    "print('===========RECALL TRAIN============')\n",
    "print('recall =', recall_score(y_train,clfforest.predict(X_train)))\n",
    "print('===========RECALL TEST=============')\n",
    "print('recall =', recall_score(y_test,clfforest.predict(X_test)))"
   ]
  },
  {
   "cell_type": "code",
   "execution_count": 29,
   "metadata": {},
   "outputs": [
    {
     "data": {
      "image/png": "[encoded data removed]",
      "text/plain": [
       "<Figure size 432x288 with 1 Axes>"
      ]
     },
     "metadata": {
      "needs_background": "light"
     },
     "output_type": "display_data"
    }
   ],
   "source": [
    "# Decision tree adjustment graph\n",
    "train_prec =  []\n",
    "eval_prec = []\n",
    "max_deep_list = list(range(3, 15))\n",
    "\n",
    "for deep in max_deep_list:\n",
    "    arbol3 = DecisionTreeClassifier(criterion='gini', max_depth=deep)\n",
    "    arbol3.fit(X_train, y_train)\n",
    "    train_prec.append(arbol3.score(X_train, y_train))\n",
    "    eval_prec.append(arbol3.score(X_test, y_test))\n",
    "\n",
    "# graphing the results.\n",
    "plt.plot(max_deep_list, train_prec, color='r', label='Train')\n",
    "plt.plot(max_deep_list, eval_prec, color='b', label='Test')\n",
    "plt.title('Decision tree adjustment graph')\n",
    "plt.legend()\n",
    "plt.ylabel('precision')\n",
    "plt.xlabel('max_deep')\n",
    "plt.savefig('C:/Users/manue/TFM/Financial-Product-Sales-Forecast-Model/Pictures/RANDOMFOREST Model - Adjustment graph.png', dpi=75,bbox_inches='tight')"
   ]
  },
  {
   "cell_type": "markdown",
   "metadata": {},
   "source": [
    "## Cross validation techniques.  Metrics: Cross validation\n",
    "We use Cross Validation iteratting 5 times throughout the training set.\n",
    "\n",
    "- We will set aside 1/5 samples.\n",
    "- We train the model with the remaining 4/5 samples.\n",
    "- We will measure with different metrics the result obtained on the set aside samples.\n",
    "- This means that we do 5 independent trainings.\n",
    "- The results will be the average of the 5 previous metrics."
   ]
  },
  {
   "cell_type": "code",
   "execution_count": 31,
   "metadata": {},
   "outputs": [
    {
     "data": {
      "text/plain": [
       "(0.6016837065200599, 0.37346760070052537, 0.4618333325776886)"
      ]
     },
     "execution_count": 31,
     "metadata": {},
     "output_type": "execute_result"
    }
   ],
   "source": [
    "from sklearn.model_selection import cross_val_score\n",
    "cross_val_score_precision = cross_val_score(clfforest,X,y,cv=5,scoring=\"precision\").mean()\n",
    "cross_val_score_recall = cross_val_score(clfforest,X,y,cv=5,scoring=\"recall\").mean()\n",
    "cross_val_score_f1 = cross_val_score(clfforest,X,y,cv=5,scoring=\"f1\").mean() \n",
    "cross_val_score_precision , cross_val_score_recall, cross_val_score_f1"
   ]
  },
  {
   "cell_type": "code",
   "execution_count": 30,
   "metadata": {},
   "outputs": [
    {
     "data": {
      "image/png": "[encoded data removed]",
      "text/plain": [
       "<Figure size 288x504 with 1 Axes>"
      ]
     },
     "metadata": {
      "needs_background": "light"
     },
     "output_type": "display_data"
    }
   ],
   "source": [
    "# Plot Confussion matrix \n",
    "matriz_confusion_clfforest = confusion_matrix(y_test,clfforest.predict(X_test))\n",
    "fig, ax = plt.subplots(figsize=(4, 7))\n",
    "ax.matshow(matriz_confusion_clfforest, cmap=plt.cm.YlOrRd)\n",
    "for i in range(matriz_confusion_clfforest.shape[0]):\n",
    "    for j in range(matriz_confusion_clfforest.shape[1]):\n",
    "        ax.text(x=j, y=i, s=matriz_confusion_clfforest[i, j], va='center', ha='center')\n",
    "\n",
    "plt.title('Confusion_Matrix_Random Forest')\n",
    "plt.xlabel('Predicted label')\n",
    "plt.ylabel('True label')\n",
    "plt.tight_layout()\n",
    "plt.savefig('C:/Users/manue/TFM/Financial-Product-Sales-Forecast-Model/Pictures/RANDOMFOREST Model - Confusion_Matrix_Random Forest.png', dpi=75,bbox_inches='tight')\n",
    "plt.show()"
   ]
  },
  {
   "cell_type": "code",
   "execution_count": 31,
   "metadata": {},
   "outputs": [
    {
     "name": "stdout",
     "output_type": "stream",
     "text": [
      "==== Random Forest RESULTS ====\n",
      "------------------------------------\n",
      "accuracy_score = 0.8811675023634862\n",
      "------------------------------------\n",
      "precision  = 0.6072427293064877\n",
      "------------------------------------\n",
      "recall = 0.3788381018841591\n",
      "------------------------------------\n",
      "f1_score = 0.46658788139235063\n",
      "------------------------------------\n",
      "roc_auc_score = 0.8631391430825802\n"
     ]
    }
   ],
   "source": [
    "# Results obtained from the Tree model.\n",
    "\n",
    "accuracy_score_clfforest = accuracy_score(y_test,clfforest.predict(X_test))\n",
    "precision_clfforest  = precision_score(y_test,clfforest.predict(X_test))\n",
    "recall_clfforest = recall_score(y_test,clfforest.predict(X_test))\n",
    "f1_score_clfforest = f1_score(y_test,clfforest.predict(X_test))\n",
    "roc_auc_score_clfforest = roc_auc_score(y_test,clfforest.predict_proba(X_test)[:, 1])\n",
    "\n",
    "print('==== Random Forest RESULTS ====')\n",
    "print('------------------------------------')\n",
    "print('accuracy_score =', accuracy_score_clfforest )\n",
    "print('------------------------------------')\n",
    "print('precision  =',precision_clfforest)\n",
    "print('------------------------------------')\n",
    "print('recall =', recall_clfforest)\n",
    "print('------------------------------------')\n",
    "print('f1_score =', f1_score_clfforest)\n",
    "print('------------------------------------')\n",
    "print('roc_auc_score =', roc_auc_score_clfforest)"
   ]
  },
  {
   "cell_type": "markdown",
   "metadata": {},
   "source": [
    "## Draw Roc Curve"
   ]
  },
  {
   "cell_type": "code",
   "execution_count": 32,
   "metadata": {},
   "outputs": [
    {
     "name": "stdout",
     "output_type": "stream",
     "text": [
      "Without training: ROC AUC=0.500\n",
      "Tree: ROC AUC=0.863\n"
     ]
    },
    {
     "data": {
      "image/png": "[encoded data removed]",
      "text/plain": [
       "<Figure size 432x288 with 1 Axes>"
      ]
     },
     "metadata": {
      "needs_background": "light"
     },
     "output_type": "display_data"
    }
   ],
   "source": [
    "# We paint Roc Curve\n",
    "# We generate an untrained classifier, which will assign 0 to everything\n",
    "no_train = [0 for _ in range(len(X_test))]\n",
    "# We calculate the AUC\n",
    "ns_auc = roc_auc_score(y_test, no_train)\n",
    "lr_auc = roc_auc_score(y_test, clfforest.predict_proba(X_test)[:, 1])\n",
    "# Print\n",
    "print('Without training: ROC AUC=%.3f' % (ns_auc))\n",
    "print('Tree: ROC AUC=%.3f' % (lr_auc))\n",
    "# We calculate the ROC curves\n",
    "ns_fpr, ns_tpr, _ = roc_curve(y_test, no_train)\n",
    "lr_fpr, lr_tpr, _ = roc_curve(y_test, clfforest.predict_proba(X_test)[:, 1])\n",
    "# We paint the ROC curves\n",
    "pyplot.plot(ns_fpr, ns_tpr, linestyle='--', label='Without training')\n",
    "pyplot.plot(lr_fpr, lr_tpr, marker='.', label=' clfforest' , color = \"y\")\n",
    "# Axes labels\n",
    "pyplot.title('Roc Curve Random Forest Model')\n",
    "pyplot.xlabel('False Positive Rate')\n",
    "pyplot.ylabel('True Positive Rate')\n",
    "pyplot.legend()\n",
    "plt.savefig('C:/Users/manue/TFM/Financial-Product-Sales-Forecast-Model/Pictures/RANDOMFOREST- Roc Curve.png', dpi=75,bbox_inches='tight')\n",
    "plt.show()\n",
    "pyplot.show()"
   ]
  },
  {
   "cell_type": "markdown",
   "metadata": {},
   "source": [
    "# GridSearchCV  \n",
    "\n",
    "We evaluate and select the parameters of a model. By providing a model and the parameters to be tested, we can evaluate the performance of the former against the latter by means of cross-validation.\n"
   ]
  },
  {
   "cell_type": "code",
   "execution_count": 33,
   "metadata": {},
   "outputs": [],
   "source": [
    "from sklearn.model_selection import GridSearchCV"
   ]
  },
  {
   "cell_type": "code",
   "execution_count": 34,
   "metadata": {},
   "outputs": [],
   "source": [
    "forest_grid_params = {\n",
    "    'n_estimators' : [100,125],\n",
    "    'max_features' : [\"auto\", \"log2\"],\n",
    "    'criterion' : ['gini', 'entropy'],\n",
    "    'max_depth' : [2,4,6,8,10],\n",
    "    #'max_depth' : [None],\n",
    "    #'min_samples_split' : [2,4,6,8,10],\n",
    "    'min_samples_split' :[2]\n",
    "    #'min_samples_leaf' : [20,25,30]\n",
    "    }\n",
    "\n",
    "forestgs = GridSearchCV(\n",
    "        clfforest,\n",
    "        forest_grid_params,\n",
    "        verbose = 1,\n",
    "        cv = 3,\n",
    "        n_jobs = -1\n",
    "        )\n"
   ]
  },
  {
   "cell_type": "code",
   "execution_count": 35,
   "metadata": {
    "scrolled": false
   },
   "outputs": [
    {
     "name": "stdout",
     "output_type": "stream",
     "text": [
      "Fitting 3 folds for each of 40 candidates, totalling 120 fits\n"
     ]
    },
    {
     "name": "stderr",
     "output_type": "stream",
     "text": [
      "[Parallel(n_jobs=-1)]: Using backend LokyBackend with 12 concurrent workers.\n",
      "[Parallel(n_jobs=-1)]: Done  26 tasks      | elapsed:  1.4min\n",
      "[Parallel(n_jobs=-1)]: Done 120 out of 120 | elapsed:  7.5min finished\n"
     ]
    },
    {
     "data": {
      "text/plain": [
       "GridSearchCV(cv=3, estimator=RandomForestClassifier(class_weight='balanced'),\n",
       "             n_jobs=-1,\n",
       "             param_grid={'criterion': ['gini', 'entropy'],\n",
       "                         'max_depth': [2, 4, 6, 8, 10],\n",
       "                         'max_features': ['auto', 'log2'],\n",
       "                         'min_samples_split': [2], 'n_estimators': [100, 125]},\n",
       "             verbose=1)"
      ]
     },
     "execution_count": 35,
     "metadata": {},
     "output_type": "execute_result"
    }
   ],
   "source": [
    "forestgs.fit(X_train,y_train)"
   ]
  },
  {
   "cell_type": "code",
   "execution_count": 36,
   "metadata": {},
   "outputs": [
    {
     "data": {
      "text/plain": [
       "0.7463896605612366"
      ]
     },
     "execution_count": 36,
     "metadata": {},
     "output_type": "execute_result"
    }
   ],
   "source": [
    "forestgs.best_score_"
   ]
  },
  {
   "cell_type": "code",
   "execution_count": 37,
   "metadata": {},
   "outputs": [
    {
     "data": {
      "text/plain": [
       "RandomForestClassifier(class_weight='balanced', criterion='entropy',\n",
       "                       max_depth=10, max_features='log2')"
      ]
     },
     "execution_count": 37,
     "metadata": {},
     "output_type": "execute_result"
    }
   ],
   "source": [
    "forestgs.best_estimator_"
   ]
  },
  {
   "cell_type": "code",
   "execution_count": 38,
   "metadata": {},
   "outputs": [
    {
     "data": {
      "text/plain": [
       "{'criterion': 'entropy',\n",
       " 'max_depth': 10,\n",
       " 'max_features': 'log2',\n",
       " 'min_samples_split': 2,\n",
       " 'n_estimators': 100}"
      ]
     },
     "execution_count": 38,
     "metadata": {},
     "output_type": "execute_result"
    }
   ],
   "source": [
    "forestgs.best_params_"
   ]
  },
  {
   "cell_type": "markdown",
   "metadata": {},
   "source": [
    "## Build Model with best params"
   ]
  },
  {
   "cell_type": "code",
   "execution_count": 75,
   "metadata": {},
   "outputs": [],
   "source": [
    "clfforest_gs = RandomForestClassifier(class_weight = 'balanced', criterion = 'gini',\n",
    "                                  max_depth = 2, max_features = 'log2', min_samples_split = 2,\n",
    "                                  n_estimators = 125)"
   ]
  },
  {
   "cell_type": "code",
   "execution_count": 76,
   "metadata": {},
   "outputs": [
    {
     "data": {
      "text/plain": [
       "RandomForestClassifier(class_weight='balanced', max_depth=2,\n",
       "                       max_features='log2', n_estimators=125)"
      ]
     },
     "execution_count": 76,
     "metadata": {},
     "output_type": "execute_result"
    }
   ],
   "source": [
    "clfforest_gs.fit(X_train, y_train)"
   ]
  },
  {
   "cell_type": "code",
   "execution_count": 77,
   "metadata": {},
   "outputs": [
    {
     "data": {
      "text/plain": [
       "array([1., 1., 0., ..., 0., 0., 0.])"
      ]
     },
     "execution_count": 77,
     "metadata": {},
     "output_type": "execute_result"
    }
   ],
   "source": [
    "clfforest_gs.predict(X_test)"
   ]
  },
  {
   "cell_type": "code",
   "execution_count": 78,
   "metadata": {},
   "outputs": [
    {
     "data": {
      "text/plain": [
       "array([0.58354272, 0.59325551, 0.32695176, ..., 0.16049845, 0.30811401,\n",
       "       0.20165838])"
      ]
     },
     "execution_count": 78,
     "metadata": {},
     "output_type": "execute_result"
    }
   ],
   "source": [
    "clfforest_gs.predict_proba(X_test)[:, 1]"
   ]
  },
  {
   "cell_type": "markdown",
   "metadata": {},
   "source": [
    "__Evaluation of overfitting__ The results obtained from train and test using the recall metric as a measure show that the overfitting has been solved by using better parameters and confirmed by Cross Validation and different metric averages.\n"
   ]
  },
  {
   "cell_type": "code",
   "execution_count": 43,
   "metadata": {},
   "outputs": [
    {
     "name": "stdout",
     "output_type": "stream",
     "text": [
      "===========RECALL TRAIN============\n",
      "recall = 0.9219914102901219\n",
      "===========RECALL TEST=============\n",
      "recall = 0.9214061409630147\n"
     ]
    }
   ],
   "source": [
    "print('===========RECALL TRAIN============')\n",
    "print('recall =', recall_score(y_train,clfforest_gs.predict(X_train)))\n",
    "print('===========RECALL TEST=============')\n",
    "print('recall =', recall_score(y_test,clfforest_gs.predict(X_test)))"
   ]
  },
  {
   "cell_type": "markdown",
   "metadata": {},
   "source": [
    "## Metrics: Cross validation"
   ]
  },
  {
   "cell_type": "code",
   "execution_count": 44,
   "metadata": {},
   "outputs": [
    {
     "data": {
      "text/plain": [
       "(0.26800632661195284, 0.9167075306479859, 0.4143627397326789)"
      ]
     },
     "execution_count": 44,
     "metadata": {},
     "output_type": "execute_result"
    }
   ],
   "source": [
    "from sklearn.model_selection import cross_val_score\n",
    "cross_val_score_precision = cross_val_score(clfforest_gs,X,y,cv=5,scoring=\"precision\").mean()\n",
    "cross_val_score_recall = cross_val_score(clfforest_gs,X,y,cv=5,scoring=\"recall\").mean()\n",
    "cross_val_score_f1 = cross_val_score(clfforest_gs,X,y,cv=5,scoring=\"f1\").mean() \n",
    "cross_val_score_precision , cross_val_score_recall, cross_val_score_f1"
   ]
  },
  {
   "cell_type": "markdown",
   "metadata": {},
   "source": [
    "### Confussion Matrix"
   ]
  },
  {
   "cell_type": "code",
   "execution_count": 45,
   "metadata": {},
   "outputs": [
    {
     "data": {
      "image/png": "[encoded data removed]",
      "text/plain": [
       "<Figure size 288x504 with 1 Axes>"
      ]
     },
     "metadata": {
      "needs_background": "light"
     },
     "output_type": "display_data"
    }
   ],
   "source": [
    "# Plot Confussion matrix \n",
    "matriz_confusion_clfforest_gs = confusion_matrix(y_test,clfforest_gs.predict(X_test))\n",
    "fig, ax = plt.subplots(figsize=(4, 7))\n",
    "ax.matshow(matriz_confusion_clfforest_gs, cmap=plt.cm.YlOrRd)\n",
    "for i in range(matriz_confusion_clfforest_gs.shape[0]):\n",
    "    for j in range(matriz_confusion_clfforest_gs.shape[1]):\n",
    "        ax.text(x=j, y=i, s=matriz_confusion_clfforest[i, j], va='center', ha='center')\n",
    "\n",
    "plt.title('Confusion_Matrix_Random Forest Gridsearch')\n",
    "plt.xlabel('Predicted label')\n",
    "plt.ylabel('True label')\n",
    "plt.tight_layout()\n",
    "plt.savefig('C:/Users/manue/TFM/Financial-Product-Sales-Forecast-Model/Pictures/RANDOMFOREST Model - Confusion_Matrix_Gridsearch.png', dpi=75,bbox_inches='tight')\n",
    "plt.show()"
   ]
  },
  {
   "cell_type": "code",
   "execution_count": 79,
   "metadata": {},
   "outputs": [
    {
     "name": "stdout",
     "output_type": "stream",
     "text": [
      "==== Random Forest RESULTS ====\n",
      "------------------------------------\n",
      "accuracy_score = 0.6535189019063461\n",
      "------------------------------------\n",
      "precision  = 0.2716542629586108\n",
      "------------------------------------\n",
      "recall = 0.9074494068387997\n",
      "------------------------------------\n",
      "f1_score = 0.41813541268916177\n",
      "------------------------------------\n",
      "roc_auc_score = 0.8262445908799105\n"
     ]
    }
   ],
   "source": [
    "# Results obtained from the Tree model.\n",
    "\n",
    "accuracy_score_clfforest_gs = accuracy_score(y_test,clfforest_gs.predict(X_test))\n",
    "precision_clfforest_gs  = precision_score(y_test,clfforest_gs.predict(X_test))\n",
    "recall_clfforest_gs = recall_score(y_test,clfforest_gs.predict(X_test))\n",
    "f1_score_clfforest_gs = f1_score(y_test,clfforest_gs.predict(X_test))\n",
    "roc_auc_score_clfforest_gs = roc_auc_score(y_test,clfforest_gs.predict_proba(X_test)[:, 1])\n",
    "\n",
    "print('==== Random Forest RESULTS ====')\n",
    "print('------------------------------------')\n",
    "print('accuracy_score =', accuracy_score_clfforest_gs )\n",
    "print('------------------------------------')\n",
    "print('precision  =',precision_clfforest_gs)\n",
    "print('------------------------------------')\n",
    "print('recall =', recall_clfforest_gs)\n",
    "print('------------------------------------')\n",
    "print('f1_score =', f1_score_clfforest_gs)\n",
    "print('------------------------------------')\n",
    "print('roc_auc_score =', roc_auc_score_clfforest_gs)"
   ]
  },
  {
   "cell_type": "markdown",
   "metadata": {},
   "source": [
    "## Curva Roc"
   ]
  },
  {
   "cell_type": "code",
   "execution_count": 47,
   "metadata": {},
   "outputs": [
    {
     "name": "stdout",
     "output_type": "stream",
     "text": [
      "Without training: ROC AUC=0.500\n",
      "Tree: ROC AUC=0.826\n"
     ]
    },
    {
     "data": {
      "image/png": "[encoded data removed]",
      "text/plain": [
       "<Figure size 432x288 with 1 Axes>"
      ]
     },
     "metadata": {
      "needs_background": "light"
     },
     "output_type": "display_data"
    }
   ],
   "source": [
    "# We paint Roc Curve\n",
    "# We generate an untrained classifier, which will assign 0 to everything\n",
    "no_train = [0 for _ in range(len(X_test))]\n",
    "# We calculate the AUC\n",
    "ns_auc = roc_auc_score(y_test, no_train)\n",
    "lr_auc = roc_auc_score(y_test, clfforest_gs.predict_proba(X_test)[:, 1])\n",
    "# Print\n",
    "print('Without training: ROC AUC=%.3f' % (ns_auc))\n",
    "print('Tree: ROC AUC=%.3f' % (lr_auc))\n",
    "# We calculate the ROC curves\n",
    "ns_fpr, ns_tpr, _ = roc_curve(y_test, no_train)\n",
    "lr_fpr, lr_tpr, _ = roc_curve(y_test, clfforest_gs.predict_proba(X_test)[:, 1])\n",
    "# We paint the ROC curves\n",
    "pyplot.plot(ns_fpr, ns_tpr, linestyle='--', label='Without training')\n",
    "pyplot.plot(lr_fpr, lr_tpr, marker='.', label=' Auc clfforest 81%' , color = \"y\")\n",
    "# Axes labels\n",
    "pyplot.title('Roc Curve Random Forest Model Grid Seach')\n",
    "pyplot.xlabel('False Positive Rate')\n",
    "pyplot.ylabel('True Positive Rate')\n",
    "pyplot.legend()\n",
    "plt.savefig('C:/Users/manue/TFM/Financial-Product-Sales-Forecast-Model/Pictures/RANDOMFOREST- Roc Curve GridSearch.png', dpi=75,bbox_inches='tight')\n",
    "plt.show()\n",
    "pyplot.show()"
   ]
  },
  {
   "cell_type": "markdown",
   "metadata": {},
   "source": [
    "## Results evolution"
   ]
  },
  {
   "cell_type": "code",
   "execution_count": 49,
   "metadata": {},
   "outputs": [
    {
     "name": "stdout",
     "output_type": "stream",
     "text": [
      "Results 1rst aproach: RECALL 0.225541, AUC 0.783992\n",
      "Results model: RECALL 0.378838, AUC 0.863139\n",
      "Results model with gridsearch: RECALL 0.921406, AUC 0.825854\n"
     ]
    }
   ],
   "source": [
    "print('Results 1rst aproach: RECALL %f, AUC %f' %(recall_first_aproach, roc_auc_score_first_aproach))\n",
    "print('Results model: RECALL %f, AUC %f' %(recall_clfforest, roc_auc_score_clfforest))\n",
    "print('Results model with gridsearch: RECALL %f, AUC %f' %(recall_clfforest_gs, roc_auc_score_clfforest_gs))"
   ]
  },
  {
   "cell_type": "markdown",
   "metadata": {},
   "source": [
    " ## *** Model Conclussion ***"
   ]
  },
  {
   "cell_type": "markdown",
   "metadata": {},
   "source": [
    "- The metrics chosen__ to evaluate our Random Forest classification model are __Recall and AUC - Roc Curve.__. \n",
    "- We start our model with a __first approximation__ obtaining __very improvable__ results. Recall 0.22__ The database used is the original one without any preprocessing. \n",
    "- We evolve our model. We use as database df_normalized already preprocessed in our preprocessing block. (Adapted, applied Label Encoder and Standar Scaler).  \n",
    "- Since our __Target is very unbalanced__ at the rate of 87% No and 13% Yes, the parameter 'class_weight = 'balanced' has been used in the model setup.\n",
    "- We obtain our first metrics related to the possibility of overfitting. \n",
    "- We see at first how our training set has not generalized well. There is a big difference between the results obtained from Test and Train. 99 Train - 37 Test. We can in this case confirm the existence of overfitting__ We can see all this on a training adjustment graph where we can see that after 8 nodes Train and Test start to separate - We tested by Cross Validation obtaining averages of different metrics. The resulting metrics of this first evolution of the model are 37% Recall and 86% Auc. \n",
    "\n",
    "- We need to improve the model and for this we use GridSearch to search for solutions and better parameters. Once obtained, we train again and get again Recall 92% Train - 91% Test metrics to confirm among other things that we have managed to solve the overfitting and that our model has managed to generalize well. We confirm with Cross Validation by obtaining the averages of different metrics with 5 validations.\n",
    " \n",
    "- Our finally chosen metrics are Reccal 0.92 and AUC 0.82 which we consider appropriate for the explanation of our model. \n",
    "- Confusion Matrix. In the diagonal of hits we have 69264 and 4358. In our model, the detection of clients who do want to take out insurance takes precedence.  We need to obtain a good rate of true positives. Recall that our target metrics are Recall and AUC. By detecting those customers who are likely to have home insurance, we can work more directly. All this with the objective of time optimization and commercial efficiency. The Recall result obtained is optimal, with 91% and 82% in AUC.\n",
    "- We are missing, among many others, variables and data such as customer income, children, type of work, real salary in euros obtained, place of residence ... etc. \n",
    "- We will continue to search with other models for better results with the available variables."
   ]
  },
  {
   "cell_type": "markdown",
   "metadata": {},
   "source": [
    "## Testing Clients"
   ]
  },
  {
   "cell_type": "code",
   "execution_count": 156,
   "metadata": {},
   "outputs": [],
   "source": [
    "X_new = pd.DataFrame({'edad':[60], 'saldo_captacion':[5000], 'saldo_financiacion':[800], 'seg_valor':[1],\n",
    "       'saldo_ffii':[0], 'saldo_plp':[10000], 'lp_dom_ingresos':[1], 'camino_digital':[2], \n",
    "       'seg_recorrido':[1], 'marca_ccte':[0], 'lp_seg_vida':[1], 'lp_seg_auto':[1], 'marca_bp':[0],\n",
    "       'lp_tjta_cto':[1], 'lp_tjt_rev':[0],'lp_seg_acc':[0]})"
   ]
  },
  {
   "cell_type": "code",
   "execution_count": 157,
   "metadata": {},
   "outputs": [
    {
     "data": {
      "text/plain": [
       "array([0.])"
      ]
     },
     "execution_count": 157,
     "metadata": {},
     "output_type": "execute_result"
    }
   ],
   "source": [
    "clfforest_gs.predict(X_new)"
   ]
  },
  {
   "cell_type": "code",
   "execution_count": 158,
   "metadata": {},
   "outputs": [
    {
     "data": {
      "text/plain": [
       "array([[0.54239216, 0.45760784]])"
      ]
     },
     "execution_count": 158,
     "metadata": {},
     "output_type": "execute_result"
    }
   ],
   "source": [
    "clfforest_gs.predict_proba(X_new)"
   ]
  },
  {
   "cell_type": "code",
   "execution_count": 122,
   "metadata": {},
   "outputs": [
    {
     "data": {
      "text/plain": [
       "Index(['saldo_captacion', 'saldo_financiacion', 'edad', 'seg_valor',\n",
       "       'saldo_ffii', 'saldo_plp', 'lp_dom_ingresos', 'camino_digital',\n",
       "       'seg_recorrido', 'marca_ccte', 'lp_seg_vida', 'lp_seg_auto', 'marca_bp',\n",
       "       'lp_tjta_cto', 'lp_tjt_rev', 'lp_seg_acc'],\n",
       "      dtype='object')"
      ]
     },
     "execution_count": 122,
     "metadata": {},
     "output_type": "execute_result"
    }
   ],
   "source": [
    "X.columns"
   ]
  },
  {
   "cell_type": "code",
   "execution_count": null,
   "metadata": {},
   "outputs": [],
   "source": []
  }
 ],
 "metadata": {
  "kernelspec": {
   "display_name": "Python 3",
   "language": "python",
   "name": "python3"
  },
  "language_info": {
   "codemirror_mode": {
    "name": "ipython",
    "version": 3
   },
   "file_extension": ".py",
   "mimetype": "text/x-python",
   "name": "python",
   "nbconvert_exporter": "python",
   "pygments_lexer": "ipython3",
   "version": "3.8.5"
  }
 },
 "nbformat": 4,
 "nbformat_minor": 2
}
