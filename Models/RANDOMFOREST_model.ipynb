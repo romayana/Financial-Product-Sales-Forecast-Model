{
 "cells": [
  {
   "cell_type": "markdown",
   "metadata": {},
   "source": [
    "# MODELO CLASIFICACION RANDOM FOREST \n",
    "\n",
    "\n",
    "\n",
    "\n"
   ]
  },
  {
   "cell_type": "markdown",
   "metadata": {},
   "source": [
    "Presentamos e importamos todas las librerías que vamos a necesitar a lo largo del modelo."
   ]
  },
  {
   "cell_type": "code",
   "execution_count": 1,
   "metadata": {},
   "outputs": [],
   "source": [
    "import pandas as pd\n",
    "import numpy as np\n",
    "\n",
    "#Libreria Metricas\n",
    "from sklearn.metrics import f1_score, recall_score, precision_score, accuracy_score\n",
    "from sklearn.metrics import roc_auc_score, roc_curve\n",
    "from sklearn.metrics import confusion_matrix\n",
    "from sklearn.metrics import classification_report\n",
    "from sklearn.metrics import auc\n",
    "from sklearn.model_selection import KFold\n",
    "from sklearn.metrics import log_loss\n",
    "\n",
    "#Librerias Visualizacion\n",
    "import matplotlib.pyplot as plt\n",
    "import pylab as pl\n",
    "import seaborn as sns \n",
    "from pylab import rcParams \n",
    "from matplotlib import pyplot\n",
    "\n",
    "#Librerias Modelos\n",
    "\n",
    "from sklearn.ensemble import RandomForestClassifier\n",
    "from sklearn.tree import DecisionTreeClassifier\n",
    "from sklearn.model_selection import train_test_split \n",
    "\n"
   ]
  },
  {
   "cell_type": "markdown",
   "metadata": {},
   "source": [
    "Leemos y presentamos nuestra Base de Datos. Mostramos las 5 primeras filas, el tipo y nombre de las Columnas / variables que la componen. Las variables que se refieren a unidades de negocio no van a ser utilizadas en el modelo por lo que las transformamos a Objeto para una mejor comprensión y segmentación de las propias variables."
   ]
  },
  {
   "cell_type": "code",
   "execution_count": 2,
   "metadata": {},
   "outputs": [],
   "source": [
    "# CAMBIAR SEGUN RUTA LOCAL DONDE ESTE UBICADO EL REPOSITORIO\n",
    "ruta = '/Users/manue/TFM'"
   ]
  },
  {
   "cell_type": "code",
   "execution_count": 3,
   "metadata": {},
   "outputs": [],
   "source": [
    "df = pd.read_csv(ruta + '/Financial-Product-Sales-Forecast-Model/Cleanning & Merging/df_cleanned.csv')"
   ]
  },
  {
   "cell_type": "code",
   "execution_count": 4,
   "metadata": {},
   "outputs": [],
   "source": [
    "# Transformamos las variables de la unidad de negocio en objeto ya que no queremos utilizarlas.\n",
    "df[[\"cliente\", \"gestor\",\n",
    "    'codigo_cartera', 'dz', 'oficina']] = df[[\"cliente\", \"gestor\",\n",
    "                                              'codigo_cartera', 'dz', 'oficina']].astype(object);"
   ]
  },
  {
   "cell_type": "code",
   "execution_count": 5,
   "metadata": {
    "scrolled": true
   },
   "outputs": [
    {
     "data": {
      "text/html": [
       "<div>\n",
       "<style scoped>\n",
       "    .dataframe tbody tr th:only-of-type {\n",
       "        vertical-align: middle;\n",
       "    }\n",
       "\n",
       "    .dataframe tbody tr th {\n",
       "        vertical-align: top;\n",
       "    }\n",
       "\n",
       "    .dataframe thead th {\n",
       "        text-align: right;\n",
       "    }\n",
       "</style>\n",
       "<table border=\"1\" class=\"dataframe\">\n",
       "  <thead>\n",
       "    <tr style=\"text-align: right;\">\n",
       "      <th></th>\n",
       "      <th>cliente</th>\n",
       "      <th>saldo_captacion</th>\n",
       "      <th>esta_carterizado</th>\n",
       "      <th>cliente_bbp</th>\n",
       "      <th>tipo_gestor</th>\n",
       "      <th>gestor</th>\n",
       "      <th>cartera_patron</th>\n",
       "      <th>codigo_cartera</th>\n",
       "      <th>digital_3_meses</th>\n",
       "      <th>camino_digital</th>\n",
       "      <th>...</th>\n",
       "      <th>edad</th>\n",
       "      <th>seg_valor</th>\n",
       "      <th>seg_recorrido</th>\n",
       "      <th>dz</th>\n",
       "      <th>oficina</th>\n",
       "      <th>lp_seg_vida</th>\n",
       "      <th>lp_seg_acc</th>\n",
       "      <th>lp_seg_salud</th>\n",
       "      <th>lp_seg_hogar</th>\n",
       "      <th>lp_seg_auto</th>\n",
       "    </tr>\n",
       "  </thead>\n",
       "  <tbody>\n",
       "    <tr>\n",
       "      <th>0</th>\n",
       "      <td>1</td>\n",
       "      <td>1328106.49</td>\n",
       "      <td>SI</td>\n",
       "      <td>NO</td>\n",
       "      <td>ASESOR FINANCIERO</td>\n",
       "      <td>18287</td>\n",
       "      <td>ASESORAMIENTO FINANCIERO</td>\n",
       "      <td>14881</td>\n",
       "      <td>SI</td>\n",
       "      <td>COMPRADOR</td>\n",
       "      <td>...</td>\n",
       "      <td>69.0</td>\n",
       "      <td>ALTO</td>\n",
       "      <td>BAJO RECORRIDO</td>\n",
       "      <td>2</td>\n",
       "      <td>210</td>\n",
       "      <td>0</td>\n",
       "      <td>0</td>\n",
       "      <td>0</td>\n",
       "      <td>1</td>\n",
       "      <td>0</td>\n",
       "    </tr>\n",
       "    <tr>\n",
       "      <th>1</th>\n",
       "      <td>2</td>\n",
       "      <td>1142234.34</td>\n",
       "      <td>SI</td>\n",
       "      <td>NO</td>\n",
       "      <td>ASESOR FINANCIERO</td>\n",
       "      <td>18287</td>\n",
       "      <td>ASESORAMIENTO FINANCIERO</td>\n",
       "      <td>14881</td>\n",
       "      <td>SI</td>\n",
       "      <td>COMPRADOR</td>\n",
       "      <td>...</td>\n",
       "      <td>81.0</td>\n",
       "      <td>ALTO</td>\n",
       "      <td>ALTO RECORRIDO</td>\n",
       "      <td>2</td>\n",
       "      <td>210</td>\n",
       "      <td>0</td>\n",
       "      <td>0</td>\n",
       "      <td>0</td>\n",
       "      <td>0</td>\n",
       "      <td>0</td>\n",
       "    </tr>\n",
       "    <tr>\n",
       "      <th>2</th>\n",
       "      <td>3</td>\n",
       "      <td>1142234.34</td>\n",
       "      <td>SI</td>\n",
       "      <td>NO</td>\n",
       "      <td>ASESOR FINANCIERO</td>\n",
       "      <td>18287</td>\n",
       "      <td>TUTELA</td>\n",
       "      <td>28332</td>\n",
       "      <td>NO</td>\n",
       "      <td>SIN USO</td>\n",
       "      <td>...</td>\n",
       "      <td>75.0</td>\n",
       "      <td>ALTO</td>\n",
       "      <td>BAJO RECORRIDO</td>\n",
       "      <td>2</td>\n",
       "      <td>210</td>\n",
       "      <td>0</td>\n",
       "      <td>0</td>\n",
       "      <td>0</td>\n",
       "      <td>0</td>\n",
       "      <td>0</td>\n",
       "    </tr>\n",
       "    <tr>\n",
       "      <th>3</th>\n",
       "      <td>4</td>\n",
       "      <td>1340503.88</td>\n",
       "      <td>SI</td>\n",
       "      <td>NO</td>\n",
       "      <td>ASESOR FINANCIERO</td>\n",
       "      <td>41475</td>\n",
       "      <td>ASESORAMIENTO FINANCIERO</td>\n",
       "      <td>14204</td>\n",
       "      <td>NO</td>\n",
       "      <td>SIN USO</td>\n",
       "      <td>...</td>\n",
       "      <td>94.0</td>\n",
       "      <td>ALTO</td>\n",
       "      <td>BAJO RECORRIDO</td>\n",
       "      <td>2</td>\n",
       "      <td>210</td>\n",
       "      <td>0</td>\n",
       "      <td>0</td>\n",
       "      <td>0</td>\n",
       "      <td>0</td>\n",
       "      <td>0</td>\n",
       "    </tr>\n",
       "    <tr>\n",
       "      <th>4</th>\n",
       "      <td>5</td>\n",
       "      <td>1758517.70</td>\n",
       "      <td>SI</td>\n",
       "      <td>NO</td>\n",
       "      <td>ASESOR FINANCIERO</td>\n",
       "      <td>39000</td>\n",
       "      <td>ASESORAMIENTO FINANCIERO</td>\n",
       "      <td>14219</td>\n",
       "      <td>SI</td>\n",
       "      <td>COMPRADOR</td>\n",
       "      <td>...</td>\n",
       "      <td>64.0</td>\n",
       "      <td>ALTO</td>\n",
       "      <td>BAJO RECORRIDO</td>\n",
       "      <td>2</td>\n",
       "      <td>210</td>\n",
       "      <td>0</td>\n",
       "      <td>0</td>\n",
       "      <td>0</td>\n",
       "      <td>0</td>\n",
       "      <td>0</td>\n",
       "    </tr>\n",
       "  </tbody>\n",
       "</table>\n",
       "<p>5 rows × 30 columns</p>\n",
       "</div>"
      ],
      "text/plain": [
       "  cliente  saldo_captacion esta_carterizado cliente_bbp        tipo_gestor  \\\n",
       "0       1       1328106.49               SI          NO  ASESOR FINANCIERO   \n",
       "1       2       1142234.34               SI          NO  ASESOR FINANCIERO   \n",
       "2       3       1142234.34               SI          NO  ASESOR FINANCIERO   \n",
       "3       4       1340503.88               SI          NO  ASESOR FINANCIERO   \n",
       "4       5       1758517.70               SI          NO  ASESOR FINANCIERO   \n",
       "\n",
       "  gestor            cartera_patron codigo_cartera digital_3_meses  \\\n",
       "0  18287  ASESORAMIENTO FINANCIERO          14881              SI   \n",
       "1  18287  ASESORAMIENTO FINANCIERO          14881              SI   \n",
       "2  18287                    TUTELA          28332              NO   \n",
       "3  41475  ASESORAMIENTO FINANCIERO          14204              NO   \n",
       "4  39000  ASESORAMIENTO FINANCIERO          14219              SI   \n",
       "\n",
       "  camino_digital  ...  edad  seg_valor   seg_recorrido  dz  oficina  \\\n",
       "0      COMPRADOR  ...  69.0       ALTO  BAJO RECORRIDO   2      210   \n",
       "1      COMPRADOR  ...  81.0       ALTO  ALTO RECORRIDO   2      210   \n",
       "2        SIN USO  ...  75.0       ALTO  BAJO RECORRIDO   2      210   \n",
       "3        SIN USO  ...  94.0       ALTO  BAJO RECORRIDO   2      210   \n",
       "4      COMPRADOR  ...  64.0       ALTO  BAJO RECORRIDO   2      210   \n",
       "\n",
       "   lp_seg_vida  lp_seg_acc  lp_seg_salud lp_seg_hogar lp_seg_auto  \n",
       "0            0           0             0            1           0  \n",
       "1            0           0             0            0           0  \n",
       "2            0           0             0            0           0  \n",
       "3            0           0             0            0           0  \n",
       "4            0           0             0            0           0  \n",
       "\n",
       "[5 rows x 30 columns]"
      ]
     },
     "execution_count": 5,
     "metadata": {},
     "output_type": "execute_result"
    }
   ],
   "source": [
    "df.head(5)"
   ]
  },
  {
   "cell_type": "markdown",
   "metadata": {},
   "source": [
    "## Primera Aproximacion al modelo"
   ]
  },
  {
   "cell_type": "code",
   "execution_count": 6,
   "metadata": {},
   "outputs": [],
   "source": [
    "df = df.select_dtypes('number')"
   ]
  },
  {
   "cell_type": "code",
   "execution_count": 7,
   "metadata": {},
   "outputs": [
    {
     "name": "stdout",
     "output_type": "stream",
     "text": [
      "Datos X = 6319236 (451374, 14)\n",
      "Datos y = 451374 (451374,)\n"
     ]
    }
   ],
   "source": [
    "# Inputs y Target \n",
    "X = df.drop(['lp_seg_hogar'], axis = 1)\n",
    "y= df['lp_seg_hogar']\n",
    "print('Datos X =', X.size, X.shape)\n",
    "print('Datos y =', y.size, y.shape)"
   ]
  },
  {
   "cell_type": "code",
   "execution_count": 8,
   "metadata": {},
   "outputs": [],
   "source": [
    "# Instanciamos el clasificador\n",
    "clfforest_first_aproach = RandomForestClassifier()"
   ]
  },
  {
   "cell_type": "code",
   "execution_count": 9,
   "metadata": {},
   "outputs": [
    {
     "data": {
      "text/plain": [
       "RandomForestClassifier()"
      ]
     },
     "execution_count": 9,
     "metadata": {},
     "output_type": "execute_result"
    }
   ],
   "source": [
    "# Entrenamos el Modelo\n",
    "clfforest_first_aproach.fit(X,y)"
   ]
  },
  {
   "cell_type": "code",
   "execution_count": 10,
   "metadata": {},
   "outputs": [
    {
     "data": {
      "text/plain": [
       "array([1, 0, 0, ..., 0, 0, 0], dtype=int64)"
      ]
     },
     "execution_count": 10,
     "metadata": {},
     "output_type": "execute_result"
    }
   ],
   "source": [
    "# Predicciones\n",
    "clfforest_first_aproach.predict(X)"
   ]
  },
  {
   "cell_type": "code",
   "execution_count": 11,
   "metadata": {},
   "outputs": [],
   "source": [
    "# Dividimos el Data Frame en set de entrenamiento y Test.  80% Entrenamiento y 20% TEst\n",
    "test_size = 0.20\n",
    "seed = 7\n",
    "X_train, X_test, y_train, y_test = train_test_split(X, y, test_size = test_size, random_state = seed)"
   ]
  },
  {
   "cell_type": "code",
   "execution_count": 12,
   "metadata": {},
   "outputs": [
    {
     "data": {
      "text/plain": [
       "RandomForestClassifier()"
      ]
     },
     "execution_count": 12,
     "metadata": {},
     "output_type": "execute_result"
    }
   ],
   "source": [
    "# Entrenamos\n",
    "clfforest_first_aproach.fit(X_train,y_train)"
   ]
  },
  {
   "cell_type": "code",
   "execution_count": 13,
   "metadata": {},
   "outputs": [
    {
     "data": {
      "text/plain": [
       "array([0, 0, 1, ..., 0, 0, 0], dtype=int64)"
      ]
     },
     "execution_count": 13,
     "metadata": {},
     "output_type": "execute_result"
    }
   ],
   "source": [
    "# Predicciones\n",
    "clfforest_first_aproach.predict(X_test)"
   ]
  },
  {
   "cell_type": "code",
   "execution_count": 14,
   "metadata": {
    "scrolled": true
   },
   "outputs": [
    {
     "data": {
      "text/plain": [
       "array([0.03, 0.26, 0.57, ..., 0.1 , 0.09, 0.28])"
      ]
     },
     "execution_count": 14,
     "metadata": {},
     "output_type": "execute_result"
    }
   ],
   "source": [
    "# Probabilidades de tener seguro de hogar\n",
    "clfforest_first_aproach.predict_proba(X_test)[:, 1]"
   ]
  },
  {
   "cell_type": "code",
   "execution_count": 15,
   "metadata": {},
   "outputs": [
    {
     "name": "stdout",
     "output_type": "stream",
     "text": [
      "== Primera Aproximacion RandomForest ==\n",
      "------------------------------------\n",
      "accuracy_score = 0.8558515646635281\n",
      "------------------------------------\n",
      "precision  = 0.40611620795107034\n",
      "------------------------------------\n",
      "recall = 0.22537123462028003\n",
      "------------------------------------\n",
      "f1_score = 0.28987721691678037\n",
      "------------------------------------\n",
      "roc_auc_score = 0.7838951577162342\n"
     ]
    }
   ],
   "source": [
    "# Resultados obtenidos Primera Aproximación\n",
    "\n",
    "accuracy_score_first_aproach = accuracy_score(y_test,clfforest_first_aproach.predict(X_test))\n",
    "precision_first_aproach  = precision_score(y_test,clfforest_first_aproach.predict(X_test))\n",
    "recall_first_aproach = recall_score(y_test,clfforest_first_aproach.predict(X_test))\n",
    "f1_score_first_aproach = f1_score(y_test,clfforest_first_aproach.predict(X_test))\n",
    "roc_auc_score_first_aproach = roc_auc_score(y_test,clfforest_first_aproach.predict_proba(X_test)[:, 1])\n",
    "\n",
    "print('== Primera Aproximacion RandomForest ==')\n",
    "print('------------------------------------')\n",
    "print ('accuracy_score =', accuracy_score_first_aproach)\n",
    "print('------------------------------------')\n",
    "print('precision  =',precision_first_aproach)\n",
    "print('------------------------------------')\n",
    "print('recall =', recall_first_aproach)\n",
    "print('------------------------------------')\n",
    "print('f1_score =', f1_score_first_aproach)\n",
    "print('------------------------------------')\n",
    "print('roc_auc_score =', roc_auc_score_first_aproach)"
   ]
  },
  {
   "cell_type": "code",
   "execution_count": 16,
   "metadata": {},
   "outputs": [
    {
     "name": "stdout",
     "output_type": "stream",
     "text": [
      "Sin Entrenar: ROC AUC=0.500\n",
      "Tree: ROC AUC=0.784\n"
     ]
    },
    {
     "data": {
      "image/png": "[encoded data removed]",
      "text/plain": [
       "<Figure size 432x288 with 1 Axes>"
      ]
     },
     "metadata": {
      "needs_background": "light"
     },
     "output_type": "display_data"
    }
   ],
   "source": [
    "# Ploteamos la Curva ROC\n",
    "# Generamos un Clasificador sin entrenar\n",
    "no_train = [0 for _ in range(len(X_test))]\n",
    "# Calculamos AUC\n",
    "ns_auc = roc_auc_score(y_test, no_train)\n",
    "lr_auc = roc_auc_score(y_test, clfforest_first_aproach.predict_proba(X_test)[:, 1])\n",
    "# Print\n",
    "print('Sin Entrenar: ROC AUC=%.3f' % (ns_auc))\n",
    "print('Tree: ROC AUC=%.3f' % (lr_auc))\n",
    "# Calculamos la Curva ROC\n",
    "ns_fpr, ns_tpr, _ = roc_curve(y_test, no_train)\n",
    "lr_fpr, lr_tpr, _ = roc_curve(y_test, clfforest_first_aproach.predict_proba(X_test)[:, 1])\n",
    "# Ploteamos\n",
    "pyplot.plot(ns_fpr, ns_tpr, linestyle='--', label='Sin Entrenar')\n",
    "pyplot.plot(lr_fpr, lr_tpr, marker='.', label=' clfforest_first_aproach' , color = \"y\")\n",
    "# Etiquetas\n",
    "pyplot.title('Curva ROC Primera Aproximacion')\n",
    "pyplot.xlabel('Tasa Falso Positivo')\n",
    "pyplot.ylabel('Tasa Verdadero Positivo')\n",
    "pyplot.legend()\n",
    "plt.savefig(ruta + '/Financial-Product-Sales-Forecast-Model/Images/RANDOMFOREST Model - Roc Curve First Aproach.png', dpi=75,bbox_inches='tight')\n",
    "plt.show()\n",
    "pyplot.show()"
   ]
  },
  {
   "cell_type": "markdown",
   "metadata": {},
   "source": [
    "## Construccion del Modelo"
   ]
  },
  {
   "cell_type": "code",
   "execution_count": 17,
   "metadata": {},
   "outputs": [],
   "source": [
    "# Read Data Frame \n",
    "df_normalized = pd.read_csv(ruta + '/Financial-Product-Sales-Forecast-Model/Preprocessing/df_encoded.csv')"
   ]
  },
  {
   "cell_type": "code",
   "execution_count": 18,
   "metadata": {},
   "outputs": [
    {
     "name": "stdout",
     "output_type": "stream",
     "text": [
      "<class 'pandas.core.frame.DataFrame'>\n",
      "RangeIndex: 417812 entries, 0 to 417811\n",
      "Data columns (total 18 columns):\n",
      " #   Column              Non-Null Count   Dtype  \n",
      "---  ------              --------------   -----  \n",
      " 0   saldo_captacion     417812 non-null  float64\n",
      " 1   saldo_financiacion  417812 non-null  float64\n",
      " 2   edad                417812 non-null  float64\n",
      " 3   seg_valor           417812 non-null  int64  \n",
      " 4   saldo_ffii          417812 non-null  int64  \n",
      " 5   saldo_plp           417812 non-null  int64  \n",
      " 6   lp_dom_ingresos     417812 non-null  int64  \n",
      " 7   lp_rbos             417812 non-null  int64  \n",
      " 8   camino_digital      417812 non-null  int64  \n",
      " 9   seg_recorrido       417812 non-null  int64  \n",
      " 10  marca_ccte          417812 non-null  int64  \n",
      " 11  lp_seg_vida         417812 non-null  int64  \n",
      " 12  lp_seg_auto         417812 non-null  int64  \n",
      " 13  marca_bp            417812 non-null  int64  \n",
      " 14  lp_tjta_cto         417812 non-null  int64  \n",
      " 15  lp_tjt_rev          417812 non-null  int64  \n",
      " 16  lp_seg_acc          417812 non-null  int64  \n",
      " 17  lp_seg_hogar        417812 non-null  int64  \n",
      "dtypes: float64(3), int64(15)\n",
      "memory usage: 57.4 MB\n"
     ]
    }
   ],
   "source": [
    "df_normalized.info()"
   ]
  },
  {
   "cell_type": "code",
   "execution_count": 19,
   "metadata": {
    "scrolled": true
   },
   "outputs": [
    {
     "data": {
      "text/plain": [
       "Index(['saldo_captacion', 'saldo_financiacion', 'edad', 'seg_valor',\n",
       "       'saldo_ffii', 'saldo_plp', 'lp_dom_ingresos', 'lp_rbos',\n",
       "       'camino_digital', 'seg_recorrido', 'marca_ccte', 'lp_seg_vida',\n",
       "       'lp_seg_auto', 'marca_bp', 'lp_tjta_cto', 'lp_tjt_rev', 'lp_seg_acc',\n",
       "       'lp_seg_hogar'],\n",
       "      dtype='object')"
      ]
     },
     "execution_count": 19,
     "metadata": {},
     "output_type": "execute_result"
    }
   ],
   "source": [
    "df_normalized.columns"
   ]
  },
  {
   "cell_type": "code",
   "execution_count": 20,
   "metadata": {},
   "outputs": [
    {
     "data": {
      "text/html": [
       "<div>\n",
       "<style scoped>\n",
       "    .dataframe tbody tr th:only-of-type {\n",
       "        vertical-align: middle;\n",
       "    }\n",
       "\n",
       "    .dataframe tbody tr th {\n",
       "        vertical-align: top;\n",
       "    }\n",
       "\n",
       "    .dataframe thead th {\n",
       "        text-align: right;\n",
       "    }\n",
       "</style>\n",
       "<table border=\"1\" class=\"dataframe\">\n",
       "  <thead>\n",
       "    <tr style=\"text-align: right;\">\n",
       "      <th></th>\n",
       "      <th>saldo_captacion</th>\n",
       "      <th>saldo_financiacion</th>\n",
       "      <th>saldo_ffii</th>\n",
       "      <th>saldo_plp</th>\n",
       "      <th>lp_dom_ingresos</th>\n",
       "      <th>lp_tjta_cto</th>\n",
       "      <th>lp_tjt_rev</th>\n",
       "      <th>lp_rbos</th>\n",
       "      <th>lp_of_int</th>\n",
       "      <th>edad</th>\n",
       "      <th>lp_seg_vida</th>\n",
       "      <th>lp_seg_acc</th>\n",
       "      <th>lp_seg_salud</th>\n",
       "      <th>lp_seg_hogar</th>\n",
       "      <th>lp_seg_auto</th>\n",
       "    </tr>\n",
       "  </thead>\n",
       "  <tbody>\n",
       "    <tr>\n",
       "      <th>37942</th>\n",
       "      <td>1360.93</td>\n",
       "      <td>0.00</td>\n",
       "      <td>0.0</td>\n",
       "      <td>0.0</td>\n",
       "      <td>0</td>\n",
       "      <td>0</td>\n",
       "      <td>0</td>\n",
       "      <td>1</td>\n",
       "      <td>0</td>\n",
       "      <td>72.0</td>\n",
       "      <td>0</td>\n",
       "      <td>0</td>\n",
       "      <td>0</td>\n",
       "      <td>0</td>\n",
       "      <td>0</td>\n",
       "    </tr>\n",
       "    <tr>\n",
       "      <th>367960</th>\n",
       "      <td>18338.94</td>\n",
       "      <td>4.92</td>\n",
       "      <td>0.0</td>\n",
       "      <td>0.0</td>\n",
       "      <td>1</td>\n",
       "      <td>1</td>\n",
       "      <td>1</td>\n",
       "      <td>1</td>\n",
       "      <td>1</td>\n",
       "      <td>30.0</td>\n",
       "      <td>0</td>\n",
       "      <td>0</td>\n",
       "      <td>0</td>\n",
       "      <td>0</td>\n",
       "      <td>0</td>\n",
       "    </tr>\n",
       "    <tr>\n",
       "      <th>414998</th>\n",
       "      <td>24996.83</td>\n",
       "      <td>15751.15</td>\n",
       "      <td>0.0</td>\n",
       "      <td>0.0</td>\n",
       "      <td>1</td>\n",
       "      <td>1</td>\n",
       "      <td>0</td>\n",
       "      <td>1</td>\n",
       "      <td>0</td>\n",
       "      <td>60.0</td>\n",
       "      <td>0</td>\n",
       "      <td>0</td>\n",
       "      <td>0</td>\n",
       "      <td>1</td>\n",
       "      <td>0</td>\n",
       "    </tr>\n",
       "    <tr>\n",
       "      <th>180572</th>\n",
       "      <td>14130.19</td>\n",
       "      <td>0.00</td>\n",
       "      <td>0.0</td>\n",
       "      <td>1737.2</td>\n",
       "      <td>1</td>\n",
       "      <td>0</td>\n",
       "      <td>0</td>\n",
       "      <td>1</td>\n",
       "      <td>1</td>\n",
       "      <td>64.0</td>\n",
       "      <td>0</td>\n",
       "      <td>0</td>\n",
       "      <td>0</td>\n",
       "      <td>0</td>\n",
       "      <td>0</td>\n",
       "    </tr>\n",
       "    <tr>\n",
       "      <th>236486</th>\n",
       "      <td>1467.58</td>\n",
       "      <td>0.00</td>\n",
       "      <td>0.0</td>\n",
       "      <td>0.0</td>\n",
       "      <td>1</td>\n",
       "      <td>0</td>\n",
       "      <td>0</td>\n",
       "      <td>1</td>\n",
       "      <td>0</td>\n",
       "      <td>73.0</td>\n",
       "      <td>0</td>\n",
       "      <td>0</td>\n",
       "      <td>0</td>\n",
       "      <td>0</td>\n",
       "      <td>0</td>\n",
       "    </tr>\n",
       "  </tbody>\n",
       "</table>\n",
       "</div>"
      ],
      "text/plain": [
       "        saldo_captacion  saldo_financiacion  saldo_ffii  saldo_plp  \\\n",
       "37942           1360.93                0.00         0.0        0.0   \n",
       "367960         18338.94                4.92         0.0        0.0   \n",
       "414998         24996.83            15751.15         0.0        0.0   \n",
       "180572         14130.19                0.00         0.0     1737.2   \n",
       "236486          1467.58                0.00         0.0        0.0   \n",
       "\n",
       "        lp_dom_ingresos  lp_tjta_cto  lp_tjt_rev  lp_rbos  lp_of_int  edad  \\\n",
       "37942                 0            0           0        1          0  72.0   \n",
       "367960                1            1           1        1          1  30.0   \n",
       "414998                1            1           0        1          0  60.0   \n",
       "180572                1            0           0        1          1  64.0   \n",
       "236486                1            0           0        1          0  73.0   \n",
       "\n",
       "        lp_seg_vida  lp_seg_acc  lp_seg_salud  lp_seg_hogar  lp_seg_auto  \n",
       "37942             0           0             0             0            0  \n",
       "367960            0           0             0             0            0  \n",
       "414998            0           0             0             1            0  \n",
       "180572            0           0             0             0            0  \n",
       "236486            0           0             0             0            0  "
      ]
     },
     "execution_count": 20,
     "metadata": {},
     "output_type": "execute_result"
    }
   ],
   "source": [
    "df.sample(5)"
   ]
  },
  {
   "cell_type": "code",
   "execution_count": 21,
   "metadata": {},
   "outputs": [
    {
     "name": "stdout",
     "output_type": "stream",
     "text": [
      "Datos X = 7102804 (417812, 17)\n",
      "Datos y = 417812 (417812,)\n"
     ]
    }
   ],
   "source": [
    "# Inputs y Target \n",
    "X = df_normalized.drop(['lp_seg_hogar'], axis = 1)\n",
    "y= df_normalized['lp_seg_hogar']\n",
    "print('Datos X =', X.size, X.shape)\n",
    "print('Datos y =', y.size, y.shape)"
   ]
  },
  {
   "cell_type": "code",
   "execution_count": 22,
   "metadata": {},
   "outputs": [],
   "source": [
    "# Dividimos el DF en set de entrenamiento y Test (80% train - 20% test)\n",
    "test_size = 0.2\n",
    "seed = 47\n",
    "X_train, X_test, y_train, y_test = train_test_split(X, y, test_size = test_size, random_state = seed)"
   ]
  },
  {
   "cell_type": "code",
   "execution_count": 23,
   "metadata": {},
   "outputs": [
    {
     "data": {
      "text/plain": [
       "((334249, 17), (334249,))"
      ]
     },
     "execution_count": 23,
     "metadata": {},
     "output_type": "execute_result"
    }
   ],
   "source": [
    "# Shapes Train\n",
    "X_train.shape, y_train.shape"
   ]
  },
  {
   "cell_type": "code",
   "execution_count": 24,
   "metadata": {},
   "outputs": [
    {
     "data": {
      "text/plain": [
       "((83563, 17), (83563,))"
      ]
     },
     "execution_count": 24,
     "metadata": {},
     "output_type": "execute_result"
    }
   ],
   "source": [
    "# Shapes Test\n",
    "X_test.shape,y_test.shape"
   ]
  },
  {
   "cell_type": "code",
   "execution_count": 25,
   "metadata": {},
   "outputs": [],
   "source": [
    "# Instanciamos el Clasificador. Incorporamos un primer estimador para balancear el data set.\n",
    "clfforest = RandomForestClassifier(class_weight = 'balanced')"
   ]
  },
  {
   "cell_type": "code",
   "execution_count": 26,
   "metadata": {},
   "outputs": [
    {
     "data": {
      "text/plain": [
       "RandomForestClassifier(class_weight='balanced')"
      ]
     },
     "execution_count": 26,
     "metadata": {},
     "output_type": "execute_result"
    }
   ],
   "source": [
    "# Entrenamos\n",
    "clfforest.fit(X_train, y_train)"
   ]
  },
  {
   "cell_type": "code",
   "execution_count": 27,
   "metadata": {},
   "outputs": [
    {
     "data": {
      "text/plain": [
       "array([0, 0, 0, ..., 0, 0, 0], dtype=int64)"
      ]
     },
     "execution_count": 27,
     "metadata": {},
     "output_type": "execute_result"
    }
   ],
   "source": [
    "# Predicciones\n",
    "clfforest.predict(X_test)"
   ]
  },
  {
   "cell_type": "code",
   "execution_count": 28,
   "metadata": {},
   "outputs": [
    {
     "data": {
      "text/plain": [
       "array([0.09, 0.05, 0.  , ..., 0.01, 0.  , 0.01])"
      ]
     },
     "execution_count": 28,
     "metadata": {},
     "output_type": "execute_result"
    }
   ],
   "source": [
    "# Probabilidades de tener seguro de hogar\n",
    "clfforest.predict_proba(X_test)[:, 1]"
   ]
  },
  {
   "cell_type": "code",
   "execution_count": 29,
   "metadata": {},
   "outputs": [
    {
     "data": {
      "text/plain": [
       "array([[0.91, 0.09],\n",
       "       [0.95, 0.05],\n",
       "       [1.  , 0.  ],\n",
       "       ...,\n",
       "       [0.99, 0.01],\n",
       "       [1.  , 0.  ],\n",
       "       [0.99, 0.01]])"
      ]
     },
     "execution_count": 29,
     "metadata": {},
     "output_type": "execute_result"
    }
   ],
   "source": [
    "# Todas las probabilidades\n",
    "clfforest.predict_proba(X_test)"
   ]
  },
  {
   "cell_type": "markdown",
   "metadata": {},
   "source": [
    "__Primeros resultados__. Los resultados obtenidos en el entrenamiento y test utilizando la métrica Recall como medida muestran que el modelo no está generalizando bien. Hay una situación grave de sobreajuste que debo resolver. Lo confirmaremos mediante la Validación Cruzada. "
   ]
  },
  {
   "cell_type": "code",
   "execution_count": 30,
   "metadata": {},
   "outputs": [
    {
     "name": "stdout",
     "output_type": "stream",
     "text": [
      "===========RECALL TRAIN============\n",
      "recall = 0.9996493995968095\n",
      "===========RECALL TEST=============\n",
      "recall = 0.38136775994417305\n"
     ]
    }
   ],
   "source": [
    "print('===========RECALL TRAIN============')\n",
    "print('recall =', recall_score(y_train,clfforest.predict(X_train)))\n",
    "print('===========RECALL TEST=============')\n",
    "print('recall =', recall_score(y_test,clfforest.predict(X_test)))"
   ]
  },
  {
   "cell_type": "code",
   "execution_count": 31,
   "metadata": {},
   "outputs": [
    {
     "data": {
      "image/png": "[encoded data removed]",
      "text/plain": [
       "<Figure size 432x288 with 1 Axes>"
      ]
     },
     "metadata": {
      "needs_background": "light"
     },
     "output_type": "display_data"
    }
   ],
   "source": [
    "# Grafico de Evaluacion de Overfitting\n",
    "# Se confirma con esta visualizacion que a partir de 8 profundidades el modelo empieza a generar overfitting\n",
    "train_prec =  []\n",
    "eval_prec = []\n",
    "max_deep_list = list(range(3, 25))\n",
    "\n",
    "for deep in max_deep_list:\n",
    "    arbol3 = DecisionTreeClassifier(criterion='gini', max_depth=deep)\n",
    "    arbol3.fit(X_train, y_train)\n",
    "    train_prec.append(arbol3.score(X_train, y_train))\n",
    "    eval_prec.append(arbol3.score(X_test, y_test))\n",
    "\n",
    "# Ploteamos.\n",
    "plt.plot(max_deep_list, train_prec, color='r', label='Train')\n",
    "plt.plot(max_deep_list, eval_prec, color='b', label='Test')\n",
    "plt.title('Grafico de Evaluacion de Overfitting')\n",
    "plt.legend()\n",
    "plt.ylabel('precision')\n",
    "plt.xlabel('Profundidad Maxima')\n",
    "plt.savefig(ruta + '/Financial-Product-Sales-Forecast-Model/Images/RANDOMFOREST Model - Evaluacion de Overfitting.png', dpi=75,bbox_inches='tight')"
   ]
  },
  {
   "cell_type": "markdown",
   "metadata": {},
   "source": [
    "## Técnicas de validación cruzada.  Métricas: Validación cruzada\n",
    "Utilizamos la validación cruzada iterando 5 veces a lo largo del conjunto de entrenamiento.\n",
    "\n",
    "- Apartamos 1/5 muestras.\n",
    "- Entrenamos el modelo con las 4/5 muestras restantes.\n",
    "- Mediremos con diferentes métricas el resultado obtenido en las muestras apartadas.\n",
    "- Esto significa que hacemos 5 entrenamientos independientes.\n",
    "- El resultado será la media de las 5 métricas anteriores."
   ]
  },
  {
   "cell_type": "code",
   "execution_count": 32,
   "metadata": {},
   "outputs": [
    {
     "data": {
      "text/plain": [
       "(0.6022989810290005, 0.3762171628721541, 0.46393034826539187)"
      ]
     },
     "execution_count": 32,
     "metadata": {},
     "output_type": "execute_result"
    }
   ],
   "source": [
    "from sklearn.model_selection import cross_val_score\n",
    "cross_val_score_precision = cross_val_score(clfforest,X,y,cv=5,scoring=\"precision\").mean()\n",
    "cross_val_score_recall = cross_val_score(clfforest,X,y,cv=5,scoring=\"recall\").mean()\n",
    "cross_val_score_f1 = cross_val_score(clfforest,X,y,cv=5,scoring=\"f1\").mean() \n",
    "cross_val_score_precision , cross_val_score_recall, cross_val_score_f1"
   ]
  },
  {
   "cell_type": "code",
   "execution_count": 33,
   "metadata": {},
   "outputs": [
    {
     "data": {
      "image/png": "[encoded data removed]",
      "text/plain": [
       "<Figure size 288x504 with 1 Axes>"
      ]
     },
     "metadata": {
      "needs_background": "light"
     },
     "output_type": "display_data"
    }
   ],
   "source": [
    "# Plot Matriz de Confusion \n",
    "# Plot Matriz de Confusion \n",
    "matriz_confusion_clfforest = confusion_matrix(y_test,clfforest.predict(X_test))\n",
    "fig, ax = plt.subplots(figsize=(4, 7))\n",
    "ax.matshow(matriz_confusion_clfforest, cmap=plt.cm.YlOrRd)\n",
    "for i in range(matriz_confusion_clfforest.shape[0]):\n",
    "    for j in range(matriz_confusion_clfforest.shape[1]):\n",
    "        ax.text(x=j, y=i, s=matriz_confusion_clfforest[i, j], va='center', ha='center')\n",
    "\n",
    "plt.title('Matriz de Confusion Random Forest')\n",
    "plt.xlabel('Valores Reales')\n",
    "plt.ylabel('Predicciones')\n",
    "plt.tight_layout()\n",
    "plt.savefig(ruta + '/Financial-Product-Sales-Forecast-Model/Images/RANDOMFOREST Model - Confusion_Matrix_Random Forest.png', dpi=75,bbox_inches='tight')\n",
    "plt.show()"
   ]
  },
  {
   "cell_type": "code",
   "execution_count": 34,
   "metadata": {},
   "outputs": [
    {
     "name": "stdout",
     "output_type": "stream",
     "text": [
      "==== Random Forest RESULTADOS ====\n",
      "------------------------------------\n",
      "accuracy_score = 0.8807606237210248\n",
      "------------------------------------\n",
      "precision  = 0.6035339591385974\n",
      "------------------------------------\n",
      "recall = 0.38136775994417305\n",
      "------------------------------------\n",
      "f1_score = 0.4673936283942698\n",
      "------------------------------------\n",
      "roc_auc_score = 0.8648187128176001\n"
     ]
    }
   ],
   "source": [
    "# Resultados\n",
    "\n",
    "accuracy_score_clfforest = accuracy_score(y_test,clfforest.predict(X_test))\n",
    "precision_clfforest  = precision_score(y_test,clfforest.predict(X_test))\n",
    "recall_clfforest = recall_score(y_test,clfforest.predict(X_test))\n",
    "f1_score_clfforest = f1_score(y_test,clfforest.predict(X_test))\n",
    "roc_auc_score_clfforest = roc_auc_score(y_test,clfforest.predict_proba(X_test)[:, 1])\n",
    "\n",
    "print('==== Random Forest RESULTADOS ====')\n",
    "print('------------------------------------')\n",
    "print('accuracy_score =', accuracy_score_clfforest )\n",
    "print('------------------------------------')\n",
    "print('precision  =',precision_clfforest)\n",
    "print('------------------------------------')\n",
    "print('recall =', recall_clfforest)\n",
    "print('------------------------------------')\n",
    "print('f1_score =', f1_score_clfforest)\n",
    "print('------------------------------------')\n",
    "print('roc_auc_score =', roc_auc_score_clfforest)"
   ]
  },
  {
   "cell_type": "markdown",
   "metadata": {},
   "source": [
    "## Ploteamos Curva ROC"
   ]
  },
  {
   "cell_type": "code",
   "execution_count": 35,
   "metadata": {},
   "outputs": [
    {
     "name": "stdout",
     "output_type": "stream",
     "text": [
      "Sin Entrenar : ROC AUC=0.500\n",
      "Random Forest: ROC AUC=0.865\n"
     ]
    },
    {
     "data": {
      "image/png": "[encoded data removed]",
      "text/plain": [
       "<Figure size 432x288 with 1 Axes>"
      ]
     },
     "metadata": {
      "needs_background": "light"
     },
     "output_type": "display_data"
    }
   ],
   "source": [
    "# Ploteamos la Curva ROC\n",
    "# Generamos un Clasificador sin entrenar\n",
    "no_train = [0 for _ in range(len(X_test))]\n",
    "# Calculamos AUC\n",
    "ns_auc = roc_auc_score(y_test, no_train)\n",
    "lr_auc = roc_auc_score(y_test, clfforest.predict_proba(X_test)[:, 1])\n",
    "# Print\n",
    "print('Sin Entrenar : ROC AUC=%.3f' % (ns_auc))\n",
    "print('Random Forest: ROC AUC=%.3f' % (lr_auc))\n",
    "# Calculamos la Curva Roc\n",
    "ns_fpr, ns_tpr, _ = roc_curve(y_test, no_train)\n",
    "lr_fpr, lr_tpr, _ = roc_curve(y_test, clfforest.predict_proba(X_test)[:, 1])\n",
    "# Ploteamos\n",
    "pyplot.plot(ns_fpr, ns_tpr, linestyle='--', label='Sin Entrenar')\n",
    "pyplot.plot(lr_fpr, lr_tpr, marker='.', label=' clfforest' , color = \"y\")\n",
    "# Etiquetas\n",
    "pyplot.title('Curva Roc Random Forest')\n",
    "pyplot.xlabel('Tasa Falso Positivo')\n",
    "pyplot.ylabel('Tasa Verdadero Positivo')\n",
    "pyplot.legend()\n",
    "plt.savefig(ruta + '/Financial-Product-Sales-Forecast-Model/Images/RANDOMFOREST- Roc Curve.png', dpi=75,bbox_inches='tight')\n",
    "plt.show()\n",
    "pyplot.show()"
   ]
  },
  {
   "cell_type": "markdown",
   "metadata": {},
   "source": [
    "## GridSearchCV  \n",
    "Permite evaluar y seleccionar de forma sistemática los parámetros de un modelo. Indicándole un modelo y los parámetros a probar, puede evaluar el rendimiento del primero en función de los segundos mediante validación cruzada.\n"
   ]
  },
  {
   "cell_type": "code",
   "execution_count": 36,
   "metadata": {},
   "outputs": [],
   "source": [
    "from sklearn.model_selection import GridSearchCV"
   ]
  },
  {
   "cell_type": "code",
   "execution_count": 37,
   "metadata": {},
   "outputs": [],
   "source": [
    "# Sugerimos la busqueda de los mejores parametros\n",
    "\n",
    "forest_grid_params = {\n",
    "    'n_estimators' : [100,125],\n",
    "    'max_features' : [\"auto\", \"log2\"],\n",
    "    'criterion' : ['gini', 'entropy'],\n",
    "    'max_depth' : [2,4,6,8,10],\n",
    "    'min_samples_split' : [2,4],\n",
    "    'min_samples_leaf' : [15,20]\n",
    "    }\n",
    "\n",
    "forestgs = GridSearchCV(\n",
    "        clfforest,\n",
    "        forest_grid_params,\n",
    "        verbose = 1,\n",
    "        cv = 3,\n",
    "        n_jobs = -1\n",
    "        )\n"
   ]
  },
  {
   "cell_type": "code",
   "execution_count": 38,
   "metadata": {
    "scrolled": false
   },
   "outputs": [
    {
     "name": "stdout",
     "output_type": "stream",
     "text": [
      "Fitting 3 folds for each of 160 candidates, totalling 480 fits\n"
     ]
    },
    {
     "name": "stderr",
     "output_type": "stream",
     "text": [
      "[Parallel(n_jobs=-1)]: Using backend LokyBackend with 12 concurrent workers.\n",
      "[Parallel(n_jobs=-1)]: Done  26 tasks      | elapsed:   57.7s\n",
      "[Parallel(n_jobs=-1)]: Done 176 tasks      | elapsed:  9.5min\n",
      "[Parallel(n_jobs=-1)]: Done 426 tasks      | elapsed: 25.3min\n",
      "[Parallel(n_jobs=-1)]: Done 480 out of 480 | elapsed: 31.3min finished\n"
     ]
    },
    {
     "data": {
      "text/plain": [
       "GridSearchCV(cv=3, estimator=RandomForestClassifier(class_weight='balanced'),\n",
       "             n_jobs=-1,\n",
       "             param_grid={'criterion': ['gini', 'entropy'],\n",
       "                         'max_depth': [2, 4, 6, 8, 10],\n",
       "                         'max_features': ['auto', 'log2'],\n",
       "                         'min_samples_leaf': [15, 20],\n",
       "                         'min_samples_split': [2, 4],\n",
       "                         'n_estimators': [100, 125]},\n",
       "             verbose=1)"
      ]
     },
     "execution_count": 38,
     "metadata": {},
     "output_type": "execute_result"
    }
   ],
   "source": [
    "forestgs.fit(X_train,y_train)"
   ]
  },
  {
   "cell_type": "code",
   "execution_count": 39,
   "metadata": {},
   "outputs": [
    {
     "data": {
      "text/plain": [
       "RandomForestClassifier(class_weight='balanced', max_depth=10,\n",
       "                       min_samples_leaf=15, n_estimators=125)"
      ]
     },
     "execution_count": 39,
     "metadata": {},
     "output_type": "execute_result"
    }
   ],
   "source": [
    "# Mejores Estimadores\n",
    "forestgs.best_estimator_"
   ]
  },
  {
   "cell_type": "code",
   "execution_count": 40,
   "metadata": {},
   "outputs": [
    {
     "data": {
      "text/plain": [
       "{'criterion': 'gini',\n",
       " 'max_depth': 10,\n",
       " 'max_features': 'auto',\n",
       " 'min_samples_leaf': 15,\n",
       " 'min_samples_split': 2,\n",
       " 'n_estimators': 125}"
      ]
     },
     "execution_count": 40,
     "metadata": {},
     "output_type": "execute_result"
    }
   ],
   "source": [
    "# Mejores Parametros\n",
    "forestgs.best_params_"
   ]
  },
  {
   "cell_type": "markdown",
   "metadata": {},
   "source": [
    "## Construccion del Modelo con los Mejores Parametros atendiendo a GridSearch"
   ]
  },
  {
   "cell_type": "code",
   "execution_count": 41,
   "metadata": {},
   "outputs": [],
   "source": [
    "clfforest_gs = RandomForestClassifier(class_weight = 'balanced', criterion = 'gini',\n",
    "                                  max_depth = 10, max_features = 'auto', min_samples_split = 2,\n",
    "                                  n_estimators = 100, min_samples_leaf = 15 )"
   ]
  },
  {
   "cell_type": "code",
   "execution_count": 42,
   "metadata": {},
   "outputs": [
    {
     "data": {
      "text/plain": [
       "RandomForestClassifier(class_weight='balanced', max_depth=10,\n",
       "                       min_samples_leaf=15)"
      ]
     },
     "execution_count": 42,
     "metadata": {},
     "output_type": "execute_result"
    }
   ],
   "source": [
    "clfforest_gs.fit(X_train, y_train)"
   ]
  },
  {
   "cell_type": "code",
   "execution_count": 43,
   "metadata": {},
   "outputs": [
    {
     "data": {
      "text/plain": [
       "array([1, 1, 0, ..., 0, 0, 0], dtype=int64)"
      ]
     },
     "execution_count": 43,
     "metadata": {},
     "output_type": "execute_result"
    }
   ],
   "source": [
    "clfforest_gs.predict(X_test)"
   ]
  },
  {
   "cell_type": "code",
   "execution_count": 44,
   "metadata": {},
   "outputs": [
    {
     "data": {
      "text/plain": [
       "array([0.59501406, 0.57770261, 0.05592677, ..., 0.07870648, 0.03311159,\n",
       "       0.17378661])"
      ]
     },
     "execution_count": 44,
     "metadata": {},
     "output_type": "execute_result"
    }
   ],
   "source": [
    "clfforest_gs.predict_proba(X_test)[:, 1]"
   ]
  },
  {
   "cell_type": "markdown",
   "metadata": {},
   "source": [
    "__Evaluación del overfitting__ Los resultados obtenidos del entrenamiento y test usando la métrica recall como medida muestran que el overfitting ha sido resuelto usando mejores parámetros. Confirmado por la Validación Cruzada."
   ]
  },
  {
   "cell_type": "code",
   "execution_count": 45,
   "metadata": {},
   "outputs": [
    {
     "name": "stdout",
     "output_type": "stream",
     "text": [
      "===========RECALL TRAIN============\n",
      "recall = 0.869445174861951\n",
      "===========RECALL TEST=============\n",
      "recall = 0.8599092812281927\n"
     ]
    }
   ],
   "source": [
    "print('===========RECALL TRAIN============')\n",
    "print('recall =', recall_score(y_train,clfforest_gs.predict(X_train)))\n",
    "print('===========RECALL TEST=============')\n",
    "print('recall =', recall_score(y_test,clfforest_gs.predict(X_test)))"
   ]
  },
  {
   "cell_type": "markdown",
   "metadata": {},
   "source": [
    "## Cross validation"
   ]
  },
  {
   "cell_type": "code",
   "execution_count": 46,
   "metadata": {},
   "outputs": [
    {
     "data": {
      "text/plain": [
       "(0.3612063245707866, 0.8604903677758318, 0.5071545792674303)"
      ]
     },
     "execution_count": 46,
     "metadata": {},
     "output_type": "execute_result"
    }
   ],
   "source": [
    "from sklearn.model_selection import cross_val_score\n",
    "cross_val_score_precision = cross_val_score(clfforest_gs,X,y,cv=5,scoring=\"precision\").mean()\n",
    "cross_val_score_recall = cross_val_score(clfforest_gs,X,y,cv=5,scoring=\"recall\").mean()\n",
    "cross_val_score_f1 = cross_val_score(clfforest_gs,X,y,cv=5,scoring=\"f1\").mean() \n",
    "cross_val_score_precision , cross_val_score_recall, cross_val_score_f1"
   ]
  },
  {
   "cell_type": "markdown",
   "metadata": {},
   "source": [
    "### Matriz de Confusion"
   ]
  },
  {
   "cell_type": "code",
   "execution_count": 47,
   "metadata": {},
   "outputs": [
    {
     "data": {
      "image/png": "[encoded data removed]",
      "text/plain": [
       "<Figure size 288x504 with 1 Axes>"
      ]
     },
     "metadata": {
      "needs_background": "light"
     },
     "output_type": "display_data"
    }
   ],
   "source": [
    "matriz_confusion_clfforest_gs = confusion_matrix(y_test,clfforest_gs.predict(X_test))\n",
    "fig, ax = plt.subplots(figsize=(4, 7))\n",
    "ax.matshow(matriz_confusion_clfforest_gs, cmap=plt.cm.YlOrRd)\n",
    "for i in range(matriz_confusion_clfforest_gs.shape[0]):\n",
    "    for j in range(matriz_confusion_clfforest_gs.shape[1]):\n",
    "        ax.text(x=j, y=i, s=matriz_confusion_clfforest[i, j], va='center', ha='center')\n",
    "\n",
    "plt.title('Matriz de Confusion Random Forest con Gridsearch')\n",
    "plt.xlabel('Valores Reales')\n",
    "plt.ylabel('Predicciones')\n",
    "plt.tight_layout()\n",
    "plt.savefig(ruta + '/Financial-Product-Sales-Forecast-Model/Images/RANDOMFOREST Model - Confusion_Matrix_Gridsearch.png', dpi=75,bbox_inches='tight')\n",
    "plt.show()"
   ]
  },
  {
   "cell_type": "code",
   "execution_count": 48,
   "metadata": {},
   "outputs": [
    {
     "name": "stdout",
     "output_type": "stream",
     "text": [
      "==== Random Forest RESULTADOS FINALES ====\n",
      "------------------------------------\n",
      "accuracy_score = 0.7719445209003986\n",
      "------------------------------------\n",
      "precision  = 0.3609798967373393\n",
      "------------------------------------\n",
      "recall = 0.8599092812281927\n",
      "------------------------------------\n",
      "f1_score = 0.5084981817243959\n",
      "------------------------------------\n",
      "roc_auc_score = 0.8868270891616451\n"
     ]
    }
   ],
   "source": [
    "# Resultados\n",
    "\n",
    "accuracy_score_clfforest_gs = accuracy_score(y_test,clfforest_gs.predict(X_test))\n",
    "precision_clfforest_gs  = precision_score(y_test,clfforest_gs.predict(X_test))\n",
    "recall_clfforest_gs = recall_score(y_test,clfforest_gs.predict(X_test))\n",
    "f1_score_clfforest_gs = f1_score(y_test,clfforest_gs.predict(X_test))\n",
    "roc_auc_score_clfforest_gs = roc_auc_score(y_test,clfforest_gs.predict_proba(X_test)[:, 1])\n",
    "\n",
    "print('==== Random Forest RESULTADOS FINALES ====')\n",
    "print('------------------------------------')\n",
    "print('accuracy_score =', accuracy_score_clfforest_gs )\n",
    "print('------------------------------------')\n",
    "print('precision  =',precision_clfforest_gs)\n",
    "print('------------------------------------')\n",
    "print('recall =', recall_clfforest_gs)\n",
    "print('------------------------------------')\n",
    "print('f1_score =', f1_score_clfforest_gs)\n",
    "print('------------------------------------')\n",
    "print('roc_auc_score =', roc_auc_score_clfforest_gs)"
   ]
  },
  {
   "cell_type": "markdown",
   "metadata": {},
   "source": [
    "## Curva Roc"
   ]
  },
  {
   "cell_type": "code",
   "execution_count": 49,
   "metadata": {},
   "outputs": [
    {
     "name": "stdout",
     "output_type": "stream",
     "text": [
      "Sin Entrenar : ROC AUC=0.500\n",
      "Random Forest: ROC AUC=0.887\n"
     ]
    },
    {
     "data": {
      "image/png": "[encoded data removed]",
      "text/plain": [
       "<Figure size 432x288 with 1 Axes>"
      ]
     },
     "metadata": {
      "needs_background": "light"
     },
     "output_type": "display_data"
    }
   ],
   "source": [
    "# Ploteamos la Curva ROC\n",
    "# Generamos un Clasificador sin entrenar\n",
    "no_train = [0 for _ in range(len(X_test))]\n",
    "# Calculamos AUC\n",
    "ns_auc = roc_auc_score(y_test, no_train)\n",
    "lr_auc = roc_auc_score(y_test, clfforest_gs.predict_proba(X_test)[:, 1])\n",
    "# Print\n",
    "print('Sin Entrenar : ROC AUC=%.3f' % (ns_auc))\n",
    "print('Random Forest: ROC AUC=%.3f' % (lr_auc))\n",
    "# Calculamos la Curva Roc\n",
    "ns_fpr, ns_tpr, _ = roc_curve(y_test, no_train)\n",
    "lr_fpr, lr_tpr, _ = roc_curve(y_test, clfforest_gs.predict_proba(X_test)[:, 1])\n",
    "# Ploteamos\n",
    "pyplot.plot(ns_fpr, ns_tpr, linestyle='--', label='Sin Entrenar')\n",
    "pyplot.plot(lr_fpr, lr_tpr, marker='.', label=' clfforest' , color = \"y\")\n",
    "# Etiquetas\n",
    "pyplot.title('Curva Roc Random Forest')\n",
    "pyplot.xlabel('Tasa Falso Positivo')\n",
    "pyplot.ylabel('Tasa Verdadero Positivo')\n",
    "pyplot.legend()\n",
    "plt.savefig(ruta + '/Financial-Product-Sales-Forecast-Model/Images/RANDOMFOREST- Roc Curve GridSearch.png', dpi=75,bbox_inches='tight')\n",
    "plt.show()\n",
    "pyplot.show()"
   ]
  },
  {
   "cell_type": "markdown",
   "metadata": {},
   "source": [
    "## Evolucion de Resultados"
   ]
  },
  {
   "cell_type": "code",
   "execution_count": 50,
   "metadata": {},
   "outputs": [
    {
     "name": "stdout",
     "output_type": "stream",
     "text": [
      "Resultados 1ª Aproximacion: RECALL 0.225371, AUC 0.783895\n",
      "Resultados model: RECALL 0.381368, AUC 0.864819\n",
      "Resultados model con gridsearch: RECALL 0.859909, AUC 0.886827\n"
     ]
    }
   ],
   "source": [
    "print('Resultados 1ª Aproximacion: RECALL %f, AUC %f' %(recall_first_aproach, roc_auc_score_first_aproach))\n",
    "print('Resultados model: RECALL %f, AUC %f' %(recall_clfforest, roc_auc_score_clfforest))\n",
    "print('Resultados model con gridsearch: RECALL %f, AUC %f' %(recall_clfforest_gs, roc_auc_score_clfforest_gs))"
   ]
  },
  {
   "cell_type": "code",
   "execution_count": 51,
   "metadata": {},
   "outputs": [],
   "source": [
    "import pickle \n",
    "pickle_out = open(ruta + '/Financial-Product-Sales-Forecast-Model/Frontend/clfforest_gs.pkl', mode = \"wb\") \n",
    "pickle.dump(clfforest_gs, pickle_out) \n",
    "pickle_out.close()"
   ]
  },
  {
   "cell_type": "markdown",
   "metadata": {},
   "source": [
    " ## *** Conclusion ***"
   ]
  },
  {
   "cell_type": "markdown",
   "metadata": {},
   "source": [
    "- Las métricas elegidas__ para evaluar nuestro modelo de clasificación Random Forest son __Recall y AUC - Roc Curve.__. \n",
    "- Comenzamos nuestro modelo con una __primera aproximación__ obteniendo resultados __muy mejorables__. Recall 0.22__ La base de datos utilizada es la original sin ningún tipo de preprocesamiento. \n",
    "- Evolucionamos nuestro modelo. Utilizamos como base de datos df_encoded. (Adaptado y aplicado Label Encoder). Dada la naturaleza del modelo no era necesario aplicar normalizacion ni PCA.\n",
    "- Dado que nuestro __Objetivo está muy desequilibrado__ en una proporción de 87% de No y 13% de Sí, se ha utilizado el parámetro 'class_weight = 'balanced' en la configuración del modelo.\n",
    "- Obtenemos nuestra primera métrica relacionada con la posibilidad de sobreajuste. Vemos cómo nuestro conjunto de entrenamiento no ha generalizado bien. Hay una gran diferencia entre los resultados obtenidos en Test y Train. 99 de entrenamiento - 37 de prueba. Podemos en este caso confirmar la existencia de overfitting__ Todo esto lo podemos ver en una gráfica de ajuste del entrenamiento donde podemos ver que después de 8 nodos Train y Test empiezan a separarse - Probamos por Validación Cruzada obteniendo medias de diferentes métricas. Las métricas resultantes de esta primera evolución del modelo son 37% Recall y 86% Auc. \n",
    "\n",
    "- Necesitamos mejorar el modelo y para ello utilizamos GridSearchCV para buscar soluciones y mejores parámetros. Una vez obtenido, volvemos a entrenar y obtenemos de nuevo las métricas Recall 86% Train - 85% Test para confirmar entre otras cosas que hemos conseguido solucionar el overfitting y que nuestro modelo ha conseguido generalizar bien. Confirmamos con la Validación Cruzada obteniendo las medias de las diferentes métricas con 5 validaciones.\n",
    " \n",
    "- Las métricas finalmente obtenidas \"Recall\" 0,85 y AUC 0,88 que consideramos adecuadas para la explicación de nuestro modelo. \n",
    "- Matriz de Confusión. En la diagonal de aciertos tenemos 69274 y 4347. En nuestro modelo prima la detección de los clientes que sí quieren contratar el seguro.  Necesitamos obtener una buena tasa de verdaderos positivos. Recordemos que nuestras métricas objetivo son Recall y AUC. Si detectamos a los clientes que probablemente vayan a contratar un seguro de hogar, podremos trabajar de forma más directa. Todo ello con el objetivo de optimizar el tiempo y la eficiencia comercial. El resultado de Recall obtenido es óptimo, con un 85% y un 88% en AUC.\n",
    "- El modelo podria ser perfeccionado si se utilizasen variables adicionales. Nos faltan, entre otras muchas, variables y datos como los ingresos del cliente, los hijos, el tipo de trabajo, el salario real en euros obtenido, el lugar de residencia... etc. \n",
    "\n",
    "\n"
   ]
  },
  {
   "cell_type": "markdown",
   "metadata": {},
   "source": [
    "## Testing "
   ]
  },
  {
   "cell_type": "code",
   "execution_count": 52,
   "metadata": {},
   "outputs": [],
   "source": [
    "X_new = pd.DataFrame({'edad':[45], 'saldo_captacion':[1000], 'saldo_financiacion':[100], \n",
    "        'seg_valor':[1], 'seg_recorrido':[3],'marca_ccte':[1],'camino_digital':[0], 'marca_bp':[1],\n",
    "        'saldo_ffii':[1], 'saldo_plp':[1], 'lp_dom_ingresos':[1], 'lp_rbos':[0],'lp_seg_vida':[1], \n",
    "        'lp_seg_auto':[1],'lp_seg_acc':[1],'lp_tjta_cto':[1], 'lp_tjt_rev':[0],})"
   ]
  },
  {
   "cell_type": "code",
   "execution_count": 53,
   "metadata": {},
   "outputs": [],
   "source": [
    "\n",
    "prediccion = clfforest_gs.predict(X_new)"
   ]
  },
  {
   "cell_type": "code",
   "execution_count": 54,
   "metadata": {},
   "outputs": [
    {
     "data": {
      "text/plain": [
       "array([0], dtype=int64)"
      ]
     },
     "execution_count": 54,
     "metadata": {},
     "output_type": "execute_result"
    }
   ],
   "source": [
    "prediccion"
   ]
  },
  {
   "cell_type": "code",
   "execution_count": 55,
   "metadata": {},
   "outputs": [],
   "source": [
    "probabilidades = clfforest_gs.predict_proba(X_new)"
   ]
  },
  {
   "cell_type": "code",
   "execution_count": 56,
   "metadata": {},
   "outputs": [
    {
     "name": "stdout",
     "output_type": "stream",
     "text": [
      "No llames\n",
      "Probabilidad de que no contrate:  [0.55249848]\n"
     ]
    }
   ],
   "source": [
    "if prediccion == 1:\n",
    "    print('Llama')\n",
    "    print('Probabilidad de que si contrate: ',probabilidades[:, 1])\n",
    "else:\n",
    "    print('No llames')\n",
    "    print('Probabilidad de que no contrate: ', probabilidades[:, 0])"
   ]
  },
  {
   "cell_type": "markdown",
   "metadata": {},
   "source": [
    "X_new = pd.DataFrame({'edad':[45], 'saldo_captacion':[1000], 'saldo_financiacion':[100], \n",
    "        'seg_valor':[1], 'seg_recorrido':[3],'marca_ccte':[1],'camino_digital':[0], 'marca_bp':[1],\n",
    "        'saldo_ffii':[1], 'saldo_plp':[1], 'lp_dom_ingresos':[1], 'lp_rbos':[0],'lp_seg_vida':[1], \n",
    "        'lp_seg_auto':[1],'lp_seg_acc':[1],'lp_tjta_cto':[1], 'lp_tjt_rev':[0],})"
   ]
  },
  {
   "cell_type": "code",
   "execution_count": 57,
   "metadata": {},
   "outputs": [],
   "source": [
    "def prediccion (edad, marca_bp, seg_valor, seg_recorrido, marca_ccte, camino_digital,\n",
    "              saldo_ffii, saldo_plp, lp_dom_ingresos, lp_rbos,\n",
    "              lp_seg_vida ,lp_seg_auto ,lp_seg_acc, lp_tjta_cto, lp_tjt_rev,\n",
    "              saldo_captacion, saldo_financiacion ):   \n",
    "      \n",
    "    #Nº1--------------------------------------\n",
    "    edad == edad\n",
    "    \n",
    "    #Nª2--------------------------------------\n",
    "    if marca_bp == \"NO\":\n",
    "        marca_bp = 0\n",
    "    else:\n",
    "        marca_bp = 1\n",
    "        \n",
    "    #Nª3--------------------------------------    \n",
    "    if seg_valor ==   \"ALTO\":\n",
    "        seg_valor = 0\n",
    "    elif seg_valor == \"MEDIO\":\n",
    "        seg_valor = 2\n",
    "    else:\n",
    "        seg_valor = 1  \n",
    "        \n",
    "    #Nª4--------------------------------------\n",
    "    if seg_recorrido ==   \"ALTO\":\n",
    "        seg_recorrido = 0\n",
    "    elif seg_recorrido == \"MEDIO\":\n",
    "        seg_recorrido = 2\n",
    "    elif seg_recorrido == \"BAJO\":\n",
    "        seg_recorrido = 1   \n",
    "    else:\n",
    "        seg_recorrido = 3\n",
    "        \n",
    "    #Nª5--------------------------------------    \n",
    "    if marca_ccte ==   \"AF\":\n",
    "        marca_ccte = 0\n",
    "    elif marca_ccte == \"CCTE\":\n",
    "        marca_ccte = 1\n",
    "    else:\n",
    "        marca_ccte = 0 \n",
    "    \n",
    "    #Nª6--------------------------------------    \n",
    "    if camino_digital ==   \"SIN USO\":\n",
    "        camino_digital = 3\n",
    "    elif camino_digital == \"CONSULTIVO\":\n",
    "        camino_digital = 1\n",
    "    elif camino_digital == \"TRANSACCIONAL\":\n",
    "        camino_digital = 4\n",
    "    elif camino_digital == \"POCO USO\":\n",
    "        camino_digital = 2\n",
    "    else:\n",
    "        camino_digital = 0\n",
    "        \n",
    "    #Nª7--------------------------------------    \n",
    "    if saldo_ffii == \"NO\":\n",
    "        saldo_ffii = 0\n",
    "    else:\n",
    "        saldo_ffii = 1\n",
    "        \n",
    "    #Nª8--------------------------------------    \n",
    "    if saldo_plp == \"NO\":\n",
    "        saldo_plp = 0\n",
    "    else:\n",
    "        saldo_plp = 1\n",
    "        \n",
    "    #Nª9--------------------------------------    \n",
    "    if lp_dom_ingresos == \"NO\":\n",
    "        lp_dom_ingresos = 0\n",
    "    else:\n",
    "        lp_dom_ingresos = 1\n",
    "\n",
    "    #Nª10--------------------------------------    \n",
    "    if lp_rbos == \"NO\":\n",
    "        lp_rbos = 0\n",
    "    else:\n",
    "        lp_rbos = 1\n",
    "\n",
    "    #Nª11--------------------------------------    \n",
    "    if lp_seg_vida == \"NO\":\n",
    "        lp_seg_vida = 0\n",
    "    else:\n",
    "        lp_seg_vida = 1\n",
    "    \n",
    "    #Nª12--------------------------------------    \n",
    "    if lp_seg_auto == \"NO\":\n",
    "        lp_seg_auto = 0\n",
    "    else:\n",
    "        lp_seg_auto = 1\n",
    "        \n",
    "    #Nª13--------------------------------------    \n",
    "    if lp_seg_acc == \"NO\":\n",
    "        lp_seg_acc = 0\n",
    "    else:\n",
    "        lp_seg_acc = 1\n",
    "    \n",
    "    #Nª14--------------------------------------    \n",
    "    if lp_tjta_cto == \"NO\":\n",
    "        lp_tjta_cto = 0\n",
    "    else:\n",
    "        lp_tjta_cto = 1\n",
    "\n",
    "    #Nª15--------------------------------------    \n",
    "    if lp_tjt_rev == \"NO\":\n",
    "        lp_tjt_rev = 0\n",
    "    else:\n",
    "        lp_tjt_rev = 1\n",
    "        \n",
    "    #Nª16--------------------------------------    \n",
    "    saldo_captacion == saldo_captacion\n",
    "    \n",
    "    #Nª17--------------------------------------    \n",
    "    saldo_financiacion == saldo_financiacion\n",
    "\n",
    "        \n",
    "    # Predicciones \n",
    "    prediccion = clasificador.predict( \n",
    "        [[edad, marca_bp, seg_valor, seg_recorrido, marca_ccte, camino_digital,\n",
    "              saldo_ffii, saldo_plp, lp_dom_ingresos, lp_rbos,\n",
    "              lp_seg_vida ,lp_seg_auto ,lp_seg_acc, lp_tjta_cto, lp_tjt_rev,\n",
    "              saldo_captacion, saldo_financiacion]])\n",
    "     \n",
    "    if prediccion == 0:\n",
    "        pred = 'NO LLAMES'\n",
    "    else:\n",
    "        pred = 'LLAMA'\n",
    "    return pred\n"
   ]
  },
  {
   "cell_type": "code",
   "execution_count": 58,
   "metadata": {},
   "outputs": [
    {
     "ename": "SyntaxError",
     "evalue": "invalid syntax (<ipython-input-58-2977ef6c749f>, line 10)",
     "output_type": "error",
     "traceback": [
      "\u001b[1;36m  File \u001b[1;32m\"<ipython-input-58-2977ef6c749f>\"\u001b[1;36m, line \u001b[1;32m10\u001b[0m\n\u001b[1;33m    camino_digital = input('Para que usa la APP internet,['COMPRADOR', 'CONSULTIVO', 'TRANSACCIONAL', 'POCO USO','SIN USO'])\u001b[0m\n\u001b[1;37m                                                           ^\u001b[0m\n\u001b[1;31mSyntaxError\u001b[0m\u001b[1;31m:\u001b[0m invalid syntax\n"
     ]
    }
   ],
   "source": [
    "# Definicion del Cuestionario\n",
    "edad = input('Edad del Cliente')\n",
    "\n",
    "saldo_captacion = input('Saldo en Cuenta del Cliente')\n",
    "saldo_financiacion = input('Financiacion del Cliente')\n",
    "\n",
    "seg_valor = input('Segmento Valor, [ALTO, MEDIO, BAJO]')\n",
    "seg_recorrido = input('Recorrido cliente,[ALTO , MEDIO , BAJO ,NO CALCULADO]') \n",
    "marca_ccte = input('Tipo de Gestor,[ASESOR EN OFICINA, ASESOR EN INTERNET, SIN ASESOR]')\n",
    "camino_digital = input('Para que usa la APP internet,['COMPRADOR', 'CONSULTIVO', 'TRANSACCIONAL', 'POCO USO','SIN USO'])\n",
    "\n",
    "marca_bp = input('Es cliente Banca Personal, [SI,NO]')\n",
    "saldo_ffii = input('Tiene Fondos de Inversion, [SI,NO]')\n",
    "saldo_plp = input('Tiene Plan de Pension, [SI,NO]')\n",
    "lp_dom_ingresos = input('Tiene domiciliados la nomina, [SI,NO]')\n",
    "lp_rbos = input('Tiene domiciliados los recibos, [SI,NO]')\n",
    "lp_seg_vida = input('Tiene seguro de vida, [SI,NO]')\n",
    "lp_seg_auto = input('Tiene seguro de coche, [SI,NO]')\n",
    "lp_seg_acc = input('Tiene seguro de accidentes, [SI,NO]')\n",
    "lp_tjta_cto = input('Tiene tarjeta de credito, [SI,NO]')\n",
    "lp_tjt_rev = input('Tiene revolving, [SI,NO]')\n"
   ]
  },
  {
   "cell_type": "code",
   "execution_count": null,
   "metadata": {},
   "outputs": [],
   "source": []
  }
 ],
 "metadata": {
  "kernelspec": {
   "display_name": "Python 3",
   "language": "python",
   "name": "python3"
  },
  "language_info": {
   "codemirror_mode": {
    "name": "ipython",
    "version": 3
   },
   "file_extension": ".py",
   "mimetype": "text/x-python",
   "name": "python",
   "nbconvert_exporter": "python",
   "pygments_lexer": "ipython3",
   "version": "3.8.5"
  }
 },
 "nbformat": 4,
 "nbformat_minor": 2
}
