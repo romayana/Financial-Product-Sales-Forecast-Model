{
 "cells": [
  {
   "cell_type": "markdown",
   "metadata": {},
   "source": [
    "# MODELO CLASIFICACION KNN  k-NEAREST-NEIGHBOURS"
   ]
  },
  {
   "cell_type": "markdown",
   "metadata": {},
   "source": [
    "### CAMBIAR RUTA CARPETA LOCAL Y EJECUTAR"
   ]
  },
  {
   "cell_type": "code",
   "execution_count": 7,
   "metadata": {},
   "outputs": [],
   "source": [
    "# CAMBIAR SEGUN RUTA LOCAL HASTA UBICACION DEL REPOSITORIO\n",
    "ruta = '/Users/manue/TFM'"
   ]
  },
  {
   "cell_type": "markdown",
   "metadata": {},
   "source": [
    "Presentamos e Importamos todas las librerias que vamos a necesitar a lo largo del modelo."
   ]
  },
  {
   "cell_type": "code",
   "execution_count": 3,
   "metadata": {},
   "outputs": [],
   "source": [
    "import pandas as pd\n",
    "import numpy as np\n",
    "\n",
    "#Libreria Metricas\n",
    "from sklearn.metrics import f1_score, recall_score, precision_score, accuracy_score\n",
    "from sklearn.metrics import roc_auc_score, roc_curve\n",
    "from sklearn.metrics import confusion_matrix\n",
    "from sklearn.metrics import classification_report\n",
    "from sklearn.metrics import auc\n",
    "\n",
    "#Librerias Visualizacion\n",
    "import matplotlib.pyplot as plt\n",
    "import pylab as pl\n",
    "import seaborn as sns \n",
    "from pylab import rcParams \n",
    "from matplotlib import pyplot\n",
    "\n",
    "#Librerias Modelos\n",
    "from sklearn.neighbors import KNeighborsClassifier\n",
    "from sklearn.model_selection import train_test_split \n"
   ]
  },
  {
   "cell_type": "markdown",
   "metadata": {},
   "source": [
    "Leemos y presentamos nuestra Base de Datos. Mostramos las 5 primeras filas, el tipo y el nombre de las Columnas / variables que la componen. Las variables que se refierne a unidades de negocio no las vamos a utilizar en el modelo por lo que las transformamos a Objeto para un mejor entendimiento y segmentacion de las propias variables. "
   ]
  },
  {
   "cell_type": "code",
   "execution_count": 4,
   "metadata": {},
   "outputs": [],
   "source": [
    "df = pd.read_csv(ruta + '/Financial-Product-Sales-Forecast-Model/Cleanning & Merging/df_cleanned.csv')"
   ]
  },
  {
   "cell_type": "code",
   "execution_count": 5,
   "metadata": {
    "scrolled": true
   },
   "outputs": [
    {
     "data": {
      "text/html": [
       "<div>\n",
       "<style scoped>\n",
       "    .dataframe tbody tr th:only-of-type {\n",
       "        vertical-align: middle;\n",
       "    }\n",
       "\n",
       "    .dataframe tbody tr th {\n",
       "        vertical-align: top;\n",
       "    }\n",
       "\n",
       "    .dataframe thead th {\n",
       "        text-align: right;\n",
       "    }\n",
       "</style>\n",
       "<table border=\"1\" class=\"dataframe\">\n",
       "  <thead>\n",
       "    <tr style=\"text-align: right;\">\n",
       "      <th></th>\n",
       "      <th>cliente</th>\n",
       "      <th>saldo_captacion</th>\n",
       "      <th>esta_carterizado</th>\n",
       "      <th>cliente_bbp</th>\n",
       "      <th>tipo_gestor</th>\n",
       "      <th>gestor</th>\n",
       "      <th>cartera_patron</th>\n",
       "      <th>codigo_cartera</th>\n",
       "      <th>digital_3_meses</th>\n",
       "      <th>camino_digital</th>\n",
       "      <th>...</th>\n",
       "      <th>edad</th>\n",
       "      <th>seg_valor</th>\n",
       "      <th>seg_recorrido</th>\n",
       "      <th>dz</th>\n",
       "      <th>oficina</th>\n",
       "      <th>lp_seg_vida</th>\n",
       "      <th>lp_seg_acc</th>\n",
       "      <th>lp_seg_salud</th>\n",
       "      <th>lp_seg_hogar</th>\n",
       "      <th>lp_seg_auto</th>\n",
       "    </tr>\n",
       "  </thead>\n",
       "  <tbody>\n",
       "    <tr>\n",
       "      <th>0</th>\n",
       "      <td>1</td>\n",
       "      <td>1328106.49</td>\n",
       "      <td>SI</td>\n",
       "      <td>NO</td>\n",
       "      <td>ASESOR FINANCIERO</td>\n",
       "      <td>18287.0</td>\n",
       "      <td>ASESORAMIENTO FINANCIERO</td>\n",
       "      <td>14881.0</td>\n",
       "      <td>SI</td>\n",
       "      <td>COMPRADOR</td>\n",
       "      <td>...</td>\n",
       "      <td>69.0</td>\n",
       "      <td>ALTO</td>\n",
       "      <td>BAJO RECORRIDO</td>\n",
       "      <td>2</td>\n",
       "      <td>210</td>\n",
       "      <td>0</td>\n",
       "      <td>0</td>\n",
       "      <td>0</td>\n",
       "      <td>1</td>\n",
       "      <td>0</td>\n",
       "    </tr>\n",
       "    <tr>\n",
       "      <th>1</th>\n",
       "      <td>2</td>\n",
       "      <td>1142234.34</td>\n",
       "      <td>SI</td>\n",
       "      <td>NO</td>\n",
       "      <td>ASESOR FINANCIERO</td>\n",
       "      <td>18287.0</td>\n",
       "      <td>ASESORAMIENTO FINANCIERO</td>\n",
       "      <td>14881.0</td>\n",
       "      <td>SI</td>\n",
       "      <td>COMPRADOR</td>\n",
       "      <td>...</td>\n",
       "      <td>81.0</td>\n",
       "      <td>ALTO</td>\n",
       "      <td>ALTO RECORRIDO</td>\n",
       "      <td>2</td>\n",
       "      <td>210</td>\n",
       "      <td>0</td>\n",
       "      <td>0</td>\n",
       "      <td>0</td>\n",
       "      <td>0</td>\n",
       "      <td>0</td>\n",
       "    </tr>\n",
       "  </tbody>\n",
       "</table>\n",
       "<p>2 rows × 30 columns</p>\n",
       "</div>"
      ],
      "text/plain": [
       "   cliente  saldo_captacion esta_carterizado cliente_bbp        tipo_gestor  \\\n",
       "0        1       1328106.49               SI          NO  ASESOR FINANCIERO   \n",
       "1        2       1142234.34               SI          NO  ASESOR FINANCIERO   \n",
       "\n",
       "    gestor            cartera_patron  codigo_cartera digital_3_meses  \\\n",
       "0  18287.0  ASESORAMIENTO FINANCIERO         14881.0              SI   \n",
       "1  18287.0  ASESORAMIENTO FINANCIERO         14881.0              SI   \n",
       "\n",
       "  camino_digital  ...  edad  seg_valor   seg_recorrido  dz  oficina  \\\n",
       "0      COMPRADOR  ...  69.0       ALTO  BAJO RECORRIDO   2      210   \n",
       "1      COMPRADOR  ...  81.0       ALTO  ALTO RECORRIDO   2      210   \n",
       "\n",
       "   lp_seg_vida  lp_seg_acc  lp_seg_salud lp_seg_hogar lp_seg_auto  \n",
       "0            0           0             0            1           0  \n",
       "1            0           0             0            0           0  \n",
       "\n",
       "[2 rows x 30 columns]"
      ]
     },
     "execution_count": 5,
     "metadata": {},
     "output_type": "execute_result"
    }
   ],
   "source": [
    "df.head(2)"
   ]
  },
  {
   "cell_type": "code",
   "execution_count": 6,
   "metadata": {},
   "outputs": [
    {
     "data": {
      "text/plain": [
       "(451374, 30)"
      ]
     },
     "execution_count": 6,
     "metadata": {},
     "output_type": "execute_result"
    }
   ],
   "source": [
    "df.shape"
   ]
  },
  {
   "cell_type": "code",
   "execution_count": 14,
   "metadata": {
    "scrolled": true
   },
   "outputs": [
    {
     "data": {
      "text/plain": [
       "Index(['cliente', 'saldo_captacion', 'esta_carterizado', 'cliente_bbp',\n",
       "       'tipo_gestor', 'gestor', 'cartera_patron', 'codigo_cartera',\n",
       "       'digital_3_meses', 'camino_digital', 'saldo_financiacion', 'saldo_ffii',\n",
       "       'saldo_plp', 'lp_dom_ingresos', 'lp_tjta_cto', 'lp_tjt_rev', 'lp_rbos',\n",
       "       'lp_of_int', 'marca_bp', 'marca_ccte', 'edad', 'seg_valor',\n",
       "       'seg_recorrido', 'dz', 'oficina', 'lp_seg_vida', 'lp_seg_acc',\n",
       "       'lp_seg_salud', 'lp_seg_hogar', 'lp_seg_auto'],\n",
       "      dtype='object')"
      ]
     },
     "execution_count": 14,
     "metadata": {},
     "output_type": "execute_result"
    }
   ],
   "source": [
    "df.columns"
   ]
  },
  {
   "cell_type": "markdown",
   "metadata": {},
   "source": [
    "## PRIMERA APROXIMACION AL MODELO"
   ]
  },
  {
   "cell_type": "code",
   "execution_count": 15,
   "metadata": {},
   "outputs": [],
   "source": [
    "df = df.select_dtypes('number')"
   ]
  },
  {
   "cell_type": "code",
   "execution_count": 16,
   "metadata": {},
   "outputs": [
    {
     "name": "stdout",
     "output_type": "stream",
     "text": [
      "Datos X = 8576106 (451374, 19)\n",
      "Datos y = 451374 (451374,)\n"
     ]
    }
   ],
   "source": [
    "# Inputs y Target \n",
    "X = df.drop(['lp_seg_hogar'], axis = 1)\n",
    "y= df['lp_seg_hogar']\n",
    "print('Datos X =', X.size, X.shape)\n",
    "print('Datos y =', y.size, y.shape)"
   ]
  },
  {
   "cell_type": "code",
   "execution_count": 17,
   "metadata": {},
   "outputs": [],
   "source": [
    "# Instanciamos el clasificador\n",
    "clfknn = KNeighborsClassifier(n_neighbors=5)"
   ]
  },
  {
   "cell_type": "code",
   "execution_count": 18,
   "metadata": {},
   "outputs": [
    {
     "data": {
      "text/plain": [
       "KNeighborsClassifier()"
      ]
     },
     "execution_count": 18,
     "metadata": {},
     "output_type": "execute_result"
    }
   ],
   "source": [
    "# Entrenamos el modelo\n",
    "clfknn.fit(X,y)"
   ]
  },
  {
   "cell_type": "code",
   "execution_count": 19,
   "metadata": {},
   "outputs": [
    {
     "data": {
      "text/plain": [
       "array([0, 0, 0, ..., 0, 0, 0], dtype=int64)"
      ]
     },
     "execution_count": 19,
     "metadata": {},
     "output_type": "execute_result"
    }
   ],
   "source": [
    "# Sacamos las primeras predicciones\n",
    "clfknn.predict(X)"
   ]
  },
  {
   "cell_type": "code",
   "execution_count": 20,
   "metadata": {},
   "outputs": [],
   "source": [
    "# Dividimos nuestro DF en Set de Entrenamiento 80% y Set de Test 20%.  \n",
    "test_size = 0.20\n",
    "seed = 7\n",
    "X_train, X_test, y_train, y_test = train_test_split(X, y, test_size = test_size, random_state = seed)"
   ]
  },
  {
   "cell_type": "code",
   "execution_count": 21,
   "metadata": {},
   "outputs": [
    {
     "data": {
      "text/plain": [
       "KNeighborsClassifier()"
      ]
     },
     "execution_count": 21,
     "metadata": {},
     "output_type": "execute_result"
    }
   ],
   "source": [
    "# Entrenamos el modelo\n",
    "clfknn.fit(X_train,y_train)"
   ]
  },
  {
   "cell_type": "code",
   "execution_count": 22,
   "metadata": {},
   "outputs": [
    {
     "data": {
      "text/plain": [
       "array([0, 0, 1, ..., 0, 0, 0], dtype=int64)"
      ]
     },
     "execution_count": 22,
     "metadata": {},
     "output_type": "execute_result"
    }
   ],
   "source": [
    "# Sacamos las primeras predicciones\n",
    "clfknn.predict(X_test)"
   ]
  },
  {
   "cell_type": "code",
   "execution_count": 23,
   "metadata": {},
   "outputs": [
    {
     "data": {
      "text/plain": [
       "array([0. , 0. , 0.6, ..., 0. , 0. , 0.2])"
      ]
     },
     "execution_count": 23,
     "metadata": {},
     "output_type": "execute_result"
    }
   ],
   "source": [
    "# Sacamos probabilidades de la opcion 1 \"Tiene Seguro de Hogar\"\n",
    "clfknn.predict_proba(X_test)[:, 1]"
   ]
  },
  {
   "cell_type": "markdown",
   "metadata": {},
   "source": [
    "Los resultados obtenidos en Train estan algo separados a los obtenidos en test. Significa que nuestro modelo puede no estar generalizando bien. Esto puede ser sintoma de overfitting. Debemos seguir mejorandolo para conseguir mejores metricas. "
   ]
  },
  {
   "cell_type": "code",
   "execution_count": 24,
   "metadata": {},
   "outputs": [
    {
     "name": "stdout",
     "output_type": "stream",
     "text": [
      "recall_train_modelo_primera_aproximacion 0.23878280100370008\n",
      "recall_test_modelo_primera_aproximacion = 0.11531607976240985\n"
     ]
    }
   ],
   "source": [
    "# Primeros restultados con metrica elegida \"Recall\" para ver si generaliza bien nuestro modelo.\n",
    "recall_train_modelo_primera_aproximacion = recall_score(y_train,clfknn.predict(X_train))\n",
    "recall_test_modelo_primera_aproximacion = recall_score(y_test,clfknn.predict(X_test))\n",
    "print('recall_train_modelo_primera_aproximacion', recall_train_modelo_primera_aproximacion)\n",
    "print('recall_test_modelo_primera_aproximacion =', recall_test_modelo_primera_aproximacion)"
   ]
  },
  {
   "cell_type": "code",
   "execution_count": 25,
   "metadata": {},
   "outputs": [
    {
     "name": "stdout",
     "output_type": "stream",
     "text": [
      "== Primera Aproximacion KNN_model ==\n",
      "accuracy_score = 0.8530490168928274\n",
      "====================================\n",
      "precision  = 0.323648487735175\n",
      "====================================\n",
      "recall = 0.11531607976240985\n",
      "====================================\n",
      "f1_score = 0.17004504504504506\n",
      "====================================\n",
      "roc_auc_score = 0.6515131167178456\n",
      "====================================\n",
      "classification_report\n",
      "              precision    recall  f1-score   support\n",
      "\n",
      "           0       0.88      0.96      0.92     78490\n",
      "           1       0.32      0.12      0.17     11785\n",
      "\n",
      "    accuracy                           0.85     90275\n",
      "   macro avg       0.60      0.54      0.54     90275\n",
      "weighted avg       0.81      0.85      0.82     90275\n",
      "\n"
     ]
    }
   ],
   "source": [
    "# Resultados obtenidos del modelo.\n",
    "print('== Primera Aproximacion KNN_model ==')\n",
    "print ('accuracy_score =', accuracy_score(y_test,clfknn.predict(X_test)))\n",
    "print('====================================')\n",
    "print('precision  =', precision_score(y_test,clfknn.predict(X_test)))\n",
    "print('====================================')\n",
    "print('recall =', recall_score(y_test,clfknn.predict(X_test)))\n",
    "print('====================================')\n",
    "print('f1_score =', f1_score(y_test,clfknn.predict(X_test)))\n",
    "print('====================================')\n",
    "print('roc_auc_score =', roc_auc_score(y_test,clfknn.predict_proba(X_test)[:, 1]))\n",
    "print('====================================')\n",
    "print('classification_report')\n",
    "print(classification_report(y_test, clfknn.predict(X_test)))"
   ]
  },
  {
   "cell_type": "code",
   "execution_count": 26,
   "metadata": {},
   "outputs": [
    {
     "name": "stdout",
     "output_type": "stream",
     "text": [
      "Sin entrenar: ROC AUC=0.500\n",
      "KNN: ROC AUC=0.652\n"
     ]
    },
    {
     "data": {
      "image/png": "[encoded data removed]",
      "text/plain": [
       "<Figure size 432x288 with 1 Axes>"
      ]
     },
     "metadata": {
      "needs_background": "light"
     },
     "output_type": "display_data"
    }
   ],
   "source": [
    "# Pintamos Curva Roc\n",
    "#Generamos un clasificador sin entrenar , que asignará 0 a todo\n",
    "sin_entrenar = [0 for _ in range(len(X_test))]\n",
    "# Calculamos el AUC\n",
    "ns_auc = roc_auc_score(y_test, sin_entrenar)\n",
    "lr_auc = roc_auc_score(y_test, clfknn.predict_proba(X_test)[:, 1])\n",
    "# Imprimimos en pantalla\n",
    "print('Sin entrenar: ROC AUC=%.3f' % (ns_auc))\n",
    "print('KNN: ROC AUC=%.3f' % (lr_auc))\n",
    "# Calculamos las curvas ROC\n",
    "ns_fpr, ns_tpr, _ = roc_curve(y_test, sin_entrenar)\n",
    "lr_fpr, lr_tpr, _ = roc_curve(y_test, clfknn.predict_proba(X_test)[:, 1])\n",
    "# Pintamos las curvas ROC\n",
    "pyplot.plot(ns_fpr, ns_tpr, linestyle='--', label='Sin entrenar')\n",
    "pyplot.plot(lr_fpr, lr_tpr, marker='.', label=' clfknn' , color = \"y\")\n",
    "# Etiquetas de los ejes\n",
    "pyplot.xlabel('Tasa de Falsos Positivos')\n",
    "pyplot.ylabel('Tasa de Verdaderos Positivos')\n",
    "pyplot.legend()\n",
    "plt.savefig(ruta + '/Financial-Product-Sales-Forecast-Model/Images/KNN Model - Roc Curve primera aprox.png', dpi=75,bbox_inches='tight')\n",
    "plt.show()\n",
    "pyplot.show()"
   ]
  },
  {
   "cell_type": "markdown",
   "metadata": {},
   "source": [
    "## MODELO"
   ]
  },
  {
   "cell_type": "code",
   "execution_count": 45,
   "metadata": {},
   "outputs": [],
   "source": [
    "# Leemos la base de datos\n",
    "df_normalized = pd.read_csv(ruta + '/Financial-Product-Sales-Forecast-Model/Preprocessing/df_normalized.csv')"
   ]
  },
  {
   "cell_type": "code",
   "execution_count": 46,
   "metadata": {},
   "outputs": [
    {
     "name": "stdout",
     "output_type": "stream",
     "text": [
      "Datos X = 6684992 (417812, 16)\n",
      "Datos y = 417812 (417812,)\n"
     ]
    }
   ],
   "source": [
    "# Inputs y Target \n",
    "X = df_normalized.drop(['lp_seg_hogar'], axis = 1)\n",
    "y= df_normalized['lp_seg_hogar']\n",
    "print('Datos X =', X.size, X.shape)\n",
    "print('Datos y =', y.size, y.shape)"
   ]
  },
  {
   "cell_type": "code",
   "execution_count": 47,
   "metadata": {},
   "outputs": [],
   "source": [
    "# Ajustamos nuestro set de entrenamiento y test Con pca. (80-20)\n",
    "test_size = 0.2\n",
    "seed = 7\n",
    "X_train, X_test, y_train, y_test = train_test_split(X, y, test_size = test_size, random_state = seed)"
   ]
  },
  {
   "cell_type": "code",
   "execution_count": 48,
   "metadata": {},
   "outputs": [
    {
     "data": {
      "text/plain": [
       "KNeighborsClassifier()"
      ]
     },
     "execution_count": 48,
     "metadata": {},
     "output_type": "execute_result"
    }
   ],
   "source": [
    "# Entrenamos nuestro modelo\n",
    "clfknn.fit(X_train, y_train)"
   ]
  },
  {
   "cell_type": "code",
   "execution_count": 49,
   "metadata": {},
   "outputs": [
    {
     "data": {
      "text/plain": [
       "array([0., 0., 0., ..., 0., 0., 0.])"
      ]
     },
     "execution_count": 49,
     "metadata": {},
     "output_type": "execute_result"
    }
   ],
   "source": [
    "# Hacemos las primeras predicciones\n",
    "clfknn.predict(X_test)"
   ]
  },
  {
   "cell_type": "code",
   "execution_count": 50,
   "metadata": {},
   "outputs": [
    {
     "data": {
      "text/plain": [
       "array([0., 0., 0., ..., 0., 0., 0.])"
      ]
     },
     "execution_count": 50,
     "metadata": {},
     "output_type": "execute_result"
    }
   ],
   "source": [
    "# Sacamos probabilidades de la opcion 1 \"Tiene Seguro de Hogar\"\n",
    "clfknn.predict_proba(X_test)[:, 1]"
   ]
  },
  {
   "cell_type": "code",
   "execution_count": 52,
   "metadata": {},
   "outputs": [
    {
     "name": "stdout",
     "output_type": "stream",
     "text": [
      "recall_train_evolucion_modelo 0.449884314838259\n",
      "recall_test_evolucion_modelo = 0.32872585504164453\n"
     ]
    }
   ],
   "source": [
    "# Primeros resultados.  Sigue sin generalizar bien.\n",
    "recall_train_evolucion_modelo = recall_score(y_train,clfknn.predict(X_train))\n",
    "recall_test_evolucion_modelo = recall_score(y_test,clfknn.predict(X_test))\n",
    "print('recall_train_evolucion_modelo', recall_train_evolucion_modelo)\n",
    "print('recall_test_evolucion_modelo =', recall_test_evolucion_modelo)"
   ]
  },
  {
   "cell_type": "markdown",
   "metadata": {},
   "source": [
    "## Técnicas de validación cruzada.  Métricas: Validación cruzada\n",
    "Utilizamos la validación cruzada iterando 5 veces a lo largo del conjunto de entrenamiento.\n",
    "\n",
    "- Apartamos 1/5 muestras.\n",
    "- Entrenamos el modelo con las 4/5 muestras restantes.\n",
    "- Mediremos con diferentes métricas el resultado obtenido en las muestras apartadas.\n",
    "- Esto significa que hacemos 5 entrenamientos independientes.\n",
    "- El resultado será la media de las 5 métricas anteriores."
   ]
  },
  {
   "cell_type": "code",
   "execution_count": 25,
   "metadata": {},
   "outputs": [
    {
     "data": {
      "text/plain": [
       "(0.5268871635721725, 0.32168126094570926, 0.3994235414171186)"
      ]
     },
     "execution_count": 25,
     "metadata": {},
     "output_type": "execute_result"
    }
   ],
   "source": [
    "from sklearn.model_selection import cross_val_score\n",
    "cross_val_score_precision = cross_val_score(clfknn,X,y,cv=5,scoring=\"precision\").mean()\n",
    "cross_val_score_recall = cross_val_score(clfknn,X,y,cv=5,scoring=\"recall\").mean()\n",
    "cross_val_score_f1 = cross_val_score(clfknn,X,y,cv=5,scoring=\"f1\").mean() \n",
    "cross_val_score_precision , cross_val_score_recall, cross_val_score_f1"
   ]
  },
  {
   "cell_type": "code",
   "execution_count": 53,
   "metadata": {},
   "outputs": [
    {
     "name": "stdout",
     "output_type": "stream",
     "text": [
      "========= CLFKNN ===================\n",
      "accuracy_score =  0.8705288225650109\n",
      "====================================\n",
      "precision = 0.533582626204516\n",
      "====================================\n",
      "recall = 0.32872585504164453\n",
      "====================================\n",
      "f1_score = 0.4068205493722244\n",
      "====================================\n",
      "roc_auc_score = 0.7880027148639571\n",
      "====================================\n"
     ]
    }
   ],
   "source": [
    "print('========= CLFKNN ===================')\n",
    "print ('accuracy_score = ', accuracy_score(y_test,clfknn.predict(X_test)))\n",
    "print('====================================')\n",
    "print('precision =', precision_score(y_test,clfknn.predict(X_test)))\n",
    "print('====================================')\n",
    "print('recall =', recall_score(y_test,clfknn.predict(X_test)))\n",
    "print('====================================')\n",
    "print('f1_score =', f1_score(y_test,clfknn.predict(X_test)))\n",
    "print('====================================')\n",
    "print('roc_auc_score =', roc_auc_score(y_test,clfknn.predict_proba(X_test)[:, 1]))\n",
    "print('====================================')\n"
   ]
  },
  {
   "cell_type": "code",
   "execution_count": 54,
   "metadata": {},
   "outputs": [
    {
     "data": {
      "image/png": "[encoded data removed]",
      "text/plain": [
       "<Figure size 288x504 with 1 Axes>"
      ]
     },
     "metadata": {
      "needs_background": "light"
     },
     "output_type": "display_data"
    }
   ],
   "source": [
    "# Plot \n",
    "confusion_matrix_knn = confusion_matrix(y_test,clfknn.predict(X_test))\n",
    "fig, ax = plt.subplots(figsize=(4, 7))\n",
    "ax.matshow(confusion_matrix_knn, cmap=plt.cm.YlOrRd)\n",
    "for i in range(confusion_matrix_knn.shape[0]):\n",
    "    for j in range(confusion_matrix_knn.shape[1]):\n",
    "        ax.text(x=j, y=i, s=confusion_matrix_knn[i, j], va='center', ha='center')\n",
    "\n",
    "plt.title('Matriz de Confusion_knn')\n",
    "plt.xlabel('Valores Reales')\n",
    "plt.ylabel('Predicciones')\n",
    "plt.tight_layout()\n",
    "plt.savefig(ruta + '/Financial-Product-Sales-Forecast-Model/Images/KNN Model - Confusion_matrix_Knn.png', dpi=75,bbox_inches='tight')\n",
    "plt.show()\n"
   ]
  },
  {
   "cell_type": "markdown",
   "metadata": {},
   "source": [
    "## GridSearchCV  \n",
    "\n",
    "Evaluamos y seleccionamos de forma sistemática los parámetros de un modelo. Indicándole un modelo y los parámetros a probar, puede evaluar el rendimiento del primero en función de los segundos mediante validación cruzada."
   ]
  },
  {
   "cell_type": "code",
   "execution_count": 55,
   "metadata": {},
   "outputs": [],
   "source": [
    "from sklearn.model_selection import GridSearchCV"
   ]
  },
  {
   "cell_type": "code",
   "execution_count": 56,
   "metadata": {},
   "outputs": [],
   "source": [
    "# Buscamos los mejores parametros con GS\n",
    "knn_grid_params_gs = {\n",
    "    'n_neighbors' : [5,7,9,11],\n",
    "    'weights' : ['uniform', 'distance'],\n",
    "    'metric' : ['minkowski','euclidean','manhattan']\n",
    "    }\n",
    "\n",
    "knngs = GridSearchCV(\n",
    "        clfknn,\n",
    "        knn_grid_params_gs,\n",
    "        verbose = 1,\n",
    "        cv = 3,\n",
    "        n_jobs = -1\n",
    "        )"
   ]
  },
  {
   "cell_type": "code",
   "execution_count": 57,
   "metadata": {
    "scrolled": true
   },
   "outputs": [
    {
     "name": "stdout",
     "output_type": "stream",
     "text": [
      "Fitting 3 folds for each of 24 candidates, totalling 72 fits\n"
     ]
    },
    {
     "name": "stderr",
     "output_type": "stream",
     "text": [
      "[Parallel(n_jobs=-1)]: Using backend LokyBackend with 12 concurrent workers.\n",
      "[Parallel(n_jobs=-1)]: Done  26 tasks      | elapsed: 25.4min\n",
      "[Parallel(n_jobs=-1)]: Done  72 out of  72 | elapsed: 55.9min finished\n"
     ]
    },
    {
     "data": {
      "text/plain": [
       "GridSearchCV(cv=3, estimator=KNeighborsClassifier(), n_jobs=-1,\n",
       "             param_grid={'metric': ['minkowski', 'euclidean', 'manhattan'],\n",
       "                         'n_neighbors': [5, 7, 9, 11],\n",
       "                         'weights': ['uniform', 'distance']},\n",
       "             verbose=1)"
      ]
     },
     "execution_count": 57,
     "metadata": {},
     "output_type": "execute_result"
    }
   ],
   "source": [
    "# Entrenamos los parametros \n",
    "knngs.fit(X_train,y_train)"
   ]
  },
  {
   "cell_type": "code",
   "execution_count": 59,
   "metadata": {},
   "outputs": [
    {
     "data": {
      "text/plain": [
       "KNeighborsClassifier(metric='manhattan', n_neighbors=11)"
      ]
     },
     "execution_count": 59,
     "metadata": {},
     "output_type": "execute_result"
    }
   ],
   "source": [
    "# Mejores estimadores\n",
    "knngs.best_estimator_"
   ]
  },
  {
   "cell_type": "code",
   "execution_count": 60,
   "metadata": {},
   "outputs": [
    {
     "data": {
      "text/plain": [
       "{'metric': 'manhattan', 'n_neighbors': 11, 'weights': 'uniform'}"
      ]
     },
     "execution_count": 60,
     "metadata": {},
     "output_type": "execute_result"
    }
   ],
   "source": [
    "# mejores parametros\n",
    "knngs.best_params_"
   ]
  },
  {
   "cell_type": "markdown",
   "metadata": {},
   "source": [
    "## Hacemos el modelo con los mejores parametros"
   ]
  },
  {
   "cell_type": "code",
   "execution_count": 61,
   "metadata": {},
   "outputs": [],
   "source": [
    "# Instanciamos clasificador\n",
    "clfknn = KNeighborsClassifier(metric ='manhattan', n_neighbors= 11, weights= 'uniform')"
   ]
  },
  {
   "cell_type": "code",
   "execution_count": 62,
   "metadata": {},
   "outputs": [],
   "source": [
    "# Ajustamos nuestro set de entrenamiento y test Con pca. (80-20)\n",
    "test_size = 0.2\n",
    "seed = 7\n",
    "X_train, X_test, y_train, y_test = train_test_split(X, y, test_size = test_size, random_state = seed)"
   ]
  },
  {
   "cell_type": "code",
   "execution_count": 63,
   "metadata": {},
   "outputs": [
    {
     "data": {
      "text/plain": [
       "KNeighborsClassifier(metric='manhattan', n_neighbors=11)"
      ]
     },
     "execution_count": 63,
     "metadata": {},
     "output_type": "execute_result"
    }
   ],
   "source": [
    "# Entrenamos el modelo\n",
    "clfknn.fit(X_train, y_train)"
   ]
  },
  {
   "cell_type": "code",
   "execution_count": 64,
   "metadata": {},
   "outputs": [
    {
     "data": {
      "text/plain": [
       "array([0., 0., 0., ..., 0., 0., 0.])"
      ]
     },
     "execution_count": 64,
     "metadata": {},
     "output_type": "execute_result"
    }
   ],
   "source": [
    "# Sacamos las predicciones\n",
    "clfknn.predict(X_test)"
   ]
  },
  {
   "cell_type": "code",
   "execution_count": 65,
   "metadata": {},
   "outputs": [
    {
     "data": {
      "text/plain": [
       "array([0.27272727, 0.09090909, 0.        , ..., 0.09090909, 0.09090909,\n",
       "       0.        ])"
      ]
     },
     "execution_count": 65,
     "metadata": {},
     "output_type": "execute_result"
    }
   ],
   "source": [
    "# Sacamos probabilidades de la opcion 1 \"Tiene Seguro de Hogar\"\n",
    "clfknn.predict_proba(X_test)[:, 1]"
   ]
  },
  {
   "cell_type": "code",
   "execution_count": 66,
   "metadata": {},
   "outputs": [
    {
     "name": "stdout",
     "output_type": "stream",
     "text": [
      "========= RESULTADO CLFKNN GRIDSEARCH ===================\n",
      "accuracy_score =  0.8767516723908907\n",
      "====================================\n",
      "precision = 0.5930956423316356\n",
      "====================================\n",
      "recall = 0.278575225943647\n",
      "====================================\n",
      "f1_score = 0.3790920600470248\n",
      "====================================\n",
      "roc_auc_score = 0.8283547183036939\n",
      "====================================\n"
     ]
    }
   ],
   "source": [
    "# Resultados \n",
    "print('========= RESULTADO CLFKNN GRIDSEARCH ===================')\n",
    "print ('accuracy_score = ', accuracy_score(y_test,clfknn.predict(X_test)))\n",
    "print('====================================')\n",
    "print('precision =', precision_score(y_test,clfknn.predict(X_test)))\n",
    "print('====================================')\n",
    "print('recall =', recall_score(y_test,clfknn.predict(X_test)))\n",
    "print('====================================')\n",
    "print('f1_score =', f1_score(y_test,clfknn.predict(X_test)))\n",
    "print('====================================')\n",
    "print('roc_auc_score =', roc_auc_score(y_test,clfknn.predict_proba(X_test)[:, 1]))\n",
    "print('====================================')"
   ]
  },
  {
   "cell_type": "code",
   "execution_count": 67,
   "metadata": {},
   "outputs": [
    {
     "name": "stdout",
     "output_type": "stream",
     "text": [
      "Sin entrenar: ROC AUC=0.500\n",
      "Regresión Logística: ROC AUC=0.828\n"
     ]
    },
    {
     "data": {
      "image/png": "[encoded data removed]",
      "text/plain": [
       "<Figure size 432x288 with 1 Axes>"
      ]
     },
     "metadata": {
      "needs_background": "light"
     },
     "output_type": "display_data"
    }
   ],
   "source": [
    "# Ploteamos Curva Roc\n",
    "#Generamos un clasificador sin entrenar , que asignará 0 a todo\n",
    "sin_entrenar = [0 for _ in range(len(X_test))]\n",
    "# Calculamos el AUC\n",
    "ns_auc = roc_auc_score(y_test, sin_entrenar)\n",
    "lr_auc = roc_auc_score(y_test, clfknn.predict_proba(X_test)[:, 1])\n",
    "# Imprimimos en pantalla\n",
    "print('Sin entrenar: ROC AUC=%.3f' % (ns_auc))\n",
    "print('Regresión Logística: ROC AUC=%.3f' % (lr_auc))\n",
    "# Calculamos las curvas ROC\n",
    "ns_fpr, ns_tpr, _ = roc_curve(y_test, sin_entrenar)\n",
    "lr_fpr, lr_tpr, _ = roc_curve(y_test, clfknn.predict_proba(X_test)[:, 1])\n",
    "# Pintamos las curvas ROC\n",
    "pyplot.plot(ns_fpr, ns_tpr, linestyle='--', label='Sin entrenar')\n",
    "pyplot.plot(lr_fpr, lr_tpr, marker='.', label=' clfknn' , color = \"y\")\n",
    "# Etiquetas de los ejes\n",
    "pyplot.xlabel('Tasa de Falsos Positivos')\n",
    "pyplot.ylabel('Tasa de Verdaderos Positivos')\n",
    "pyplot.legend()\n",
    "plt.savefig(ruta + '/Financial-Product-Sales-Forecast-Model/Images/KNN Model - Roc Curve Knn grid.png', dpi=75,bbox_inches='tight')\n",
    "pyplot.show()"
   ]
  },
  {
   "cell_type": "markdown",
   "metadata": {},
   "source": [
    "## *** Conclusiones Modelo ***"
   ]
  },
  {
   "cell_type": "markdown",
   "metadata": {},
   "source": [
    "- __Las principales metricas elegidas__ en el Modelo de clasificacion KN  para decidir si estamos ante un buen resultado es __Metrica Recall y AUC - Curva Roc.__ \n",
    "- Iniciamos nuestro modelo con una __primera aproximacion__ obteniendo unos resultados __muy mejorables. Recall 0,11.__ La base de datos utilizada es la original sin haber realizado ningun preprocesado. \n",
    "- __Confirmamos que nuestro set de entramiento ha generalizado bien__ al no haber mucha diferencia entre los resultados obtenidos de Test y Train. Quizas se puede intuir algo de overfiting por estar muy cerca las metricas de test y de train. 0.23 y 0.11 Recall.\n",
    "- Evolucionamos nuestro modelo utilizando la base de datos preprocesada en la que hemos adaptado, aplicado Label Encoder, Standar Scaler y Normalizado variables. __Las metricas obtenidas son :  Recall 0.78 - Auc 0.32__\n",
    "- Evalumos y seleccionamos de forma sistemática los parámetros de un modelo con __GridSearchCV__ Indicándole un modelo y los parámetros a probar, puede evaluar el rendimiento del primero en función de los segundos mediante validación cruzada. __Las metricas finales obtenidas son Recall 0.27 - Auc 0.83.__ Hemos mejorado la curva ROC pero no es suficiente.\n",
    "- Estudio de la matriz de confusion. Obtenemos unos resultados de Falsos negativos 8162  y verdaderos negativos 3214.  En nuestro modelo prima la deteccion de clientes que no van a contratar el seguro.  Detectando aquellos clientes que no son susceptibles de tener el seguro de hogar podemos trabajar con aquellos que si pueden tenerlo. Todo ello con un objetivo de optimizacion del tiempo y eficiencia comercial.\n",
    "- Se echan en falta, entre otras muchas, variables y datos como la renta de los clientes, hijos, tipo de trabajo,   nomina real en euros obtenida, lugar de residencia...etc."
   ]
  }
 ],
 "metadata": {
  "kernelspec": {
   "display_name": "Python 3",
   "language": "python",
   "name": "python3"
  },
  "language_info": {
   "codemirror_mode": {
    "name": "ipython",
    "version": 3
   },
   "file_extension": ".py",
   "mimetype": "text/x-python",
   "name": "python",
   "nbconvert_exporter": "python",
   "pygments_lexer": "ipython3",
   "version": "3.8.5"
  }
 },
 "nbformat": 4,
 "nbformat_minor": 2
}
