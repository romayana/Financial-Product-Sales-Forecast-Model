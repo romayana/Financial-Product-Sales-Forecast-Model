{
 "cells": [
  {
   "cell_type": "markdown",
   "metadata": {},
   "source": [
    "# MODELO CLASIFICACION REGRESION LOGISTICA"
   ]
  },
  {
   "cell_type": "markdown",
   "metadata": {},
   "source": [
    "Presentamos e Importamos todas las librerias que vamos a necesitar a lo largo del modelo."
   ]
  },
  {
   "cell_type": "code",
   "execution_count": 56,
   "metadata": {},
   "outputs": [],
   "source": [
    "import pandas as pd\n",
    "import numpy as np\n",
    "\n",
    "#Libreria Metricas\n",
    "from sklearn.metrics import f1_score, recall_score, precision_score, accuracy_score\n",
    "from sklearn.metrics import roc_auc_score, roc_curve\n",
    "from sklearn.metrics import confusion_matrix\n",
    "from sklearn.metrics import classification_report\n",
    "from sklearn.metrics import auc\n",
    "from sklearn.model_selection import KFold\n",
    "from sklearn.metrics import log_loss\n",
    "from sklearn.model_selection import cross_val_score\n",
    "\n",
    "#Librerias Visualizacion\n",
    "import matplotlib.pyplot as plt\n",
    "import pylab as pl\n",
    "import seaborn as sns \n",
    "from pylab import rcParams \n",
    "from matplotlib import pyplot\n",
    "\n",
    "#Librerias Modelos\n",
    "from sklearn.linear_model import LogisticRegression\n",
    "from sklearn.neighbors import KNeighborsClassifier\n",
    "from sklearn.neighbors import KNeighborsRegressor\n",
    "from sklearn.tree import DecisionTreeClassifier \n",
    "from sklearn.ensemble import RandomForestClassifier\n",
    "from sklearn.model_selection import train_test_split \n",
    "from collections import Counter\n",
    "from imblearn.over_sampling import SMOTE \n",
    "\n"
   ]
  },
  {
   "cell_type": "markdown",
   "metadata": {},
   "source": [
    "Leemos y presentamos nuestra Base de Datos. Mostramos las 5 primeras filas, el tipo y el nombre de las Columnas / variables que la componen. Las variables que se refierne a unidades de negocio no las vamos a utilizar en el modelo por lo que las transformamos a Objeto para un mejor entendimiento y segmentacion de las propias variables. "
   ]
  },
  {
   "cell_type": "code",
   "execution_count": 2,
   "metadata": {},
   "outputs": [],
   "source": [
    "df = pd.read_csv('/home/dsc/Master-Kschool/TFM/Financial-Product-Sales-Forecast-Model/0rigin_data/cleanned_data/df.tfm')"
   ]
  },
  {
   "cell_type": "code",
   "execution_count": 3,
   "metadata": {},
   "outputs": [],
   "source": [
    "# Transformamos variables unidad de negocio en object ya que no queremos utilizarlas.\n",
    "df[[\"cliente\", \"gestor\",\n",
    "    'codigo_cartera', 'dz', 'oficina']] = df[[\"cliente\", \"gestor\",\n",
    "                                              'codigo_cartera', 'dz', 'oficina']].astype(object);"
   ]
  },
  {
   "cell_type": "code",
   "execution_count": 4,
   "metadata": {
    "scrolled": false
   },
   "outputs": [
    {
     "data": {
      "text/html": [
       "<div>\n",
       "<style scoped>\n",
       "    .dataframe tbody tr th:only-of-type {\n",
       "        vertical-align: middle;\n",
       "    }\n",
       "\n",
       "    .dataframe tbody tr th {\n",
       "        vertical-align: top;\n",
       "    }\n",
       "\n",
       "    .dataframe thead th {\n",
       "        text-align: right;\n",
       "    }\n",
       "</style>\n",
       "<table border=\"1\" class=\"dataframe\">\n",
       "  <thead>\n",
       "    <tr style=\"text-align: right;\">\n",
       "      <th></th>\n",
       "      <th>cliente</th>\n",
       "      <th>saldo_captacion</th>\n",
       "      <th>esta_carterizado</th>\n",
       "      <th>cliente_bbp</th>\n",
       "      <th>tipo_gestor</th>\n",
       "      <th>gestor</th>\n",
       "      <th>cartera_patron</th>\n",
       "      <th>codigo_cartera</th>\n",
       "      <th>digital_3_meses</th>\n",
       "      <th>camino_digital</th>\n",
       "      <th>...</th>\n",
       "      <th>edad</th>\n",
       "      <th>seg_valor</th>\n",
       "      <th>seg_recorrido</th>\n",
       "      <th>dz</th>\n",
       "      <th>oficina</th>\n",
       "      <th>lp_seg_vida</th>\n",
       "      <th>lp_seg_acc</th>\n",
       "      <th>lp_seg_salud</th>\n",
       "      <th>lp_seg_hogar</th>\n",
       "      <th>lp_seg_auto</th>\n",
       "    </tr>\n",
       "  </thead>\n",
       "  <tbody>\n",
       "    <tr>\n",
       "      <th>0</th>\n",
       "      <td>1</td>\n",
       "      <td>1328106.49</td>\n",
       "      <td>SI</td>\n",
       "      <td>NO</td>\n",
       "      <td>ASESOR FINANCIERO</td>\n",
       "      <td>18287.0</td>\n",
       "      <td>ASESORAMIENTO FINANCIERO</td>\n",
       "      <td>14881.0</td>\n",
       "      <td>SI</td>\n",
       "      <td>COMPRADOR</td>\n",
       "      <td>...</td>\n",
       "      <td>69.0</td>\n",
       "      <td>ALTO</td>\n",
       "      <td>BAJO RECORRIDO</td>\n",
       "      <td>2</td>\n",
       "      <td>210</td>\n",
       "      <td>0</td>\n",
       "      <td>0</td>\n",
       "      <td>0</td>\n",
       "      <td>1</td>\n",
       "      <td>0</td>\n",
       "    </tr>\n",
       "    <tr>\n",
       "      <th>1</th>\n",
       "      <td>2</td>\n",
       "      <td>1142234.34</td>\n",
       "      <td>SI</td>\n",
       "      <td>NO</td>\n",
       "      <td>ASESOR FINANCIERO</td>\n",
       "      <td>18287.0</td>\n",
       "      <td>ASESORAMIENTO FINANCIERO</td>\n",
       "      <td>14881.0</td>\n",
       "      <td>SI</td>\n",
       "      <td>COMPRADOR</td>\n",
       "      <td>...</td>\n",
       "      <td>81.0</td>\n",
       "      <td>ALTO</td>\n",
       "      <td>ALTO RECORRIDO</td>\n",
       "      <td>2</td>\n",
       "      <td>210</td>\n",
       "      <td>0</td>\n",
       "      <td>0</td>\n",
       "      <td>0</td>\n",
       "      <td>0</td>\n",
       "      <td>0</td>\n",
       "    </tr>\n",
       "    <tr>\n",
       "      <th>2</th>\n",
       "      <td>3</td>\n",
       "      <td>1142234.34</td>\n",
       "      <td>SI</td>\n",
       "      <td>NO</td>\n",
       "      <td>ASESOR FINANCIERO</td>\n",
       "      <td>18287.0</td>\n",
       "      <td>TUTELA</td>\n",
       "      <td>28332.0</td>\n",
       "      <td>NO</td>\n",
       "      <td>SIN USO</td>\n",
       "      <td>...</td>\n",
       "      <td>75.0</td>\n",
       "      <td>ALTO</td>\n",
       "      <td>BAJO RECORRIDO</td>\n",
       "      <td>2</td>\n",
       "      <td>210</td>\n",
       "      <td>0</td>\n",
       "      <td>0</td>\n",
       "      <td>0</td>\n",
       "      <td>0</td>\n",
       "      <td>0</td>\n",
       "    </tr>\n",
       "    <tr>\n",
       "      <th>3</th>\n",
       "      <td>4</td>\n",
       "      <td>1340503.88</td>\n",
       "      <td>SI</td>\n",
       "      <td>NO</td>\n",
       "      <td>ASESOR FINANCIERO</td>\n",
       "      <td>41475.0</td>\n",
       "      <td>ASESORAMIENTO FINANCIERO</td>\n",
       "      <td>14204.0</td>\n",
       "      <td>NO</td>\n",
       "      <td>SIN USO</td>\n",
       "      <td>...</td>\n",
       "      <td>94.0</td>\n",
       "      <td>ALTO</td>\n",
       "      <td>BAJO RECORRIDO</td>\n",
       "      <td>2</td>\n",
       "      <td>210</td>\n",
       "      <td>0</td>\n",
       "      <td>0</td>\n",
       "      <td>0</td>\n",
       "      <td>0</td>\n",
       "      <td>0</td>\n",
       "    </tr>\n",
       "    <tr>\n",
       "      <th>4</th>\n",
       "      <td>5</td>\n",
       "      <td>1758517.70</td>\n",
       "      <td>SI</td>\n",
       "      <td>NO</td>\n",
       "      <td>ASESOR FINANCIERO</td>\n",
       "      <td>39000.0</td>\n",
       "      <td>ASESORAMIENTO FINANCIERO</td>\n",
       "      <td>14219.0</td>\n",
       "      <td>SI</td>\n",
       "      <td>COMPRADOR</td>\n",
       "      <td>...</td>\n",
       "      <td>64.0</td>\n",
       "      <td>ALTO</td>\n",
       "      <td>BAJO RECORRIDO</td>\n",
       "      <td>2</td>\n",
       "      <td>210</td>\n",
       "      <td>0</td>\n",
       "      <td>0</td>\n",
       "      <td>0</td>\n",
       "      <td>0</td>\n",
       "      <td>0</td>\n",
       "    </tr>\n",
       "  </tbody>\n",
       "</table>\n",
       "<p>5 rows × 30 columns</p>\n",
       "</div>"
      ],
      "text/plain": [
       "  cliente  saldo_captacion esta_carterizado cliente_bbp        tipo_gestor  \\\n",
       "0       1       1328106.49               SI          NO  ASESOR FINANCIERO   \n",
       "1       2       1142234.34               SI          NO  ASESOR FINANCIERO   \n",
       "2       3       1142234.34               SI          NO  ASESOR FINANCIERO   \n",
       "3       4       1340503.88               SI          NO  ASESOR FINANCIERO   \n",
       "4       5       1758517.70               SI          NO  ASESOR FINANCIERO   \n",
       "\n",
       "    gestor            cartera_patron codigo_cartera digital_3_meses  \\\n",
       "0  18287.0  ASESORAMIENTO FINANCIERO        14881.0              SI   \n",
       "1  18287.0  ASESORAMIENTO FINANCIERO        14881.0              SI   \n",
       "2  18287.0                    TUTELA        28332.0              NO   \n",
       "3  41475.0  ASESORAMIENTO FINANCIERO        14204.0              NO   \n",
       "4  39000.0  ASESORAMIENTO FINANCIERO        14219.0              SI   \n",
       "\n",
       "  camino_digital  ...  edad  seg_valor   seg_recorrido  dz  oficina  \\\n",
       "0      COMPRADOR  ...  69.0       ALTO  BAJO RECORRIDO   2      210   \n",
       "1      COMPRADOR  ...  81.0       ALTO  ALTO RECORRIDO   2      210   \n",
       "2        SIN USO  ...  75.0       ALTO  BAJO RECORRIDO   2      210   \n",
       "3        SIN USO  ...  94.0       ALTO  BAJO RECORRIDO   2      210   \n",
       "4      COMPRADOR  ...  64.0       ALTO  BAJO RECORRIDO   2      210   \n",
       "\n",
       "   lp_seg_vida  lp_seg_acc  lp_seg_salud lp_seg_hogar lp_seg_auto  \n",
       "0            0           0             0            1           0  \n",
       "1            0           0             0            0           0  \n",
       "2            0           0             0            0           0  \n",
       "3            0           0             0            0           0  \n",
       "4            0           0             0            0           0  \n",
       "\n",
       "[5 rows x 30 columns]"
      ]
     },
     "execution_count": 4,
     "metadata": {},
     "output_type": "execute_result"
    }
   ],
   "source": [
    "df.head(5)"
   ]
  },
  {
   "cell_type": "code",
   "execution_count": 5,
   "metadata": {
    "scrolled": false
   },
   "outputs": [
    {
     "data": {
      "text/plain": [
       "Index(['cliente', 'saldo_captacion', 'esta_carterizado', 'cliente_bbp',\n",
       "       'tipo_gestor', 'gestor', 'cartera_patron', 'codigo_cartera',\n",
       "       'digital_3_meses', 'camino_digital', 'saldo_financiacion', 'saldo_ffii',\n",
       "       'saldo_plp', 'lp_dom_ingresos', 'lp_tjta_cto', 'lp_tjt_rev', 'lp_rbos',\n",
       "       'lp_of_int', 'marca_bp', 'marca_ccte', 'edad', 'seg_valor',\n",
       "       'seg_recorrido', 'dz', 'oficina', 'lp_seg_vida', 'lp_seg_acc',\n",
       "       'lp_seg_salud', 'lp_seg_hogar', 'lp_seg_auto'],\n",
       "      dtype='object')"
      ]
     },
     "execution_count": 5,
     "metadata": {},
     "output_type": "execute_result"
    }
   ],
   "source": [
    "df.columns"
   ]
  },
  {
   "cell_type": "markdown",
   "metadata": {},
   "source": [
    "## PRIMERA APROXIMACION AL MODELO"
   ]
  },
  {
   "cell_type": "code",
   "execution_count": 6,
   "metadata": {},
   "outputs": [],
   "source": [
    "df = df.select_dtypes('number')"
   ]
  },
  {
   "cell_type": "code",
   "execution_count": 7,
   "metadata": {},
   "outputs": [
    {
     "name": "stdout",
     "output_type": "stream",
     "text": [
      "Datos X = 6319236 (451374, 14)\n",
      "Datos y = 451374 (451374,)\n"
     ]
    }
   ],
   "source": [
    "# Inputs y Target \n",
    "X = df.drop(['lp_seg_hogar'], axis = 1)\n",
    "y= df['lp_seg_hogar']\n",
    "print('Datos X =', X.size, X.shape)\n",
    "print('Datos y =', y.size, y.shape)"
   ]
  },
  {
   "cell_type": "code",
   "execution_count": 8,
   "metadata": {},
   "outputs": [],
   "source": [
    "# Instanciamos el clasificador\n",
    "clf_log_regressor = LogisticRegression()"
   ]
  },
  {
   "cell_type": "code",
   "execution_count": 9,
   "metadata": {},
   "outputs": [
    {
     "data": {
      "text/plain": [
       "LogisticRegression()"
      ]
     },
     "execution_count": 9,
     "metadata": {},
     "output_type": "execute_result"
    }
   ],
   "source": [
    "# Entrenamos el modelo\n",
    "clf_log_regressor.fit(X,y)"
   ]
  },
  {
   "cell_type": "code",
   "execution_count": 10,
   "metadata": {},
   "outputs": [
    {
     "data": {
      "text/plain": [
       "array([1, 1, 1, ..., 0, 0, 0])"
      ]
     },
     "execution_count": 10,
     "metadata": {},
     "output_type": "execute_result"
    }
   ],
   "source": [
    "# Sacamos las primeras predicciones\n",
    "clf_log_regressor.predict(X)"
   ]
  },
  {
   "cell_type": "code",
   "execution_count": 11,
   "metadata": {},
   "outputs": [],
   "source": [
    "# Dividimos nuestro DF en Set de Entrenamiento 80% y Set de Test 20%.  \n",
    "test_size = 0.20\n",
    "seed = 7\n",
    "X_train, X_test, y_train, y_test = train_test_split(X, y, test_size = test_size, random_state = seed)"
   ]
  },
  {
   "cell_type": "code",
   "execution_count": 12,
   "metadata": {},
   "outputs": [
    {
     "data": {
      "text/plain": [
       "LogisticRegression()"
      ]
     },
     "execution_count": 12,
     "metadata": {},
     "output_type": "execute_result"
    }
   ],
   "source": [
    "# Entrenamos el modelo\n",
    "clf_log_regressor.fit(X_train,y_train)"
   ]
  },
  {
   "cell_type": "code",
   "execution_count": 13,
   "metadata": {},
   "outputs": [
    {
     "data": {
      "text/plain": [
       "array([0, 0, 0, ..., 0, 0, 0])"
      ]
     },
     "execution_count": 13,
     "metadata": {},
     "output_type": "execute_result"
    }
   ],
   "source": [
    "# Sacamos las primeras predicciones\n",
    "clf_log_regressor.predict(X_test)"
   ]
  },
  {
   "cell_type": "code",
   "execution_count": 14,
   "metadata": {},
   "outputs": [
    {
     "data": {
      "text/plain": [
       "array([0.31004564, 0.13072842, 0.17100719, ..., 0.07256822, 0.13290052,\n",
       "       0.03860107])"
      ]
     },
     "execution_count": 14,
     "metadata": {},
     "output_type": "execute_result"
    }
   ],
   "source": [
    "# Sacamos probabilidades de la opcion 1 \"Tiene Seguro de Hogar\"\n",
    "clf_log_regressor.predict_proba(X_test)[:, 1]"
   ]
  },
  {
   "cell_type": "markdown",
   "metadata": {},
   "source": [
    "Los resultados obtenidos en Train estan muy cercanos a los obtenidos en test. Nuestro modelo entrenado está generalizando bien y lo podemos dar por bueno por ahora a falta de conseguir mejores metricas. En caso de haber existido mucha diferencia podria estar indicando overfiting."
   ]
  },
  {
   "cell_type": "code",
   "execution_count": 15,
   "metadata": {},
   "outputs": [
    {
     "name": "stdout",
     "output_type": "stream",
     "text": [
      "recall_train_modelo_primera_aproximacion 0.023710287925828265\n",
      "recall_test_modelo_primera_aproximacion = 0.022571064913025032\n"
     ]
    }
   ],
   "source": [
    "# Primeros restultados con metrica elegida \"Recall\" para ver si generaliza bien nuestro modelo.\n",
    "recall_train_modelo_primera_aproximacion = recall_score(y_train,clf_log_regressor.predict(X_train))\n",
    "recall_test_modelo_primera_aproximacion = recall_score(y_test,clf_log_regressor.predict(X_test))\n",
    "print('recall_train_modelo_primera_aproximacion', recall_train_modelo_primera_aproximacion)\n",
    "print('recall_test_modelo_primera_aproximacion =', recall_test_modelo_primera_aproximacion)"
   ]
  },
  {
   "cell_type": "code",
   "execution_count": 16,
   "metadata": {},
   "outputs": [
    {
     "name": "stdout",
     "output_type": "stream",
     "text": [
      "== Primera Aproximacion CLR_model ==\n",
      "accuracy_score = 0.8687565771254501\n",
      "====================================\n",
      "precision  = 0.4470588235294118\n",
      "====================================\n",
      "recall = 0.022571064913025032\n",
      "====================================\n",
      "f1_score = 0.042972536348949916\n",
      "====================================\n",
      "roc_auc_score = 0.4880382752670486\n",
      "====================================\n",
      "classification_report\n",
      "              precision    recall  f1-score   support\n",
      "\n",
      "           0       0.87      1.00      0.93     78490\n",
      "           1       0.45      0.02      0.04     11785\n",
      "\n",
      "    accuracy                           0.87     90275\n",
      "   macro avg       0.66      0.51      0.49     90275\n",
      "weighted avg       0.82      0.87      0.81     90275\n",
      "\n"
     ]
    }
   ],
   "source": [
    "# Resultados obtenidos del modelo.\n",
    "print('== Primera Aproximacion CLR_model ==')\n",
    "print ('accuracy_score =', accuracy_score(y_test,clf_log_regressor.predict(X_test)))\n",
    "print('====================================')\n",
    "print('precision  =', precision_score(y_test,clf_log_regressor.predict(X_test)))\n",
    "print('====================================')\n",
    "print('recall =', recall_score(y_test,clf_log_regressor.predict(X_test)))\n",
    "print('====================================')\n",
    "print('f1_score =', f1_score(y_test,clf_log_regressor.predict(X_test)))\n",
    "print('====================================')\n",
    "print('roc_auc_score =', roc_auc_score(y_test,clf_log_regressor.predict_proba(X_test)[:, 1]))\n",
    "print('====================================')\n",
    "print('classification_report')\n",
    "print(classification_report(y_test, clf_log_regressor.predict(X_test)))"
   ]
  },
  {
   "cell_type": "code",
   "execution_count": 17,
   "metadata": {},
   "outputs": [
    {
     "name": "stdout",
     "output_type": "stream",
     "text": [
      "Sin entrenar: ROC AUC=0.500\n",
      "Regresión Logística: ROC AUC=0.488\n"
     ]
    },
    {
     "data": {
      "image/png": "[encoded data removed]",
      "text/plain": [
       "<Figure size 432x288 with 1 Axes>"
      ]
     },
     "metadata": {
      "needs_background": "light"
     },
     "output_type": "display_data"
    }
   ],
   "source": [
    "# Pintamos Curva Roc\n",
    "# Generamos un clasificador sin entrenar , que asignará 0 a todo\n",
    "sin_entrenar = [0 for _ in range(len(X_test))]\n",
    "# Calculamos el AUC\n",
    "ns_auc = roc_auc_score(y_test, sin_entrenar)\n",
    "lr_auc = roc_auc_score(y_test, clf_log_regressor.predict_proba(X_test)[:, 1])\n",
    "# Imprimimos en pantalla\n",
    "print('Sin entrenar: ROC AUC=%.3f' % (ns_auc))\n",
    "print('Regresión Logística: ROC AUC=%.3f' % (lr_auc))\n",
    "# Calculamos las curvas ROC\n",
    "ns_fpr, ns_tpr, _ = roc_curve(y_test, sin_entrenar)\n",
    "lr_fpr, lr_tpr, _ = roc_curve(y_test, clf_log_regressor.predict_proba(X_test)[:, 1])\n",
    "# Pintamos las curvas ROC\n",
    "pyplot.plot(ns_fpr, ns_tpr, linestyle='--', label='Sin entrenar')\n",
    "pyplot.plot(lr_fpr, lr_tpr, marker='.', label=' clf_log_regressor' , color = \"y\")\n",
    "# Etiquetas de los ejes\n",
    "pyplot.xlabel('Tasa de Falsos Positivos')\n",
    "pyplot.ylabel('Tasa de Verdaderos Positivos')\n",
    "pyplot.legend()\n",
    "pyplot.show()"
   ]
  },
  {
   "cell_type": "markdown",
   "metadata": {},
   "source": [
    "## MODELO"
   ]
  },
  {
   "cell_type": "code",
   "execution_count": 18,
   "metadata": {},
   "outputs": [],
   "source": [
    "# Leemos la base de datos. \n",
    "# 1ª Base de datos con datos preprocesados\n",
    "# 2ª Base de datos con datos preprocesados + reduccion de dimensionalidad PCA aplicada\n",
    "df_normalizado = pd.read_csv('/home/dsc/Master-Kschool/TFM/Financial-Product-Sales-Forecast-Model/Preprocessing/df_normalizado.csv')\n",
    "df_normalizado_pca = pd.read_csv('/home/dsc/Master-Kschool/TFM/Financial-Product-Sales-Forecast-Model/Preprocessing/df_normalizado_pca.csv')"
   ]
  },
  {
   "cell_type": "code",
   "execution_count": 19,
   "metadata": {},
   "outputs": [
    {
     "name": "stdout",
     "output_type": "stream",
     "text": [
      "Datos X = 8774052 (417812, 21)\n",
      "Datos y = 417812 (417812,)\n"
     ]
    }
   ],
   "source": [
    "# Inputs y Target Sin PCA\n",
    "X = df_normalizado.drop(['lp_seg_hogar'], axis = 1)\n",
    "y= df_normalizado['lp_seg_hogar']\n",
    "print('Datos X =', X.size, X.shape)\n",
    "print('Datos y =', y.size, y.shape)"
   ]
  },
  {
   "cell_type": "code",
   "execution_count": 20,
   "metadata": {},
   "outputs": [
    {
     "name": "stdout",
     "output_type": "stream",
     "text": [
      "Datos X = 6267180 (417812, 15)\n",
      "Datos y = 417812 (417812,)\n"
     ]
    }
   ],
   "source": [
    "# Inputs y Target Con PCA\n",
    "X_pca = df_normalizado_pca.drop(['lp_seg_hogar'], axis = 1)\n",
    "y_pca = df_normalizado_pca['lp_seg_hogar']\n",
    "print('Datos X =', X_pca.size, X_pca.shape)\n",
    "print('Datos y =', y_pca.size, y_pca.shape)"
   ]
  },
  {
   "cell_type": "markdown",
   "metadata": {},
   "source": [
    "## BALANCEO\n",
    "\n",
    "Hemos visto en el estudio del Target que esta muy desbalanceado. Utilizaremos 3 distintas formulas para remediar este desbalanceo. Depues de entrenar las tres opciones Weigth balanced & Smote arrojan mejores resultados. NearMiss obtiene muy bajo resultado\n",
    "\n",
    "- Penalización para compensar Weigth balanced\n",
    "- NearMiss\n",
    "- Smote\n",
    "\n",
    "__1ª Estrategia: Penalización para compensar Weigth balanced__"
   ]
  },
  {
   "cell_type": "code",
   "execution_count": 21,
   "metadata": {},
   "outputs": [],
   "source": [
    "# Solver elegido liblinear. 'newton-cg' no converge. \n",
    "clf_log_regressor = LogisticRegression(solver = 'liblinear', class_weight='balanced')\n",
    "clf_log_regressor_pca = LogisticRegression(solver = 'liblinear', class_weight='balanced')"
   ]
  },
  {
   "cell_type": "code",
   "execution_count": 22,
   "metadata": {},
   "outputs": [],
   "source": [
    "# Ajustamos nuestro set de entrenamiento y test Sin pca. (80-20)\n",
    "test_size = 0.2\n",
    "seed = 7\n",
    "X_train, X_test, y_train, y_test = train_test_split(X, y, test_size = test_size, random_state = seed)"
   ]
  },
  {
   "cell_type": "code",
   "execution_count": 23,
   "metadata": {},
   "outputs": [],
   "source": [
    "# Ajustamos nuestro set de entrenamiento y test Con pca. (80-20)\n",
    "test_size = 0.2\n",
    "seed = 7\n",
    "X_pca_train, X_pca_test, y_pca_train, y_pca_test = train_test_split(X_pca, y_pca, test_size = test_size, random_state = seed)"
   ]
  },
  {
   "cell_type": "code",
   "execution_count": 24,
   "metadata": {},
   "outputs": [
    {
     "data": {
      "text/plain": [
       "LogisticRegression(class_weight='balanced', solver='liblinear')"
      ]
     },
     "execution_count": 24,
     "metadata": {},
     "output_type": "execute_result"
    }
   ],
   "source": [
    "#  Entrenamos nuestro modelo Sin pca\n",
    "clf_log_regressor.fit(X_train,y_train)"
   ]
  },
  {
   "cell_type": "code",
   "execution_count": 25,
   "metadata": {},
   "outputs": [
    {
     "data": {
      "text/plain": [
       "LogisticRegression(class_weight='balanced', solver='liblinear')"
      ]
     },
     "execution_count": 25,
     "metadata": {},
     "output_type": "execute_result"
    }
   ],
   "source": [
    "# Entrenamos nuestro modelo Con pca\n",
    "clf_log_regressor_pca.fit(X_pca_train,y_pca_train)"
   ]
  },
  {
   "cell_type": "code",
   "execution_count": 26,
   "metadata": {},
   "outputs": [
    {
     "data": {
      "text/plain": [
       "array([1., 0., 0., ..., 0., 1., 0.])"
      ]
     },
     "execution_count": 26,
     "metadata": {},
     "output_type": "execute_result"
    }
   ],
   "source": [
    "# Hacemos las primeras predicciones Sin pca\n",
    "clf_log_regressor.predict(X_test)"
   ]
  },
  {
   "cell_type": "code",
   "execution_count": 27,
   "metadata": {},
   "outputs": [
    {
     "data": {
      "text/plain": [
       "array([1., 0., 0., ..., 0., 1., 0.])"
      ]
     },
     "execution_count": 27,
     "metadata": {},
     "output_type": "execute_result"
    }
   ],
   "source": [
    "# Hacemos las primeras predicciones Con pca\n",
    "clf_log_regressor_pca.predict(X_pca_test)"
   ]
  },
  {
   "cell_type": "code",
   "execution_count": 28,
   "metadata": {},
   "outputs": [
    {
     "data": {
      "text/plain": [
       "array([0.52887499, 0.13417673, 0.03837261, ..., 0.27000934, 0.78067885,\n",
       "       0.05125108])"
      ]
     },
     "execution_count": 28,
     "metadata": {},
     "output_type": "execute_result"
    }
   ],
   "source": [
    "# Sacamos probabilidades de la opcion 1 \"Tiene Seguro de Hogar\" Sin pca\n",
    "clf_log_regressor.predict_proba(X_test)[:, 1]"
   ]
  },
  {
   "cell_type": "code",
   "execution_count": 29,
   "metadata": {},
   "outputs": [
    {
     "data": {
      "text/plain": [
       "array([0.66074061, 0.12458009, 0.0535582 , ..., 0.35816357, 0.73997497,\n",
       "       0.08920069])"
      ]
     },
     "execution_count": 29,
     "metadata": {},
     "output_type": "execute_result"
    }
   ],
   "source": [
    "# Sacamos probabilidades de la opcion 1 \"Tiene Seguro de Hogar\" Con pca\n",
    "clf_log_regressor_pca.predict_proba(X_pca_test)[:, 1]"
   ]
  },
  {
   "cell_type": "markdown",
   "metadata": {},
   "source": [
    "__Confirmacion Primeros resultados__. Los resultados obtenidos en Train estan muy cercanos a los obtenidos en test. Nuestro modelo entrenado está generalizando bien y lo podemos dar por bueno por ahora a falta de conseguir mejores metricas. No hay overfiting.  Confirmamos que generaliza bien con Cross Validation sacando las medias de las distintas metricas."
   ]
  },
  {
   "cell_type": "code",
   "execution_count": 30,
   "metadata": {
    "scrolled": true
   },
   "outputs": [
    {
     "name": "stdout",
     "output_type": "stream",
     "text": [
      "===========RECALL TRAIN============\n",
      "recall = 0.8816518968001048\n",
      "===========RECALL TEST=============\n",
      "recall = 0.8872939925571505\n",
      "===========RECALL TRAIN pca =======\n",
      "recall = 0.8931767581961846\n",
      "===========RECALL TEST pca ========\n",
      "recall = 0.8970405812511075\n"
     ]
    }
   ],
   "source": [
    "# Primeros resultados. \n",
    "print('===========RECALL TRAIN============')\n",
    "print('recall =', recall_score(y_train,clf_log_regressor.predict(X_train)))\n",
    "print('===========RECALL TEST=============')\n",
    "print('recall =', recall_score(y_test,clf_log_regressor.predict(X_test)))\n",
    "print('===========RECALL TRAIN pca =======')\n",
    "print('recall =', recall_score(y_pca_train,clf_log_regressor_pca.predict(X_pca_train)))\n",
    "print('===========RECALL TEST pca ========')\n",
    "print('recall =', recall_score(y_pca_test,clf_log_regressor_pca.predict(X_pca_test)))"
   ]
  },
  {
   "cell_type": "markdown",
   "metadata": {},
   "source": [
    "## Tecnicas Validacion Cruzada.  Metrics: Cross validation\n",
    "Utilizamos Cross Validation para iterar con 'K_folds_veces' a lo largo del set de entrenamiento\n",
    "- K_Fold utilizado 5 veces.\n",
    "\n",
    "- Apartaremos 1/5 de muestras.\n",
    "- Entrenamos al modelo con el restante 4/5 de muestras.\n",
    "- Mediremos con distintas metricas el resultado obtenido sobre las muestras apartadas.\n",
    "- Esto quiere decir que hacemos 5 entrenamientos independientes.\n",
    "- Los resultados serán el promedio de las 5 accuracies anteriores."
   ]
  },
  {
   "cell_type": "code",
   "execution_count": 31,
   "metadata": {},
   "outputs": [],
   "source": [
    "kf = KFold(n_splits=5)"
   ]
  },
  {
   "cell_type": "code",
   "execution_count": 32,
   "metadata": {},
   "outputs": [
    {
     "name": "stdout",
     "output_type": "stream",
     "text": [
      "Cross Validation sin pca:  0.2900211928316806 0.8809675046094296 0.43604890770240123\n",
      "Cross Validation con pca:  0.2805903682705041 0.8918155870680009 0.4264801745994447\n"
     ]
    }
   ],
   "source": [
    "cross_val_score_precision = cross_val_score(clf_log_regressor,X,y,cv=kf,scoring=\"precision\").mean()\n",
    "cross_val_score_precision_pca = cross_val_score(clf_log_regressor_pca,X_pca,y_pca,cv=kf,scoring=\"precision\").mean()\n",
    "cross_val_score_recall = cross_val_score(clf_log_regressor,X,y,cv=kf,scoring=\"recall\").mean()\n",
    "cross_val_score_recall_pca = cross_val_score(clf_log_regressor_pca,X_pca,y_pca,cv=kf,scoring=\"recall\").mean()\n",
    "cross_val_score_f1 = cross_val_score(clf_log_regressor,X,y,cv=kf,scoring=\"f1\").mean()\n",
    "cross_val_score_f1_pca = cross_val_score(clf_log_regressor_pca,X_pca,y_pca,cv=kf,scoring=\"f1\").mean()\n",
    "print('Cross Validation sin pca: ', cross_val_score_precision , cross_val_score_recall, cross_val_score_f1)\n",
    "print('Cross Validation con pca: ', cross_val_score_precision_pca , cross_val_score_recall_pca, cross_val_score_f1_pca)"
   ]
  },
  {
   "cell_type": "markdown",
   "metadata": {},
   "source": [
    "### Confussion Matrix"
   ]
  },
  {
   "cell_type": "code",
   "execution_count": 33,
   "metadata": {
    "scrolled": false
   },
   "outputs": [
    {
     "name": "stdout",
     "output_type": "stream",
     "text": [
      "[[47617 24660]\n",
      " [ 1272 10014]]\n"
     ]
    },
    {
     "data": {
      "image/png": "[encoded data removed]",
      "text/plain": [
       "<Figure size 288x288 with 2 Axes>"
      ]
     },
     "metadata": {
      "needs_background": "light"
     },
     "output_type": "display_data"
    }
   ],
   "source": [
    "# Ploteamos la Confussion Matrix Sin pca\n",
    "matriz_confusion_clf_log_regressor = confusion_matrix(y_test,clf_log_regressor.predict(X_test))\n",
    "print(matriz_confusion_clf_log_regressor)\n",
    "pl.matshow(confusion_matrix(y_test,clf_log_regressor.predict(X_test)))\n",
    "pl.title('Matriz de Confusion sin pca')\n",
    "pl.colorbar()\n",
    "pl.show()"
   ]
  },
  {
   "cell_type": "code",
   "execution_count": 34,
   "metadata": {
    "scrolled": true
   },
   "outputs": [
    {
     "name": "stdout",
     "output_type": "stream",
     "text": [
      "[[46081 26196]\n",
      " [ 1162 10124]]\n"
     ]
    },
    {
     "data": {
      "image/png": "[encoded data removed]",
      "text/plain": [
       "<Figure size 288x288 with 2 Axes>"
      ]
     },
     "metadata": {
      "needs_background": "light"
     },
     "output_type": "display_data"
    }
   ],
   "source": [
    "# Ploteamos la Confussion Matrix Con pca\n",
    "matriz_confusion_clf_log_regressor_pca = confusion_matrix(y_pca_test,clf_log_regressor_pca.predict(X_pca_test))\n",
    "print(matriz_confusion_clf_log_regressor_pca)\n",
    "pl.matshow(confusion_matrix(y_pca_test,clf_log_regressor_pca.predict(X_pca_test)))\n",
    "pl.title('Matriz de Confusion con PCA')\n",
    "pl.colorbar()\n",
    "pl.show()"
   ]
  },
  {
   "cell_type": "markdown",
   "metadata": {},
   "source": [
    "### Resultados CLR Model"
   ]
  },
  {
   "cell_type": "code",
   "execution_count": 35,
   "metadata": {},
   "outputs": [
    {
     "name": "stdout",
     "output_type": "stream",
     "text": [
      "========== CLR_model ================\n",
      "accuracy_score_sin_pca =  0.689671265990929\n",
      "accuracy_score_con_pca =  0.672606297045343\n",
      "====================================\n",
      "precision_sin_pca  = 0.28880429139989616\n",
      "precision_con_pca  = 0.27874449339207047\n",
      "====================================\n",
      "recall_sin_pca  = 0.8872939925571505\n",
      "recall_con_pca  = 0.8970405812511075\n",
      "====================================\n",
      "f1_score_sin_pca  = 0.43577023498694517\n",
      "f1_score_con_pca  = 0.42532453892366506\n",
      "====================================\n",
      "roc_auc_score_sin_pca  = 0.8351577016750766\n",
      "roc_auc_score_con_pca  = 0.8193861341741608\n",
      "====================================\n",
      "classification_report_sin_pca \n",
      "              precision    recall  f1-score   support\n",
      "\n",
      "         0.0       0.97      0.66      0.79     72277\n",
      "         1.0       0.29      0.89      0.44     11286\n",
      "\n",
      "    accuracy                           0.69     83563\n",
      "   macro avg       0.63      0.77      0.61     83563\n",
      "weighted avg       0.88      0.69      0.74     83563\n",
      "\n",
      "classification_report_con_pca \n",
      "              precision    recall  f1-score   support\n",
      "\n",
      "         0.0       0.98      0.64      0.77     72277\n",
      "         1.0       0.28      0.90      0.43     11286\n",
      "\n",
      "    accuracy                           0.67     83563\n",
      "   macro avg       0.63      0.77      0.60     83563\n",
      "weighted avg       0.88      0.67      0.72     83563\n",
      "\n"
     ]
    }
   ],
   "source": [
    "print('========== CLR_model ================')\n",
    "print ('accuracy_score_sin_pca = ', accuracy_score(y_test,clf_log_regressor.predict(X_test)))\n",
    "print ('accuracy_score_con_pca = ', accuracy_score(y_pca_test,clf_log_regressor_pca.predict(X_pca_test)))\n",
    "print('====================================')\n",
    "print('precision_sin_pca  =', precision_score(y_test,clf_log_regressor.predict(X_test)))\n",
    "print('precision_con_pca  =', precision_score(y_pca_test,clf_log_regressor_pca.predict(X_pca_test)))\n",
    "print('====================================')\n",
    "print('recall_sin_pca  =', recall_score(y_test,clf_log_regressor.predict(X_test)))\n",
    "print('recall_con_pca  =', recall_score(y_pca_test,clf_log_regressor_pca.predict(X_pca_test)))\n",
    "print('====================================')\n",
    "print('f1_score_sin_pca  =', f1_score(y_test,clf_log_regressor.predict(X_test)))\n",
    "print('f1_score_con_pca  =', f1_score(y_pca_test,clf_log_regressor_pca.predict(X_pca_test)))\n",
    "print('====================================')\n",
    "print('roc_auc_score_sin_pca  =', roc_auc_score(y_test,clf_log_regressor.predict_proba(X_test)[:, 1]))\n",
    "print('roc_auc_score_con_pca  =', roc_auc_score(y_pca_test,clf_log_regressor_pca.predict_proba(X_pca_test)[:, 1]))\n",
    "print('====================================')\n",
    "print('classification_report_sin_pca ')\n",
    "print(classification_report(y_test, clf_log_regressor.predict(X_test)))\n",
    "print('classification_report_con_pca ')\n",
    "print(classification_report(y_pca_test, clf_log_regressor_pca.predict(X_pca_test)))"
   ]
  },
  {
   "cell_type": "markdown",
   "metadata": {},
   "source": [
    "## Curva Roc Balanceado con class weigth"
   ]
  },
  {
   "cell_type": "code",
   "execution_count": 36,
   "metadata": {
    "scrolled": true
   },
   "outputs": [
    {
     "name": "stdout",
     "output_type": "stream",
     "text": [
      "Sin entrenar: ROC AUC=0.500\n",
      "Regresión Logística: ROC AUC=0.835\n"
     ]
    },
    {
     "data": {
      "image/png": "[encoded data removed]",
      "text/plain": [
       "<Figure size 432x288 with 1 Axes>"
      ]
     },
     "metadata": {
      "needs_background": "light"
     },
     "output_type": "display_data"
    }
   ],
   "source": [
    "# Pintamos la Curva Roc SIN PCA que ha dado mejor resultado\n",
    "#Generamos un clasificador sin entrenar , que asignará 0 a todo\n",
    "sin_entrenar = [0 for _ in range(len(X_test))]\n",
    "# Calculamos el AUC\n",
    "ns_auc = roc_auc_score(y_test, sin_entrenar)\n",
    "lr_auc = roc_auc_score(y_test, clf_log_regressor.predict_proba(X_test)[:, 1])\n",
    "# Imprimimos en pantalla\n",
    "print('Sin entrenar: ROC AUC=%.3f' % (ns_auc))\n",
    "print('Regresión Logística: ROC AUC=%.3f' % (lr_auc))\n",
    "# Calculamos las curvas ROC\n",
    "ns_fpr, ns_tpr, _ = roc_curve(y_test, sin_entrenar)\n",
    "lr_fpr, lr_tpr, _ = roc_curve(y_test, clf_log_regressor.predict_proba(X_test)[:, 1])\n",
    "# Pintamos las curvas ROC\n",
    "pyplot.plot(ns_fpr, ns_tpr, linestyle='--', label='Sin entrenar')\n",
    "pyplot.plot(lr_fpr, lr_tpr, marker='.', label=' clf_log_regressor' , color = \"y\")\n",
    "# Etiquetas de los ejes\n",
    "pyplot.xlabel('Tasa de Falsos Positivos')\n",
    "pyplot.ylabel('Tasa de Verdaderos Positivos')\n",
    "pyplot.legend()\n",
    "pyplot.show()"
   ]
  },
  {
   "cell_type": "markdown",
   "metadata": {},
   "source": [
    "### 2ª Estrategia: Subsampling en la clase mayoritaria . ( Sin pca )\n",
    "    - Con NearMiss\n",
    "    \n",
    "https://www.geeksforgeeks.org/ml-handling-imbalanced-data-with-smote-and-near-miss-algorithm-in-python/"
   ]
  },
  {
   "cell_type": "code",
   "execution_count": 37,
   "metadata": {},
   "outputs": [],
   "source": [
    "# Instanciamos clasificador \n",
    "clf_log_regressor = LogisticRegression(solver = 'liblinear')"
   ]
  },
  {
   "cell_type": "code",
   "execution_count": 38,
   "metadata": {},
   "outputs": [
    {
     "data": {
      "text/plain": [
       "LogisticRegression(solver='liblinear')"
      ]
     },
     "execution_count": 38,
     "metadata": {},
     "output_type": "execute_result"
    }
   ],
   "source": [
    "# Entrenamos el modelo\n",
    "clf_log_regressor.fit(X,y)"
   ]
  },
  {
   "cell_type": "code",
   "execution_count": 39,
   "metadata": {},
   "outputs": [
    {
     "data": {
      "text/plain": [
       "array([0., 0., 0., ..., 0., 0., 0.])"
      ]
     },
     "execution_count": 39,
     "metadata": {},
     "output_type": "execute_result"
    }
   ],
   "source": [
    "# Sacmos las primeras predicciones\n",
    "clf_log_regressor.predict(X)"
   ]
  },
  {
   "cell_type": "code",
   "execution_count": 40,
   "metadata": {},
   "outputs": [],
   "source": [
    "# Balanceamos con NearMiss \"\n",
    "from imblearn.under_sampling import NearMiss\n",
    "nr = NearMiss() "
   ]
  },
  {
   "cell_type": "code",
   "execution_count": 41,
   "metadata": {},
   "outputs": [],
   "source": [
    "# Ajustamos nuestro set de entrenamiento y test Sin pca. (80-20)\n",
    "X_train_miss, y_train_miss = nr.fit_sample(X_train, y_train)  "
   ]
  },
  {
   "cell_type": "code",
   "execution_count": 42,
   "metadata": {},
   "outputs": [],
   "source": [
    "# Ajustamos nuestro set de entrenamiento y test Con pca. (80-20)\n",
    "X_train_miss_pca, y_train_miss_pca = nr.fit_sample(X_pca_train, y_pca_train)  "
   ]
  },
  {
   "cell_type": "code",
   "execution_count": 47,
   "metadata": {},
   "outputs": [
    {
     "name": "stdout",
     "output_type": "stream",
     "text": [
      "Distribucion antes de NearMiss_sin_pca : Counter({0.0: 288435, 1.0: 45814}) \n",
      "Distribucion antes de NearMiss_con_pca : Counter({0.0: 288435, 1.0: 45814}) \n",
      "====================================\n",
      "Distribucion despues de NearMiss_sin_pca : Counter({0.0: 45814, 1.0: 45814}) \n",
      "Distribucion despues de NearMiss_con_pca : Counter({0.0: 45814, 1.0: 45814}) \n"
     ]
    }
   ],
   "source": [
    "# Informacion de la distribucion de los datos antes y despues de balancear con Nearmiss\n",
    "from collections import Counter\n",
    "print (\"Distribucion antes de NearMiss_sin_pca : {} \".format(Counter(y_train)))\n",
    "print (\"Distribucion antes de NearMiss_con_pca : {} \".format(Counter(y_pca_train)))\n",
    "print('====================================')\n",
    "print (\"Distribucion despues de NearMiss_sin_pca : {} \".format(Counter(y_train_miss)))\n",
    "print (\"Distribucion despues de NearMiss_con_pca : {} \".format(Counter(y_train_miss_pca)))"
   ]
  },
  {
   "cell_type": "code",
   "execution_count": 48,
   "metadata": {},
   "outputs": [
    {
     "data": {
      "text/plain": [
       "LogisticRegression(solver='liblinear')"
      ]
     },
     "execution_count": 48,
     "metadata": {},
     "output_type": "execute_result"
    }
   ],
   "source": [
    "# Entrenamos nuestro modelo Sin pca\n",
    "clf_log_regressor.fit(X_train_miss, y_train_miss) "
   ]
  },
  {
   "cell_type": "code",
   "execution_count": 49,
   "metadata": {},
   "outputs": [
    {
     "data": {
      "text/plain": [
       "LogisticRegression(class_weight='balanced', solver='liblinear')"
      ]
     },
     "execution_count": 49,
     "metadata": {},
     "output_type": "execute_result"
    }
   ],
   "source": [
    "# Entrenamos nuestro modelo Con pca\n",
    "clf_log_regressor_pca.fit(X_train_miss_pca, y_train_miss_pca) "
   ]
  },
  {
   "cell_type": "code",
   "execution_count": 50,
   "metadata": {},
   "outputs": [
    {
     "data": {
      "text/plain": [
       "array([1., 0., 0., ..., 1., 1., 0.])"
      ]
     },
     "execution_count": 50,
     "metadata": {},
     "output_type": "execute_result"
    }
   ],
   "source": [
    "# Sacmos predicciones Sin pca\n",
    "clf_log_regressor.predict(X_test)"
   ]
  },
  {
   "cell_type": "code",
   "execution_count": 51,
   "metadata": {},
   "outputs": [
    {
     "data": {
      "text/plain": [
       "array([1., 0., 0., ..., 1., 1., 0.])"
      ]
     },
     "execution_count": 51,
     "metadata": {},
     "output_type": "execute_result"
    }
   ],
   "source": [
    "# Sacamos predicciones Con pca\n",
    "clf_log_regressor_pca.predict(X_pca_test)"
   ]
  },
  {
   "cell_type": "code",
   "execution_count": 52,
   "metadata": {
    "scrolled": true
   },
   "outputs": [
    {
     "data": {
      "text/plain": [
       "array([0.80810328, 0.09191923, 0.12204719, ..., 0.55433404, 0.86160216,\n",
       "       0.27501322])"
      ]
     },
     "execution_count": 52,
     "metadata": {},
     "output_type": "execute_result"
    }
   ],
   "source": [
    "# Sacamos probabilidades Sin pca\n",
    "clf_log_regressor.predict_proba(X_test)[:, 1]"
   ]
  },
  {
   "cell_type": "code",
   "execution_count": 53,
   "metadata": {},
   "outputs": [
    {
     "data": {
      "text/plain": [
       "array([0.71938676, 0.10155686, 0.12704378, ..., 0.73189927, 0.5906215 ,\n",
       "       0.22951338])"
      ]
     },
     "execution_count": 53,
     "metadata": {},
     "output_type": "execute_result"
    }
   ],
   "source": [
    "# Sacamos probabilidades Con pca\n",
    "clf_log_regressor_pca.predict_proba(X_pca_test)[:, 1]"
   ]
  },
  {
   "cell_type": "markdown",
   "metadata": {},
   "source": [
    "## Curva Roc Balanceado con Nearmiss"
   ]
  },
  {
   "cell_type": "code",
   "execution_count": 54,
   "metadata": {},
   "outputs": [
    {
     "name": "stdout",
     "output_type": "stream",
     "text": [
      "=== RESULTADOS CON NEARMISS ========\n",
      "accuracy_score_sin_pca =  0.5822912054378134\n",
      "accuracy_score_con_pca =  0.513492813805153\n",
      "====================================\n",
      "precision_sin_pca  = 0.18972176243398756\n",
      "precision_covalidationnn_pca  = 0.1617369269753513\n",
      "====================================\n",
      "recall_sin_pca  = 0.639819245082403\n",
      "recall_con_pca  = 0.6220981747297537\n",
      "====================================\n",
      "f1_score_sin_pca  = 0.292662167912943\n",
      "f1_score_con_pca  = 0.25672809711861927\n",
      "====================================\n",
      "roc_auc_score_sin_pca  = 0.6447382016433612\n",
      "roc_auc_score_con_pca  = 0.5706761451995614\n",
      "====================================\n",
      "classification_report_sin_pca \n",
      "              precision    recall  f1-score   support\n",
      "\n",
      "         0.0       0.91      0.57      0.70     72277\n",
      "         1.0       0.19      0.64      0.29     11286\n",
      "\n",
      "    accuracy                           0.58     83563\n",
      "   macro avg       0.55      0.61      0.50     83563\n",
      "weighted avg       0.81      0.58      0.65     83563\n",
      "\n",
      "classification_report_con_pca \n",
      "              precision    recall  f1-score   support\n",
      "\n",
      "         0.0       0.89      0.50      0.64     72277\n",
      "         1.0       0.16      0.62      0.26     11286\n",
      "\n",
      "    accuracy                           0.51     83563\n",
      "   macro avg       0.53      0.56      0.45     83563\n",
      "weighted avg       0.79      0.51      0.59     83563\n",
      "\n"
     ]
    }
   ],
   "source": [
    "print('=== RESULTADOS CON NEARMISS ========')\n",
    "print ('accuracy_score_sin_pca = ', accuracy_score(y_test,clf_log_regressor.predict(X_test)))\n",
    "print ('accuracy_score_con_pca = ', accuracy_score(y_pca_test,clf_log_regressor_pca.predict(X_pca_test)))\n",
    "print('====================================')\n",
    "print('precision_sin_pca  =', precision_score(y_test,clf_log_regressor.predict(X_test)))\n",
    "print('precision_covalidationnn_pca  =', precision_score(y_pca_test,clf_log_regressor_pca.predict(X_pca_test)))\n",
    "print('====================================')\n",
    "print('recall_sin_pca  =', recall_score(y_test,clf_log_regressor.predict(X_test)))\n",
    "print('recall_con_pca  =', recall_score(y_pca_test,clf_log_regressor_pca.predict(X_pca_test)))\n",
    "print('====================================')\n",
    "print('f1_score_sin_pca  =', f1_score(y_test,clf_log_regressor.predict(X_test)))\n",
    "print('f1_score_con_pca  =', f1_score(y_pca_test,clf_log_regressor_pca.predict(X_pca_test)))\n",
    "print('====================================')\n",
    "print('roc_auc_score_sin_pca  =', roc_auc_score(y_test,clf_log_regressor.predict_proba(X_test)[:, 1]))\n",
    "print('roc_auc_score_con_pca  =', roc_auc_score(y_pca_test,clf_log_regressor_pca.predict_proba(X_pca_test)[:, 1]))\n",
    "print('====================================')\n",
    "print('classification_report_sin_pca ')\n",
    "print(classification_report(y_test, clf_log_regressor.predict(X_test)))\n",
    "print('classification_report_con_pca ')\n",
    "print(classification_report(y_pca_test, clf_log_regressor_pca.predict(X_pca_test)))"
   ]
  },
  {
   "cell_type": "markdown",
   "metadata": {},
   "source": [
    "## Curva Roc Balanceado con Nearmiss"
   ]
  },
  {
   "cell_type": "code",
   "execution_count": 55,
   "metadata": {},
   "outputs": [
    {
     "name": "stdout",
     "output_type": "stream",
     "text": [
      "Sin entrenar: ROC AUC=0.500\n",
      "Regresión Logística: ROC AUC=0.645\n"
     ]
    },
    {
     "data": {
      "image/png": "[encoded data removed]",
      "text/plain": [
       "<Figure size 432x288 with 1 Axes>"
      ]
     },
     "metadata": {
      "needs_background": "light"
     },
     "output_type": "display_data"
    }
   ],
   "source": [
    "#Generamos un clasificador sin entrenar , que asignará 0 a todo\n",
    "sin_entrenar = [0 for _ in range(len(X_test))]\n",
    "# Calculamos el AUC\n",
    "ns_auc = roc_auc_score(y_test, sin_entrenar)\n",
    "lr_auc = roc_auc_score(y_test, clf_log_regressor.predict_proba(X_test)[:, 1])\n",
    "# Imprimimos en pantalla\n",
    "print('Sin entrenar: ROC AUC=%.3f' % (ns_auc))\n",
    "print('Regresión Logística: ROC AUC=%.3f' % (lr_auc))\n",
    "# Calculamos las curvas ROC\n",
    "ns_fpr, ns_tpr, _ = roc_curve(y_test, sin_entrenar)\n",
    "lr_fpr, lr_tpr, _ = roc_curve(y_test, clf_log_regressor.predict_proba(X_test)[:, 1])\n",
    "# Pintamos las curvas ROC\n",
    "pyplot.plot(ns_fpr, ns_tpr, linestyle='--', label='Sin entrenar')\n",
    "pyplot.plot(lr_fpr, lr_tpr, marker='.', label=' clf_log_regressor' , color = \"y\")\n",
    "# Etiquetas de los ejes\n",
    "pyplot.xlabel('Tasa de Falsos Positivos')\n",
    "pyplot.ylabel('Tasa de Verdaderos Positivos')\n",
    "pyplot.legend()\n",
    "pyplot.show()"
   ]
  },
  {
   "cell_type": "markdown",
   "metadata": {},
   "source": [
    "### 2ª Estrategia: Subsampling en la clase mayoritaria \n",
    "      - Con Smote"
   ]
  },
  {
   "cell_type": "code",
   "execution_count": 57,
   "metadata": {},
   "outputs": [],
   "source": [
    "# Balanceamos con Smote \n",
    "sm = SMOTE(random_state = 2) "
   ]
  },
  {
   "cell_type": "code",
   "execution_count": 58,
   "metadata": {},
   "outputs": [],
   "source": [
    "#clf_log_regressor = LogisticRegression(solver = 'liblinear')"
   ]
  },
  {
   "cell_type": "code",
   "execution_count": null,
   "metadata": {},
   "outputs": [],
   "source": [
    "#clf_log_regressor.fit(X,y)"
   ]
  },
  {
   "cell_type": "code",
   "execution_count": null,
   "metadata": {},
   "outputs": [],
   "source": [
    "#clf_log_regressor.predict(X)"
   ]
  },
  {
   "cell_type": "code",
   "execution_count": 59,
   "metadata": {},
   "outputs": [],
   "source": [
    "# Entrenamos nuestro modelo Sin pca\n",
    "X_train_smote, y_train_smote = sm.fit_sample(X_train, y_train) "
   ]
  },
  {
   "cell_type": "code",
   "execution_count": 60,
   "metadata": {},
   "outputs": [],
   "source": [
    "# Entrenamos nuestro modelo Con pca\n",
    "X_train_smote_pca, y_train_smote_pca = nr.fit_sample(X_pca_train, y_pca_train)  "
   ]
  },
  {
   "cell_type": "code",
   "execution_count": 61,
   "metadata": {},
   "outputs": [
    {
     "name": "stdout",
     "output_type": "stream",
     "text": [
      "Distribucion antes de Smote_sin_pca : Counter({0.0: 288435, 1.0: 45814}) \n",
      "Distribucion antes de Smote_con_pca : Counter({0.0: 288435, 1.0: 45814}) \n",
      "====================================\n",
      "Distribucion despues de Smote_sin_pca : Counter({0.0: 288435, 1.0: 288435}) \n",
      "Distribucion despues de NSmote_con_pca : Counter({0.0: 45814, 1.0: 45814}) \n"
     ]
    }
   ],
   "source": [
    "# Informacion de la distribucion de los datos antes y despues de balancear con Smote\n",
    "print (\"Distribucion antes de Smote_sin_pca : {} \".format(Counter(y_train)))\n",
    "print (\"Distribucion antes de Smote_con_pca : {} \".format(Counter(y_pca_train)))\n",
    "print('====================================')\n",
    "print (\"Distribucion despues de Smote_sin_pca : {} \".format(Counter(y_train_smote)))\n",
    "print (\"Distribucion despues de NSmote_con_pca : {} \".format(Counter(y_train_smote_pca)))"
   ]
  },
  {
   "cell_type": "code",
   "execution_count": 62,
   "metadata": {},
   "outputs": [
    {
     "data": {
      "text/plain": [
       "LogisticRegression(solver='liblinear')"
      ]
     },
     "execution_count": 62,
     "metadata": {},
     "output_type": "execute_result"
    }
   ],
   "source": [
    "# Entrenamos nuestro modelo Sin pca\n",
    "clf_log_regressor.fit(X_train_smote, y_train_smote) "
   ]
  },
  {
   "cell_type": "code",
   "execution_count": 63,
   "metadata": {},
   "outputs": [
    {
     "data": {
      "text/plain": [
       "LogisticRegression(class_weight='balanced', solver='liblinear')"
      ]
     },
     "execution_count": 63,
     "metadata": {},
     "output_type": "execute_result"
    }
   ],
   "source": [
    "# Entrenamos nuestro modelo Con pca\n",
    "clf_log_regressor_pca.fit(X_train_smote_pca, y_train_smote_pca) "
   ]
  },
  {
   "cell_type": "code",
   "execution_count": 64,
   "metadata": {},
   "outputs": [
    {
     "data": {
      "text/plain": [
       "array([1., 0., 0., ..., 0., 1., 0.])"
      ]
     },
     "execution_count": 64,
     "metadata": {},
     "output_type": "execute_result"
    }
   ],
   "source": [
    "# Sacamos predicciones Sin pca\n",
    "clf_log_regressor.predict(X_test)"
   ]
  },
  {
   "cell_type": "code",
   "execution_count": 65,
   "metadata": {},
   "outputs": [
    {
     "data": {
      "text/plain": [
       "array([1., 0., 0., ..., 1., 1., 0.])"
      ]
     },
     "execution_count": 65,
     "metadata": {},
     "output_type": "execute_result"
    }
   ],
   "source": [
    "# Sacamos predicciones Con pca\n",
    "clf_log_regressor_pca.predict(X_pca_test)"
   ]
  },
  {
   "cell_type": "code",
   "execution_count": 66,
   "metadata": {},
   "outputs": [
    {
     "data": {
      "text/plain": [
       "array([0.51798905, 0.13288562, 0.03682501, ..., 0.26725688, 0.78997374,\n",
       "       0.04880798])"
      ]
     },
     "execution_count": 66,
     "metadata": {},
     "output_type": "execute_result"
    }
   ],
   "source": [
    "# Sacamos probabiliades sin pca\n",
    "clf_log_regressor.predict_proba(X_test)[:, 1]"
   ]
  },
  {
   "cell_type": "code",
   "execution_count": 67,
   "metadata": {},
   "outputs": [
    {
     "data": {
      "text/plain": [
       "array([0.71938676, 0.10155686, 0.12704378, ..., 0.73189927, 0.5906215 ,\n",
       "       0.22951338])"
      ]
     },
     "execution_count": 67,
     "metadata": {},
     "output_type": "execute_result"
    }
   ],
   "source": [
    "# Sacamos probabiliades Con pca\n",
    "clf_log_regressor_pca.predict_proba(X_pca_test)[:, 1]"
   ]
  },
  {
   "cell_type": "code",
   "execution_count": 68,
   "metadata": {},
   "outputs": [
    {
     "name": "stdout",
     "output_type": "stream",
     "text": [
      "=== RESULTADOS CON SMOTE ========\n",
      "accuracy_score_sin_pca =  0.6910235391261683\n",
      "accuracy_score_con_pca =  0.513492813805153\n",
      "====================================\n",
      "precision_sin_pca  = 0.2895293265749457\n",
      "precision_covalidationnn_pca  = 0.1617369269753513\n",
      "====================================\n",
      "recall_sin_pca  = 0.885699096225412\n",
      "recall_con_pca  = 0.6220981747297537\n",
      "====================================\n",
      "f1_score_sin_pca  = 0.4364017375739451\n",
      "f1_score_con_pca  = 0.25672809711861927\n",
      "====================================\n",
      "roc_auc_score_sin_pca  = 0.8354001518186019\n",
      "roc_auc_score_con_pca  = 0.5706761451995614\n",
      "====================================\n",
      "classification_report_sin_pca \n",
      "              precision    recall  f1-score   support\n",
      "\n",
      "         0.0       0.97      0.66      0.79     72277\n",
      "         1.0       0.29      0.89      0.44     11286\n",
      "\n",
      "    accuracy                           0.69     83563\n",
      "   macro avg       0.63      0.77      0.61     83563\n",
      "weighted avg       0.88      0.69      0.74     83563\n",
      "\n",
      "classification_report_con_pca \n",
      "              precision    recall  f1-score   support\n",
      "\n",
      "         0.0       0.89      0.50      0.64     72277\n",
      "         1.0       0.16      0.62      0.26     11286\n",
      "\n",
      "    accuracy                           0.51     83563\n",
      "   macro avg       0.53      0.56      0.45     83563\n",
      "weighted avg       0.79      0.51      0.59     83563\n",
      "\n"
     ]
    }
   ],
   "source": [
    "print('=== RESULTADOS CON SMOTE ========')\n",
    "print ('accuracy_score_sin_pca = ', accuracy_score(y_test,clf_log_regressor.predict(X_test)))\n",
    "print ('accuracy_score_con_pca = ', accuracy_score(y_pca_test,clf_log_regressor_pca.predict(X_pca_test)))\n",
    "print('====================================')\n",
    "print('precision_sin_pca  =', precision_score(y_test,clf_log_regressor.predict(X_test)))\n",
    "print('precision_covalidationnn_pca  =', precision_score(y_pca_test,clf_log_regressor_pca.predict(X_pca_test)))\n",
    "print('====================================')\n",
    "print('recall_sin_pca  =', recall_score(y_test,clf_log_regressor.predict(X_test)))\n",
    "print('recall_con_pca  =', recall_score(y_pca_test,clf_log_regressor_pca.predict(X_pca_test)))\n",
    "print('====================================')\n",
    "print('f1_score_sin_pca  =', f1_score(y_test,clf_log_regressor.predict(X_test)))\n",
    "print('f1_score_con_pca  =', f1_score(y_pca_test,clf_log_regressor_pca.predict(X_pca_test)))\n",
    "print('====================================')\n",
    "print('roc_auc_score_sin_pca  =', roc_auc_score(y_test,clf_log_regressor.predict_proba(X_test)[:, 1]))\n",
    "print('roc_auc_score_con_pca  =', roc_auc_score(y_pca_test,clf_log_regressor_pca.predict_proba(X_pca_test)[:, 1]))\n",
    "print('====================================')\n",
    "print('classification_report_sin_pca ')\n",
    "print(classification_report(y_test, clf_log_regressor.predict(X_test)))\n",
    "print('classification_report_con_pca ')\n",
    "print(classification_report(y_pca_test, clf_log_regressor_pca.predict(X_pca_test)))\n"
   ]
  },
  {
   "cell_type": "markdown",
   "metadata": {},
   "source": [
    "## Curva Roc Balanceado con Smote"
   ]
  },
  {
   "cell_type": "code",
   "execution_count": 69,
   "metadata": {},
   "outputs": [
    {
     "name": "stdout",
     "output_type": "stream",
     "text": [
      "Sin entrenar: ROC AUC=0.500\n",
      "Regresión Logística: ROC AUC=0.835\n"
     ]
    },
    {
     "data": {
      "image/png": "[encoded data removed]",
      "text/plain": [
       "<Figure size 432x288 with 1 Axes>"
      ]
     },
     "metadata": {
      "needs_background": "light"
     },
     "output_type": "display_data"
    }
   ],
   "source": [
    "#Generamos un clasificador sin entrenar , que asignará 0 a todo\n",
    "sin_entrenar = [0 for _ in range(len(X_test))]\n",
    "# Calculamos el AUC\n",
    "ns_auc = roc_auc_score(y_test, sin_entrenar)\n",
    "lr_auc = roc_auc_score(y_test, clf_log_regressor.predict_proba(X_test)[:, 1])\n",
    "# Imprimimos en pantalla\n",
    "print('Sin entrenar: ROC AUC=%.3f' % (ns_auc))\n",
    "print('Regresión Logística: ROC AUC=%.3f' % (lr_auc))\n",
    "# Calculamos las curvas ROC\n",
    "ns_fpr, ns_tpr, _ = roc_curve(y_test, sin_entrenar)\n",
    "lr_fpr, lr_tpr, _ = roc_curve(y_test, clf_log_regressor.predict_proba(X_test)[:, 1])\n",
    "# Pintamos las curvas ROC\n",
    "pyplot.plot(ns_fpr, ns_tpr, linestyle='--', label='Sin entrenar')\n",
    "pyplot.plot(lr_fpr, lr_tpr, marker='.', label=' clf_log_regressor' , color = \"y\")\n",
    "# Etiquetas de los ejes\n",
    "pyplot.xlabel('Tasa de Falsos Positivos')\n",
    "pyplot.ylabel('Tasa de Verdaderos Positivos')\n",
    "pyplot.legend()\n",
    "pyplot.show()"
   ]
  },
  {
   "cell_type": "markdown",
   "metadata": {},
   "source": [
    " ## *** Conclusiones Modelo ***"
   ]
  },
  {
   "cell_type": "markdown",
   "metadata": {},
   "source": [
    "- __Las principales metricas elegidas__ en el Modelo de clasificacion Logistic Regression  para decidir si estamos ante un buen resultado es __Metrica Recall y AUC - Curva Roc.__ \n",
    "- Iniciamos nuestro modelo con una __primera aproximacion__ obteniendo unos resultados __muy mejorables. Recall 0,02.__ La base de datos utilizada es la original sin haber realizado ningun preprocesado. \n",
    "- Continuamos evolucionando nuestro modelo. Utilizamos dos bases de datos para comparar resultados.  Bases de datos ya preprocesadas en nuestro bloque de preprocessing. DF_normalizado donde hemos adaptado, aplicado Label Encoder, Standar Scaler y  Normalizado variables. (df_normalizado).  La segunda Base de datos utilizada es df_normalizado a la que hemos aplicado PCA reduciendo dimensionalidad.\n",
    "- __Confirmamos que nuestro set de entramiento ha generalizado bien al no haber mucha diferencia entre los resultados obtenidos de Test y Train. Podemos descartar overfiting__ lo hemos comprobado mediante Cross Validation obteniendo medias de distintas metricas.\n",
    "\n",
    "- Dado que nuestro __Target esta muy desbalanceado__ a razon de 87% (No) y 13% (Si), en el entremaniemto del modelo se han utilizado _3 formas distintas de tratamiento del balanceo__. Class Weigth , Nearmiss y Smote. Despues de entrenar las tres posibilidades __nos quedamos finalmente con Class Weigth.__\n",
    "- Tambien desechamos el modelo estudiado con PCA al haber obenitdo metricas casi identicas que sin haber utiliado PCA. Considero que el modelo se explica mejor con las variables originales.\n",
    "- __Las metricas finales son :  Recall 0.887 - Auc 0.835__\n",
    "- Por ultimo, confirmar todo lo anteriormente expuesto con el estudio de la matriz de confusion. Obtenemos unos resultados de Falsos negativos 1272  y verdaderos negativos 10014.  En nuestro modelo prima la deteccion de clientes que no van a contratar el seguro. Detectando aquellos clientes que no son susceptibles de tener el seguro de hogar podemos trabajar con aquellos que si pueden tenerlo. Todo ello con un objetivo de optimizacion del tiempo y eficiencia comercial.\n",
    "- Se echan en falta, entre otras muchas, variables y datos como la renta de los clientes, hijos, tipo de trabajo,   nomina real en euros obtenida, lugar de residencia...etc."
   ]
  }
 ],
 "metadata": {
  "kernelspec": {
   "display_name": "Python 3",
   "language": "python",
   "name": "python3"
  },
  "language_info": {
   "codemirror_mode": {
    "name": "ipython",
    "version": 3
   },
   "file_extension": ".py",
   "mimetype": "text/x-python",
   "name": "python",
   "nbconvert_exporter": "python",
   "pygments_lexer": "ipython3",
   "version": "3.7.7"
  }
 },
 "nbformat": 4,
 "nbformat_minor": 2
}
