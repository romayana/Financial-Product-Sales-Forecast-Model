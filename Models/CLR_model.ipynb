{
 "cells": [
  {
   "cell_type": "markdown",
   "metadata": {},
   "source": [
    "# LOGISTIC REGRESSION CLASSIFICATION MODEL"
   ]
  },
  {
   "cell_type": "markdown",
   "metadata": {},
   "source": [
    "We present and import all the libraries that we are going to need throughout the model."
   ]
  },
  {
   "cell_type": "code",
   "execution_count": 1,
   "metadata": {},
   "outputs": [],
   "source": [
    "import pandas as pd\n",
    "import numpy as np\n",
    "\n",
    "# Metric Libraries\n",
    "from sklearn.metrics import f1_score, recall_score, precision_score, accuracy_score\n",
    "from sklearn.metrics import roc_auc_score, roc_curve\n",
    "from sklearn.metrics import confusion_matrix\n",
    "from sklearn.metrics import classification_report\n",
    "from sklearn.metrics import auc\n",
    "from sklearn.model_selection import KFold\n",
    "from sklearn.model_selection import cross_val_score\n",
    "\n",
    "# Visualization Libraries\n",
    "import matplotlib.pyplot as plt\n",
    "import pylab as pl\n",
    "import seaborn as sns \n",
    "from pylab import rcParams \n",
    "from matplotlib import pyplot\n",
    "\n",
    "# Model Libraries\n",
    "from sklearn.linear_model import LogisticRegression\n",
    "from sklearn.model_selection import train_test_split \n",
    "from collections import Counter\n",
    "from imblearn.over_sampling import SMOTE \n",
    "from imblearn.under_sampling import NearMiss \n",
    "\n"
   ]
  },
  {
   "cell_type": "markdown",
   "metadata": {},
   "source": [
    "We read and present our Database. We show the first 5 rows, the type and name of the Columns / variables that compose it. The variables that refer to business units are not going to be used in the model so we transform them to Object for a better understanding and segmentation of the variables themselves."
   ]
  },
  {
   "cell_type": "code",
   "execution_count": 2,
   "metadata": {},
   "outputs": [],
   "source": [
    "df = pd.read_csv('C:/Users/manue/TFM/Financial-Product-Sales-Forecast-Model/Cleanning & Merging/df_cleanned.csv')"
   ]
  },
  {
   "cell_type": "code",
   "execution_count": 3,
   "metadata": {},
   "outputs": [],
   "source": [
    "# We transform business unit variables into object since we do not want to use them.\n",
    "df[[\"cliente\", \"gestor\",\n",
    "    'codigo_cartera', 'dz', 'oficina']] = df[[\"cliente\", \"gestor\",\n",
    "                                              'codigo_cartera', 'dz', 'oficina']].astype(object);"
   ]
  },
  {
   "cell_type": "code",
   "execution_count": 4,
   "metadata": {
    "scrolled": false
   },
   "outputs": [
    {
     "data": {
      "text/html": [
       "<div>\n",
       "<style scoped>\n",
       "    .dataframe tbody tr th:only-of-type {\n",
       "        vertical-align: middle;\n",
       "    }\n",
       "\n",
       "    .dataframe tbody tr th {\n",
       "        vertical-align: top;\n",
       "    }\n",
       "\n",
       "    .dataframe thead th {\n",
       "        text-align: right;\n",
       "    }\n",
       "</style>\n",
       "<table border=\"1\" class=\"dataframe\">\n",
       "  <thead>\n",
       "    <tr style=\"text-align: right;\">\n",
       "      <th></th>\n",
       "      <th>cliente</th>\n",
       "      <th>saldo_captacion</th>\n",
       "      <th>esta_carterizado</th>\n",
       "      <th>cliente_bbp</th>\n",
       "      <th>tipo_gestor</th>\n",
       "      <th>gestor</th>\n",
       "      <th>cartera_patron</th>\n",
       "      <th>codigo_cartera</th>\n",
       "      <th>digital_3_meses</th>\n",
       "      <th>camino_digital</th>\n",
       "      <th>...</th>\n",
       "      <th>edad</th>\n",
       "      <th>seg_valor</th>\n",
       "      <th>seg_recorrido</th>\n",
       "      <th>dz</th>\n",
       "      <th>oficina</th>\n",
       "      <th>lp_seg_vida</th>\n",
       "      <th>lp_seg_acc</th>\n",
       "      <th>lp_seg_salud</th>\n",
       "      <th>lp_seg_hogar</th>\n",
       "      <th>lp_seg_auto</th>\n",
       "    </tr>\n",
       "  </thead>\n",
       "  <tbody>\n",
       "    <tr>\n",
       "      <th>0</th>\n",
       "      <td>1</td>\n",
       "      <td>1328106.49</td>\n",
       "      <td>SI</td>\n",
       "      <td>NO</td>\n",
       "      <td>ASESOR FINANCIERO</td>\n",
       "      <td>18287</td>\n",
       "      <td>ASESORAMIENTO FINANCIERO</td>\n",
       "      <td>14881</td>\n",
       "      <td>SI</td>\n",
       "      <td>COMPRADOR</td>\n",
       "      <td>...</td>\n",
       "      <td>69.0</td>\n",
       "      <td>ALTO</td>\n",
       "      <td>BAJO RECORRIDO</td>\n",
       "      <td>2</td>\n",
       "      <td>210</td>\n",
       "      <td>0</td>\n",
       "      <td>0</td>\n",
       "      <td>0</td>\n",
       "      <td>1</td>\n",
       "      <td>0</td>\n",
       "    </tr>\n",
       "    <tr>\n",
       "      <th>1</th>\n",
       "      <td>2</td>\n",
       "      <td>1142234.34</td>\n",
       "      <td>SI</td>\n",
       "      <td>NO</td>\n",
       "      <td>ASESOR FINANCIERO</td>\n",
       "      <td>18287</td>\n",
       "      <td>ASESORAMIENTO FINANCIERO</td>\n",
       "      <td>14881</td>\n",
       "      <td>SI</td>\n",
       "      <td>COMPRADOR</td>\n",
       "      <td>...</td>\n",
       "      <td>81.0</td>\n",
       "      <td>ALTO</td>\n",
       "      <td>ALTO RECORRIDO</td>\n",
       "      <td>2</td>\n",
       "      <td>210</td>\n",
       "      <td>0</td>\n",
       "      <td>0</td>\n",
       "      <td>0</td>\n",
       "      <td>0</td>\n",
       "      <td>0</td>\n",
       "    </tr>\n",
       "    <tr>\n",
       "      <th>2</th>\n",
       "      <td>3</td>\n",
       "      <td>1142234.34</td>\n",
       "      <td>SI</td>\n",
       "      <td>NO</td>\n",
       "      <td>ASESOR FINANCIERO</td>\n",
       "      <td>18287</td>\n",
       "      <td>TUTELA</td>\n",
       "      <td>28332</td>\n",
       "      <td>NO</td>\n",
       "      <td>SIN USO</td>\n",
       "      <td>...</td>\n",
       "      <td>75.0</td>\n",
       "      <td>ALTO</td>\n",
       "      <td>BAJO RECORRIDO</td>\n",
       "      <td>2</td>\n",
       "      <td>210</td>\n",
       "      <td>0</td>\n",
       "      <td>0</td>\n",
       "      <td>0</td>\n",
       "      <td>0</td>\n",
       "      <td>0</td>\n",
       "    </tr>\n",
       "    <tr>\n",
       "      <th>3</th>\n",
       "      <td>4</td>\n",
       "      <td>1340503.88</td>\n",
       "      <td>SI</td>\n",
       "      <td>NO</td>\n",
       "      <td>ASESOR FINANCIERO</td>\n",
       "      <td>41475</td>\n",
       "      <td>ASESORAMIENTO FINANCIERO</td>\n",
       "      <td>14204</td>\n",
       "      <td>NO</td>\n",
       "      <td>SIN USO</td>\n",
       "      <td>...</td>\n",
       "      <td>94.0</td>\n",
       "      <td>ALTO</td>\n",
       "      <td>BAJO RECORRIDO</td>\n",
       "      <td>2</td>\n",
       "      <td>210</td>\n",
       "      <td>0</td>\n",
       "      <td>0</td>\n",
       "      <td>0</td>\n",
       "      <td>0</td>\n",
       "      <td>0</td>\n",
       "    </tr>\n",
       "    <tr>\n",
       "      <th>4</th>\n",
       "      <td>5</td>\n",
       "      <td>1758517.70</td>\n",
       "      <td>SI</td>\n",
       "      <td>NO</td>\n",
       "      <td>ASESOR FINANCIERO</td>\n",
       "      <td>39000</td>\n",
       "      <td>ASESORAMIENTO FINANCIERO</td>\n",
       "      <td>14219</td>\n",
       "      <td>SI</td>\n",
       "      <td>COMPRADOR</td>\n",
       "      <td>...</td>\n",
       "      <td>64.0</td>\n",
       "      <td>ALTO</td>\n",
       "      <td>BAJO RECORRIDO</td>\n",
       "      <td>2</td>\n",
       "      <td>210</td>\n",
       "      <td>0</td>\n",
       "      <td>0</td>\n",
       "      <td>0</td>\n",
       "      <td>0</td>\n",
       "      <td>0</td>\n",
       "    </tr>\n",
       "  </tbody>\n",
       "</table>\n",
       "<p>5 rows × 30 columns</p>\n",
       "</div>"
      ],
      "text/plain": [
       "  cliente  saldo_captacion esta_carterizado cliente_bbp        tipo_gestor  \\\n",
       "0       1       1328106.49               SI          NO  ASESOR FINANCIERO   \n",
       "1       2       1142234.34               SI          NO  ASESOR FINANCIERO   \n",
       "2       3       1142234.34               SI          NO  ASESOR FINANCIERO   \n",
       "3       4       1340503.88               SI          NO  ASESOR FINANCIERO   \n",
       "4       5       1758517.70               SI          NO  ASESOR FINANCIERO   \n",
       "\n",
       "  gestor            cartera_patron codigo_cartera digital_3_meses  \\\n",
       "0  18287  ASESORAMIENTO FINANCIERO          14881              SI   \n",
       "1  18287  ASESORAMIENTO FINANCIERO          14881              SI   \n",
       "2  18287                    TUTELA          28332              NO   \n",
       "3  41475  ASESORAMIENTO FINANCIERO          14204              NO   \n",
       "4  39000  ASESORAMIENTO FINANCIERO          14219              SI   \n",
       "\n",
       "  camino_digital  ...  edad  seg_valor   seg_recorrido  dz  oficina  \\\n",
       "0      COMPRADOR  ...  69.0       ALTO  BAJO RECORRIDO   2      210   \n",
       "1      COMPRADOR  ...  81.0       ALTO  ALTO RECORRIDO   2      210   \n",
       "2        SIN USO  ...  75.0       ALTO  BAJO RECORRIDO   2      210   \n",
       "3        SIN USO  ...  94.0       ALTO  BAJO RECORRIDO   2      210   \n",
       "4      COMPRADOR  ...  64.0       ALTO  BAJO RECORRIDO   2      210   \n",
       "\n",
       "   lp_seg_vida  lp_seg_acc  lp_seg_salud lp_seg_hogar lp_seg_auto  \n",
       "0            0           0             0            1           0  \n",
       "1            0           0             0            0           0  \n",
       "2            0           0             0            0           0  \n",
       "3            0           0             0            0           0  \n",
       "4            0           0             0            0           0  \n",
       "\n",
       "[5 rows x 30 columns]"
      ]
     },
     "execution_count": 4,
     "metadata": {},
     "output_type": "execute_result"
    }
   ],
   "source": [
    "df.head(5)"
   ]
  },
  {
   "cell_type": "code",
   "execution_count": 5,
   "metadata": {
    "scrolled": false
   },
   "outputs": [
    {
     "data": {
      "text/plain": [
       "Index(['cliente', 'saldo_captacion', 'esta_carterizado', 'cliente_bbp',\n",
       "       'tipo_gestor', 'gestor', 'cartera_patron', 'codigo_cartera',\n",
       "       'digital_3_meses', 'camino_digital', 'saldo_financiacion', 'saldo_ffii',\n",
       "       'saldo_plp', 'lp_dom_ingresos', 'lp_tjta_cto', 'lp_tjt_rev', 'lp_rbos',\n",
       "       'lp_of_int', 'marca_bp', 'marca_ccte', 'edad', 'seg_valor',\n",
       "       'seg_recorrido', 'dz', 'oficina', 'lp_seg_vida', 'lp_seg_acc',\n",
       "       'lp_seg_salud', 'lp_seg_hogar', 'lp_seg_auto'],\n",
       "      dtype='object')"
      ]
     },
     "execution_count": 5,
     "metadata": {},
     "output_type": "execute_result"
    }
   ],
   "source": [
    "df.columns"
   ]
  },
  {
   "cell_type": "markdown",
   "metadata": {},
   "source": [
    "## First aproach to the model"
   ]
  },
  {
   "cell_type": "code",
   "execution_count": 6,
   "metadata": {},
   "outputs": [],
   "source": [
    "df = df.select_dtypes('number')"
   ]
  },
  {
   "cell_type": "code",
   "execution_count": 7,
   "metadata": {},
   "outputs": [
    {
     "name": "stdout",
     "output_type": "stream",
     "text": [
      "Datos X = 6319236 (451374, 14)\n",
      "Datos y = 451374 (451374,)\n"
     ]
    }
   ],
   "source": [
    "# Inputs y Target \n",
    "X = df.drop(['lp_seg_hogar'], axis = 1)\n",
    "y= df['lp_seg_hogar']\n",
    "print('Datos X =', X.size, X.shape)\n",
    "print('Datos y =', y.size, y.shape)"
   ]
  },
  {
   "cell_type": "code",
   "execution_count": 8,
   "metadata": {},
   "outputs": [],
   "source": [
    "# Instantiate the classifier\n",
    "clf_log_regressor_first_aproach = LogisticRegression()"
   ]
  },
  {
   "cell_type": "code",
   "execution_count": 9,
   "metadata": {},
   "outputs": [
    {
     "data": {
      "text/plain": [
       "LogisticRegression()"
      ]
     },
     "execution_count": 9,
     "metadata": {},
     "output_type": "execute_result"
    }
   ],
   "source": [
    "# We train the model\n",
    "clf_log_regressor_first_aproach.fit(X,y)"
   ]
  },
  {
   "cell_type": "code",
   "execution_count": 10,
   "metadata": {},
   "outputs": [
    {
     "data": {
      "text/plain": [
       "array([1, 1, 1, ..., 0, 0, 0], dtype=int64)"
      ]
     },
     "execution_count": 10,
     "metadata": {},
     "output_type": "execute_result"
    }
   ],
   "source": [
    "# We draw the first predictions\n",
    "clf_log_regressor_first_aproach.predict(X)"
   ]
  },
  {
   "cell_type": "code",
   "execution_count": 11,
   "metadata": {},
   "outputs": [],
   "source": [
    "# We divide our DF into Training Set 80% and Test Set 20%.  \n",
    "test_size = 0.20\n",
    "seed = 7\n",
    "X_train, X_test, y_train, y_test = train_test_split(X, y, test_size = test_size, random_state = seed)"
   ]
  },
  {
   "cell_type": "code",
   "execution_count": 12,
   "metadata": {},
   "outputs": [
    {
     "data": {
      "text/plain": [
       "LogisticRegression()"
      ]
     },
     "execution_count": 12,
     "metadata": {},
     "output_type": "execute_result"
    }
   ],
   "source": [
    "# We train the model\n",
    "clf_log_regressor_first_aproach.fit(X_train,y_train)"
   ]
  },
  {
   "cell_type": "code",
   "execution_count": 13,
   "metadata": {},
   "outputs": [
    {
     "data": {
      "text/plain": [
       "array([0, 0, 0, ..., 0, 0, 0], dtype=int64)"
      ]
     },
     "execution_count": 13,
     "metadata": {},
     "output_type": "execute_result"
    }
   ],
   "source": [
    "# We draw the first predictions\n",
    "clf_log_regressor_first_aproach.predict(X_test)"
   ]
  },
  {
   "cell_type": "code",
   "execution_count": 14,
   "metadata": {},
   "outputs": [
    {
     "data": {
      "text/plain": [
       "array([0.31004564, 0.13072842, 0.17100719, ..., 0.07256822, 0.13290052,\n",
       "       0.03860107])"
      ]
     },
     "execution_count": 14,
     "metadata": {},
     "output_type": "execute_result"
    }
   ],
   "source": [
    "# Get probabilities on 1 \"Have Home Insurance\".\n",
    "clf_log_regressor_first_aproach.predict_proba(X_test)[:, 1]"
   ]
  },
  {
   "cell_type": "code",
   "execution_count": 15,
   "metadata": {},
   "outputs": [
    {
     "name": "stdout",
     "output_type": "stream",
     "text": [
      "== First Aproximation CLR_model ==\n",
      "------------------------------------\n",
      "accuracy_score = 0.8687565771254501\n",
      "------------------------------------\n",
      "precision  = 0.4470588235294118\n",
      "------------------------------------\n",
      "recall = 0.022571064913025032\n",
      "------------------------------------\n",
      "f1_score = 0.042972536348949916\n",
      "------------------------------------\n",
      "roc_auc_score = 0.4880382752670486\n"
     ]
    }
   ],
   "source": [
    "# Results obtained from the model.\n",
    "\n",
    "accuracy_score_first_aproach = accuracy_score(y_test,clf_log_regressor_first_aproach.predict(X_test))\n",
    "precision_first_aproach  = precision_score(y_test,clf_log_regressor_first_aproach.predict(X_test))\n",
    "recall_first_aproach = recall_score(y_test,clf_log_regressor_first_aproach.predict(X_test))\n",
    "f1_score_first_aproach = f1_score(y_test,clf_log_regressor_first_aproach.predict(X_test))\n",
    "roc_auc_score_first_aproach = roc_auc_score(y_test,clf_log_regressor_first_aproach.predict_proba(X_test)[:, 1])\n",
    "\n",
    "print('== First Aproximation CLR_model ==')\n",
    "print('------------------------------------')\n",
    "print ('accuracy_score =', accuracy_score_first_aproach)\n",
    "print('------------------------------------')\n",
    "print('precision  =',precision_first_aproach)\n",
    "print('------------------------------------')\n",
    "print('recall =', recall_first_aproach)\n",
    "print('------------------------------------')\n",
    "print('f1_score =', f1_score_first_aproach)\n",
    "print('------------------------------------')\n",
    "print('roc_auc_score =', roc_auc_score_first_aproach)"
   ]
  },
  {
   "cell_type": "code",
   "execution_count": 16,
   "metadata": {},
   "outputs": [
    {
     "name": "stdout",
     "output_type": "stream",
     "text": [
      "Without training: ROC AUC=0.500\n",
      "Logistic Regression: ROC AUC=0.488\n"
     ]
    },
    {
     "data": {
      "image/png": "[encoded data removed]",
      "text/plain": [
       "<Figure size 432x288 with 1 Axes>"
      ]
     },
     "metadata": {
      "needs_background": "light"
     },
     "output_type": "display_data"
    }
   ],
   "source": [
    "# We paint Roc Curve\n",
    "# We generate an untrained classifier, which will assign 0 to everything\n",
    "no_train = [0 for _ in range(len(X_test))]\n",
    "# We calculate the AUC\n",
    "ns_auc = roc_auc_score(y_test, no_train)\n",
    "lr_auc = roc_auc_score(y_test, clf_log_regressor_first_aproach.predict_proba(X_test)[:, 1])\n",
    "# Print\n",
    "print('Without training: ROC AUC=%.3f' % (ns_auc))\n",
    "print('Logistic Regression: ROC AUC=%.3f' % (lr_auc))\n",
    "# We calculate the ROC curves\n",
    "ns_fpr, ns_tpr, _ = roc_curve(y_test, no_train)\n",
    "lr_fpr, lr_tpr, _ = roc_curve(y_test, clf_log_regressor_first_aproach.predict_proba(X_test)[:, 1])\n",
    "# We paint the ROC curves\n",
    "pyplot.plot(ns_fpr, ns_tpr, linestyle='--', label='Without training')\n",
    "pyplot.plot(lr_fpr, lr_tpr, marker='.', label=' clf_log_regressor' , color = \"y\")\n",
    "# Axes labels\n",
    "pyplot.title('Roc Curve First Aproach')\n",
    "pyplot.xlabel('False Positive Rate')\n",
    "pyplot.ylabel('True Positive Rate')\n",
    "pyplot.legend()\n",
    "plt.savefig('C:/Users/manue/TFM/Financial-Product-Sales-Forecast-Model/Pictures/CLR Model - Roc Curve First Aproach.png', dpi=75,bbox_inches='tight')\n",
    "plt.show()\n",
    "pyplot.show()"
   ]
  },
  {
   "cell_type": "markdown",
   "metadata": {},
   "source": [
    "## Building the Model"
   ]
  },
  {
   "cell_type": "code",
   "execution_count": 17,
   "metadata": {},
   "outputs": [],
   "source": [
    "# Read Data Frame \n",
    "df_normalized = pd.read_csv('C:/Users/manue/TFM/Financial-Product-Sales-Forecast-Model/Preprocessing/df_normalized.csv')"
   ]
  },
  {
   "cell_type": "code",
   "execution_count": 18,
   "metadata": {},
   "outputs": [
    {
     "name": "stdout",
     "output_type": "stream",
     "text": [
      "Datos X = 6684992 (417812, 16)\n",
      "Datos y = 417812 (417812,)\n"
     ]
    }
   ],
   "source": [
    "# Inputs & Target \n",
    "X = df_normalized.drop(['lp_seg_hogar'], axis = 1)\n",
    "y= df_normalized['lp_seg_hogar']\n",
    "print('Datos X =', X.size, X.shape)\n",
    "print('Datos y =', y.size, y.shape)"
   ]
  },
  {
   "cell_type": "markdown",
   "metadata": {},
   "source": [
    "## Balance\n",
    "\n",
    "We have seen in EDA that Target it is very unbalanced. We will use 3 different formulas to fix this umbalance. After training the three options Weigth balanced & Smote give the best results. NearMiss gets very low results\n",
    "\n",
    "- Penalty to compensate __Weigth balanced__\n",
    "- NearMiss\n",
    "- Smote\n",
    "\n",
    "### 1st strategy: Penalty to compensate for Weigth balanced"
   ]
  },
  {
   "cell_type": "code",
   "execution_count": 19,
   "metadata": {},
   "outputs": [],
   "source": [
    "# Chosen Solver liblinear. 'newton-cg' does not converge. \n",
    "clf_log_regressor_wb = LogisticRegression(solver = 'liblinear', class_weight='balanced')"
   ]
  },
  {
   "cell_type": "code",
   "execution_count": 20,
   "metadata": {},
   "outputs": [],
   "source": [
    "# We adjust our training and test set. (80-20)\n",
    "test_size = 0.2\n",
    "seed = 7\n",
    "X_train, X_test, y_train, y_test = train_test_split(X, y, test_size = test_size, random_state = seed)"
   ]
  },
  {
   "cell_type": "code",
   "execution_count": 21,
   "metadata": {},
   "outputs": [
    {
     "data": {
      "text/plain": [
       "LogisticRegression(class_weight='balanced', solver='liblinear')"
      ]
     },
     "execution_count": 21,
     "metadata": {},
     "output_type": "execute_result"
    }
   ],
   "source": [
    "# We train our model\n",
    "clf_log_regressor_wb.fit(X_train,y_train)"
   ]
  },
  {
   "cell_type": "code",
   "execution_count": 22,
   "metadata": {},
   "outputs": [
    {
     "data": {
      "text/plain": [
       "array([1., 0., 0., ..., 0., 1., 0.])"
      ]
     },
     "execution_count": 22,
     "metadata": {},
     "output_type": "execute_result"
    }
   ],
   "source": [
    "# First predictions \n",
    "clf_log_regressor_wb.predict(X_test)"
   ]
  },
  {
   "cell_type": "code",
   "execution_count": 23,
   "metadata": {},
   "outputs": [
    {
     "data": {
      "text/plain": [
       "array([0.51437495, 0.14824863, 0.03242294, ..., 0.19294869, 0.82027084,\n",
       "       0.03561958])"
      ]
     },
     "execution_count": 23,
     "metadata": {},
     "output_type": "execute_result"
    }
   ],
   "source": [
    "# Probabiliteis for option 1 \"Has Home Insurance\" \n",
    "clf_log_regressor_wb.predict_proba(X_test)[:, 1]"
   ]
  },
  {
   "cell_type": "markdown",
   "metadata": {},
   "source": [
    "__First results__. The results obtained in Train are very close to those obtained in Test. Our trained model is generalizing well and we can consider it as good for now, but we still need to get better metrics. There is no overfitting.  We confirm that it generalizes well with Cross Validation by taking the averages of the different metrics."
   ]
  },
  {
   "cell_type": "code",
   "execution_count": 24,
   "metadata": {
    "scrolled": true
   },
   "outputs": [
    {
     "name": "stdout",
     "output_type": "stream",
     "text": [
      "===========RECALL TRAIN============\n",
      "recall = 0.8798620509014712\n",
      "===========RECALL TEST=============\n",
      "recall = 0.8873825979089137\n"
     ]
    }
   ],
   "source": [
    "# Look out for oversampling. First results with the chosen metric \"Recall\" to see if our model generalizes well.\n",
    "print('===========RECALL TRAIN============')\n",
    "print('recall =', recall_score(y_train,clf_log_regressor_wb.predict(X_train)))\n",
    "print('===========RECALL TEST=============')\n",
    "print('recall =', recall_score(y_test,clf_log_regressor_wb.predict(X_test)))\n"
   ]
  },
  {
   "cell_type": "markdown",
   "metadata": {},
   "source": [
    "## Cross validation techniques.  Metrics: Cross validation\n",
    "We use Cross Validation to iterate with 'K_folds_times' throughout the training set.\n",
    "- K_Fold used 5 times.\n",
    "\n",
    "- We will set aside 1/5 samples.\n",
    "- We train the model with the remaining 4/5 samples.\n",
    "- We will measure with different metrics the result obtained on the set aside samples.\n",
    "- This means that we do 5 independent trainings.\n",
    "- The results will be the average of the 5 previous metrics."
   ]
  },
  {
   "cell_type": "code",
   "execution_count": 25,
   "metadata": {},
   "outputs": [],
   "source": [
    "kf = KFold(n_splits=5)"
   ]
  },
  {
   "cell_type": "code",
   "execution_count": 26,
   "metadata": {},
   "outputs": [
    {
     "name": "stdout",
     "output_type": "stream",
     "text": [
      "Cross Validation:  0.28251207153830904 0.8797172879719719 0.42870319618643915\n"
     ]
    }
   ],
   "source": [
    "cross_val_score_precision = cross_val_score(clf_log_regressor_wb,X,y,cv=kf,scoring=\"precision\").mean()\n",
    "cross_val_score_recall = cross_val_score(clf_log_regressor_wb,X,y,cv=kf,scoring=\"recall\").mean()\n",
    "cross_val_score_f1 = cross_val_score(clf_log_regressor_wb,X,y,cv=5,scoring=\"f1\").mean()\n",
    "print('Cross Validation: ', cross_val_score_precision , cross_val_score_recall, cross_val_score_f1)"
   ]
  },
  {
   "cell_type": "markdown",
   "metadata": {},
   "source": [
    "### Confussion Matrix"
   ]
  },
  {
   "cell_type": "code",
   "execution_count": 27,
   "metadata": {},
   "outputs": [
    {
     "data": {
      "image/png": "[encoded data removed]",
      "text/plain": [
       "<Figure size 288x504 with 1 Axes>"
      ]
     },
     "metadata": {
      "needs_background": "light"
     },
     "output_type": "display_data"
    }
   ],
   "source": [
    "# Plot Confussion matrix \n",
    "confusion_matrix_clf_log_regressor_wb = confusion_matrix(y_test,clf_log_regressor_wb.predict(X_test))\n",
    "fig, ax = plt.subplots(figsize=(4, 7))\n",
    "ax.matshow(confusion_matrix_clf_log_regressor_wb, cmap=plt.cm.YlOrRd)\n",
    "for i in range(confusion_matrix_clf_log_regressor_wb.shape[0]):\n",
    "    for j in range(confusion_matrix_clf_log_regressor_wb.shape[1]):\n",
    "        ax.text(x=j, y=i, s=confusion_matrix_clf_log_regressor_wb[i, j], va='center', ha='center')\n",
    "\n",
    "plt.title('Confusion_matrix_clf_log_regressor_weight balance')\n",
    "plt.xlabel('Predicted label')\n",
    "plt.ylabel('True label')\n",
    "plt.tight_layout()\n",
    "plt.savefig('C:/Users/manue/TFM/Financial-Product-Sales-Forecast-Model/Pictures/CLR Model - Confusion_matrix_clf_log_regressor_weight balance.png', dpi=75,bbox_inches='tight')\n",
    "plt.show()\n"
   ]
  },
  {
   "cell_type": "markdown",
   "metadata": {},
   "source": [
    "### CLR Model Weigth balanced Results"
   ]
  },
  {
   "cell_type": "code",
   "execution_count": 28,
   "metadata": {},
   "outputs": [
    {
     "name": "stdout",
     "output_type": "stream",
     "text": [
      "==== CLR_Weigth balanced RESULTS ====\n",
      "------------------------------------\n",
      "accuracy_score = 0.6793796297404353\n",
      "------------------------------------\n",
      "precision  = 0.28182687978388116\n",
      "------------------------------------\n",
      "recall = 0.8873825979089137\n",
      "------------------------------------\n",
      "f1_score = 0.427790354961343\n",
      "------------------------------------\n",
      "roc_auc_score = 0.8282334472601741\n"
     ]
    }
   ],
   "source": [
    "# Results obtained from the model.\n",
    "\n",
    "accuracy_score_weigth_balance = accuracy_score(y_test,clf_log_regressor_wb.predict(X_test))\n",
    "precision_weigth_balance  = precision_score(y_test,clf_log_regressor_wb.predict(X_test))\n",
    "recall_weigth_balance = recall_score(y_test,clf_log_regressor_wb.predict(X_test))\n",
    "f1_score_weigth_balance = f1_score(y_test,clf_log_regressor_wb.predict(X_test))\n",
    "roc_auc_score_weigth_balance = roc_auc_score(y_test,clf_log_regressor_wb.predict_proba(X_test)[:, 1])\n",
    "\n",
    "print('==== CLR_Weigth balanced RESULTS ====')\n",
    "print('------------------------------------')\n",
    "print ('accuracy_score =', accuracy_score_weigth_balance)\n",
    "print('------------------------------------')\n",
    "print('precision  =',precision_weigth_balance)\n",
    "print('------------------------------------')\n",
    "print('recall =', recall_weigth_balance)\n",
    "print('------------------------------------')\n",
    "print('f1_score =', f1_score_weigth_balance)\n",
    "print('------------------------------------')\n",
    "print('roc_auc_score =', roc_auc_score_weigth_balance)"
   ]
  },
  {
   "cell_type": "markdown",
   "metadata": {},
   "source": [
    "## Roc Cuve balanced with class weigth"
   ]
  },
  {
   "cell_type": "code",
   "execution_count": 29,
   "metadata": {
    "scrolled": true
   },
   "outputs": [
    {
     "name": "stdout",
     "output_type": "stream",
     "text": [
      "Without training: ROC AUC=0.500\n",
      "Logistic Regression: ROC AUC=0.828\n"
     ]
    },
    {
     "data": {
      "image/png": "[encoded data removed]",
      "text/plain": [
       "<Figure size 432x288 with 1 Axes>"
      ]
     },
     "metadata": {
      "needs_background": "light"
     },
     "output_type": "display_data"
    }
   ],
   "source": [
    "# We paint Roc Curve\n",
    "# We generate an untrained classifier, which will assign 0 to everything\n",
    "no_train = [0 for _ in range(len(X_test))]\n",
    "# We calculate the AUC\n",
    "ns_auc = roc_auc_score(y_test, no_train)\n",
    "lr_auc = roc_auc_score(y_test, clf_log_regressor_wb.predict_proba(X_test)[:, 1])\n",
    "# Print\n",
    "print('Without training: ROC AUC=%.3f' % (ns_auc))\n",
    "print('Logistic Regression: ROC AUC=%.3f' % (lr_auc))\n",
    "# We calculate the ROC curves\n",
    "ns_fpr, ns_tpr, _ = roc_curve(y_test, no_train)\n",
    "lr_fpr, lr_tpr, _ = roc_curve(y_test, clf_log_regressor_wb.predict_proba(X_test)[:, 1])\n",
    "# We paint the ROC curves\n",
    "pyplot.plot(ns_fpr, ns_tpr, linestyle='--', label='Without training')\n",
    "pyplot.plot(lr_fpr, lr_tpr, marker='.', label=' clf_log_regressor' , color = \"y\")\n",
    "# Axes labels\n",
    "pyplot.title('Roc Cuve balanced with weigth balance')\n",
    "pyplot.xlabel('False Positive Rate')\n",
    "pyplot.ylabel('True Positive Rate')\n",
    "pyplot.legend()\n",
    "plt.savefig('C:/Users/manue/TFM/Financial-Product-Sales-Forecast-Model/Pictures/CLR Model - Roc Cuve Balanced with Weigth Balance.png', dpi=75,bbox_inches='tight')\n",
    "pyplot.show()"
   ]
  },
  {
   "cell_type": "markdown",
   "metadata": {},
   "source": [
    "### 2nd Strategy: Subsampling in the majority class.  With __NearMiss__\n"
   ]
  },
  {
   "cell_type": "code",
   "execution_count": 30,
   "metadata": {},
   "outputs": [],
   "source": [
    "# Instantiate classifier \n",
    "clf_log_regressor_nm = LogisticRegression(solver = 'liblinear')"
   ]
  },
  {
   "cell_type": "code",
   "execution_count": 31,
   "metadata": {},
   "outputs": [
    {
     "data": {
      "text/plain": [
       "LogisticRegression(solver='liblinear')"
      ]
     },
     "execution_count": 31,
     "metadata": {},
     "output_type": "execute_result"
    }
   ],
   "source": [
    "# Train de Model\n",
    "clf_log_regressor_nm.fit(X,y)"
   ]
  },
  {
   "cell_type": "code",
   "execution_count": 32,
   "metadata": {},
   "outputs": [
    {
     "data": {
      "text/plain": [
       "array([0., 0., 0., ..., 0., 0., 0.])"
      ]
     },
     "execution_count": 32,
     "metadata": {},
     "output_type": "execute_result"
    }
   ],
   "source": [
    "# First Predictions\n",
    "clf_log_regressor_nm.predict(X)"
   ]
  },
  {
   "cell_type": "code",
   "execution_count": 33,
   "metadata": {},
   "outputs": [],
   "source": [
    "# Balancing with NearMiss \"\n",
    "from imblearn.under_sampling import NearMiss\n",
    "nr = NearMiss() "
   ]
  },
  {
   "cell_type": "code",
   "execution_count": 34,
   "metadata": {},
   "outputs": [],
   "source": [
    "# We adjust our training and test set Without pca. (80-20)\n",
    "X_train_miss, y_train_miss = nr.fit_sample(X_train, y_train)  "
   ]
  },
  {
   "cell_type": "code",
   "execution_count": 35,
   "metadata": {},
   "outputs": [
    {
     "name": "stdout",
     "output_type": "stream",
     "text": [
      "Distribution before NearMiss: Counter({0.0: 288435, 1.0: 45814}) \n",
      "====================================\n",
      "Distribution after NearMiss: : Counter({0.0: 45814, 1.0: 45814}) \n"
     ]
    }
   ],
   "source": [
    "# Information on the distribution of data before and after Nearmiss balancing\n",
    "from collections import Counter\n",
    "print (\"Distribution before NearMiss: {} \".format(Counter(y_train)))\n",
    "print('====================================')\n",
    "print (\"Distribution after NearMiss: : {} \".format(Counter(y_train_miss)))\n"
   ]
  },
  {
   "cell_type": "code",
   "execution_count": 36,
   "metadata": {},
   "outputs": [
    {
     "data": {
      "text/plain": [
       "LogisticRegression(solver='liblinear')"
      ]
     },
     "execution_count": 36,
     "metadata": {},
     "output_type": "execute_result"
    }
   ],
   "source": [
    "# We train our model \n",
    "clf_log_regressor_nm.fit(X_train_miss, y_train_miss) "
   ]
  },
  {
   "cell_type": "code",
   "execution_count": 37,
   "metadata": {},
   "outputs": [
    {
     "data": {
      "text/plain": [
       "array([1., 0., 0., ..., 1., 1., 0.])"
      ]
     },
     "execution_count": 37,
     "metadata": {},
     "output_type": "execute_result"
    }
   ],
   "source": [
    "# predictions \n",
    "clf_log_regressor_nm.predict(X_test)"
   ]
  },
  {
   "cell_type": "code",
   "execution_count": 38,
   "metadata": {
    "scrolled": true
   },
   "outputs": [
    {
     "data": {
      "text/plain": [
       "array([0.95399776, 0.08959986, 0.22343631, ..., 0.62982046, 0.94622198,\n",
       "       0.27750429])"
      ]
     },
     "execution_count": 38,
     "metadata": {},
     "output_type": "execute_result"
    }
   ],
   "source": [
    "# Probabilities\n",
    "clf_log_regressor_nm.predict_proba(X_test)[:, 1]"
   ]
  },
  {
   "cell_type": "markdown",
   "metadata": {},
   "source": [
    "##  CLR Model Nearmiss Results"
   ]
  },
  {
   "cell_type": "code",
   "execution_count": 39,
   "metadata": {},
   "outputs": [
    {
     "name": "stdout",
     "output_type": "stream",
     "text": [
      "==== CLR Nearmiss RESULTS ====\n",
      "------------------------------------\n",
      "accuracy_score = 0.6228115314194081\n",
      "------------------------------------\n",
      "precision  = 0.21620332706819648\n",
      "------------------------------------\n",
      "recall = 0.6828814460393408\n",
      "------------------------------------\n",
      "f1_score = 0.3284256280229263\n",
      "------------------------------------\n",
      "roc_auc_score = 0.7183664949438875\n"
     ]
    }
   ],
   "source": [
    "# Results obtained from the model.\n",
    "\n",
    "accuracy_score_nearmiss = accuracy_score(y_test,clf_log_regressor_nm.predict(X_test))\n",
    "precision_nearmiss  = precision_score(y_test,clf_log_regressor_nm.predict(X_test))\n",
    "recall_nearmiss = recall_score(y_test,clf_log_regressor_nm.predict(X_test))\n",
    "f1_score_nearmiss = f1_score(y_test,clf_log_regressor_nm.predict(X_test))\n",
    "roc_auc_score_nearmiss = roc_auc_score(y_test,clf_log_regressor_nm.predict_proba(X_test)[:, 1])\n",
    "\n",
    "print('==== CLR Nearmiss RESULTS ====')\n",
    "print('------------------------------------')\n",
    "print ('accuracy_score =', accuracy_score_nearmiss)\n",
    "print('------------------------------------')\n",
    "print('precision  =',precision_nearmiss)\n",
    "print('------------------------------------')\n",
    "print('recall =', recall_nearmiss)\n",
    "print('------------------------------------')\n",
    "print('f1_score =', f1_score_nearmiss)\n",
    "print('------------------------------------')\n",
    "print('roc_auc_score =', roc_auc_score_nearmiss)"
   ]
  },
  {
   "cell_type": "markdown",
   "metadata": {},
   "source": [
    "## Roc Cuve balanced with  Nearmiss"
   ]
  },
  {
   "cell_type": "code",
   "execution_count": 40,
   "metadata": {},
   "outputs": [
    {
     "name": "stdout",
     "output_type": "stream",
     "text": [
      "Without training: ROC AUC=0.500\n",
      "Logistic Regression: ROC AUC=0.718\n"
     ]
    },
    {
     "data": {
      "image/png": "[encoded data removed]",
      "text/plain": [
       "<Figure size 432x288 with 1 Axes>"
      ]
     },
     "metadata": {
      "needs_background": "light"
     },
     "output_type": "display_data"
    }
   ],
   "source": [
    "# We paint Roc Curve\n",
    "# We generate an untrained classifier, which will assign 0 to everything\n",
    "no_train = [0 for _ in range(len(X_test))]\n",
    "# We calculate the AUC\n",
    "ns_auc = roc_auc_score(y_test, no_train)\n",
    "lr_auc = roc_auc_score(y_test, clf_log_regressor_nm.predict_proba(X_test)[:, 1])\n",
    "# Print\n",
    "print('Without training: ROC AUC=%.3f' % (ns_auc))\n",
    "print('Logistic Regression: ROC AUC=%.3f' % (lr_auc))\n",
    "# We calculate the ROC curves\n",
    "ns_fpr, ns_tpr, _ = roc_curve(y_test, no_train)\n",
    "lr_fpr, lr_tpr, _ = roc_curve(y_test, clf_log_regressor_nm.predict_proba(X_test)[:, 1])\n",
    "# We paint the ROC curves\n",
    "pyplot.plot(ns_fpr, ns_tpr, linestyle='--', label='Without training')\n",
    "pyplot.plot(lr_fpr, lr_tpr, marker='.', label=' clf_log_regressor' , color = \"y\")\n",
    "# Axes labels\n",
    "pyplot.title('Roc Cuve balanced with Nearmiss')\n",
    "pyplot.xlabel('False Positive Rate')\n",
    "pyplot.ylabel('True Positive Rate')\n",
    "pyplot.legend()\n",
    "plt.savefig('C:/Users/manue/TFM/Financial-Product-Sales-Forecast-Model/Pictures/CLR Model - Roc Cuve Balanced with Nearmiss.png', dpi=75,bbox_inches='tight')\n",
    "pyplot.show()"
   ]
  },
  {
   "cell_type": "markdown",
   "metadata": {},
   "source": [
    "### 3rd Strategy: Subsampling in the majority class  with __Smote__"
   ]
  },
  {
   "cell_type": "code",
   "execution_count": 41,
   "metadata": {},
   "outputs": [],
   "source": [
    "# Balancing with Smote\n",
    "sm = SMOTE(random_state = 2) "
   ]
  },
  {
   "cell_type": "code",
   "execution_count": 42,
   "metadata": {},
   "outputs": [],
   "source": [
    "clf_log_regressor_smote = LogisticRegression(solver = 'liblinear')"
   ]
  },
  {
   "cell_type": "code",
   "execution_count": 43,
   "metadata": {},
   "outputs": [
    {
     "data": {
      "text/plain": [
       "LogisticRegression(solver='liblinear')"
      ]
     },
     "execution_count": 43,
     "metadata": {},
     "output_type": "execute_result"
    }
   ],
   "source": [
    "clf_log_regressor_smote.fit(X,y)"
   ]
  },
  {
   "cell_type": "code",
   "execution_count": 44,
   "metadata": {},
   "outputs": [
    {
     "data": {
      "text/plain": [
       "array([0., 0., 0., ..., 0., 0., 0.])"
      ]
     },
     "execution_count": 44,
     "metadata": {},
     "output_type": "execute_result"
    }
   ],
   "source": [
    "clf_log_regressor_smote.predict(X)"
   ]
  },
  {
   "cell_type": "code",
   "execution_count": 45,
   "metadata": {},
   "outputs": [],
   "source": [
    "# Train the model\n",
    "X_train_smote, y_train_smote = sm.fit_sample(X_train, y_train) "
   ]
  },
  {
   "cell_type": "code",
   "execution_count": 46,
   "metadata": {},
   "outputs": [
    {
     "name": "stdout",
     "output_type": "stream",
     "text": [
      "Distribution before Smote : Counter({0.0: 288435, 1.0: 45814}) \n",
      "====================================\n",
      "Distribution after Smote : Counter({0.0: 288435, 1.0: 288435}) \n"
     ]
    }
   ],
   "source": [
    "# Information on the distribution of data before and after Smote balancing\n",
    "print (\"Distribution before Smote : {} \".format(Counter(y_train)))\n",
    "print('====================================')\n",
    "print (\"Distribution after Smote : {} \".format(Counter(y_train_smote)))"
   ]
  },
  {
   "cell_type": "code",
   "execution_count": 47,
   "metadata": {},
   "outputs": [
    {
     "data": {
      "text/plain": [
       "LogisticRegression(solver='liblinear')"
      ]
     },
     "execution_count": 47,
     "metadata": {},
     "output_type": "execute_result"
    }
   ],
   "source": [
    "# Train the model\n",
    "clf_log_regressor_smote.fit(X_train_smote, y_train_smote) "
   ]
  },
  {
   "cell_type": "code",
   "execution_count": 48,
   "metadata": {},
   "outputs": [
    {
     "data": {
      "text/plain": [
       "array([1., 0., 0., ..., 0., 1., 0.])"
      ]
     },
     "execution_count": 48,
     "metadata": {},
     "output_type": "execute_result"
    }
   ],
   "source": [
    "# Predictions\n",
    "clf_log_regressor_smote.predict(X_test)"
   ]
  },
  {
   "cell_type": "code",
   "execution_count": 49,
   "metadata": {},
   "outputs": [
    {
     "data": {
      "text/plain": [
       "array([0.50517982, 0.14673553, 0.03125346, ..., 0.18933869, 0.82615103,\n",
       "       0.03354777])"
      ]
     },
     "execution_count": 49,
     "metadata": {},
     "output_type": "execute_result"
    }
   ],
   "source": [
    "# Probabilities\n",
    "clf_log_regressor_smote.predict_proba(X_test)[:, 1]"
   ]
  },
  {
   "cell_type": "markdown",
   "metadata": {},
   "source": [
    "##  CLR Model Smote Results"
   ]
  },
  {
   "cell_type": "code",
   "execution_count": 50,
   "metadata": {},
   "outputs": [
    {
     "name": "stdout",
     "output_type": "stream",
     "text": [
      "==== CLR Smote RESULTS ====\n",
      "------------------------------------\n",
      "accuracy_score = 0.6800976508741907\n",
      "------------------------------------\n",
      "precision  = 0.2822421474087859\n",
      "------------------------------------\n",
      "recall = 0.8869395711500975\n",
      "------------------------------------\n",
      "f1_score = 0.42821697467488024\n",
      "------------------------------------\n",
      "roc_auc_score = 0.8283825158928472\n"
     ]
    }
   ],
   "source": [
    "# Results obtained from the model.\n",
    "\n",
    "accuracy_score_smote = accuracy_score(y_test,clf_log_regressor_smote.predict(X_test))\n",
    "precision_smote  = precision_score(y_test,clf_log_regressor_smote.predict(X_test))\n",
    "recall_smote = recall_score(y_test,clf_log_regressor_smote.predict(X_test))\n",
    "f1_score_smote = f1_score(y_test,clf_log_regressor_smote.predict(X_test))\n",
    "roc_auc_score_smote = roc_auc_score(y_test,clf_log_regressor_smote.predict_proba(X_test)[:, 1])\n",
    "\n",
    "print('==== CLR Smote RESULTS ====')\n",
    "print('------------------------------------')\n",
    "print ('accuracy_score =', accuracy_score_smote)\n",
    "print('------------------------------------')\n",
    "print('precision  =',precision_smote)\n",
    "print('------------------------------------')\n",
    "print('recall =', recall_smote)\n",
    "print('------------------------------------')\n",
    "print('f1_score =', f1_score_smote)\n",
    "print('------------------------------------')\n",
    "print('roc_auc_score =', roc_auc_score_smote)"
   ]
  },
  {
   "cell_type": "markdown",
   "metadata": {},
   "source": [
    "## Roc Cuve balanced with  Smote"
   ]
  },
  {
   "cell_type": "code",
   "execution_count": 51,
   "metadata": {},
   "outputs": [
    {
     "name": "stdout",
     "output_type": "stream",
     "text": [
      "Without training: ROC AUC=0.500\n",
      "Logistic Regression: ROC AUC=0.828\n"
     ]
    },
    {
     "data": {
      "image/png": "[encoded data removed]",
      "text/plain": [
       "<Figure size 432x288 with 1 Axes>"
      ]
     },
     "metadata": {
      "needs_background": "light"
     },
     "output_type": "display_data"
    }
   ],
   "source": [
    "# We paint Roc Curve\n",
    "# We generate an untrained classifier, which will assign 0 to everything\n",
    "no_train = [0 for _ in range(len(X_test))]\n",
    "# We calculate the AUC\n",
    "ns_auc = roc_auc_score(y_test, no_train)\n",
    "lr_auc = roc_auc_score(y_test, clf_log_regressor_smote.predict_proba(X_test)[:, 1])\n",
    "# Print\n",
    "print('Without training: ROC AUC=%.3f' % (ns_auc))\n",
    "print('Logistic Regression: ROC AUC=%.3f' % (lr_auc))\n",
    "# We calculate the ROC curves\n",
    "ns_fpr, ns_tpr, _ = roc_curve(y_test, no_train)\n",
    "lr_fpr, lr_tpr, _ = roc_curve(y_test, clf_log_regressor_smote.predict_proba(X_test)[:, 1])\n",
    "# We paint the ROC curves\n",
    "pyplot.plot(ns_fpr, ns_tpr, linestyle='--', label='Without training')\n",
    "pyplot.plot(lr_fpr, lr_tpr, marker='.', label=' clf_log_regressor' , color = \"y\")\n",
    "# Axes labels\n",
    "pyplot.title('Roc Cuve balanced with Smote')\n",
    "pyplot.xlabel('False Positive Rate')\n",
    "pyplot.ylabel('True Positive Rate')\n",
    "pyplot.legend()\n",
    "plt.savefig('C:/Users/manue/TFM/Financial-Product-Sales-Forecast-Model/Pictures/CLR Model - Roc Cuve Balanced with Smote.png', dpi=75,bbox_inches='tight')\n",
    "pyplot.show()"
   ]
  },
  {
   "cell_type": "code",
   "execution_count": 52,
   "metadata": {},
   "outputs": [
    {
     "name": "stdout",
     "output_type": "stream",
     "text": [
      "Results 1rst aproach: RECALL 0.022571, AUC 0.488038\n",
      "Results with Weight Balance: RECALL 0.887383, AUC 0.828233\n",
      "Results with Smote: RECALL 0.886940, AUC 0.828383\n",
      "Results with Nearmiss: RECALL 0.682881, AUC 0.718366\n"
     ]
    }
   ],
   "source": [
    "print('Results 1rst aproach: RECALL %f, AUC %f' %(recall_first_aproach, roc_auc_score_first_aproach))\n",
    "print('Results with Weight Balance: RECALL %f, AUC %f' %(recall_weigth_balance, roc_auc_score_weigth_balance))\n",
    "print('Results with Smote: RECALL %f, AUC %f' %(recall_smote, roc_auc_score_smote))\n",
    "print('Results with Nearmiss: RECALL %f, AUC %f' %(recall_nearmiss, roc_auc_score_nearmiss))"
   ]
  },
  {
   "cell_type": "markdown",
   "metadata": {},
   "source": [
    "# *** Model Conclusions "
   ]
  },
  {
   "cell_type": "markdown",
   "metadata": {},
   "source": [
    " The main metrics chosen for the Logistic Regression Classification Model to decide if we have a good result are the Recall Metric and AUC - Roc Curve. \n",
    " \n",
    " Final Results:\n",
    "\n",
    "       - Results 1rst aproach: RECALL 0.022571, AUC 0.488038\n",
    "       - Results with Weight Balance: RECALL 0.887383, AUC 0.828233\n",
    "       - Results with Smote: RECALL 0.886940, AUC 0.828383\n",
    "       - Results with Nearmiss: RECALL 0.682881, AUC 0.718366\n",
    "- We start our model with a __first approximation__ obtaining __very improvable__ results. Recall 0.02.__ The database used is the original one without any preprocessing. \n",
    "- We continue to evolve our model. We have not used database with pca because previously in EDA we have seen that it was not necessary. We use database with normalization and label encoder. \n",
    "- We confirm that our training set has generalized well as there is not much difference between the results obtained from Test and Train. We can rule out overfitting we have checked it by Cross Validation by obtaining averages of different metrics.\n",
    "\n",
    "- Since our __Target is very unbalanced__ at the rate of 87% (No) and 13% (Yes), we have used _3 different ways of treatment of overfitting in the model estimation. Class Weigth, Nearmiss and Smote. After training the three possibilities, we finally settled on Class Weigth.\n",
    "- The final metrics are: Recall 0.887 - Auc 0.835.\n",
    "- __Consfussion Matrix__ - In the diagonal of hits we have 46756 True Negatives and 10015 True Positives. In our model, the detection of clients who do want to take out insurance is a priority.  We need to obtain a good rate of true positives.  By detecting those customers who are likely to have home insurance, we can work more directly. All this with the objective of time optimization and commercial efficiency. The Recall result obtained is optimal having obtained 88%. The Auc rate is 82%.\n",
    "- Despite the result, we are missing, among many others, variables and data such as income of customers, children, type of work, real salary in euros obtained, place of residence ... etc.. \n",
    "- We will continue searching with other models for better results with the available variables.\n"
   ]
  },
  {
   "cell_type": "code",
   "execution_count": null,
   "metadata": {},
   "outputs": [],
   "source": []
  }
 ],
 "metadata": {
  "kernelspec": {
   "display_name": "Python 3",
   "language": "python",
   "name": "python3"
  },
  "language_info": {
   "codemirror_mode": {
    "name": "ipython",
    "version": 3
   },
   "file_extension": ".py",
   "mimetype": "text/x-python",
   "name": "python",
   "nbconvert_exporter": "python",
   "pygments_lexer": "ipython3",
   "version": "3.8.5"
  }
 },
 "nbformat": 4,
 "nbformat_minor": 2
}
