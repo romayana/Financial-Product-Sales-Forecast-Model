{
 "cells": [
  {
   "cell_type": "markdown",
   "metadata": {},
   "source": [
    "# MODELO DE CLASIFICACIÓN DE REGRESIÓN LOGÍSTICA"
   ]
  },
  {
   "cell_type": "markdown",
   "metadata": {},
   "source": [
    "Presentamos e importamos todas las librerías que vamos a necesitar a lo largo del modelo."
   ]
  },
  {
   "cell_type": "code",
   "execution_count": 60,
   "metadata": {},
   "outputs": [],
   "source": [
    "import pandas as pd\n",
    "import numpy as np\n",
    "\n",
    "# Metric Libraries\n",
    "from sklearn.metrics import f1_score, recall_score, precision_score, accuracy_score\n",
    "from sklearn.metrics import roc_auc_score, roc_curve\n",
    "from sklearn.metrics import confusion_matrix\n",
    "from sklearn.metrics import classification_report\n",
    "from sklearn.metrics import auc\n",
    "from sklearn.model_selection import KFold\n",
    "from sklearn.model_selection import cross_val_score\n",
    "\n",
    "# Visualization Libraries\n",
    "import matplotlib.pyplot as plt\n",
    "import pylab as pl\n",
    "import seaborn as sns \n",
    "from pylab import rcParams \n",
    "from matplotlib import pyplot\n",
    "\n",
    "# Model Libraries\n",
    "from sklearn.linear_model import LogisticRegression\n",
    "from sklearn.model_selection import train_test_split \n",
    "from collections import Counter\n",
    "from imblearn.over_sampling import SMOTE \n",
    "from imblearn.under_sampling import NearMiss \n",
    "\n"
   ]
  },
  {
   "cell_type": "markdown",
   "metadata": {},
   "source": [
    "Leemos y presentamos nuestra Base de Datos. Mostramos las 5 primeras filas, el tipo y nombre de las Columnas / variables que la componen. Las variables que se refieren a unidades de negocio no van a ser utilizadas en el modelo por lo que las transformamos a Objeto para una mejor comprensión y segmentación de las propias variables."
   ]
  },
  {
   "cell_type": "code",
   "execution_count": 61,
   "metadata": {},
   "outputs": [],
   "source": [
    "df = pd.read_csv('C:/Users/manue/TFM/Financial-Product-Sales-Forecast-Model/Cleanning & Merging/df_cleanned.csv')"
   ]
  },
  {
   "cell_type": "code",
   "execution_count": 62,
   "metadata": {},
   "outputs": [],
   "source": [
    "# Transformamos las variables de la unidad de negocio en objeto ya que no queremos utilizarlas.\n",
    "df[[\"cliente\", \"gestor\",\n",
    "    'codigo_cartera', 'dz', 'oficina']] = df[[\"cliente\", \"gestor\",\n",
    "                                              'codigo_cartera', 'dz', 'oficina']].astype(object);"
   ]
  },
  {
   "cell_type": "code",
   "execution_count": 63,
   "metadata": {
    "scrolled": false
   },
   "outputs": [
    {
     "data": {
      "text/html": [
       "<div>\n",
       "<style scoped>\n",
       "    .dataframe tbody tr th:only-of-type {\n",
       "        vertical-align: middle;\n",
       "    }\n",
       "\n",
       "    .dataframe tbody tr th {\n",
       "        vertical-align: top;\n",
       "    }\n",
       "\n",
       "    .dataframe thead th {\n",
       "        text-align: right;\n",
       "    }\n",
       "</style>\n",
       "<table border=\"1\" class=\"dataframe\">\n",
       "  <thead>\n",
       "    <tr style=\"text-align: right;\">\n",
       "      <th></th>\n",
       "      <th>cliente</th>\n",
       "      <th>saldo_captacion</th>\n",
       "      <th>esta_carterizado</th>\n",
       "      <th>cliente_bbp</th>\n",
       "      <th>tipo_gestor</th>\n",
       "      <th>gestor</th>\n",
       "      <th>cartera_patron</th>\n",
       "      <th>codigo_cartera</th>\n",
       "      <th>digital_3_meses</th>\n",
       "      <th>camino_digital</th>\n",
       "      <th>...</th>\n",
       "      <th>edad</th>\n",
       "      <th>seg_valor</th>\n",
       "      <th>seg_recorrido</th>\n",
       "      <th>dz</th>\n",
       "      <th>oficina</th>\n",
       "      <th>lp_seg_vida</th>\n",
       "      <th>lp_seg_acc</th>\n",
       "      <th>lp_seg_salud</th>\n",
       "      <th>lp_seg_hogar</th>\n",
       "      <th>lp_seg_auto</th>\n",
       "    </tr>\n",
       "  </thead>\n",
       "  <tbody>\n",
       "    <tr>\n",
       "      <th>0</th>\n",
       "      <td>1</td>\n",
       "      <td>1328106.49</td>\n",
       "      <td>SI</td>\n",
       "      <td>NO</td>\n",
       "      <td>ASESOR FINANCIERO</td>\n",
       "      <td>18287</td>\n",
       "      <td>ASESORAMIENTO FINANCIERO</td>\n",
       "      <td>14881</td>\n",
       "      <td>SI</td>\n",
       "      <td>COMPRADOR</td>\n",
       "      <td>...</td>\n",
       "      <td>69.0</td>\n",
       "      <td>ALTO</td>\n",
       "      <td>BAJO RECORRIDO</td>\n",
       "      <td>2</td>\n",
       "      <td>210</td>\n",
       "      <td>0</td>\n",
       "      <td>0</td>\n",
       "      <td>0</td>\n",
       "      <td>1</td>\n",
       "      <td>0</td>\n",
       "    </tr>\n",
       "    <tr>\n",
       "      <th>1</th>\n",
       "      <td>2</td>\n",
       "      <td>1142234.34</td>\n",
       "      <td>SI</td>\n",
       "      <td>NO</td>\n",
       "      <td>ASESOR FINANCIERO</td>\n",
       "      <td>18287</td>\n",
       "      <td>ASESORAMIENTO FINANCIERO</td>\n",
       "      <td>14881</td>\n",
       "      <td>SI</td>\n",
       "      <td>COMPRADOR</td>\n",
       "      <td>...</td>\n",
       "      <td>81.0</td>\n",
       "      <td>ALTO</td>\n",
       "      <td>ALTO RECORRIDO</td>\n",
       "      <td>2</td>\n",
       "      <td>210</td>\n",
       "      <td>0</td>\n",
       "      <td>0</td>\n",
       "      <td>0</td>\n",
       "      <td>0</td>\n",
       "      <td>0</td>\n",
       "    </tr>\n",
       "    <tr>\n",
       "      <th>2</th>\n",
       "      <td>3</td>\n",
       "      <td>1142234.34</td>\n",
       "      <td>SI</td>\n",
       "      <td>NO</td>\n",
       "      <td>ASESOR FINANCIERO</td>\n",
       "      <td>18287</td>\n",
       "      <td>TUTELA</td>\n",
       "      <td>28332</td>\n",
       "      <td>NO</td>\n",
       "      <td>SIN USO</td>\n",
       "      <td>...</td>\n",
       "      <td>75.0</td>\n",
       "      <td>ALTO</td>\n",
       "      <td>BAJO RECORRIDO</td>\n",
       "      <td>2</td>\n",
       "      <td>210</td>\n",
       "      <td>0</td>\n",
       "      <td>0</td>\n",
       "      <td>0</td>\n",
       "      <td>0</td>\n",
       "      <td>0</td>\n",
       "    </tr>\n",
       "    <tr>\n",
       "      <th>3</th>\n",
       "      <td>4</td>\n",
       "      <td>1340503.88</td>\n",
       "      <td>SI</td>\n",
       "      <td>NO</td>\n",
       "      <td>ASESOR FINANCIERO</td>\n",
       "      <td>41475</td>\n",
       "      <td>ASESORAMIENTO FINANCIERO</td>\n",
       "      <td>14204</td>\n",
       "      <td>NO</td>\n",
       "      <td>SIN USO</td>\n",
       "      <td>...</td>\n",
       "      <td>94.0</td>\n",
       "      <td>ALTO</td>\n",
       "      <td>BAJO RECORRIDO</td>\n",
       "      <td>2</td>\n",
       "      <td>210</td>\n",
       "      <td>0</td>\n",
       "      <td>0</td>\n",
       "      <td>0</td>\n",
       "      <td>0</td>\n",
       "      <td>0</td>\n",
       "    </tr>\n",
       "    <tr>\n",
       "      <th>4</th>\n",
       "      <td>5</td>\n",
       "      <td>1758517.70</td>\n",
       "      <td>SI</td>\n",
       "      <td>NO</td>\n",
       "      <td>ASESOR FINANCIERO</td>\n",
       "      <td>39000</td>\n",
       "      <td>ASESORAMIENTO FINANCIERO</td>\n",
       "      <td>14219</td>\n",
       "      <td>SI</td>\n",
       "      <td>COMPRADOR</td>\n",
       "      <td>...</td>\n",
       "      <td>64.0</td>\n",
       "      <td>ALTO</td>\n",
       "      <td>BAJO RECORRIDO</td>\n",
       "      <td>2</td>\n",
       "      <td>210</td>\n",
       "      <td>0</td>\n",
       "      <td>0</td>\n",
       "      <td>0</td>\n",
       "      <td>0</td>\n",
       "      <td>0</td>\n",
       "    </tr>\n",
       "  </tbody>\n",
       "</table>\n",
       "<p>5 rows × 30 columns</p>\n",
       "</div>"
      ],
      "text/plain": [
       "  cliente  saldo_captacion esta_carterizado cliente_bbp        tipo_gestor  \\\n",
       "0       1       1328106.49               SI          NO  ASESOR FINANCIERO   \n",
       "1       2       1142234.34               SI          NO  ASESOR FINANCIERO   \n",
       "2       3       1142234.34               SI          NO  ASESOR FINANCIERO   \n",
       "3       4       1340503.88               SI          NO  ASESOR FINANCIERO   \n",
       "4       5       1758517.70               SI          NO  ASESOR FINANCIERO   \n",
       "\n",
       "  gestor            cartera_patron codigo_cartera digital_3_meses  \\\n",
       "0  18287  ASESORAMIENTO FINANCIERO          14881              SI   \n",
       "1  18287  ASESORAMIENTO FINANCIERO          14881              SI   \n",
       "2  18287                    TUTELA          28332              NO   \n",
       "3  41475  ASESORAMIENTO FINANCIERO          14204              NO   \n",
       "4  39000  ASESORAMIENTO FINANCIERO          14219              SI   \n",
       "\n",
       "  camino_digital  ...  edad  seg_valor   seg_recorrido  dz  oficina  \\\n",
       "0      COMPRADOR  ...  69.0       ALTO  BAJO RECORRIDO   2      210   \n",
       "1      COMPRADOR  ...  81.0       ALTO  ALTO RECORRIDO   2      210   \n",
       "2        SIN USO  ...  75.0       ALTO  BAJO RECORRIDO   2      210   \n",
       "3        SIN USO  ...  94.0       ALTO  BAJO RECORRIDO   2      210   \n",
       "4      COMPRADOR  ...  64.0       ALTO  BAJO RECORRIDO   2      210   \n",
       "\n",
       "   lp_seg_vida  lp_seg_acc  lp_seg_salud lp_seg_hogar lp_seg_auto  \n",
       "0            0           0             0            1           0  \n",
       "1            0           0             0            0           0  \n",
       "2            0           0             0            0           0  \n",
       "3            0           0             0            0           0  \n",
       "4            0           0             0            0           0  \n",
       "\n",
       "[5 rows x 30 columns]"
      ]
     },
     "execution_count": 63,
     "metadata": {},
     "output_type": "execute_result"
    }
   ],
   "source": [
    "df.head(5)"
   ]
  },
  {
   "cell_type": "code",
   "execution_count": 64,
   "metadata": {
    "scrolled": false
   },
   "outputs": [
    {
     "data": {
      "text/plain": [
       "Index(['cliente', 'saldo_captacion', 'esta_carterizado', 'cliente_bbp',\n",
       "       'tipo_gestor', 'gestor', 'cartera_patron', 'codigo_cartera',\n",
       "       'digital_3_meses', 'camino_digital', 'saldo_financiacion', 'saldo_ffii',\n",
       "       'saldo_plp', 'lp_dom_ingresos', 'lp_tjta_cto', 'lp_tjt_rev', 'lp_rbos',\n",
       "       'lp_of_int', 'marca_bp', 'marca_ccte', 'edad', 'seg_valor',\n",
       "       'seg_recorrido', 'dz', 'oficina', 'lp_seg_vida', 'lp_seg_acc',\n",
       "       'lp_seg_salud', 'lp_seg_hogar', 'lp_seg_auto'],\n",
       "      dtype='object')"
      ]
     },
     "execution_count": 64,
     "metadata": {},
     "output_type": "execute_result"
    }
   ],
   "source": [
    "df.columns"
   ]
  },
  {
   "cell_type": "markdown",
   "metadata": {},
   "source": [
    "## Primera aproximación"
   ]
  },
  {
   "cell_type": "code",
   "execution_count": 65,
   "metadata": {},
   "outputs": [],
   "source": [
    "df = df.select_dtypes('number')"
   ]
  },
  {
   "cell_type": "code",
   "execution_count": 66,
   "metadata": {},
   "outputs": [
    {
     "name": "stdout",
     "output_type": "stream",
     "text": [
      "Datos X = 6319236 (451374, 14)\n",
      "Datos y = 451374 (451374,)\n"
     ]
    }
   ],
   "source": [
    "# Inputs y Target \n",
    "X = df.drop(['lp_seg_hogar'], axis = 1)\n",
    "y= df['lp_seg_hogar']\n",
    "print('Datos X =', X.size, X.shape)\n",
    "print('Datos y =', y.size, y.shape)"
   ]
  },
  {
   "cell_type": "code",
   "execution_count": 67,
   "metadata": {},
   "outputs": [],
   "source": [
    "# Instanciamos el clasificador\n",
    "clf_log_regressor_first_aproach = LogisticRegression()"
   ]
  },
  {
   "cell_type": "code",
   "execution_count": 68,
   "metadata": {},
   "outputs": [
    {
     "data": {
      "text/plain": [
       "LogisticRegression()"
      ]
     },
     "execution_count": 68,
     "metadata": {},
     "output_type": "execute_result"
    }
   ],
   "source": [
    "# Entrenamos el modelo\n",
    "clf_log_regressor_first_aproach.fit(X,y)"
   ]
  },
  {
   "cell_type": "code",
   "execution_count": 69,
   "metadata": {},
   "outputs": [
    {
     "data": {
      "text/plain": [
       "array([1, 1, 1, ..., 0, 0, 0], dtype=int64)"
      ]
     },
     "execution_count": 69,
     "metadata": {},
     "output_type": "execute_result"
    }
   ],
   "source": [
    "# Sacamos las predicciones\n",
    "clf_log_regressor_first_aproach.predict(X)"
   ]
  },
  {
   "cell_type": "code",
   "execution_count": 70,
   "metadata": {},
   "outputs": [],
   "source": [
    "# Dividimos el DF en set de train y de Test.  Damos 80% al train y 20% a test\n",
    "test_size = 0.20\n",
    "seed = 7\n",
    "X_train, X_test, y_train, y_test = train_test_split(X, y, test_size = test_size, random_state = seed)"
   ]
  },
  {
   "cell_type": "code",
   "execution_count": 71,
   "metadata": {},
   "outputs": [
    {
     "data": {
      "text/plain": [
       "LogisticRegression()"
      ]
     },
     "execution_count": 71,
     "metadata": {},
     "output_type": "execute_result"
    }
   ],
   "source": [
    "# Entrenamos el modelo dividido.\n",
    "clf_log_regressor_first_aproach.fit(X_train,y_train)"
   ]
  },
  {
   "cell_type": "code",
   "execution_count": 72,
   "metadata": {},
   "outputs": [
    {
     "data": {
      "text/plain": [
       "array([0, 0, 0, ..., 0, 0, 0], dtype=int64)"
      ]
     },
     "execution_count": 72,
     "metadata": {},
     "output_type": "execute_result"
    }
   ],
   "source": [
    "# Primeras predicciones\n",
    "clf_log_regressor_first_aproach.predict(X_test)"
   ]
  },
  {
   "cell_type": "code",
   "execution_count": 73,
   "metadata": {},
   "outputs": [
    {
     "data": {
      "text/plain": [
       "array([0.31004564, 0.13072842, 0.17100719, ..., 0.07256822, 0.13290052,\n",
       "       0.03860107])"
      ]
     },
     "execution_count": 73,
     "metadata": {},
     "output_type": "execute_result"
    }
   ],
   "source": [
    "# Probabilidades de tener seguro\n",
    "clf_log_regressor_first_aproach.predict_proba(X_test)[:, 1]"
   ]
  },
  {
   "cell_type": "code",
   "execution_count": 75,
   "metadata": {},
   "outputs": [
    {
     "name": "stdout",
     "output_type": "stream",
     "text": [
      "== Primera Aproximación CLR_model ==\n",
      "------------------------------------\n",
      "accuracy_score = 0.8687565771254501\n",
      "------------------------------------\n",
      "precision  = 0.4470588235294118\n",
      "------------------------------------\n",
      "recall = 0.022571064913025032\n",
      "------------------------------------\n",
      "f1_score = 0.042972536348949916\n",
      "------------------------------------\n",
      "roc_auc_score = 0.4880382752670486\n"
     ]
    }
   ],
   "source": [
    "# Resultados Obtenidos de la primera aproximación\n",
    "\n",
    "accuracy_score_first_aproach = accuracy_score(y_test,clf_log_regressor_first_aproach.predict(X_test))\n",
    "precision_first_aproach  = precision_score(y_test,clf_log_regressor_first_aproach.predict(X_test))\n",
    "recall_first_aproach = recall_score(y_test,clf_log_regressor_first_aproach.predict(X_test))\n",
    "f1_score_first_aproach = f1_score(y_test,clf_log_regressor_first_aproach.predict(X_test))\n",
    "roc_auc_score_first_aproach = roc_auc_score(y_test,clf_log_regressor_first_aproach.predict_proba(X_test)[:, 1])\n",
    "\n",
    "print('== Primera Aproximación CLR_model ==')\n",
    "print('------------------------------------')\n",
    "print ('accuracy_score =', accuracy_score_first_aproach)\n",
    "print('------------------------------------')\n",
    "print('precision  =',precision_first_aproach)\n",
    "print('------------------------------------')\n",
    "print('recall =', recall_first_aproach)\n",
    "print('------------------------------------')\n",
    "print('f1_score =', f1_score_first_aproach)\n",
    "print('------------------------------------')\n",
    "print('roc_auc_score =', roc_auc_score_first_aproach)"
   ]
  },
  {
   "cell_type": "code",
   "execution_count": 76,
   "metadata": {},
   "outputs": [
    {
     "name": "stdout",
     "output_type": "stream",
     "text": [
      "Sin Entrenar: ROC AUC=0.500\n",
      "Logistic Regression: ROC AUC=0.488\n"
     ]
    },
    {
     "data": {
      "image/png": "[encoded data removed]",
      "text/plain": [
       "<Figure size 432x288 with 1 Axes>"
      ]
     },
     "metadata": {
      "needs_background": "light"
     },
     "output_type": "display_data"
    }
   ],
   "source": [
    "# Pintamos la curva ROC\n",
    "# Generamos un clasificador sin entrenar que asignada 0 a todo\n",
    "no_train = [0 for _ in range(len(X_test))]\n",
    "# Calculamos AUC\n",
    "ns_auc = roc_auc_score(y_test, no_train)\n",
    "lr_auc = roc_auc_score(y_test, clf_log_regressor_first_aproach.predict_proba(X_test)[:, 1])\n",
    "# Print\n",
    "print('Sin Entrenar: ROC AUC=%.3f' % (ns_auc))\n",
    "print('Logistic Regression: ROC AUC=%.3f' % (lr_auc))\n",
    "# Calculamos la curva ROC\n",
    "ns_fpr, ns_tpr, _ = roc_curve(y_test, no_train)\n",
    "lr_fpr, lr_tpr, _ = roc_curve(y_test, clf_log_regressor_first_aproach.predict_proba(X_test)[:, 1])\n",
    "# Pintamos la curva ROC\n",
    "pyplot.plot(ns_fpr, ns_tpr, linestyle='--', label='Sin Entrenar')\n",
    "pyplot.plot(lr_fpr, lr_tpr, marker='.', label=' clf_log_regressor' , color = \"y\")\n",
    "# Etiquetas\n",
    "pyplot.title('Roc Curve Primera Aproximacion')\n",
    "pyplot.xlabel('Tasa Falso Positivo')\n",
    "pyplot.ylabel('Tasa Verdadero Positivo')\n",
    "pyplot.legend()\n",
    "plt.savefig('C:/Users/manue/TFM/Financial-Product-Sales-Forecast-Model/Images/CLR Model - Roc Curve First Aproach.png', dpi=75,bbox_inches='tight')\n",
    "plt.show()\n",
    "pyplot.show()"
   ]
  },
  {
   "cell_type": "markdown",
   "metadata": {},
   "source": [
    "## Construccion del modelo"
   ]
  },
  {
   "cell_type": "code",
   "execution_count": 77,
   "metadata": {},
   "outputs": [],
   "source": [
    "# Leemos el Data Frame\n",
    "df_normalized = pd.read_csv('C:/Users/manue/TFM/Financial-Product-Sales-Forecast-Model/Preprocessing/df_normalized.csv')"
   ]
  },
  {
   "cell_type": "code",
   "execution_count": 78,
   "metadata": {},
   "outputs": [
    {
     "name": "stdout",
     "output_type": "stream",
     "text": [
      "Datos X = 6684992 (417812, 16)\n",
      "Datos y = 417812 (417812,)\n"
     ]
    }
   ],
   "source": [
    "# Inputs & Target \n",
    "X = df_normalized.drop(['lp_seg_hogar'], axis = 1)\n",
    "y= df_normalized['lp_seg_hogar']\n",
    "print('Datos X =', X.size, X.shape)\n",
    "print('Datos y =', y.size, y.shape)"
   ]
  },
  {
   "cell_type": "markdown",
   "metadata": {},
   "source": [
    "\n",
    "Hemos visto en EDA que Target está muy desequilibrado. Vamos a utilizar 3 fórmulas diferentes para arreglar este desequilibrio. Después de entrenar las tres opciones Weigth balanced & Smote dan los mejores resultados. NearMiss obtiene resultados muy bajos\n",
    "\n",
    "- Penalización para compensar __Weigth balanced____\n",
    "- NearMiss\n",
    "- Smote\n",
    "\n",
    "### 1ª estrategia: Penalización para compensar Weigth balanced"
   ]
  },
  {
   "cell_type": "code",
   "execution_count": 79,
   "metadata": {},
   "outputs": [],
   "source": [
    "# Elegido Solver liblinear. 'newton-cg' no converge. \n",
    "clf_log_regressor_wb = LogisticRegression(solver = 'liblinear', class_weight='balanced')"
   ]
  },
  {
   "cell_type": "code",
   "execution_count": 80,
   "metadata": {},
   "outputs": [],
   "source": [
    "# Ajustamos nuestro conjunto de entrenamiento y prueba. (80-20)\n",
    "test_size = 0.2\n",
    "seed = 7\n",
    "X_train, X_test, y_train, y_test = train_test_split(X, y, test_size = test_size, random_state = seed)"
   ]
  },
  {
   "cell_type": "code",
   "execution_count": 81,
   "metadata": {},
   "outputs": [
    {
     "data": {
      "text/plain": [
       "LogisticRegression(class_weight='balanced', solver='liblinear')"
      ]
     },
     "execution_count": 81,
     "metadata": {},
     "output_type": "execute_result"
    }
   ],
   "source": [
    "# Entrenamos\n",
    "clf_log_regressor_wb.fit(X_train,y_train)"
   ]
  },
  {
   "cell_type": "code",
   "execution_count": 82,
   "metadata": {},
   "outputs": [
    {
     "data": {
      "text/plain": [
       "array([1., 0., 0., ..., 0., 1., 0.])"
      ]
     },
     "execution_count": 82,
     "metadata": {},
     "output_type": "execute_result"
    }
   ],
   "source": [
    "# Primeas Predicciones\n",
    "clf_log_regressor_wb.predict(X_test)"
   ]
  },
  {
   "cell_type": "code",
   "execution_count": 83,
   "metadata": {},
   "outputs": [
    {
     "data": {
      "text/plain": [
       "array([0.51437495, 0.14824863, 0.03242294, ..., 0.19294869, 0.82027084,\n",
       "       0.03561958])"
      ]
     },
     "execution_count": 83,
     "metadata": {},
     "output_type": "execute_result"
    }
   ],
   "source": [
    "# Probabilidades de tener Seguro de Hogar\n",
    "clf_log_regressor_wb.predict_proba(X_test)[:, 1]"
   ]
  },
  {
   "cell_type": "markdown",
   "metadata": {},
   "source": [
    "__Primeros resultados__. Los resultados obtenidos en el entrenamiento son muy parecidos a los obtenidos en el test. Nuestro modelo entrenado está generalizando bien y podemos considerarlo como bueno por ahora, pero todavía tenemos que conseguir mejores métricas. No hay sobreajuste.  Confirmamos que generaliza bien con la Validación Cruzada tomando las medias de las diferentes métricas."
   ]
  },
  {
   "cell_type": "code",
   "execution_count": 84,
   "metadata": {
    "scrolled": true
   },
   "outputs": [
    {
     "name": "stdout",
     "output_type": "stream",
     "text": [
      "===========RECALL TRAIN============\n",
      "recall = 0.8798620509014712\n",
      "===========RECALL TEST=============\n",
      "recall = 0.8873825979089137\n"
     ]
    }
   ],
   "source": [
    "# Posibilidad de Overfitting. Primeros resultados con la métrica elegida \"Recall\" para ver si nuestro modelo generaliza bien.\n",
    "print('===========RECALL TRAIN============')\n",
    "print('recall =', recall_score(y_train,clf_log_regressor_wb.predict(X_train)))\n",
    "print('===========RECALL TEST=============')\n",
    "print('recall =', recall_score(y_test,clf_log_regressor_wb.predict(X_test)))\n"
   ]
  },
  {
   "cell_type": "markdown",
   "metadata": {},
   "source": [
    "## Técnicas de validación cruzada.  Métricas: Validación cruzada\n",
    "Utilizamos la validación cruzada para iterar 5 veces a lo largo del conjunto de entrenamiento.\n",
    "\n",
    "- Apartamos 1/5 muestras.\n",
    "- Entrenamos el modelo con las 4/5 muestras restantes.\n",
    "- Mediremos con diferentes métricas el resultado obtenido en las muestras apartadas.\n",
    "- Esto significa que hacemos 5 entrenamientos independientes.\n",
    "- El resultado será la media de las 5 métricas anteriores.\n"
   ]
  },
  {
   "cell_type": "code",
   "execution_count": 85,
   "metadata": {},
   "outputs": [
    {
     "name": "stdout",
     "output_type": "stream",
     "text": [
      "Cross Validation:  0.2834200427611363 0.8799299474605954 0.42870319618643915\n"
     ]
    }
   ],
   "source": [
    "cross_val_score_precision = cross_val_score(clf_log_regressor_wb,X,y,cv=5,scoring=\"precision\").mean()\n",
    "cross_val_score_recall = cross_val_score(clf_log_regressor_wb,X,y,cv=5,scoring=\"recall\").mean()\n",
    "cross_val_score_f1 = cross_val_score(clf_log_regressor_wb,X,y,cv=5,scoring=\"f1\").mean()\n",
    "print('Cross Validation: ', cross_val_score_precision , cross_val_score_recall, cross_val_score_f1)"
   ]
  },
  {
   "cell_type": "markdown",
   "metadata": {},
   "source": [
    "### Confussion Matrix"
   ]
  },
  {
   "cell_type": "code",
   "execution_count": 86,
   "metadata": {},
   "outputs": [
    {
     "data": {
      "image/png": "[encoded data removed]",
      "text/plain": [
       "<Figure size 288x504 with 1 Axes>"
      ]
     },
     "metadata": {
      "needs_background": "light"
     },
     "output_type": "display_data"
    }
   ],
   "source": [
    "# Ploteamos la Matriz de Confusion\n",
    "confusion_matrix_clf_log_regressor_wb = confusion_matrix(y_test,clf_log_regressor_wb.predict(X_test))\n",
    "fig, ax = plt.subplots(figsize=(4, 7))\n",
    "ax.matshow(confusion_matrix_clf_log_regressor_wb, cmap=plt.cm.YlOrRd)\n",
    "for i in range(confusion_matrix_clf_log_regressor_wb.shape[0]):\n",
    "    for j in range(confusion_matrix_clf_log_regressor_wb.shape[1]):\n",
    "        ax.text(x=j, y=i, s=confusion_matrix_clf_log_regressor_wb[i, j], va='center', ha='center')\n",
    "\n",
    "plt.title('Martiz de Congusion _clf_log_regressor_weight balance')\n",
    "plt.xlabel('Valores Reales')\n",
    "plt.ylabel('Predicciones')\n",
    "plt.tight_layout()\n",
    "plt.savefig('C:/Users/manue/TFM/Financial-Product-Sales-Forecast-Model/Images/CLR Model - Confusion_matrix_clf_log_regressor_weight balance.png', dpi=75,bbox_inches='tight')\n",
    "plt.show()\n"
   ]
  },
  {
   "cell_type": "markdown",
   "metadata": {},
   "source": [
    "### Resultados CLR  Weigth balanced"
   ]
  },
  {
   "cell_type": "code",
   "execution_count": 87,
   "metadata": {},
   "outputs": [
    {
     "name": "stdout",
     "output_type": "stream",
     "text": [
      "==== CLR_Weigth balanced RESULTADOS ====\n",
      "------------------------------------\n",
      "accuracy_score = 0.6793796297404353\n",
      "------------------------------------\n",
      "precision  = 0.28182687978388116\n",
      "------------------------------------\n",
      "recall = 0.8873825979089137\n",
      "------------------------------------\n",
      "f1_score = 0.427790354961343\n",
      "------------------------------------\n",
      "roc_auc_score = 0.8282334472601741\n"
     ]
    }
   ],
   "source": [
    "accuracy_score_weigth_balance = accuracy_score(y_test,clf_log_regressor_wb.predict(X_test))\n",
    "precision_weigth_balance  = precision_score(y_test,clf_log_regressor_wb.predict(X_test))\n",
    "recall_weigth_balance = recall_score(y_test,clf_log_regressor_wb.predict(X_test))\n",
    "f1_score_weigth_balance = f1_score(y_test,clf_log_regressor_wb.predict(X_test))\n",
    "roc_auc_score_weigth_balance = roc_auc_score(y_test,clf_log_regressor_wb.predict_proba(X_test)[:, 1])\n",
    "\n",
    "print('==== CLR_Weigth balanced RESULTADOS ====')\n",
    "print('------------------------------------')\n",
    "print ('accuracy_score =', accuracy_score_weigth_balance)\n",
    "print('------------------------------------')\n",
    "print('precision  =',precision_weigth_balance)\n",
    "print('------------------------------------')\n",
    "print('recall =', recall_weigth_balance)\n",
    "print('------------------------------------')\n",
    "print('f1_score =', f1_score_weigth_balance)\n",
    "print('------------------------------------')\n",
    "print('roc_auc_score =', roc_auc_score_weigth_balance)"
   ]
  },
  {
   "cell_type": "markdown",
   "metadata": {},
   "source": [
    "## Curva ROC balanceado con class weigth"
   ]
  },
  {
   "cell_type": "code",
   "execution_count": 88,
   "metadata": {
    "scrolled": true
   },
   "outputs": [
    {
     "name": "stdout",
     "output_type": "stream",
     "text": [
      "Sin Entrenar: ROC AUC=0.500\n",
      "Logistic Regression: ROC AUC=0.828\n"
     ]
    },
    {
     "data": {
      "image/png": "[encoded data removed]",
      "text/plain": [
       "<Figure size 432x288 with 1 Axes>"
      ]
     },
     "metadata": {
      "needs_background": "light"
     },
     "output_type": "display_data"
    }
   ],
   "source": [
    "# Pintamos Curva Roc\n",
    "# Generamos un clasificador sin entrenar que asignada 0 a todo\n",
    "no_train = [0 for _ in range(len(X_test))]\n",
    "# Calculamos AUC\n",
    "ns_auc = roc_auc_score(y_test, no_train)\n",
    "lr_auc = roc_auc_score(y_test, clf_log_regressor_wb.predict_proba(X_test)[:, 1])\n",
    "# Print\n",
    "print('Sin Entrenar: ROC AUC=%.3f' % (ns_auc))\n",
    "print('Logistic Regression: ROC AUC=%.3f' % (lr_auc))\n",
    "# Calculamos Curva ROC\n",
    "ns_fpr, ns_tpr, _ = roc_curve(y_test, no_train)\n",
    "lr_fpr, lr_tpr, _ = roc_curve(y_test, clf_log_regressor_wb.predict_proba(X_test)[:, 1])\n",
    "# Ploteamos la Curva ROC\n",
    "pyplot.plot(ns_fpr, ns_tpr, linestyle='--', label='Without training')\n",
    "pyplot.plot(lr_fpr, lr_tpr, marker='.', label=' clf_log_regressor' , color = \"y\")\n",
    "# Etiquetas\n",
    "pyplot.title('Roc Cuve balanceada con weigth balance')\n",
    "pyplot.xlabel('Tasa Falso Positivo')\n",
    "pyplot.ylabel('Tasa Verdadero Positivo')\n",
    "pyplot.legend()\n",
    "plt.savefig('C:/Users/manue/TFM/Financial-Product-Sales-Forecast-Model/Images/CLR Model - Roc Cuve Balanced with Weigth Balance.png', dpi=75,bbox_inches='tight')\n",
    "pyplot.show()"
   ]
  },
  {
   "cell_type": "markdown",
   "metadata": {},
   "source": [
    "### 2ª Estrategia de Balanceo __NearMiss__\n"
   ]
  },
  {
   "cell_type": "code",
   "execution_count": 89,
   "metadata": {},
   "outputs": [],
   "source": [
    "# Instanciamos el clasificador\n",
    "clf_log_regressor_nm = LogisticRegression(solver = 'liblinear')"
   ]
  },
  {
   "cell_type": "code",
   "execution_count": 90,
   "metadata": {},
   "outputs": [
    {
     "data": {
      "text/plain": [
       "LogisticRegression(solver='liblinear')"
      ]
     },
     "execution_count": 90,
     "metadata": {},
     "output_type": "execute_result"
    }
   ],
   "source": [
    "# Entrenamos el modelo\n",
    "clf_log_regressor_nm.fit(X,y)"
   ]
  },
  {
   "cell_type": "code",
   "execution_count": 91,
   "metadata": {},
   "outputs": [
    {
     "data": {
      "text/plain": [
       "array([0., 0., 0., ..., 0., 0., 0.])"
      ]
     },
     "execution_count": 91,
     "metadata": {},
     "output_type": "execute_result"
    }
   ],
   "source": [
    "# Primeras Prediciones\n",
    "clf_log_regressor_nm.predict(X)"
   ]
  },
  {
   "cell_type": "code",
   "execution_count": 92,
   "metadata": {},
   "outputs": [],
   "source": [
    "# Balanceamos con NearMiss \"\n",
    "from imblearn.under_sampling import NearMiss\n",
    "nr = NearMiss() "
   ]
  },
  {
   "cell_type": "code",
   "execution_count": 93,
   "metadata": {},
   "outputs": [],
   "source": [
    "# Ajustamos el set de entrenamiento\n",
    "X_train_miss, y_train_miss = nr.fit_sample(X_train, y_train)  "
   ]
  },
  {
   "cell_type": "code",
   "execution_count": 94,
   "metadata": {},
   "outputs": [
    {
     "name": "stdout",
     "output_type": "stream",
     "text": [
      "Antes de NearMiss: Counter({0.0: 288435, 1.0: 45814}) \n",
      "====================================\n",
      "Despues de NearMiss: : Counter({0.0: 45814, 1.0: 45814}) \n"
     ]
    }
   ],
   "source": [
    "# Informacion de la distribucion antes y despues de Nearmiss\n",
    "\n",
    "from collections import Counter\n",
    "print (\"Antes de NearMiss: {} \".format(Counter(y_train)))\n",
    "print('====================================')\n",
    "print (\"Despues de NearMiss: : {} \".format(Counter(y_train_miss)))\n"
   ]
  },
  {
   "cell_type": "code",
   "execution_count": 95,
   "metadata": {},
   "outputs": [
    {
     "data": {
      "text/plain": [
       "LogisticRegression(solver='liblinear')"
      ]
     },
     "execution_count": 95,
     "metadata": {},
     "output_type": "execute_result"
    }
   ],
   "source": [
    "# Entrenamos\n",
    "clf_log_regressor_nm.fit(X_train_miss, y_train_miss) "
   ]
  },
  {
   "cell_type": "code",
   "execution_count": 96,
   "metadata": {},
   "outputs": [
    {
     "data": {
      "text/plain": [
       "array([1., 0., 0., ..., 1., 1., 0.])"
      ]
     },
     "execution_count": 96,
     "metadata": {},
     "output_type": "execute_result"
    }
   ],
   "source": [
    "# Predicciones\n",
    "clf_log_regressor_nm.predict(X_test)"
   ]
  },
  {
   "cell_type": "code",
   "execution_count": 97,
   "metadata": {
    "scrolled": true
   },
   "outputs": [
    {
     "data": {
      "text/plain": [
       "array([0.95399776, 0.08959986, 0.22343631, ..., 0.62982046, 0.94622198,\n",
       "       0.27750429])"
      ]
     },
     "execution_count": 97,
     "metadata": {},
     "output_type": "execute_result"
    }
   ],
   "source": [
    "# Probabilidades\n",
    "clf_log_regressor_nm.predict_proba(X_test)[:, 1]"
   ]
  },
  {
   "cell_type": "markdown",
   "metadata": {},
   "source": [
    "##  CLR Nearmiss Resultados"
   ]
  },
  {
   "cell_type": "code",
   "execution_count": 98,
   "metadata": {},
   "outputs": [
    {
     "name": "stdout",
     "output_type": "stream",
     "text": [
      "==== CLR Nearmiss RESULTADOSS ====\n",
      "------------------------------------\n",
      "accuracy_score = 0.6228115314194081\n",
      "------------------------------------\n",
      "precision  = 0.21620332706819648\n",
      "------------------------------------\n",
      "recall = 0.6828814460393408\n",
      "------------------------------------\n",
      "f1_score = 0.3284256280229263\n",
      "------------------------------------\n",
      "roc_auc_score = 0.7183664949438875\n"
     ]
    }
   ],
   "source": [
    "accuracy_score_nearmiss = accuracy_score(y_test,clf_log_regressor_nm.predict(X_test))\n",
    "precision_nearmiss  = precision_score(y_test,clf_log_regressor_nm.predict(X_test))\n",
    "recall_nearmiss = recall_score(y_test,clf_log_regressor_nm.predict(X_test))\n",
    "f1_score_nearmiss = f1_score(y_test,clf_log_regressor_nm.predict(X_test))\n",
    "roc_auc_score_nearmiss = roc_auc_score(y_test,clf_log_regressor_nm.predict_proba(X_test)[:, 1])\n",
    "\n",
    "print('==== CLR Nearmiss RESULTADOSS ====')\n",
    "print('------------------------------------')\n",
    "print ('accuracy_score =', accuracy_score_nearmiss)\n",
    "print('------------------------------------')\n",
    "print('precision  =',precision_nearmiss)\n",
    "print('------------------------------------')\n",
    "print('recall =', recall_nearmiss)\n",
    "print('------------------------------------')\n",
    "print('f1_score =', f1_score_nearmiss)\n",
    "print('------------------------------------')\n",
    "print('roc_auc_score =', roc_auc_score_nearmiss)"
   ]
  },
  {
   "cell_type": "markdown",
   "metadata": {},
   "source": [
    "## Curva ROC balanceado con  Nearmiss"
   ]
  },
  {
   "cell_type": "code",
   "execution_count": 99,
   "metadata": {},
   "outputs": [
    {
     "name": "stdout",
     "output_type": "stream",
     "text": [
      "Sin Entrenar: ROC AUC=0.500\n",
      "Logistic Regression: ROC AUC=0.718\n"
     ]
    },
    {
     "data": {
      "image/png": "[encoded data removed]",
      "text/plain": [
       "<Figure size 432x288 with 1 Axes>"
      ]
     },
     "metadata": {
      "needs_background": "light"
     },
     "output_type": "display_data"
    }
   ],
   "source": [
    "# Pintamos Curva Roc\n",
    "# Generamos un clasificador sin entrenar que asignada 0 a todo\n",
    "no_train = [0 for _ in range(len(X_test))]\n",
    "# Calculamos AUC\n",
    "ns_auc = roc_auc_score(y_test, no_train)\n",
    "lr_auc = roc_auc_score(y_test, clf_log_regressor_nm.predict_proba(X_test)[:, 1])\n",
    "# Print\n",
    "print('Sin Entrenar: ROC AUC=%.3f' % (ns_auc))\n",
    "print('Logistic Regression: ROC AUC=%.3f' % (lr_auc))\n",
    "# Calculamos la Curva ROC\n",
    "ns_fpr, ns_tpr, _ = roc_curve(y_test, no_train)\n",
    "lr_fpr, lr_tpr, _ = roc_curve(y_test, clf_log_regressor_nm.predict_proba(X_test)[:, 1])\n",
    "# Ploteamos\n",
    "pyplot.plot(ns_fpr, ns_tpr, linestyle='--', label='Sin Entrenar')\n",
    "pyplot.plot(lr_fpr, lr_tpr, marker='.', label=' clf_log_regressor' , color = \"y\")\n",
    "# Etiquetas\n",
    "pyplot.title('Curva Roc Balanceada con Nearmiss')\n",
    "pyplot.xlabel('Tasa Falso Positivo')\n",
    "pyplot.ylabel('Tasa Verdadero Positivo')\n",
    "pyplot.legend()\n",
    "plt.savefig('C:/Users/manue/TFM/Financial-Product-Sales-Forecast-Model/Images/CLR Model - Roc Cuve Balanced with Nearmiss.png', dpi=75,bbox_inches='tight')\n",
    "pyplot.show()"
   ]
  },
  {
   "cell_type": "markdown",
   "metadata": {},
   "source": [
    "### 3ª Estrategia desbalanceo __Smote__"
   ]
  },
  {
   "cell_type": "code",
   "execution_count": 100,
   "metadata": {},
   "outputs": [],
   "source": [
    "# Balanceo con Smote\n",
    "sm = SMOTE(random_state = 2) "
   ]
  },
  {
   "cell_type": "code",
   "execution_count": 101,
   "metadata": {},
   "outputs": [],
   "source": [
    "clf_log_regressor_smote = LogisticRegression(solver = 'liblinear')"
   ]
  },
  {
   "cell_type": "code",
   "execution_count": 102,
   "metadata": {},
   "outputs": [
    {
     "data": {
      "text/plain": [
       "LogisticRegression(solver='liblinear')"
      ]
     },
     "execution_count": 102,
     "metadata": {},
     "output_type": "execute_result"
    }
   ],
   "source": [
    "clf_log_regressor_smote.fit(X,y)"
   ]
  },
  {
   "cell_type": "code",
   "execution_count": 103,
   "metadata": {},
   "outputs": [
    {
     "data": {
      "text/plain": [
       "array([0., 0., 0., ..., 0., 0., 0.])"
      ]
     },
     "execution_count": 103,
     "metadata": {},
     "output_type": "execute_result"
    }
   ],
   "source": [
    "clf_log_regressor_smote.predict(X)"
   ]
  },
  {
   "cell_type": "code",
   "execution_count": 104,
   "metadata": {},
   "outputs": [],
   "source": [
    "X_train_smote, y_train_smote = sm.fit_sample(X_train, y_train) "
   ]
  },
  {
   "cell_type": "code",
   "execution_count": 105,
   "metadata": {},
   "outputs": [
    {
     "name": "stdout",
     "output_type": "stream",
     "text": [
      "Antes de Smote : Counter({0.0: 288435, 1.0: 45814}) \n",
      "====================================\n",
      "Despues de Smote : Counter({0.0: 288435, 1.0: 288435}) \n"
     ]
    }
   ],
   "source": [
    "# Informacion de la distribucion del data set antes y despues de Smote\n",
    "print (\"Antes de Smote : {} \".format(Counter(y_train)))\n",
    "print('====================================')\n",
    "print (\"Despues de Smote : {} \".format(Counter(y_train_smote)))"
   ]
  },
  {
   "cell_type": "code",
   "execution_count": 106,
   "metadata": {},
   "outputs": [
    {
     "data": {
      "text/plain": [
       "LogisticRegression(solver='liblinear')"
      ]
     },
     "execution_count": 106,
     "metadata": {},
     "output_type": "execute_result"
    }
   ],
   "source": [
    "clf_log_regressor_smote.fit(X_train_smote, y_train_smote) "
   ]
  },
  {
   "cell_type": "code",
   "execution_count": 107,
   "metadata": {},
   "outputs": [
    {
     "data": {
      "text/plain": [
       "array([1., 0., 0., ..., 0., 1., 0.])"
      ]
     },
     "execution_count": 107,
     "metadata": {},
     "output_type": "execute_result"
    }
   ],
   "source": [
    "clf_log_regressor_smote.predict(X_test)"
   ]
  },
  {
   "cell_type": "code",
   "execution_count": 108,
   "metadata": {},
   "outputs": [
    {
     "data": {
      "text/plain": [
       "array([0.50517982, 0.14673553, 0.03125346, ..., 0.18933869, 0.82615103,\n",
       "       0.03354777])"
      ]
     },
     "execution_count": 108,
     "metadata": {},
     "output_type": "execute_result"
    }
   ],
   "source": [
    "clf_log_regressor_smote.predict_proba(X_test)[:, 1]"
   ]
  },
  {
   "cell_type": "markdown",
   "metadata": {},
   "source": [
    "##  CLR  Smote Resultados"
   ]
  },
  {
   "cell_type": "code",
   "execution_count": 109,
   "metadata": {},
   "outputs": [
    {
     "name": "stdout",
     "output_type": "stream",
     "text": [
      "==== CLR Smote RESULTADOS ====\n",
      "------------------------------------\n",
      "accuracy_score = 0.6800976508741907\n",
      "------------------------------------\n",
      "precision  = 0.2822421474087859\n",
      "------------------------------------\n",
      "recall = 0.8869395711500975\n",
      "------------------------------------\n",
      "f1_score = 0.42821697467488024\n",
      "------------------------------------\n",
      "roc_auc_score = 0.8283825158928472\n"
     ]
    }
   ],
   "source": [
    "accuracy_score_smote = accuracy_score(y_test,clf_log_regressor_smote.predict(X_test))\n",
    "precision_smote  = precision_score(y_test,clf_log_regressor_smote.predict(X_test))\n",
    "recall_smote = recall_score(y_test,clf_log_regressor_smote.predict(X_test))\n",
    "f1_score_smote = f1_score(y_test,clf_log_regressor_smote.predict(X_test))\n",
    "roc_auc_score_smote = roc_auc_score(y_test,clf_log_regressor_smote.predict_proba(X_test)[:, 1])\n",
    "\n",
    "print('==== CLR Smote RESULTADOS ====')\n",
    "print('------------------------------------')\n",
    "print ('accuracy_score =', accuracy_score_smote)\n",
    "print('------------------------------------')\n",
    "print('precision  =',precision_smote)\n",
    "print('------------------------------------')\n",
    "print('recall =', recall_smote)\n",
    "print('------------------------------------')\n",
    "print('f1_score =', f1_score_smote)\n",
    "print('------------------------------------')\n",
    "print('roc_auc_score =', roc_auc_score_smote)"
   ]
  },
  {
   "cell_type": "markdown",
   "metadata": {},
   "source": [
    "## Curva ROC Balanceada con Smote"
   ]
  },
  {
   "cell_type": "code",
   "execution_count": 110,
   "metadata": {},
   "outputs": [
    {
     "name": "stdout",
     "output_type": "stream",
     "text": [
      "Sin Entrenar: ROC AUC=0.500\n",
      "Logistic Regression: ROC AUC=0.828\n"
     ]
    },
    {
     "data": {
      "image/png": "[encoded data removed]",
      "text/plain": [
       "<Figure size 432x288 with 1 Axes>"
      ]
     },
     "metadata": {
      "needs_background": "light"
     },
     "output_type": "display_data"
    }
   ],
   "source": [
    "# Pintamos Curva Roc\n",
    "# Generamos un clasificador sin entrenar que asignada 0 a todo# We generate an untrained classifier, which will assign 0 to everything\n",
    "no_train = [0 for _ in range(len(X_test))]\n",
    "# Calculamos AUC\n",
    "ns_auc = roc_auc_score(y_test, no_train)\n",
    "lr_auc = roc_auc_score(y_test, clf_log_regressor_smote.predict_proba(X_test)[:, 1])\n",
    "# Print\n",
    "print('Sin Entrenar: ROC AUC=%.3f' % (ns_auc))\n",
    "print('Logistic Regression: ROC AUC=%.3f' % (lr_auc))\n",
    "# Claculamos la Curva ROc\n",
    "ns_fpr, ns_tpr, _ = roc_curve(y_test, no_train)\n",
    "lr_fpr, lr_tpr, _ = roc_curve(y_test, clf_log_regressor_smote.predict_proba(X_test)[:, 1])\n",
    "# Ploteamos\n",
    "pyplot.plot(ns_fpr, ns_tpr, linestyle='--', label='Sin Entrenar')\n",
    "pyplot.plot(lr_fpr, lr_tpr, marker='.', label=' clf_log_regressor' , color = \"y\")\n",
    "# Etiquetas\n",
    "pyplot.title('Curva Roc Balanceada con Smote')\n",
    "pyplot.xlabel('Tasa Falso Positivo')\n",
    "pyplot.ylabel('Tasa Verdadero Positivo')\n",
    "pyplot.legend()\n",
    "plt.savefig('C:/Users/manue/TFM/Financial-Product-Sales-Forecast-Model/Images/CLR Model - Roc Cuve Balanced with Smote.png', dpi=75,bbox_inches='tight')\n",
    "pyplot.show()"
   ]
  },
  {
   "cell_type": "code",
   "execution_count": 112,
   "metadata": {},
   "outputs": [
    {
     "name": "stdout",
     "output_type": "stream",
     "text": [
      "Resultados 1ª aproximacion: RECALL 0.022571, AUC 0.488038\n",
      "Resultados balanceado con Weight Balance: RECALL 0.887383, AUC 0.828233\n",
      "Resultados balanceado con Smote: RECALL 0.886940, AUC 0.828383\n",
      "Resultados balanceado con Nearmiss: RECALL 0.682881, AUC 0.718366\n"
     ]
    }
   ],
   "source": [
    "print('Resultados 1ª aproximacion: RECALL %f, AUC %f' %(recall_first_aproach, roc_auc_score_first_aproach))\n",
    "print('Resultados balanceado con Weight Balance: RECALL %f, AUC %f' %(recall_weigth_balance, roc_auc_score_weigth_balance))\n",
    "print('Resultados balanceado con Smote: RECALL %f, AUC %f' %(recall_smote, roc_auc_score_smote))\n",
    "print('Resultados balanceado con Nearmiss: RECALL %f, AUC %f' %(recall_nearmiss, roc_auc_score_nearmiss))"
   ]
  },
  {
   "cell_type": "markdown",
   "metadata": {},
   "source": [
    "# *** Conclusiones"
   ]
  },
  {
   "cell_type": "markdown",
   "metadata": {},
   "source": [
    " Las principales métricas elegidas para el modelo de clasificación de regresión logística para decidir si tenemos un buen resultado son la métrica Recall y la curva AUC - Roc. \n",
    " \n",
    " Resultados finales:\n",
    "\n",
    "       - Resultados 1er enfoque: RECALL 0.022571, AUC 0.488038\n",
    "       - Resultados con Balance de Peso: RECALL 0,887383, AUC 0,828233\n",
    "       - Resultados con Smote: RECALL 0.886940, AUC 0.828383\n",
    "       - Resultados con Nearmiss: RECALL 0,682881, AUC 0,718366\n",
    "- Comenzamos nuestro modelo con una __primera aproximación__ obteniendo resultados __muy mejorables__. Recall 0.02.__ La base de datos utilizada es la original sin ningún tipo de preprocesamiento. \n",
    "- Seguimos evolucionando nuestro modelo. No hemos utilizado base de datos con pca porque anteriormente en EDA hemos visto que no era necesario. Utilizamos la base de datos con normalización y codificador de etiquetas. \n",
    "- Confirmamos que nuestro conjunto de entrenamiento ha generalizado bien ya que no hay mucha diferencia entre los resultados obtenidos en Test y Train. Podemos descartar el overfitting lo hemos comprobado mediante la Validación Cruzada obteniendo las medias de las diferentes métricas.\n",
    "\n",
    "- Dado que nuestro __Objetivo está muy desequilibrado__ en un porcentaje del 87% (No) y del 13% (Sí), hemos utilizado _3 formas diferentes de tratamiento del overfitting en la estimación del modelo. El peso de la clase, el Nearmiss y el Smote. Después de entrenar las tres posibilidades, finalmente nos decantamos por Class Weigth.\n",
    "- Las métricas finales son: Recall 0,887 - Auc 0,835.\n",
    "- Matriz de confusión__ - En la diagonal de aciertos tenemos 46756 Verdaderos Negativos y 10015 Verdaderos Positivos. En nuestro modelo, la detección de los clientes que sí quieren contratar un seguro es prioritaria.  Necesitamos obtener una buena tasa de verdaderos positivos.  Detectando a aquellos clientes que son susceptibles de tener un seguro de hogar, podemos trabajar de forma más directa. Todo ello con el objetivo de optimizar el tiempo y la eficiencia comercial. El resultado de Recall obtenido es óptimo habiendo obtenido un 88%. La tasa de Auc es del 82%.\n",
    "- A pesar del resultado, nos faltan, entre otras muchas, variables y datos como los ingresos de los clientes, los hijos, el tipo de trabajo, el salario real en euros obtenido, el lugar de residencia... etc. \n",
    "- Seguiremos buscando con otros modelos mejores resultados con las variables disponibles."
   ]
  },
  {
   "cell_type": "code",
   "execution_count": null,
   "metadata": {},
   "outputs": [],
   "source": []
  }
 ],
 "metadata": {
  "kernelspec": {
   "display_name": "Python 3",
   "language": "python",
   "name": "python3"
  },
  "language_info": {
   "codemirror_mode": {
    "name": "ipython",
    "version": 3
   },
   "file_extension": ".py",
   "mimetype": "text/x-python",
   "name": "python",
   "nbconvert_exporter": "python",
   "pygments_lexer": "ipython3",
   "version": "3.8.5"
  }
 },
 "nbformat": 4,
 "nbformat_minor": 2
}
