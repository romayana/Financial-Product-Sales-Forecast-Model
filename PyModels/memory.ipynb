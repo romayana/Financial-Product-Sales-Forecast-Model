{
 "cells": [
  {
   "cell_type": "markdown",
   "metadata": {},
   "source": [
    "# MEMORY TFM"
   ]
  },
  {
   "cell_type": "markdown",
   "metadata": {},
   "source": [
    "# Estructura del TFM\n",
    "- 1) Requerimientos Tecnicos\n",
    "- 2) Carga de la Base de Datos\n",
    "- 3) Informacion sobre la Base de Datos\n",
    "- 4) Objetivo\n",
    "- 5) Datos: Extracción\n",
    "- 6) Cleanning & Merging\n",
    "- 7) Análisis EDA\n",
    "- 8) Feature Importances\n",
    "- 9) Preprocessing\n",
    "- 10) Modelo\n",
    "- 11) Interpretación de los resultados\n",
    "- 12) Conclusión"
   ]
  },
  {
   "cell_type": "markdown",
   "metadata": {},
   "source": [
    "## 1) Requerimientos Tecnicos\n"
   ]
  },
  {
   "cell_type": "markdown",
   "metadata": {},
   "source": [
    "\n",
    "\n",
    "Para ejecutar el codigo es necesario tener instalado Python version 2.7 o 3.6 asi como distintos paquetes o librerias. Se recomienda tener instalada la Suite Anaconda donde se entrontraran preinstalados la mayoria de los paquetes y librerias que son necesarios."
   ]
  },
  {
   "cell_type": "markdown",
   "metadata": {},
   "source": [
    "## 2) Carga de la Base de Datos\n"
   ]
  },
  {
   "cell_type": "code",
   "execution_count": null,
   "metadata": {},
   "outputs": [],
   "source": []
  },
  {
   "cell_type": "markdown",
   "metadata": {},
   "source": [
    "## 3) Informacion sobre la Base de Datos\n",
    "\n",
    "Para nuestro modelo hemos obtenido una base de datos de una entidad financiera con 450.000 clientes con informacion y  productos de cada uno de estos. Desde si el saldo que tiene en cuenta , fondo de inversion o plan de pension,  el recorrido comercial del cliente a ojos de la entidad financiera, si esta o no carteriazo o si tiene o no tiene productos como seguros, nominas, tarjetas o recibos domiciliados.\n",
    "\n",
    "    \n"
   ]
  },
  {
   "cell_type": "markdown",
   "metadata": {},
   "source": [
    "La informacion detallada del data set se encuentra dentro de una de las carpetas de este repositorio con el nombre de Data-Codes\n",
    "\n",
    "[PONER EL ENLACE A lOS DATA CODES]\n"
   ]
  },
  {
   "cell_type": "markdown",
   "metadata": {},
   "source": [
    "## 4) Objetivo\n",
    "\n",
    "Nuestro Objetivo es construir un modelo de clasificacion con el fin de identificar si un cliente de la entidad es susceptible de contratar o no un Seguro de hogar.  Utilizaremos distintos modelos de clasificacion que seran finalmente comparados para quedarnos con uno."
   ]
  },
  {
   "cell_type": "markdown",
   "metadata": {},
   "source": [
    "\n",
    "## 5) Datos: Extracción\n"
   ]
  },
  {
   "cell_type": "markdown",
   "metadata": {},
   "source": [
    "La estracción de los datos se ha realizado desde un sistema de informacion de gestion de una entidad financiera. Sistema de informacion que guarda millones de datos de cualquier tipo financiero."
   ]
  },
  {
   "cell_type": "markdown",
   "metadata": {},
   "source": [
    "Se han ido descargando archivos tipo excel relacionados con distintos epigrafes tales como saldos en cuenta, saldos en fondos de inversion o planes de pension, lineas de producto, seguros, tipo de segmentacion, todos ellos titularidad de 450.000 clientes."
   ]
  },
  {
   "cell_type": "markdown",
   "metadata": {},
   "source": [
    "Estos clientes se han distribuido y diferenciado en 11 Direcciones de Zona distintas, 9 archivos por cada una de estas Direcciones de Zona. "
   ]
  },
  {
   "cell_type": "markdown",
   "metadata": {},
   "source": [
    "Todos los archivos han sido anonimizados. Numero de identificador de cliente ha sido cambiado por una secuencia desde 1 a 450.000. Numeros y codigos de las Direcciones de Zona han sido cambiados por una secuencia del 1 al 11. Por ultimo se han eliminado nombres y direcciones."
   ]
  },
  {
   "cell_type": "markdown",
   "metadata": {},
   "source": [
    " [PONER EL ENLACE A LA IMAGEN ]\n",
    " \n",
    " "
   ]
  },
  {
   "cell_type": "markdown",
   "metadata": {},
   "source": [
    "## 6) Cleanning & Merging\n",
    "\n"
   ]
  },
  {
   "cell_type": "markdown",
   "metadata": {},
   "source": [
    "__Merge__. 11 Carpetas con 11 Direcciones de Zona y 9 archivos excel cada uno se funsionan en un solo Data Frame. Total 99 archivos excel individuales \n",
    "\n",
    " [PONER EL ENLACE AL NOTEBOOK]"
   ]
  },
  {
   "cell_type": "markdown",
   "metadata": {},
   "source": [
    "__Cleanning__. Realizamos un primer prepocesado de los datos generados con merge trabajando de inicio los valores Nans. Se han estudiado, detectado y rellenado  con distintos valores acordes a la categoria y segmento del dato.. Herramientas como Outliers, Escalado, Encoder o PCA se han utilizado directamente en los propios modelos como precuela al estudio del modelo\n",
    "\n",
    " [PONER EL ENLACE AL NOTEBOOK]"
   ]
  },
  {
   "cell_type": "markdown",
   "metadata": {},
   "source": [
    "## 7) Análisis EDA\n"
   ]
  },
  {
   "cell_type": "markdown",
   "metadata": {},
   "source": [
    "Comenzamos el analisis de nuestra base de datos analizando por primera vez el Data Frame . Nuestro objetivo es realizar un analisis exploratorio, estudiando los datos,  buscando posibles patrones, visualizando datos estadisticos como Minimo - Maximo - Medias - Desviaciones estandar...y encontrando posibles relaciones que nos seran utililes para entender el contexto del data Frame y posteriormente para nuestro modelo de Machine Learning.\n",
    "\n"
   ]
  },
  {
   "cell_type": "markdown",
   "metadata": {},
   "source": [
    "Con este analisis esperamos obtener informacion basica de todo el Data Frame e informacion mas profunda de la variable objetivo  __Target Seguro de Hogar__"
   ]
  },
  {
   "cell_type": "markdown",
   "metadata": {},
   "source": [
    "Iremos cargando las librerias que vamos a usar para nuestro modelo segun las vayamos necesitando. "
   ]
  },
  {
   "cell_type": "code",
   "execution_count": 1,
   "metadata": {},
   "outputs": [],
   "source": [
    "# Librería que permite trabajar con datos estructurados en filas y columnas\n",
    "import pandas as pd"
   ]
  },
  {
   "cell_type": "code",
   "execution_count": 2,
   "metadata": {},
   "outputs": [],
   "source": [
    "#Leemos la base de datos y asociamos a la variable df el data set\n",
    "df = pd.read_csv('/home/dsc/Master-Kschool/TFM/Financial-Product-Sales-Forecast-Model/0rigin_data/cleanned_data/df.tfm')"
   ]
  },
  {
   "cell_type": "code",
   "execution_count": 3,
   "metadata": {},
   "outputs": [
    {
     "data": {
      "text/html": [
       "<div>\n",
       "<style scoped>\n",
       "    .dataframe tbody tr th:only-of-type {\n",
       "        vertical-align: middle;\n",
       "    }\n",
       "\n",
       "    .dataframe tbody tr th {\n",
       "        vertical-align: top;\n",
       "    }\n",
       "\n",
       "    .dataframe thead th {\n",
       "        text-align: right;\n",
       "    }\n",
       "</style>\n",
       "<table border=\"1\" class=\"dataframe\">\n",
       "  <thead>\n",
       "    <tr style=\"text-align: right;\">\n",
       "      <th></th>\n",
       "      <th>cliente</th>\n",
       "      <th>saldo_captacion</th>\n",
       "      <th>esta_carterizado</th>\n",
       "      <th>cliente_bbp</th>\n",
       "      <th>tipo_gestor</th>\n",
       "      <th>gestor</th>\n",
       "      <th>cartera_patron</th>\n",
       "      <th>codigo_cartera</th>\n",
       "      <th>digital_3_meses</th>\n",
       "      <th>camino_digital</th>\n",
       "      <th>...</th>\n",
       "      <th>edad</th>\n",
       "      <th>seg_valor</th>\n",
       "      <th>seg_recorrido</th>\n",
       "      <th>dz</th>\n",
       "      <th>oficina</th>\n",
       "      <th>lp_seg_vida</th>\n",
       "      <th>lp_seg_acc</th>\n",
       "      <th>lp_seg_salud</th>\n",
       "      <th>lp_seg_hogar</th>\n",
       "      <th>lp_seg_auto</th>\n",
       "    </tr>\n",
       "  </thead>\n",
       "  <tbody>\n",
       "    <tr>\n",
       "      <th>236818</th>\n",
       "      <td>236819</td>\n",
       "      <td>9151.94</td>\n",
       "      <td>SI</td>\n",
       "      <td>NO</td>\n",
       "      <td>ASESOR FINANCIERO</td>\n",
       "      <td>14642.0</td>\n",
       "      <td>TUTELA</td>\n",
       "      <td>27735.0</td>\n",
       "      <td>SI</td>\n",
       "      <td>CONSULTIVO</td>\n",
       "      <td>...</td>\n",
       "      <td>45.0</td>\n",
       "      <td>BAJO</td>\n",
       "      <td>MEDIO RECORRIDO</td>\n",
       "      <td>1</td>\n",
       "      <td>115</td>\n",
       "      <td>0</td>\n",
       "      <td>0</td>\n",
       "      <td>0</td>\n",
       "      <td>0</td>\n",
       "      <td>0</td>\n",
       "    </tr>\n",
       "    <tr>\n",
       "      <th>162046</th>\n",
       "      <td>162047</td>\n",
       "      <td>108339.27</td>\n",
       "      <td>SI</td>\n",
       "      <td>NO</td>\n",
       "      <td>ASESOR FINANCIERO</td>\n",
       "      <td>41319.0</td>\n",
       "      <td>ASESORAMIENTO FINANCIERO</td>\n",
       "      <td>15954.0</td>\n",
       "      <td>SI</td>\n",
       "      <td>CONSULTIVO</td>\n",
       "      <td>...</td>\n",
       "      <td>57.0</td>\n",
       "      <td>ALTO</td>\n",
       "      <td>ALTO RECORRIDO</td>\n",
       "      <td>3</td>\n",
       "      <td>322</td>\n",
       "      <td>0</td>\n",
       "      <td>0</td>\n",
       "      <td>0</td>\n",
       "      <td>0</td>\n",
       "      <td>1</td>\n",
       "    </tr>\n",
       "    <tr>\n",
       "      <th>244196</th>\n",
       "      <td>244197</td>\n",
       "      <td>582.52</td>\n",
       "      <td>SI</td>\n",
       "      <td>NO</td>\n",
       "      <td>ASESOR FINANCIERO</td>\n",
       "      <td>15942.0</td>\n",
       "      <td>ASESORAMIENTO FINANCIERO</td>\n",
       "      <td>14743.0</td>\n",
       "      <td>SI</td>\n",
       "      <td>TRANSACCIONAL</td>\n",
       "      <td>...</td>\n",
       "      <td>47.0</td>\n",
       "      <td>ALTO</td>\n",
       "      <td>ALTO RECORRIDO</td>\n",
       "      <td>8</td>\n",
       "      <td>813</td>\n",
       "      <td>0</td>\n",
       "      <td>0</td>\n",
       "      <td>0</td>\n",
       "      <td>0</td>\n",
       "      <td>0</td>\n",
       "    </tr>\n",
       "    <tr>\n",
       "      <th>41604</th>\n",
       "      <td>41605</td>\n",
       "      <td>38859.62</td>\n",
       "      <td>SI</td>\n",
       "      <td>NO</td>\n",
       "      <td>ASESOR FINANCIERO</td>\n",
       "      <td>31035.0</td>\n",
       "      <td>TUTELA</td>\n",
       "      <td>39691.0</td>\n",
       "      <td>NO</td>\n",
       "      <td>SIN USO</td>\n",
       "      <td>...</td>\n",
       "      <td>84.0</td>\n",
       "      <td>ALTO</td>\n",
       "      <td>BAJO RECORRIDO</td>\n",
       "      <td>11</td>\n",
       "      <td>1114</td>\n",
       "      <td>0</td>\n",
       "      <td>0</td>\n",
       "      <td>0</td>\n",
       "      <td>0</td>\n",
       "      <td>0</td>\n",
       "    </tr>\n",
       "    <tr>\n",
       "      <th>136679</th>\n",
       "      <td>136680</td>\n",
       "      <td>95907.84</td>\n",
       "      <td>SI</td>\n",
       "      <td>NO</td>\n",
       "      <td>ASESOR FINANCIERO</td>\n",
       "      <td>33916.0</td>\n",
       "      <td>ASESORAMIENTO FINANCIERO</td>\n",
       "      <td>16502.0</td>\n",
       "      <td>SI</td>\n",
       "      <td>TRANSACCIONAL</td>\n",
       "      <td>...</td>\n",
       "      <td>60.0</td>\n",
       "      <td>ALTO</td>\n",
       "      <td>BAJO RECORRIDO</td>\n",
       "      <td>2</td>\n",
       "      <td>217</td>\n",
       "      <td>1</td>\n",
       "      <td>0</td>\n",
       "      <td>0</td>\n",
       "      <td>0</td>\n",
       "      <td>0</td>\n",
       "    </tr>\n",
       "  </tbody>\n",
       "</table>\n",
       "<p>5 rows × 30 columns</p>\n",
       "</div>"
      ],
      "text/plain": [
       "        cliente  saldo_captacion esta_carterizado cliente_bbp  \\\n",
       "236818   236819          9151.94               SI          NO   \n",
       "162046   162047        108339.27               SI          NO   \n",
       "244196   244197           582.52               SI          NO   \n",
       "41604     41605         38859.62               SI          NO   \n",
       "136679   136680         95907.84               SI          NO   \n",
       "\n",
       "              tipo_gestor   gestor            cartera_patron  codigo_cartera  \\\n",
       "236818  ASESOR FINANCIERO  14642.0                    TUTELA         27735.0   \n",
       "162046  ASESOR FINANCIERO  41319.0  ASESORAMIENTO FINANCIERO         15954.0   \n",
       "244196  ASESOR FINANCIERO  15942.0  ASESORAMIENTO FINANCIERO         14743.0   \n",
       "41604   ASESOR FINANCIERO  31035.0                    TUTELA         39691.0   \n",
       "136679  ASESOR FINANCIERO  33916.0  ASESORAMIENTO FINANCIERO         16502.0   \n",
       "\n",
       "       digital_3_meses camino_digital  ...  edad  seg_valor    seg_recorrido  \\\n",
       "236818              SI     CONSULTIVO  ...  45.0       BAJO  MEDIO RECORRIDO   \n",
       "162046              SI     CONSULTIVO  ...  57.0       ALTO   ALTO RECORRIDO   \n",
       "244196              SI  TRANSACCIONAL  ...  47.0       ALTO   ALTO RECORRIDO   \n",
       "41604               NO        SIN USO  ...  84.0       ALTO   BAJO RECORRIDO   \n",
       "136679              SI  TRANSACCIONAL  ...  60.0       ALTO   BAJO RECORRIDO   \n",
       "\n",
       "        dz  oficina  lp_seg_vida  lp_seg_acc  lp_seg_salud lp_seg_hogar  \\\n",
       "236818   1      115            0           0             0            0   \n",
       "162046   3      322            0           0             0            0   \n",
       "244196   8      813            0           0             0            0   \n",
       "41604   11     1114            0           0             0            0   \n",
       "136679   2      217            1           0             0            0   \n",
       "\n",
       "       lp_seg_auto  \n",
       "236818           0  \n",
       "162046           1  \n",
       "244196           0  \n",
       "41604            0  \n",
       "136679           0  \n",
       "\n",
       "[5 rows x 30 columns]"
      ]
     },
     "execution_count": 3,
     "metadata": {},
     "output_type": "execute_result"
    }
   ],
   "source": [
    "# Generamos una muestra aleatoria. Sacamos por pantalla 5 filas mediante la funcion sample.\n",
    "# De esta forma visualizamos la estructura.\n",
    "df.sample(5)"
   ]
  },
  {
   "cell_type": "code",
   "execution_count": 4,
   "metadata": {},
   "outputs": [
    {
     "name": "stdout",
     "output_type": "stream",
     "text": [
      "Filas =  451374\n",
      "Columnas =  30\n",
      "Datos =  13541220\n"
     ]
    }
   ],
   "source": [
    "# Imprimimos Dimension y Forma del Data Frame. \n",
    "# La base de datos consta de 451.374 filas, 30 columnas / Features y 13.5mm de datos. \n",
    "print('Filas = ', df.shape[0])\n",
    "print('Columnas = ', df.shape[1])\n",
    "print('Datos = ',df.size)"
   ]
  },
  {
   "cell_type": "code",
   "execution_count": 5,
   "metadata": {},
   "outputs": [
    {
     "data": {
      "text/plain": [
       "Index(['cliente', 'saldo_captacion', 'esta_carterizado', 'cliente_bbp',\n",
       "       'tipo_gestor', 'gestor', 'cartera_patron', 'codigo_cartera',\n",
       "       'digital_3_meses', 'camino_digital', 'saldo_financiacion', 'saldo_ffii',\n",
       "       'saldo_plp', 'lp_dom_ingresos', 'lp_tjta_cto', 'lp_tjt_rev', 'lp_rbos',\n",
       "       'lp_of_int', 'marca_bp', 'marca_ccte', 'edad', 'seg_valor',\n",
       "       'seg_recorrido', 'dz', 'oficina', 'lp_seg_vida', 'lp_seg_acc',\n",
       "       'lp_seg_salud', 'lp_seg_hogar', 'lp_seg_auto'],\n",
       "      dtype='object')"
      ]
     },
     "execution_count": 5,
     "metadata": {},
     "output_type": "execute_result"
    }
   ],
   "source": [
    "# Identificamos el Nombre de las Columnas \n",
    "df.columns"
   ]
  },
  {
   "cell_type": "markdown",
   "metadata": {},
   "source": [
    "### Informacion de las columnas - existencia de nulos y tipos de datos.  Comprobamos que el DF no tiene NANs y que los tipos de datos son los siguientes:\n",
    "\n",
    "- float64 (7 variables)\n",
    "- int64    (13 variables)\n",
    "- object (10 variables)\n",
    "    "
   ]
  },
  {
   "cell_type": "code",
   "execution_count": 6,
   "metadata": {
    "scrolled": false
   },
   "outputs": [
    {
     "name": "stdout",
     "output_type": "stream",
     "text": [
      "<class 'pandas.core.frame.DataFrame'>\n",
      "RangeIndex: 451374 entries, 0 to 451373\n",
      "Data columns (total 30 columns):\n",
      " #   Column              Non-Null Count   Dtype  \n",
      "---  ------              --------------   -----  \n",
      " 0   cliente             451374 non-null  int64  \n",
      " 1   saldo_captacion     451374 non-null  float64\n",
      " 2   esta_carterizado    451374 non-null  object \n",
      " 3   cliente_bbp         451374 non-null  object \n",
      " 4   tipo_gestor         451374 non-null  object \n",
      " 5   gestor              451374 non-null  float64\n",
      " 6   cartera_patron      451374 non-null  object \n",
      " 7   codigo_cartera      451374 non-null  float64\n",
      " 8   digital_3_meses     451374 non-null  object \n",
      " 9   camino_digital      451374 non-null  object \n",
      " 10  saldo_financiacion  451374 non-null  float64\n",
      " 11  saldo_ffii          451374 non-null  float64\n",
      " 12  saldo_plp           451374 non-null  float64\n",
      " 13  lp_dom_ingresos     451374 non-null  int64  \n",
      " 14  lp_tjta_cto         451374 non-null  int64  \n",
      " 15  lp_tjt_rev          451374 non-null  int64  \n",
      " 16  lp_rbos             451374 non-null  int64  \n",
      " 17  lp_of_int           451374 non-null  int64  \n",
      " 18  marca_bp            451374 non-null  object \n",
      " 19  marca_ccte          451374 non-null  object \n",
      " 20  edad                451374 non-null  float64\n",
      " 21  seg_valor           451374 non-null  object \n",
      " 22  seg_recorrido       451374 non-null  object \n",
      " 23  dz                  451374 non-null  int64  \n",
      " 24  oficina             451374 non-null  int64  \n",
      " 25  lp_seg_vida         451374 non-null  int64  \n",
      " 26  lp_seg_acc          451374 non-null  int64  \n",
      " 27  lp_seg_salud        451374 non-null  int64  \n",
      " 28  lp_seg_hogar        451374 non-null  int64  \n",
      " 29  lp_seg_auto         451374 non-null  int64  \n",
      "dtypes: float64(7), int64(13), object(10)\n",
      "memory usage: 103.3+ MB\n"
     ]
    }
   ],
   "source": [
    "# El método info muestra un resumen de nuestro dataframe.\n",
    "# Incluye información sobre el tipo de los índices de filas, columnas y los valores no nulos. \n",
    "# dtypes - int64(13), object(10), float64(7)\n",
    "# Finalmente nos oferce informacion de la memoria usada:103.3+ MB\n",
    "df.info()"
   ]
  },
  {
   "cell_type": "markdown",
   "metadata": {},
   "source": [
    "### El DF esta formado por 30 variables distintas las cuales vamos a segmentar y distinguir por bloques de cara a un mejor estudio.\n",
    "\n",
    "- Bloque 1 - Variables unidades de negocio 5 \n",
    "- Bloque 2 - Variables Edad 1 \n",
    "- Bloque 3 - Variables de Ahorro - Financiación 4 \n",
    "- Bloque 4 - Variables de Servicios 5 \n",
    "- Bloque 5 - Variables de Seguros 5\n",
    "- Bloque 6 - Variables Categoricas de Segmentacion 10 \n"
   ]
  },
  {
   "cell_type": "code",
   "execution_count": 7,
   "metadata": {},
   "outputs": [],
   "source": [
    "# Unificamos variables por bloques\n",
    "variables_edad = df['edad']\n",
    "variables_unidad_negocio = df[['cliente','gestor','codigo_cartera','oficina','dz']]\n",
    "variables_ahorro_financiacion = df[['saldo_captacion','saldo_financiacion','saldo_ffii','saldo_plp']]\n",
    "variables_servicio = df[['lp_dom_ingresos','lp_tjta_cto','lp_tjt_rev','lp_rbos','lp_of_int']]\n",
    "variables_seguros = df[['lp_seg_vida','lp_seg_acc','lp_seg_salud','lp_seg_auto','lp_seg_hogar']]\n",
    "variables_segmentacion = df[['esta_carterizado','cliente_bbp','tipo_gestor','cartera_patron',\n",
    "                            'digital_3_meses','camino_digital','marca_bp','marca_ccte',\n",
    "                            'seg_valor','seg_recorrido']]"
   ]
  },
  {
   "cell_type": "markdown",
   "metadata": {},
   "source": [
    "### __Estudiamos las variables por  Bloques, mediante visualizacion por histrogramas y descripcion estadistica.__ \n",
    "\n"
   ]
  },
  {
   "cell_type": "markdown",
   "metadata": {},
   "source": [
    "### Bloque 1  CONTEXTO Variables unidades de Negocio  "
   ]
  },
  {
   "cell_type": "code",
   "execution_count": 8,
   "metadata": {},
   "outputs": [],
   "source": [
    "# Cargamos Libreria Visualizacion\n",
    "import matplotlib.pyplot as plt"
   ]
  },
  {
   "cell_type": "code",
   "execution_count": 9,
   "metadata": {
    "scrolled": false
   },
   "outputs": [
    {
     "name": "stdout",
     "output_type": "stream",
     "text": [
      "INFORMACION VARIABLES UNIDADES DE NEGOCIO\n",
      "-----------------------------------------\n",
      "Numero Clientes:  451374\n",
      "Numero DZs:       11\n",
      "Numero Oficinas:  162\n",
      "Numero Gestores:  458\n"
     ]
    }
   ],
   "source": [
    "#  **** MAPA CONTEXTUAL **** Informacion Unidades de Negocio.\n",
    "print('INFORMACION VARIABLES UNIDADES DE NEGOCIO')\n",
    "print('-----------------------------------------')  \n",
    "print('Numero Clientes: ', df['cliente'].nunique())\n",
    "print('Numero DZs:      ',df['dz'].nunique())\n",
    "print('Numero Oficinas: ', df['oficina'].nunique())\n",
    "print('Numero Gestores: ', df['gestor'].nunique())\n"
   ]
  },
  {
   "cell_type": "code",
   "execution_count": 10,
   "metadata": {
    "scrolled": false
   },
   "outputs": [
    {
     "name": "stdout",
     "output_type": "stream",
     "text": [
      "Numero de Oficinas por DZ \n",
      "dz\n",
      "1     15\n",
      "2     13\n",
      "3     17\n",
      "4     16\n",
      "5     17\n",
      "6     15\n",
      "7     13\n",
      "8     11\n",
      "9     16\n",
      "10    15\n",
      "11    14\n",
      "Name: oficina, dtype: int64\n"
     ]
    },
    {
     "data": {
      "image/png": "[encoded data removed]",
      "text/plain": [
       "<Figure size 432x288 with 1 Axes>"
      ]
     },
     "metadata": {
      "needs_background": "light"
     },
     "output_type": "display_data"
    }
   ],
   "source": [
    "# Numero oficinas por cada Direccion de Zona\n",
    "print('Numero de Oficinas por DZ ')\n",
    "print(df.groupby('dz')['oficina'].nunique())\n",
    "df.groupby('dz')['oficina'].nunique().plot(kind = 'bar', legend = 'Reverse', grid = False, color = 'r', \n",
    "                                           rot = True, edgecolor = 'black',  linewidth=1)\n",
    "plt.show()"
   ]
  },
  {
   "cell_type": "code",
   "execution_count": 11,
   "metadata": {
    "scrolled": false
   },
   "outputs": [
    {
     "name": "stdout",
     "output_type": "stream",
     "text": [
      "Numero de Clientes por DZ \n",
      "dz\n",
      "1     45534\n",
      "2     35406\n",
      "3     48081\n",
      "4     38749\n",
      "5     51468\n",
      "6     42198\n",
      "7     37926\n",
      "8     21690\n",
      "9     40227\n",
      "10    42360\n",
      "11    47735\n",
      "Name: cliente, dtype: int64\n"
     ]
    },
    {
     "data": {
      "image/png": "[encoded data removed]",
      "text/plain": [
       "<Figure size 432x288 with 1 Axes>"
      ]
     },
     "metadata": {
      "needs_background": "light"
     },
     "output_type": "display_data"
    }
   ],
   "source": [
    "# Numero Clientes por cada Direccion de Zona\n",
    "print('Numero de Clientes por DZ ')\n",
    "print(df.groupby('dz')['cliente'].nunique())\n",
    "numero_clientes_por_dz = df.groupby('dz')['cliente'].nunique().sort_values(ascending = False)\n",
    "numero_clientes_por_dz.plot(kind = 'bar',\n",
    "                            legend = 'Reverse', \n",
    "                            grid = False, \n",
    "                            color = 'r',\n",
    "                            rot = True,\n",
    "                            edgecolor = 'black',\n",
    "                            linewidth=1)\n",
    "plt.show()"
   ]
  },
  {
   "cell_type": "code",
   "execution_count": 12,
   "metadata": {},
   "outputs": [
    {
     "data": {
      "text/plain": [
       "count     162.000000\n",
       "mean     2786.259259\n",
       "std      1025.420335\n",
       "min      1185.000000\n",
       "25%      2000.500000\n",
       "50%      2619.500000\n",
       "75%      3357.000000\n",
       "max      5755.000000\n",
       "Name: cliente, dtype: float64"
      ]
     },
     "execution_count": 12,
     "metadata": {},
     "output_type": "execute_result"
    }
   ],
   "source": [
    "# Numero Clientes por oficina\n",
    "# Informacion estadistica de los clientes por oficinas\n",
    "df.groupby('oficina')['cliente'].nunique().describe()"
   ]
  },
  {
   "cell_type": "code",
   "execution_count": 13,
   "metadata": {
    "scrolled": false
   },
   "outputs": [
    {
     "data": {
      "image/png": "[encoded data removed]",
      "text/plain": [
       "<Figure size 432x288 with 1 Axes>"
      ]
     },
     "metadata": {
      "needs_background": "light"
     },
     "output_type": "display_data"
    },
    {
     "data": {
      "text/plain": [
       "count    11.000000\n",
       "mean     45.818182\n",
       "std       8.931049\n",
       "min      25.000000\n",
       "25%      41.500000\n",
       "50%      48.000000\n",
       "75%      52.500000\n",
       "max      55.000000\n",
       "Name: gestor, dtype: float64"
      ]
     },
     "execution_count": 13,
     "metadata": {},
     "output_type": "execute_result"
    }
   ],
   "source": [
    "# Numero de gestores por DZ\n",
    "numero_gestores_por_dz = df.groupby('dz')['gestor'].nunique().sort_values(ascending = False)\n",
    "numero_gestores_por_dz.plot(kind = 'bar', \n",
    "                            legend = 'Reverse', \n",
    "                            grid = False, \n",
    "                            color = 'r', \n",
    "                            rot = True,\n",
    "                            edgecolor = 'black', \n",
    "                            linewidth=1)\n",
    "plt.show()\n",
    "df.groupby('dz')['gestor'].nunique().describe()\n"
   ]
  },
  {
   "cell_type": "markdown",
   "metadata": {},
   "source": [
    "Conclusiones.\n",
    "\n",
    "******************__poner conclusiones__******************\n",
    "\n"
   ]
  },
  {
   "cell_type": "markdown",
   "metadata": {},
   "source": [
    "### Bloque 2  Variable Edad "
   ]
  },
  {
   "cell_type": "code",
   "execution_count": 14,
   "metadata": {
    "scrolled": false
   },
   "outputs": [
    {
     "data": {
      "text/plain": [
       "count    451374.000000\n",
       "mean         58.268941\n",
       "std          19.018368\n",
       "min           0.000000\n",
       "25%          45.000000\n",
       "50%          60.000000\n",
       "75%          73.000000\n",
       "max         118.000000\n",
       "Name: edad, dtype: float64"
      ]
     },
     "execution_count": 14,
     "metadata": {},
     "output_type": "execute_result"
    },
    {
     "data": {
      "image/png": "[encoded data removed]",
      "text/plain": [
       "<Figure size 432x288 with 1 Axes>"
      ]
     },
     "metadata": {
      "needs_background": "light"
     },
     "output_type": "display_data"
    }
   ],
   "source": [
    "# Graficamos y representamos la distribucion de la Variable edad mediante un histograma.\n",
    "# Mediante la funcion describe listamos sus principales estadisticas descriptivas.\n",
    "# Distribucion normal sesgada hacia la derecha.\n",
    "#\n",
    "variables_edad.hist(color = 'r', bins = 15, grid = False, edgecolor = 'black',  linewidth = 1);\n",
    "plt.axvline(variables_edad.mean(), color='black')\n",
    "plt.axvline(variables_edad.median(), color='y')\n",
    "plt.xlabel('Edad')\n",
    "plt.ylabel('Nº Clientes')\n",
    "variables_edad.describe()"
   ]
  },
  {
   "cell_type": "code",
   "execution_count": 15,
   "metadata": {},
   "outputs": [
    {
     "data": {
      "text/plain": [
       "segmentacion_por_edad\n",
       "50-90     292895\n",
       "25-50     121987\n",
       "18-25      16805\n",
       "0-18       10856\n",
       "90-110      8808\n",
       "Name: cliente, dtype: int64"
      ]
     },
     "execution_count": 15,
     "metadata": {},
     "output_type": "execute_result"
    }
   ],
   "source": [
    "# Generamos una nueva variable de segmentacion de clientes por edades para ver los tramos de edad.\n",
    "# Esta segmentacion sirve tomar la decision de eliminar de nuestro modelo a clientes de ciertos rangos.\n",
    "# Clientes entre 0 y 20 años y mas de 90 años no es comun que dispongan de un seguro de hogar.\n",
    "#df['segmentacion_por_edad'] = pd.cut(df.edad, bins = [0,10,20,30,40,50,60,70,80,90,100,110],\n",
    "#                     labels= ['0-10','10-20','20-30','30-40','40,50','50-60',\n",
    " #                             '60-70','70-80','80-90','90-100','100-110'])\n",
    "\n",
    "df['segmentacion_por_edad'] = pd.cut(df.edad, bins = [0,18,25,50,90,110],\n",
    "                     labels= ['0-18','18-25','25-50','50-90','90-110'])\n",
    "\n",
    "df['cliente'].groupby(df['segmentacion_por_edad']).count().sort_values(ascending = False)"
   ]
  },
  {
   "cell_type": "markdown",
   "metadata": {},
   "source": [
    "__Conclusiones__\n",
    "\n",
    "- De cara a nuestro modelo eliminaremos a los clientes entre los rangos de edad 0-25 y 90 y superiores.\n",
    "- La realidad a la hora de contratar un seguro de hogar es que menores de edad y jovenes hasta los 25 años no contratan ya que sencillamente no disponen de vivienda propia.  \n",
    "- En cuanto a los clientes de mas de 90 años normalmente son los hijos quienes se hacer responsables de los seguros de hogar por lo que vamos a eliminarlos del modelo."
   ]
  },
  {
   "cell_type": "markdown",
   "metadata": {},
   "source": [
    "### Bloque 3  Variables Ahorro - Financiacion"
   ]
  },
  {
   "cell_type": "code",
   "execution_count": 16,
   "metadata": {
    "scrolled": false
   },
   "outputs": [
    {
     "data": {
      "text/html": [
       "<div>\n",
       "<style scoped>\n",
       "    .dataframe tbody tr th:only-of-type {\n",
       "        vertical-align: middle;\n",
       "    }\n",
       "\n",
       "    .dataframe tbody tr th {\n",
       "        vertical-align: top;\n",
       "    }\n",
       "\n",
       "    .dataframe thead th {\n",
       "        text-align: right;\n",
       "    }\n",
       "</style>\n",
       "<table border=\"1\" class=\"dataframe\">\n",
       "  <thead>\n",
       "    <tr style=\"text-align: right;\">\n",
       "      <th></th>\n",
       "      <th>saldo_captacion</th>\n",
       "      <th>saldo_financiacion</th>\n",
       "      <th>saldo_ffii</th>\n",
       "      <th>saldo_plp</th>\n",
       "    </tr>\n",
       "  </thead>\n",
       "  <tbody>\n",
       "    <tr>\n",
       "      <th>count</th>\n",
       "      <td>4.513740e+05</td>\n",
       "      <td>4.513740e+05</td>\n",
       "      <td>4.513740e+05</td>\n",
       "      <td>451374.000000</td>\n",
       "    </tr>\n",
       "    <tr>\n",
       "      <th>mean</th>\n",
       "      <td>4.971455e+04</td>\n",
       "      <td>1.380668e+04</td>\n",
       "      <td>8.483663e+03</td>\n",
       "      <td>1728.478326</td>\n",
       "    </tr>\n",
       "    <tr>\n",
       "      <th>std</th>\n",
       "      <td>8.792364e+04</td>\n",
       "      <td>4.296438e+04</td>\n",
       "      <td>3.844671e+04</td>\n",
       "      <td>10780.622435</td>\n",
       "    </tr>\n",
       "    <tr>\n",
       "      <th>min</th>\n",
       "      <td>-5.104332e+04</td>\n",
       "      <td>-4.900000e+03</td>\n",
       "      <td>0.000000e+00</td>\n",
       "      <td>0.000000</td>\n",
       "    </tr>\n",
       "    <tr>\n",
       "      <th>25%</th>\n",
       "      <td>1.813182e+03</td>\n",
       "      <td>0.000000e+00</td>\n",
       "      <td>0.000000e+00</td>\n",
       "      <td>0.000000</td>\n",
       "    </tr>\n",
       "    <tr>\n",
       "      <th>50%</th>\n",
       "      <td>1.520828e+04</td>\n",
       "      <td>0.000000e+00</td>\n",
       "      <td>0.000000e+00</td>\n",
       "      <td>0.000000</td>\n",
       "    </tr>\n",
       "    <tr>\n",
       "      <th>75%</th>\n",
       "      <td>6.446964e+04</td>\n",
       "      <td>6.841775e+02</td>\n",
       "      <td>0.000000e+00</td>\n",
       "      <td>0.000000</td>\n",
       "    </tr>\n",
       "    <tr>\n",
       "      <th>max</th>\n",
       "      <td>5.290216e+06</td>\n",
       "      <td>2.896317e+06</td>\n",
       "      <td>3.130940e+06</td>\n",
       "      <td>459937.460000</td>\n",
       "    </tr>\n",
       "  </tbody>\n",
       "</table>\n",
       "</div>"
      ],
      "text/plain": [
       "       saldo_captacion  saldo_financiacion    saldo_ffii      saldo_plp\n",
       "count     4.513740e+05        4.513740e+05  4.513740e+05  451374.000000\n",
       "mean      4.971455e+04        1.380668e+04  8.483663e+03    1728.478326\n",
       "std       8.792364e+04        4.296438e+04  3.844671e+04   10780.622435\n",
       "min      -5.104332e+04       -4.900000e+03  0.000000e+00       0.000000\n",
       "25%       1.813182e+03        0.000000e+00  0.000000e+00       0.000000\n",
       "50%       1.520828e+04        0.000000e+00  0.000000e+00       0.000000\n",
       "75%       6.446964e+04        6.841775e+02  0.000000e+00       0.000000\n",
       "max       5.290216e+06        2.896317e+06  3.130940e+06  459937.460000"
      ]
     },
     "execution_count": 16,
     "metadata": {},
     "output_type": "execute_result"
    },
    {
     "data": {
      "image/png": "[encoded data removed]",
      "text/plain": [
       "<Figure size 1080x504 with 4 Axes>"
      ]
     },
     "metadata": {
      "needs_background": "light"
     },
     "output_type": "display_data"
    }
   ],
   "source": [
    "# Variables Ahorro Financiacion 'saldo_captacion','saldo_financiacion','saldo_ffii','saldo_plp'.\n",
    "# Se observa como la mayoria de los clientes tienen poco saldo en cada una de las variables de ahorro.\n",
    "# Hay concentracion de clientes con saldos bajos o igual a cero.\n",
    "# En el modelo estas variables seran estudiadas para una posible transformacion.\n",
    "variables_ahorro_financiacion.hist(figsize = (15,7), color = 'r', bins = 20, edgecolor = 'black', linewidth=1);\n",
    "variables_ahorro_financiacion.describe()"
   ]
  },
  {
   "cell_type": "code",
   "execution_count": 17,
   "metadata": {},
   "outputs": [
    {
     "name": "stdout",
     "output_type": "stream",
     "text": [
      "Numero Total Clientes:  451374\n",
      "Nº Clientes sin Fondos Inv:  390442\n",
      "Nº Clientes sin Planes Pension: 404808\n",
      "Nº Clientes con Financiacion: 223894\n"
     ]
    }
   ],
   "source": [
    "print('Numero Total Clientes: ', df['cliente'].count())\n",
    "print('Nº Clientes sin Fondos Inv: ', df[df['saldo_ffii'] == 0]['cliente'].count())\n",
    "print('Nº Clientes sin Planes Pension:', df[df['saldo_plp'] == 0]['cliente'].count())\n",
    "print('Nº Clientes con Financiacion:',df[df['saldo_financiacion'] > 1]['cliente'].count())"
   ]
  },
  {
   "cell_type": "markdown",
   "metadata": {},
   "source": [
    "__Conclusiones.__\n",
    "\n",
    "- En una primera visualizacion con los histogramas,  ya detectamos que en los epigrafes de ffii, plp y financiacion, son muy pocos los clientes que disponen de saldos superiores a 0€ o relevantes a efectos de financiacion.\n",
    "- La realidad comercial es que el hecho de disponer saldos en Fondos de Inversion o Planes de Pension no es una de las condiciones que lleven a los clientes a contratar o no un Seguro de Hogar.  \n",
    "- En cuanto a la financiacion vemos que hay un 50% de clientes que si disponen de financiacon. Mantenemos la variable.\n",
    "- Fondos de Inversion y Planes de Pensionseran convertidas de cara al modelo en variables categorias booleanas. Los valores asignados seran 0 si no tiene y 1 si tiene. De esta  forma simplificaremos el estudio.  \n",
    "- Variable Captacion.  Son valores reales. Solamente modificaremos los negativos y les damos valor de la media.\n"
   ]
  },
  {
   "cell_type": "markdown",
   "metadata": {},
   "source": [
    "### Bloque 4 Variables de Servicios"
   ]
  },
  {
   "cell_type": "code",
   "execution_count": 18,
   "metadata": {
    "scrolled": false
   },
   "outputs": [
    {
     "data": {
      "image/png": "[encoded data removed]",
      "text/plain": [
       "<Figure size 1080x720 with 6 Axes>"
      ]
     },
     "metadata": {
      "needs_background": "light"
     },
     "output_type": "display_data"
    }
   ],
   "source": [
    "# Variables de servicio :'lp_dom_ingresos','lp_tjta_cto','lp_tjt_rev','lp_rbos','lp_of_int' \n",
    "# Se comprueba que en gral hay mas clientes que tienen el servicio de los que no.\n",
    "variables_servicio.hist(figsize = (15,10), color = 'r', edgecolor = 'black',  linewidth=1);\n",
    "#variables_servicio.describe()"
   ]
  },
  {
   "cell_type": "code",
   "execution_count": 19,
   "metadata": {
    "scrolled": false
   },
   "outputs": [
    {
     "name": "stdout",
     "output_type": "stream",
     "text": [
      "INFORMACION VARIABLES SERVICIOS\n",
      "------------------------------------\n",
      "% Clientes con Ingresos 0.71\n",
      "------------------------------------\n",
      "% Clientes con Tjta Cto 0.55\n",
      "------------------------------------\n",
      "% Clientes con Tjta Rev 0.24\n",
      "------------------------------------\n",
      "% Clientes con Rbos domiciliados 0.87\n",
      "------------------------------------\n",
      "% Clientes con Servicio Internet 0.77\n",
      "------------------------------------\n"
     ]
    }
   ],
   "source": [
    "\n",
    "print('INFORMACION VARIABLES SERVICIOS')\n",
    "print('------------------------------------')\n",
    "print ('% Clientes con Ingresos', df['lp_dom_ingresos'].value_counts(normalize = True)[1].round(2))\n",
    "print('------------------------------------')\n",
    "print ('% Clientes con Tjta Cto', df['lp_tjta_cto'].value_counts(normalize = True)[1].round(2))\n",
    "print('------------------------------------')\n",
    "print ('% Clientes con Tjta Rev', df['lp_tjt_rev'].value_counts(normalize = True)[1].round(2))\n",
    "print('------------------------------------')\n",
    "print ('% Clientes con Rbos domiciliados',df['lp_rbos'].value_counts(normalize = True)[1].round(2))\n",
    "print('------------------------------------')\n",
    "print ('% Clientes con Servicio Internet',df['lp_of_int'].value_counts(normalize = True)[1].round(2))\n",
    "print('------------------------------------')\n"
   ]
  },
  {
   "cell_type": "markdown",
   "metadata": {},
   "source": [
    "__Conclusiones.__\n",
    "\n",
    "- Dentro de este bloque no vamos a eliminar ninguna variable para el estudio de nuestro modelo. Todas pueden ser relevantes.\n",
    "- Unicamente sumaremos en una sola columna los clientes que tienen Tjta Credito y Tarjeta Revolving ya que amg¡bas tarjetas son de la misma naturaleza.\n"
   ]
  },
  {
   "cell_type": "markdown",
   "metadata": {},
   "source": [
    "### Bloque 5 Variables de Seguros"
   ]
  },
  {
   "cell_type": "code",
   "execution_count": 20,
   "metadata": {
    "scrolled": false
   },
   "outputs": [
    {
     "data": {
      "image/png": "[encoded data removed]",
      "text/plain": [
       "<Figure size 1080x720 with 6 Axes>"
      ]
     },
     "metadata": {
      "needs_background": "light"
     },
     "output_type": "display_data"
    }
   ],
   "source": [
    "# Variables 'lp_seg_vida','lp_seg_acc','lp_seg_salud','lp_seg_auto','lp_seg_hogar'\n",
    "# Entre estas variables se encuentra nuestro TARGET. Seguro de Hogar.\n",
    "# Se comprueba como en general la mayoria de los clientes no tienen el seguro de referencia.\n",
    "variables_seguros.hist(figsize = (15,10), color = 'r',edgecolor = 'black',  linewidth=1);\n",
    "#variables_seguros.describe()"
   ]
  },
  {
   "cell_type": "code",
   "execution_count": 21,
   "metadata": {},
   "outputs": [
    {
     "name": "stdout",
     "output_type": "stream",
     "text": [
      "% Clientes con Seguro Vida 0.08\n",
      "------------------------------------\n",
      "% Clientes con Seguro Accidentes 0.02\n",
      "------------------------------------\n",
      "% Clientes con Seguro Salud 0.0\n",
      "------------------------------------\n",
      "% Clientes con Seguro Auto 0.01\n",
      "------------------------------------\n",
      "% Clientes con Seguro Hogar 0.13 --TARGET\n",
      "====================================\n"
     ]
    }
   ],
   "source": [
    "\n",
    "print('% Clientes con Seguro Vida',df['lp_seg_vida'].value_counts(normalize = True)[1].round(2))\n",
    "print('------------------------------------')\n",
    "print('% Clientes con Seguro Accidentes',df['lp_seg_acc'].value_counts(normalize = True)[1].round(2))\n",
    "print('------------------------------------')\n",
    "print('% Clientes con Seguro Salud',df['lp_seg_salud'].value_counts(normalize = True)[1].round(2))\n",
    "print('------------------------------------')\n",
    "print('% Clientes con Seguro Auto',df['lp_seg_auto'].value_counts(normalize = True)[1].round(2))\n",
    "print('------------------------------------')\n",
    "print('% Clientes con Seguro Hogar',df['lp_seg_hogar'].value_counts(normalize = True)[1].round(2), '--TARGET')\n",
    "print('====================================')"
   ]
  },
  {
   "cell_type": "markdown",
   "metadata": {},
   "source": [
    "__Conclusiones.__\n",
    "\n",
    "- En una primera visualizacion con histogramas vemos como la mayoria de los clientes no disponen de Seguros\n",
    "- Se trata de una verdader oportunidad comercial ya que la realidad es que en cualquier casa o familia  lo normal es que haya uno o dos vehiculos, el/la cabeza de familiar disponga de un seguro de vida o se disponga a nivel familiar de un seguro de salud.  Este bajisimo porcentaje de tenecia de seguros indica que seguramente los tengan en otra entidad financiera o aseguradora.  Oportunidad comercial.\n",
    "- De cara a nuestro modelo eliminamos el seguro de Salud por tener un 0% de tomadores. \n"
   ]
  },
  {
   "cell_type": "markdown",
   "metadata": {},
   "source": [
    "###  Bloque 6 Variables Segmentacion"
   ]
  },
  {
   "cell_type": "code",
   "execution_count": 22,
   "metadata": {},
   "outputs": [
    {
     "name": "stdout",
     "output_type": "stream",
     "text": [
      "INFORMACION VARIABLES CATEGORICAS\n",
      "------------------------------------\n",
      "SI    0.904416\n",
      "NO    0.095584\n",
      "Name: esta_carterizado, dtype: float64\n",
      "------------------------------------\n",
      "NO    1.0\n",
      "Name: cliente_bbp, dtype: float64\n",
      "------------------------------------\n",
      "ASESOR FINANCIERO          0.894690\n",
      "SIN GESTOR                 0.095584\n",
      "SUBDIRECCIÓN DE OFICINA    0.009726\n",
      "Name: tipo_gestor, dtype: float64\n",
      "------------------------------------\n",
      "ASESORAMIENTO FINANCIERO    0.697767\n",
      "TUTELA                      0.206649\n",
      "SIN CARTERA                 0.095584\n",
      "Name: cartera_patron, dtype: float64\n",
      "------------------------------------\n",
      "SI    0.510096\n",
      "NO    0.489904\n",
      "Name: digital_3_meses, dtype: float64\n",
      "------------------------------------\n",
      "NO    0.720633\n",
      "SI    0.279367\n",
      "Name: marca_bp, dtype: float64\n",
      "------------------------------------\n",
      "SIN USO          0.430175\n",
      "CONSULTIVO       0.264466\n",
      "TRANSACCIONAL    0.215511\n",
      "POCO USO         0.058242\n",
      "COMPRADOR        0.031606\n",
      "Name: camino_digital, dtype: float64\n",
      "------------------------------------\n",
      "AF           0.612485\n",
      "SIN MARCA    0.270126\n",
      "CCTE         0.117388\n",
      "Name: marca_ccte, dtype: float64\n",
      "------------------------------------\n",
      "ALTO     0.552963\n",
      "MEDIO    0.298890\n",
      "BAJO     0.148148\n",
      "Name: seg_valor, dtype: float64\n",
      "------------------------------------\n",
      "ALTO RECORRIDO     0.363315\n",
      "MEDIO RECORRIDO    0.332148\n",
      "BAJO RECORRIDO     0.283333\n",
      "NO CALCULADO       0.021204\n",
      "Name: seg_recorrido, dtype: float64\n"
     ]
    }
   ],
   "source": [
    "# Informacion variables categoricas\n",
    "print('INFORMACION VARIABLES CATEGORICAS')\n",
    "print('------------------------------------')  \n",
    "print(df['esta_carterizado'].value_counts(normalize = True))\n",
    "print('------------------------------------')  \n",
    "print(df['cliente_bbp'].value_counts(normalize = True))\n",
    "print('------------------------------------')\n",
    "print(df['tipo_gestor'].value_counts(normalize = True))\n",
    "print('------------------------------------') \n",
    "print(df['cartera_patron'].value_counts(normalize = True))\n",
    "print('------------------------------------')  \n",
    "print(df['digital_3_meses'].value_counts(normalize = True))\n",
    "print('------------------------------------')  \n",
    "print(df['marca_bp'].value_counts(normalize = True))\n",
    "print('------------------------------------')\n",
    "print(df['camino_digital'].value_counts(normalize = True))\n",
    "print('------------------------------------')\n",
    "print(df['marca_ccte'].value_counts(normalize = True))\n",
    "print('------------------------------------')\n",
    "print(df['seg_valor'].value_counts(normalize = True))\n",
    "print('------------------------------------') \n",
    "print(df['seg_recorrido'].value_counts(normalize = True))\n"
   ]
  },
  {
   "cell_type": "markdown",
   "metadata": {},
   "source": [
    "__Conclusiones.__\n",
    "\n",
    "- Variables Carterizado y BBP las eliminamos del modelo. Todos los clientes estan carterizados y ninguno en BBP\n",
    "- Resto de variables mantenemos.\n"
   ]
  },
  {
   "cell_type": "markdown",
   "metadata": {},
   "source": [
    "## 8)  Feature Importances"
   ]
  },
  {
   "cell_type": "markdown",
   "metadata": {},
   "source": [
    "Una vez estudiadas las variables en bloques ,  de cara a ir pensando en el modelo de clasificacion buscaremos de forma grafica las posibles correlaciones que pueda haber entre las variables. "
   ]
  },
  {
   "cell_type": "code",
   "execution_count": 23,
   "metadata": {},
   "outputs": [],
   "source": [
    "df = df[['edad','saldo_captacion','saldo_financiacion','saldo_ffii','saldo_plp',\n",
    "              'lp_dom_ingresos','lp_tjta_cto','lp_tjt_rev','lp_rbos','lp_of_int',\n",
    "              'lp_seg_vida','lp_seg_acc','lp_seg_salud','lp_seg_auto','lp_seg_hogar']]"
   ]
  },
  {
   "cell_type": "markdown",
   "metadata": {},
   "source": [
    "###  Correlaciones entre Variables"
   ]
  },
  {
   "cell_type": "code",
   "execution_count": 24,
   "metadata": {},
   "outputs": [
    {
     "data": {
      "image/png": "[encoded data removed]",
      "text/plain": [
       "<Figure size 1080x720 with 2 Axes>"
      ]
     },
     "metadata": {
      "needs_background": "light"
     },
     "output_type": "display_data"
    }
   ],
   "source": [
    "import seaborn as sns\n",
    "correlation_mat = df.corr(method = 'spearman')\n",
    "fig, ax = plt.subplots(figsize=(15,10)) \n",
    "sns.heatmap(correlation_mat, annot = True, square = True, \n",
    "            linewidths=.5, fmt=\".1f\",annot_kws={'size':10},ax=ax)\n",
    "plt.show()"
   ]
  },
  {
   "cell_type": "markdown",
   "metadata": {},
   "source": [
    "### Correlaciones con SelectKBest & f_classif"
   ]
  },
  {
   "cell_type": "code",
   "execution_count": 25,
   "metadata": {},
   "outputs": [],
   "source": [
    "seguro_hogar = df['lp_seg_hogar']"
   ]
  },
  {
   "cell_type": "code",
   "execution_count": 26,
   "metadata": {
    "scrolled": false
   },
   "outputs": [
    {
     "data": {
      "text/plain": [
       "['edad',\n",
       " 'saldo_captacion',\n",
       " 'saldo_financiacion',\n",
       " 'saldo_plp',\n",
       " 'lp_dom_ingresos',\n",
       " 'lp_tjt_rev',\n",
       " 'lp_rbos',\n",
       " 'lp_of_int',\n",
       " 'lp_seg_vida',\n",
       " 'lp_seg_auto']"
      ]
     },
     "execution_count": 26,
     "metadata": {},
     "output_type": "execute_result"
    }
   ],
   "source": [
    "from sklearn.feature_selection import SelectKBest\n",
    "from sklearn.feature_selection import f_classif\n",
    "k = 10  # número de atributos a seleccionar\n",
    "entrenar = df.drop(['lp_seg_hogar'], axis=1)\n",
    "columnas = list(entrenar.columns.values)\n",
    "seleccionadas = SelectKBest(f_classif, k=k).fit(entrenar, seguro_hogar)\n",
    "atrib = seleccionadas.get_support()\n",
    "atributos = [columnas[i] for i in list(atrib.nonzero()[0])]\n",
    "atributos"
   ]
  },
  {
   "cell_type": "markdown",
   "metadata": {},
   "source": [
    "__Conclusiones.__\n",
    "\n",
    "- Utilizamos tabla de correlaciones con metodo spearman cuyo resultado arroja mayores correlaciones que los otros metodos\n",
    "- La correlacion entre las variables es en general baja. Hay incluso correlaciones negativas pero tambien bajas\n",
    "- Utilizaremos todas la variables"
   ]
  },
  {
   "cell_type": "markdown",
   "metadata": {},
   "source": [
    "## 8) Preprocessing"
   ]
  },
  {
   "cell_type": "markdown",
   "metadata": {},
   "source": [
    "Segun hemos concluido en nuestro estudio de la base de datos ( EDA ) hacemos unas modificaciones en las variables de edad, Financiacion, Planes de Pension y Fondos de Inversion\n",
    "\n",
    "- Variable Edad. Eliminaremos a los clientes entre los rangos de edad 0-25 y 90 y superiores.\n",
    "- Fondos de Inversion y Planes de Pension son convertidas en variables booleanas. Los valores asignados seran 0 si no tiene y 1 si tiene.  \n",
    "\n",
    "Adcionalmente trabajamos con:\n",
    "\n",
    "- Label Encoder - Convertir las variables categoricas en numero\n",
    "- Outliers - Revision de posibles Ouliers\n",
    "- Normalizacion - Llevar todas las variables a una escala comun\n",
    "- PCA Posible simplificacion de variables reduciendo dimesionalidad a la base de datos"
   ]
  },
  {
   "cell_type": "code",
   "execution_count": 37,
   "metadata": {},
   "outputs": [],
   "source": [
    "df = pd.read_csv('/home/dsc/Master-Kschool/TFM/Financial-Product-Sales-Forecast-Model/0rigin_data/cleanned_data/df.tfm')"
   ]
  },
  {
   "cell_type": "code",
   "execution_count": 24,
   "metadata": {
    "scrolled": false
   },
   "outputs": [
    {
     "data": {
      "text/plain": [
       "Index(['cliente', 'saldo_captacion', 'esta_carterizado', 'cliente_bbp',\n",
       "       'tipo_gestor', 'gestor', 'cartera_patron', 'codigo_cartera',\n",
       "       'digital_3_meses', 'camino_digital', 'saldo_financiacion', 'saldo_ffii',\n",
       "       'saldo_plp', 'lp_dom_ingresos', 'lp_tjta_cto', 'lp_tjt_rev', 'lp_rbos',\n",
       "       'lp_of_int', 'marca_bp', 'marca_ccte', 'edad', 'seg_valor',\n",
       "       'seg_recorrido', 'dz', 'oficina', 'lp_seg_vida', 'lp_seg_acc',\n",
       "       'lp_seg_salud', 'lp_seg_hogar', 'lp_seg_auto'],\n",
       "      dtype='object')"
      ]
     },
     "execution_count": 24,
     "metadata": {},
     "output_type": "execute_result"
    }
   ],
   "source": [
    "df.columns"
   ]
  },
  {
   "cell_type": "code",
   "execution_count": 25,
   "metadata": {},
   "outputs": [],
   "source": [
    "# Adaptamos el DF eliminado 2 varaibles categoricas segun conclusiones EDA. Esta carterizado y cliente BP\n",
    "df = df[['cliente', 'saldo_captacion', 'tipo_gestor', 'gestor', 'cartera_patron', \n",
    "         'codigo_cartera','digital_3_meses', 'camino_digital', 'saldo_financiacion', \n",
    "         'saldo_ffii', 'saldo_plp', 'lp_dom_ingresos', 'lp_tjta_cto', 'lp_tjt_rev',\n",
    "         'lp_rbos','lp_of_int', 'marca_bp', 'marca_ccte', 'edad', 'seg_valor',\n",
    "         'seg_recorrido', 'dz', 'oficina', 'lp_seg_vida', 'lp_seg_acc',\n",
    "         'lp_seg_salud', 'lp_seg_hogar', 'lp_seg_auto']]\n",
    "               "
   ]
  },
  {
   "cell_type": "code",
   "execution_count": 26,
   "metadata": {},
   "outputs": [],
   "source": [
    "df.dtypes;"
   ]
  },
  {
   "cell_type": "code",
   "execution_count": 38,
   "metadata": {},
   "outputs": [],
   "source": [
    "# Eliminamos clientes de 0 a 24 años y de mas de 90 años\n",
    "inf25_sup90 = df[(df['edad'] < 25) | (df['edad'] > 90)].index\n",
    "# Delete these row indexes from dataFrame\n",
    "df.drop(inf25_sup90 , inplace=True)"
   ]
  },
  {
   "cell_type": "code",
   "execution_count": 39,
   "metadata": {},
   "outputs": [
    {
     "data": {
      "text/plain": [
       "count    417812.000000\n",
       "mean         59.915787\n",
       "std          16.207368\n",
       "min          25.000000\n",
       "25%          48.000000\n",
       "50%          61.000000\n",
       "75%          73.000000\n",
       "max          90.000000\n",
       "Name: edad, dtype: float64"
      ]
     },
     "execution_count": 39,
     "metadata": {},
     "output_type": "execute_result"
    }
   ],
   "source": [
    "df['edad'].describe()"
   ]
  },
  {
   "cell_type": "code",
   "execution_count": 40,
   "metadata": {},
   "outputs": [
    {
     "data": {
      "text/plain": [
       "0    0.888785\n",
       "1    0.111215\n",
       "Name: saldo_plp, dtype: float64"
      ]
     },
     "execution_count": 40,
     "metadata": {},
     "output_type": "execute_result"
    }
   ],
   "source": [
    "# Transformamos variable Planes de Pension 0 No tiene 1 Si tiene\n",
    "df['saldo_plp'] = df['saldo_plp'].apply(lambda x: 1 if x > 0 else 0)\n",
    "pd.value_counts(df['saldo_plp'], normalize = True)"
   ]
  },
  {
   "cell_type": "code",
   "execution_count": 41,
   "metadata": {},
   "outputs": [
    {
     "data": {
      "text/plain": [
       "0    0.859183\n",
       "1    0.140817\n",
       "Name: saldo_ffii, dtype: float64"
      ]
     },
     "execution_count": 41,
     "metadata": {},
     "output_type": "execute_result"
    }
   ],
   "source": [
    "# Transformamos variable Fondos de Inversion 0 No tiene 1 Si tiene\n",
    "df['saldo_ffii'] = df['saldo_ffii'].apply(lambda x: 1 if x > 0 else 0)\n",
    "pd.value_counts(df['saldo_ffii'], normalize = True)"
   ]
  },
  {
   "cell_type": "code",
   "execution_count": 42,
   "metadata": {},
   "outputs": [],
   "source": [
    "# Trasnformamos variables que no vamos a utilizar a object\n",
    "df[['cliente','gestor','codigo_cartera', \n",
    "    'dz','oficina']] = df[[\"cliente\", \"gestor\",\n",
    "                       'codigo_cartera', 'dz', 'oficina']].astype(object);"
   ]
  },
  {
   "cell_type": "code",
   "execution_count": 43,
   "metadata": {},
   "outputs": [
    {
     "name": "stdout",
     "output_type": "stream",
     "text": [
      "Clientes_con_saldos_negativos : 8828\n",
      "Porcentaje_Clientes_con_saldos_negativos:  0.021129120274190307\n"
     ]
    }
   ],
   "source": [
    "# Variable Captacion. \n",
    "Clientes_con_saldos_negativos = df[df['saldo_captacion'] < 0]['cliente'].nunique()\n",
    "Porcentaje_Clientes_con_saldos_negativos = df[df['saldo_captacion'] < 0]['cliente'].nunique() / df['cliente'].count()\n",
    "print ('Clientes_con_saldos_negativos :',Clientes_con_saldos_negativos)\n",
    "print ('Porcentaje_Clientes_con_saldos_negativos: ',Porcentaje_Clientes_con_saldos_negativos)"
   ]
  },
  {
   "cell_type": "code",
   "execution_count": 44,
   "metadata": {},
   "outputs": [],
   "source": [
    "# No queremos los valores negativos. Les damos valor de cero.\n",
    "df[df['saldo_captacion'] < 0] = 0"
   ]
  },
  {
   "cell_type": "code",
   "execution_count": 45,
   "metadata": {},
   "outputs": [
    {
     "data": {
      "text/plain": [
       "count    4.178120e+05\n",
       "mean     5.194882e+04\n",
       "std      8.914284e+04\n",
       "min      0.000000e+00\n",
       "25%      2.189145e+03\n",
       "50%      1.787874e+04\n",
       "75%      6.811098e+04\n",
       "max      5.290216e+06\n",
       "Name: saldo_captacion, dtype: float64"
      ]
     },
     "execution_count": 45,
     "metadata": {},
     "output_type": "execute_result"
    }
   ],
   "source": [
    "df['saldo_captacion'].describe()"
   ]
  },
  {
   "cell_type": "markdown",
   "metadata": {},
   "source": [
    "## LABEL ENCODER\n",
    "\n",
    "Dentro del Data Frame existen 10 variables categoricas las cuales tenemos que transformar a numero para poder utilizarlas en el modelo."
   ]
  },
  {
   "cell_type": "code",
   "execution_count": 46,
   "metadata": {},
   "outputs": [],
   "source": [
    "from sklearn.preprocessing import LabelEncoder\n",
    "lbl = LabelEncoder()"
   ]
  },
  {
   "cell_type": "code",
   "execution_count": 49,
   "metadata": {},
   "outputs": [
    {
     "ename": "TypeError",
     "evalue": "Encoders require their input to be uniformly strings or numbers. Got ['int', 'str']",
     "output_type": "error",
     "traceback": [
      "\u001b[0;31m---------------------------------------------------------------------------\u001b[0m",
      "\u001b[0;31mTypeError\u001b[0m                                 Traceback (most recent call last)",
      "\u001b[0;32m~/anaconda3/lib/python3.7/site-packages/sklearn/preprocessing/_label.py\u001b[0m in \u001b[0;36m_encode\u001b[0;34m(values, uniques, encode, check_unknown)\u001b[0m\n\u001b[1;32m    112\u001b[0m         \u001b[0;32mtry\u001b[0m\u001b[0;34m:\u001b[0m\u001b[0;34m\u001b[0m\u001b[0;34m\u001b[0m\u001b[0m\n\u001b[0;32m--> 113\u001b[0;31m             \u001b[0mres\u001b[0m \u001b[0;34m=\u001b[0m \u001b[0m_encode_python\u001b[0m\u001b[0;34m(\u001b[0m\u001b[0mvalues\u001b[0m\u001b[0;34m,\u001b[0m \u001b[0muniques\u001b[0m\u001b[0;34m,\u001b[0m \u001b[0mencode\u001b[0m\u001b[0;34m)\u001b[0m\u001b[0;34m\u001b[0m\u001b[0;34m\u001b[0m\u001b[0m\n\u001b[0m\u001b[1;32m    114\u001b[0m         \u001b[0;32mexcept\u001b[0m \u001b[0mTypeError\u001b[0m\u001b[0;34m:\u001b[0m\u001b[0;34m\u001b[0m\u001b[0;34m\u001b[0m\u001b[0m\n",
      "\u001b[0;32m~/anaconda3/lib/python3.7/site-packages/sklearn/preprocessing/_label.py\u001b[0m in \u001b[0;36m_encode_python\u001b[0;34m(values, uniques, encode)\u001b[0m\n\u001b[1;32m     60\u001b[0m     \u001b[0;32mif\u001b[0m \u001b[0muniques\u001b[0m \u001b[0;32mis\u001b[0m \u001b[0;32mNone\u001b[0m\u001b[0;34m:\u001b[0m\u001b[0;34m\u001b[0m\u001b[0;34m\u001b[0m\u001b[0m\n\u001b[0;32m---> 61\u001b[0;31m         \u001b[0muniques\u001b[0m \u001b[0;34m=\u001b[0m \u001b[0msorted\u001b[0m\u001b[0;34m(\u001b[0m\u001b[0mset\u001b[0m\u001b[0;34m(\u001b[0m\u001b[0mvalues\u001b[0m\u001b[0;34m)\u001b[0m\u001b[0;34m)\u001b[0m\u001b[0;34m\u001b[0m\u001b[0;34m\u001b[0m\u001b[0m\n\u001b[0m\u001b[1;32m     62\u001b[0m         \u001b[0muniques\u001b[0m \u001b[0;34m=\u001b[0m \u001b[0mnp\u001b[0m\u001b[0;34m.\u001b[0m\u001b[0marray\u001b[0m\u001b[0;34m(\u001b[0m\u001b[0muniques\u001b[0m\u001b[0;34m,\u001b[0m \u001b[0mdtype\u001b[0m\u001b[0;34m=\u001b[0m\u001b[0mvalues\u001b[0m\u001b[0;34m.\u001b[0m\u001b[0mdtype\u001b[0m\u001b[0;34m)\u001b[0m\u001b[0;34m\u001b[0m\u001b[0;34m\u001b[0m\u001b[0m\n",
      "\u001b[0;31mTypeError\u001b[0m: '<' not supported between instances of 'str' and 'int'",
      "\nDuring handling of the above exception, another exception occurred:\n",
      "\u001b[0;31mTypeError\u001b[0m                                 Traceback (most recent call last)",
      "\u001b[0;32m<ipython-input-49-8a828dd1564f>\u001b[0m in \u001b[0;36m<module>\u001b[0;34m\u001b[0m\n\u001b[1;32m      1\u001b[0m \u001b[0;31m# Transformamos las variables\u001b[0m\u001b[0;34m\u001b[0m\u001b[0;34m\u001b[0m\u001b[0;34m\u001b[0m\u001b[0m\n\u001b[0;32m----> 2\u001b[0;31m \u001b[0mlbl\u001b[0m\u001b[0;34m.\u001b[0m\u001b[0mfit_transform\u001b[0m\u001b[0;34m(\u001b[0m\u001b[0mdf\u001b[0m\u001b[0;34m[\u001b[0m\u001b[0;34m'tipo_gestor'\u001b[0m\u001b[0;34m]\u001b[0m\u001b[0;34m)\u001b[0m\u001b[0;34m\u001b[0m\u001b[0;34m\u001b[0m\u001b[0m\n\u001b[0m\u001b[1;32m      3\u001b[0m \u001b[0;31m#lbl.fit_transform(df['cartera_patron'])\u001b[0m\u001b[0;34m\u001b[0m\u001b[0;34m\u001b[0m\u001b[0;34m\u001b[0m\u001b[0m\n\u001b[1;32m      4\u001b[0m \u001b[0mlbl\u001b[0m\u001b[0;34m.\u001b[0m\u001b[0mfit_transform\u001b[0m\u001b[0;34m(\u001b[0m\u001b[0mdf\u001b[0m\u001b[0;34m[\u001b[0m\u001b[0;34m'digital_3_meses'\u001b[0m\u001b[0;34m]\u001b[0m\u001b[0;34m)\u001b[0m\u001b[0;34m\u001b[0m\u001b[0;34m\u001b[0m\u001b[0m\n\u001b[1;32m      5\u001b[0m \u001b[0mlbl\u001b[0m\u001b[0;34m.\u001b[0m\u001b[0mfit_transform\u001b[0m\u001b[0;34m(\u001b[0m\u001b[0mdf\u001b[0m\u001b[0;34m[\u001b[0m\u001b[0;34m'camino_digital'\u001b[0m\u001b[0;34m]\u001b[0m\u001b[0;34m)\u001b[0m\u001b[0;34m\u001b[0m\u001b[0;34m\u001b[0m\u001b[0m\n",
      "\u001b[0;32m~/anaconda3/lib/python3.7/site-packages/sklearn/preprocessing/_label.py\u001b[0m in \u001b[0;36mfit_transform\u001b[0;34m(self, y)\u001b[0m\n\u001b[1;32m    254\u001b[0m         \"\"\"\n\u001b[1;32m    255\u001b[0m         \u001b[0my\u001b[0m \u001b[0;34m=\u001b[0m \u001b[0mcolumn_or_1d\u001b[0m\u001b[0;34m(\u001b[0m\u001b[0my\u001b[0m\u001b[0;34m,\u001b[0m \u001b[0mwarn\u001b[0m\u001b[0;34m=\u001b[0m\u001b[0;32mTrue\u001b[0m\u001b[0;34m)\u001b[0m\u001b[0;34m\u001b[0m\u001b[0;34m\u001b[0m\u001b[0m\n\u001b[0;32m--> 256\u001b[0;31m         \u001b[0mself\u001b[0m\u001b[0;34m.\u001b[0m\u001b[0mclasses_\u001b[0m\u001b[0;34m,\u001b[0m \u001b[0my\u001b[0m \u001b[0;34m=\u001b[0m \u001b[0m_encode\u001b[0m\u001b[0;34m(\u001b[0m\u001b[0my\u001b[0m\u001b[0;34m,\u001b[0m \u001b[0mencode\u001b[0m\u001b[0;34m=\u001b[0m\u001b[0;32mTrue\u001b[0m\u001b[0;34m)\u001b[0m\u001b[0;34m\u001b[0m\u001b[0;34m\u001b[0m\u001b[0m\n\u001b[0m\u001b[1;32m    257\u001b[0m         \u001b[0;32mreturn\u001b[0m \u001b[0my\u001b[0m\u001b[0;34m\u001b[0m\u001b[0;34m\u001b[0m\u001b[0m\n\u001b[1;32m    258\u001b[0m \u001b[0;34m\u001b[0m\u001b[0m\n",
      "\u001b[0;32m~/anaconda3/lib/python3.7/site-packages/sklearn/preprocessing/_label.py\u001b[0m in \u001b[0;36m_encode\u001b[0;34m(values, uniques, encode, check_unknown)\u001b[0m\n\u001b[1;32m    115\u001b[0m             types = sorted(t.__qualname__\n\u001b[1;32m    116\u001b[0m                            for t in set(type(v) for v in values))\n\u001b[0;32m--> 117\u001b[0;31m             raise TypeError(\"Encoders require their input to be uniformly \"\n\u001b[0m\u001b[1;32m    118\u001b[0m                             f\"strings or numbers. Got {types}\")\n\u001b[1;32m    119\u001b[0m         \u001b[0;32mreturn\u001b[0m \u001b[0mres\u001b[0m\u001b[0;34m\u001b[0m\u001b[0;34m\u001b[0m\u001b[0m\n",
      "\u001b[0;31mTypeError\u001b[0m: Encoders require their input to be uniformly strings or numbers. Got ['int', 'str']"
     ]
    }
   ],
   "source": [
    "# Transformamos las variables\n",
    "lbl.fit_transform(df['tipo_gestor'])\n",
    "lbl.fit_transform(df['cartera_patron'])\n",
    "lbl.fit_transform(df['digital_3_meses'])\n",
    "lbl.fit_transform(df['camino_digital'])\n",
    "lbl.fit_transform(df['marca_bp'])\n",
    "lbl.fit_transform(df['marca_ccte'])\n",
    "lbl.fit_transform(df['seg_valor'])\n",
    "lbl.fit_transform(df['seg_recorrido'])"
   ]
  },
  {
   "cell_type": "code",
   "execution_count": 46,
   "metadata": {},
   "outputs": [],
   "source": [
    "# Asignamos a cada una de estas variables una nueva columna\n",
    "df['tipo_gestor_etiqueta']=lbl.fit_transform(df['tipo_gestor'])\n",
    "df['cartera_patron_etiqueta']=lbl.fit_transform(df['cartera_patron'])\n",
    "df['digital_3_meses_etiqueta']=lbl.fit_transform(df['digital_3_meses'])\n",
    "df['camino_digital_etiqueta']=lbl.fit_transform(df['camino_digital'])\n",
    "df['marca_bp_etiqueta']=lbl.fit_transform(df['marca_bp'])\n",
    "df['marca_ccte_etiqueta']=lbl.fit_transform(df['marca_ccte'])\n",
    "df['seg_valor_etiqueta']=lbl.fit_transform(df['seg_valor'])\n",
    "df['seg_recorrido_etiqueta']=lbl.fit_transform(df['seg_recorrido'])"
   ]
  },
  {
   "cell_type": "code",
   "execution_count": 47,
   "metadata": {},
   "outputs": [
    {
     "data": {
      "text/plain": [
       "0    403840\n",
       "1     43144\n",
       "2      4390\n",
       "Name: tipo_gestor_etiqueta, dtype: int64"
      ]
     },
     "execution_count": 47,
     "metadata": {},
     "output_type": "execute_result"
    }
   ],
   "source": [
    "# Confirmamos que la transformacion se ha realizado correctamente. \n",
    "df['tipo_gestor_etiqueta'].value_counts()"
   ]
  },
  {
   "cell_type": "code",
   "execution_count": 48,
   "metadata": {},
   "outputs": [],
   "source": [
    "# Eliminamos las antiguas variables categoricas que se han transformado y lo confirmamos listando las columnas.\n",
    "df.drop(['tipo_gestor','cartera_patron','digital_3_meses','camino_digital',\n",
    "         'marca_bp','marca_ccte','seg_valor','seg_recorrido'],axis = 1,inplace = True)"
   ]
  },
  {
   "cell_type": "code",
   "execution_count": 49,
   "metadata": {},
   "outputs": [
    {
     "data": {
      "text/plain": [
       "Index(['cliente', 'saldo_captacion', 'gestor', 'codigo_cartera',\n",
       "       'saldo_financiacion', 'saldo_ffii', 'saldo_plp', 'lp_dom_ingresos',\n",
       "       'lp_tjta_cto', 'lp_tjt_rev', 'lp_rbos', 'lp_of_int', 'edad', 'dz',\n",
       "       'oficina', 'lp_seg_vida', 'lp_seg_acc', 'lp_seg_salud', 'lp_seg_hogar',\n",
       "       'lp_seg_auto', 'tipo_gestor_etiqueta', 'cartera_patron_etiqueta',\n",
       "       'digital_3_meses_etiqueta', 'camino_digital_etiqueta',\n",
       "       'marca_bp_etiqueta', 'marca_ccte_etiqueta', 'seg_valor_etiqueta',\n",
       "       'seg_recorrido_etiqueta'],\n",
       "      dtype='object')"
      ]
     },
     "execution_count": 49,
     "metadata": {},
     "output_type": "execute_result"
    }
   ],
   "source": [
    "df.columns"
   ]
  },
  {
   "cell_type": "markdown",
   "metadata": {},
   "source": [
    "# OUTLIERS\n",
    "\n",
    "Hemos visto durante la exploracion del data set que existen distintas variables que son susceptibles de tener Outliers. Estas son 'edad','saldo_captacion','saldo_financiacion','saldo_ffii','saldo_plp'. \n",
    "\n",
    "- Variable Captacion. No tiene outliers. Son valores reales. Solamente modificamos los negativos y les damos valor 0 Euros.\n",
    "- Fondos de inversion y planes de pension han sido transformadas a 0-1 \"Tiene no Tiene.\n",
    "- Financiacion es una variable que por su naturaleza no queremos modificar.\n",
    "\n",
    "- __Variable edad__. Es la unica que puede tener ouliers reales.  Hemos eliminado previamente clientes entre 0-25 años y superiores a 90 años por lo que probablemente los Outlier esten ya trabajados. "
   ]
  },
  {
   "cell_type": "markdown",
   "metadata": {},
   "source": [
    "__Variable EDAD__\n",
    "\n",
    "Hacemos la visualizacion con un histograma y un BoxPlot. Con este ultimo confirmamos que no tenemos Outliers"
   ]
  },
  {
   "cell_type": "code",
   "execution_count": 50,
   "metadata": {},
   "outputs": [
    {
     "data": {
      "text/plain": [
       "<AxesSubplot:>"
      ]
     },
     "execution_count": 50,
     "metadata": {},
     "output_type": "execute_result"
    },
    {
     "data": {
      "image/png": "[encoded data removed]",
      "text/plain": [
       "<Figure size 432x288 with 1 Axes>"
      ]
     },
     "metadata": {
      "needs_background": "light"
     },
     "output_type": "display_data"
    }
   ],
   "source": [
    "df['edad'].hist(color = 'y', bins = 15)"
   ]
  },
  {
   "cell_type": "code",
   "execution_count": 51,
   "metadata": {},
   "outputs": [
    {
     "name": "stdout",
     "output_type": "stream",
     "text": [
      "Boxplot edad\n"
     ]
    },
    {
     "data": {
      "text/plain": [
       "count    451374.000000\n",
       "mean         58.268941\n",
       "std          19.018368\n",
       "min           0.000000\n",
       "25%          45.000000\n",
       "50%          60.000000\n",
       "75%          73.000000\n",
       "max         118.000000\n",
       "Name: edad, dtype: float64"
      ]
     },
     "execution_count": 51,
     "metadata": {},
     "output_type": "execute_result"
    },
    {
     "data": {
      "image/png": "[encoded data removed]",
      "text/plain": [
       "<Figure size 432x288 with 1 Axes>"
      ]
     },
     "metadata": {
      "needs_background": "light"
     },
     "output_type": "display_data"
    }
   ],
   "source": [
    "print ('Boxplot edad')\n",
    "plt.boxplot(df['edad'],vert = False, widths = 2)\n",
    "plt.show   \n",
    "df['edad'].describe()"
   ]
  },
  {
   "cell_type": "code",
   "execution_count": 1,
   "metadata": {},
   "outputs": [
    {
     "ename": "NameError",
     "evalue": "name 'df' is not defined",
     "output_type": "error",
     "traceback": [
      "\u001b[0;31m---------------------------------------------------------------------------\u001b[0m",
      "\u001b[0;31mNameError\u001b[0m                                 Traceback (most recent call last)",
      "\u001b[0;32m<ipython-input-1-9962f18f67b6>\u001b[0m in \u001b[0;36m<module>\u001b[0;34m\u001b[0m\n\u001b[0;32m----> 1\u001b[0;31m \u001b[0mdf\u001b[0m\u001b[0;34m.\u001b[0m\u001b[0mcolums\u001b[0m\u001b[0;34m\u001b[0m\u001b[0;34m\u001b[0m\u001b[0m\n\u001b[0m",
      "\u001b[0;31mNameError\u001b[0m: name 'df' is not defined"
     ]
    }
   ],
   "source": [
    "df.colums"
   ]
  },
  {
   "cell_type": "markdown",
   "metadata": {},
   "source": [
    "## NORMALIZACION\n",
    "\n",
    "Debemos llevar todas las varaibles a una escala comun. Para ello utilizamos MinMaxScaler."
   ]
  },
  {
   "cell_type": "code",
   "execution_count": null,
   "metadata": {},
   "outputs": [],
   "source": [
    "from sklearn.preprocessing import MinMaxScaler"
   ]
  },
  {
   "cell_type": "code",
   "execution_count": null,
   "metadata": {},
   "outputs": [],
   "source": [
    "scaler = MinMaxScaler()"
   ]
  },
  {
   "cell_type": "code",
   "execution_count": null,
   "metadata": {},
   "outputs": [],
   "source": [
    "df_normalizado = scaler.fit_transform(df)"
   ]
  },
  {
   "cell_type": "code",
   "execution_count": null,
   "metadata": {},
   "outputs": [],
   "source": [
    "columnas_datos_numericos = df.columns"
   ]
  },
  {
   "cell_type": "code",
   "execution_count": null,
   "metadata": {},
   "outputs": [],
   "source": [
    "df_normalizado = pd.DataFrame(df_normalizado, columns=columnas_datos_numericos)"
   ]
  },
  {
   "cell_type": "code",
   "execution_count": null,
   "metadata": {},
   "outputs": [],
   "source": [
    "df_normalizado.head(3)"
   ]
  },
  {
   "cell_type": "markdown",
   "metadata": {},
   "source": [
    "## PCA \n",
    "\n",
    "Despues de haber reducido el Data Frame quedandonos unicamente con las columnas necesarias para el estudio del modelo, aun asi tenemos 22 variables que vamos a intentar reducir utilizando PCA para reducir la dimensionalidad. Compararemos si la utilizacion del PCA mejora o no el resultado.\n"
   ]
  },
  {
   "cell_type": "code",
   "execution_count": null,
   "metadata": {},
   "outputs": [],
   "source": [
    "from sklearn.decomposition import PCA"
   ]
  },
  {
   "cell_type": "code",
   "execution_count": null,
   "metadata": {},
   "outputs": [],
   "source": [
    "df_sin_target = df_normalizado.drop(['lp_seg_hogar'], axis = 1)"
   ]
  },
  {
   "cell_type": "code",
   "execution_count": null,
   "metadata": {},
   "outputs": [],
   "source": [
    "#Instanciamos objeto PCA y aplicamos\n",
    "pca = PCA(15) # n =  ponemos como numero de pcas 105\n",
    "pca.fit(df_sin_target) # obtener los componentes principales\n",
    "df_transforming = pca.transform(df_sin_target) # convertimos nuestros datos con las nuevas dimensiones de PCA"
   ]
  },
  {
   "cell_type": "code",
   "execution_count": null,
   "metadata": {},
   "outputs": [],
   "source": [
    "pca.components_[14]"
   ]
  },
  {
   "cell_type": "code",
   "execution_count": null,
   "metadata": {},
   "outputs": [],
   "source": [
    "list(zip(df_sin_target.columns, df_transforming[0]))"
   ]
  },
  {
   "cell_type": "code",
   "execution_count": null,
   "metadata": {},
   "outputs": [],
   "source": [
    "print(\"shape of X_pca\", df_transforming.shape)\n",
    "expl = pca.explained_variance_ratio_\n",
    "print(expl)\n",
    "print('suma:',sum(expl[0:15]))\n",
    "#Vemos que con los 15 componentes tenemos el 99% de varianza explicada"
   ]
  },
  {
   "cell_type": "code",
   "execution_count": null,
   "metadata": {},
   "outputs": [],
   "source": [
    "#graficamos el acumulado de varianza explicada en las nuevas dimensiones\n",
    "plt.plot(np.cumsum(pca.explained_variance_ratio_), color = 'y')\n",
    "plt.xlabel('number of components')\n",
    "plt.ylabel('cumulative explained variance')\n",
    "plt.show() "
   ]
  },
  {
   "cell_type": "code",
   "execution_count": null,
   "metadata": {},
   "outputs": [],
   "source": [
    "# Damos un nombre a cada columna del DF una vez realizado el PCA.\n",
    "df_pca = pd.DataFrame (data = df_transforming, columns = ['1','2','3','4','5','6','7','8','9',\n",
    "                                                          '10','11','12','13','14','15'\n",
    "                                                          ])"
   ]
  },
  {
   "cell_type": "code",
   "execution_count": null,
   "metadata": {},
   "outputs": [],
   "source": [
    "# Unimos nuestro Target al DF con PCA realizado.\n",
    "finalDf = pd.concat ([df_pca, df_normalizado [['lp_seg_hogar']]], axis = 1)"
   ]
  },
  {
   "cell_type": "code",
   "execution_count": null,
   "metadata": {},
   "outputs": [],
   "source": [
    "finalDf.columns"
   ]
  },
  {
   "cell_type": "markdown",
   "metadata": {},
   "source": [
    "## __ESTUDIO DEL TARGET __Seguro_Hogar____"
   ]
  },
  {
   "cell_type": "code",
   "execution_count": 180,
   "metadata": {},
   "outputs": [],
   "source": [
    "df = pd.read_csv('/home/dsc/Master-Kschool/TFM/Financial-Product-Sales-Forecast-Model/0rigin_data/cleanned_data/df.tfm')"
   ]
  },
  {
   "cell_type": "markdown",
   "metadata": {},
   "source": [
    "- Que estructura tiene el Target ?\n",
    "- Como se relaciona con el resto de variables\n",
    "- Son importantes todas las variables ?\n",
    "- Podemos descartar alguna variable de cara al modelo ?"
   ]
  },
  {
   "cell_type": "code",
   "execution_count": 181,
   "metadata": {},
   "outputs": [
    {
     "data": {
      "text/plain": [
       "array([1, 0])"
      ]
     },
     "execution_count": 181,
     "metadata": {},
     "output_type": "execute_result"
    }
   ],
   "source": [
    "# Variable Binaria.  1 Tiene Seguro - 0 No tiene Seguro\n",
    "df['lp_seg_hogar'].unique()"
   ]
  },
  {
   "cell_type": "markdown",
   "metadata": {},
   "source": [
    "### Estructura de Target"
   ]
  },
  {
   "cell_type": "code",
   "execution_count": 202,
   "metadata": {},
   "outputs": [
    {
     "name": "stdout",
     "output_type": "stream",
     "text": [
      "0    0.869707\n",
      "1    0.130293\n",
      "Name: lp_seg_hogar, dtype: float64\n",
      "% Clientes con Seguro Hogar 0.13 --TARGET\n"
     ]
    },
    {
     "data": {
      "image/png": "[encoded data removed]",
      "text/plain": [
       "<Figure size 432x288 with 1 Axes>"
      ]
     },
     "metadata": {
      "needs_background": "light"
     },
     "output_type": "display_data"
    }
   ],
   "source": [
    "seguro_hogar = pd.value_counts(df['lp_seg_hogar'], sort = True, normalize = True)\n",
    "print (seguro_hogar)\n",
    "\n",
    "# Ploteamos el desbalanceo de la variable Target para una mejor visualizacion\n",
    "# Vemos % y numero de clientes\n",
    "seguro_hogar.plot(kind = 'bar', rot = 0, color = 'r')\n",
    "print('% Clientes con Seguro Hogar',df['lp_seg_hogar'].value_counts(normalize = True)[1].round(2), '--TARGET')\n",
    "plt.xlabel('Seguro Hogar')\n",
    "plt.show()\n"
   ]
  },
  {
   "cell_type": "code",
   "execution_count": 194,
   "metadata": {},
   "outputs": [
    {
     "name": "stdout",
     "output_type": "stream",
     "text": [
      "dz\n",
      "1     6824\n",
      "2     5957\n",
      "3     7233\n",
      "4     4258\n",
      "5     6524\n",
      "6     5334\n",
      "7     4614\n",
      "8     2274\n",
      "9     3527\n",
      "10    6176\n",
      "11    6090\n",
      "Name: lp_seg_hogar, dtype: int64\n"
     ]
    },
    {
     "data": {
      "text/plain": [
       "<AxesSubplot:xlabel='dz'>"
      ]
     },
     "execution_count": 194,
     "metadata": {},
     "output_type": "execute_result"
    },
    {
     "data": {
      "image/png": "[encoded data removed]",
      "text/plain": [
       "<Figure size 432x288 with 1 Axes>"
      ]
     },
     "metadata": {
      "needs_background": "light"
     },
     "output_type": "display_data"
    }
   ],
   "source": [
    "# Numero de clientes con Seguro de Hogar por DZ\n",
    "print(df.groupby('dz')['lp_seg_hogar'].sum())\n",
    "Seguros_de_hogar_por_DZ = df.groupby('dz')['lp_seg_hogar'].sum().sort_values(ascending = False)\n",
    "Seguros_de_hogar_por_DZ.plot(kind ='bar',\n",
    "                             legend = 'Reverse',\n",
    "                             grid = True,color = 'r',\n",
    "                             rot = 0,\n",
    "                             edgecolor = 'black',\n",
    "                             linewidth=1)"
   ]
  },
  {
   "cell_type": "code",
   "execution_count": 67,
   "metadata": {
    "scrolled": true
   },
   "outputs": [
    {
     "data": {
      "text/plain": [
       "<AxesSubplot:xlabel='edad'>"
      ]
     },
     "execution_count": 67,
     "metadata": {},
     "output_type": "execute_result"
    },
    {
     "data": {
      "image/png": "[encoded data removed]",
      "text/plain": [
       "<Figure size 432x288 with 1 Axes>"
      ]
     },
     "metadata": {
      "needs_background": "light"
     },
     "output_type": "display_data"
    }
   ],
   "source": [
    "# Clientes con Seguro de Hogar segun las edades\n",
    "# Count refleja el Numero total de clientes en el segmento edad\n",
    "# Sum refleja Numero de clientes con Seguro de Hogar\n",
    "segmentacion_por_edad = pd.cut(df['edad'], bins=(0, 25, 50, 75, 120))\n",
    "df.groupby(segmentacion_por_edad)[['lp_seg_hogar']].agg(['count','sum']).plot(kind = 'bar')"
   ]
  },
  {
   "cell_type": "code",
   "execution_count": 36,
   "metadata": {
    "scrolled": false
   },
   "outputs": [
    {
     "name": "stdout",
     "output_type": "stream",
     "text": [
      "tipo_gestor              lp_seg_hogar\n",
      "ASESOR FINANCIERO        0               349347\n",
      "                         1                54493\n",
      "SIN GESTOR               0                39209\n",
      "                         1                 3935\n",
      "SUBDIRECCIÓN DE OFICINA  0                 4007\n",
      "                         1                  383\n",
      "Name: lp_seg_hogar, dtype: int64\n"
     ]
    },
    {
     "data": {
      "text/plain": [
       "<AxesSubplot:xlabel='tipo_gestor,lp_seg_hogar'>"
      ]
     },
     "execution_count": 36,
     "metadata": {},
     "output_type": "execute_result"
    },
    {
     "data": {
      "image/png": "[encoded data removed]",
      "text/plain": [
       "<Figure size 432x288 with 1 Axes>"
      ]
     },
     "metadata": {
      "needs_background": "light"
     },
     "output_type": "display_data"
    }
   ],
   "source": [
    "# Distribucion seguros de hogar por tipo de gestor\n",
    "print(df.groupby('tipo_gestor')['lp_seg_hogar'].value_counts())\n",
    "df.groupby('tipo_gestor')['lp_seg_hogar'].value_counts().plot(kind ='bar',legend = 'Reverse', grid = True, color = 'y')"
   ]
  },
  {
   "cell_type": "code",
   "execution_count": 39,
   "metadata": {},
   "outputs": [
    {
     "name": "stdout",
     "output_type": "stream",
     "text": [
      "lp_dom_ingresos  lp_seg_hogar\n",
      "0                0               127275\n",
      "                 1                 4921\n",
      "1                0               265288\n",
      "                 1                53890\n",
      "Name: lp_seg_hogar, dtype: int64\n"
     ]
    },
    {
     "data": {
      "text/plain": [
       "<AxesSubplot:xlabel='lp_dom_ingresos,lp_seg_hogar'>"
      ]
     },
     "execution_count": 39,
     "metadata": {},
     "output_type": "execute_result"
    },
    {
     "data": {
      "image/png": "[encoded data removed]",
      "text/plain": [
       "<Figure size 432x288 with 1 Axes>"
      ]
     },
     "metadata": {
      "needs_background": "light"
     },
     "output_type": "display_data"
    }
   ],
   "source": [
    "# Distribucion seguros de hogar por ingresos\n",
    "print(df.groupby('lp_dom_ingresos')['lp_seg_hogar'].value_counts())\n",
    "df.groupby('lp_dom_ingresos')['lp_seg_hogar'].value_counts().plot(kind ='bar',legend = 'Reverse', grid = True, color = 'y')"
   ]
  },
  {
   "cell_type": "code",
   "execution_count": null,
   "metadata": {},
   "outputs": [],
   "source": []
  },
  {
   "cell_type": "code",
   "execution_count": null,
   "metadata": {},
   "outputs": [],
   "source": []
  },
  {
   "cell_type": "code",
   "execution_count": null,
   "metadata": {},
   "outputs": [],
   "source": []
  }
 ],
 "metadata": {
  "kernelspec": {
   "display_name": "Python 3",
   "language": "python",
   "name": "python3"
  },
  "language_info": {
   "codemirror_mode": {
    "name": "ipython",
    "version": 3
   },
   "file_extension": ".py",
   "mimetype": "text/x-python",
   "name": "python",
   "nbconvert_exporter": "python",
   "pygments_lexer": "ipython3",
   "version": "3.7.7"
  }
 },
 "nbformat": 4,
 "nbformat_minor": 2
}
