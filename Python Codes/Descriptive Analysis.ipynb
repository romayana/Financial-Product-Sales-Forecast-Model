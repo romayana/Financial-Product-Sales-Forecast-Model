{
 "cells": [
  {
   "cell_type": "markdown",
   "metadata": {},
   "source": [
    "#   Descriptive Analysis "
   ]
  },
  {
   "cell_type": "markdown",
   "metadata": {},
   "source": [
    "- We initially load the libraries that we will need for the descriptive analysis of the database"
   ]
  },
  {
   "cell_type": "code",
   "execution_count": 1,
   "metadata": {},
   "outputs": [],
   "source": [
    "import pandas as pd\n",
    "import matplotlib.pyplot as plt\n",
    "import seaborn as sns\n",
    "from seaborn import distplot\n",
    "from scipy.stats import norm"
   ]
  },
  {
   "cell_type": "markdown",
   "metadata": {},
   "source": [
    "- We read the file we have built and cleaned up previously."
   ]
  },
  {
   "cell_type": "code",
   "execution_count": 3,
   "metadata": {},
   "outputs": [],
   "source": [
    "# Read csv\n",
    "df = pd.read_csv('/home/dsc/Master-Kschool/TFM/cleanned_data/df.csv')"
   ]
  },
  {
   "cell_type": "markdown",
   "metadata": {},
   "source": [
    "- We take a first look at the data we have available. We observe that the data frame is composed of a total of 13.541.220 data distributed in 451,374 rows and 30 columns.  "
   ]
  },
  {
   "cell_type": "code",
   "execution_count": 4,
   "metadata": {},
   "outputs": [
    {
     "data": {
      "text/html": [
       "<div>\n",
       "<style scoped>\n",
       "    .dataframe tbody tr th:only-of-type {\n",
       "        vertical-align: middle;\n",
       "    }\n",
       "\n",
       "    .dataframe tbody tr th {\n",
       "        vertical-align: top;\n",
       "    }\n",
       "\n",
       "    .dataframe thead th {\n",
       "        text-align: right;\n",
       "    }\n",
       "</style>\n",
       "<table border=\"1\" class=\"dataframe\">\n",
       "  <thead>\n",
       "    <tr style=\"text-align: right;\">\n",
       "      <th></th>\n",
       "      <th>Unnamed: 0</th>\n",
       "      <th>cliente</th>\n",
       "      <th>saldo_captacion</th>\n",
       "      <th>esta_carterizado</th>\n",
       "      <th>cliente_bbp</th>\n",
       "      <th>tipo_gestor</th>\n",
       "      <th>gestor</th>\n",
       "      <th>cartera_patron</th>\n",
       "      <th>codigo_cartera</th>\n",
       "      <th>digital_3_meses</th>\n",
       "      <th>...</th>\n",
       "      <th>edad</th>\n",
       "      <th>seg_valor</th>\n",
       "      <th>seg_recorrido</th>\n",
       "      <th>dz</th>\n",
       "      <th>oficina</th>\n",
       "      <th>lp_seg_vida</th>\n",
       "      <th>lp_seg_acc</th>\n",
       "      <th>lp_seg_medico</th>\n",
       "      <th>lp_seg_hogar</th>\n",
       "      <th>lp_seg_auto</th>\n",
       "    </tr>\n",
       "  </thead>\n",
       "  <tbody>\n",
       "    <tr>\n",
       "      <th>117626</th>\n",
       "      <td>222053</td>\n",
       "      <td>117627</td>\n",
       "      <td>43390.64</td>\n",
       "      <td>SI</td>\n",
       "      <td>NO</td>\n",
       "      <td>ASESOR FINANCIERO</td>\n",
       "      <td>55762.0</td>\n",
       "      <td>ASESORAMIENTO FINANCIERO</td>\n",
       "      <td>16013.0</td>\n",
       "      <td>NO</td>\n",
       "      <td>...</td>\n",
       "      <td>70</td>\n",
       "      <td>ALTO</td>\n",
       "      <td>ALTO RECORRIDO</td>\n",
       "      <td>6</td>\n",
       "      <td>611</td>\n",
       "      <td>0</td>\n",
       "      <td>0</td>\n",
       "      <td>0</td>\n",
       "      <td>0</td>\n",
       "      <td>0</td>\n",
       "    </tr>\n",
       "    <tr>\n",
       "      <th>422066</th>\n",
       "      <td>162730</td>\n",
       "      <td>422067</td>\n",
       "      <td>5507.52</td>\n",
       "      <td>SI</td>\n",
       "      <td>NO</td>\n",
       "      <td>ASESOR FINANCIERO</td>\n",
       "      <td>31714.0</td>\n",
       "      <td>ASESORAMIENTO FINANCIERO</td>\n",
       "      <td>36464.0</td>\n",
       "      <td>SI</td>\n",
       "      <td>...</td>\n",
       "      <td>47</td>\n",
       "      <td>ALTO</td>\n",
       "      <td>MEDIO RECORRIDO</td>\n",
       "      <td>4</td>\n",
       "      <td>423</td>\n",
       "      <td>1</td>\n",
       "      <td>0</td>\n",
       "      <td>0</td>\n",
       "      <td>0</td>\n",
       "      <td>0</td>\n",
       "    </tr>\n",
       "    <tr>\n",
       "      <th>22888</th>\n",
       "      <td>410500</td>\n",
       "      <td>22889</td>\n",
       "      <td>25813.29</td>\n",
       "      <td>SI</td>\n",
       "      <td>NO</td>\n",
       "      <td>ASESOR FINANCIERO</td>\n",
       "      <td>36981.0</td>\n",
       "      <td>ASESORAMIENTO FINANCIERO</td>\n",
       "      <td>37219.0</td>\n",
       "      <td>NO</td>\n",
       "      <td>...</td>\n",
       "      <td>80</td>\n",
       "      <td>MEDIO</td>\n",
       "      <td>ALTO RECORRIDO</td>\n",
       "      <td>11</td>\n",
       "      <td>1112</td>\n",
       "      <td>0</td>\n",
       "      <td>0</td>\n",
       "      <td>0</td>\n",
       "      <td>0</td>\n",
       "      <td>0</td>\n",
       "    </tr>\n",
       "    <tr>\n",
       "      <th>147416</th>\n",
       "      <td>394374</td>\n",
       "      <td>147417</td>\n",
       "      <td>997.20</td>\n",
       "      <td>NO</td>\n",
       "      <td>NO</td>\n",
       "      <td>SIN GESTOR</td>\n",
       "      <td>0.0</td>\n",
       "      <td>SIN CARTERA</td>\n",
       "      <td>0.0</td>\n",
       "      <td>SI</td>\n",
       "      <td>...</td>\n",
       "      <td>47</td>\n",
       "      <td>MEDIO</td>\n",
       "      <td>MEDIO RECORRIDO</td>\n",
       "      <td>10</td>\n",
       "      <td>1021</td>\n",
       "      <td>0</td>\n",
       "      <td>0</td>\n",
       "      <td>0</td>\n",
       "      <td>0</td>\n",
       "      <td>0</td>\n",
       "    </tr>\n",
       "    <tr>\n",
       "      <th>160632</th>\n",
       "      <td>444546</td>\n",
       "      <td>160633</td>\n",
       "      <td>157.80</td>\n",
       "      <td>NO</td>\n",
       "      <td>NO</td>\n",
       "      <td>SIN GESTOR</td>\n",
       "      <td>0.0</td>\n",
       "      <td>SIN CARTERA</td>\n",
       "      <td>0.0</td>\n",
       "      <td>SI</td>\n",
       "      <td>...</td>\n",
       "      <td>23</td>\n",
       "      <td>MEDIO</td>\n",
       "      <td>MEDIO RECORRIDO</td>\n",
       "      <td>11</td>\n",
       "      <td>1122</td>\n",
       "      <td>0</td>\n",
       "      <td>0</td>\n",
       "      <td>0</td>\n",
       "      <td>0</td>\n",
       "      <td>0</td>\n",
       "    </tr>\n",
       "    <tr>\n",
       "      <th>235501</th>\n",
       "      <td>18922</td>\n",
       "      <td>235502</td>\n",
       "      <td>27687.26</td>\n",
       "      <td>SI</td>\n",
       "      <td>NO</td>\n",
       "      <td>ASESOR FINANCIERO</td>\n",
       "      <td>34329.0</td>\n",
       "      <td>ASESORAMIENTO FINANCIERO</td>\n",
       "      <td>15217.0</td>\n",
       "      <td>SI</td>\n",
       "      <td>...</td>\n",
       "      <td>68</td>\n",
       "      <td>MEDIO</td>\n",
       "      <td>MEDIO RECORRIDO</td>\n",
       "      <td>1</td>\n",
       "      <td>115</td>\n",
       "      <td>0</td>\n",
       "      <td>0</td>\n",
       "      <td>0</td>\n",
       "      <td>0</td>\n",
       "      <td>0</td>\n",
       "    </tr>\n",
       "    <tr>\n",
       "      <th>218548</th>\n",
       "      <td>303694</td>\n",
       "      <td>218549</td>\n",
       "      <td>7638.25</td>\n",
       "      <td>SI</td>\n",
       "      <td>NO</td>\n",
       "      <td>ASESOR FINANCIERO</td>\n",
       "      <td>1585.0</td>\n",
       "      <td>ASESORAMIENTO FINANCIERO</td>\n",
       "      <td>13926.0</td>\n",
       "      <td>SI</td>\n",
       "      <td>...</td>\n",
       "      <td>43</td>\n",
       "      <td>MEDIO</td>\n",
       "      <td>MEDIO RECORRIDO</td>\n",
       "      <td>8</td>\n",
       "      <td>811</td>\n",
       "      <td>0</td>\n",
       "      <td>0</td>\n",
       "      <td>0</td>\n",
       "      <td>0</td>\n",
       "      <td>0</td>\n",
       "    </tr>\n",
       "    <tr>\n",
       "      <th>38222</th>\n",
       "      <td>369897</td>\n",
       "      <td>38223</td>\n",
       "      <td>2183.45</td>\n",
       "      <td>SI</td>\n",
       "      <td>NO</td>\n",
       "      <td>ASESOR FINANCIERO</td>\n",
       "      <td>41207.0</td>\n",
       "      <td>ASESORAMIENTO FINANCIERO</td>\n",
       "      <td>34228.0</td>\n",
       "      <td>NO</td>\n",
       "      <td>...</td>\n",
       "      <td>83</td>\n",
       "      <td>MEDIO</td>\n",
       "      <td>ALTO RECORRIDO</td>\n",
       "      <td>10</td>\n",
       "      <td>1012</td>\n",
       "      <td>0</td>\n",
       "      <td>0</td>\n",
       "      <td>0</td>\n",
       "      <td>0</td>\n",
       "      <td>0</td>\n",
       "    </tr>\n",
       "    <tr>\n",
       "      <th>203997</th>\n",
       "      <td>227928</td>\n",
       "      <td>203998</td>\n",
       "      <td>7413.04</td>\n",
       "      <td>SI</td>\n",
       "      <td>NO</td>\n",
       "      <td>ASESOR FINANCIERO</td>\n",
       "      <td>16134.0</td>\n",
       "      <td>ASESORAMIENTO FINANCIERO</td>\n",
       "      <td>13390.0</td>\n",
       "      <td>SI</td>\n",
       "      <td>...</td>\n",
       "      <td>74</td>\n",
       "      <td>MEDIO</td>\n",
       "      <td>MEDIO RECORRIDO</td>\n",
       "      <td>6</td>\n",
       "      <td>612</td>\n",
       "      <td>0</td>\n",
       "      <td>0</td>\n",
       "      <td>0</td>\n",
       "      <td>0</td>\n",
       "      <td>0</td>\n",
       "    </tr>\n",
       "    <tr>\n",
       "      <th>433463</th>\n",
       "      <td>41933</td>\n",
       "      <td>433464</td>\n",
       "      <td>62502.47</td>\n",
       "      <td>SI</td>\n",
       "      <td>NO</td>\n",
       "      <td>ASESOR FINANCIERO</td>\n",
       "      <td>17202.0</td>\n",
       "      <td>TUTELA</td>\n",
       "      <td>18547.0</td>\n",
       "      <td>SI</td>\n",
       "      <td>...</td>\n",
       "      <td>47</td>\n",
       "      <td>ALTO</td>\n",
       "      <td>ALTO RECORRIDO</td>\n",
       "      <td>1</td>\n",
       "      <td>123</td>\n",
       "      <td>0</td>\n",
       "      <td>0</td>\n",
       "      <td>0</td>\n",
       "      <td>0</td>\n",
       "      <td>0</td>\n",
       "    </tr>\n",
       "  </tbody>\n",
       "</table>\n",
       "<p>10 rows × 31 columns</p>\n",
       "</div>"
      ],
      "text/plain": [
       "        Unnamed: 0  cliente  saldo_captacion esta_carterizado cliente_bbp  \\\n",
       "117626      222053   117627         43390.64               SI          NO   \n",
       "422066      162730   422067          5507.52               SI          NO   \n",
       "22888       410500    22889         25813.29               SI          NO   \n",
       "147416      394374   147417           997.20               NO          NO   \n",
       "160632      444546   160633           157.80               NO          NO   \n",
       "235501       18922   235502         27687.26               SI          NO   \n",
       "218548      303694   218549          7638.25               SI          NO   \n",
       "38222       369897    38223          2183.45               SI          NO   \n",
       "203997      227928   203998          7413.04               SI          NO   \n",
       "433463       41933   433464         62502.47               SI          NO   \n",
       "\n",
       "              tipo_gestor   gestor            cartera_patron  codigo_cartera  \\\n",
       "117626  ASESOR FINANCIERO  55762.0  ASESORAMIENTO FINANCIERO         16013.0   \n",
       "422066  ASESOR FINANCIERO  31714.0  ASESORAMIENTO FINANCIERO         36464.0   \n",
       "22888   ASESOR FINANCIERO  36981.0  ASESORAMIENTO FINANCIERO         37219.0   \n",
       "147416         SIN GESTOR      0.0               SIN CARTERA             0.0   \n",
       "160632         SIN GESTOR      0.0               SIN CARTERA             0.0   \n",
       "235501  ASESOR FINANCIERO  34329.0  ASESORAMIENTO FINANCIERO         15217.0   \n",
       "218548  ASESOR FINANCIERO   1585.0  ASESORAMIENTO FINANCIERO         13926.0   \n",
       "38222   ASESOR FINANCIERO  41207.0  ASESORAMIENTO FINANCIERO         34228.0   \n",
       "203997  ASESOR FINANCIERO  16134.0  ASESORAMIENTO FINANCIERO         13390.0   \n",
       "433463  ASESOR FINANCIERO  17202.0                    TUTELA         18547.0   \n",
       "\n",
       "       digital_3_meses     ...     edad  seg_valor    seg_recorrido  dz  \\\n",
       "117626              NO     ...       70       ALTO   ALTO RECORRIDO   6   \n",
       "422066              SI     ...       47       ALTO  MEDIO RECORRIDO   4   \n",
       "22888               NO     ...       80      MEDIO   ALTO RECORRIDO  11   \n",
       "147416              SI     ...       47      MEDIO  MEDIO RECORRIDO  10   \n",
       "160632              SI     ...       23      MEDIO  MEDIO RECORRIDO  11   \n",
       "235501              SI     ...       68      MEDIO  MEDIO RECORRIDO   1   \n",
       "218548              SI     ...       43      MEDIO  MEDIO RECORRIDO   8   \n",
       "38222               NO     ...       83      MEDIO   ALTO RECORRIDO  10   \n",
       "203997              SI     ...       74      MEDIO  MEDIO RECORRIDO   6   \n",
       "433463              SI     ...       47       ALTO   ALTO RECORRIDO   1   \n",
       "\n",
       "        oficina  lp_seg_vida  lp_seg_acc  lp_seg_medico  lp_seg_hogar  \\\n",
       "117626      611            0           0              0             0   \n",
       "422066      423            1           0              0             0   \n",
       "22888      1112            0           0              0             0   \n",
       "147416     1021            0           0              0             0   \n",
       "160632     1122            0           0              0             0   \n",
       "235501      115            0           0              0             0   \n",
       "218548      811            0           0              0             0   \n",
       "38222      1012            0           0              0             0   \n",
       "203997      612            0           0              0             0   \n",
       "433463      123            0           0              0             0   \n",
       "\n",
       "       lp_seg_auto  \n",
       "117626           0  \n",
       "422066           0  \n",
       "22888            0  \n",
       "147416           0  \n",
       "160632           0  \n",
       "235501           0  \n",
       "218548           0  \n",
       "38222            0  \n",
       "203997           0  \n",
       "433463           0  \n",
       "\n",
       "[10 rows x 31 columns]"
      ]
     },
     "execution_count": 4,
     "metadata": {},
     "output_type": "execute_result"
    }
   ],
   "source": [
    "# First Look with Sample\n",
    "\n",
    "df.sample(10)"
   ]
  },
  {
   "cell_type": "code",
   "execution_count": 5,
   "metadata": {},
   "outputs": [
    {
     "data": {
      "text/plain": [
       "Index(['Unnamed: 0', 'cliente', 'saldo_captacion', 'esta_carterizado',\n",
       "       'cliente_bbp', 'tipo_gestor', 'gestor', 'cartera_patron',\n",
       "       'codigo_cartera', 'digital_3_meses', 'camino_digital',\n",
       "       'saldo_financiacion', 'saldo_ffii', 'saldo_plp', 'lp_ingresos',\n",
       "       'lp_tjta_cto', 'lp_tjt_rev', 'lp_rbos', 'lp_of_int', 'marca_bp',\n",
       "       'marca_ccte', 'edad', 'seg_valor', 'seg_recorrido', 'dz', 'oficina',\n",
       "       'lp_seg_vida', 'lp_seg_acc', 'lp_seg_medico', 'lp_seg_hogar',\n",
       "       'lp_seg_auto'],\n",
       "      dtype='object')"
      ]
     },
     "execution_count": 5,
     "metadata": {},
     "output_type": "execute_result"
    }
   ],
   "source": [
    "# Data frame columns \n",
    "df.columns"
   ]
  },
  {
   "cell_type": "code",
   "execution_count": 7,
   "metadata": {},
   "outputs": [],
   "source": [
    "df.drop(df.columns[[0]],axis='columns', inplace = True)"
   ]
  },
  {
   "cell_type": "code",
   "execution_count": 8,
   "metadata": {},
   "outputs": [
    {
     "data": {
      "text/plain": [
       "Index(['cliente', 'saldo_captacion', 'esta_carterizado', 'cliente_bbp',\n",
       "       'tipo_gestor', 'gestor', 'cartera_patron', 'codigo_cartera',\n",
       "       'digital_3_meses', 'camino_digital', 'saldo_financiacion', 'saldo_ffii',\n",
       "       'saldo_plp', 'lp_ingresos', 'lp_tjta_cto', 'lp_tjt_rev', 'lp_rbos',\n",
       "       'lp_of_int', 'marca_bp', 'marca_ccte', 'edad', 'seg_valor',\n",
       "       'seg_recorrido', 'dz', 'oficina', 'lp_seg_vida', 'lp_seg_acc',\n",
       "       'lp_seg_medico', 'lp_seg_hogar', 'lp_seg_auto'],\n",
       "      dtype='object')"
      ]
     },
     "execution_count": 8,
     "metadata": {},
     "output_type": "execute_result"
    }
   ],
   "source": [
    "# Data frame columns \n",
    "\n",
    "df.columns"
   ]
  },
  {
   "cell_type": "code",
   "execution_count": 9,
   "metadata": {},
   "outputs": [
    {
     "data": {
      "text/plain": [
       "(451374, 30)"
      ]
     },
     "execution_count": 9,
     "metadata": {},
     "output_type": "execute_result"
    }
   ],
   "source": [
    "# Data frame Shape \n",
    "\n",
    "df.shape"
   ]
  },
  {
   "cell_type": "code",
   "execution_count": 10,
   "metadata": {},
   "outputs": [
    {
     "data": {
      "text/plain": [
       "13541220"
      ]
     },
     "execution_count": 10,
     "metadata": {},
     "output_type": "execute_result"
    }
   ],
   "source": [
    "df.count().sum()"
   ]
  },
  {
   "cell_type": "markdown",
   "metadata": {},
   "source": [
    "- We check that the data does not contain Nans.  These had been cleaned in our previous step."
   ]
  },
  {
   "cell_type": "code",
   "execution_count": 13,
   "metadata": {},
   "outputs": [],
   "source": [
    "# Check for Nans\n",
    "\n",
    "df.isna().any();"
   ]
  },
  {
   "cell_type": "markdown",
   "metadata": {},
   "source": [
    "-  We inform ourselves of the type of data contained in the data frame.  We observe that the data needs to be modified.  All columns except the numerical ones of PP-FFII-EDAD-CAPTATION and FINANCING must be categorized as object.  We proceed to change them and check their modification."
   ]
  },
  {
   "cell_type": "code",
   "execution_count": 16,
   "metadata": {},
   "outputs": [],
   "source": [
    "# Look at data types\n",
    "\n",
    "df.dtypes;"
   ]
  },
  {
   "cell_type": "code",
   "execution_count": 17,
   "metadata": {},
   "outputs": [],
   "source": [
    "# We modify the data\n",
    "\n",
    "df[['cliente','gestor', 'codigo_cartera','lp_ingresos','lp_tjta_cto',\n",
    "   'lp_tjt_rev','lp_rbos','lp_of_int','dz','oficina',\n",
    "   'lp_seg_vida','lp_seg_acc','lp_seg_medico','lp_seg_hogar','lp_seg_auto']] = df[['cliente','gestor', 'codigo_cartera','lp_ingresos','lp_tjta_cto',\n",
    "   'lp_tjt_rev','lp_rbos','lp_of_int','dz','oficina',\n",
    "   'lp_seg_vida','lp_seg_acc','lp_seg_medico','lp_seg_hogar','lp_seg_auto']].astype(object);"
   ]
  },
  {
   "cell_type": "code",
   "execution_count": 18,
   "metadata": {},
   "outputs": [],
   "source": [
    "df.edad = df.edad.astype(int);"
   ]
  },
  {
   "cell_type": "code",
   "execution_count": 20,
   "metadata": {},
   "outputs": [],
   "source": [
    "# We confirm the modification\n",
    "\n",
    "df.dtypes;"
   ]
  },
  {
   "cell_type": "markdown",
   "metadata": {},
   "source": [
    "##  ===== Structural information  ====="
   ]
  },
  {
   "cell_type": "markdown",
   "metadata": {},
   "source": [
    "- We start the descriptive analysis by structuring and wanting to put into context all the data in this database. The first column on which all the other data descends is the DZ column (Zone Address). Each DZ is formed by a certain number of offices and these in turn by a certain number of customers.\n",
    "Each office has a number of Financial Advisors, each with a number of clients within its portfolio.  These clients are owners of financial products such as FFII, PlP, FINANCING, INSURANCE, CARDS, PAYMENTS...etc.\n",
    "\n"
   ]
  },
  {
   "cell_type": "code",
   "execution_count": 22,
   "metadata": {},
   "outputs": [
    {
     "data": {
      "text/plain": [
       "11"
      ]
     },
     "execution_count": 22,
     "metadata": {},
     "output_type": "execute_result"
    }
   ],
   "source": [
    "# ========== Total Number of Zone Adresses ==========\n",
    "\n",
    "df['dz'].nunique()"
   ]
  },
  {
   "cell_type": "code",
   "execution_count": 23,
   "metadata": {},
   "outputs": [
    {
     "data": {
      "text/plain": [
       "162"
      ]
     },
     "execution_count": 23,
     "metadata": {},
     "output_type": "execute_result"
    }
   ],
   "source": [
    "# ========== Total Number of Offices ==========\n",
    "\n",
    "df['oficina'].nunique()"
   ]
  },
  {
   "cell_type": "code",
   "execution_count": 24,
   "metadata": {},
   "outputs": [
    {
     "data": {
      "text/plain": [
       "451374"
      ]
     },
     "execution_count": 24,
     "metadata": {},
     "output_type": "execute_result"
    }
   ],
   "source": [
    "# ========== Total Number of Clients ==========\n",
    "\n",
    "df['cliente'].nunique()"
   ]
  },
  {
   "cell_type": "code",
   "execution_count": 25,
   "metadata": {},
   "outputs": [
    {
     "name": "stdout",
     "output_type": "stream",
     "text": [
      "*** Total Number of Offices by Zone Address ***\n",
      "dz\n",
      "1     15\n",
      "2     13\n",
      "3     17\n",
      "4     16\n",
      "5     17\n",
      "6     15\n",
      "7     13\n",
      "8     11\n",
      "9     16\n",
      "10    15\n",
      "11    14\n",
      "Name: oficina, dtype: int64\n",
      "===============================================\n",
      " Offices Distribution\n",
      " 1 DZ con 11 Oficinas / 2 DZ con 13 Oficinas / 1 DZ con 14 Oficinas\n",
      " 3 DZ con 15 Oficinas / 2 DZ con 16 Oficinas / 2 DZ con 17 Oficinas\n"
     ]
    },
    {
     "data": {
      "image/png": "[encoded data removed]",
      "text/plain": [
       "<Figure size 432x288 with 1 Axes>"
      ]
     },
     "metadata": {
      "needs_background": "light"
     },
     "output_type": "display_data"
    }
   ],
   "source": [
    "# ========== Total Number of Offices by Zone Address ==========\n",
    "\n",
    "n_oficinas_por_dz = df.groupby(['dz'])['oficina'].nunique()\n",
    "print('*** Total Number of Offices by Zone Address ***')\n",
    "print(n_oficinas_por_dz)\n",
    "print('===============================================')\n",
    "print(''' Offices Distribution\n",
    " 1 DZ con 11 Oficinas / 2 DZ con 13 Oficinas / 1 DZ con 14 Oficinas\n",
    " 3 DZ con 15 Oficinas / 2 DZ con 16 Oficinas / 2 DZ con 17 Oficinas''')\n",
    "sns.countplot(n_oficinas_por_dz);"
   ]
  },
  {
   "cell_type": "code",
   "execution_count": 26,
   "metadata": {},
   "outputs": [
    {
     "data": {
      "text/plain": [
       "dz\n",
       "1     45534\n",
       "2     35406\n",
       "3     48081\n",
       "4     38749\n",
       "5     51468\n",
       "6     42198\n",
       "7     37926\n",
       "8     21690\n",
       "9     40227\n",
       "10    42360\n",
       "11    47735\n",
       "Name: cliente, dtype: int64"
      ]
     },
     "execution_count": 26,
     "metadata": {},
     "output_type": "execute_result"
    }
   ],
   "source": [
    "# ========== Total Number of Customers by Zone Address ==========\n",
    "\n",
    "n_clientes_por_dz = df.groupby(['dz'])['cliente'].nunique()\n",
    "n_clientes_por_dz"
   ]
  },
  {
   "cell_type": "code",
   "execution_count": null,
   "metadata": {},
   "outputs": [],
   "source": []
  },
  {
   "cell_type": "code",
   "execution_count": null,
   "metadata": {},
   "outputs": [],
   "source": []
  },
  {
   "cell_type": "code",
   "execution_count": null,
   "metadata": {},
   "outputs": [],
   "source": []
  },
  {
   "cell_type": "code",
   "execution_count": null,
   "metadata": {},
   "outputs": [],
   "source": []
  },
  {
   "cell_type": "code",
   "execution_count": null,
   "metadata": {},
   "outputs": [],
   "source": []
  },
  {
   "cell_type": "code",
   "execution_count": null,
   "metadata": {},
   "outputs": [],
   "source": []
  },
  {
   "cell_type": "code",
   "execution_count": null,
   "metadata": {},
   "outputs": [],
   "source": []
  },
  {
   "cell_type": "code",
   "execution_count": null,
   "metadata": {},
   "outputs": [],
   "source": []
  },
  {
   "cell_type": "code",
   "execution_count": null,
   "metadata": {},
   "outputs": [],
   "source": []
  },
  {
   "cell_type": "code",
   "execution_count": null,
   "metadata": {},
   "outputs": [],
   "source": []
  },
  {
   "cell_type": "code",
   "execution_count": null,
   "metadata": {},
   "outputs": [],
   "source": []
  },
  {
   "cell_type": "code",
   "execution_count": null,
   "metadata": {},
   "outputs": [],
   "source": []
  },
  {
   "cell_type": "code",
   "execution_count": null,
   "metadata": {},
   "outputs": [],
   "source": []
  },
  {
   "cell_type": "code",
   "execution_count": null,
   "metadata": {},
   "outputs": [],
   "source": []
  },
  {
   "cell_type": "code",
   "execution_count": null,
   "metadata": {},
   "outputs": [],
   "source": []
  },
  {
   "cell_type": "code",
   "execution_count": null,
   "metadata": {},
   "outputs": [],
   "source": []
  },
  {
   "cell_type": "code",
   "execution_count": null,
   "metadata": {},
   "outputs": [],
   "source": []
  },
  {
   "cell_type": "code",
   "execution_count": null,
   "metadata": {},
   "outputs": [],
   "source": []
  },
  {
   "cell_type": "code",
   "execution_count": null,
   "metadata": {},
   "outputs": [],
   "source": []
  },
  {
   "cell_type": "code",
   "execution_count": null,
   "metadata": {},
   "outputs": [],
   "source": []
  },
  {
   "cell_type": "code",
   "execution_count": null,
   "metadata": {},
   "outputs": [],
   "source": []
  }
 ],
 "metadata": {
  "kernelspec": {
   "display_name": "Python 3",
   "language": "python",
   "name": "python3"
  },
  "language_info": {
   "codemirror_mode": {
    "name": "ipython",
    "version": 3
   },
   "file_extension": ".py",
   "mimetype": "text/x-python",
   "name": "python",
   "nbconvert_exporter": "python",
   "pygments_lexer": "ipython3",
   "version": "3.7.1"
  }
 },
 "nbformat": 4,
 "nbformat_minor": 2
}
