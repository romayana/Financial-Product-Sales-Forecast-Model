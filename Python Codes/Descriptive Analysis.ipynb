{
 "cells": [
  {
   "cell_type": "code",
   "execution_count": 1,
   "metadata": {},
   "outputs": [],
   "source": [
    "import pandas as pd\n",
    "import matplotlib.pyplot as plt\n",
    "import seaborn as sns\n",
    "from seaborn import distplot\n",
    "from scipy.stats import norm"
   ]
  },
  {
   "cell_type": "code",
   "execution_count": 2,
   "metadata": {},
   "outputs": [],
   "source": [
    "df = pd.read_excel('/home/dsc/Master-Kschool/TFM/cleanned_data/df.xlsx')"
   ]
  },
  {
   "cell_type": "code",
   "execution_count": 3,
   "metadata": {},
   "outputs": [
    {
     "data": {
      "text/html": [
       "<div>\n",
       "<style scoped>\n",
       "    .dataframe tbody tr th:only-of-type {\n",
       "        vertical-align: middle;\n",
       "    }\n",
       "\n",
       "    .dataframe tbody tr th {\n",
       "        vertical-align: top;\n",
       "    }\n",
       "\n",
       "    .dataframe thead th {\n",
       "        text-align: right;\n",
       "    }\n",
       "</style>\n",
       "<table border=\"1\" class=\"dataframe\">\n",
       "  <thead>\n",
       "    <tr style=\"text-align: right;\">\n",
       "      <th></th>\n",
       "      <th>PERSONA</th>\n",
       "      <th>SF_AH_CAPTACION_TT</th>\n",
       "      <th>ESTA_CARTERIZADO</th>\n",
       "      <th>CLIENTE_BBP</th>\n",
       "      <th>TIP_GESTOR</th>\n",
       "      <th>GESTOR</th>\n",
       "      <th>CARTERA_PATRON</th>\n",
       "      <th>CODIGO_CARTERA</th>\n",
       "      <th>DIGITAL_3_MESES</th>\n",
       "      <th>CAMINO_DIGITAL</th>\n",
       "      <th>...</th>\n",
       "      <th>EDAD</th>\n",
       "      <th>SEGMENTO_VALOR</th>\n",
       "      <th>SEGMENTO_RECORRIDO</th>\n",
       "      <th>DZ</th>\n",
       "      <th>OFICINA</th>\n",
       "      <th>LP_SEG_VIDA</th>\n",
       "      <th>LP_SEG_ACCIDENT</th>\n",
       "      <th>LP_SEG_MEDICOS</th>\n",
       "      <th>LP_SEG_MULTIRRIES</th>\n",
       "      <th>LP_SEG_AUTO</th>\n",
       "    </tr>\n",
       "  </thead>\n",
       "  <tbody>\n",
       "    <tr>\n",
       "      <th>0</th>\n",
       "      <td>1</td>\n",
       "      <td>1328106.49</td>\n",
       "      <td>SI</td>\n",
       "      <td>NO</td>\n",
       "      <td>ASESOR FINANCIERO</td>\n",
       "      <td>18287</td>\n",
       "      <td>ASESORAMIENTO FINANCIERO</td>\n",
       "      <td>14881</td>\n",
       "      <td>SI</td>\n",
       "      <td>COMPRADOR</td>\n",
       "      <td>...</td>\n",
       "      <td>69</td>\n",
       "      <td>ALTO</td>\n",
       "      <td>BAJO RECORRIDO</td>\n",
       "      <td>2</td>\n",
       "      <td>210</td>\n",
       "      <td>0</td>\n",
       "      <td>0</td>\n",
       "      <td>0</td>\n",
       "      <td>1</td>\n",
       "      <td>0</td>\n",
       "    </tr>\n",
       "    <tr>\n",
       "      <th>1</th>\n",
       "      <td>2</td>\n",
       "      <td>1142234.34</td>\n",
       "      <td>SI</td>\n",
       "      <td>NO</td>\n",
       "      <td>ASESOR FINANCIERO</td>\n",
       "      <td>18287</td>\n",
       "      <td>ASESORAMIENTO FINANCIERO</td>\n",
       "      <td>14881</td>\n",
       "      <td>SI</td>\n",
       "      <td>COMPRADOR</td>\n",
       "      <td>...</td>\n",
       "      <td>81</td>\n",
       "      <td>ALTO</td>\n",
       "      <td>ALTO RECORRIDO</td>\n",
       "      <td>2</td>\n",
       "      <td>210</td>\n",
       "      <td>0</td>\n",
       "      <td>0</td>\n",
       "      <td>0</td>\n",
       "      <td>0</td>\n",
       "      <td>0</td>\n",
       "    </tr>\n",
       "    <tr>\n",
       "      <th>2</th>\n",
       "      <td>3</td>\n",
       "      <td>1142234.34</td>\n",
       "      <td>SI</td>\n",
       "      <td>NO</td>\n",
       "      <td>ASESOR FINANCIERO</td>\n",
       "      <td>18287</td>\n",
       "      <td>TUTELA</td>\n",
       "      <td>28332</td>\n",
       "      <td>NO</td>\n",
       "      <td>SIN USO</td>\n",
       "      <td>...</td>\n",
       "      <td>75</td>\n",
       "      <td>ALTO</td>\n",
       "      <td>BAJO RECORRIDO</td>\n",
       "      <td>2</td>\n",
       "      <td>210</td>\n",
       "      <td>0</td>\n",
       "      <td>0</td>\n",
       "      <td>0</td>\n",
       "      <td>0</td>\n",
       "      <td>0</td>\n",
       "    </tr>\n",
       "  </tbody>\n",
       "</table>\n",
       "<p>3 rows × 30 columns</p>\n",
       "</div>"
      ],
      "text/plain": [
       "   PERSONA  SF_AH_CAPTACION_TT ESTA_CARTERIZADO CLIENTE_BBP  \\\n",
       "0        1          1328106.49               SI          NO   \n",
       "1        2          1142234.34               SI          NO   \n",
       "2        3          1142234.34               SI          NO   \n",
       "\n",
       "          TIP_GESTOR  GESTOR            CARTERA_PATRON  CODIGO_CARTERA  \\\n",
       "0  ASESOR FINANCIERO   18287  ASESORAMIENTO FINANCIERO           14881   \n",
       "1  ASESOR FINANCIERO   18287  ASESORAMIENTO FINANCIERO           14881   \n",
       "2  ASESOR FINANCIERO   18287                    TUTELA           28332   \n",
       "\n",
       "  DIGITAL_3_MESES CAMINO_DIGITAL     ...      EDAD  SEGMENTO_VALOR  \\\n",
       "0              SI      COMPRADOR     ...        69            ALTO   \n",
       "1              SI      COMPRADOR     ...        81            ALTO   \n",
       "2              NO        SIN USO     ...        75            ALTO   \n",
       "\n",
       "   SEGMENTO_RECORRIDO  DZ  OFICINA  LP_SEG_VIDA  LP_SEG_ACCIDENT  \\\n",
       "0      BAJO RECORRIDO   2      210            0                0   \n",
       "1      ALTO RECORRIDO   2      210            0                0   \n",
       "2      BAJO RECORRIDO   2      210            0                0   \n",
       "\n",
       "   LP_SEG_MEDICOS LP_SEG_MULTIRRIES LP_SEG_AUTO  \n",
       "0               0                 1           0  \n",
       "1               0                 0           0  \n",
       "2               0                 0           0  \n",
       "\n",
       "[3 rows x 30 columns]"
      ]
     },
     "execution_count": 3,
     "metadata": {},
     "output_type": "execute_result"
    }
   ],
   "source": [
    "df.head(3)"
   ]
  },
  {
   "cell_type": "code",
   "execution_count": 4,
   "metadata": {},
   "outputs": [],
   "source": [
    "df.isna().any();"
   ]
  },
  {
   "cell_type": "code",
   "execution_count": 5,
   "metadata": {},
   "outputs": [],
   "source": [
    "df.dtypes;"
   ]
  },
  {
   "cell_type": "code",
   "execution_count": 6,
   "metadata": {},
   "outputs": [],
   "source": [
    "df[['PERSONA','GESTOR', 'CODIGO_CARTERA','LP_DOMIC_INGRESOS','LP_TARJ_CREDITO',\n",
    "   'LP_TARJ_REVOLVING','LP_REC_LTGA_OTR','LP_OFIC_INTERNET','DZ','OFICINA',\n",
    "   'LP_SEG_VIDA','LP_SEG_ACCIDENT','LP_SEG_MEDICOS','LP_SEG_MULTIRRIES','LP_SEG_AUTO']] = df[['PERSONA',\n",
    "   'GESTOR', 'CODIGO_CARTERA','LP_DOMIC_INGRESOS','LP_TARJ_CREDITO',\n",
    "   'LP_TARJ_REVOLVING','LP_REC_LTGA_OTR','LP_OFIC_INTERNET','DZ','OFICINA',\n",
    "   'LP_SEG_VIDA','LP_SEG_ACCIDENT','LP_SEG_MEDICOS','LP_SEG_MULTIRRIES','LP_SEG_AUTO']].astype(object);"
   ]
  },
  {
   "cell_type": "code",
   "execution_count": 7,
   "metadata": {},
   "outputs": [],
   "source": [
    "df.EDAD = df.EDAD.astype(int);"
   ]
  },
  {
   "cell_type": "code",
   "execution_count": 8,
   "metadata": {},
   "outputs": [],
   "source": [
    "df.dtypes;"
   ]
  },
  {
   "cell_type": "markdown",
   "metadata": {},
   "source": [
    "# Contexto y Analisis descriptivo Data Frame"
   ]
  },
  {
   "cell_type": "markdown",
   "metadata": {},
   "source": [
    "##  - Informacion Generica Direcciones de Zona y Oficinas"
   ]
  },
  {
   "cell_type": "code",
   "execution_count": 9,
   "metadata": {},
   "outputs": [
    {
     "data": {
      "text/plain": [
       "11"
      ]
     },
     "execution_count": 9,
     "metadata": {},
     "output_type": "execute_result"
    }
   ],
   "source": [
    "# ========== 1 Numero Total de Direcciones de Zona ==========\n",
    "df['DZ'].nunique()"
   ]
  },
  {
   "cell_type": "code",
   "execution_count": 10,
   "metadata": {},
   "outputs": [
    {
     "data": {
      "text/plain": [
       "162"
      ]
     },
     "execution_count": 10,
     "metadata": {},
     "output_type": "execute_result"
    }
   ],
   "source": [
    "# ========== 2 Numero Total de Oficinas ==========\n",
    "df['OFICINA'].nunique()"
   ]
  },
  {
   "cell_type": "code",
   "execution_count": 11,
   "metadata": {},
   "outputs": [
    {
     "data": {
      "text/plain": [
       "DZ\n",
       "1     15\n",
       "2     13\n",
       "3     17\n",
       "4     16\n",
       "5     17\n",
       "6     15\n",
       "7     13\n",
       "8     11\n",
       "9     16\n",
       "10    15\n",
       "11    14\n",
       "Name: OFICINA, dtype: int64"
      ]
     },
     "execution_count": 11,
     "metadata": {},
     "output_type": "execute_result"
    }
   ],
   "source": [
    "# ========== Numero Total de Oficinas por Direccion de Zona ==========\n",
    "dz = df.groupby(['DZ'])['OFICINA'].nunique()\n",
    "dz"
   ]
  },
  {
   "cell_type": "code",
   "execution_count": 15,
   "metadata": {},
   "outputs": [
    {
     "data": {
      "text/plain": [
       "<matplotlib.axes._subplots.AxesSubplot at 0x7f3090f89438>"
      ]
     },
     "execution_count": 15,
     "metadata": {},
     "output_type": "execute_result"
    },
    {
     "data": {
      "image/png": "[encoded data removed]",
      "text/plain": [
       "<Figure size 432x288 with 1 Axes>"
      ]
     },
     "metadata": {
      "needs_background": "light"
     },
     "output_type": "display_data"
    }
   ],
   "source": [
    "# ========== Grafica Distribucion de las Direcciones de Zona segun Numero de oficnas\n",
    "# ========== 1 DZ con 11 Oficinas\n",
    "# ========== 2 DZ con 13 Oficinas\n",
    "# ========== 1 DZ con 14 Oficinas\n",
    "# ========== 3 DZ con 15 Oficinas\n",
    "# ========== 2 DZ con 16 Oficinas\n",
    "# ========== 2 DZ con 17 Oficinas\n",
    "\n",
    "sns.countplot(dz, color ='#F1ED03')"
   ]
  },
  {
   "cell_type": "code",
   "execution_count": 18,
   "metadata": {},
   "outputs": [
    {
     "data": {
      "text/plain": [
       "<matplotlib.axes._subplots.AxesSubplot at 0x7f3090e50748>"
      ]
     },
     "execution_count": 18,
     "metadata": {},
     "output_type": "execute_result"
    },
    {
     "data": {
      "image/png": "[encoded data removed]",
      "text/plain": [
       "<Figure size 432x288 with 1 Axes>"
      ]
     },
     "metadata": {
      "needs_background": "light"
     },
     "output_type": "display_data"
    }
   ],
   "source": [
    "# ========== Grafica Numero clientes por DZ ==========\n",
    "sns.countplot(data=df, x='DZ', color ='#F1ED03')"
   ]
  },
  {
   "cell_type": "markdown",
   "metadata": {},
   "source": [
    "##  - Informacion Generica Clientes"
   ]
  },
  {
   "cell_type": "code",
   "execution_count": 19,
   "metadata": {},
   "outputs": [
    {
     "data": {
      "text/plain": [
       "451374"
      ]
     },
     "execution_count": 19,
     "metadata": {},
     "output_type": "execute_result"
    }
   ],
   "source": [
    "# ========== 3 Numero total de Clientes ==========\n",
    "df['PERSONA'].nunique()"
   ]
  },
  {
   "cell_type": "code",
   "execution_count": 20,
   "metadata": {},
   "outputs": [
    {
     "name": "stdout",
     "output_type": "stream",
     "text": [
      "count    451374.000000\n",
      "mean         58.268941\n",
      "std          19.018368\n",
      "min           0.000000\n",
      "25%          45.000000\n",
      "50%          60.000000\n",
      "75%          73.000000\n",
      "max         118.000000\n",
      "Name: EDAD, dtype: float64\n"
     ]
    }
   ],
   "source": [
    "# ========== Informacion descriptiva Edad de los Clientes ==========\n",
    "print(df['EDAD'].describe())"
   ]
  },
  {
   "cell_type": "code",
   "execution_count": 22,
   "metadata": {},
   "outputs": [
    {
     "data": {
      "text/plain": [
       "<matplotlib.axes._subplots.AxesSubplot at 0x7f3090cbacf8>"
      ]
     },
     "execution_count": 22,
     "metadata": {},
     "output_type": "execute_result"
    },
    {
     "data": {
      "image/png": "[encoded data removed]",
      "text/plain": [
       "<Figure size 432x288 with 1 Axes>"
      ]
     },
     "metadata": {
      "needs_background": "light"
     },
     "output_type": "display_data"
    }
   ],
   "source": [
    "# ========== Grafica convinada descriptiva Edad de los Clientes ==========\n",
    "sns.violinplot(x=df['EDAD'], color ='#F1ED03')\n",
    "sns.boxplot(x=df['EDAD'], palette=\"Reds\")"
   ]
  },
  {
   "cell_type": "code",
   "execution_count": 23,
   "metadata": {},
   "outputs": [],
   "source": [
    "#sns.boxplot(x=df['EDAD'], palette=\"versicolor\") #ASI VEO TODOS LOS COLORES.  ESTO HAY QUITARLO LUEGO"
   ]
  },
  {
   "cell_type": "code",
   "execution_count": 26,
   "metadata": {},
   "outputs": [
    {
     "data": {
      "text/plain": [
       "<matplotlib.lines.Line2D at 0x7f3090a14208>"
      ]
     },
     "execution_count": 26,
     "metadata": {},
     "output_type": "execute_result"
    },
    {
     "data": {
      "image/png": "[encoded data removed]",
      "text/plain": [
       "<Figure size 432x288 with 1 Axes>"
      ]
     },
     "metadata": {
      "needs_background": "light"
     },
     "output_type": "display_data"
    }
   ],
   "source": [
    "# ========== Grafica convinada descriptiva Edad de los Clientes ==========\n",
    "distplot(df.EDAD, fit = norm, color = '#C0BD34',kde_kws={\"color\": \"G\", \"lw\": 3, \"label\": \"KDE\"});\n",
    "plt.axvline(df['EDAD'].mean(), color='black')\n",
    "plt.axvline(df['EDAD'].median(), color='red')"
   ]
  },
  {
   "cell_type": "code",
   "execution_count": null,
   "metadata": {},
   "outputs": [],
   "source": []
  },
  {
   "cell_type": "code",
   "execution_count": null,
   "metadata": {},
   "outputs": [],
   "source": []
  }
 ],
 "metadata": {
  "kernelspec": {
   "display_name": "Python 3",
   "language": "python",
   "name": "python3"
  },
  "language_info": {
   "codemirror_mode": {
    "name": "ipython",
    "version": 3
   },
   "file_extension": ".py",
   "mimetype": "text/x-python",
   "name": "python",
   "nbconvert_exporter": "python",
   "pygments_lexer": "ipython3",
   "version": "3.7.1"
  }
 },
 "nbformat": 4,
 "nbformat_minor": 2
}
