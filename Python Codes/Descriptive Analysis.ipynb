{
 "cells": [
  {
   "cell_type": "markdown",
   "metadata": {},
   "source": [
    "#   Descriptive Analysis "
   ]
  },
  {
   "cell_type": "markdown",
   "metadata": {},
   "source": [
    "- We initially load the libraries that we will need for the descriptive analysis of the database"
   ]
  },
  {
   "cell_type": "code",
   "execution_count": 7,
   "metadata": {},
   "outputs": [],
   "source": [
    "import pandas as pd\n",
    "import matplotlib.pyplot as plt\n",
    "import seaborn as sns\n",
    "from seaborn import distplot\n",
    "from scipy.stats import norm"
   ]
  },
  {
   "cell_type": "markdown",
   "metadata": {},
   "source": [
    "- We read the file we have built and cleaned up previously."
   ]
  },
  {
   "cell_type": "code",
   "execution_count": 5,
   "metadata": {},
   "outputs": [],
   "source": [
    "# Read csv\n",
    "df = pd.read_excel('/home/dsc/Master-Kschool/TFM/cleanned_data/df.xlsx')"
   ]
  },
  {
   "cell_type": "markdown",
   "metadata": {},
   "source": [
    "- We take a first look at the data we have available. We observe that the data frame is composed of a total of 13.541.220 data distributed in 451,374 rows and 30 columns.  "
   ]
  },
  {
   "cell_type": "code",
   "execution_count": 8,
   "metadata": {},
   "outputs": [
    {
     "data": {
      "text/html": [
       "<div>\n",
       "<style scoped>\n",
       "    .dataframe tbody tr th:only-of-type {\n",
       "        vertical-align: middle;\n",
       "    }\n",
       "\n",
       "    .dataframe tbody tr th {\n",
       "        vertical-align: top;\n",
       "    }\n",
       "\n",
       "    .dataframe thead th {\n",
       "        text-align: right;\n",
       "    }\n",
       "</style>\n",
       "<table border=\"1\" class=\"dataframe\">\n",
       "  <thead>\n",
       "    <tr style=\"text-align: right;\">\n",
       "      <th></th>\n",
       "      <th>PERSONA</th>\n",
       "      <th>SF_AH_CAPTACION_TT</th>\n",
       "      <th>ESTA_CARTERIZADO</th>\n",
       "      <th>CLIENTE_BBP</th>\n",
       "      <th>TIP_GESTOR</th>\n",
       "      <th>GESTOR</th>\n",
       "      <th>CARTERA_PATRON</th>\n",
       "      <th>CODIGO_CARTERA</th>\n",
       "      <th>DIGITAL_3_MESES</th>\n",
       "      <th>CAMINO_DIGITAL</th>\n",
       "      <th>...</th>\n",
       "      <th>EDAD</th>\n",
       "      <th>SEGMENTO_VALOR</th>\n",
       "      <th>SEGMENTO_RECORRIDO</th>\n",
       "      <th>DZ</th>\n",
       "      <th>OFICINA</th>\n",
       "      <th>LP_SEG_VIDA</th>\n",
       "      <th>LP_SEG_ACCIDENT</th>\n",
       "      <th>LP_SEG_MEDICOS</th>\n",
       "      <th>LP_SEG_MULTIRRIES</th>\n",
       "      <th>LP_SEG_AUTO</th>\n",
       "    </tr>\n",
       "  </thead>\n",
       "  <tbody>\n",
       "    <tr>\n",
       "      <th>32707</th>\n",
       "      <td>340684</td>\n",
       "      <td>1.83</td>\n",
       "      <td>SI</td>\n",
       "      <td>NO</td>\n",
       "      <td>ASESOR FINANCIERO</td>\n",
       "      <td>17300</td>\n",
       "      <td>ASESORAMIENTO FINANCIERO</td>\n",
       "      <td>14821</td>\n",
       "      <td>SI</td>\n",
       "      <td>COMPRADOR</td>\n",
       "      <td>...</td>\n",
       "      <td>25</td>\n",
       "      <td>MEDIO</td>\n",
       "      <td>MEDIO RECORRIDO</td>\n",
       "      <td>9</td>\n",
       "      <td>921</td>\n",
       "      <td>0</td>\n",
       "      <td>0</td>\n",
       "      <td>0</td>\n",
       "      <td>0</td>\n",
       "      <td>0</td>\n",
       "    </tr>\n",
       "    <tr>\n",
       "      <th>12072</th>\n",
       "      <td>81176</td>\n",
       "      <td>6096.53</td>\n",
       "      <td>SI</td>\n",
       "      <td>NO</td>\n",
       "      <td>ASESOR FINANCIERO</td>\n",
       "      <td>8900</td>\n",
       "      <td>ASESORAMIENTO FINANCIERO</td>\n",
       "      <td>35667</td>\n",
       "      <td>NO</td>\n",
       "      <td>SIN USO</td>\n",
       "      <td>...</td>\n",
       "      <td>82</td>\n",
       "      <td>MEDIO</td>\n",
       "      <td>ALTO RECORRIDO</td>\n",
       "      <td>10</td>\n",
       "      <td>1013</td>\n",
       "      <td>0</td>\n",
       "      <td>0</td>\n",
       "      <td>0</td>\n",
       "      <td>0</td>\n",
       "      <td>0</td>\n",
       "    </tr>\n",
       "    <tr>\n",
       "      <th>3335</th>\n",
       "      <td>209418</td>\n",
       "      <td>0.00</td>\n",
       "      <td>SI</td>\n",
       "      <td>NO</td>\n",
       "      <td>ASESOR FINANCIERO</td>\n",
       "      <td>12032</td>\n",
       "      <td>ASESORAMIENTO FINANCIERO</td>\n",
       "      <td>14398</td>\n",
       "      <td>NO</td>\n",
       "      <td>SIN USO</td>\n",
       "      <td>...</td>\n",
       "      <td>47</td>\n",
       "      <td>MEDIO</td>\n",
       "      <td>BAJO RECORRIDO</td>\n",
       "      <td>5</td>\n",
       "      <td>510</td>\n",
       "      <td>0</td>\n",
       "      <td>0</td>\n",
       "      <td>0</td>\n",
       "      <td>0</td>\n",
       "      <td>0</td>\n",
       "    </tr>\n",
       "    <tr>\n",
       "      <th>18910</th>\n",
       "      <td>268091</td>\n",
       "      <td>5.26</td>\n",
       "      <td>SI</td>\n",
       "      <td>NO</td>\n",
       "      <td>ASESOR FINANCIERO</td>\n",
       "      <td>24597</td>\n",
       "      <td>ASESORAMIENTO FINANCIERO</td>\n",
       "      <td>14168</td>\n",
       "      <td>NO</td>\n",
       "      <td>SIN USO</td>\n",
       "      <td>...</td>\n",
       "      <td>58</td>\n",
       "      <td>MEDIO</td>\n",
       "      <td>MEDIO RECORRIDO</td>\n",
       "      <td>5</td>\n",
       "      <td>514</td>\n",
       "      <td>0</td>\n",
       "      <td>0</td>\n",
       "      <td>0</td>\n",
       "      <td>0</td>\n",
       "      <td>0</td>\n",
       "    </tr>\n",
       "    <tr>\n",
       "      <th>20909</th>\n",
       "      <td>124987</td>\n",
       "      <td>63787.07</td>\n",
       "      <td>SI</td>\n",
       "      <td>NO</td>\n",
       "      <td>ASESOR FINANCIERO</td>\n",
       "      <td>4851</td>\n",
       "      <td>ASESORAMIENTO FINANCIERO</td>\n",
       "      <td>13865</td>\n",
       "      <td>SI</td>\n",
       "      <td>CONSULTIVO</td>\n",
       "      <td>...</td>\n",
       "      <td>74</td>\n",
       "      <td>ALTO</td>\n",
       "      <td>BAJO RECORRIDO</td>\n",
       "      <td>2</td>\n",
       "      <td>216</td>\n",
       "      <td>0</td>\n",
       "      <td>0</td>\n",
       "      <td>0</td>\n",
       "      <td>0</td>\n",
       "      <td>0</td>\n",
       "    </tr>\n",
       "    <tr>\n",
       "      <th>3077</th>\n",
       "      <td>13064</td>\n",
       "      <td>152112.35</td>\n",
       "      <td>SI</td>\n",
       "      <td>NO</td>\n",
       "      <td>ASESOR FINANCIERO</td>\n",
       "      <td>2127</td>\n",
       "      <td>ASESORAMIENTO FINANCIERO</td>\n",
       "      <td>12713</td>\n",
       "      <td>SI</td>\n",
       "      <td>CONSULTIVO</td>\n",
       "      <td>...</td>\n",
       "      <td>69</td>\n",
       "      <td>ALTO</td>\n",
       "      <td>BAJO RECORRIDO</td>\n",
       "      <td>3</td>\n",
       "      <td>310</td>\n",
       "      <td>0</td>\n",
       "      <td>0</td>\n",
       "      <td>0</td>\n",
       "      <td>0</td>\n",
       "      <td>0</td>\n",
       "    </tr>\n",
       "    <tr>\n",
       "      <th>13069</th>\n",
       "      <td>315299</td>\n",
       "      <td>669.91</td>\n",
       "      <td>SI</td>\n",
       "      <td>NO</td>\n",
       "      <td>ASESOR FINANCIERO</td>\n",
       "      <td>8207</td>\n",
       "      <td>ASESORAMIENTO FINANCIERO</td>\n",
       "      <td>14135</td>\n",
       "      <td>SI</td>\n",
       "      <td>CONSULTIVO</td>\n",
       "      <td>...</td>\n",
       "      <td>46</td>\n",
       "      <td>ALTO</td>\n",
       "      <td>ALTO RECORRIDO</td>\n",
       "      <td>8</td>\n",
       "      <td>815</td>\n",
       "      <td>1</td>\n",
       "      <td>1</td>\n",
       "      <td>0</td>\n",
       "      <td>0</td>\n",
       "      <td>0</td>\n",
       "    </tr>\n",
       "    <tr>\n",
       "      <th>31339</th>\n",
       "      <td>381817</td>\n",
       "      <td>4628.85</td>\n",
       "      <td>SI</td>\n",
       "      <td>NO</td>\n",
       "      <td>ASESOR FINANCIERO</td>\n",
       "      <td>34439</td>\n",
       "      <td>ASESORAMIENTO FINANCIERO</td>\n",
       "      <td>37141</td>\n",
       "      <td>SI</td>\n",
       "      <td>CONSULTIVO</td>\n",
       "      <td>...</td>\n",
       "      <td>61</td>\n",
       "      <td>ALTO</td>\n",
       "      <td>MEDIO RECORRIDO</td>\n",
       "      <td>6</td>\n",
       "      <td>621</td>\n",
       "      <td>0</td>\n",
       "      <td>1</td>\n",
       "      <td>0</td>\n",
       "      <td>0</td>\n",
       "      <td>0</td>\n",
       "    </tr>\n",
       "    <tr>\n",
       "      <th>32368</th>\n",
       "      <td>430622</td>\n",
       "      <td>21409.53</td>\n",
       "      <td>SI</td>\n",
       "      <td>NO</td>\n",
       "      <td>ASESOR FINANCIERO</td>\n",
       "      <td>17301</td>\n",
       "      <td>ASESORAMIENTO FINANCIERO</td>\n",
       "      <td>15184</td>\n",
       "      <td>SI</td>\n",
       "      <td>TRANSACCIONAL</td>\n",
       "      <td>...</td>\n",
       "      <td>39</td>\n",
       "      <td>MEDIO</td>\n",
       "      <td>ALTO RECORRIDO</td>\n",
       "      <td>7</td>\n",
       "      <td>720</td>\n",
       "      <td>0</td>\n",
       "      <td>0</td>\n",
       "      <td>0</td>\n",
       "      <td>0</td>\n",
       "      <td>0</td>\n",
       "    </tr>\n",
       "    <tr>\n",
       "      <th>14999</th>\n",
       "      <td>188118</td>\n",
       "      <td>88240.36</td>\n",
       "      <td>SI</td>\n",
       "      <td>NO</td>\n",
       "      <td>ASESOR FINANCIERO</td>\n",
       "      <td>27287</td>\n",
       "      <td>ASESORAMIENTO FINANCIERO</td>\n",
       "      <td>15405</td>\n",
       "      <td>SI</td>\n",
       "      <td>CONSULTIVO</td>\n",
       "      <td>...</td>\n",
       "      <td>60</td>\n",
       "      <td>ALTO</td>\n",
       "      <td>BAJO RECORRIDO</td>\n",
       "      <td>1</td>\n",
       "      <td>114</td>\n",
       "      <td>0</td>\n",
       "      <td>0</td>\n",
       "      <td>0</td>\n",
       "      <td>1</td>\n",
       "      <td>1</td>\n",
       "    </tr>\n",
       "  </tbody>\n",
       "</table>\n",
       "<p>10 rows × 30 columns</p>\n",
       "</div>"
      ],
      "text/plain": [
       "       PERSONA  SF_AH_CAPTACION_TT ESTA_CARTERIZADO CLIENTE_BBP  \\\n",
       "32707   340684                1.83               SI          NO   \n",
       "12072    81176             6096.53               SI          NO   \n",
       "3335    209418                0.00               SI          NO   \n",
       "18910   268091                5.26               SI          NO   \n",
       "20909   124987            63787.07               SI          NO   \n",
       "3077     13064           152112.35               SI          NO   \n",
       "13069   315299              669.91               SI          NO   \n",
       "31339   381817             4628.85               SI          NO   \n",
       "32368   430622            21409.53               SI          NO   \n",
       "14999   188118            88240.36               SI          NO   \n",
       "\n",
       "              TIP_GESTOR  GESTOR            CARTERA_PATRON  CODIGO_CARTERA  \\\n",
       "32707  ASESOR FINANCIERO   17300  ASESORAMIENTO FINANCIERO           14821   \n",
       "12072  ASESOR FINANCIERO    8900  ASESORAMIENTO FINANCIERO           35667   \n",
       "3335   ASESOR FINANCIERO   12032  ASESORAMIENTO FINANCIERO           14398   \n",
       "18910  ASESOR FINANCIERO   24597  ASESORAMIENTO FINANCIERO           14168   \n",
       "20909  ASESOR FINANCIERO    4851  ASESORAMIENTO FINANCIERO           13865   \n",
       "3077   ASESOR FINANCIERO    2127  ASESORAMIENTO FINANCIERO           12713   \n",
       "13069  ASESOR FINANCIERO    8207  ASESORAMIENTO FINANCIERO           14135   \n",
       "31339  ASESOR FINANCIERO   34439  ASESORAMIENTO FINANCIERO           37141   \n",
       "32368  ASESOR FINANCIERO   17301  ASESORAMIENTO FINANCIERO           15184   \n",
       "14999  ASESOR FINANCIERO   27287  ASESORAMIENTO FINANCIERO           15405   \n",
       "\n",
       "      DIGITAL_3_MESES CAMINO_DIGITAL     ...      EDAD  SEGMENTO_VALOR  \\\n",
       "32707              SI      COMPRADOR     ...        25           MEDIO   \n",
       "12072              NO        SIN USO     ...        82           MEDIO   \n",
       "3335               NO        SIN USO     ...        47           MEDIO   \n",
       "18910              NO        SIN USO     ...        58           MEDIO   \n",
       "20909              SI     CONSULTIVO     ...        74            ALTO   \n",
       "3077               SI     CONSULTIVO     ...        69            ALTO   \n",
       "13069              SI     CONSULTIVO     ...        46            ALTO   \n",
       "31339              SI     CONSULTIVO     ...        61            ALTO   \n",
       "32368              SI  TRANSACCIONAL     ...        39           MEDIO   \n",
       "14999              SI     CONSULTIVO     ...        60            ALTO   \n",
       "\n",
       "       SEGMENTO_RECORRIDO  DZ  OFICINA  LP_SEG_VIDA  LP_SEG_ACCIDENT  \\\n",
       "32707     MEDIO RECORRIDO   9      921            0                0   \n",
       "12072      ALTO RECORRIDO  10     1013            0                0   \n",
       "3335       BAJO RECORRIDO   5      510            0                0   \n",
       "18910     MEDIO RECORRIDO   5      514            0                0   \n",
       "20909      BAJO RECORRIDO   2      216            0                0   \n",
       "3077       BAJO RECORRIDO   3      310            0                0   \n",
       "13069      ALTO RECORRIDO   8      815            1                1   \n",
       "31339     MEDIO RECORRIDO   6      621            0                1   \n",
       "32368      ALTO RECORRIDO   7      720            0                0   \n",
       "14999      BAJO RECORRIDO   1      114            0                0   \n",
       "\n",
       "       LP_SEG_MEDICOS LP_SEG_MULTIRRIES LP_SEG_AUTO  \n",
       "32707               0                 0           0  \n",
       "12072               0                 0           0  \n",
       "3335                0                 0           0  \n",
       "18910               0                 0           0  \n",
       "20909               0                 0           0  \n",
       "3077                0                 0           0  \n",
       "13069               0                 0           0  \n",
       "31339               0                 0           0  \n",
       "32368               0                 0           0  \n",
       "14999               0                 1           1  \n",
       "\n",
       "[10 rows x 30 columns]"
      ]
     },
     "execution_count": 8,
     "metadata": {},
     "output_type": "execute_result"
    }
   ],
   "source": [
    "# First Look with Sample\n",
    "\n",
    "df.sample(10)"
   ]
  },
  {
   "cell_type": "code",
   "execution_count": 9,
   "metadata": {},
   "outputs": [
    {
     "data": {
      "text/plain": [
       "Index(['PERSONA', 'SF_AH_CAPTACION_TT', 'ESTA_CARTERIZADO', 'CLIENTE_BBP',\n",
       "       'TIP_GESTOR', 'GESTOR', 'CARTERA_PATRON', 'CODIGO_CARTERA',\n",
       "       'DIGITAL_3_MESES', 'CAMINO_DIGITAL', 'SF_FINANCIACION_TT',\n",
       "       'SF_FONDOS_INVER', 'SF_PLAN_PENSION', 'LP_DOMIC_INGRESOS',\n",
       "       'LP_TARJ_CREDITO', 'LP_TARJ_REVOLVING', 'LP_REC_LTGA_OTR',\n",
       "       'LP_OFIC_INTERNET', 'MARCA_BANCA_PERSONAL', 'MARCA_AF_CCTE', 'EDAD',\n",
       "       'SEGMENTO_VALOR', 'SEGMENTO_RECORRIDO', 'DZ', 'OFICINA', 'LP_SEG_VIDA',\n",
       "       'LP_SEG_ACCIDENT', 'LP_SEG_MEDICOS', 'LP_SEG_MULTIRRIES',\n",
       "       'LP_SEG_AUTO'],\n",
       "      dtype='object')"
      ]
     },
     "execution_count": 9,
     "metadata": {},
     "output_type": "execute_result"
    }
   ],
   "source": [
    "# Data frame columns \n",
    "\n",
    "df.columns"
   ]
  },
  {
   "cell_type": "code",
   "execution_count": 10,
   "metadata": {},
   "outputs": [
    {
     "data": {
      "text/plain": [
       "(451374, 30)"
      ]
     },
     "execution_count": 10,
     "metadata": {},
     "output_type": "execute_result"
    }
   ],
   "source": [
    "# Data frame Shape \n",
    "\n",
    "df.shape"
   ]
  },
  {
   "cell_type": "code",
   "execution_count": 11,
   "metadata": {},
   "outputs": [
    {
     "data": {
      "text/plain": [
       "13541220"
      ]
     },
     "execution_count": 11,
     "metadata": {},
     "output_type": "execute_result"
    }
   ],
   "source": [
    "df.count().sum()"
   ]
  },
  {
   "cell_type": "markdown",
   "metadata": {},
   "source": [
    "- We check that the data does not contain Nans.  These had been cleaned in our previous step."
   ]
  },
  {
   "cell_type": "code",
   "execution_count": 12,
   "metadata": {},
   "outputs": [],
   "source": [
    "# Check for Nans\n",
    "\n",
    "df.isna().any();"
   ]
  },
  {
   "cell_type": "markdown",
   "metadata": {},
   "source": [
    "-  We inform ourselves of the type of data contained in the data frame.  We observe that the data needs to be modified.  All columns except the numerical ones of PP-FFII-EDAD-CAPTATION and FINANCING must be categorized as object.  We proceed to change them and check their modification."
   ]
  },
  {
   "cell_type": "code",
   "execution_count": 13,
   "metadata": {},
   "outputs": [],
   "source": [
    "# Look at data types\n",
    "\n",
    "df.dtypes;"
   ]
  },
  {
   "cell_type": "code",
   "execution_count": 14,
   "metadata": {},
   "outputs": [],
   "source": [
    "# We modify the data\n",
    "\n",
    "df[['PERSONA','GESTOR', 'CODIGO_CARTERA','LP_DOMIC_INGRESOS','LP_TARJ_CREDITO',\n",
    "   'LP_TARJ_REVOLVING','LP_REC_LTGA_OTR','LP_OFIC_INTERNET','DZ','OFICINA',\n",
    "   'LP_SEG_VIDA','LP_SEG_ACCIDENT','LP_SEG_MEDICOS','LP_SEG_MULTIRRIES','LP_SEG_AUTO']] = df[['PERSONA',\n",
    "   'GESTOR', 'CODIGO_CARTERA','LP_DOMIC_INGRESOS','LP_TARJ_CREDITO',\n",
    "   'LP_TARJ_REVOLVING','LP_REC_LTGA_OTR','LP_OFIC_INTERNET','DZ','OFICINA',\n",
    "   'LP_SEG_VIDA','LP_SEG_ACCIDENT','LP_SEG_MEDICOS','LP_SEG_MULTIRRIES','LP_SEG_AUTO']].astype(object);"
   ]
  },
  {
   "cell_type": "code",
   "execution_count": 15,
   "metadata": {},
   "outputs": [],
   "source": [
    "df.EDAD = df.EDAD.astype(int);"
   ]
  },
  {
   "cell_type": "code",
   "execution_count": 16,
   "metadata": {},
   "outputs": [],
   "source": [
    "# We confirm the modification\n",
    "\n",
    "df.dtypes;"
   ]
  },
  {
   "cell_type": "markdown",
   "metadata": {},
   "source": [
    "##  ===== Structural information  ====="
   ]
  },
  {
   "cell_type": "markdown",
   "metadata": {},
   "source": [
    "- We start the descriptive analysis by structuring and wanting to put into context all the data in this database. The first column on which all the other data descends is the DZ column (Zone Address). Each DZ is formed by a certain number of offices and these in turn by a certain number of customers.\n",
    "Each office has a number of Financial Advisors, each with a number of clients within its portfolio.  These clients are owners of financial products such as FFII, PlP, FINANCING, INSURANCE, CARDS, PAYMENTS...etc.\n",
    "\n"
   ]
  },
  {
   "cell_type": "code",
   "execution_count": 17,
   "metadata": {},
   "outputs": [
    {
     "data": {
      "text/plain": [
       "11"
      ]
     },
     "execution_count": 17,
     "metadata": {},
     "output_type": "execute_result"
    }
   ],
   "source": [
    "# ========== Total Number of Zone Adresses ==========\n",
    "\n",
    "df['DZ'].nunique()"
   ]
  },
  {
   "cell_type": "code",
   "execution_count": 18,
   "metadata": {},
   "outputs": [
    {
     "data": {
      "text/plain": [
       "162"
      ]
     },
     "execution_count": 18,
     "metadata": {},
     "output_type": "execute_result"
    }
   ],
   "source": [
    "# ========== Total Number of Offices ==========\n",
    "\n",
    "df['OFICINA'].nunique()"
   ]
  },
  {
   "cell_type": "code",
   "execution_count": 19,
   "metadata": {},
   "outputs": [
    {
     "data": {
      "text/plain": [
       "451374"
      ]
     },
     "execution_count": 19,
     "metadata": {},
     "output_type": "execute_result"
    }
   ],
   "source": [
    "# ========== Total Number of Clients ==========\n",
    "\n",
    "df['PERSONA'].nunique()"
   ]
  },
  {
   "cell_type": "code",
   "execution_count": 20,
   "metadata": {},
   "outputs": [
    {
     "name": "stdout",
     "output_type": "stream",
     "text": [
      "*** Total Number of Offices by Zone Address ***\n",
      "DZ\n",
      "1     15\n",
      "2     13\n",
      "3     17\n",
      "4     16\n",
      "5     17\n",
      "6     15\n",
      "7     13\n",
      "8     11\n",
      "9     16\n",
      "10    15\n",
      "11    14\n",
      "Name: OFICINA, dtype: int64\n",
      "===============================================\n",
      " Offices Distribution\n",
      " 1 DZ con 11 Oficinas / 2 DZ con 13 Oficinas / 1 DZ con 14 Oficinas\n",
      " 3 DZ con 15 Oficinas / 2 DZ con 16 Oficinas / 2 DZ con 17 Oficinas\n"
     ]
    },
    {
     "data": {
      "image/png": "[encoded data removed]",
      "text/plain": [
       "<Figure size 432x288 with 1 Axes>"
      ]
     },
     "metadata": {
      "needs_background": "light"
     },
     "output_type": "display_data"
    }
   ],
   "source": [
    "# ========== Total Number of Offices by Zone Address ==========\n",
    "\n",
    "n_oficinas_por_dz = df.groupby(['DZ'])['OFICINA'].nunique()\n",
    "print('*** Total Number of Offices by Zone Address ***')\n",
    "print(n_oficinas_por_dz)\n",
    "print('===============================================')\n",
    "print(''' Offices Distribution\n",
    " 1 DZ con 11 Oficinas / 2 DZ con 13 Oficinas / 1 DZ con 14 Oficinas\n",
    " 3 DZ con 15 Oficinas / 2 DZ con 16 Oficinas / 2 DZ con 17 Oficinas''')\n",
    "sns.countplot(n_oficinas_por_dz);"
   ]
  },
  {
   "cell_type": "code",
   "execution_count": 21,
   "metadata": {},
   "outputs": [
    {
     "data": {
      "text/plain": [
       "DZ\n",
       "1     45534\n",
       "2     35406\n",
       "3     48081\n",
       "4     38749\n",
       "5     51468\n",
       "6     42198\n",
       "7     37926\n",
       "8     21690\n",
       "9     40227\n",
       "10    42360\n",
       "11    47735\n",
       "Name: PERSONA, dtype: int64"
      ]
     },
     "execution_count": 21,
     "metadata": {},
     "output_type": "execute_result"
    }
   ],
   "source": [
    "# ========== Total Number of Customers by Zone Address ==========\n",
    "\n",
    "n_clientes_por_dz = df.groupby(['DZ'])['PERSONA'].nunique()\n",
    "n_clientes_por_dz"
   ]
  },
  {
   "cell_type": "code",
   "execution_count": null,
   "metadata": {},
   "outputs": [],
   "source": []
  },
  {
   "cell_type": "code",
   "execution_count": null,
   "metadata": {},
   "outputs": [],
   "source": []
  },
  {
   "cell_type": "code",
   "execution_count": null,
   "metadata": {},
   "outputs": [],
   "source": []
  },
  {
   "cell_type": "code",
   "execution_count": null,
   "metadata": {},
   "outputs": [],
   "source": []
  },
  {
   "cell_type": "code",
   "execution_count": null,
   "metadata": {},
   "outputs": [],
   "source": []
  },
  {
   "cell_type": "code",
   "execution_count": null,
   "metadata": {},
   "outputs": [],
   "source": []
  },
  {
   "cell_type": "code",
   "execution_count": null,
   "metadata": {},
   "outputs": [],
   "source": []
  },
  {
   "cell_type": "code",
   "execution_count": null,
   "metadata": {},
   "outputs": [],
   "source": []
  },
  {
   "cell_type": "code",
   "execution_count": null,
   "metadata": {},
   "outputs": [],
   "source": []
  },
  {
   "cell_type": "code",
   "execution_count": null,
   "metadata": {},
   "outputs": [],
   "source": []
  },
  {
   "cell_type": "code",
   "execution_count": null,
   "metadata": {},
   "outputs": [],
   "source": []
  },
  {
   "cell_type": "code",
   "execution_count": null,
   "metadata": {},
   "outputs": [],
   "source": []
  },
  {
   "cell_type": "code",
   "execution_count": null,
   "metadata": {},
   "outputs": [],
   "source": []
  },
  {
   "cell_type": "code",
   "execution_count": null,
   "metadata": {},
   "outputs": [],
   "source": []
  },
  {
   "cell_type": "code",
   "execution_count": null,
   "metadata": {},
   "outputs": [],
   "source": []
  },
  {
   "cell_type": "code",
   "execution_count": null,
   "metadata": {},
   "outputs": [],
   "source": []
  },
  {
   "cell_type": "code",
   "execution_count": null,
   "metadata": {},
   "outputs": [],
   "source": []
  },
  {
   "cell_type": "code",
   "execution_count": null,
   "metadata": {},
   "outputs": [],
   "source": []
  },
  {
   "cell_type": "code",
   "execution_count": null,
   "metadata": {},
   "outputs": [],
   "source": []
  },
  {
   "cell_type": "code",
   "execution_count": null,
   "metadata": {},
   "outputs": [],
   "source": []
  },
  {
   "cell_type": "code",
   "execution_count": null,
   "metadata": {},
   "outputs": [],
   "source": []
  }
 ],
 "metadata": {
  "kernelspec": {
   "display_name": "Python 3",
   "language": "python",
   "name": "python3"
  },
  "language_info": {
   "codemirror_mode": {
    "name": "ipython",
    "version": 3
   },
   "file_extension": ".py",
   "mimetype": "text/x-python",
   "name": "python",
   "nbconvert_exporter": "python",
   "pygments_lexer": "ipython3",
   "version": "3.7.1"
  }
 },
 "nbformat": 4,
 "nbformat_minor": 2
}
