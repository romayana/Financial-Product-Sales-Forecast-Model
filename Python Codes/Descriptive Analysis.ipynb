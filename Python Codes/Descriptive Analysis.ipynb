{
 "cells": [
  {
   "cell_type": "markdown",
   "metadata": {},
   "source": [
    "#   Descriptive Analysis "
   ]
  },
  {
   "cell_type": "markdown",
   "metadata": {},
   "source": [
    "- We initially load the libraries that we will need for the descriptive analysis of the database"
   ]
  },
  {
   "cell_type": "code",
   "execution_count": 1,
   "metadata": {},
   "outputs": [],
   "source": [
    "import pandas as pd\n",
    "import matplotlib.pyplot as plt\n",
    "import seaborn as sns\n",
    "from seaborn import distplot\n",
    "from scipy.stats import norm"
   ]
  },
  {
   "cell_type": "markdown",
   "metadata": {},
   "source": [
    "- We read the file we have built and cleaned up previously."
   ]
  },
  {
   "cell_type": "code",
   "execution_count": 2,
   "metadata": {},
   "outputs": [],
   "source": [
    "# Read csv\n",
    "df = pd.read_csv('/home/dsc/Master-Kschool/TFM/cleanned_data/df.csv')"
   ]
  },
  {
   "cell_type": "markdown",
   "metadata": {},
   "source": [
    "- We take a first look at the data we have available. We observe that the data frame is composed of a total of 13.541.220 data distributed in 451,374 rows and 30 columns.  "
   ]
  },
  {
   "cell_type": "code",
   "execution_count": 3,
   "metadata": {},
   "outputs": [
    {
     "data": {
      "text/html": [
       "<div>\n",
       "<style scoped>\n",
       "    .dataframe tbody tr th:only-of-type {\n",
       "        vertical-align: middle;\n",
       "    }\n",
       "\n",
       "    .dataframe tbody tr th {\n",
       "        vertical-align: top;\n",
       "    }\n",
       "\n",
       "    .dataframe thead th {\n",
       "        text-align: right;\n",
       "    }\n",
       "</style>\n",
       "<table border=\"1\" class=\"dataframe\">\n",
       "  <thead>\n",
       "    <tr style=\"text-align: right;\">\n",
       "      <th></th>\n",
       "      <th>Unnamed: 0</th>\n",
       "      <th>cliente</th>\n",
       "      <th>saldo_captacion</th>\n",
       "      <th>esta_carterizado</th>\n",
       "      <th>cliente_bbp</th>\n",
       "      <th>tipo_gestor</th>\n",
       "      <th>gestor</th>\n",
       "      <th>cartera_patron</th>\n",
       "      <th>codigo_cartera</th>\n",
       "      <th>digital_3_meses</th>\n",
       "      <th>...</th>\n",
       "      <th>edad</th>\n",
       "      <th>seg_valor</th>\n",
       "      <th>seg_recorrido</th>\n",
       "      <th>dz</th>\n",
       "      <th>oficina</th>\n",
       "      <th>lp_seg_vida</th>\n",
       "      <th>lp_seg_acc</th>\n",
       "      <th>lp_seg_medico</th>\n",
       "      <th>lp_seg_hogar</th>\n",
       "      <th>lp_seg_auto</th>\n",
       "    </tr>\n",
       "  </thead>\n",
       "  <tbody>\n",
       "    <tr>\n",
       "      <th>70715</th>\n",
       "      <td>219607</td>\n",
       "      <td>70716</td>\n",
       "      <td>57981.05</td>\n",
       "      <td>SI</td>\n",
       "      <td>NO</td>\n",
       "      <td>ASESOR FINANCIERO</td>\n",
       "      <td>17149.0</td>\n",
       "      <td>ASESORAMIENTO FINANCIERO</td>\n",
       "      <td>14809.0</td>\n",
       "      <td>NO</td>\n",
       "      <td>...</td>\n",
       "      <td>85</td>\n",
       "      <td>ALTO</td>\n",
       "      <td>BAJO RECORRIDO</td>\n",
       "      <td>6</td>\n",
       "      <td>610</td>\n",
       "      <td>0</td>\n",
       "      <td>0</td>\n",
       "      <td>0</td>\n",
       "      <td>1</td>\n",
       "      <td>0</td>\n",
       "    </tr>\n",
       "    <tr>\n",
       "      <th>203603</th>\n",
       "      <td>227534</td>\n",
       "      <td>203604</td>\n",
       "      <td>94227.16</td>\n",
       "      <td>SI</td>\n",
       "      <td>NO</td>\n",
       "      <td>ASESOR FINANCIERO</td>\n",
       "      <td>16134.0</td>\n",
       "      <td>ASESORAMIENTO FINANCIERO</td>\n",
       "      <td>13390.0</td>\n",
       "      <td>SI</td>\n",
       "      <td>...</td>\n",
       "      <td>77</td>\n",
       "      <td>ALTO</td>\n",
       "      <td>BAJO RECORRIDO</td>\n",
       "      <td>6</td>\n",
       "      <td>612</td>\n",
       "      <td>0</td>\n",
       "      <td>0</td>\n",
       "      <td>0</td>\n",
       "      <td>0</td>\n",
       "      <td>0</td>\n",
       "    </tr>\n",
       "    <tr>\n",
       "      <th>275450</th>\n",
       "      <td>28603</td>\n",
       "      <td>275451</td>\n",
       "      <td>383.22</td>\n",
       "      <td>SI</td>\n",
       "      <td>NO</td>\n",
       "      <td>ASESOR FINANCIERO</td>\n",
       "      <td>34328.0</td>\n",
       "      <td>ASESORAMIENTO FINANCIERO</td>\n",
       "      <td>39538.0</td>\n",
       "      <td>NO</td>\n",
       "      <td>...</td>\n",
       "      <td>43</td>\n",
       "      <td>MEDIO</td>\n",
       "      <td>ALTO RECORRIDO</td>\n",
       "      <td>1</td>\n",
       "      <td>117</td>\n",
       "      <td>0</td>\n",
       "      <td>0</td>\n",
       "      <td>0</td>\n",
       "      <td>0</td>\n",
       "      <td>0</td>\n",
       "    </tr>\n",
       "    <tr>\n",
       "      <th>140687</th>\n",
       "      <td>390670</td>\n",
       "      <td>140688</td>\n",
       "      <td>14748.66</td>\n",
       "      <td>SI</td>\n",
       "      <td>NO</td>\n",
       "      <td>ASESOR FINANCIERO</td>\n",
       "      <td>13790.0</td>\n",
       "      <td>TUTELA</td>\n",
       "      <td>27855.0</td>\n",
       "      <td>NO</td>\n",
       "      <td>...</td>\n",
       "      <td>90</td>\n",
       "      <td>MEDIO</td>\n",
       "      <td>BAJO RECORRIDO</td>\n",
       "      <td>10</td>\n",
       "      <td>1020</td>\n",
       "      <td>0</td>\n",
       "      <td>0</td>\n",
       "      <td>0</td>\n",
       "      <td>0</td>\n",
       "      <td>0</td>\n",
       "    </tr>\n",
       "    <tr>\n",
       "      <th>183568</th>\n",
       "      <td>448735</td>\n",
       "      <td>183569</td>\n",
       "      <td>3221.08</td>\n",
       "      <td>SI</td>\n",
       "      <td>NO</td>\n",
       "      <td>ASESOR FINANCIERO</td>\n",
       "      <td>29330.0</td>\n",
       "      <td>ASESORAMIENTO FINANCIERO</td>\n",
       "      <td>15034.0</td>\n",
       "      <td>SI</td>\n",
       "      <td>...</td>\n",
       "      <td>59</td>\n",
       "      <td>ALTO</td>\n",
       "      <td>ALTO RECORRIDO</td>\n",
       "      <td>11</td>\n",
       "      <td>1124</td>\n",
       "      <td>1</td>\n",
       "      <td>0</td>\n",
       "      <td>0</td>\n",
       "      <td>0</td>\n",
       "      <td>0</td>\n",
       "    </tr>\n",
       "    <tr>\n",
       "      <th>219107</th>\n",
       "      <td>304253</td>\n",
       "      <td>219108</td>\n",
       "      <td>2803.07</td>\n",
       "      <td>SI</td>\n",
       "      <td>NO</td>\n",
       "      <td>ASESOR FINANCIERO</td>\n",
       "      <td>37491.0</td>\n",
       "      <td>ASESORAMIENTO FINANCIERO</td>\n",
       "      <td>16270.0</td>\n",
       "      <td>SI</td>\n",
       "      <td>...</td>\n",
       "      <td>24</td>\n",
       "      <td>MEDIO</td>\n",
       "      <td>MEDIO RECORRIDO</td>\n",
       "      <td>8</td>\n",
       "      <td>811</td>\n",
       "      <td>1</td>\n",
       "      <td>0</td>\n",
       "      <td>0</td>\n",
       "      <td>0</td>\n",
       "      <td>0</td>\n",
       "    </tr>\n",
       "    <tr>\n",
       "      <th>61636</th>\n",
       "      <td>91806</td>\n",
       "      <td>61637</td>\n",
       "      <td>667.91</td>\n",
       "      <td>SI</td>\n",
       "      <td>NO</td>\n",
       "      <td>ASESOR FINANCIERO</td>\n",
       "      <td>26569.0</td>\n",
       "      <td>ASESORAMIENTO FINANCIERO</td>\n",
       "      <td>15351.0</td>\n",
       "      <td>NO</td>\n",
       "      <td>...</td>\n",
       "      <td>61</td>\n",
       "      <td>MEDIO</td>\n",
       "      <td>MEDIO RECORRIDO</td>\n",
       "      <td>3</td>\n",
       "      <td>313</td>\n",
       "      <td>0</td>\n",
       "      <td>0</td>\n",
       "      <td>0</td>\n",
       "      <td>0</td>\n",
       "      <td>0</td>\n",
       "    </tr>\n",
       "    <tr>\n",
       "      <th>364570</th>\n",
       "      <td>288646</td>\n",
       "      <td>364571</td>\n",
       "      <td>41983.50</td>\n",
       "      <td>SI</td>\n",
       "      <td>NO</td>\n",
       "      <td>ASESOR FINANCIERO</td>\n",
       "      <td>42192.0</td>\n",
       "      <td>ASESORAMIENTO FINANCIERO</td>\n",
       "      <td>15056.0</td>\n",
       "      <td>SI</td>\n",
       "      <td>...</td>\n",
       "      <td>66</td>\n",
       "      <td>ALTO</td>\n",
       "      <td>ALTO RECORRIDO</td>\n",
       "      <td>7</td>\n",
       "      <td>717</td>\n",
       "      <td>0</td>\n",
       "      <td>0</td>\n",
       "      <td>0</td>\n",
       "      <td>0</td>\n",
       "      <td>0</td>\n",
       "    </tr>\n",
       "    <tr>\n",
       "      <th>246791</th>\n",
       "      <td>174369</td>\n",
       "      <td>246792</td>\n",
       "      <td>195409.67</td>\n",
       "      <td>SI</td>\n",
       "      <td>NO</td>\n",
       "      <td>ASESOR FINANCIERO</td>\n",
       "      <td>27928.0</td>\n",
       "      <td>ASESORAMIENTO FINANCIERO</td>\n",
       "      <td>15446.0</td>\n",
       "      <td>NO</td>\n",
       "      <td>...</td>\n",
       "      <td>67</td>\n",
       "      <td>ALTO</td>\n",
       "      <td>ALTO RECORRIDO</td>\n",
       "      <td>5</td>\n",
       "      <td>511</td>\n",
       "      <td>0</td>\n",
       "      <td>0</td>\n",
       "      <td>0</td>\n",
       "      <td>0</td>\n",
       "      <td>0</td>\n",
       "    </tr>\n",
       "    <tr>\n",
       "      <th>405610</th>\n",
       "      <td>157917</td>\n",
       "      <td>405611</td>\n",
       "      <td>4850.66</td>\n",
       "      <td>SI</td>\n",
       "      <td>NO</td>\n",
       "      <td>ASESOR FINANCIERO</td>\n",
       "      <td>15470.0</td>\n",
       "      <td>ASESORAMIENTO FINANCIERO</td>\n",
       "      <td>16213.0</td>\n",
       "      <td>NO</td>\n",
       "      <td>...</td>\n",
       "      <td>62</td>\n",
       "      <td>MEDIO</td>\n",
       "      <td>ALTO RECORRIDO</td>\n",
       "      <td>4</td>\n",
       "      <td>421</td>\n",
       "      <td>0</td>\n",
       "      <td>0</td>\n",
       "      <td>0</td>\n",
       "      <td>0</td>\n",
       "      <td>0</td>\n",
       "    </tr>\n",
       "  </tbody>\n",
       "</table>\n",
       "<p>10 rows × 31 columns</p>\n",
       "</div>"
      ],
      "text/plain": [
       "        Unnamed: 0  cliente  saldo_captacion esta_carterizado cliente_bbp  \\\n",
       "70715       219607    70716         57981.05               SI          NO   \n",
       "203603      227534   203604         94227.16               SI          NO   \n",
       "275450       28603   275451           383.22               SI          NO   \n",
       "140687      390670   140688         14748.66               SI          NO   \n",
       "183568      448735   183569          3221.08               SI          NO   \n",
       "219107      304253   219108          2803.07               SI          NO   \n",
       "61636        91806    61637           667.91               SI          NO   \n",
       "364570      288646   364571         41983.50               SI          NO   \n",
       "246791      174369   246792        195409.67               SI          NO   \n",
       "405610      157917   405611          4850.66               SI          NO   \n",
       "\n",
       "              tipo_gestor   gestor            cartera_patron  codigo_cartera  \\\n",
       "70715   ASESOR FINANCIERO  17149.0  ASESORAMIENTO FINANCIERO         14809.0   \n",
       "203603  ASESOR FINANCIERO  16134.0  ASESORAMIENTO FINANCIERO         13390.0   \n",
       "275450  ASESOR FINANCIERO  34328.0  ASESORAMIENTO FINANCIERO         39538.0   \n",
       "140687  ASESOR FINANCIERO  13790.0                    TUTELA         27855.0   \n",
       "183568  ASESOR FINANCIERO  29330.0  ASESORAMIENTO FINANCIERO         15034.0   \n",
       "219107  ASESOR FINANCIERO  37491.0  ASESORAMIENTO FINANCIERO         16270.0   \n",
       "61636   ASESOR FINANCIERO  26569.0  ASESORAMIENTO FINANCIERO         15351.0   \n",
       "364570  ASESOR FINANCIERO  42192.0  ASESORAMIENTO FINANCIERO         15056.0   \n",
       "246791  ASESOR FINANCIERO  27928.0  ASESORAMIENTO FINANCIERO         15446.0   \n",
       "405610  ASESOR FINANCIERO  15470.0  ASESORAMIENTO FINANCIERO         16213.0   \n",
       "\n",
       "       digital_3_meses     ...     edad  seg_valor    seg_recorrido  dz  \\\n",
       "70715               NO     ...       85       ALTO   BAJO RECORRIDO   6   \n",
       "203603              SI     ...       77       ALTO   BAJO RECORRIDO   6   \n",
       "275450              NO     ...       43      MEDIO   ALTO RECORRIDO   1   \n",
       "140687              NO     ...       90      MEDIO   BAJO RECORRIDO  10   \n",
       "183568              SI     ...       59       ALTO   ALTO RECORRIDO  11   \n",
       "219107              SI     ...       24      MEDIO  MEDIO RECORRIDO   8   \n",
       "61636               NO     ...       61      MEDIO  MEDIO RECORRIDO   3   \n",
       "364570              SI     ...       66       ALTO   ALTO RECORRIDO   7   \n",
       "246791              NO     ...       67       ALTO   ALTO RECORRIDO   5   \n",
       "405610              NO     ...       62      MEDIO   ALTO RECORRIDO   4   \n",
       "\n",
       "        oficina  lp_seg_vida  lp_seg_acc  lp_seg_medico  lp_seg_hogar  \\\n",
       "70715       610            0           0              0             1   \n",
       "203603      612            0           0              0             0   \n",
       "275450      117            0           0              0             0   \n",
       "140687     1020            0           0              0             0   \n",
       "183568     1124            1           0              0             0   \n",
       "219107      811            1           0              0             0   \n",
       "61636       313            0           0              0             0   \n",
       "364570      717            0           0              0             0   \n",
       "246791      511            0           0              0             0   \n",
       "405610      421            0           0              0             0   \n",
       "\n",
       "       lp_seg_auto  \n",
       "70715            0  \n",
       "203603           0  \n",
       "275450           0  \n",
       "140687           0  \n",
       "183568           0  \n",
       "219107           0  \n",
       "61636            0  \n",
       "364570           0  \n",
       "246791           0  \n",
       "405610           0  \n",
       "\n",
       "[10 rows x 31 columns]"
      ]
     },
     "execution_count": 3,
     "metadata": {},
     "output_type": "execute_result"
    }
   ],
   "source": [
    "# First Look with Sample\n",
    "\n",
    "df.sample(10)"
   ]
  },
  {
   "cell_type": "code",
   "execution_count": 4,
   "metadata": {},
   "outputs": [
    {
     "data": {
      "text/plain": [
       "Index(['Unnamed: 0', 'cliente', 'saldo_captacion', 'esta_carterizado',\n",
       "       'cliente_bbp', 'tipo_gestor', 'gestor', 'cartera_patron',\n",
       "       'codigo_cartera', 'digital_3_meses', 'camino_digital',\n",
       "       'saldo_financiacion', 'saldo_ffii', 'saldo_plp', 'lp_ingresos',\n",
       "       'lp_tjta_cto', 'lp_tjt_rev', 'lp_rbos', 'lp_of_int', 'marca_bp',\n",
       "       'marca_ccte', 'edad', 'seg_valor', 'seg_recorrido', 'dz', 'oficina',\n",
       "       'lp_seg_vida', 'lp_seg_acc', 'lp_seg_medico', 'lp_seg_hogar',\n",
       "       'lp_seg_auto'],\n",
       "      dtype='object')"
      ]
     },
     "execution_count": 4,
     "metadata": {},
     "output_type": "execute_result"
    }
   ],
   "source": [
    "# Data frame columns \n",
    "df.columns"
   ]
  },
  {
   "cell_type": "code",
   "execution_count": 5,
   "metadata": {},
   "outputs": [],
   "source": [
    "df.drop(df.columns[[0]],axis='columns', inplace = True)"
   ]
  },
  {
   "cell_type": "code",
   "execution_count": 6,
   "metadata": {},
   "outputs": [
    {
     "data": {
      "text/plain": [
       "Index(['cliente', 'saldo_captacion', 'esta_carterizado', 'cliente_bbp',\n",
       "       'tipo_gestor', 'gestor', 'cartera_patron', 'codigo_cartera',\n",
       "       'digital_3_meses', 'camino_digital', 'saldo_financiacion', 'saldo_ffii',\n",
       "       'saldo_plp', 'lp_ingresos', 'lp_tjta_cto', 'lp_tjt_rev', 'lp_rbos',\n",
       "       'lp_of_int', 'marca_bp', 'marca_ccte', 'edad', 'seg_valor',\n",
       "       'seg_recorrido', 'dz', 'oficina', 'lp_seg_vida', 'lp_seg_acc',\n",
       "       'lp_seg_medico', 'lp_seg_hogar', 'lp_seg_auto'],\n",
       "      dtype='object')"
      ]
     },
     "execution_count": 6,
     "metadata": {},
     "output_type": "execute_result"
    }
   ],
   "source": [
    "# Data frame columns \n",
    "\n",
    "df.columns"
   ]
  },
  {
   "cell_type": "code",
   "execution_count": 7,
   "metadata": {},
   "outputs": [
    {
     "data": {
      "text/plain": [
       "(451374, 30)"
      ]
     },
     "execution_count": 7,
     "metadata": {},
     "output_type": "execute_result"
    }
   ],
   "source": [
    "# Data frame Shape \n",
    "\n",
    "df.shape"
   ]
  },
  {
   "cell_type": "code",
   "execution_count": 8,
   "metadata": {},
   "outputs": [
    {
     "data": {
      "text/plain": [
       "13541220"
      ]
     },
     "execution_count": 8,
     "metadata": {},
     "output_type": "execute_result"
    }
   ],
   "source": [
    "df.count().sum()"
   ]
  },
  {
   "cell_type": "markdown",
   "metadata": {},
   "source": [
    "- We check that the data does not contain Nans.  These had been cleaned in our previous step."
   ]
  },
  {
   "cell_type": "code",
   "execution_count": 9,
   "metadata": {},
   "outputs": [],
   "source": [
    "# Check for Nans\n",
    "\n",
    "df.isna().any();"
   ]
  },
  {
   "cell_type": "markdown",
   "metadata": {},
   "source": [
    "-  We inform ourselves of the type of data contained in the data frame.  We observe that the data needs to be modified.  All columns except the numerical ones of PP-FFII-EDAD-CAPTATION and FINANCING must be categorized as object.  We proceed to change them and check their modification."
   ]
  },
  {
   "cell_type": "code",
   "execution_count": 10,
   "metadata": {},
   "outputs": [],
   "source": [
    "# Look at data types\n",
    "\n",
    "df.dtypes;"
   ]
  },
  {
   "cell_type": "code",
   "execution_count": 11,
   "metadata": {},
   "outputs": [],
   "source": [
    "# We modify the data\n",
    "\n",
    "df[['cliente','gestor', 'codigo_cartera','lp_ingresos','lp_tjta_cto',\n",
    "   'lp_tjt_rev','lp_rbos','lp_of_int','dz','oficina',\n",
    "   'lp_seg_vida','lp_seg_acc','lp_seg_medico','lp_seg_hogar','lp_seg_auto']] = df[['cliente','gestor', 'codigo_cartera','lp_ingresos','lp_tjta_cto',\n",
    "   'lp_tjt_rev','lp_rbos','lp_of_int','dz','oficina',\n",
    "   'lp_seg_vida','lp_seg_acc','lp_seg_medico','lp_seg_hogar','lp_seg_auto']].astype(object);"
   ]
  },
  {
   "cell_type": "code",
   "execution_count": 12,
   "metadata": {},
   "outputs": [],
   "source": [
    "df.edad = df.edad.astype(int);"
   ]
  },
  {
   "cell_type": "code",
   "execution_count": 13,
   "metadata": {},
   "outputs": [],
   "source": [
    "# We confirm the modification\n",
    "\n",
    "df.dtypes;"
   ]
  },
  {
   "cell_type": "markdown",
   "metadata": {},
   "source": [
    "##  ===== Structural information  ====="
   ]
  },
  {
   "cell_type": "markdown",
   "metadata": {},
   "source": [
    "- We start the descriptive analysis by structuring and wanting to put into context all the data in this database. The first column on which all the other data descends is the DZ column (Zone Address). Each DZ is formed by a certain number of offices and these in turn by a certain number of customers.\n",
    "Each office has a number of Financial Advisors, each with a number of clients within its portfolio.  These clients are owners of financial products such as FFII, PlP, FINANCING, INSURANCE, CARDS, PAYMENTS...etc.\n",
    "\n"
   ]
  },
  {
   "cell_type": "code",
   "execution_count": 14,
   "metadata": {},
   "outputs": [
    {
     "data": {
      "text/plain": [
       "11"
      ]
     },
     "execution_count": 14,
     "metadata": {},
     "output_type": "execute_result"
    }
   ],
   "source": [
    "# ========== Total Number of Zone Adresses ==========\n",
    "\n",
    "df['dz'].nunique()"
   ]
  },
  {
   "cell_type": "code",
   "execution_count": 15,
   "metadata": {},
   "outputs": [
    {
     "data": {
      "text/plain": [
       "162"
      ]
     },
     "execution_count": 15,
     "metadata": {},
     "output_type": "execute_result"
    }
   ],
   "source": [
    "# ========== Total Number of Offices ==========\n",
    "\n",
    "df['oficina'].nunique()"
   ]
  },
  {
   "cell_type": "code",
   "execution_count": 16,
   "metadata": {},
   "outputs": [
    {
     "data": {
      "text/plain": [
       "451374"
      ]
     },
     "execution_count": 16,
     "metadata": {},
     "output_type": "execute_result"
    }
   ],
   "source": [
    "# ========== Total Number of Clients ==========\n",
    "\n",
    "df['cliente'].nunique()"
   ]
  },
  {
   "cell_type": "code",
   "execution_count": 17,
   "metadata": {},
   "outputs": [
    {
     "name": "stdout",
     "output_type": "stream",
     "text": [
      "*** Total Number of Offices by Zone Address ***\n",
      "dz\n",
      "1     15\n",
      "2     13\n",
      "3     17\n",
      "4     16\n",
      "5     17\n",
      "6     15\n",
      "7     13\n",
      "8     11\n",
      "9     16\n",
      "10    15\n",
      "11    14\n",
      "Name: oficina, dtype: int64\n",
      "===============================================\n",
      " Offices Distribution\n",
      " 1 DZ con 11 Oficinas / 2 DZ con 13 Oficinas / 1 DZ con 14 Oficinas\n",
      " 3 DZ con 15 Oficinas / 2 DZ con 16 Oficinas / 2 DZ con 17 Oficinas\n"
     ]
    },
    {
     "data": {
      "image/png": "[encoded data removed]",
      "text/plain": [
       "<Figure size 432x288 with 1 Axes>"
      ]
     },
     "metadata": {
      "needs_background": "light"
     },
     "output_type": "display_data"
    }
   ],
   "source": [
    "# ========== Total Number of Offices by Zone Address ==========\n",
    "\n",
    "n_oficinas_por_dz = df.groupby(['dz'])['oficina'].nunique()\n",
    "print('*** Total Number of Offices by Zone Address ***')\n",
    "print(n_oficinas_por_dz)\n",
    "print('===============================================')\n",
    "print(''' Offices Distribution\n",
    " 1 DZ con 11 Oficinas / 2 DZ con 13 Oficinas / 1 DZ con 14 Oficinas\n",
    " 3 DZ con 15 Oficinas / 2 DZ con 16 Oficinas / 2 DZ con 17 Oficinas''')\n",
    "sns.countplot(n_oficinas_por_dz);"
   ]
  },
  {
   "cell_type": "code",
   "execution_count": 18,
   "metadata": {
    "scrolled": true
   },
   "outputs": [
    {
     "data": {
      "text/plain": [
       "dz\n",
       "1     45534\n",
       "2     35406\n",
       "3     48081\n",
       "4     38749\n",
       "5     51468\n",
       "6     42198\n",
       "7     37926\n",
       "8     21690\n",
       "9     40227\n",
       "10    42360\n",
       "11    47735\n",
       "Name: cliente, dtype: int64"
      ]
     },
     "execution_count": 18,
     "metadata": {},
     "output_type": "execute_result"
    }
   ],
   "source": [
    "# ========== Total Number of Customers by Zone Address ==========\n",
    "\n",
    "# Tambien asi : n_clientes_por_dzdf.groupby('dz').size())\n",
    "n_clientes_por_dz = df.groupby(['dz'])['cliente'].nunique()\n",
    "n_clientes_por_dz"
   ]
  },
  {
   "cell_type": "code",
   "execution_count": null,
   "metadata": {},
   "outputs": [],
   "source": []
  },
  {
   "cell_type": "code",
   "execution_count": null,
   "metadata": {},
   "outputs": [],
   "source": []
  },
  {
   "cell_type": "code",
   "execution_count": null,
   "metadata": {},
   "outputs": [],
   "source": []
  },
  {
   "cell_type": "code",
   "execution_count": null,
   "metadata": {},
   "outputs": [],
   "source": []
  },
  {
   "cell_type": "code",
   "execution_count": null,
   "metadata": {},
   "outputs": [],
   "source": []
  },
  {
   "cell_type": "code",
   "execution_count": null,
   "metadata": {},
   "outputs": [],
   "source": []
  },
  {
   "cell_type": "code",
   "execution_count": null,
   "metadata": {},
   "outputs": [],
   "source": []
  },
  {
   "cell_type": "code",
   "execution_count": null,
   "metadata": {},
   "outputs": [],
   "source": []
  },
  {
   "cell_type": "code",
   "execution_count": null,
   "metadata": {},
   "outputs": [],
   "source": []
  },
  {
   "cell_type": "code",
   "execution_count": null,
   "metadata": {},
   "outputs": [],
   "source": []
  },
  {
   "cell_type": "code",
   "execution_count": null,
   "metadata": {},
   "outputs": [],
   "source": []
  },
  {
   "cell_type": "code",
   "execution_count": null,
   "metadata": {},
   "outputs": [],
   "source": []
  },
  {
   "cell_type": "code",
   "execution_count": null,
   "metadata": {},
   "outputs": [],
   "source": []
  },
  {
   "cell_type": "code",
   "execution_count": null,
   "metadata": {},
   "outputs": [],
   "source": []
  },
  {
   "cell_type": "code",
   "execution_count": null,
   "metadata": {},
   "outputs": [],
   "source": []
  },
  {
   "cell_type": "code",
   "execution_count": null,
   "metadata": {},
   "outputs": [],
   "source": []
  },
  {
   "cell_type": "code",
   "execution_count": null,
   "metadata": {},
   "outputs": [],
   "source": []
  },
  {
   "cell_type": "code",
   "execution_count": null,
   "metadata": {},
   "outputs": [],
   "source": []
  },
  {
   "cell_type": "code",
   "execution_count": null,
   "metadata": {},
   "outputs": [],
   "source": []
  }
 ],
 "metadata": {
  "kernelspec": {
   "display_name": "Python 3",
   "language": "python",
   "name": "python3"
  },
  "language_info": {
   "codemirror_mode": {
    "name": "ipython",
    "version": 3
   },
   "file_extension": ".py",
   "mimetype": "text/x-python",
   "name": "python",
   "nbconvert_exporter": "python",
   "pygments_lexer": "ipython3",
   "version": "3.7.1"
  }
 },
 "nbformat": 4,
 "nbformat_minor": 2
}
