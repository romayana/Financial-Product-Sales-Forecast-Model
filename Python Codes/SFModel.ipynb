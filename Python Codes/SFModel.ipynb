{
 "cells": [
  {
   "cell_type": "markdown",
   "metadata": {},
   "source": [
    "# SFModel"
   ]
  },
  {
   "cell_type": "code",
   "execution_count": 1,
   "metadata": {},
   "outputs": [],
   "source": [
    "import pandas as pd\n",
    "import numpy as np\n",
    "\n",
    "#Librerias Visualizacion\n",
    "import matplotlib.pyplot as plt\n",
    "import pylab as pl\n",
    "import seaborn as sns \n",
    "from pylab import rcParams \n",
    "\n",
    "#Libreria Metricas\n",
    "from sklearn.metrics import f1_score, recall_score, precision_score, accuracy_score\n",
    "from sklearn.metrics import roc_auc_score, roc_curve\n",
    "from sklearn.metrics import confusion_matrix\n",
    "from sklearn.metrics import classification_report\n",
    "from sklearn.metrics import confusion_matrix\n",
    "from sklearn.metrics import classification_report\n",
    "\n",
    "#Librerias Modelos\n",
    "from sklearn.linear_model import LogisticRegression\n",
    "from sklearn.neighbors import KNeighborsRegressor\n",
    "from sklearn.tree import DecisionTreeClassifier \n",
    "from sklearn.model_selection import train_test_split \n",
    "\n",
    "# librerias Procesamieno Feature_engineering\n",
    "from sklearn.preprocessing import LabelEncoder\n",
    "from imblearn.over_sampling import RandomOverSampler\n",
    "from imblearn.combine import SMOTETomek\n",
    "from imblearn.ensemble import BalancedBaggingClassifier \n",
    "from collections import Counter\n",
    "\n",
    "# Libreria Dimensionalidad\n",
    "from sklearn.decomposition import PCA"
   ]
  },
  {
   "cell_type": "code",
   "execution_count": 2,
   "metadata": {},
   "outputs": [],
   "source": [
    "df = pd.read_csv('/home/dsc/Master-Kschool/TFM/cleanned_data/df.tfm')"
   ]
  },
  {
   "cell_type": "code",
   "execution_count": 3,
   "metadata": {},
   "outputs": [
    {
     "data": {
      "text/html": [
       "<div>\n",
       "<style scoped>\n",
       "    .dataframe tbody tr th:only-of-type {\n",
       "        vertical-align: middle;\n",
       "    }\n",
       "\n",
       "    .dataframe tbody tr th {\n",
       "        vertical-align: top;\n",
       "    }\n",
       "\n",
       "    .dataframe thead th {\n",
       "        text-align: right;\n",
       "    }\n",
       "</style>\n",
       "<table border=\"1\" class=\"dataframe\">\n",
       "  <thead>\n",
       "    <tr style=\"text-align: right;\">\n",
       "      <th></th>\n",
       "      <th>cliente</th>\n",
       "      <th>saldo_captacion</th>\n",
       "      <th>esta_carterizado</th>\n",
       "      <th>cliente_bbp</th>\n",
       "      <th>tipo_gestor</th>\n",
       "      <th>gestor</th>\n",
       "      <th>cartera_patron</th>\n",
       "      <th>codigo_cartera</th>\n",
       "      <th>digital_3_meses</th>\n",
       "      <th>camino_digital</th>\n",
       "      <th>...</th>\n",
       "      <th>edad</th>\n",
       "      <th>seg_valor</th>\n",
       "      <th>seg_recorrido</th>\n",
       "      <th>dz</th>\n",
       "      <th>oficina</th>\n",
       "      <th>lp_seg_vida</th>\n",
       "      <th>lp_seg_acc</th>\n",
       "      <th>lp_seg_salud</th>\n",
       "      <th>lp_seg_hogar</th>\n",
       "      <th>lp_seg_auto</th>\n",
       "    </tr>\n",
       "  </thead>\n",
       "  <tbody>\n",
       "    <tr>\n",
       "      <th>0</th>\n",
       "      <td>1</td>\n",
       "      <td>1328106.49</td>\n",
       "      <td>SI</td>\n",
       "      <td>NO</td>\n",
       "      <td>ASESOR FINANCIERO</td>\n",
       "      <td>18287.0</td>\n",
       "      <td>ASESORAMIENTO FINANCIERO</td>\n",
       "      <td>14881.0</td>\n",
       "      <td>SI</td>\n",
       "      <td>COMPRADOR</td>\n",
       "      <td>...</td>\n",
       "      <td>69.0</td>\n",
       "      <td>ALTO</td>\n",
       "      <td>BAJO RECORRIDO</td>\n",
       "      <td>2</td>\n",
       "      <td>210</td>\n",
       "      <td>0</td>\n",
       "      <td>0</td>\n",
       "      <td>0</td>\n",
       "      <td>1</td>\n",
       "      <td>0</td>\n",
       "    </tr>\n",
       "    <tr>\n",
       "      <th>1</th>\n",
       "      <td>2</td>\n",
       "      <td>1142234.34</td>\n",
       "      <td>SI</td>\n",
       "      <td>NO</td>\n",
       "      <td>ASESOR FINANCIERO</td>\n",
       "      <td>18287.0</td>\n",
       "      <td>ASESORAMIENTO FINANCIERO</td>\n",
       "      <td>14881.0</td>\n",
       "      <td>SI</td>\n",
       "      <td>COMPRADOR</td>\n",
       "      <td>...</td>\n",
       "      <td>81.0</td>\n",
       "      <td>ALTO</td>\n",
       "      <td>ALTO RECORRIDO</td>\n",
       "      <td>2</td>\n",
       "      <td>210</td>\n",
       "      <td>0</td>\n",
       "      <td>0</td>\n",
       "      <td>0</td>\n",
       "      <td>0</td>\n",
       "      <td>0</td>\n",
       "    </tr>\n",
       "  </tbody>\n",
       "</table>\n",
       "<p>2 rows × 30 columns</p>\n",
       "</div>"
      ],
      "text/plain": [
       "   cliente  saldo_captacion esta_carterizado cliente_bbp        tipo_gestor  \\\n",
       "0        1       1328106.49               SI          NO  ASESOR FINANCIERO   \n",
       "1        2       1142234.34               SI          NO  ASESOR FINANCIERO   \n",
       "\n",
       "    gestor            cartera_patron  codigo_cartera digital_3_meses  \\\n",
       "0  18287.0  ASESORAMIENTO FINANCIERO         14881.0              SI   \n",
       "1  18287.0  ASESORAMIENTO FINANCIERO         14881.0              SI   \n",
       "\n",
       "  camino_digital  ...  edad  seg_valor   seg_recorrido  dz  oficina  \\\n",
       "0      COMPRADOR  ...  69.0       ALTO  BAJO RECORRIDO   2      210   \n",
       "1      COMPRADOR  ...  81.0       ALTO  ALTO RECORRIDO   2      210   \n",
       "\n",
       "   lp_seg_vida  lp_seg_acc  lp_seg_salud lp_seg_hogar lp_seg_auto  \n",
       "0            0           0             0            1           0  \n",
       "1            0           0             0            0           0  \n",
       "\n",
       "[2 rows x 30 columns]"
      ]
     },
     "execution_count": 3,
     "metadata": {},
     "output_type": "execute_result"
    }
   ],
   "source": [
    "df.head(2)"
   ]
  },
  {
   "cell_type": "code",
   "execution_count": 4,
   "metadata": {},
   "outputs": [
    {
     "data": {
      "text/plain": [
       "Index(['cliente', 'saldo_captacion', 'esta_carterizado', 'cliente_bbp',\n",
       "       'tipo_gestor', 'gestor', 'cartera_patron', 'codigo_cartera',\n",
       "       'digital_3_meses', 'camino_digital', 'saldo_financiacion', 'saldo_ffii',\n",
       "       'saldo_plp', 'lp_dom_ingresos', 'lp_tjta_cto', 'lp_tjt_rev', 'lp_rbos',\n",
       "       'lp_of_int', 'marca_bp', 'marca_ccte', 'edad', 'seg_valor',\n",
       "       'seg_recorrido', 'dz', 'oficina', 'lp_seg_vida', 'lp_seg_acc',\n",
       "       'lp_seg_salud', 'lp_seg_hogar', 'lp_seg_auto'],\n",
       "      dtype='object')"
      ]
     },
     "execution_count": 4,
     "metadata": {},
     "output_type": "execute_result"
    }
   ],
   "source": [
    "df.columns"
   ]
  },
  {
   "cell_type": "markdown",
   "metadata": {},
   "source": [
    "###  --- Deteccion de Outliers --- Conversion Variable Numerica --- PCA"
   ]
  },
  {
   "cell_type": "markdown",
   "metadata": {},
   "source": [
    "### Label Encoder - Variables Categoricas"
   ]
  },
  {
   "cell_type": "code",
   "execution_count": 5,
   "metadata": {},
   "outputs": [],
   "source": [
    "# Cargamos libreria\n",
    "from sklearn.preprocessing import LabelEncoder\n",
    "lbl = LabelEncoder()"
   ]
  },
  {
   "cell_type": "code",
   "execution_count": 6,
   "metadata": {},
   "outputs": [
    {
     "data": {
      "text/plain": [
       "array([1, 0, 1, ..., 3, 3, 0])"
      ]
     },
     "execution_count": 6,
     "metadata": {},
     "output_type": "execute_result"
    }
   ],
   "source": [
    "# Transformamos varaible categoricas\n",
    "lbl.fit_transform(df['tipo_gestor'])\n",
    "lbl.fit_transform(df['esta_carterizado'])\n",
    "lbl.fit_transform(df['cliente_bbp'])\n",
    "lbl.fit_transform(df['cartera_patron'])\n",
    "lbl.fit_transform(df['digital_3_meses'])\n",
    "lbl.fit_transform(df['camino_digital'])\n",
    "lbl.fit_transform(df['marca_bp'])\n",
    "lbl.fit_transform(df['marca_ccte'])\n",
    "lbl.fit_transform(df['seg_valor'])\n",
    "lbl.fit_transform(df['seg_recorrido'])\n"
   ]
  },
  {
   "cell_type": "code",
   "execution_count": 7,
   "metadata": {},
   "outputs": [],
   "source": [
    "# Les asignamos una variable propia\n",
    "df['tipo_gestor_etiqueta']=lbl.fit_transform(df['tipo_gestor'])\n",
    "df['esta_carterizado_etiqueta']=lbl.fit_transform(df['esta_carterizado'])\n",
    "df['cliente_bbp_etiqueta']=lbl.fit_transform(df['cliente_bbp'])\n",
    "df['cartera_patron_etiqueta']=lbl.fit_transform(df['cartera_patron'])\n",
    "df['digital_3_meses_etiqueta']=lbl.fit_transform(df['digital_3_meses'])\n",
    "df['camino_digital_etiqueta']=lbl.fit_transform(df['camino_digital'])\n",
    "df['marca_bp_etiqueta']=lbl.fit_transform(df['marca_bp'])\n",
    "df['marca_ccte_etiqueta']=lbl.fit_transform(df['marca_ccte'])\n",
    "df['seg_valor_etiqueta']=lbl.fit_transform(df['seg_valor'])\n",
    "df['seg_recorrido_etiqueta']=lbl.fit_transform(df['seg_recorrido'])"
   ]
  },
  {
   "cell_type": "code",
   "execution_count": 8,
   "metadata": {},
   "outputs": [
    {
     "name": "stdout",
     "output_type": "stream",
     "text": [
      "0    403840\n",
      "1     43144\n",
      "2      4390\n",
      "Name: tipo_gestor_etiqueta, dtype: int64\n",
      "========================================\n",
      "ASESOR FINANCIERO          403840\n",
      "SIN GESTOR                  43144\n",
      "SUBDIRECCIÓN DE OFICINA      4390\n",
      "Name: tipo_gestor, dtype: int64\n"
     ]
    }
   ],
   "source": [
    "# Confirmamos que se han transformado\n",
    "print(df['tipo_gestor_etiqueta'].value_counts())\n",
    "print('='*40)\n",
    "print(df['tipo_gestor'].value_counts())"
   ]
  },
  {
   "cell_type": "code",
   "execution_count": 9,
   "metadata": {},
   "outputs": [],
   "source": [
    "# Eliminamos las anteriores variables categoricas\n",
    "df.drop(['tipo_gestor','esta_carterizado','cliente_bbp',\n",
    "         'cartera_patron','digital_3_meses','camino_digital',\n",
    "         'marca_bp','marca_ccte','seg_valor','seg_recorrido'],axis = 1,inplace = True)"
   ]
  },
  {
   "cell_type": "code",
   "execution_count": 10,
   "metadata": {},
   "outputs": [
    {
     "name": "stdout",
     "output_type": "stream",
     "text": [
      "Index(['cliente', 'saldo_captacion', 'gestor', 'codigo_cartera',\n",
      "       'saldo_financiacion', 'saldo_ffii', 'saldo_plp', 'lp_dom_ingresos',\n",
      "       'lp_tjta_cto', 'lp_tjt_rev', 'lp_rbos', 'lp_of_int', 'edad', 'dz',\n",
      "       'oficina', 'lp_seg_vida', 'lp_seg_acc', 'lp_seg_salud', 'lp_seg_hogar',\n",
      "       'lp_seg_auto', 'tipo_gestor_etiqueta', 'esta_carterizado_etiqueta',\n",
      "       'cliente_bbp_etiqueta', 'cartera_patron_etiqueta',\n",
      "       'digital_3_meses_etiqueta', 'camino_digital_etiqueta',\n",
      "       'marca_bp_etiqueta', 'marca_ccte_etiqueta', 'seg_valor_etiqueta',\n",
      "       'seg_recorrido_etiqueta'],\n",
      "      dtype='object')\n"
     ]
    },
    {
     "data": {
      "text/html": [
       "<div>\n",
       "<style scoped>\n",
       "    .dataframe tbody tr th:only-of-type {\n",
       "        vertical-align: middle;\n",
       "    }\n",
       "\n",
       "    .dataframe tbody tr th {\n",
       "        vertical-align: top;\n",
       "    }\n",
       "\n",
       "    .dataframe thead th {\n",
       "        text-align: right;\n",
       "    }\n",
       "</style>\n",
       "<table border=\"1\" class=\"dataframe\">\n",
       "  <thead>\n",
       "    <tr style=\"text-align: right;\">\n",
       "      <th></th>\n",
       "      <th>cliente</th>\n",
       "      <th>saldo_captacion</th>\n",
       "      <th>gestor</th>\n",
       "      <th>codigo_cartera</th>\n",
       "      <th>saldo_financiacion</th>\n",
       "      <th>saldo_ffii</th>\n",
       "      <th>saldo_plp</th>\n",
       "      <th>lp_dom_ingresos</th>\n",
       "      <th>lp_tjta_cto</th>\n",
       "      <th>lp_tjt_rev</th>\n",
       "      <th>...</th>\n",
       "      <th>tipo_gestor_etiqueta</th>\n",
       "      <th>esta_carterizado_etiqueta</th>\n",
       "      <th>cliente_bbp_etiqueta</th>\n",
       "      <th>cartera_patron_etiqueta</th>\n",
       "      <th>digital_3_meses_etiqueta</th>\n",
       "      <th>camino_digital_etiqueta</th>\n",
       "      <th>marca_bp_etiqueta</th>\n",
       "      <th>marca_ccte_etiqueta</th>\n",
       "      <th>seg_valor_etiqueta</th>\n",
       "      <th>seg_recorrido_etiqueta</th>\n",
       "    </tr>\n",
       "  </thead>\n",
       "  <tbody>\n",
       "    <tr>\n",
       "      <th>86985</th>\n",
       "      <td>86986</td>\n",
       "      <td>68125.43</td>\n",
       "      <td>23253.0</td>\n",
       "      <td>15152.0</td>\n",
       "      <td>103.00</td>\n",
       "      <td>0.0</td>\n",
       "      <td>0.0</td>\n",
       "      <td>1</td>\n",
       "      <td>1</td>\n",
       "      <td>0</td>\n",
       "      <td>...</td>\n",
       "      <td>0</td>\n",
       "      <td>1</td>\n",
       "      <td>0</td>\n",
       "      <td>0</td>\n",
       "      <td>1</td>\n",
       "      <td>4</td>\n",
       "      <td>1</td>\n",
       "      <td>1</td>\n",
       "      <td>0</td>\n",
       "      <td>2</td>\n",
       "    </tr>\n",
       "    <tr>\n",
       "      <th>125709</th>\n",
       "      <td>125710</td>\n",
       "      <td>37773.32</td>\n",
       "      <td>34164.0</td>\n",
       "      <td>37076.0</td>\n",
       "      <td>3.13</td>\n",
       "      <td>0.0</td>\n",
       "      <td>0.0</td>\n",
       "      <td>1</td>\n",
       "      <td>1</td>\n",
       "      <td>1</td>\n",
       "      <td>...</td>\n",
       "      <td>0</td>\n",
       "      <td>1</td>\n",
       "      <td>0</td>\n",
       "      <td>0</td>\n",
       "      <td>0</td>\n",
       "      <td>3</td>\n",
       "      <td>0</td>\n",
       "      <td>0</td>\n",
       "      <td>0</td>\n",
       "      <td>0</td>\n",
       "    </tr>\n",
       "    <tr>\n",
       "      <th>43749</th>\n",
       "      <td>43750</td>\n",
       "      <td>214.41</td>\n",
       "      <td>39280.0</td>\n",
       "      <td>14947.0</td>\n",
       "      <td>0.00</td>\n",
       "      <td>0.0</td>\n",
       "      <td>0.0</td>\n",
       "      <td>0</td>\n",
       "      <td>0</td>\n",
       "      <td>0</td>\n",
       "      <td>...</td>\n",
       "      <td>0</td>\n",
       "      <td>1</td>\n",
       "      <td>0</td>\n",
       "      <td>0</td>\n",
       "      <td>0</td>\n",
       "      <td>3</td>\n",
       "      <td>0</td>\n",
       "      <td>2</td>\n",
       "      <td>1</td>\n",
       "      <td>0</td>\n",
       "    </tr>\n",
       "    <tr>\n",
       "      <th>294197</th>\n",
       "      <td>294198</td>\n",
       "      <td>5672.46</td>\n",
       "      <td>11221.0</td>\n",
       "      <td>14815.0</td>\n",
       "      <td>0.00</td>\n",
       "      <td>0.0</td>\n",
       "      <td>0.0</td>\n",
       "      <td>0</td>\n",
       "      <td>0</td>\n",
       "      <td>0</td>\n",
       "      <td>...</td>\n",
       "      <td>0</td>\n",
       "      <td>1</td>\n",
       "      <td>0</td>\n",
       "      <td>0</td>\n",
       "      <td>1</td>\n",
       "      <td>1</td>\n",
       "      <td>0</td>\n",
       "      <td>2</td>\n",
       "      <td>1</td>\n",
       "      <td>1</td>\n",
       "    </tr>\n",
       "    <tr>\n",
       "      <th>14793</th>\n",
       "      <td>14794</td>\n",
       "      <td>141011.18</td>\n",
       "      <td>41685.0</td>\n",
       "      <td>14138.0</td>\n",
       "      <td>0.00</td>\n",
       "      <td>0.0</td>\n",
       "      <td>0.0</td>\n",
       "      <td>0</td>\n",
       "      <td>0</td>\n",
       "      <td>0</td>\n",
       "      <td>...</td>\n",
       "      <td>0</td>\n",
       "      <td>1</td>\n",
       "      <td>0</td>\n",
       "      <td>0</td>\n",
       "      <td>0</td>\n",
       "      <td>3</td>\n",
       "      <td>1</td>\n",
       "      <td>0</td>\n",
       "      <td>0</td>\n",
       "      <td>0</td>\n",
       "    </tr>\n",
       "  </tbody>\n",
       "</table>\n",
       "<p>5 rows × 30 columns</p>\n",
       "</div>"
      ],
      "text/plain": [
       "        cliente  saldo_captacion   gestor  codigo_cartera  saldo_financiacion  \\\n",
       "86985     86986         68125.43  23253.0         15152.0              103.00   \n",
       "125709   125710         37773.32  34164.0         37076.0                3.13   \n",
       "43749     43750           214.41  39280.0         14947.0                0.00   \n",
       "294197   294198          5672.46  11221.0         14815.0                0.00   \n",
       "14793     14794        141011.18  41685.0         14138.0                0.00   \n",
       "\n",
       "        saldo_ffii  saldo_plp  lp_dom_ingresos  lp_tjta_cto  lp_tjt_rev  ...  \\\n",
       "86985          0.0        0.0                1            1           0  ...   \n",
       "125709         0.0        0.0                1            1           1  ...   \n",
       "43749          0.0        0.0                0            0           0  ...   \n",
       "294197         0.0        0.0                0            0           0  ...   \n",
       "14793          0.0        0.0                0            0           0  ...   \n",
       "\n",
       "        tipo_gestor_etiqueta  esta_carterizado_etiqueta  cliente_bbp_etiqueta  \\\n",
       "86985                      0                          1                     0   \n",
       "125709                     0                          1                     0   \n",
       "43749                      0                          1                     0   \n",
       "294197                     0                          1                     0   \n",
       "14793                      0                          1                     0   \n",
       "\n",
       "        cartera_patron_etiqueta  digital_3_meses_etiqueta  \\\n",
       "86985                         0                         1   \n",
       "125709                        0                         0   \n",
       "43749                         0                         0   \n",
       "294197                        0                         1   \n",
       "14793                         0                         0   \n",
       "\n",
       "        camino_digital_etiqueta  marca_bp_etiqueta  marca_ccte_etiqueta  \\\n",
       "86985                         4                  1                    1   \n",
       "125709                        3                  0                    0   \n",
       "43749                         3                  0                    2   \n",
       "294197                        1                  0                    2   \n",
       "14793                         3                  1                    0   \n",
       "\n",
       "        seg_valor_etiqueta  seg_recorrido_etiqueta  \n",
       "86985                    0                       2  \n",
       "125709                   0                       0  \n",
       "43749                    1                       0  \n",
       "294197                   1                       1  \n",
       "14793                    0                       0  \n",
       "\n",
       "[5 rows x 30 columns]"
      ]
     },
     "execution_count": 10,
     "metadata": {},
     "output_type": "execute_result"
    }
   ],
   "source": [
    "# Confirmamos \n",
    "print(df.columns)\n",
    "df.sample(5)"
   ]
  },
  {
   "cell_type": "code",
   "execution_count": 11,
   "metadata": {},
   "outputs": [],
   "source": [
    "# Convierto variables que son unidades de negocio a object\n",
    "df[[\"cliente\", \"gestor\",\n",
    "    'codigo_cartera', 'dz', 'oficina']] = df[[\"cliente\", \"gestor\",\n",
    "                                              'codigo_cartera', 'dz', 'oficina']].astype(object);\n",
    "df['edad']=df['edad'].astype(int)"
   ]
  },
  {
   "cell_type": "code",
   "execution_count": 12,
   "metadata": {},
   "outputs": [],
   "source": [
    "df.dtypes;"
   ]
  },
  {
   "cell_type": "markdown",
   "metadata": {},
   "source": [
    "## Normalizamos"
   ]
  },
  {
   "cell_type": "code",
   "execution_count": 13,
   "metadata": {},
   "outputs": [],
   "source": [
    "# Cargamos liberia\n",
    "from sklearn.preprocessing import MinMaxScaler\n",
    "scaler = MinMaxScaler()"
   ]
  },
  {
   "cell_type": "code",
   "execution_count": 14,
   "metadata": {},
   "outputs": [],
   "source": [
    "# Asignamos a variagle todo los datos numericos\n",
    "df_datos_numericos =  df.select_dtypes('number')"
   ]
  },
  {
   "cell_type": "code",
   "execution_count": 15,
   "metadata": {},
   "outputs": [],
   "source": [
    "# Transformamos los datos numericos en valores entre 0 y 1 y le asignamos una variable\n",
    "# Esta operacion trasnforma en array el df- luego hay que transformala en DataFrame\n",
    "df_normalizado = scaler.fit_transform(df_datos_numericos)"
   ]
  },
  {
   "cell_type": "code",
   "execution_count": 16,
   "metadata": {},
   "outputs": [],
   "source": [
    "columnas_datos_numericos = df_datos_numericos.columns"
   ]
  },
  {
   "cell_type": "code",
   "execution_count": 17,
   "metadata": {},
   "outputs": [
    {
     "data": {
      "text/plain": [
       "Index(['saldo_captacion', 'saldo_financiacion', 'saldo_ffii', 'saldo_plp',\n",
       "       'lp_dom_ingresos', 'lp_tjta_cto', 'lp_tjt_rev', 'lp_rbos', 'lp_of_int',\n",
       "       'edad', 'lp_seg_vida', 'lp_seg_acc', 'lp_seg_salud', 'lp_seg_hogar',\n",
       "       'lp_seg_auto', 'tipo_gestor_etiqueta', 'esta_carterizado_etiqueta',\n",
       "       'cliente_bbp_etiqueta', 'cartera_patron_etiqueta',\n",
       "       'digital_3_meses_etiqueta', 'camino_digital_etiqueta',\n",
       "       'marca_bp_etiqueta', 'marca_ccte_etiqueta', 'seg_valor_etiqueta',\n",
       "       'seg_recorrido_etiqueta'],\n",
       "      dtype='object')"
      ]
     },
     "execution_count": 17,
     "metadata": {},
     "output_type": "execute_result"
    }
   ],
   "source": [
    "columnas_datos_numericos"
   ]
  },
  {
   "cell_type": "code",
   "execution_count": 18,
   "metadata": {},
   "outputs": [],
   "source": [
    "df_normalizado = pd.DataFrame(df_normalizado, columns=columnas_datos_numericos)"
   ]
  },
  {
   "cell_type": "code",
   "execution_count": 19,
   "metadata": {
    "scrolled": true
   },
   "outputs": [
    {
     "data": {
      "text/html": [
       "<div>\n",
       "<style scoped>\n",
       "    .dataframe tbody tr th:only-of-type {\n",
       "        vertical-align: middle;\n",
       "    }\n",
       "\n",
       "    .dataframe tbody tr th {\n",
       "        vertical-align: top;\n",
       "    }\n",
       "\n",
       "    .dataframe thead th {\n",
       "        text-align: right;\n",
       "    }\n",
       "</style>\n",
       "<table border=\"1\" class=\"dataframe\">\n",
       "  <thead>\n",
       "    <tr style=\"text-align: right;\">\n",
       "      <th></th>\n",
       "      <th>saldo_captacion</th>\n",
       "      <th>saldo_financiacion</th>\n",
       "      <th>saldo_ffii</th>\n",
       "      <th>saldo_plp</th>\n",
       "      <th>lp_dom_ingresos</th>\n",
       "      <th>lp_tjta_cto</th>\n",
       "      <th>lp_tjt_rev</th>\n",
       "      <th>lp_rbos</th>\n",
       "      <th>lp_of_int</th>\n",
       "      <th>edad</th>\n",
       "      <th>...</th>\n",
       "      <th>tipo_gestor_etiqueta</th>\n",
       "      <th>esta_carterizado_etiqueta</th>\n",
       "      <th>cliente_bbp_etiqueta</th>\n",
       "      <th>cartera_patron_etiqueta</th>\n",
       "      <th>digital_3_meses_etiqueta</th>\n",
       "      <th>camino_digital_etiqueta</th>\n",
       "      <th>marca_bp_etiqueta</th>\n",
       "      <th>marca_ccte_etiqueta</th>\n",
       "      <th>seg_valor_etiqueta</th>\n",
       "      <th>seg_recorrido_etiqueta</th>\n",
       "    </tr>\n",
       "  </thead>\n",
       "  <tbody>\n",
       "    <tr>\n",
       "      <th>0</th>\n",
       "      <td>0.258207</td>\n",
       "      <td>0.001689</td>\n",
       "      <td>0.415566</td>\n",
       "      <td>0.031101</td>\n",
       "      <td>1.0</td>\n",
       "      <td>1.0</td>\n",
       "      <td>1.0</td>\n",
       "      <td>1.0</td>\n",
       "      <td>1.0</td>\n",
       "      <td>0.584746</td>\n",
       "      <td>...</td>\n",
       "      <td>0.0</td>\n",
       "      <td>1.0</td>\n",
       "      <td>0.0</td>\n",
       "      <td>0.0</td>\n",
       "      <td>1.0</td>\n",
       "      <td>0.0</td>\n",
       "      <td>0.0</td>\n",
       "      <td>0.0</td>\n",
       "      <td>0.0</td>\n",
       "      <td>0.333333</td>\n",
       "    </tr>\n",
       "    <tr>\n",
       "      <th>1</th>\n",
       "      <td>0.223408</td>\n",
       "      <td>0.001689</td>\n",
       "      <td>0.355362</td>\n",
       "      <td>0.000000</td>\n",
       "      <td>0.0</td>\n",
       "      <td>0.0</td>\n",
       "      <td>0.0</td>\n",
       "      <td>1.0</td>\n",
       "      <td>1.0</td>\n",
       "      <td>0.686441</td>\n",
       "      <td>...</td>\n",
       "      <td>0.0</td>\n",
       "      <td>1.0</td>\n",
       "      <td>0.0</td>\n",
       "      <td>0.0</td>\n",
       "      <td>1.0</td>\n",
       "      <td>0.0</td>\n",
       "      <td>0.0</td>\n",
       "      <td>0.0</td>\n",
       "      <td>0.0</td>\n",
       "      <td>0.000000</td>\n",
       "    </tr>\n",
       "  </tbody>\n",
       "</table>\n",
       "<p>2 rows × 25 columns</p>\n",
       "</div>"
      ],
      "text/plain": [
       "   saldo_captacion  saldo_financiacion  saldo_ffii  saldo_plp  \\\n",
       "0         0.258207            0.001689    0.415566   0.031101   \n",
       "1         0.223408            0.001689    0.355362   0.000000   \n",
       "\n",
       "   lp_dom_ingresos  lp_tjta_cto  lp_tjt_rev  lp_rbos  lp_of_int      edad  \\\n",
       "0              1.0          1.0         1.0      1.0        1.0  0.584746   \n",
       "1              0.0          0.0         0.0      1.0        1.0  0.686441   \n",
       "\n",
       "   ...  tipo_gestor_etiqueta  esta_carterizado_etiqueta  cliente_bbp_etiqueta  \\\n",
       "0  ...                   0.0                        1.0                   0.0   \n",
       "1  ...                   0.0                        1.0                   0.0   \n",
       "\n",
       "   cartera_patron_etiqueta  digital_3_meses_etiqueta  camino_digital_etiqueta  \\\n",
       "0                      0.0                       1.0                      0.0   \n",
       "1                      0.0                       1.0                      0.0   \n",
       "\n",
       "   marca_bp_etiqueta  marca_ccte_etiqueta  seg_valor_etiqueta  \\\n",
       "0                0.0                  0.0                 0.0   \n",
       "1                0.0                  0.0                 0.0   \n",
       "\n",
       "   seg_recorrido_etiqueta  \n",
       "0                0.333333  \n",
       "1                0.000000  \n",
       "\n",
       "[2 rows x 25 columns]"
      ]
     },
     "execution_count": 19,
     "metadata": {},
     "output_type": "execute_result"
    }
   ],
   "source": [
    "df_normalizado.head(2)"
   ]
  },
  {
   "cell_type": "markdown",
   "metadata": {},
   "source": [
    "## Modelo "
   ]
  },
  {
   "cell_type": "code",
   "execution_count": 33,
   "metadata": {},
   "outputs": [],
   "source": [
    "from sklearn.linear_model import LogisticRegression\n",
    "from sklearn.model_selection import train_test_split"
   ]
  },
  {
   "cell_type": "code",
   "execution_count": 34,
   "metadata": {},
   "outputs": [
    {
     "name": "stdout",
     "output_type": "stream",
     "text": [
      "Datos X = 10234535 (352915, 29)\n",
      "Datos y = 352915 (352915,)\n"
     ]
    }
   ],
   "source": [
    "X = df.drop(['lp_seg_hogar'], axis = 1)\n",
    "y= df['lp_seg_hogar']\n",
    "print('Datos X =', X.size, X.shape)\n",
    "print('Datos y =', y.size, y.shape)"
   ]
  },
  {
   "cell_type": "markdown",
   "metadata": {},
   "source": [
    "##  Balanceo \n",
    "\n",
    "###  1ª Estrategia: Penalización para compensar Weigth balanced"
   ]
  },
  {
   "cell_type": "code",
   "execution_count": 35,
   "metadata": {},
   "outputs": [],
   "source": [
    "# puedo elegir solver liblinear sag y saga. los otros no funcionan\n",
    "modelo3 = LogisticRegression(solver = 'liblinear', class_weight='balanced')"
   ]
  },
  {
   "cell_type": "code",
   "execution_count": 36,
   "metadata": {},
   "outputs": [
    {
     "data": {
      "text/plain": [
       "LogisticRegression(class_weight='balanced', solver='liblinear')"
      ]
     },
     "execution_count": 36,
     "metadata": {},
     "output_type": "execute_result"
    }
   ],
   "source": [
    "modelo3.fit(X,y)"
   ]
  },
  {
   "cell_type": "code",
   "execution_count": 37,
   "metadata": {},
   "outputs": [
    {
     "data": {
      "text/plain": [
       "array([1, 1, 1, ..., 0, 0, 0])"
      ]
     },
     "execution_count": 37,
     "metadata": {},
     "output_type": "execute_result"
    }
   ],
   "source": [
    "modelo3.predict(X)"
   ]
  },
  {
   "cell_type": "code",
   "execution_count": 38,
   "metadata": {},
   "outputs": [],
   "source": [
    "test_size = 0.2\n",
    "seed = 7\n",
    "X_train, X_test, y_train, y_test = train_test_split(X, y, test_size = test_size, random_state = seed)"
   ]
  },
  {
   "cell_type": "code",
   "execution_count": 39,
   "metadata": {},
   "outputs": [
    {
     "data": {
      "text/plain": [
       "LogisticRegression(class_weight='balanced', solver='liblinear')"
      ]
     },
     "execution_count": 39,
     "metadata": {},
     "output_type": "execute_result"
    }
   ],
   "source": [
    "modelo3.fit(X_train,y_train)"
   ]
  },
  {
   "cell_type": "code",
   "execution_count": 40,
   "metadata": {},
   "outputs": [
    {
     "data": {
      "text/plain": [
       "array([0, 0, 1, ..., 0, 1, 0])"
      ]
     },
     "execution_count": 40,
     "metadata": {},
     "output_type": "execute_result"
    }
   ],
   "source": [
    "modelo3.predict(X_test)"
   ]
  },
  {
   "cell_type": "code",
   "execution_count": 41,
   "metadata": {},
   "outputs": [
    {
     "data": {
      "text/plain": [
       "array([0.35071751, 0.3499094 , 0.75485364, ..., 0.04253523, 0.61239854,\n",
       "       0.0710737 ])"
      ]
     },
     "execution_count": 41,
     "metadata": {},
     "output_type": "execute_result"
    }
   ],
   "source": [
    "modelo3.predict_proba(X_test)[:, 1]"
   ]
  },
  {
   "cell_type": "code",
   "execution_count": 42,
   "metadata": {},
   "outputs": [
    {
     "name": "stdout",
     "output_type": "stream",
     "text": [
      "[[41491 22055]\n",
      " [  673  6364]]\n"
     ]
    },
    {
     "data": {
      "image/png": "[encoded data removed]",
      "text/plain": [
       "<Figure size 288x288 with 2 Axes>"
      ]
     },
     "metadata": {
      "needs_background": "light"
     },
     "output_type": "display_data"
    }
   ],
   "source": [
    "matriz_confusion_modelo3 = confusion_matrix(y_test,modelo3.predict(X_test))\n",
    "print(matriz_confusion_modelo3)\n",
    "pl.matshow(confusion_matrix(y_test,modelo3.predict(X_test)))\n",
    "pl.title('Matriz de Confusion')\n",
    "pl.colorbar()\n",
    "pl.show()"
   ]
  },
  {
   "cell_type": "code",
   "execution_count": 32,
   "metadata": {},
   "outputs": [
    {
     "name": "stdout",
     "output_type": "stream",
     "text": [
      "====================================\n",
      "accuracy_score =  0.671304347826087\n",
      "====================================\n",
      "precision = 0.27182509311699576\n",
      "====================================\n",
      "recall = 0.9041154009333899\n",
      "====================================\n",
      "f1_score = 0.4179824647431497\n",
      "====================================\n",
      "roc_auc_score = 0.8346100422305985\n",
      "====================================\n",
      "classification_report\n",
      "              precision    recall  f1-score   support\n",
      "\n",
      "           0       0.98      0.64      0.77     78490\n",
      "           1       0.27      0.90      0.42     11785\n",
      "\n",
      "    accuracy                           0.67     90275\n",
      "   macro avg       0.62      0.77      0.59     90275\n",
      "weighted avg       0.89      0.67      0.72     90275\n",
      "\n"
     ]
    }
   ],
   "source": [
    "print('====================================')\n",
    "print ('accuracy_score = ', accuracy_score(y_test,modelo3.predict(X_test)))\n",
    "print('====================================')\n",
    "print('precision =', precision_score(y_test,modelo3.predict(X_test)))\n",
    "print('====================================')\n",
    "print('recall =', recall_score(y_test,modelo3.predict(X_test)))\n",
    "print('====================================')\n",
    "print('f1_score =', f1_score(y_test,modelo3.predict(X_test)))\n",
    "print('====================================')\n",
    "print('roc_auc_score =', roc_auc_score(y_test,modelo3.predict_proba(X_test)[:, 1]))\n",
    "print('====================================')\n",
    "print('classification_report')\n",
    "print(classification_report(y_test, modelo3.predict(X_test)))"
   ]
  },
  {
   "cell_type": "code",
   "execution_count": 43,
   "metadata": {},
   "outputs": [
    {
     "name": "stdout",
     "output_type": "stream",
     "text": [
      "====================================\n",
      "accuracy_score =  0.6779961180454217\n",
      "====================================\n",
      "precision = 0.22393469157957704\n",
      "====================================\n",
      "recall = 0.9043626545402871\n",
      "====================================\n",
      "f1_score = 0.3589801444043321\n",
      "====================================\n",
      "roc_auc_score = 0.8506431876926291\n",
      "====================================\n",
      "classification_report\n",
      "              precision    recall  f1-score   support\n",
      "\n",
      "           0       0.98      0.65      0.78     63546\n",
      "           1       0.22      0.90      0.36      7037\n",
      "\n",
      "    accuracy                           0.68     70583\n",
      "   macro avg       0.60      0.78      0.57     70583\n",
      "weighted avg       0.91      0.68      0.74     70583\n",
      "\n"
     ]
    }
   ],
   "source": [
    "print('====================================')\n",
    "print ('accuracy_score = ', accuracy_score(y_test,modelo3.predict(X_test)))\n",
    "print('====================================')\n",
    "print('precision =', precision_score(y_test,modelo3.predict(X_test)))\n",
    "print('====================================')\n",
    "print('recall =', recall_score(y_test,modelo3.predict(X_test)))\n",
    "print('====================================')\n",
    "print('f1_score =', f1_score(y_test,modelo3.predict(X_test)))\n",
    "print('====================================')\n",
    "print('roc_auc_score =', roc_auc_score(y_test,modelo3.predict_proba(X_test)[:, 1]))\n",
    "print('====================================')\n",
    "print('classification_report')\n",
    "print(classification_report(y_test, modelo3.predict(X_test)))"
   ]
  },
  {
   "cell_type": "markdown",
   "metadata": {},
   "source": [
    "### 2ª Estrategia: Subsampling en la clase mayoritaria \n",
    "    - Con NearMiss\n",
    "    - Con Smote\n",
    "https://www.geeksforgeeks.org/ml-handling-imbalanced-data-with-smote-and-near-miss-algorithm-in-python/"
   ]
  },
  {
   "cell_type": "code",
   "execution_count": 34,
   "metadata": {},
   "outputs": [],
   "source": [
    "modelo3 = LogisticRegression(solver = 'liblinear')"
   ]
  },
  {
   "cell_type": "code",
   "execution_count": 35,
   "metadata": {},
   "outputs": [
    {
     "data": {
      "text/plain": [
       "LogisticRegression(solver='liblinear')"
      ]
     },
     "execution_count": 35,
     "metadata": {},
     "output_type": "execute_result"
    }
   ],
   "source": [
    "modelo3.fit(X,y)"
   ]
  },
  {
   "cell_type": "code",
   "execution_count": 36,
   "metadata": {},
   "outputs": [
    {
     "data": {
      "text/plain": [
       "array([1, 1, 1, ..., 0, 0, 0])"
      ]
     },
     "execution_count": 36,
     "metadata": {},
     "output_type": "execute_result"
    }
   ],
   "source": [
    "modelo3.predict(X)"
   ]
  },
  {
   "cell_type": "code",
   "execution_count": 37,
   "metadata": {},
   "outputs": [],
   "source": [
    "# con NearMiss \"\"\"no mejoramos\"\"\"\n",
    "from imblearn.under_sampling import NearMiss\n",
    "nr = NearMiss() "
   ]
  },
  {
   "cell_type": "code",
   "execution_count": 38,
   "metadata": {},
   "outputs": [],
   "source": [
    "X_train_miss, y_train_miss = nr.fit_sample(X_train, y_train)  "
   ]
  },
  {
   "cell_type": "code",
   "execution_count": 39,
   "metadata": {},
   "outputs": [
    {
     "name": "stdout",
     "output_type": "stream",
     "text": [
      "Distribution before resampling Counter({0: 314073, 1: 47026})\n",
      "Distribution after resampling Counter({0: 47026, 1: 47026})\n"
     ]
    }
   ],
   "source": [
    "print (\"Distribution before resampling {}\".format(Counter(y_train)))\n",
    "print (\"Distribution after resampling {}\".format(Counter(y_train_miss)))\n",
    " "
   ]
  },
  {
   "cell_type": "code",
   "execution_count": 40,
   "metadata": {},
   "outputs": [
    {
     "data": {
      "text/plain": [
       "LogisticRegression(solver='liblinear')"
      ]
     },
     "execution_count": 40,
     "metadata": {},
     "output_type": "execute_result"
    }
   ],
   "source": [
    "modelo3.fit(X_train_miss, y_train_miss) "
   ]
  },
  {
   "cell_type": "code",
   "execution_count": 41,
   "metadata": {},
   "outputs": [
    {
     "data": {
      "text/plain": [
       "array([0, 1, 1, ..., 1, 1, 0])"
      ]
     },
     "execution_count": 41,
     "metadata": {},
     "output_type": "execute_result"
    }
   ],
   "source": [
    "modelo3.predict(X_test)"
   ]
  },
  {
   "cell_type": "code",
   "execution_count": 42,
   "metadata": {},
   "outputs": [
    {
     "data": {
      "text/plain": [
       "array([0.49180337, 0.93368202, 0.99986808, ..., 0.94781582, 0.99965249,\n",
       "       0.22899702])"
      ]
     },
     "execution_count": 42,
     "metadata": {},
     "output_type": "execute_result"
    }
   ],
   "source": [
    "modelo3.predict_proba(X_test)[:, 1]"
   ]
  },
  {
   "cell_type": "code",
   "execution_count": 43,
   "metadata": {},
   "outputs": [
    {
     "name": "stdout",
     "output_type": "stream",
     "text": [
      "RESULTADOS MODELO_03\n",
      "====================================\n",
      "accuracy_score =  0.5664691221268346\n",
      "====================================\n",
      "precision = 0.19591319429003423\n",
      "====================================\n",
      "recall = 0.747645311837081\n",
      "====================================\n",
      "f1_score = 0.3104705861625469\n",
      "====================================\n",
      "roc_auc_score = 0.6899415316452733\n",
      "====================================\n",
      "classification_report\n",
      "              precision    recall  f1-score   support\n",
      "\n",
      "           0       0.93      0.54      0.68     78490\n",
      "           1       0.20      0.75      0.31     11785\n",
      "\n",
      "    accuracy                           0.57     90275\n",
      "   macro avg       0.57      0.64      0.50     90275\n",
      "weighted avg       0.84      0.57      0.64     90275\n",
      "\n"
     ]
    }
   ],
   "source": [
    "# RESULTADOS MODELO_03\n",
    "print('RESULTADOS MODELO_03')\n",
    "print('====================================')\n",
    "print ('accuracy_score = ', accuracy_score(y_test,modelo3.predict(X_test)))\n",
    "print('====================================')\n",
    "print('precision =', precision_score(y_test,modelo3.predict(X_test)))\n",
    "print('====================================')\n",
    "print('recall =', recall_score(y_test,modelo3.predict(X_test)))\n",
    "print('====================================')\n",
    "print('f1_score =', f1_score(y_test,modelo3.predict(X_test)))\n",
    "print('====================================')\n",
    "print('roc_auc_score =', roc_auc_score(y_test,modelo3.predict_proba(X_test)[:, 1]))\n",
    "print('====================================')\n",
    "print('classification_report')\n",
    "print(classification_report(y_test, modelo3.predict(X_test)))\n"
   ]
  },
  {
   "cell_type": "code",
   "execution_count": 44,
   "metadata": {},
   "outputs": [],
   "source": [
    "# con Smote \"\"\" no mejoramos\"\"\"\n",
    "from imblearn.over_sampling import SMOTE \n",
    "sm = SMOTE(random_state = 2) "
   ]
  },
  {
   "cell_type": "code",
   "execution_count": 45,
   "metadata": {},
   "outputs": [],
   "source": [
    "modelo3 = LogisticRegression(solver = 'liblinear')"
   ]
  },
  {
   "cell_type": "code",
   "execution_count": 46,
   "metadata": {},
   "outputs": [
    {
     "data": {
      "text/plain": [
       "LogisticRegression(solver='liblinear')"
      ]
     },
     "execution_count": 46,
     "metadata": {},
     "output_type": "execute_result"
    }
   ],
   "source": [
    "modelo3.fit(X,y)"
   ]
  },
  {
   "cell_type": "code",
   "execution_count": 47,
   "metadata": {},
   "outputs": [
    {
     "data": {
      "text/plain": [
       "array([1, 1, 1, ..., 0, 0, 0])"
      ]
     },
     "execution_count": 47,
     "metadata": {},
     "output_type": "execute_result"
    }
   ],
   "source": [
    "modelo3.predict(X)"
   ]
  },
  {
   "cell_type": "code",
   "execution_count": 48,
   "metadata": {},
   "outputs": [],
   "source": [
    "X_train_smote, y_train_smote = sm.fit_sample(X_train, y_train) "
   ]
  },
  {
   "cell_type": "code",
   "execution_count": 49,
   "metadata": {},
   "outputs": [
    {
     "name": "stdout",
     "output_type": "stream",
     "text": [
      "Distribution before resampling Counter({0: 314073, 1: 47026})\n",
      "Distribution labels after resampling Counter({0: 314073, 1: 314073})\n"
     ]
    }
   ],
   "source": [
    "print (\"Distribution before resampling {}\".format(Counter(y_train)))\n",
    "print (\"Distribution labels after resampling {}\".format(Counter(y_train_smote)))"
   ]
  },
  {
   "cell_type": "code",
   "execution_count": 50,
   "metadata": {},
   "outputs": [
    {
     "data": {
      "text/plain": [
       "LogisticRegression(solver='liblinear')"
      ]
     },
     "execution_count": 50,
     "metadata": {},
     "output_type": "execute_result"
    }
   ],
   "source": [
    "modelo3.fit(X_train_smote, y_train_smote) "
   ]
  },
  {
   "cell_type": "code",
   "execution_count": 51,
   "metadata": {},
   "outputs": [
    {
     "data": {
      "text/plain": [
       "array([0, 0, 1, ..., 0, 1, 1])"
      ]
     },
     "execution_count": 51,
     "metadata": {},
     "output_type": "execute_result"
    }
   ],
   "source": [
    "modelo3.predict(X_test)"
   ]
  },
  {
   "cell_type": "code",
   "execution_count": 52,
   "metadata": {},
   "outputs": [
    {
     "data": {
      "text/plain": [
       "array([0.27203387, 0.49476057, 0.58989066, ..., 0.41516117, 0.71179559,\n",
       "       0.67374903])"
      ]
     },
     "execution_count": 52,
     "metadata": {},
     "output_type": "execute_result"
    }
   ],
   "source": [
    "modelo3.predict_proba(X_test)[:, 1]"
   ]
  },
  {
   "cell_type": "code",
   "execution_count": 53,
   "metadata": {},
   "outputs": [
    {
     "name": "stdout",
     "output_type": "stream",
     "text": [
      "RESULTADOS MODELO_03\n",
      "====================================\n",
      "accuracy_score =  0.6458377180836333\n",
      "====================================\n",
      "precision = 0.21900837949945715\n",
      "====================================\n",
      "recall = 0.66754348748409\n",
      "====================================\n",
      "f1_score = 0.3298117637194483\n",
      "====================================\n",
      "roc_auc_score = 0.7109236283298683\n",
      "====================================\n",
      "classification_report\n",
      "              precision    recall  f1-score   support\n",
      "\n",
      "           0       0.93      0.64      0.76     78490\n",
      "           1       0.22      0.67      0.33     11785\n",
      "\n",
      "    accuracy                           0.65     90275\n",
      "   macro avg       0.57      0.66      0.54     90275\n",
      "weighted avg       0.84      0.65      0.70     90275\n",
      "\n"
     ]
    }
   ],
   "source": [
    "# RESULTADOS MODELO_03\n",
    "print('RESULTADOS MODELO_03')\n",
    "print('====================================')\n",
    "print ('accuracy_score = ', accuracy_score(y_test,modelo3.predict(X_test)))\n",
    "print('====================================')\n",
    "print('precision =', precision_score(y_test,modelo3.predict(X_test)))\n",
    "print('====================================')\n",
    "print('recall =', recall_score(y_test,modelo3.predict(X_test)))\n",
    "print('====================================')\n",
    "print('f1_score =', f1_score(y_test,modelo3.predict(X_test)))\n",
    "print('====================================')\n",
    "print('roc_auc_score =', roc_auc_score(y_test,modelo3.predict_proba(X_test)[:, 1]))\n",
    "print('====================================')\n",
    "print('classification_report')\n",
    "print(classification_report(y_test, modelo3.predict(X_test)))\n"
   ]
  },
  {
   "cell_type": "code",
   "execution_count": null,
   "metadata": {},
   "outputs": [],
   "source": []
  },
  {
   "cell_type": "code",
   "execution_count": null,
   "metadata": {},
   "outputs": [],
   "source": []
  },
  {
   "cell_type": "code",
   "execution_count": null,
   "metadata": {},
   "outputs": [],
   "source": []
  }
 ],
 "metadata": {
  "kernelspec": {
   "display_name": "Python 3",
   "language": "python",
   "name": "python3"
  },
  "language_info": {
   "codemirror_mode": {
    "name": "ipython",
    "version": 3
   },
   "file_extension": ".py",
   "mimetype": "text/x-python",
   "name": "python",
   "nbconvert_exporter": "python",
   "pygments_lexer": "ipython3",
   "version": "3.7.7"
  }
 },
 "nbformat": 4,
 "nbformat_minor": 2
}
