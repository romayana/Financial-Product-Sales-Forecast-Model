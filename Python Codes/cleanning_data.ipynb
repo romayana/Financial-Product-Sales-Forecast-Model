{
 "cells": [
  {
   "cell_type": "markdown",
   "metadata": {},
   "source": [
    "# Cleaning & Preparing Data"
   ]
  },
  {
   "cell_type": "markdown",
   "metadata": {},
   "source": [
    "#### - Load Library"
   ]
  },
  {
   "cell_type": "code",
   "execution_count": 1,
   "metadata": {},
   "outputs": [],
   "source": [
    "import pandas as pd"
   ]
  },
  {
   "cell_type": "markdown",
   "metadata": {},
   "source": [
    "#### - Current Route"
   ]
  },
  {
   "cell_type": "code",
   "execution_count": 2,
   "metadata": {
    "scrolled": true
   },
   "outputs": [
    {
     "data": {
      "text/plain": [
       "'/home/dsc/Master-Kschool/TFM/cleanned_data'"
      ]
     },
     "execution_count": 2,
     "metadata": {},
     "output_type": "execute_result"
    }
   ],
   "source": [
    "pwd"
   ]
  },
  {
   "cell_type": "markdown",
   "metadata": {},
   "source": [
    "#### - Read  Data Frame "
   ]
  },
  {
   "cell_type": "code",
   "execution_count": 4,
   "metadata": {},
   "outputs": [],
   "source": [
    "df = pd.read_csv('/home/dsc/Master-Kschool/TFM/merged_data/df_tfm.csv')"
   ]
  },
  {
   "cell_type": "markdown",
   "metadata": {},
   "source": [
    "#### - Head for first looking"
   ]
  },
  {
   "cell_type": "code",
   "execution_count": 5,
   "metadata": {},
   "outputs": [
    {
     "data": {
      "text/html": [
       "<div>\n",
       "<style scoped>\n",
       "    .dataframe tbody tr th:only-of-type {\n",
       "        vertical-align: middle;\n",
       "    }\n",
       "\n",
       "    .dataframe tbody tr th {\n",
       "        vertical-align: top;\n",
       "    }\n",
       "\n",
       "    .dataframe thead th {\n",
       "        text-align: right;\n",
       "    }\n",
       "</style>\n",
       "<table border=\"1\" class=\"dataframe\">\n",
       "  <thead>\n",
       "    <tr style=\"text-align: right;\">\n",
       "      <th></th>\n",
       "      <th>Unnamed: 0</th>\n",
       "      <th>PERSONA</th>\n",
       "      <th>SF_AH_CAPTACION_TT</th>\n",
       "      <th>ESTA_CARTERIZADO</th>\n",
       "      <th>CLIENTE_BBP</th>\n",
       "      <th>TIP_GESTOR</th>\n",
       "      <th>GESTOR</th>\n",
       "      <th>CARTERA_PATRON</th>\n",
       "      <th>CODIGO_CARTERA</th>\n",
       "      <th>DIGITAL_3_MESES</th>\n",
       "      <th>...</th>\n",
       "      <th>EDAD</th>\n",
       "      <th>SEGMENTO_VALOR</th>\n",
       "      <th>SEGMENTO_RECORRIDO</th>\n",
       "      <th>DZ</th>\n",
       "      <th>OFICINA</th>\n",
       "      <th>LP_SEG_VIDA</th>\n",
       "      <th>LP_SEG_ACCIDENT</th>\n",
       "      <th>LP_SEG_MEDICOS</th>\n",
       "      <th>LP_SEG_MULTIRRIES</th>\n",
       "      <th>LP_SEG_AUTO</th>\n",
       "    </tr>\n",
       "  </thead>\n",
       "  <tbody>\n",
       "    <tr>\n",
       "      <th>0</th>\n",
       "      <td>0</td>\n",
       "      <td>54073</td>\n",
       "      <td>606781.74</td>\n",
       "      <td>SI</td>\n",
       "      <td>NO</td>\n",
       "      <td>ASESOR FINANCIERO</td>\n",
       "      <td>34000.0</td>\n",
       "      <td>ASESORAMIENTO FINANCIERO</td>\n",
       "      <td>34624.0</td>\n",
       "      <td>SI</td>\n",
       "      <td>...</td>\n",
       "      <td>76.0</td>\n",
       "      <td>ALTO</td>\n",
       "      <td>BAJO RECORRIDO</td>\n",
       "      <td>1</td>\n",
       "      <td>110</td>\n",
       "      <td>0</td>\n",
       "      <td>0</td>\n",
       "      <td>0</td>\n",
       "      <td>0</td>\n",
       "      <td>0</td>\n",
       "    </tr>\n",
       "    <tr>\n",
       "      <th>1</th>\n",
       "      <td>1</td>\n",
       "      <td>54074</td>\n",
       "      <td>642217.25</td>\n",
       "      <td>SI</td>\n",
       "      <td>NO</td>\n",
       "      <td>ASESOR FINANCIERO</td>\n",
       "      <td>11425.0</td>\n",
       "      <td>ASESORAMIENTO FINANCIERO</td>\n",
       "      <td>37074.0</td>\n",
       "      <td>NO</td>\n",
       "      <td>...</td>\n",
       "      <td>72.0</td>\n",
       "      <td>ALTO</td>\n",
       "      <td>BAJO RECORRIDO</td>\n",
       "      <td>1</td>\n",
       "      <td>110</td>\n",
       "      <td>0</td>\n",
       "      <td>0</td>\n",
       "      <td>0</td>\n",
       "      <td>0</td>\n",
       "      <td>0</td>\n",
       "    </tr>\n",
       "    <tr>\n",
       "      <th>2</th>\n",
       "      <td>2</td>\n",
       "      <td>54075</td>\n",
       "      <td>377560.33</td>\n",
       "      <td>SI</td>\n",
       "      <td>NO</td>\n",
       "      <td>ASESOR FINANCIERO</td>\n",
       "      <td>34000.0</td>\n",
       "      <td>ASESORAMIENTO FINANCIERO</td>\n",
       "      <td>34624.0</td>\n",
       "      <td>NaN</td>\n",
       "      <td>...</td>\n",
       "      <td>75.0</td>\n",
       "      <td>ALTO</td>\n",
       "      <td>BAJO RECORRIDO</td>\n",
       "      <td>1</td>\n",
       "      <td>110</td>\n",
       "      <td>0</td>\n",
       "      <td>0</td>\n",
       "      <td>0</td>\n",
       "      <td>1</td>\n",
       "      <td>0</td>\n",
       "    </tr>\n",
       "    <tr>\n",
       "      <th>3</th>\n",
       "      <td>3</td>\n",
       "      <td>54076</td>\n",
       "      <td>319380.38</td>\n",
       "      <td>SI</td>\n",
       "      <td>NO</td>\n",
       "      <td>ASESOR FINANCIERO</td>\n",
       "      <td>23108.0</td>\n",
       "      <td>ASESORAMIENTO FINANCIERO</td>\n",
       "      <td>13835.0</td>\n",
       "      <td>SI</td>\n",
       "      <td>...</td>\n",
       "      <td>69.0</td>\n",
       "      <td>ALTO</td>\n",
       "      <td>BAJO RECORRIDO</td>\n",
       "      <td>1</td>\n",
       "      <td>110</td>\n",
       "      <td>0</td>\n",
       "      <td>0</td>\n",
       "      <td>0</td>\n",
       "      <td>0</td>\n",
       "      <td>0</td>\n",
       "    </tr>\n",
       "    <tr>\n",
       "      <th>4</th>\n",
       "      <td>4</td>\n",
       "      <td>54077</td>\n",
       "      <td>293443.44</td>\n",
       "      <td>SI</td>\n",
       "      <td>NO</td>\n",
       "      <td>ASESOR FINANCIERO</td>\n",
       "      <td>23108.0</td>\n",
       "      <td>ASESORAMIENTO FINANCIERO</td>\n",
       "      <td>13835.0</td>\n",
       "      <td>SI</td>\n",
       "      <td>...</td>\n",
       "      <td>72.0</td>\n",
       "      <td>ALTO</td>\n",
       "      <td>BAJO RECORRIDO</td>\n",
       "      <td>1</td>\n",
       "      <td>110</td>\n",
       "      <td>0</td>\n",
       "      <td>0</td>\n",
       "      <td>0</td>\n",
       "      <td>0</td>\n",
       "      <td>1</td>\n",
       "    </tr>\n",
       "  </tbody>\n",
       "</table>\n",
       "<p>5 rows × 31 columns</p>\n",
       "</div>"
      ],
      "text/plain": [
       "   Unnamed: 0  PERSONA  SF_AH_CAPTACION_TT ESTA_CARTERIZADO CLIENTE_BBP  \\\n",
       "0           0    54073           606781.74               SI          NO   \n",
       "1           1    54074           642217.25               SI          NO   \n",
       "2           2    54075           377560.33               SI          NO   \n",
       "3           3    54076           319380.38               SI          NO   \n",
       "4           4    54077           293443.44               SI          NO   \n",
       "\n",
       "          TIP_GESTOR   GESTOR            CARTERA_PATRON  CODIGO_CARTERA  \\\n",
       "0  ASESOR FINANCIERO  34000.0  ASESORAMIENTO FINANCIERO         34624.0   \n",
       "1  ASESOR FINANCIERO  11425.0  ASESORAMIENTO FINANCIERO         37074.0   \n",
       "2  ASESOR FINANCIERO  34000.0  ASESORAMIENTO FINANCIERO         34624.0   \n",
       "3  ASESOR FINANCIERO  23108.0  ASESORAMIENTO FINANCIERO         13835.0   \n",
       "4  ASESOR FINANCIERO  23108.0  ASESORAMIENTO FINANCIERO         13835.0   \n",
       "\n",
       "  DIGITAL_3_MESES     ...      EDAD  SEGMENTO_VALOR  SEGMENTO_RECORRIDO  DZ  \\\n",
       "0              SI     ...      76.0            ALTO      BAJO RECORRIDO   1   \n",
       "1              NO     ...      72.0            ALTO      BAJO RECORRIDO   1   \n",
       "2             NaN     ...      75.0            ALTO      BAJO RECORRIDO   1   \n",
       "3              SI     ...      69.0            ALTO      BAJO RECORRIDO   1   \n",
       "4              SI     ...      72.0            ALTO      BAJO RECORRIDO   1   \n",
       "\n",
       "   OFICINA  LP_SEG_VIDA  LP_SEG_ACCIDENT  LP_SEG_MEDICOS  LP_SEG_MULTIRRIES  \\\n",
       "0      110            0                0               0                  0   \n",
       "1      110            0                0               0                  0   \n",
       "2      110            0                0               0                  1   \n",
       "3      110            0                0               0                  0   \n",
       "4      110            0                0               0                  0   \n",
       "\n",
       "  LP_SEG_AUTO  \n",
       "0           0  \n",
       "1           0  \n",
       "2           0  \n",
       "3           0  \n",
       "4           1  \n",
       "\n",
       "[5 rows x 31 columns]"
      ]
     },
     "execution_count": 5,
     "metadata": {},
     "output_type": "execute_result"
    }
   ],
   "source": [
    "df.head()"
   ]
  },
  {
   "cell_type": "markdown",
   "metadata": {},
   "source": [
    "#### -  Shape to see rows & columns"
   ]
  },
  {
   "cell_type": "code",
   "execution_count": 6,
   "metadata": {
    "scrolled": false
   },
   "outputs": [
    {
     "data": {
      "text/plain": [
       "(451374, 31)"
      ]
     },
     "execution_count": 6,
     "metadata": {},
     "output_type": "execute_result"
    }
   ],
   "source": [
    "df.shape"
   ]
  },
  {
   "cell_type": "markdown",
   "metadata": {},
   "source": [
    "# Handling missing data"
   ]
  },
  {
   "cell_type": "markdown",
   "metadata": {},
   "source": [
    "#### - First check for nans"
   ]
  },
  {
   "cell_type": "code",
   "execution_count": 7,
   "metadata": {
    "scrolled": false
   },
   "outputs": [
    {
     "data": {
      "text/plain": [
       "Unnamed: 0              False\n",
       "PERSONA                 False\n",
       "SF_AH_CAPTACION_TT       True\n",
       "ESTA_CARTERIZADO        False\n",
       "CLIENTE_BBP             False\n",
       "TIP_GESTOR               True\n",
       "GESTOR                   True\n",
       "CARTERA_PATRON           True\n",
       "CODIGO_CARTERA           True\n",
       "DIGITAL_3_MESES          True\n",
       "CAMINO_DIGITAL           True\n",
       "SF_FINANCIACION_TT       True\n",
       "SF_FONDOS_INVER         False\n",
       "SF_PLAN_PENSION         False\n",
       "LP_DOMIC_INGRESOS       False\n",
       "LP_TARJ_CREDITO         False\n",
       "LP_TARJ_REVOLVING       False\n",
       "LP_REC_LTGA_OTR         False\n",
       "LP_OFIC_INTERNET        False\n",
       "MARCA_BANCA_PERSONAL    False\n",
       "MARCA_AF_CCTE            True\n",
       "EDAD                     True\n",
       "SEGMENTO_VALOR          False\n",
       "SEGMENTO_RECORRIDO      False\n",
       "DZ                      False\n",
       "OFICINA                 False\n",
       "LP_SEG_VIDA             False\n",
       "LP_SEG_ACCIDENT         False\n",
       "LP_SEG_MEDICOS          False\n",
       "LP_SEG_MULTIRRIES       False\n",
       "LP_SEG_AUTO             False\n",
       "dtype: bool"
      ]
     },
     "execution_count": 7,
     "metadata": {},
     "output_type": "execute_result"
    }
   ],
   "source": [
    "df.isna().any()"
   ]
  },
  {
   "cell_type": "code",
   "execution_count": 17,
   "metadata": {},
   "outputs": [],
   "source": [
    "df.drop(df.columns[[0]],axis='columns', inplace = True)"
   ]
  },
  {
   "cell_type": "markdown",
   "metadata": {},
   "source": [
    "#### - Values of the columns with nans\n",
    "     Int or Float columns not listed.  "
   ]
  },
  {
   "cell_type": "code",
   "execution_count": 8,
   "metadata": {},
   "outputs": [
    {
     "name": "stdout",
     "output_type": "stream",
     "text": [
      "['ASESOR FINANCIERO' nan 'SUBDIRECCIÓN DE OFICINA']\n",
      "['ASESORAMIENTO FINANCIERO' nan 'TUTELA']\n",
      "['SI' 'NO' nan]\n",
      "['AF' 'CCTE' nan]\n",
      "['TRANSACCIONAL' 'POCO USO' nan 'COMPRADOR' 'CONSULTIVO']\n"
     ]
    }
   ],
   "source": [
    "#print(df['SF_AH_CAPTACION_TT'].unique())\n",
    "print(df['TIP_GESTOR'].unique())\n",
    "#print(df['GESTOR'].unique())\n",
    "print(df['CARTERA_PATRON'].unique())\n",
    "#print(df['CODIGO_CARTERA'].unique())\n",
    "print(df['DIGITAL_3_MESES'].unique())\n",
    "#print(df['SF_FINANCIACION_TT'].unique())\n",
    "print(df['MARCA_AF_CCTE'].unique())\n",
    "#print(df['EDAD'].unique())\n",
    "print(df['CAMINO_DIGITAL'].unique())"
   ]
  },
  {
   "cell_type": "markdown",
   "metadata": {},
   "source": [
    "#### - Fill the columns that have nans with data and values according to their nature\n",
    "    \n",
    "    "
   ]
  },
  {
   "cell_type": "code",
   "execution_count": 9,
   "metadata": {},
   "outputs": [],
   "source": [
    "df.fillna({'SF_AH_CAPTACION_TT': 0, 'TIP_GESTOR' : 'SIN GESTOR', 'GESTOR': 00000, 'CARTERA_PATRON': 'SIN CARTERA',\n",
    "          'CODIGO_CARTERA': 00000, 'DIGITAL_3_MESES':'NO','CAMINO_DIGITAL':'SIN USO','SF_FINANCIACION_TT': 0,\n",
    "           'MARCA_AF_CCTE':'SIN MARCA','EDAD':0},\n",
    "         inplace = True)"
   ]
  },
  {
   "cell_type": "markdown",
   "metadata": {},
   "source": [
    "#### - Check again for nans"
   ]
  },
  {
   "cell_type": "code",
   "execution_count": 10,
   "metadata": {},
   "outputs": [
    {
     "data": {
      "text/plain": [
       "Unnamed: 0              False\n",
       "PERSONA                 False\n",
       "SF_AH_CAPTACION_TT      False\n",
       "ESTA_CARTERIZADO        False\n",
       "CLIENTE_BBP             False\n",
       "TIP_GESTOR              False\n",
       "GESTOR                  False\n",
       "CARTERA_PATRON          False\n",
       "CODIGO_CARTERA          False\n",
       "DIGITAL_3_MESES         False\n",
       "CAMINO_DIGITAL          False\n",
       "SF_FINANCIACION_TT      False\n",
       "SF_FONDOS_INVER         False\n",
       "SF_PLAN_PENSION         False\n",
       "LP_DOMIC_INGRESOS       False\n",
       "LP_TARJ_CREDITO         False\n",
       "LP_TARJ_REVOLVING       False\n",
       "LP_REC_LTGA_OTR         False\n",
       "LP_OFIC_INTERNET        False\n",
       "MARCA_BANCA_PERSONAL    False\n",
       "MARCA_AF_CCTE           False\n",
       "EDAD                    False\n",
       "SEGMENTO_VALOR          False\n",
       "SEGMENTO_RECORRIDO      False\n",
       "DZ                      False\n",
       "OFICINA                 False\n",
       "LP_SEG_VIDA             False\n",
       "LP_SEG_ACCIDENT         False\n",
       "LP_SEG_MEDICOS          False\n",
       "LP_SEG_MULTIRRIES       False\n",
       "LP_SEG_AUTO             False\n",
       "dtype: bool"
      ]
     },
     "execution_count": 10,
     "metadata": {},
     "output_type": "execute_result"
    }
   ],
   "source": [
    "df.isna().any()"
   ]
  },
  {
   "cell_type": "code",
   "execution_count": 11,
   "metadata": {},
   "outputs": [
    {
     "name": "stdout",
     "output_type": "stream",
     "text": [
      "['ASESOR FINANCIERO' 'SIN GESTOR' 'SUBDIRECCIÓN DE OFICINA']\n",
      "['ASESORAMIENTO FINANCIERO' 'SIN CARTERA' 'TUTELA']\n",
      "['SI' 'NO']\n",
      "['AF' 'CCTE' 'SIN MARCA']\n",
      "['TRANSACCIONAL' 'POCO USO' 'SIN USO' 'COMPRADOR' 'CONSULTIVO']\n"
     ]
    }
   ],
   "source": [
    "#print(df['SF_AH_CAPTACION_TT'].unique())\n",
    "print(df['TIP_GESTOR'].unique())\n",
    "#print(df['GESTOR'].unique())\n",
    "print(df['CARTERA_PATRON'].unique())\n",
    "#print(df['CODIGO_CARTERA'].unique())\n",
    "print(df['DIGITAL_3_MESES'].unique())\n",
    "#print(df['SF_FINANCIACION_TT'].unique())\n",
    "print(df['MARCA_AF_CCTE'].unique())\n",
    "#print(df['EDAD'].unique())\n",
    "print(df['CAMINO_DIGITAL'].unique())"
   ]
  },
  {
   "cell_type": "markdown",
   "metadata": {},
   "source": [
    "# Data type check"
   ]
  },
  {
   "cell_type": "markdown",
   "metadata": {},
   "source": [
    "#### - See data type of each column"
   ]
  },
  {
   "cell_type": "code",
   "execution_count": 12,
   "metadata": {},
   "outputs": [
    {
     "data": {
      "text/plain": [
       "Unnamed: 0                int64\n",
       "PERSONA                   int64\n",
       "SF_AH_CAPTACION_TT      float64\n",
       "ESTA_CARTERIZADO         object\n",
       "CLIENTE_BBP              object\n",
       "TIP_GESTOR               object\n",
       "GESTOR                  float64\n",
       "CARTERA_PATRON           object\n",
       "CODIGO_CARTERA          float64\n",
       "DIGITAL_3_MESES          object\n",
       "CAMINO_DIGITAL           object\n",
       "SF_FINANCIACION_TT      float64\n",
       "SF_FONDOS_INVER         float64\n",
       "SF_PLAN_PENSION         float64\n",
       "LP_DOMIC_INGRESOS         int64\n",
       "LP_TARJ_CREDITO           int64\n",
       "LP_TARJ_REVOLVING         int64\n",
       "LP_REC_LTGA_OTR           int64\n",
       "LP_OFIC_INTERNET          int64\n",
       "MARCA_BANCA_PERSONAL     object\n",
       "MARCA_AF_CCTE            object\n",
       "EDAD                    float64\n",
       "SEGMENTO_VALOR           object\n",
       "SEGMENTO_RECORRIDO       object\n",
       "DZ                        int64\n",
       "OFICINA                   int64\n",
       "LP_SEG_VIDA               int64\n",
       "LP_SEG_ACCIDENT           int64\n",
       "LP_SEG_MEDICOS            int64\n",
       "LP_SEG_MULTIRRIES         int64\n",
       "LP_SEG_AUTO               int64\n",
       "dtype: object"
      ]
     },
     "execution_count": 12,
     "metadata": {},
     "output_type": "execute_result"
    }
   ],
   "source": [
    "df.dtypes"
   ]
  },
  {
   "cell_type": "markdown",
   "metadata": {},
   "source": [
    "#### - Convert columns to necessary data type"
   ]
  },
  {
   "cell_type": "code",
   "execution_count": 13,
   "metadata": {},
   "outputs": [],
   "source": [
    "df[['PERSONA','GESTOR', 'CODIGO_CARTERA','LP_DOMIC_INGRESOS','LP_TARJ_CREDITO',\n",
    "   'LP_TARJ_REVOLVING','LP_REC_LTGA_OTR','LP_OFIC_INTERNET','DZ','OFICINA',\n",
    "   'LP_SEG_VIDA','LP_SEG_ACCIDENT','LP_SEG_MEDICOS','LP_SEG_MULTIRRIES','LP_SEG_AUTO']] = df[['PERSONA',\n",
    "   'GESTOR', 'CODIGO_CARTERA','LP_DOMIC_INGRESOS','LP_TARJ_CREDITO',\n",
    "   'LP_TARJ_REVOLVING','LP_REC_LTGA_OTR','LP_OFIC_INTERNET','DZ','OFICINA',\n",
    "   'LP_SEG_VIDA','LP_SEG_ACCIDENT','LP_SEG_MEDICOS','LP_SEG_MULTIRRIES','LP_SEG_AUTO']].astype(object);"
   ]
  },
  {
   "cell_type": "code",
   "execution_count": 14,
   "metadata": {},
   "outputs": [],
   "source": [
    "df.EDAD = df.EDAD.astype(int);"
   ]
  },
  {
   "cell_type": "code",
   "execution_count": 15,
   "metadata": {},
   "outputs": [
    {
     "data": {
      "text/plain": [
       "Unnamed: 0                int64\n",
       "PERSONA                  object\n",
       "SF_AH_CAPTACION_TT      float64\n",
       "ESTA_CARTERIZADO         object\n",
       "CLIENTE_BBP              object\n",
       "TIP_GESTOR               object\n",
       "GESTOR                   object\n",
       "CARTERA_PATRON           object\n",
       "CODIGO_CARTERA           object\n",
       "DIGITAL_3_MESES          object\n",
       "CAMINO_DIGITAL           object\n",
       "SF_FINANCIACION_TT      float64\n",
       "SF_FONDOS_INVER         float64\n",
       "SF_PLAN_PENSION         float64\n",
       "LP_DOMIC_INGRESOS        object\n",
       "LP_TARJ_CREDITO          object\n",
       "LP_TARJ_REVOLVING        object\n",
       "LP_REC_LTGA_OTR          object\n",
       "LP_OFIC_INTERNET         object\n",
       "MARCA_BANCA_PERSONAL     object\n",
       "MARCA_AF_CCTE            object\n",
       "EDAD                      int64\n",
       "SEGMENTO_VALOR           object\n",
       "SEGMENTO_RECORRIDO       object\n",
       "DZ                       object\n",
       "OFICINA                  object\n",
       "LP_SEG_VIDA              object\n",
       "LP_SEG_ACCIDENT          object\n",
       "LP_SEG_MEDICOS           object\n",
       "LP_SEG_MULTIRRIES        object\n",
       "LP_SEG_AUTO              object\n",
       "dtype: object"
      ]
     },
     "execution_count": 15,
     "metadata": {},
     "output_type": "execute_result"
    }
   ],
   "source": [
    "df.dtypes"
   ]
  },
  {
   "cell_type": "code",
   "execution_count": 16,
   "metadata": {
    "scrolled": true
   },
   "outputs": [
    {
     "data": {
      "text/plain": [
       "Index(['Unnamed: 0', 'PERSONA', 'SF_AH_CAPTACION_TT', 'ESTA_CARTERIZADO',\n",
       "       'CLIENTE_BBP', 'TIP_GESTOR', 'GESTOR', 'CARTERA_PATRON',\n",
       "       'CODIGO_CARTERA', 'DIGITAL_3_MESES', 'CAMINO_DIGITAL',\n",
       "       'SF_FINANCIACION_TT', 'SF_FONDOS_INVER', 'SF_PLAN_PENSION',\n",
       "       'LP_DOMIC_INGRESOS', 'LP_TARJ_CREDITO', 'LP_TARJ_REVOLVING',\n",
       "       'LP_REC_LTGA_OTR', 'LP_OFIC_INTERNET', 'MARCA_BANCA_PERSONAL',\n",
       "       'MARCA_AF_CCTE', 'EDAD', 'SEGMENTO_VALOR', 'SEGMENTO_RECORRIDO', 'DZ',\n",
       "       'OFICINA', 'LP_SEG_VIDA', 'LP_SEG_ACCIDENT', 'LP_SEG_MEDICOS',\n",
       "       'LP_SEG_MULTIRRIES', 'LP_SEG_AUTO'],\n",
       "      dtype='object')"
      ]
     },
     "execution_count": 16,
     "metadata": {},
     "output_type": "execute_result"
    }
   ],
   "source": [
    "df.columns"
   ]
  },
  {
   "cell_type": "code",
   "execution_count": 20,
   "metadata": {},
   "outputs": [],
   "source": [
    "df.columns = ['cliente', 'saldo_captacion', 'esta_carterizado', 'cliente_bbp', 'tipo_gestor', 'gestor',\n",
    "             'cartera_patron','codigo_cartera','digital_3_meses','camino_digital','saldo_financiacion',\n",
    "             'saldo_ffii','saldo_plp','lp_ingresos','lp_tjta_cto','lp_tjt_rev','lp_rbos','lp_of_int',\n",
    "             'marca_bp','marca_ccte','edad','seg_valor','seg_recorrido','dz','oficina','lp_seg_vida',\n",
    "             'lp_seg_acc','lp_seg_medico','lp_seg_hogar','lp_seg_auto']"
   ]
  },
  {
   "cell_type": "code",
   "execution_count": 21,
   "metadata": {},
   "outputs": [
    {
     "data": {
      "text/plain": [
       "Index(['cliente', 'saldo_captacion', 'esta_carterizado', 'cliente_bbp',\n",
       "       'tipo_gestor', 'gestor', 'cartera_patron', 'codigo_cartera',\n",
       "       'digital_3_meses', 'camino_digital', 'saldo_financiacion', 'saldo_ffii',\n",
       "       'saldo_plp', 'lp_ingresos', 'lp_tjta_cto', 'lp_tjt_rev', 'lp_rbos',\n",
       "       'lp_of_int', 'marca_bp', 'marca_ccte', 'edad', 'seg_valor',\n",
       "       'seg_recorrido', 'dz', 'oficina', 'lp_seg_vida', 'lp_seg_acc',\n",
       "       'lp_seg_medico', 'lp_seg_hogar', 'lp_seg_auto'],\n",
       "      dtype='object')"
      ]
     },
     "execution_count": 21,
     "metadata": {},
     "output_type": "execute_result"
    }
   ],
   "source": [
    "df.columns"
   ]
  },
  {
   "cell_type": "code",
   "execution_count": 22,
   "metadata": {},
   "outputs": [
    {
     "data": {
      "text/html": [
       "<div>\n",
       "<style scoped>\n",
       "    .dataframe tbody tr th:only-of-type {\n",
       "        vertical-align: middle;\n",
       "    }\n",
       "\n",
       "    .dataframe tbody tr th {\n",
       "        vertical-align: top;\n",
       "    }\n",
       "\n",
       "    .dataframe thead th {\n",
       "        text-align: right;\n",
       "    }\n",
       "</style>\n",
       "<table border=\"1\" class=\"dataframe\">\n",
       "  <thead>\n",
       "    <tr style=\"text-align: right;\">\n",
       "      <th></th>\n",
       "      <th>cliente</th>\n",
       "      <th>saldo_captacion</th>\n",
       "      <th>esta_carterizado</th>\n",
       "      <th>cliente_bbp</th>\n",
       "      <th>tipo_gestor</th>\n",
       "      <th>gestor</th>\n",
       "      <th>cartera_patron</th>\n",
       "      <th>codigo_cartera</th>\n",
       "      <th>digital_3_meses</th>\n",
       "      <th>camino_digital</th>\n",
       "      <th>...</th>\n",
       "      <th>edad</th>\n",
       "      <th>seg_valor</th>\n",
       "      <th>seg_recorrido</th>\n",
       "      <th>dz</th>\n",
       "      <th>oficina</th>\n",
       "      <th>lp_seg_vida</th>\n",
       "      <th>lp_seg_acc</th>\n",
       "      <th>lp_seg_medico</th>\n",
       "      <th>lp_seg_hogar</th>\n",
       "      <th>lp_seg_auto</th>\n",
       "    </tr>\n",
       "  </thead>\n",
       "  <tbody>\n",
       "    <tr>\n",
       "      <th>0</th>\n",
       "      <td>54073</td>\n",
       "      <td>606781.74</td>\n",
       "      <td>SI</td>\n",
       "      <td>NO</td>\n",
       "      <td>ASESOR FINANCIERO</td>\n",
       "      <td>34000</td>\n",
       "      <td>ASESORAMIENTO FINANCIERO</td>\n",
       "      <td>34624</td>\n",
       "      <td>SI</td>\n",
       "      <td>TRANSACCIONAL</td>\n",
       "      <td>...</td>\n",
       "      <td>76</td>\n",
       "      <td>ALTO</td>\n",
       "      <td>BAJO RECORRIDO</td>\n",
       "      <td>1</td>\n",
       "      <td>110</td>\n",
       "      <td>0</td>\n",
       "      <td>0</td>\n",
       "      <td>0</td>\n",
       "      <td>0</td>\n",
       "      <td>0</td>\n",
       "    </tr>\n",
       "    <tr>\n",
       "      <th>1</th>\n",
       "      <td>54074</td>\n",
       "      <td>642217.25</td>\n",
       "      <td>SI</td>\n",
       "      <td>NO</td>\n",
       "      <td>ASESOR FINANCIERO</td>\n",
       "      <td>11425</td>\n",
       "      <td>ASESORAMIENTO FINANCIERO</td>\n",
       "      <td>37074</td>\n",
       "      <td>NO</td>\n",
       "      <td>POCO USO</td>\n",
       "      <td>...</td>\n",
       "      <td>72</td>\n",
       "      <td>ALTO</td>\n",
       "      <td>BAJO RECORRIDO</td>\n",
       "      <td>1</td>\n",
       "      <td>110</td>\n",
       "      <td>0</td>\n",
       "      <td>0</td>\n",
       "      <td>0</td>\n",
       "      <td>0</td>\n",
       "      <td>0</td>\n",
       "    </tr>\n",
       "    <tr>\n",
       "      <th>2</th>\n",
       "      <td>54075</td>\n",
       "      <td>377560.33</td>\n",
       "      <td>SI</td>\n",
       "      <td>NO</td>\n",
       "      <td>ASESOR FINANCIERO</td>\n",
       "      <td>34000</td>\n",
       "      <td>ASESORAMIENTO FINANCIERO</td>\n",
       "      <td>34624</td>\n",
       "      <td>NO</td>\n",
       "      <td>SIN USO</td>\n",
       "      <td>...</td>\n",
       "      <td>75</td>\n",
       "      <td>ALTO</td>\n",
       "      <td>BAJO RECORRIDO</td>\n",
       "      <td>1</td>\n",
       "      <td>110</td>\n",
       "      <td>0</td>\n",
       "      <td>0</td>\n",
       "      <td>0</td>\n",
       "      <td>1</td>\n",
       "      <td>0</td>\n",
       "    </tr>\n",
       "    <tr>\n",
       "      <th>3</th>\n",
       "      <td>54076</td>\n",
       "      <td>319380.38</td>\n",
       "      <td>SI</td>\n",
       "      <td>NO</td>\n",
       "      <td>ASESOR FINANCIERO</td>\n",
       "      <td>23108</td>\n",
       "      <td>ASESORAMIENTO FINANCIERO</td>\n",
       "      <td>13835</td>\n",
       "      <td>SI</td>\n",
       "      <td>COMPRADOR</td>\n",
       "      <td>...</td>\n",
       "      <td>69</td>\n",
       "      <td>ALTO</td>\n",
       "      <td>BAJO RECORRIDO</td>\n",
       "      <td>1</td>\n",
       "      <td>110</td>\n",
       "      <td>0</td>\n",
       "      <td>0</td>\n",
       "      <td>0</td>\n",
       "      <td>0</td>\n",
       "      <td>0</td>\n",
       "    </tr>\n",
       "    <tr>\n",
       "      <th>4</th>\n",
       "      <td>54077</td>\n",
       "      <td>293443.44</td>\n",
       "      <td>SI</td>\n",
       "      <td>NO</td>\n",
       "      <td>ASESOR FINANCIERO</td>\n",
       "      <td>23108</td>\n",
       "      <td>ASESORAMIENTO FINANCIERO</td>\n",
       "      <td>13835</td>\n",
       "      <td>SI</td>\n",
       "      <td>CONSULTIVO</td>\n",
       "      <td>...</td>\n",
       "      <td>72</td>\n",
       "      <td>ALTO</td>\n",
       "      <td>BAJO RECORRIDO</td>\n",
       "      <td>1</td>\n",
       "      <td>110</td>\n",
       "      <td>0</td>\n",
       "      <td>0</td>\n",
       "      <td>0</td>\n",
       "      <td>0</td>\n",
       "      <td>1</td>\n",
       "    </tr>\n",
       "  </tbody>\n",
       "</table>\n",
       "<p>5 rows × 30 columns</p>\n",
       "</div>"
      ],
      "text/plain": [
       "  cliente  saldo_captacion esta_carterizado cliente_bbp        tipo_gestor  \\\n",
       "0   54073        606781.74               SI          NO  ASESOR FINANCIERO   \n",
       "1   54074        642217.25               SI          NO  ASESOR FINANCIERO   \n",
       "2   54075        377560.33               SI          NO  ASESOR FINANCIERO   \n",
       "3   54076        319380.38               SI          NO  ASESOR FINANCIERO   \n",
       "4   54077        293443.44               SI          NO  ASESOR FINANCIERO   \n",
       "\n",
       "  gestor            cartera_patron codigo_cartera digital_3_meses  \\\n",
       "0  34000  ASESORAMIENTO FINANCIERO          34624              SI   \n",
       "1  11425  ASESORAMIENTO FINANCIERO          37074              NO   \n",
       "2  34000  ASESORAMIENTO FINANCIERO          34624              NO   \n",
       "3  23108  ASESORAMIENTO FINANCIERO          13835              SI   \n",
       "4  23108  ASESORAMIENTO FINANCIERO          13835              SI   \n",
       "\n",
       "  camino_digital     ...      edad  seg_valor   seg_recorrido dz oficina  \\\n",
       "0  TRANSACCIONAL     ...        76       ALTO  BAJO RECORRIDO  1     110   \n",
       "1       POCO USO     ...        72       ALTO  BAJO RECORRIDO  1     110   \n",
       "2        SIN USO     ...        75       ALTO  BAJO RECORRIDO  1     110   \n",
       "3      COMPRADOR     ...        69       ALTO  BAJO RECORRIDO  1     110   \n",
       "4     CONSULTIVO     ...        72       ALTO  BAJO RECORRIDO  1     110   \n",
       "\n",
       "  lp_seg_vida lp_seg_acc lp_seg_medico lp_seg_hogar lp_seg_auto  \n",
       "0           0          0             0            0           0  \n",
       "1           0          0             0            0           0  \n",
       "2           0          0             0            1           0  \n",
       "3           0          0             0            0           0  \n",
       "4           0          0             0            0           1  \n",
       "\n",
       "[5 rows x 30 columns]"
      ]
     },
     "execution_count": 22,
     "metadata": {},
     "output_type": "execute_result"
    }
   ],
   "source": [
    "df.head()"
   ]
  },
  {
   "cell_type": "code",
   "execution_count": 16,
   "metadata": {},
   "outputs": [],
   "source": [
    "# df.sort_values(by = 'PERSONA').to_excel('df.xlsx')"
   ]
  },
  {
   "cell_type": "code",
   "execution_count": 24,
   "metadata": {},
   "outputs": [],
   "source": [
    "df.sort_values(by = 'cliente').to_csv('df.csv')"
   ]
  },
  {
   "cell_type": "code",
   "execution_count": null,
   "metadata": {},
   "outputs": [],
   "source": []
  }
 ],
 "metadata": {
  "kernelspec": {
   "display_name": "Python 3",
   "language": "python",
   "name": "python3"
  },
  "language_info": {
   "codemirror_mode": {
    "name": "ipython",
    "version": 3
   },
   "file_extension": ".py",
   "mimetype": "text/x-python",
   "name": "python",
   "nbconvert_exporter": "python",
   "pygments_lexer": "ipython3",
   "version": "3.7.1"
  }
 },
 "nbformat": 4,
 "nbformat_minor": 2
}
