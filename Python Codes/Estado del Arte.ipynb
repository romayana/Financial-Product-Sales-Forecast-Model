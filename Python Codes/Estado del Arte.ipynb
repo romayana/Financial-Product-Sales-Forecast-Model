{
 "cells": [
  {
   "cell_type": "markdown",
   "metadata": {},
   "source": [
    "# Requerimientos tecnicos\n",
    "\n",
    "Para ejecutar el codigo es necesario tener instalado Python version 2.7 o 3.6 asi como distintos paquetes o librerias. Se recomienda tener instalada la Suite Anaconda donde se entrontraran preinstalados la mayoria de los paquetes y librerias que son necesarios."
   ]
  },
  {
   "cell_type": "markdown",
   "metadata": {},
   "source": [
    "# Modelo de Clasificacion\n",
    "\n",
    "Para nuestro modelo hemos obtenido una base de datos de una entidad financiera con 450.000 clientes con informacion y  productos de cada uno de estos. Desde si el saldo que tiene en cuenta , fondo de inversion o plan de pension,  el recorrido comercial del cliente a ojos de la entidad financiera, si esta o no carteriazo o si tiene o no tiene productos como seguros, nominas, tarjetas o recibos domiciliados. Nuestro modelo consiste en determinar si un cliente,  con una serie de condiciones o Inputs tiene o no tiene el Seguro de hogar contratado.\n",
    "\n",
    "La informacion detallada del data set se encuentra dentro de una de las carpetas de este repositorio con el nombre de Data-Codes\n",
    "\n",
    "    \n"
   ]
  },
  {
   "cell_type": "markdown",
   "metadata": {},
   "source": [
    "# Comenzamos.\n",
    "Iremos cargando las librerias que vamos a usar para nuestro modelo segun las vayamos necesitando. \n"
   ]
  },
  {
   "cell_type": "code",
   "execution_count": 1,
   "metadata": {},
   "outputs": [],
   "source": [
    "import pandas as pd\n",
    "import matplotlib.pyplot as plt\n",
    "import pylab as pl"
   ]
  },
  {
   "cell_type": "markdown",
   "metadata": {},
   "source": [
    "Leemos la base de datos y asociamos a la variable df el data set"
   ]
  },
  {
   "cell_type": "code",
   "execution_count": 2,
   "metadata": {},
   "outputs": [],
   "source": [
    "df = pd.read_csv('/home/dsc/Master-Kschool/TFM/cleanned_data/df.tfm')"
   ]
  },
  {
   "cell_type": "markdown",
   "metadata": {},
   "source": [
    "Para ver con que base de datos vamos a trabajar,  realizamos unas primeras observaciones del data set como las primeras filas ,  la forma del data set ,  las columnas, la cantidada de datos disponibles, las columnas y el tipo de dato de cada columna.\n",
    "    - head - shape  - size - dtype  - columns\n",
    "    \n",
    "Finalmente realizaremos un primer ejercicio de visualizacion que nos puede ayudar a enteder de un primer vistazo el data set."
   ]
  },
  {
   "cell_type": "code",
   "execution_count": 3,
   "metadata": {},
   "outputs": [
    {
     "data": {
      "text/html": [
       "<div>\n",
       "<style scoped>\n",
       "    .dataframe tbody tr th:only-of-type {\n",
       "        vertical-align: middle;\n",
       "    }\n",
       "\n",
       "    .dataframe tbody tr th {\n",
       "        vertical-align: top;\n",
       "    }\n",
       "\n",
       "    .dataframe thead th {\n",
       "        text-align: right;\n",
       "    }\n",
       "</style>\n",
       "<table border=\"1\" class=\"dataframe\">\n",
       "  <thead>\n",
       "    <tr style=\"text-align: right;\">\n",
       "      <th></th>\n",
       "      <th>cliente</th>\n",
       "      <th>saldo_captacion</th>\n",
       "      <th>esta_carterizado</th>\n",
       "      <th>cliente_bbp</th>\n",
       "      <th>tipo_gestor</th>\n",
       "      <th>gestor</th>\n",
       "      <th>cartera_patron</th>\n",
       "      <th>codigo_cartera</th>\n",
       "      <th>digital_3_meses</th>\n",
       "      <th>camino_digital</th>\n",
       "      <th>...</th>\n",
       "      <th>edad</th>\n",
       "      <th>seg_valor</th>\n",
       "      <th>seg_recorrido</th>\n",
       "      <th>dz</th>\n",
       "      <th>oficina</th>\n",
       "      <th>lp_seg_vida</th>\n",
       "      <th>lp_seg_acc</th>\n",
       "      <th>lp_seg_salud</th>\n",
       "      <th>lp_seg_hogar</th>\n",
       "      <th>lp_seg_auto</th>\n",
       "    </tr>\n",
       "  </thead>\n",
       "  <tbody>\n",
       "    <tr>\n",
       "      <th>0</th>\n",
       "      <td>1</td>\n",
       "      <td>1328106.49</td>\n",
       "      <td>SI</td>\n",
       "      <td>NO</td>\n",
       "      <td>ASESOR FINANCIERO</td>\n",
       "      <td>18287.0</td>\n",
       "      <td>ASESORAMIENTO FINANCIERO</td>\n",
       "      <td>14881.0</td>\n",
       "      <td>SI</td>\n",
       "      <td>COMPRADOR</td>\n",
       "      <td>...</td>\n",
       "      <td>69.0</td>\n",
       "      <td>ALTO</td>\n",
       "      <td>BAJO RECORRIDO</td>\n",
       "      <td>2</td>\n",
       "      <td>210</td>\n",
       "      <td>0</td>\n",
       "      <td>0</td>\n",
       "      <td>0</td>\n",
       "      <td>1</td>\n",
       "      <td>0</td>\n",
       "    </tr>\n",
       "    <tr>\n",
       "      <th>1</th>\n",
       "      <td>2</td>\n",
       "      <td>1142234.34</td>\n",
       "      <td>SI</td>\n",
       "      <td>NO</td>\n",
       "      <td>ASESOR FINANCIERO</td>\n",
       "      <td>18287.0</td>\n",
       "      <td>ASESORAMIENTO FINANCIERO</td>\n",
       "      <td>14881.0</td>\n",
       "      <td>SI</td>\n",
       "      <td>COMPRADOR</td>\n",
       "      <td>...</td>\n",
       "      <td>81.0</td>\n",
       "      <td>ALTO</td>\n",
       "      <td>ALTO RECORRIDO</td>\n",
       "      <td>2</td>\n",
       "      <td>210</td>\n",
       "      <td>0</td>\n",
       "      <td>0</td>\n",
       "      <td>0</td>\n",
       "      <td>0</td>\n",
       "      <td>0</td>\n",
       "    </tr>\n",
       "    <tr>\n",
       "      <th>2</th>\n",
       "      <td>3</td>\n",
       "      <td>1142234.34</td>\n",
       "      <td>SI</td>\n",
       "      <td>NO</td>\n",
       "      <td>ASESOR FINANCIERO</td>\n",
       "      <td>18287.0</td>\n",
       "      <td>TUTELA</td>\n",
       "      <td>28332.0</td>\n",
       "      <td>NO</td>\n",
       "      <td>SIN USO</td>\n",
       "      <td>...</td>\n",
       "      <td>75.0</td>\n",
       "      <td>ALTO</td>\n",
       "      <td>BAJO RECORRIDO</td>\n",
       "      <td>2</td>\n",
       "      <td>210</td>\n",
       "      <td>0</td>\n",
       "      <td>0</td>\n",
       "      <td>0</td>\n",
       "      <td>0</td>\n",
       "      <td>0</td>\n",
       "    </tr>\n",
       "    <tr>\n",
       "      <th>3</th>\n",
       "      <td>4</td>\n",
       "      <td>1340503.88</td>\n",
       "      <td>SI</td>\n",
       "      <td>NO</td>\n",
       "      <td>ASESOR FINANCIERO</td>\n",
       "      <td>41475.0</td>\n",
       "      <td>ASESORAMIENTO FINANCIERO</td>\n",
       "      <td>14204.0</td>\n",
       "      <td>NO</td>\n",
       "      <td>SIN USO</td>\n",
       "      <td>...</td>\n",
       "      <td>94.0</td>\n",
       "      <td>ALTO</td>\n",
       "      <td>BAJO RECORRIDO</td>\n",
       "      <td>2</td>\n",
       "      <td>210</td>\n",
       "      <td>0</td>\n",
       "      <td>0</td>\n",
       "      <td>0</td>\n",
       "      <td>0</td>\n",
       "      <td>0</td>\n",
       "    </tr>\n",
       "    <tr>\n",
       "      <th>4</th>\n",
       "      <td>5</td>\n",
       "      <td>1758517.70</td>\n",
       "      <td>SI</td>\n",
       "      <td>NO</td>\n",
       "      <td>ASESOR FINANCIERO</td>\n",
       "      <td>39000.0</td>\n",
       "      <td>ASESORAMIENTO FINANCIERO</td>\n",
       "      <td>14219.0</td>\n",
       "      <td>SI</td>\n",
       "      <td>COMPRADOR</td>\n",
       "      <td>...</td>\n",
       "      <td>64.0</td>\n",
       "      <td>ALTO</td>\n",
       "      <td>BAJO RECORRIDO</td>\n",
       "      <td>2</td>\n",
       "      <td>210</td>\n",
       "      <td>0</td>\n",
       "      <td>0</td>\n",
       "      <td>0</td>\n",
       "      <td>0</td>\n",
       "      <td>0</td>\n",
       "    </tr>\n",
       "  </tbody>\n",
       "</table>\n",
       "<p>5 rows × 30 columns</p>\n",
       "</div>"
      ],
      "text/plain": [
       "   cliente  saldo_captacion esta_carterizado cliente_bbp        tipo_gestor  \\\n",
       "0        1       1328106.49               SI          NO  ASESOR FINANCIERO   \n",
       "1        2       1142234.34               SI          NO  ASESOR FINANCIERO   \n",
       "2        3       1142234.34               SI          NO  ASESOR FINANCIERO   \n",
       "3        4       1340503.88               SI          NO  ASESOR FINANCIERO   \n",
       "4        5       1758517.70               SI          NO  ASESOR FINANCIERO   \n",
       "\n",
       "    gestor            cartera_patron  codigo_cartera digital_3_meses  \\\n",
       "0  18287.0  ASESORAMIENTO FINANCIERO         14881.0              SI   \n",
       "1  18287.0  ASESORAMIENTO FINANCIERO         14881.0              SI   \n",
       "2  18287.0                    TUTELA         28332.0              NO   \n",
       "3  41475.0  ASESORAMIENTO FINANCIERO         14204.0              NO   \n",
       "4  39000.0  ASESORAMIENTO FINANCIERO         14219.0              SI   \n",
       "\n",
       "  camino_digital     ...      edad  seg_valor   seg_recorrido  dz  oficina  \\\n",
       "0      COMPRADOR     ...      69.0       ALTO  BAJO RECORRIDO   2      210   \n",
       "1      COMPRADOR     ...      81.0       ALTO  ALTO RECORRIDO   2      210   \n",
       "2        SIN USO     ...      75.0       ALTO  BAJO RECORRIDO   2      210   \n",
       "3        SIN USO     ...      94.0       ALTO  BAJO RECORRIDO   2      210   \n",
       "4      COMPRADOR     ...      64.0       ALTO  BAJO RECORRIDO   2      210   \n",
       "\n",
       "   lp_seg_vida  lp_seg_acc  lp_seg_salud lp_seg_hogar lp_seg_auto  \n",
       "0            0           0             0            1           0  \n",
       "1            0           0             0            0           0  \n",
       "2            0           0             0            0           0  \n",
       "3            0           0             0            0           0  \n",
       "4            0           0             0            0           0  \n",
       "\n",
       "[5 rows x 30 columns]"
      ]
     },
     "execution_count": 3,
     "metadata": {},
     "output_type": "execute_result"
    }
   ],
   "source": [
    "# Mediante este metodo vemos las 5 primeras filas del data set\n",
    "df.head(5)"
   ]
  },
  {
   "cell_type": "code",
   "execution_count": 4,
   "metadata": {},
   "outputs": [
    {
     "data": {
      "text/plain": [
       "(451374, 30)"
      ]
     },
     "execution_count": 4,
     "metadata": {},
     "output_type": "execute_result"
    }
   ],
   "source": [
    "# La base de datos consta de 451.374 filas y 30 columnas\n",
    "df.shape"
   ]
  },
  {
   "cell_type": "code",
   "execution_count": 5,
   "metadata": {},
   "outputs": [
    {
     "data": {
      "text/plain": [
       "13541220"
      ]
     },
     "execution_count": 5,
     "metadata": {},
     "output_type": "execute_result"
    }
   ],
   "source": [
    "# Contiene 13.541.220 datos \n",
    "df.size"
   ]
  },
  {
   "cell_type": "code",
   "execution_count": 6,
   "metadata": {},
   "outputs": [
    {
     "data": {
      "text/plain": [
       "Index(['cliente', 'saldo_captacion', 'esta_carterizado', 'cliente_bbp',\n",
       "       'tipo_gestor', 'gestor', 'cartera_patron', 'codigo_cartera',\n",
       "       'digital_3_meses', 'camino_digital', 'saldo_financiacion', 'saldo_ffii',\n",
       "       'saldo_plp', 'lp_dom_ingresos', 'lp_tjta_cto', 'lp_tjt_rev', 'lp_rbos',\n",
       "       'lp_of_int', 'marca_bp', 'marca_ccte', 'edad', 'seg_valor',\n",
       "       'seg_recorrido', 'dz', 'oficina', 'lp_seg_vida', 'lp_seg_acc',\n",
       "       'lp_seg_salud', 'lp_seg_hogar', 'lp_seg_auto'],\n",
       "      dtype='object')"
      ]
     },
     "execution_count": 6,
     "metadata": {},
     "output_type": "execute_result"
    }
   ],
   "source": [
    "# 30 columnas que alojan distinta informacion.\n",
    "df.columns"
   ]
  },
  {
   "cell_type": "code",
   "execution_count": 7,
   "metadata": {
    "scrolled": false
   },
   "outputs": [
    {
     "data": {
      "text/plain": [
       "cliente                 int64\n",
       "saldo_captacion       float64\n",
       "esta_carterizado       object\n",
       "cliente_bbp            object\n",
       "tipo_gestor            object\n",
       "gestor                float64\n",
       "cartera_patron         object\n",
       "codigo_cartera        float64\n",
       "digital_3_meses        object\n",
       "camino_digital         object\n",
       "saldo_financiacion    float64\n",
       "saldo_ffii            float64\n",
       "saldo_plp             float64\n",
       "lp_dom_ingresos         int64\n",
       "lp_tjta_cto             int64\n",
       "lp_tjt_rev              int64\n",
       "lp_rbos                 int64\n",
       "lp_of_int               int64\n",
       "marca_bp               object\n",
       "marca_ccte             object\n",
       "edad                  float64\n",
       "seg_valor              object\n",
       "seg_recorrido          object\n",
       "dz                      int64\n",
       "oficina                 int64\n",
       "lp_seg_vida             int64\n",
       "lp_seg_acc              int64\n",
       "lp_seg_salud            int64\n",
       "lp_seg_hogar            int64\n",
       "lp_seg_auto             int64\n",
       "dtype: object"
      ]
     },
     "execution_count": 7,
     "metadata": {},
     "output_type": "execute_result"
    }
   ],
   "source": [
    "# El tipo de dato que contiene las columnas.  \n",
    "# 10 Columnas tipo Objeto \n",
    "#  7 Columnas tipo float  \n",
    "# 13 columnas tipo int64\n",
    "df.dtypes "
   ]
  },
  {
   "cell_type": "code",
   "execution_count": 8,
   "metadata": {},
   "outputs": [
    {
     "data": {
      "image/png": "[encoded data removed]",
      "text/plain": [
       "<Figure size 2160x1800 with 20 Axes>"
      ]
     },
     "metadata": {
      "needs_background": "light"
     },
     "output_type": "display_data"
    }
   ],
   "source": [
    "# Visualizamos todas las columnas numericas o categorias.  No se incluyen las columnas de tipo objeto.\n",
    "df.hist(figsize=(30,25), color = 'G', bins = 25)\n",
    "plt.show()"
   ]
  },
  {
   "cell_type": "markdown",
   "metadata": {},
   "source": [
    "## Iniciamos la construccion de este primer modelo de clasificacion\n",
    "    - Como Target escogemos el Seguro de hogar.\n",
    "    - Como inputs cogemos si tiene nomina y el saldo de ahorro captacion.\n",
    "En primer lugar y sin entrar en profundidad, vemos distintas caracteristicas de cada una de las variables Target e Input.  Posteriormente hacemos una primera aproximacion a una descripcion estadistica de la variables.\n",
    "\n",
    "Observamos que las variables lp_ingresos (input) y lp_seguro hogar (target), son variables categorias etiquetadas con 0 - No tiene el producto y 1-Tiene el producto.  La varible saldo captacion (input) es una variable numerica que informa del dinero que tiene el cliente.\n",
    "\n",
    "La descripcion estadistica unicamente se realiza de la variable numerica Saldo Captacion ya que hacerlo con las otras dos variables categoricas no tiene sentido y no aporta nada.\n",
    "\n",
    "En esta descipcion vemos el maximo, minimo , medias y cuartiles. El minimo arroja un saldo negativo de algun cliente mientras que el maximo supera los 5mm de euros."
   ]
  },
  {
   "cell_type": "code",
   "execution_count": 9,
   "metadata": {
    "scrolled": true
   },
   "outputs": [
    {
     "name": "stdout",
     "output_type": "stream",
     "text": [
      "================================================\n",
      "Nº Valores saldo captacion\n"
     ]
    },
    {
     "ename": "NameError",
     "evalue": "name 'dfm0' is not defined",
     "output_type": "error",
     "traceback": [
      "\u001b[0;31m---------------------------------------------------------------------------\u001b[0m",
      "\u001b[0;31mNameError\u001b[0m                                 Traceback (most recent call last)",
      "\u001b[0;32m<ipython-input-9-f707920d2c7f>\u001b[0m in \u001b[0;36m<module>\u001b[0;34m\u001b[0m\n\u001b[1;32m      1\u001b[0m \u001b[0mprint\u001b[0m\u001b[0;34m(\u001b[0m\u001b[0;34m'================================================'\u001b[0m\u001b[0;34m)\u001b[0m\u001b[0;34m\u001b[0m\u001b[0;34m\u001b[0m\u001b[0m\n\u001b[1;32m      2\u001b[0m \u001b[0mprint\u001b[0m\u001b[0;34m(\u001b[0m\u001b[0;34m'Nº Valores saldo captacion'\u001b[0m\u001b[0;34m)\u001b[0m\u001b[0;34m\u001b[0m\u001b[0;34m\u001b[0m\u001b[0m\n\u001b[0;32m----> 3\u001b[0;31m \u001b[0mprint\u001b[0m\u001b[0;34m(\u001b[0m\u001b[0mpd\u001b[0m\u001b[0;34m.\u001b[0m\u001b[0mvalue_counts\u001b[0m\u001b[0;34m(\u001b[0m\u001b[0mdfm0\u001b[0m\u001b[0;34m[\u001b[0m\u001b[0;34m'saldo_captacion'\u001b[0m\u001b[0;34m]\u001b[0m\u001b[0;34m)\u001b[0m\u001b[0;34m.\u001b[0m\u001b[0mhead\u001b[0m\u001b[0;34m(\u001b[0m\u001b[0;36m3\u001b[0m\u001b[0;34m)\u001b[0m\u001b[0;34m)\u001b[0m\u001b[0;34m\u001b[0m\u001b[0;34m\u001b[0m\u001b[0m\n\u001b[0m\u001b[1;32m      4\u001b[0m \u001b[0mprint\u001b[0m\u001b[0;34m(\u001b[0m\u001b[0;34m'================================================'\u001b[0m\u001b[0;34m)\u001b[0m\u001b[0;34m\u001b[0m\u001b[0;34m\u001b[0m\u001b[0m\n\u001b[1;32m      5\u001b[0m \u001b[0mprint\u001b[0m\u001b[0;34m(\u001b[0m\u001b[0;34m'% Valores lp_dom_ingresos'\u001b[0m\u001b[0;34m)\u001b[0m\u001b[0;34m\u001b[0m\u001b[0;34m\u001b[0m\u001b[0m\n",
      "\u001b[0;31mNameError\u001b[0m: name 'dfm0' is not defined"
     ]
    }
   ],
   "source": [
    "print('================================================')\n",
    "print('Nº Valores saldo captacion')\n",
    "print(pd.value_counts(dfm0['saldo_captacion']).head(3))\n",
    "print('================================================')\n",
    "print('% Valores lp_dom_ingresos')\n",
    "print(pd.value_counts(dfm0['lp_dom_ingresos'], normalize = True))\n",
    "print('================================================')\n",
    "print(' % Valores lp_seg_hogar')\n",
    "print(pd.value_counts(dfm0['lp_seg_hogar'], normalize = True))\n",
    "print('================================================')"
   ]
  },
  {
   "cell_type": "code",
   "execution_count": null,
   "metadata": {
    "scrolled": true
   },
   "outputs": [],
   "source": [
    "# Descripcion estadistica de la variable numerica\n",
    "df['saldo_captacion'].describe()"
   ]
  },
  {
   "cell_type": "markdown",
   "metadata": {},
   "source": [
    "### MODELO"
   ]
  },
  {
   "cell_type": "code",
   "execution_count": 10,
   "metadata": {},
   "outputs": [
    {
     "name": "stdout",
     "output_type": "stream",
     "text": [
      "Nº Datos X = 8576106\n",
      "Dimension X = (451374, 19)\n",
      "==========================\n",
      "Nº Datos y = 451374\n",
      "Dimersion y = (451374,)\n"
     ]
    }
   ],
   "source": [
    "# Asignamos Target e Inputs a nuestro modelo\n",
    "datos_numericos = df.select_dtypes('number')\n",
    "X = datos_numericos.drop(['lp_seg_hogar'],1)\n",
    "y= df['lp_seg_hogar']\n",
    "print('Nº Datos X =', X.size)\n",
    "print('Dimension X =', X.shape)\n",
    "print('='*26)\n",
    "print('Nº Datos y =', y.size)\n",
    "print('Dimersion y =', y.shape)"
   ]
  },
  {
   "cell_type": "code",
   "execution_count": 11,
   "metadata": {},
   "outputs": [],
   "source": [
    "# Cargamos la libreria del modelo de clasificacion que hemos eligido inicialmente.  Regresion Logistica.\n",
    "from sklearn.linear_model import LogisticRegression"
   ]
  },
  {
   "cell_type": "code",
   "execution_count": 12,
   "metadata": {},
   "outputs": [],
   "source": [
    "# Creamos la instancia del modelo de clasificacion\n",
    "modelo0 = LogisticRegression()"
   ]
  },
  {
   "cell_type": "code",
   "execution_count": 13,
   "metadata": {},
   "outputs": [
    {
     "data": {
      "text/plain": [
       "LogisticRegression()"
      ]
     },
     "execution_count": 13,
     "metadata": {},
     "output_type": "execute_result"
    }
   ],
   "source": [
    "# Ajustamos el modelo\n",
    "modelo0.fit(X,y)"
   ]
  },
  {
   "cell_type": "code",
   "execution_count": 14,
   "metadata": {
    "scrolled": false
   },
   "outputs": [
    {
     "data": {
      "text/plain": [
       "array([1, 1, 1, ..., 0, 0, 0])"
      ]
     },
     "execution_count": 14,
     "metadata": {},
     "output_type": "execute_result"
    }
   ],
   "source": [
    "# Hacemos las primeras predicciones\n",
    "predicciones_modelo0 = modelo0.predict(X)\n",
    "predicciones_modelo0"
   ]
  },
  {
   "cell_type": "markdown",
   "metadata": {},
   "source": [
    "### ENTRENAMIENTO Train-Test Split \n",
    "\n",
    "Vamos a dividir el data set en dos grupos. Uno primero de entrenamiento y un segundo de validacion.  Este segundo grupo no se utiliza durante el entrenamiento.  Dado que nuestra base de datos es grande, decidimos dar un peso del 80 % al grupo de entrenamiento y un 20% al grupo de validacion.\n"
   ]
  },
  {
   "cell_type": "code",
   "execution_count": 15,
   "metadata": {},
   "outputs": [],
   "source": [
    "# Cargamos la libreria para poder entrenar nuestro modelo\n",
    "from sklearn.model_selection import train_test_split\n"
   ]
  },
  {
   "cell_type": "code",
   "execution_count": 16,
   "metadata": {},
   "outputs": [],
   "source": [
    "# Creamos dos grupos con Input y etiquetas  \n",
    "# Asignamos la proporcion de 80-20 para el train y el test\n",
    "test_size = 0.2\n",
    "seed = 1\n",
    "X_train, X_test, y_train, y_test = train_test_split(X, y, test_size = test_size, random_state = seed)"
   ]
  },
  {
   "cell_type": "code",
   "execution_count": 17,
   "metadata": {},
   "outputs": [
    {
     "data": {
      "text/plain": [
       "LogisticRegression()"
      ]
     },
     "execution_count": 17,
     "metadata": {},
     "output_type": "execute_result"
    }
   ],
   "source": [
    "# Ajustamos y entrenamos solo con el grupo de Entreamiento\n",
    "modelo0.fit(X_train,y_train)"
   ]
  },
  {
   "cell_type": "code",
   "execution_count": 18,
   "metadata": {},
   "outputs": [
    {
     "data": {
      "text/plain": [
       "array([0, 0, 0, ..., 0, 0, 0])"
      ]
     },
     "execution_count": 18,
     "metadata": {},
     "output_type": "execute_result"
    }
   ],
   "source": [
    "#  Haemos las prediciones de todo el X_test\n",
    "predicciones_train_modelo0 = modelo0.predict(X_test)\n",
    "predicciones_train_modelo0 "
   ]
  },
  {
   "cell_type": "markdown",
   "metadata": {},
   "source": [
    "### Utilizacion de Metricas\n",
    "\n",
    "Una vez realizado nuestro modelo0 inicial queremos saber como de exacto es para lo cual utilizamos distintas metricas que nos daran datos con los podremos decidir si hay que continuar gestionando el modelo o es un modelo bueno. \n",
    "\n",
    "Utilizaremos las metricas mas comunes para los metodos de clasificacion.\n",
    "    - accuracy_score - precision_score - recall_score - f1_score - roc_curve\n",
    "\n",
    "Como primer paso y antes de visualizar el resultado de las metricas, imprimimos la matriz de confusion para pode entender luego los resultados\n"
   ]
  },
  {
   "cell_type": "code",
   "execution_count": 19,
   "metadata": {},
   "outputs": [],
   "source": [
    "# Cargamos librerias de metricas\n",
    "from sklearn.metrics import f1_score, recall_score, precision_score, accuracy_score\n",
    "from sklearn.metrics import roc_auc_score, roc_curve\n",
    "from sklearn.metrics import confusion_matrix\n",
    "from sklearn.metrics import classification_report"
   ]
  },
  {
   "cell_type": "code",
   "execution_count": 20,
   "metadata": {},
   "outputs": [
    {
     "name": "stdout",
     "output_type": "stream",
     "text": [
      "[[77913   613]\n",
      " [11330   419]]\n"
     ]
    },
    {
     "data": {
      "image/png": "[encoded data removed]",
      "text/plain": [
       "<Figure size 288x288 with 2 Axes>"
      ]
     },
     "metadata": {
      "needs_background": "light"
     },
     "output_type": "display_data"
    }
   ],
   "source": [
    "# Imprimimos la matriz de confusion para ver los datos iniciales de verdaderos positivos y negativos\n",
    "matriz_confusion_modelo0 = confusion_matrix(y_test,modelo0.predict(X_test))\n",
    "print(matriz_confusion_modelo0)\n",
    "pl.matshow(matriz_confusion_modelo0)\n",
    "pl.title('Confusion matrix of the classifier')\n",
    "pl.colorbar()\n",
    "pl.show()\n"
   ]
  },
  {
   "cell_type": "code",
   "execution_count": 22,
   "metadata": {},
   "outputs": [
    {
     "name": "stdout",
     "output_type": "stream",
     "text": [
      "RESULTADOS MODELO_0\n",
      "====================================\n",
      "accuracy_score =  0.8677042370534478\n",
      "====================================\n",
      "precision = 0.4060077519379845\n",
      "====================================\n",
      "recall = 0.035662609583794365\n",
      "====================================\n",
      "f1_score = 0.06556607464204679\n",
      "====================================\n",
      "roc_auc_score = 0.6540263450596084\n",
      "====================================\n"
     ]
    }
   ],
   "source": [
    "# RESULTADOS MODELO_0\n",
    "print('RESULTADOS MODELO_0')\n",
    "print('====================================')\n",
    "accuracy_score_modelo_0 = print ('accuracy_score = ', accuracy_score(y_test,modelo0.predict(X_test)))\n",
    "print('====================================')\n",
    "precision_modelo_0 = print('precision =', precision_score(y_test,modelo0.predict(X_test)))\n",
    "print('====================================')\n",
    "recall_score_modelo_0 = print('recall =', recall_score(y_test,modelo0.predict(X_test)))\n",
    "print('====================================')\n",
    "f1_score_modelo_0 = print('f1_score =', f1_score(y_test,modelo0.predict(X_test)))\n",
    "print('====================================')\n",
    "roc_auc_score_modelo_0 = print('roc_auc_score =', roc_auc_score(y_test,modelo0.predict_proba(X_test)[:,1]))\n",
    "print('====================================')\n"
   ]
  },
  {
   "cell_type": "markdown",
   "metadata": {},
   "source": [
    "### Conclusiones"
   ]
  },
  {
   "cell_type": "markdown",
   "metadata": {},
   "source": [
    "Hemos construido el primer modelo de clasificacion de forma directa sin realizar modificaciones o cambio en parametros, desbalanceos, ajustes...etc etc\n",
    "Los resultados no son buenos en ninguna de las metricas. Es necesario evolucionar el modelo.\n",
    "#### __Evolucionamos el modelo normalizando las variables numericas que sirven de inputs.__ "
   ]
  },
  {
   "cell_type": "code",
   "execution_count": 27,
   "metadata": {},
   "outputs": [],
   "source": [
    "from sklearn.preprocessing import MinMaxScaler"
   ]
  },
  {
   "cell_type": "code",
   "execution_count": 28,
   "metadata": {},
   "outputs": [],
   "source": [
    "scaler = MinMaxScaler()"
   ]
  },
  {
   "cell_type": "code",
   "execution_count": 29,
   "metadata": {},
   "outputs": [],
   "source": [
    "df_datos_numericos = data = df.select_dtypes('number')"
   ]
  },
  {
   "cell_type": "code",
   "execution_count": 30,
   "metadata": {},
   "outputs": [],
   "source": [
    "columnas_datos_numericos = df_datos_numericos.columns"
   ]
  },
  {
   "cell_type": "code",
   "execution_count": 31,
   "metadata": {},
   "outputs": [],
   "source": [
    "df_normalizado = scaler.fit_transform(df_datos_numericos)"
   ]
  },
  {
   "cell_type": "code",
   "execution_count": 32,
   "metadata": {},
   "outputs": [],
   "source": [
    "df_normalizado = pd.DataFrame(df_normalizado, columns=columnas_datos_numericos)"
   ]
  },
  {
   "cell_type": "code",
   "execution_count": 33,
   "metadata": {},
   "outputs": [
    {
     "data": {
      "text/html": [
       "<div>\n",
       "<style scoped>\n",
       "    .dataframe tbody tr th:only-of-type {\n",
       "        vertical-align: middle;\n",
       "    }\n",
       "\n",
       "    .dataframe tbody tr th {\n",
       "        vertical-align: top;\n",
       "    }\n",
       "\n",
       "    .dataframe thead th {\n",
       "        text-align: right;\n",
       "    }\n",
       "</style>\n",
       "<table border=\"1\" class=\"dataframe\">\n",
       "  <thead>\n",
       "    <tr style=\"text-align: right;\">\n",
       "      <th></th>\n",
       "      <th>cliente</th>\n",
       "      <th>saldo_captacion</th>\n",
       "      <th>gestor</th>\n",
       "      <th>codigo_cartera</th>\n",
       "      <th>saldo_financiacion</th>\n",
       "      <th>saldo_ffii</th>\n",
       "      <th>saldo_plp</th>\n",
       "      <th>lp_dom_ingresos</th>\n",
       "      <th>lp_tjta_cto</th>\n",
       "      <th>lp_tjt_rev</th>\n",
       "      <th>lp_rbos</th>\n",
       "      <th>lp_of_int</th>\n",
       "      <th>edad</th>\n",
       "      <th>dz</th>\n",
       "      <th>oficina</th>\n",
       "      <th>lp_seg_vida</th>\n",
       "      <th>lp_seg_acc</th>\n",
       "      <th>lp_seg_salud</th>\n",
       "      <th>lp_seg_hogar</th>\n",
       "      <th>lp_seg_auto</th>\n",
       "    </tr>\n",
       "  </thead>\n",
       "  <tbody>\n",
       "    <tr>\n",
       "      <th>0</th>\n",
       "      <td>0.000000</td>\n",
       "      <td>0.258207</td>\n",
       "      <td>0.316956</td>\n",
       "      <td>0.140366</td>\n",
       "      <td>0.001689</td>\n",
       "      <td>0.415566</td>\n",
       "      <td>0.031101</td>\n",
       "      <td>1.0</td>\n",
       "      <td>1.0</td>\n",
       "      <td>1.0</td>\n",
       "      <td>1.0</td>\n",
       "      <td>1.0</td>\n",
       "      <td>0.584746</td>\n",
       "      <td>0.1</td>\n",
       "      <td>0.098619</td>\n",
       "      <td>0.0</td>\n",
       "      <td>0.0</td>\n",
       "      <td>0.0</td>\n",
       "      <td>1.0</td>\n",
       "      <td>0.0</td>\n",
       "    </tr>\n",
       "    <tr>\n",
       "      <th>1</th>\n",
       "      <td>0.000002</td>\n",
       "      <td>0.223408</td>\n",
       "      <td>0.316956</td>\n",
       "      <td>0.140366</td>\n",
       "      <td>0.001689</td>\n",
       "      <td>0.355362</td>\n",
       "      <td>0.000000</td>\n",
       "      <td>0.0</td>\n",
       "      <td>0.0</td>\n",
       "      <td>0.0</td>\n",
       "      <td>1.0</td>\n",
       "      <td>1.0</td>\n",
       "      <td>0.686441</td>\n",
       "      <td>0.1</td>\n",
       "      <td>0.098619</td>\n",
       "      <td>0.0</td>\n",
       "      <td>0.0</td>\n",
       "      <td>0.0</td>\n",
       "      <td>0.0</td>\n",
       "      <td>0.0</td>\n",
       "    </tr>\n",
       "  </tbody>\n",
       "</table>\n",
       "</div>"
      ],
      "text/plain": [
       "    cliente  saldo_captacion    gestor  codigo_cartera  saldo_financiacion  \\\n",
       "0  0.000000         0.258207  0.316956        0.140366            0.001689   \n",
       "1  0.000002         0.223408  0.316956        0.140366            0.001689   \n",
       "\n",
       "   saldo_ffii  saldo_plp  lp_dom_ingresos  lp_tjta_cto  lp_tjt_rev  lp_rbos  \\\n",
       "0    0.415566   0.031101              1.0          1.0         1.0      1.0   \n",
       "1    0.355362   0.000000              0.0          0.0         0.0      1.0   \n",
       "\n",
       "   lp_of_int      edad   dz   oficina  lp_seg_vida  lp_seg_acc  lp_seg_salud  \\\n",
       "0        1.0  0.584746  0.1  0.098619          0.0         0.0           0.0   \n",
       "1        1.0  0.686441  0.1  0.098619          0.0         0.0           0.0   \n",
       "\n",
       "   lp_seg_hogar  lp_seg_auto  \n",
       "0           1.0          0.0  \n",
       "1           0.0          0.0  "
      ]
     },
     "execution_count": 33,
     "metadata": {},
     "output_type": "execute_result"
    }
   ],
   "source": [
    "df_normalizado.head(2)"
   ]
  },
  {
   "cell_type": "code",
   "execution_count": 34,
   "metadata": {},
   "outputs": [
    {
     "name": "stdout",
     "output_type": "stream",
     "text": [
      "Nº Datos X = 8576106\n",
      "Dimension X = (451374, 19)\n",
      "==========================\n",
      "Nº Datos y = 451374\n",
      "Dimersion y = (451374,)\n"
     ]
    }
   ],
   "source": [
    "X = df_normalizado.drop(['lp_seg_hogar'], axis = 1)\n",
    "y = df_normalizado['lp_seg_hogar']\n",
    "print('Nº Datos X =', X.size)\n",
    "print('Dimension X =', X.shape)\n",
    "print('='*26)\n",
    "print('Nº Datos y =', y.size)\n",
    "print('Dimersion y =', y.shape)"
   ]
  },
  {
   "cell_type": "code",
   "execution_count": 35,
   "metadata": {},
   "outputs": [],
   "source": [
    "modelo1 = LogisticRegression(solver = 'newton-cg')"
   ]
  },
  {
   "cell_type": "code",
   "execution_count": 36,
   "metadata": {},
   "outputs": [
    {
     "data": {
      "text/plain": [
       "LogisticRegression(solver='newton-cg')"
      ]
     },
     "execution_count": 36,
     "metadata": {},
     "output_type": "execute_result"
    }
   ],
   "source": [
    "modelo1.fit(X,y)"
   ]
  },
  {
   "cell_type": "code",
   "execution_count": 37,
   "metadata": {},
   "outputs": [
    {
     "data": {
      "text/plain": [
       "array([1., 0., 0., ..., 0., 0., 0.])"
      ]
     },
     "execution_count": 37,
     "metadata": {},
     "output_type": "execute_result"
    }
   ],
   "source": [
    "modelo1.predict(X)"
   ]
  },
  {
   "cell_type": "code",
   "execution_count": 38,
   "metadata": {},
   "outputs": [],
   "source": [
    "test_size = 0.2\n",
    "seed = 1\n",
    "X_train, X_test, y_train, y_test = train_test_split(X, y, test_size = test_size, random_state = seed)"
   ]
  },
  {
   "cell_type": "code",
   "execution_count": 39,
   "metadata": {},
   "outputs": [
    {
     "data": {
      "text/plain": [
       "LogisticRegression(solver='newton-cg')"
      ]
     },
     "execution_count": 39,
     "metadata": {},
     "output_type": "execute_result"
    }
   ],
   "source": [
    "modelo1.fit(X_train,y_train)"
   ]
  },
  {
   "cell_type": "code",
   "execution_count": 40,
   "metadata": {},
   "outputs": [
    {
     "data": {
      "text/plain": [
       "array([0., 0., 0., ..., 0., 0., 0.])"
      ]
     },
     "execution_count": 40,
     "metadata": {},
     "output_type": "execute_result"
    }
   ],
   "source": [
    "modelo1.predict(X_test)"
   ]
  },
  {
   "cell_type": "code",
   "execution_count": 41,
   "metadata": {},
   "outputs": [
    {
     "data": {
      "text/plain": [
       "array([0.10519022, 0.17919336, 0.24050696, ..., 0.15976316, 0.40287131,\n",
       "       0.03077135])"
      ]
     },
     "execution_count": 41,
     "metadata": {},
     "output_type": "execute_result"
    }
   ],
   "source": [
    "modelo1.predict_proba(X_test)[:, 1]"
   ]
  },
  {
   "cell_type": "code",
   "execution_count": 42,
   "metadata": {},
   "outputs": [
    {
     "name": "stdout",
     "output_type": "stream",
     "text": [
      "MATRIZ_CONFUSION_MODELO_01\n",
      "[[77794   732]\n",
      " [10928   821]]\n"
     ]
    },
    {
     "data": {
      "image/png": "[encoded data removed]",
      "text/plain": [
       "<Figure size 288x288 with 2 Axes>"
      ]
     },
     "metadata": {
      "needs_background": "light"
     },
     "output_type": "display_data"
    }
   ],
   "source": [
    "# Imprimimos matriz de confusion para ver los datos iniciales y luego sacar las metricas\n",
    "matriz_confusion_modelo1 = confusion_matrix(y_test,modelo1.predict(X_test))\n",
    "print('MATRIZ_CONFUSION_MODELO_01')\n",
    "print(matriz_confusion_modelo1)\n",
    "pl.matshow(confusion_matrix(y_test,modelo1.predict(X_test)))\n",
    "pl.title('Matriz de Confusion')\n",
    "pl.colorbar()\n",
    "pl.show()"
   ]
  },
  {
   "cell_type": "code",
   "execution_count": 44,
   "metadata": {},
   "outputs": [
    {
     "name": "stdout",
     "output_type": "stream",
     "text": [
      "RESULTADOS MODELO_1\n",
      "====================================\n",
      "accuracy_score =  0.8708391027416228\n",
      "====================================\n",
      "precision = 0.5286542176432711\n",
      "====================================\n",
      "recall = 0.06987828751383096\n",
      "====================================\n",
      "f1_score = 0.12344008419786498\n",
      "====================================\n",
      "roc_auc_score = 0.7810038633192866\n",
      "====================================\n"
     ]
    }
   ],
   "source": [
    "# RESULTADOS MODELO_1\n",
    "print('RESULTADOS MODELO_1')\n",
    "print('====================================')\n",
    "accuracy_score_modelo_1 = print ('accuracy_score = ',accuracy_score(y_test,modelo1.predict(X_test)))\n",
    "print('====================================')\n",
    "precision_modelo_1 = print('precision =', precision_score(y_test,modelo1.predict(X_test)))\n",
    "print('====================================')\n",
    "recall_score_modelo_1 = print('recall =', recall_score(y_test,modelo1.predict(X_test)))\n",
    "print('====================================')\n",
    "f1_score_modelo_1 = print('f1_score =', f1_score(y_test,modelo1.predict(X_test)))\n",
    "print('====================================')\n",
    "roc_auc_score_modelo_1 = print('roc_auc_score =', roc_auc_score(y_test,modelo1.predict_proba(X_test)[:,1]))\n",
    "print('====================================')\n"
   ]
  },
  {
   "cell_type": "code",
   "execution_count": 45,
   "metadata": {},
   "outputs": [
    {
     "name": "stdout",
     "output_type": "stream",
     "text": [
      "roc_auc_score = 0.7810038633192866\n"
     ]
    },
    {
     "data": {
      "text/plain": [
       "Text(0, 0.5, 'tpr')"
      ]
     },
     "execution_count": 45,
     "metadata": {},
     "output_type": "execute_result"
    },
    {
     "data": {
      "image/png": "[encoded data removed]",
      "text/plain": [
       "<Figure size 432x288 with 1 Axes>"
      ]
     },
     "metadata": {
      "needs_background": "light"
     },
     "output_type": "display_data"
    }
   ],
   "source": [
    "print('roc_auc_score =', roc_auc_score(y_test,modelo1.predict_proba(X_test)[:, 1]))\n",
    "fpr, tpr, threshold = roc_curve(y_test,modelo1.predict_proba(X_test)[:, 1])\n",
    "plt.plot(fpr, tpr)\n",
    "plt.xlabel('fpr')\n",
    "plt.ylabel('tpr')"
   ]
  },
  {
   "cell_type": "markdown",
   "metadata": {},
   "source": [
    "### COMPARATIVAS RESULTADOS"
   ]
  },
  {
   "cell_type": "markdown",
   "metadata": {},
   "source": [
    "### __accuracy_score__ ================\n",
    "    - Modelo1 = 0.8708391027416228\n",
    "    - Modelo0 = 0.8677042370534478\n",
    "### __precision__ =====================\n",
    "    - Modelo1 = 0.5286542176432711\n",
    "    - Modelo0 = 0.4060077519379845\n",
    "### __recall__ ========================\n",
    "    - Modelo1 = 0.06987828751383096\n",
    "    - Modelo0 = 0.035662609583794365\n",
    "### __f1__ ============================\n",
    "    - Modelo1 = 0.12344008419786498\n",
    "    - Modelo0 = 0.06556607464204679\n",
    "### __roc_auc_score__ =================\n",
    "    - Modelo1 = 0.7810038633192866\n",
    "    - Modelo0 = 0.6540263450596084\n",
    "\n"
   ]
  },
  {
   "cell_type": "code",
   "execution_count": null,
   "metadata": {},
   "outputs": [],
   "source": []
  }
 ],
 "metadata": {
  "kernelspec": {
   "display_name": "Python 3",
   "language": "python",
   "name": "python3"
  },
  "language_info": {
   "codemirror_mode": {
    "name": "ipython",
    "version": 3
   },
   "file_extension": ".py",
   "mimetype": "text/x-python",
   "name": "python",
   "nbconvert_exporter": "python",
   "pygments_lexer": "ipython3",
   "version": "3.7.1"
  }
 },
 "nbformat": 4,
 "nbformat_minor": 2
}
