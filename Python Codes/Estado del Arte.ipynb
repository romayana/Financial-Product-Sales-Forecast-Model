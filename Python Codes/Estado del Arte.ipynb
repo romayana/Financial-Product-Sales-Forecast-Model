{
 "cells": [
  {
   "cell_type": "markdown",
   "metadata": {},
   "source": [
    "# Requerimientos tecnicos.\n",
    "\n",
    "Para ejecutar el codigo es necesario tener instalado Python version 2.7 o 3.6 asi como distintos paquetes o librerias. Se recomienda tener instalada la Suite Anaconda donde se entrontraran preinstalados la mayoria de los paquetes y librerias que son necesarios."
   ]
  },
  {
   "cell_type": "markdown",
   "metadata": {},
   "source": [
    "# Base de Datos\n",
    "\n",
    "Para nuestro modelo hemos obtenido una base de datos de una entidad financiera con 450.000 clientes con informacion y  productos de cada uno de estos. Desde si el saldo que tiene en cuenta , fondo de inversion o plan de pension,  el recorrido comercial del cliente a ojos de la entidad financiera, si esta o no carteriazo o si tiene o no tiene productos como seguros, nominas, tarjetas o recibos domiciliados.\n",
    "La informacion detallada del data set se encuentra dentro de una de las carpetas de este repositorio con el nombre de Data-Codes\n",
    "\n",
    "    \n"
   ]
  },
  {
   "cell_type": "markdown",
   "metadata": {},
   "source": [
    "# Carga del Data Frame"
   ]
  },
  {
   "cell_type": "markdown",
   "metadata": {},
   "source": [
    "# Objetivo\n",
    "\n",
    "Nuestro Objetivo es construir un modelo de clasificacion con el fin de identificar si un cliente nuevo es susceptible de contratar o no un Seguro de hogar.  Utilizaremos distintos modelos de clasificacion que seran finalmente comparados para quedarnos con uno."
   ]
  },
  {
   "cell_type": "markdown",
   "metadata": {},
   "source": [
    "# Comenzamos.\n",
    "Iremos cargando las librerias que vamos a usar para nuestro modelo segun las vayamos necesitando. \n"
   ]
  },
  {
   "cell_type": "code",
   "execution_count": 63,
   "metadata": {},
   "outputs": [],
   "source": [
    "import pandas as pd\n",
    "import matplotlib.pyplot as plt\n",
    "import pylab as pl\n",
    "import seaborn as sb"
   ]
  },
  {
   "cell_type": "markdown",
   "metadata": {},
   "source": [
    "Leemos la base de datos y asociamos a la variable df el data set"
   ]
  },
  {
   "cell_type": "code",
   "execution_count": 2,
   "metadata": {},
   "outputs": [],
   "source": [
    "df = pd.read_csv('/home/dsc/Master-Kschool/TFM/Financial-Product-Sales-Forecast-Model/0rigin_data/cleanned_data/df.tfm')"
   ]
  },
  {
   "cell_type": "markdown",
   "metadata": {},
   "source": [
    "Realizamos un primer analisis explotatorio EDA de la Base de Datos.  Con este analisis esperamos obtener informacion basica de todo el Data Frame e informacion mas profunda de la variable objetivo - Target - Seguro de Hogar\n",
    "    \n"
   ]
  },
  {
   "cell_type": "markdown",
   "metadata": {},
   "source": [
    "#  EDA"
   ]
  },
  {
   "cell_type": "markdown",
   "metadata": {},
   "source": [
    "### Mostramos un sample de 5 lineas del Data Frame "
   ]
  },
  {
   "cell_type": "code",
   "execution_count": 3,
   "metadata": {},
   "outputs": [
    {
     "data": {
      "text/html": [
       "<div>\n",
       "<style scoped>\n",
       "    .dataframe tbody tr th:only-of-type {\n",
       "        vertical-align: middle;\n",
       "    }\n",
       "\n",
       "    .dataframe tbody tr th {\n",
       "        vertical-align: top;\n",
       "    }\n",
       "\n",
       "    .dataframe thead th {\n",
       "        text-align: right;\n",
       "    }\n",
       "</style>\n",
       "<table border=\"1\" class=\"dataframe\">\n",
       "  <thead>\n",
       "    <tr style=\"text-align: right;\">\n",
       "      <th></th>\n",
       "      <th>cliente</th>\n",
       "      <th>saldo_captacion</th>\n",
       "      <th>esta_carterizado</th>\n",
       "      <th>cliente_bbp</th>\n",
       "      <th>tipo_gestor</th>\n",
       "      <th>gestor</th>\n",
       "      <th>cartera_patron</th>\n",
       "      <th>codigo_cartera</th>\n",
       "      <th>digital_3_meses</th>\n",
       "      <th>camino_digital</th>\n",
       "      <th>...</th>\n",
       "      <th>edad</th>\n",
       "      <th>seg_valor</th>\n",
       "      <th>seg_recorrido</th>\n",
       "      <th>dz</th>\n",
       "      <th>oficina</th>\n",
       "      <th>lp_seg_vida</th>\n",
       "      <th>lp_seg_acc</th>\n",
       "      <th>lp_seg_salud</th>\n",
       "      <th>lp_seg_hogar</th>\n",
       "      <th>lp_seg_auto</th>\n",
       "    </tr>\n",
       "  </thead>\n",
       "  <tbody>\n",
       "    <tr>\n",
       "      <th>136554</th>\n",
       "      <td>136555</td>\n",
       "      <td>214137.58</td>\n",
       "      <td>SI</td>\n",
       "      <td>NO</td>\n",
       "      <td>ASESOR FINANCIERO</td>\n",
       "      <td>11967.0</td>\n",
       "      <td>TUTELA</td>\n",
       "      <td>27825.0</td>\n",
       "      <td>NO</td>\n",
       "      <td>SIN USO</td>\n",
       "      <td>...</td>\n",
       "      <td>73.0</td>\n",
       "      <td>ALTO</td>\n",
       "      <td>BAJO RECORRIDO</td>\n",
       "      <td>2</td>\n",
       "      <td>217</td>\n",
       "      <td>0</td>\n",
       "      <td>0</td>\n",
       "      <td>0</td>\n",
       "      <td>0</td>\n",
       "      <td>0</td>\n",
       "    </tr>\n",
       "    <tr>\n",
       "      <th>217675</th>\n",
       "      <td>217676</td>\n",
       "      <td>180797.17</td>\n",
       "      <td>SI</td>\n",
       "      <td>NO</td>\n",
       "      <td>ASESOR FINANCIERO</td>\n",
       "      <td>37491.0</td>\n",
       "      <td>ASESORAMIENTO FINANCIERO</td>\n",
       "      <td>16270.0</td>\n",
       "      <td>SI</td>\n",
       "      <td>TRANSACCIONAL</td>\n",
       "      <td>...</td>\n",
       "      <td>44.0</td>\n",
       "      <td>ALTO</td>\n",
       "      <td>BAJO RECORRIDO</td>\n",
       "      <td>8</td>\n",
       "      <td>811</td>\n",
       "      <td>0</td>\n",
       "      <td>0</td>\n",
       "      <td>0</td>\n",
       "      <td>0</td>\n",
       "      <td>0</td>\n",
       "    </tr>\n",
       "    <tr>\n",
       "      <th>255402</th>\n",
       "      <td>255403</td>\n",
       "      <td>26107.42</td>\n",
       "      <td>SI</td>\n",
       "      <td>NO</td>\n",
       "      <td>ASESOR FINANCIERO</td>\n",
       "      <td>8337.0</td>\n",
       "      <td>TUTELA</td>\n",
       "      <td>9904.0</td>\n",
       "      <td>NO</td>\n",
       "      <td>POCO USO</td>\n",
       "      <td>...</td>\n",
       "      <td>41.0</td>\n",
       "      <td>ALTO</td>\n",
       "      <td>ALTO RECORRIDO</td>\n",
       "      <td>8</td>\n",
       "      <td>814</td>\n",
       "      <td>0</td>\n",
       "      <td>0</td>\n",
       "      <td>0</td>\n",
       "      <td>0</td>\n",
       "      <td>0</td>\n",
       "    </tr>\n",
       "    <tr>\n",
       "      <th>54203</th>\n",
       "      <td>54204</td>\n",
       "      <td>307249.60</td>\n",
       "      <td>SI</td>\n",
       "      <td>NO</td>\n",
       "      <td>ASESOR FINANCIERO</td>\n",
       "      <td>34000.0</td>\n",
       "      <td>ASESORAMIENTO FINANCIERO</td>\n",
       "      <td>34624.0</td>\n",
       "      <td>NO</td>\n",
       "      <td>SIN USO</td>\n",
       "      <td>...</td>\n",
       "      <td>78.0</td>\n",
       "      <td>ALTO</td>\n",
       "      <td>BAJO RECORRIDO</td>\n",
       "      <td>1</td>\n",
       "      <td>110</td>\n",
       "      <td>0</td>\n",
       "      <td>0</td>\n",
       "      <td>0</td>\n",
       "      <td>0</td>\n",
       "      <td>0</td>\n",
       "    </tr>\n",
       "    <tr>\n",
       "      <th>81912</th>\n",
       "      <td>81913</td>\n",
       "      <td>853.07</td>\n",
       "      <td>SI</td>\n",
       "      <td>NO</td>\n",
       "      <td>ASESOR FINANCIERO</td>\n",
       "      <td>8900.0</td>\n",
       "      <td>ASESORAMIENTO FINANCIERO</td>\n",
       "      <td>35667.0</td>\n",
       "      <td>NO</td>\n",
       "      <td>SIN USO</td>\n",
       "      <td>...</td>\n",
       "      <td>76.0</td>\n",
       "      <td>MEDIO</td>\n",
       "      <td>MEDIO RECORRIDO</td>\n",
       "      <td>10</td>\n",
       "      <td>1013</td>\n",
       "      <td>0</td>\n",
       "      <td>0</td>\n",
       "      <td>0</td>\n",
       "      <td>0</td>\n",
       "      <td>0</td>\n",
       "    </tr>\n",
       "  </tbody>\n",
       "</table>\n",
       "<p>5 rows × 30 columns</p>\n",
       "</div>"
      ],
      "text/plain": [
       "        cliente  saldo_captacion esta_carterizado cliente_bbp  \\\n",
       "136554   136555        214137.58               SI          NO   \n",
       "217675   217676        180797.17               SI          NO   \n",
       "255402   255403         26107.42               SI          NO   \n",
       "54203     54204        307249.60               SI          NO   \n",
       "81912     81913           853.07               SI          NO   \n",
       "\n",
       "              tipo_gestor   gestor            cartera_patron  codigo_cartera  \\\n",
       "136554  ASESOR FINANCIERO  11967.0                    TUTELA         27825.0   \n",
       "217675  ASESOR FINANCIERO  37491.0  ASESORAMIENTO FINANCIERO         16270.0   \n",
       "255402  ASESOR FINANCIERO   8337.0                    TUTELA          9904.0   \n",
       "54203   ASESOR FINANCIERO  34000.0  ASESORAMIENTO FINANCIERO         34624.0   \n",
       "81912   ASESOR FINANCIERO   8900.0  ASESORAMIENTO FINANCIERO         35667.0   \n",
       "\n",
       "       digital_3_meses camino_digital  ...  edad  seg_valor    seg_recorrido  \\\n",
       "136554              NO        SIN USO  ...  73.0       ALTO   BAJO RECORRIDO   \n",
       "217675              SI  TRANSACCIONAL  ...  44.0       ALTO   BAJO RECORRIDO   \n",
       "255402              NO       POCO USO  ...  41.0       ALTO   ALTO RECORRIDO   \n",
       "54203               NO        SIN USO  ...  78.0       ALTO   BAJO RECORRIDO   \n",
       "81912               NO        SIN USO  ...  76.0      MEDIO  MEDIO RECORRIDO   \n",
       "\n",
       "        dz  oficina  lp_seg_vida  lp_seg_acc  lp_seg_salud lp_seg_hogar  \\\n",
       "136554   2      217            0           0             0            0   \n",
       "217675   8      811            0           0             0            0   \n",
       "255402   8      814            0           0             0            0   \n",
       "54203    1      110            0           0             0            0   \n",
       "81912   10     1013            0           0             0            0   \n",
       "\n",
       "       lp_seg_auto  \n",
       "136554           0  \n",
       "217675           0  \n",
       "255402           0  \n",
       "54203            0  \n",
       "81912            0  \n",
       "\n",
       "[5 rows x 30 columns]"
      ]
     },
     "execution_count": 3,
     "metadata": {},
     "output_type": "execute_result"
    }
   ],
   "source": [
    "df.sample(5)"
   ]
  },
  {
   "cell_type": "markdown",
   "metadata": {},
   "source": [
    "### Dimension y Forma del Data Frame. La base de datos consta de 451.374 filas, 30 columnas y 13.5mm de datos."
   ]
  },
  {
   "cell_type": "code",
   "execution_count": 4,
   "metadata": {},
   "outputs": [
    {
     "name": "stdout",
     "output_type": "stream",
     "text": [
      "Filas =  451374\n",
      "Columnas =  30\n",
      "Datos =  13541220\n"
     ]
    }
   ],
   "source": [
    "print('Filas = ', df.shape[0])\n",
    "print('Columnas = ', df.shape[1])\n",
    "print('Datos = ',df.size)"
   ]
  },
  {
   "cell_type": "markdown",
   "metadata": {},
   "source": [
    "### Nombre de las Columnas"
   ]
  },
  {
   "cell_type": "code",
   "execution_count": 5,
   "metadata": {},
   "outputs": [
    {
     "data": {
      "text/plain": [
       "Index(['cliente', 'saldo_captacion', 'esta_carterizado', 'cliente_bbp',\n",
       "       'tipo_gestor', 'gestor', 'cartera_patron', 'codigo_cartera',\n",
       "       'digital_3_meses', 'camino_digital', 'saldo_financiacion', 'saldo_ffii',\n",
       "       'saldo_plp', 'lp_dom_ingresos', 'lp_tjta_cto', 'lp_tjt_rev', 'lp_rbos',\n",
       "       'lp_of_int', 'marca_bp', 'marca_ccte', 'edad', 'seg_valor',\n",
       "       'seg_recorrido', 'dz', 'oficina', 'lp_seg_vida', 'lp_seg_acc',\n",
       "       'lp_seg_salud', 'lp_seg_hogar', 'lp_seg_auto'],\n",
       "      dtype='object')"
      ]
     },
     "execution_count": 5,
     "metadata": {},
     "output_type": "execute_result"
    }
   ],
   "source": [
    "df.columns"
   ]
  },
  {
   "cell_type": "markdown",
   "metadata": {},
   "source": [
    "### Informacion de las columnas - existencia de nulos y tipos de datos.  Comprobamos que el DF no tiene NANs y que los tipos de datos son los siguientes:\n",
    "\n",
    "- float64 (7 variables)\n",
    "- int64    (13 variables)\n",
    "- object (10 variables)\n",
    "    "
   ]
  },
  {
   "cell_type": "code",
   "execution_count": 6,
   "metadata": {
    "scrolled": false
   },
   "outputs": [
    {
     "name": "stdout",
     "output_type": "stream",
     "text": [
      "<class 'pandas.core.frame.DataFrame'>\n",
      "RangeIndex: 451374 entries, 0 to 451373\n",
      "Data columns (total 30 columns):\n",
      " #   Column              Non-Null Count   Dtype  \n",
      "---  ------              --------------   -----  \n",
      " 0   cliente             451374 non-null  int64  \n",
      " 1   saldo_captacion     451374 non-null  float64\n",
      " 2   esta_carterizado    451374 non-null  object \n",
      " 3   cliente_bbp         451374 non-null  object \n",
      " 4   tipo_gestor         451374 non-null  object \n",
      " 5   gestor              451374 non-null  float64\n",
      " 6   cartera_patron      451374 non-null  object \n",
      " 7   codigo_cartera      451374 non-null  float64\n",
      " 8   digital_3_meses     451374 non-null  object \n",
      " 9   camino_digital      451374 non-null  object \n",
      " 10  saldo_financiacion  451374 non-null  float64\n",
      " 11  saldo_ffii          451374 non-null  float64\n",
      " 12  saldo_plp           451374 non-null  float64\n",
      " 13  lp_dom_ingresos     451374 non-null  int64  \n",
      " 14  lp_tjta_cto         451374 non-null  int64  \n",
      " 15  lp_tjt_rev          451374 non-null  int64  \n",
      " 16  lp_rbos             451374 non-null  int64  \n",
      " 17  lp_of_int           451374 non-null  int64  \n",
      " 18  marca_bp            451374 non-null  object \n",
      " 19  marca_ccte          451374 non-null  object \n",
      " 20  edad                451374 non-null  float64\n",
      " 21  seg_valor           451374 non-null  object \n",
      " 22  seg_recorrido       451374 non-null  object \n",
      " 23  dz                  451374 non-null  int64  \n",
      " 24  oficina             451374 non-null  int64  \n",
      " 25  lp_seg_vida         451374 non-null  int64  \n",
      " 26  lp_seg_acc          451374 non-null  int64  \n",
      " 27  lp_seg_salud        451374 non-null  int64  \n",
      " 28  lp_seg_hogar        451374 non-null  int64  \n",
      " 29  lp_seg_auto         451374 non-null  int64  \n",
      "dtypes: float64(7), int64(13), object(10)\n",
      "memory usage: 103.3+ MB\n"
     ]
    }
   ],
   "source": [
    "df.info()"
   ]
  },
  {
   "cell_type": "markdown",
   "metadata": {},
   "source": [
    "### El DF esta formado por 30 variables distintas las cuales vamos a segmentar y distinguir por bloques de cara a un mejor estudio del dataframe.\n",
    "\n",
    "- Bloque 1 - Variables Edad 1 \n",
    "- Bloque 2 - Variables de Ahorro - Financiación 4 \n",
    "- Bloque 3 - Variables de Servicios 5 \n",
    "- Bloque 4 - Variables de Seguros 5\n",
    "- Bloque 5 - Variables Categoricas de Segmentacion 10 \n",
    "- Bloque 6 - Variables unidades de negocio 5 "
   ]
  },
  {
   "cell_type": "code",
   "execution_count": 7,
   "metadata": {},
   "outputs": [],
   "source": [
    "variables_edad = df['edad']\n",
    "variables_unidad_negocio = df[['cliente','gestor','codigo_cartera','oficina','dz']]\n",
    "variables_ahorro_financiacion = df[['saldo_captacion','saldo_financiacion','saldo_ffii','saldo_plp']]\n",
    "variables_servicio = df[['lp_dom_ingresos','lp_tjta_cto','lp_tjt_rev','lp_rbos','lp_of_int']]\n",
    "variables_seguros = df[['lp_seg_vida','lp_seg_acc','lp_seg_salud','lp_seg_auto','lp_seg_hogar']]\n",
    "variables_segmentacion = df[['esta_carterizado','cliente_bbp','tipo_gestor','cartera_patron',\n",
    "                            'digital_3_meses','camino_digital','marca_bp','marca_ccte',\n",
    "                            'seg_valor','seg_recorrido']]"
   ]
  },
  {
   "cell_type": "markdown",
   "metadata": {},
   "source": [
    "### __Estudiamos las variables por  Bloques, mediante visualizacion por histrogramas y descripcion estadistica.__ \n",
    "\n"
   ]
  },
  {
   "cell_type": "markdown",
   "metadata": {},
   "source": [
    "### Bloque 1  Variable Edad "
   ]
  },
  {
   "cell_type": "code",
   "execution_count": 8,
   "metadata": {
    "scrolled": false
   },
   "outputs": [
    {
     "data": {
      "text/plain": [
       "count    451374.000000\n",
       "mean         58.268941\n",
       "std          19.018368\n",
       "min           0.000000\n",
       "25%          45.000000\n",
       "50%          60.000000\n",
       "75%          73.000000\n",
       "max         118.000000\n",
       "Name: edad, dtype: float64"
      ]
     },
     "execution_count": 8,
     "metadata": {},
     "output_type": "execute_result"
    },
    {
     "data": {
      "image/png": "[encoded data removed]",
      "text/plain": [
       "<Figure size 432x288 with 1 Axes>"
      ]
     },
     "metadata": {
      "needs_background": "light"
     },
     "output_type": "display_data"
    }
   ],
   "source": [
    "variables_edad.hist(color = 'y');\n",
    "plt.xlabel('Edad')\n",
    "plt.ylabel('Nº Clientes')\n",
    "variables_edad.describe()"
   ]
  },
  {
   "cell_type": "markdown",
   "metadata": {},
   "source": [
    "### Bloque 2  Variables Ahorro - Financiacion"
   ]
  },
  {
   "cell_type": "code",
   "execution_count": 9,
   "metadata": {
    "scrolled": false
   },
   "outputs": [
    {
     "data": {
      "text/html": [
       "<div>\n",
       "<style scoped>\n",
       "    .dataframe tbody tr th:only-of-type {\n",
       "        vertical-align: middle;\n",
       "    }\n",
       "\n",
       "    .dataframe tbody tr th {\n",
       "        vertical-align: top;\n",
       "    }\n",
       "\n",
       "    .dataframe thead th {\n",
       "        text-align: right;\n",
       "    }\n",
       "</style>\n",
       "<table border=\"1\" class=\"dataframe\">\n",
       "  <thead>\n",
       "    <tr style=\"text-align: right;\">\n",
       "      <th></th>\n",
       "      <th>saldo_captacion</th>\n",
       "      <th>saldo_financiacion</th>\n",
       "      <th>saldo_ffii</th>\n",
       "      <th>saldo_plp</th>\n",
       "    </tr>\n",
       "  </thead>\n",
       "  <tbody>\n",
       "    <tr>\n",
       "      <th>count</th>\n",
       "      <td>4.513740e+05</td>\n",
       "      <td>4.513740e+05</td>\n",
       "      <td>4.513740e+05</td>\n",
       "      <td>451374.000000</td>\n",
       "    </tr>\n",
       "    <tr>\n",
       "      <th>mean</th>\n",
       "      <td>4.971455e+04</td>\n",
       "      <td>1.380668e+04</td>\n",
       "      <td>8.483663e+03</td>\n",
       "      <td>1728.478326</td>\n",
       "    </tr>\n",
       "    <tr>\n",
       "      <th>std</th>\n",
       "      <td>8.792364e+04</td>\n",
       "      <td>4.296438e+04</td>\n",
       "      <td>3.844671e+04</td>\n",
       "      <td>10780.622435</td>\n",
       "    </tr>\n",
       "    <tr>\n",
       "      <th>min</th>\n",
       "      <td>-5.104332e+04</td>\n",
       "      <td>-4.900000e+03</td>\n",
       "      <td>0.000000e+00</td>\n",
       "      <td>0.000000</td>\n",
       "    </tr>\n",
       "    <tr>\n",
       "      <th>25%</th>\n",
       "      <td>1.813182e+03</td>\n",
       "      <td>0.000000e+00</td>\n",
       "      <td>0.000000e+00</td>\n",
       "      <td>0.000000</td>\n",
       "    </tr>\n",
       "    <tr>\n",
       "      <th>50%</th>\n",
       "      <td>1.520828e+04</td>\n",
       "      <td>0.000000e+00</td>\n",
       "      <td>0.000000e+00</td>\n",
       "      <td>0.000000</td>\n",
       "    </tr>\n",
       "    <tr>\n",
       "      <th>75%</th>\n",
       "      <td>6.446964e+04</td>\n",
       "      <td>6.841775e+02</td>\n",
       "      <td>0.000000e+00</td>\n",
       "      <td>0.000000</td>\n",
       "    </tr>\n",
       "    <tr>\n",
       "      <th>max</th>\n",
       "      <td>5.290216e+06</td>\n",
       "      <td>2.896317e+06</td>\n",
       "      <td>3.130940e+06</td>\n",
       "      <td>459937.460000</td>\n",
       "    </tr>\n",
       "  </tbody>\n",
       "</table>\n",
       "</div>"
      ],
      "text/plain": [
       "       saldo_captacion  saldo_financiacion    saldo_ffii      saldo_plp\n",
       "count     4.513740e+05        4.513740e+05  4.513740e+05  451374.000000\n",
       "mean      4.971455e+04        1.380668e+04  8.483663e+03    1728.478326\n",
       "std       8.792364e+04        4.296438e+04  3.844671e+04   10780.622435\n",
       "min      -5.104332e+04       -4.900000e+03  0.000000e+00       0.000000\n",
       "25%       1.813182e+03        0.000000e+00  0.000000e+00       0.000000\n",
       "50%       1.520828e+04        0.000000e+00  0.000000e+00       0.000000\n",
       "75%       6.446964e+04        6.841775e+02  0.000000e+00       0.000000\n",
       "max       5.290216e+06        2.896317e+06  3.130940e+06  459937.460000"
      ]
     },
     "execution_count": 9,
     "metadata": {},
     "output_type": "execute_result"
    },
    {
     "data": {
      "image/png": "[encoded data removed]",
      "text/plain": [
       "<Figure size 720x504 with 4 Axes>"
      ]
     },
     "metadata": {
      "needs_background": "light"
     },
     "output_type": "display_data"
    }
   ],
   "source": [
    "# Se observa como la mayoria de los clientes tienen poco saldo en cada una de las variables.\n",
    "variables_ahorro_financiacion.hist(figsize = (10,7), color = 'y', bins = 40);\n",
    "variables_ahorro_financiacion.describe()"
   ]
  },
  {
   "cell_type": "markdown",
   "metadata": {},
   "source": [
    "### Bloque 3 Variables de Servicios"
   ]
  },
  {
   "cell_type": "code",
   "execution_count": 10,
   "metadata": {
    "scrolled": false
   },
   "outputs": [
    {
     "data": {
      "text/html": [
       "<div>\n",
       "<style scoped>\n",
       "    .dataframe tbody tr th:only-of-type {\n",
       "        vertical-align: middle;\n",
       "    }\n",
       "\n",
       "    .dataframe tbody tr th {\n",
       "        vertical-align: top;\n",
       "    }\n",
       "\n",
       "    .dataframe thead th {\n",
       "        text-align: right;\n",
       "    }\n",
       "</style>\n",
       "<table border=\"1\" class=\"dataframe\">\n",
       "  <thead>\n",
       "    <tr style=\"text-align: right;\">\n",
       "      <th></th>\n",
       "      <th>lp_dom_ingresos</th>\n",
       "      <th>lp_tjta_cto</th>\n",
       "      <th>lp_tjt_rev</th>\n",
       "      <th>lp_rbos</th>\n",
       "      <th>lp_of_int</th>\n",
       "    </tr>\n",
       "  </thead>\n",
       "  <tbody>\n",
       "    <tr>\n",
       "      <th>count</th>\n",
       "      <td>451374.000000</td>\n",
       "      <td>451374.000000</td>\n",
       "      <td>451374.000000</td>\n",
       "      <td>451374.000000</td>\n",
       "      <td>451374.000000</td>\n",
       "    </tr>\n",
       "    <tr>\n",
       "      <th>mean</th>\n",
       "      <td>0.707125</td>\n",
       "      <td>0.550479</td>\n",
       "      <td>0.237577</td>\n",
       "      <td>0.871856</td>\n",
       "      <td>0.773164</td>\n",
       "    </tr>\n",
       "    <tr>\n",
       "      <th>std</th>\n",
       "      <td>0.455082</td>\n",
       "      <td>0.497446</td>\n",
       "      <td>0.425599</td>\n",
       "      <td>0.334251</td>\n",
       "      <td>0.418786</td>\n",
       "    </tr>\n",
       "    <tr>\n",
       "      <th>min</th>\n",
       "      <td>0.000000</td>\n",
       "      <td>0.000000</td>\n",
       "      <td>0.000000</td>\n",
       "      <td>0.000000</td>\n",
       "      <td>0.000000</td>\n",
       "    </tr>\n",
       "    <tr>\n",
       "      <th>25%</th>\n",
       "      <td>0.000000</td>\n",
       "      <td>0.000000</td>\n",
       "      <td>0.000000</td>\n",
       "      <td>1.000000</td>\n",
       "      <td>1.000000</td>\n",
       "    </tr>\n",
       "    <tr>\n",
       "      <th>50%</th>\n",
       "      <td>1.000000</td>\n",
       "      <td>1.000000</td>\n",
       "      <td>0.000000</td>\n",
       "      <td>1.000000</td>\n",
       "      <td>1.000000</td>\n",
       "    </tr>\n",
       "    <tr>\n",
       "      <th>75%</th>\n",
       "      <td>1.000000</td>\n",
       "      <td>1.000000</td>\n",
       "      <td>0.000000</td>\n",
       "      <td>1.000000</td>\n",
       "      <td>1.000000</td>\n",
       "    </tr>\n",
       "    <tr>\n",
       "      <th>max</th>\n",
       "      <td>1.000000</td>\n",
       "      <td>1.000000</td>\n",
       "      <td>1.000000</td>\n",
       "      <td>1.000000</td>\n",
       "      <td>1.000000</td>\n",
       "    </tr>\n",
       "  </tbody>\n",
       "</table>\n",
       "</div>"
      ],
      "text/plain": [
       "       lp_dom_ingresos    lp_tjta_cto     lp_tjt_rev        lp_rbos  \\\n",
       "count    451374.000000  451374.000000  451374.000000  451374.000000   \n",
       "mean          0.707125       0.550479       0.237577       0.871856   \n",
       "std           0.455082       0.497446       0.425599       0.334251   \n",
       "min           0.000000       0.000000       0.000000       0.000000   \n",
       "25%           0.000000       0.000000       0.000000       1.000000   \n",
       "50%           1.000000       1.000000       0.000000       1.000000   \n",
       "75%           1.000000       1.000000       0.000000       1.000000   \n",
       "max           1.000000       1.000000       1.000000       1.000000   \n",
       "\n",
       "           lp_of_int  \n",
       "count  451374.000000  \n",
       "mean        0.773164  \n",
       "std         0.418786  \n",
       "min         0.000000  \n",
       "25%         1.000000  \n",
       "50%         1.000000  \n",
       "75%         1.000000  \n",
       "max         1.000000  "
      ]
     },
     "execution_count": 10,
     "metadata": {},
     "output_type": "execute_result"
    },
    {
     "data": {
      "image/png": "[encoded data removed]",
      "text/plain": [
       "<Figure size 576x576 with 6 Axes>"
      ]
     },
     "metadata": {
      "needs_background": "light"
     },
     "output_type": "display_data"
    }
   ],
   "source": [
    "# Variables de servicio, se comprueba que en gral hay mas clientes que tienen el servicio de los que no\n",
    "variables_servicio.hist(figsize = (8,8), color = 'y');\n",
    "variables_servicio.describe()"
   ]
  },
  {
   "cell_type": "code",
   "execution_count": 11,
   "metadata": {
    "scrolled": false
   },
   "outputs": [
    {
     "name": "stdout",
     "output_type": "stream",
     "text": [
      "INFORMACION VARIABLES SERVICIOS\n",
      "====================================\n",
      "1    0.707125\n",
      "0    0.292875\n",
      "Name: lp_dom_ingresos, dtype: float64\n",
      "====================================\n",
      "1    0.550479\n",
      "0    0.449521\n",
      "Name: lp_tjta_cto, dtype: float64\n",
      "====================================\n",
      "0    0.762423\n",
      "1    0.237577\n",
      "Name: lp_tjt_rev, dtype: float64\n",
      "====================================\n",
      "1    0.871856\n",
      "0    0.128144\n",
      "Name: lp_rbos, dtype: float64\n",
      "====================================\n",
      "1    0.773164\n",
      "0    0.226836\n",
      "Name: lp_of_int, dtype: float64\n",
      "====================================\n"
     ]
    }
   ],
   "source": [
    "\n",
    "print('INFORMACION VARIABLES SERVICIOS')\n",
    "print('====================================')\n",
    "print (df['lp_dom_ingresos'].value_counts(normalize = True))\n",
    "print('====================================')\n",
    "print (df['lp_tjta_cto'].value_counts(normalize = True))\n",
    "print('====================================')\n",
    "print (df['lp_tjt_rev'].value_counts(normalize = True))\n",
    "print('====================================')\n",
    "print (df['lp_rbos'].value_counts(normalize = True))\n",
    "print('====================================')\n",
    "print (df['lp_of_int'].value_counts(normalize = True))\n",
    "print('====================================')\n"
   ]
  },
  {
   "cell_type": "markdown",
   "metadata": {},
   "source": [
    "### Bloque 4 Variables de Seguros"
   ]
  },
  {
   "cell_type": "code",
   "execution_count": 12,
   "metadata": {
    "scrolled": false
   },
   "outputs": [
    {
     "data": {
      "text/html": [
       "<div>\n",
       "<style scoped>\n",
       "    .dataframe tbody tr th:only-of-type {\n",
       "        vertical-align: middle;\n",
       "    }\n",
       "\n",
       "    .dataframe tbody tr th {\n",
       "        vertical-align: top;\n",
       "    }\n",
       "\n",
       "    .dataframe thead th {\n",
       "        text-align: right;\n",
       "    }\n",
       "</style>\n",
       "<table border=\"1\" class=\"dataframe\">\n",
       "  <thead>\n",
       "    <tr style=\"text-align: right;\">\n",
       "      <th></th>\n",
       "      <th>lp_seg_vida</th>\n",
       "      <th>lp_seg_acc</th>\n",
       "      <th>lp_seg_salud</th>\n",
       "      <th>lp_seg_auto</th>\n",
       "      <th>lp_seg_hogar</th>\n",
       "    </tr>\n",
       "  </thead>\n",
       "  <tbody>\n",
       "    <tr>\n",
       "      <th>count</th>\n",
       "      <td>451374.000000</td>\n",
       "      <td>451374.000000</td>\n",
       "      <td>451374.000000</td>\n",
       "      <td>451374.000000</td>\n",
       "      <td>451374.000000</td>\n",
       "    </tr>\n",
       "    <tr>\n",
       "      <th>mean</th>\n",
       "      <td>0.083868</td>\n",
       "      <td>0.019997</td>\n",
       "      <td>0.004263</td>\n",
       "      <td>0.013807</td>\n",
       "      <td>0.130293</td>\n",
       "    </tr>\n",
       "    <tr>\n",
       "      <th>std</th>\n",
       "      <td>0.277191</td>\n",
       "      <td>0.139989</td>\n",
       "      <td>0.065149</td>\n",
       "      <td>0.116688</td>\n",
       "      <td>0.336626</td>\n",
       "    </tr>\n",
       "    <tr>\n",
       "      <th>min</th>\n",
       "      <td>0.000000</td>\n",
       "      <td>0.000000</td>\n",
       "      <td>0.000000</td>\n",
       "      <td>0.000000</td>\n",
       "      <td>0.000000</td>\n",
       "    </tr>\n",
       "    <tr>\n",
       "      <th>25%</th>\n",
       "      <td>0.000000</td>\n",
       "      <td>0.000000</td>\n",
       "      <td>0.000000</td>\n",
       "      <td>0.000000</td>\n",
       "      <td>0.000000</td>\n",
       "    </tr>\n",
       "    <tr>\n",
       "      <th>50%</th>\n",
       "      <td>0.000000</td>\n",
       "      <td>0.000000</td>\n",
       "      <td>0.000000</td>\n",
       "      <td>0.000000</td>\n",
       "      <td>0.000000</td>\n",
       "    </tr>\n",
       "    <tr>\n",
       "      <th>75%</th>\n",
       "      <td>0.000000</td>\n",
       "      <td>0.000000</td>\n",
       "      <td>0.000000</td>\n",
       "      <td>0.000000</td>\n",
       "      <td>0.000000</td>\n",
       "    </tr>\n",
       "    <tr>\n",
       "      <th>max</th>\n",
       "      <td>1.000000</td>\n",
       "      <td>1.000000</td>\n",
       "      <td>1.000000</td>\n",
       "      <td>1.000000</td>\n",
       "      <td>1.000000</td>\n",
       "    </tr>\n",
       "  </tbody>\n",
       "</table>\n",
       "</div>"
      ],
      "text/plain": [
       "         lp_seg_vida     lp_seg_acc   lp_seg_salud    lp_seg_auto  \\\n",
       "count  451374.000000  451374.000000  451374.000000  451374.000000   \n",
       "mean        0.083868       0.019997       0.004263       0.013807   \n",
       "std         0.277191       0.139989       0.065149       0.116688   \n",
       "min         0.000000       0.000000       0.000000       0.000000   \n",
       "25%         0.000000       0.000000       0.000000       0.000000   \n",
       "50%         0.000000       0.000000       0.000000       0.000000   \n",
       "75%         0.000000       0.000000       0.000000       0.000000   \n",
       "max         1.000000       1.000000       1.000000       1.000000   \n",
       "\n",
       "        lp_seg_hogar  \n",
       "count  451374.000000  \n",
       "mean        0.130293  \n",
       "std         0.336626  \n",
       "min         0.000000  \n",
       "25%         0.000000  \n",
       "50%         0.000000  \n",
       "75%         0.000000  \n",
       "max         1.000000  "
      ]
     },
     "execution_count": 12,
     "metadata": {},
     "output_type": "execute_result"
    },
    {
     "data": {
      "image/png": "[encoded data removed]",
      "text/plain": [
       "<Figure size 576x576 with 6 Axes>"
      ]
     },
     "metadata": {
      "needs_background": "light"
     },
     "output_type": "display_data"
    }
   ],
   "source": [
    "# Entre estas variables e encuentra nuestro TARGET. Seguro de Hogar.\n",
    "# Se comprueba como en general la mayoria de los clientes no tienen el seguro de referencia.\n",
    "variables_seguros.hist(figsize = (8,8), color = 'y');\n",
    "variables_seguros.describe()"
   ]
  },
  {
   "cell_type": "code",
   "execution_count": 13,
   "metadata": {},
   "outputs": [
    {
     "name": "stdout",
     "output_type": "stream",
     "text": [
      "INFORMACION VARIABLES SEGUROS\n",
      "====================================\n",
      "0    0.916132\n",
      "1    0.083868\n",
      "Name: lp_seg_vida, dtype: float64\n",
      "====================================\n",
      "0    0.980003\n",
      "1    0.019997\n",
      "Name: lp_seg_acc, dtype: float64\n",
      "====================================\n",
      "0    0.995737\n",
      "1    0.004263\n",
      "Name: lp_seg_salud, dtype: float64\n",
      "====================================\n",
      "0    0.986193\n",
      "1    0.013807\n",
      "Name: lp_seg_auto, dtype: float64\n",
      "====================================\n",
      "0    0.869707\n",
      "1    0.130293\n",
      "Name: lp_seg_hogar, dtype: float64\n",
      "====================================\n"
     ]
    }
   ],
   "source": [
    "print('INFORMACION VARIABLES SEGUROS')\n",
    "print('====================================')\n",
    "print(df['lp_seg_vida'].value_counts(normalize = True))\n",
    "print('====================================')  \n",
    "print(df['lp_seg_acc'].value_counts(normalize = True))\n",
    "print('====================================')  \n",
    "print(df['lp_seg_salud'].value_counts(normalize = True))\n",
    "print('====================================')  \n",
    "print(df['lp_seg_auto'].value_counts(normalize = True))\n",
    "print('====================================')  \n",
    "print(df['lp_seg_hogar'].value_counts(normalize = True))\n",
    "print('====================================')\n"
   ]
  },
  {
   "cell_type": "markdown",
   "metadata": {},
   "source": [
    "###  Bloque 5 Variables Segmentacion"
   ]
  },
  {
   "cell_type": "code",
   "execution_count": 14,
   "metadata": {},
   "outputs": [
    {
     "name": "stdout",
     "output_type": "stream",
     "text": [
      "INFORMACION VARIABLES CATEGORICAS\n",
      "====================================\n",
      "SI    0.904416\n",
      "NO    0.095584\n",
      "Name: esta_carterizado, dtype: float64\n",
      "====================================\n",
      "NO    1.0\n",
      "Name: cliente_bbp, dtype: float64\n",
      "====================================\n",
      "ASESOR FINANCIERO          0.894690\n",
      "SIN GESTOR                 0.095584\n",
      "SUBDIRECCIÓN DE OFICINA    0.009726\n",
      "Name: tipo_gestor, dtype: float64\n",
      "====================================\n",
      "ASESORAMIENTO FINANCIERO    0.697767\n",
      "TUTELA                      0.206649\n",
      "SIN CARTERA                 0.095584\n",
      "Name: cartera_patron, dtype: float64\n",
      "====================================\n",
      "SI    0.510096\n",
      "NO    0.489904\n",
      "Name: digital_3_meses, dtype: float64\n",
      "====================================\n",
      "NO    0.720633\n",
      "SI    0.279367\n",
      "Name: marca_bp, dtype: float64\n",
      "====================================\n",
      "SIN USO          0.430175\n",
      "CONSULTIVO       0.264466\n",
      "TRANSACCIONAL    0.215511\n",
      "POCO USO         0.058242\n",
      "COMPRADOR        0.031606\n",
      "Name: camino_digital, dtype: float64\n",
      "====================================\n",
      "AF           0.612485\n",
      "SIN MARCA    0.270126\n",
      "CCTE         0.117388\n",
      "Name: marca_ccte, dtype: float64\n",
      "====================================\n",
      "ALTO     0.552963\n",
      "MEDIO    0.298890\n",
      "BAJO     0.148148\n",
      "Name: seg_valor, dtype: float64\n",
      "====================================\n",
      "ALTO RECORRIDO     0.363315\n",
      "MEDIO RECORRIDO    0.332148\n",
      "BAJO RECORRIDO     0.283333\n",
      "NO CALCULADO       0.021204\n",
      "Name: seg_recorrido, dtype: float64\n"
     ]
    }
   ],
   "source": [
    "# Informacion variables categoricas\n",
    "print('INFORMACION VARIABLES CATEGORICAS')\n",
    "print('====================================')  \n",
    "print(df['esta_carterizado'].value_counts(normalize = True))\n",
    "print('====================================')  \n",
    "print(df['cliente_bbp'].value_counts(normalize = True))\n",
    "print('====================================')  \n",
    "print(df['tipo_gestor'].value_counts(normalize = True))\n",
    "print('====================================')  \n",
    "print(df['cartera_patron'].value_counts(normalize = True))\n",
    "print('====================================')  \n",
    "print(df['digital_3_meses'].value_counts(normalize = True))\n",
    "print('====================================')  \n",
    "print(df['marca_bp'].value_counts(normalize = True))\n",
    "print('====================================')  \n",
    "print(df['camino_digital'].value_counts(normalize = True))\n",
    "print('====================================')  \n",
    "print(df['marca_ccte'].value_counts(normalize = True))\n",
    "print('====================================')  \n",
    "print(df['seg_valor'].value_counts(normalize = True))\n",
    "print('====================================')  \n",
    "print(df['seg_recorrido'].value_counts(normalize = True))\n"
   ]
  },
  {
   "cell_type": "markdown",
   "metadata": {},
   "source": [
    "### Bloque 6  Variables unidades de Negocio"
   ]
  },
  {
   "cell_type": "code",
   "execution_count": 15,
   "metadata": {},
   "outputs": [
    {
     "name": "stdout",
     "output_type": "stream",
     "text": [
      "INFORMACION VARIABLES UNIDADES DE NEGOCIO\n",
      "====================================\n",
      "Numero Clientes:  451374\n",
      "Numero Direcciones Zona:  11\n",
      "Numero Oficinas:  162\n",
      "Numero Gestores:  458\n"
     ]
    }
   ],
   "source": [
    "#  **** MAPA CONTEXTUAL **** Informacion Unidades de Negocio.\n",
    "print('INFORMACION VARIABLES UNIDADES DE NEGOCIO')\n",
    "print('====================================')  \n",
    "print('Numero Clientes: ', df['cliente'].nunique())\n",
    "print('Numero Direcciones Zona: ',df['dz'].nunique())\n",
    "print('Numero Oficinas: ', df['oficina'].nunique())\n",
    "print('Numero Gestores: ', df['gestor'].nunique())\n"
   ]
  },
  {
   "cell_type": "code",
   "execution_count": 63,
   "metadata": {
    "scrolled": true
   },
   "outputs": [
    {
     "data": {
      "text/html": [
       "<div>\n",
       "<style scoped>\n",
       "    .dataframe tbody tr th:only-of-type {\n",
       "        vertical-align: middle;\n",
       "    }\n",
       "\n",
       "    .dataframe tbody tr th {\n",
       "        vertical-align: top;\n",
       "    }\n",
       "\n",
       "    .dataframe thead th {\n",
       "        text-align: right;\n",
       "    }\n",
       "</style>\n",
       "<table border=\"1\" class=\"dataframe\">\n",
       "  <thead>\n",
       "    <tr style=\"text-align: right;\">\n",
       "      <th></th>\n",
       "      <th>cliente</th>\n",
       "      <th>gestor</th>\n",
       "      <th>codigo_cartera</th>\n",
       "      <th>oficina</th>\n",
       "      <th>dz</th>\n",
       "    </tr>\n",
       "  </thead>\n",
       "  <tbody>\n",
       "    <tr>\n",
       "      <th>0</th>\n",
       "      <td>1</td>\n",
       "      <td>18287.0</td>\n",
       "      <td>14881.0</td>\n",
       "      <td>210</td>\n",
       "      <td>2</td>\n",
       "    </tr>\n",
       "    <tr>\n",
       "      <th>1</th>\n",
       "      <td>2</td>\n",
       "      <td>18287.0</td>\n",
       "      <td>14881.0</td>\n",
       "      <td>210</td>\n",
       "      <td>2</td>\n",
       "    </tr>\n",
       "    <tr>\n",
       "      <th>2</th>\n",
       "      <td>3</td>\n",
       "      <td>18287.0</td>\n",
       "      <td>28332.0</td>\n",
       "      <td>210</td>\n",
       "      <td>2</td>\n",
       "    </tr>\n",
       "    <tr>\n",
       "      <th>3</th>\n",
       "      <td>4</td>\n",
       "      <td>41475.0</td>\n",
       "      <td>14204.0</td>\n",
       "      <td>210</td>\n",
       "      <td>2</td>\n",
       "    </tr>\n",
       "    <tr>\n",
       "      <th>4</th>\n",
       "      <td>5</td>\n",
       "      <td>39000.0</td>\n",
       "      <td>14219.0</td>\n",
       "      <td>210</td>\n",
       "      <td>2</td>\n",
       "    </tr>\n",
       "    <tr>\n",
       "      <th>...</th>\n",
       "      <td>...</td>\n",
       "      <td>...</td>\n",
       "      <td>...</td>\n",
       "      <td>...</td>\n",
       "      <td>...</td>\n",
       "    </tr>\n",
       "    <tr>\n",
       "      <th>451369</th>\n",
       "      <td>451370</td>\n",
       "      <td>10415.0</td>\n",
       "      <td>14297.0</td>\n",
       "      <td>1024</td>\n",
       "      <td>10</td>\n",
       "    </tr>\n",
       "    <tr>\n",
       "      <th>451370</th>\n",
       "      <td>451371</td>\n",
       "      <td>35494.0</td>\n",
       "      <td>40785.0</td>\n",
       "      <td>1024</td>\n",
       "      <td>10</td>\n",
       "    </tr>\n",
       "    <tr>\n",
       "      <th>451371</th>\n",
       "      <td>451372</td>\n",
       "      <td>10415.0</td>\n",
       "      <td>27685.0</td>\n",
       "      <td>1024</td>\n",
       "      <td>10</td>\n",
       "    </tr>\n",
       "    <tr>\n",
       "      <th>451372</th>\n",
       "      <td>451373</td>\n",
       "      <td>10415.0</td>\n",
       "      <td>27685.0</td>\n",
       "      <td>1024</td>\n",
       "      <td>10</td>\n",
       "    </tr>\n",
       "    <tr>\n",
       "      <th>451373</th>\n",
       "      <td>451374</td>\n",
       "      <td>35494.0</td>\n",
       "      <td>15858.0</td>\n",
       "      <td>1024</td>\n",
       "      <td>10</td>\n",
       "    </tr>\n",
       "  </tbody>\n",
       "</table>\n",
       "<p>451374 rows × 5 columns</p>\n",
       "</div>"
      ],
      "text/plain": [
       "        cliente   gestor  codigo_cartera  oficina  dz\n",
       "0             1  18287.0         14881.0      210   2\n",
       "1             2  18287.0         14881.0      210   2\n",
       "2             3  18287.0         28332.0      210   2\n",
       "3             4  41475.0         14204.0      210   2\n",
       "4             5  39000.0         14219.0      210   2\n",
       "...         ...      ...             ...      ...  ..\n",
       "451369   451370  10415.0         14297.0     1024  10\n",
       "451370   451371  35494.0         40785.0     1024  10\n",
       "451371   451372  10415.0         27685.0     1024  10\n",
       "451372   451373  10415.0         27685.0     1024  10\n",
       "451373   451374  35494.0         15858.0     1024  10\n",
       "\n",
       "[451374 rows x 5 columns]"
      ]
     },
     "execution_count": 63,
     "metadata": {},
     "output_type": "execute_result"
    }
   ],
   "source": [
    "variables_unidad_negocio"
   ]
  },
  {
   "cell_type": "code",
   "execution_count": 16,
   "metadata": {},
   "outputs": [
    {
     "name": "stdout",
     "output_type": "stream",
     "text": [
      "Numero de Oficinas por DZ \n",
      "dz\n",
      "1     15\n",
      "2     13\n",
      "3     17\n",
      "4     16\n",
      "5     17\n",
      "6     15\n",
      "7     13\n",
      "8     11\n",
      "9     16\n",
      "10    15\n",
      "11    14\n",
      "Name: oficina, dtype: int64\n"
     ]
    },
    {
     "data": {
      "image/png": "[encoded data removed]",
      "text/plain": [
       "<Figure size 432x288 with 1 Axes>"
      ]
     },
     "metadata": {
      "needs_background": "light"
     },
     "output_type": "display_data"
    }
   ],
   "source": [
    "# Numero oficinas por cada DZ\n",
    "print('Numero de Oficinas por DZ ')\n",
    "print(df.groupby('dz')['oficina'].nunique())\n",
    "df.groupby('dz')['oficina'].nunique().plot(kind = 'bar', legend = 'Reverse', grid = True, color = 'y')\n",
    "plt.show()"
   ]
  },
  {
   "cell_type": "code",
   "execution_count": 17,
   "metadata": {},
   "outputs": [
    {
     "name": "stdout",
     "output_type": "stream",
     "text": [
      "Numero de Clientes por DZ \n",
      "dz\n",
      "1     45534\n",
      "2     35406\n",
      "3     48081\n",
      "4     38749\n",
      "5     51468\n",
      "6     42198\n",
      "7     37926\n",
      "8     21690\n",
      "9     40227\n",
      "10    42360\n",
      "11    47735\n",
      "Name: cliente, dtype: int64\n"
     ]
    },
    {
     "data": {
      "image/png": "[encoded data removed]",
      "text/plain": [
       "<Figure size 432x288 with 1 Axes>"
      ]
     },
     "metadata": {
      "needs_background": "light"
     },
     "output_type": "display_data"
    }
   ],
   "source": [
    "# Numero Clientes por cada DZ\n",
    "print('Numero de Clientes por DZ ')\n",
    "print(df.groupby('dz')['cliente'].nunique())\n",
    "df.groupby('dz')['cliente'].nunique().plot(kind = 'bar', legend = 'Reverse', grid = True, color = 'y')\n",
    "plt.show()"
   ]
  },
  {
   "cell_type": "code",
   "execution_count": 18,
   "metadata": {},
   "outputs": [
    {
     "data": {
      "text/plain": [
       "count     162.000000\n",
       "mean     2786.259259\n",
       "std      1025.420335\n",
       "min      1185.000000\n",
       "25%      2000.500000\n",
       "50%      2619.500000\n",
       "75%      3357.000000\n",
       "max      5755.000000\n",
       "Name: cliente, dtype: float64"
      ]
     },
     "execution_count": 18,
     "metadata": {},
     "output_type": "execute_result"
    }
   ],
   "source": [
    "# Numero Clientes por oficina\n",
    "# Informacion estadistica de los clientes por oficinas\n",
    "df.groupby('oficina')['cliente'].nunique().describe()"
   ]
  },
  {
   "cell_type": "code",
   "execution_count": 19,
   "metadata": {
    "scrolled": false
   },
   "outputs": [
    {
     "data": {
      "image/png": "[encoded data removed]",
      "text/plain": [
       "<Figure size 432x288 with 1 Axes>"
      ]
     },
     "metadata": {
      "needs_background": "light"
     },
     "output_type": "display_data"
    }
   ],
   "source": [
    "# Numero de gestores por DZ\n",
    "df.groupby('dz')['gestor'].nunique().describe\n",
    "df.groupby('dz')['gestor'].nunique().plot(kind = 'bar', legend = 'Reverse', grid = True, color = 'y')\n",
    "plt.show()\n"
   ]
  },
  {
   "cell_type": "code",
   "execution_count": 20,
   "metadata": {},
   "outputs": [
    {
     "data": {
      "text/plain": [
       "count    11.000000\n",
       "mean     45.818182\n",
       "std       8.931049\n",
       "min      25.000000\n",
       "25%      41.500000\n",
       "50%      48.000000\n",
       "75%      52.500000\n",
       "max      55.000000\n",
       "Name: gestor, dtype: float64"
      ]
     },
     "execution_count": 20,
     "metadata": {},
     "output_type": "execute_result"
    }
   ],
   "source": [
    "df.groupby('dz')['gestor'].nunique().describe()"
   ]
  },
  {
   "cell_type": "markdown",
   "metadata": {},
   "source": [
    "### Una vez estudiadas las variables en bloques ,  de cara a ir pensando en el modelo de clasificacion buscaremos de forma grafica las posibles correlaciones que pueda haber entre las variables. "
   ]
  },
  {
   "cell_type": "markdown",
   "metadata": {},
   "source": [
    "###  Correlaciones entre Variables"
   ]
  },
  {
   "cell_type": "code",
   "execution_count": 21,
   "metadata": {},
   "outputs": [
    {
     "data": {
      "image/png": "[encoded data removed]",
      "text/plain": [
       "<Figure size 1080x720 with 2 Axes>"
      ]
     },
     "metadata": {
      "needs_background": "light"
     },
     "output_type": "display_data"
    }
   ],
   "source": [
    "# Existencia de correlacion entre variables numericas - Ploteamos la matriz de correlacion \n",
    "# En general baja correlacion entre las variables\n",
    "# En alguna ocasion se visializa correlacion negativa\n",
    "import seaborn as sns\n",
    "correlation_mat = df.corr()\n",
    "fig, ax = plt.subplots(figsize=(15,10)) \n",
    "sns.heatmap(correlation_mat, annot = True, cmap = 'coolwarm', square = True, \n",
    "            linewidths=.5, fmt=\".1f\",annot_kws={'size':10},ax=ax)\n",
    "\n",
    "plt.show()"
   ]
  },
  {
   "cell_type": "markdown",
   "metadata": {},
   "source": [
    "## __ESTUDIO DEL TARGET __Seguro_Hogar____"
   ]
  },
  {
   "cell_type": "markdown",
   "metadata": {},
   "source": [
    "- Que estructura tiene el Target ?\n",
    "- Como se relaciona con el resto de variables\n",
    "- Son importantes todas las variables ?\n",
    "- Podemos descartar alguna variable de cara al modelo ?"
   ]
  },
  {
   "cell_type": "code",
   "execution_count": 22,
   "metadata": {},
   "outputs": [
    {
     "data": {
      "text/plain": [
       "array([1, 0])"
      ]
     },
     "execution_count": 22,
     "metadata": {},
     "output_type": "execute_result"
    }
   ],
   "source": [
    "# Variable Binaria.  1 Tiene Seguro - 0 No tiene Seguro\n",
    "df['lp_seg_hogar'].unique()"
   ]
  },
  {
   "cell_type": "markdown",
   "metadata": {},
   "source": [
    "### Estructura de Target"
   ]
  },
  {
   "cell_type": "code",
   "execution_count": 65,
   "metadata": {},
   "outputs": [
    {
     "name": "stdout",
     "output_type": "stream",
     "text": [
      "0    0.869707\n",
      "1    0.130293\n",
      "Name: lp_seg_hogar, dtype: float64\n"
     ]
    },
    {
     "data": {
      "image/png": "[encoded data removed]",
      "text/plain": [
       "<Figure size 432x288 with 1 Axes>"
      ]
     },
     "metadata": {},
     "output_type": "display_data"
    },
    {
     "name": "stdout",
     "output_type": "stream",
     "text": [
      "0    392563\n",
      "1     58811\n",
      "Name: lp_seg_hogar, dtype: int64\n"
     ]
    }
   ],
   "source": [
    "seguro_hogar = pd.value_counts(df['lp_seg_hogar'], sort = True, normalize = True)\n",
    "print (seguro_hogar)\n",
    "\n",
    "# Ploteamos el desbalanceo de la variable Target para una mejor visualizacion\n",
    "# Vemos % y numero de clientes\n",
    "\n",
    "seguro_hogar.plot(kind = 'pie', rot = 0)\n",
    "plt.xlabel('Seguro Hogar')\n",
    "plt.show()\n",
    "print(df['lp_seg_hogar'].value_counts())"
   ]
  },
  {
   "cell_type": "code",
   "execution_count": 50,
   "metadata": {},
   "outputs": [
    {
     "name": "stdout",
     "output_type": "stream",
     "text": [
      "dz\n",
      "1     6824\n",
      "2     5957\n",
      "3     7233\n",
      "4     4258\n",
      "5     6524\n",
      "6     5334\n",
      "7     4614\n",
      "8     2274\n",
      "9     3527\n",
      "10    6176\n",
      "11    6090\n",
      "Name: lp_seg_hogar, dtype: int64\n"
     ]
    },
    {
     "data": {
      "text/plain": [
       "<AxesSubplot:xlabel='dz'>"
      ]
     },
     "execution_count": 50,
     "metadata": {},
     "output_type": "execute_result"
    },
    {
     "data": {
      "image/png": "[encoded data removed]",
      "text/plain": [
       "<Figure size 432x288 with 1 Axes>"
      ]
     },
     "metadata": {
      "needs_background": "light"
     },
     "output_type": "display_data"
    }
   ],
   "source": [
    "# Numero de clientes con Seguro de Hogar por DZ\n",
    "print(df.groupby('dz')['lp_seg_hogar'].sum())\n",
    "df.groupby('dz')['lp_seg_hogar'].sum().plot(kind ='bar',legend = 'Reverse', grid = True, color = 'y', rot = 0)"
   ]
  },
  {
   "cell_type": "code",
   "execution_count": 67,
   "metadata": {},
   "outputs": [
    {
     "data": {
      "text/plain": [
       "<AxesSubplot:xlabel='edad'>"
      ]
     },
     "execution_count": 67,
     "metadata": {},
     "output_type": "execute_result"
    },
    {
     "data": {
      "image/png": "[encoded data removed]",
      "text/plain": [
       "<Figure size 432x288 with 1 Axes>"
      ]
     },
     "metadata": {
      "needs_background": "light"
     },
     "output_type": "display_data"
    }
   ],
   "source": [
    "# Clientes con Seguro de Hogar segun las edades\n",
    "# Count refleja el Numero total de clientes en el segmento edad\n",
    "# Sum refleja Numero de clientes con Seguro de Hogar\n",
    "segmentacion_por_edad = pd.cut(df['edad'], bins=(0, 25, 50, 75, 120))\n",
    "df.groupby(segmentacion_por_edad)[['lp_seg_hogar']].agg(['count','sum']).plot(kind = 'bar')"
   ]
  },
  {
   "cell_type": "markdown",
   "metadata": {},
   "source": [
    "# ***** AQUI ME HE QUEDADO EN EDA *****  CONTINUAR EN EL OTRO NB"
   ]
  },
  {
   "cell_type": "code",
   "execution_count": null,
   "metadata": {},
   "outputs": [],
   "source": []
  },
  {
   "cell_type": "code",
   "execution_count": null,
   "metadata": {},
   "outputs": [],
   "source": []
  },
  {
   "cell_type": "code",
   "execution_count": null,
   "metadata": {},
   "outputs": [],
   "source": []
  },
  {
   "cell_type": "code",
   "execution_count": null,
   "metadata": {},
   "outputs": [],
   "source": []
  },
  {
   "cell_type": "markdown",
   "metadata": {},
   "source": [
    "# ****CONSTRUCCION DEL MODELO****"
   ]
  },
  {
   "cell_type": "markdown",
   "metadata": {},
   "source": [
    "## Iniciamos la construccion de este primer modelo de clasificacion. \n",
    "## (Modelo 0.0) Regresion Lineal\n",
    "Esta primera aproximacion al modelo se construye sin realizar ningun otro procesamiento.  Se construye en crudo.\n",
    "   \n",
    "    - Target Seguro de hogar.\n",
    "    - Como inputs cogemos todas las variables numericas.( Etiquetadas y no etiquetadas, excepto Uds de Negocio)\n"
   ]
  },
  {
   "cell_type": "code",
   "execution_count": 23,
   "metadata": {},
   "outputs": [
    {
     "name": "stdout",
     "output_type": "stream",
     "text": [
      "Nº Datos X = 6319236\n",
      "Dimension X = (451374, 14)\n",
      "==========================\n",
      "Nº Datos y = 451374\n",
      "Dimersion y = (451374,)\n"
     ]
    }
   ],
   "source": [
    "# Asignamos Target e Inputs a nuestro modelo\n",
    "datos_numericos = df.select_dtypes('number')\n",
    "X = datos_numericos.drop(['lp_seg_hogar'],1) # se inluyen todas las variables\n",
    "y= df['lp_seg_hogar'] # Target\n",
    "print('Nº Datos X =', X.size)\n",
    "print('Dimension X =', X.shape)\n",
    "print('='*26)\n",
    "print('Nº Datos y =', y.size)\n",
    "print('Dimersion y =', y.shape)"
   ]
  },
  {
   "cell_type": "code",
   "execution_count": 24,
   "metadata": {},
   "outputs": [],
   "source": [
    "# Cargamos la libreria del modelo de clasificacion que hemos eligido inicialmente.  Regresion Logistica.\n",
    "from sklearn.linear_model import LogisticRegression"
   ]
  },
  {
   "cell_type": "code",
   "execution_count": 25,
   "metadata": {},
   "outputs": [],
   "source": [
    "# Creamos la instancia del modelo de clasificacion\n",
    "modelo00 = LogisticRegression()"
   ]
  },
  {
   "cell_type": "code",
   "execution_count": 26,
   "metadata": {},
   "outputs": [
    {
     "data": {
      "text/plain": [
       "LogisticRegression()"
      ]
     },
     "execution_count": 26,
     "metadata": {},
     "output_type": "execute_result"
    }
   ],
   "source": [
    "# Ajustamos el modelo\n",
    "modelo00.fit(X,y)"
   ]
  },
  {
   "cell_type": "code",
   "execution_count": 27,
   "metadata": {
    "scrolled": false
   },
   "outputs": [
    {
     "data": {
      "text/plain": [
       "array([1, 1, 1, ..., 0, 0, 0])"
      ]
     },
     "execution_count": 27,
     "metadata": {},
     "output_type": "execute_result"
    }
   ],
   "source": [
    "# Hacemos las primeras predicciones\n",
    "predicciones_modelo00 = modelo00.predict(X)\n",
    "predicciones_modelo00"
   ]
  },
  {
   "cell_type": "markdown",
   "metadata": {},
   "source": [
    "### ENTRENAMIENTO Train-Test Split \n",
    "\n",
    "Vamos a dividir el data set en dos grupos. Uno primero de entrenamiento y un segundo de validacion. \n",
    "\n",
    "Este segundo grupo no se utiliza durante el entrenamiento. \n",
    "\n",
    "Dado que nuestra base de datos es grande, decidimos dar un peso del 80 % al grupo de entrenamiento y un 20% al grupo de validacion.\n"
   ]
  },
  {
   "cell_type": "code",
   "execution_count": 28,
   "metadata": {},
   "outputs": [],
   "source": [
    "# Cargamos la libreria para poder entrenar nuestro modelo\n",
    "from sklearn.model_selection import train_test_split"
   ]
  },
  {
   "cell_type": "code",
   "execution_count": 29,
   "metadata": {},
   "outputs": [],
   "source": [
    "# Creamos dos grupos con Input y etiquetas  \n",
    "# Asignamos la proporcion de 80-20 para el train y el test\n",
    "test_size = 0.2\n",
    "seed = 1\n",
    "X_train, X_test, y_train, y_test = train_test_split(X, y, test_size = test_size, random_state = seed)"
   ]
  },
  {
   "cell_type": "code",
   "execution_count": 30,
   "metadata": {},
   "outputs": [
    {
     "data": {
      "text/plain": [
       "LogisticRegression()"
      ]
     },
     "execution_count": 30,
     "metadata": {},
     "output_type": "execute_result"
    }
   ],
   "source": [
    "# Ajustamos y entrenamos solo con el grupo de Entreamiento\n",
    "modelo00.fit(X_train,y_train)"
   ]
  },
  {
   "cell_type": "code",
   "execution_count": 31,
   "metadata": {},
   "outputs": [
    {
     "data": {
      "text/plain": [
       "array([0, 0, 0, ..., 0, 0, 0])"
      ]
     },
     "execution_count": 31,
     "metadata": {},
     "output_type": "execute_result"
    }
   ],
   "source": [
    "#  Haemos las prediciones de todo el X_test\n",
    "predicciones_train_modelo00 = modelo00.predict(X_test)\n",
    "predicciones_train_modelo00"
   ]
  },
  {
   "cell_type": "markdown",
   "metadata": {},
   "source": [
    "### Utilizacion de Metricas\n",
    "\n",
    "Una vez realizado nuestro modelo 00 inicial queremos saber como de exacto es para lo cual utilizamos distintas metricas que nos daran datos con los podremos decidir si hay que continuar gestionando el modelo o es un modelo bueno. \n",
    "\n",
    "Utilizaremos las metricas mas comunes para los metodos de clasificacion.\n",
    "    - accuracy_score - precision_score - recall_score - f1_score - roc_curve\n",
    "\n"
   ]
  },
  {
   "cell_type": "code",
   "execution_count": 32,
   "metadata": {},
   "outputs": [],
   "source": [
    "# Cargamos librerias de metricas\n",
    "from sklearn.metrics import f1_score, recall_score, precision_score, accuracy_score\n",
    "from sklearn.metrics import roc_auc_score, roc_curve\n",
    "from sklearn.metrics import confusion_matrix\n",
    "from sklearn.metrics import classification_report"
   ]
  },
  {
   "cell_type": "markdown",
   "metadata": {},
   "source": [
    "Como primer paso y antes de visualizar el resultado de las metricas, definimos una funcion para imprimir la matriz de confusion para pode entender luego los resultados"
   ]
  },
  {
   "cell_type": "code",
   "execution_count": 33,
   "metadata": {},
   "outputs": [],
   "source": [
    "def matriz_confusion (modelo):    \n",
    "    \n",
    "    matriz_confusion_modelo = confusion_matrix(y_test,modelo.predict(X_test))\n",
    "    print('False Positives',matriz_confusion_modelo[1][0])\n",
    "    print('True Positives',matriz_confusion_modelo[1][1])\n",
    "    pl.matshow(confusion_matrix(y_test,modelo.predict(X_test)))\n",
    "    pl.title('Matriz de Confusion')\n",
    "    pl.colorbar()\n",
    "    pl.show()\n",
    "     \n",
    "    return matriz_confusion_modelo"
   ]
  },
  {
   "cell_type": "code",
   "execution_count": 34,
   "metadata": {},
   "outputs": [
    {
     "name": "stdout",
     "output_type": "stream",
     "text": [
      "False Positives 11460\n",
      "True Positives 289\n"
     ]
    },
    {
     "data": {
      "image/png": "[encoded data removed]",
      "text/plain": [
       "<Figure size 288x288 with 2 Axes>"
      ]
     },
     "metadata": {
      "needs_background": "light"
     },
     "output_type": "display_data"
    },
    {
     "data": {
      "text/plain": [
       "array([[78223,   303],\n",
       "       [11460,   289]])"
      ]
     },
     "execution_count": 34,
     "metadata": {},
     "output_type": "execute_result"
    }
   ],
   "source": [
    "matriz_confusion(modelo00)"
   ]
  },
  {
   "cell_type": "markdown",
   "metadata": {},
   "source": [
    "Los resultados obtenidos en esta matriz de confusion nos son buenos.  Lo que queremos buscar son pocos falsos positivos y altos verdaderos positivos dentro de la etiqueta \"1\" \n",
    "\n",
    "    - Falsos positivos = 11460\n",
    "    - Verdaderos positivos = 289\n"
   ]
  },
  {
   "cell_type": "markdown",
   "metadata": {},
   "source": [
    "Definimos tambien un funcion para vicualizar los resultados del modelo"
   ]
  },
  {
   "cell_type": "code",
   "execution_count": 35,
   "metadata": {},
   "outputs": [],
   "source": [
    "def model_results (modelo):\n",
    "    \n",
    "    ac = accuracy_score(y_test,modelo.predict(X_test))\n",
    "    print ('accuracy_score = ', ac)  \n",
    "    pc= precision_score(y_test,modelo.predict(X_test))\n",
    "    print ('precision_score = ', pc)    \n",
    "    rr = recall_score(y_test,modelo.predict(X_test))\n",
    "    print ('recall_score = ', rr)    \n",
    "    f1 = f1_score(y_test,modelo.predict(X_test))\n",
    "    print ('fi = ', f1)    \n",
    "    roc = roc_auc_score(y_test,modelo.predict_proba(X_test)[:, 1])\n",
    "    print ('roc_auc_score = ', roc)    \n",
    "    cr = classification_report(y_test, modelo.predict(X_test))\n",
    "    print ('classification_report')\n",
    "    print (cr)\n",
    "\n",
    "    return ()"
   ]
  },
  {
   "cell_type": "code",
   "execution_count": 36,
   "metadata": {},
   "outputs": [
    {
     "name": "stdout",
     "output_type": "stream",
     "text": [
      "accuracy_score =  0.8696981445582941\n",
      "precision_score =  0.48817567567567566\n",
      "recall_score =  0.024597838113882033\n",
      "fi =  0.04683575074953407\n",
      "roc_auc_score =  0.491758282320779\n",
      "classification_report\n",
      "              precision    recall  f1-score   support\n",
      "\n",
      "           0       0.87      1.00      0.93     78526\n",
      "           1       0.49      0.02      0.05     11749\n",
      "\n",
      "    accuracy                           0.87     90275\n",
      "   macro avg       0.68      0.51      0.49     90275\n",
      "weighted avg       0.82      0.87      0.82     90275\n",
      "\n"
     ]
    },
    {
     "data": {
      "text/plain": [
       "()"
      ]
     },
     "execution_count": 36,
     "metadata": {},
     "output_type": "execute_result"
    }
   ],
   "source": [
    "model_results(modelo00)"
   ]
  },
  {
   "cell_type": "markdown",
   "metadata": {},
   "source": [
    "### Conclusiones Modelo 00"
   ]
  },
  {
   "cell_type": "markdown",
   "metadata": {},
   "source": [
    "Hemos construido el primer modelo de clasificacion de forma directa sin realizar modificaciones o cambio en parametros, desbalanceos, ajustes...etc etc\n",
    "Los resultados no son buenos en ninguna de las metricas. Es necesario evolucionar el modelo.\n",
    "\n",
    "## (Modelo 0.1) Regresion Lineal\n",
    "\n",
    "\n",
    "__Utilizamos OneHotEncoder.__\n",
    "\n",
    "\n",
    "Tenemos muchas variables categoricas que no hemos utilizado en el anterior modelo. Por ese motivoqueremos asignarles un valor numerico para poder utilizarlas.\n",
    "\n",
    "Convertimos segun este proceso todas las variables categoricas excepto aquellas que hacen referencia a unidades de negocio.\n"
   ]
  },
  {
   "cell_type": "code",
   "execution_count": 37,
   "metadata": {},
   "outputs": [],
   "source": [
    "# importamos la libreria\n",
    "from sklearn.preprocessing import LabelEncoder\n",
    "lbl = LabelEncoder()"
   ]
  },
  {
   "cell_type": "code",
   "execution_count": 38,
   "metadata": {},
   "outputs": [
    {
     "data": {
      "text/plain": [
       "array([1, 0, 1, ..., 3, 3, 0])"
      ]
     },
     "execution_count": 38,
     "metadata": {},
     "output_type": "execute_result"
    }
   ],
   "source": [
    "# convertimos las variables\n",
    "lbl.fit_transform(df['tipo_gestor'])\n",
    "lbl.fit_transform(df['esta_carterizado'])\n",
    "lbl.fit_transform(df['cliente_bbp'])\n",
    "lbl.fit_transform(df['cartera_patron'])\n",
    "lbl.fit_transform(df['digital_3_meses'])\n",
    "lbl.fit_transform(df['camino_digital'])\n",
    "lbl.fit_transform(df['marca_bp'])\n",
    "lbl.fit_transform(df['marca_ccte'])\n",
    "lbl.fit_transform(df['seg_valor'])\n",
    "lbl.fit_transform(df['seg_recorrido'])"
   ]
  },
  {
   "cell_type": "code",
   "execution_count": 39,
   "metadata": {},
   "outputs": [],
   "source": [
    "# asignamos una columna a cada una de las etiquetas creadas\n",
    "df['tipo_gestor_etiqueta']=lbl.fit_transform(df['tipo_gestor'])\n",
    "df['esta_carterizado_etiqueta']=lbl.fit_transform(df['esta_carterizado'])\n",
    "df['cliente_bbp_etiqueta']=lbl.fit_transform(df['cliente_bbp'])\n",
    "df['cartera_patron_etiqueta']=lbl.fit_transform(df['cartera_patron'])\n",
    "df['digital_3_meses_etiqueta']=lbl.fit_transform(df['digital_3_meses'])\n",
    "df['camino_digital_etiqueta']=lbl.fit_transform(df['camino_digital'])\n",
    "df['marca_bp_etiqueta']=lbl.fit_transform(df['marca_bp'])\n",
    "df['marca_ccte_etiqueta']=lbl.fit_transform(df['marca_ccte'])\n",
    "df['seg_valor_etiqueta']=lbl.fit_transform(df['seg_valor'])\n",
    "df['seg_recorrido_etiqueta']=lbl.fit_transform(df['seg_recorrido'])"
   ]
  },
  {
   "cell_type": "code",
   "execution_count": 40,
   "metadata": {},
   "outputs": [
    {
     "name": "stdout",
     "output_type": "stream",
     "text": [
      "tipo_gestor\n",
      "====================================\n",
      "0    403840\n",
      "1     43144\n",
      "2      4390\n",
      "Name: tipo_gestor_etiqueta, dtype: int64\n",
      "====================================\n",
      "ASESOR FINANCIERO          403840\n",
      "SIN GESTOR                  43144\n",
      "SUBDIRECCIÓN DE OFICINA      4390\n",
      "Name: tipo_gestor, dtype: int64\n"
     ]
    }
   ],
   "source": [
    "# confirmamos sacando el ejemplo de una de las etiquetas (tipo_gestor) que se han convertido y que coninciden. \n",
    "print('tipo_gestor')\n",
    "print('====================================')\n",
    "print (df['tipo_gestor_etiqueta'].value_counts())\n",
    "print('====================================')  \n",
    "print(df['tipo_gestor'].value_counts())"
   ]
  },
  {
   "cell_type": "code",
   "execution_count": 41,
   "metadata": {},
   "outputs": [],
   "source": [
    "# eliminamos las columnas que han sido convertidas\n",
    "df.drop(['tipo_gestor','esta_carterizado','cliente_bbp',\n",
    "         'cartera_patron','digital_3_meses','camino_digital',\n",
    "         'marca_bp','marca_ccte','seg_valor','seg_recorrido'],axis = 1,inplace = True)"
   ]
  },
  {
   "cell_type": "code",
   "execution_count": 42,
   "metadata": {},
   "outputs": [
    {
     "data": {
      "text/html": [
       "<div>\n",
       "<style scoped>\n",
       "    .dataframe tbody tr th:only-of-type {\n",
       "        vertical-align: middle;\n",
       "    }\n",
       "\n",
       "    .dataframe tbody tr th {\n",
       "        vertical-align: top;\n",
       "    }\n",
       "\n",
       "    .dataframe thead th {\n",
       "        text-align: right;\n",
       "    }\n",
       "</style>\n",
       "<table border=\"1\" class=\"dataframe\">\n",
       "  <thead>\n",
       "    <tr style=\"text-align: right;\">\n",
       "      <th></th>\n",
       "      <th>cliente</th>\n",
       "      <th>saldo_captacion</th>\n",
       "      <th>gestor</th>\n",
       "      <th>codigo_cartera</th>\n",
       "      <th>saldo_financiacion</th>\n",
       "      <th>saldo_ffii</th>\n",
       "      <th>saldo_plp</th>\n",
       "      <th>lp_dom_ingresos</th>\n",
       "      <th>lp_tjta_cto</th>\n",
       "      <th>lp_tjt_rev</th>\n",
       "      <th>...</th>\n",
       "      <th>tipo_gestor_etiqueta</th>\n",
       "      <th>esta_carterizado_etiqueta</th>\n",
       "      <th>cliente_bbp_etiqueta</th>\n",
       "      <th>cartera_patron_etiqueta</th>\n",
       "      <th>digital_3_meses_etiqueta</th>\n",
       "      <th>camino_digital_etiqueta</th>\n",
       "      <th>marca_bp_etiqueta</th>\n",
       "      <th>marca_ccte_etiqueta</th>\n",
       "      <th>seg_valor_etiqueta</th>\n",
       "      <th>seg_recorrido_etiqueta</th>\n",
       "    </tr>\n",
       "  </thead>\n",
       "  <tbody>\n",
       "    <tr>\n",
       "      <th>0</th>\n",
       "      <td>1</td>\n",
       "      <td>1328106.49</td>\n",
       "      <td>18287.0</td>\n",
       "      <td>14881.0</td>\n",
       "      <td>0.0</td>\n",
       "      <td>1301110.59</td>\n",
       "      <td>14304.39</td>\n",
       "      <td>1</td>\n",
       "      <td>1</td>\n",
       "      <td>1</td>\n",
       "      <td>...</td>\n",
       "      <td>0</td>\n",
       "      <td>1</td>\n",
       "      <td>0</td>\n",
       "      <td>0</td>\n",
       "      <td>1</td>\n",
       "      <td>0</td>\n",
       "      <td>0</td>\n",
       "      <td>0</td>\n",
       "      <td>0</td>\n",
       "      <td>1</td>\n",
       "    </tr>\n",
       "    <tr>\n",
       "      <th>1</th>\n",
       "      <td>2</td>\n",
       "      <td>1142234.34</td>\n",
       "      <td>18287.0</td>\n",
       "      <td>14881.0</td>\n",
       "      <td>0.0</td>\n",
       "      <td>1112617.83</td>\n",
       "      <td>0.00</td>\n",
       "      <td>0</td>\n",
       "      <td>0</td>\n",
       "      <td>0</td>\n",
       "      <td>...</td>\n",
       "      <td>0</td>\n",
       "      <td>1</td>\n",
       "      <td>0</td>\n",
       "      <td>0</td>\n",
       "      <td>1</td>\n",
       "      <td>0</td>\n",
       "      <td>0</td>\n",
       "      <td>0</td>\n",
       "      <td>0</td>\n",
       "      <td>0</td>\n",
       "    </tr>\n",
       "  </tbody>\n",
       "</table>\n",
       "<p>2 rows × 30 columns</p>\n",
       "</div>"
      ],
      "text/plain": [
       "  cliente  saldo_captacion   gestor codigo_cartera  saldo_financiacion  \\\n",
       "0       1       1328106.49  18287.0        14881.0                 0.0   \n",
       "1       2       1142234.34  18287.0        14881.0                 0.0   \n",
       "\n",
       "   saldo_ffii  saldo_plp  lp_dom_ingresos  lp_tjta_cto  lp_tjt_rev  ...  \\\n",
       "0  1301110.59   14304.39                1            1           1  ...   \n",
       "1  1112617.83       0.00                0            0           0  ...   \n",
       "\n",
       "   tipo_gestor_etiqueta  esta_carterizado_etiqueta  cliente_bbp_etiqueta  \\\n",
       "0                     0                          1                     0   \n",
       "1                     0                          1                     0   \n",
       "\n",
       "  cartera_patron_etiqueta digital_3_meses_etiqueta  camino_digital_etiqueta  \\\n",
       "0                       0                        1                        0   \n",
       "1                       0                        1                        0   \n",
       "\n",
       "   marca_bp_etiqueta  marca_ccte_etiqueta  seg_valor_etiqueta  \\\n",
       "0                  0                    0                   0   \n",
       "1                  0                    0                   0   \n",
       "\n",
       "   seg_recorrido_etiqueta  \n",
       "0                       1  \n",
       "1                       0  \n",
       "\n",
       "[2 rows x 30 columns]"
      ]
     },
     "execution_count": 42,
     "metadata": {},
     "output_type": "execute_result"
    }
   ],
   "source": [
    "# confirmamos con un head que se han creado las etiquetas y se han eliminado las columnas\n",
    "df.head(2)"
   ]
  },
  {
   "cell_type": "markdown",
   "metadata": {},
   "source": [
    "## __Sacamos el Modelo 01__"
   ]
  },
  {
   "cell_type": "code",
   "execution_count": 43,
   "metadata": {},
   "outputs": [
    {
     "name": "stdout",
     "output_type": "stream",
     "text": [
      "Nº Datos X = 10832976\n",
      "Dimension X = (451374, 24)\n",
      "==========================\n",
      "Nº Datos y = 451374\n",
      "Dimersion y = (451374,)\n"
     ]
    }
   ],
   "source": [
    "# Asignamos Target e Inputs a nuestro modelo\n",
    "datos_numericos = df.select_dtypes('number')\n",
    "X = datos_numericos.drop(['lp_seg_hogar'],1)\n",
    "y= df['lp_seg_hogar']\n",
    "print('Nº Datos X =', X.size)\n",
    "print('Dimension X =', X.shape)\n",
    "print('='*26)\n",
    "print('Nº Datos y =', y.size)\n",
    "print('Dimersion y =', y.shape)"
   ]
  },
  {
   "cell_type": "code",
   "execution_count": 44,
   "metadata": {},
   "outputs": [],
   "source": [
    "# Creamos la instancia del modelo de clasificacion\n",
    "modelo01 = LogisticRegression()"
   ]
  },
  {
   "cell_type": "code",
   "execution_count": 45,
   "metadata": {},
   "outputs": [
    {
     "data": {
      "text/plain": [
       "LogisticRegression()"
      ]
     },
     "execution_count": 45,
     "metadata": {},
     "output_type": "execute_result"
    }
   ],
   "source": [
    "# Ajustamos el modelo\n",
    "modelo01.fit(X,y)"
   ]
  },
  {
   "cell_type": "code",
   "execution_count": 46,
   "metadata": {},
   "outputs": [
    {
     "data": {
      "text/plain": [
       "array([1, 1, 1, ..., 0, 0, 0])"
      ]
     },
     "execution_count": 46,
     "metadata": {},
     "output_type": "execute_result"
    }
   ],
   "source": [
    "# Hacemos las primeras predicciones\n",
    "predicciones_modelo01 = modelo01.predict(X)\n",
    "predicciones_modelo01"
   ]
  },
  {
   "cell_type": "code",
   "execution_count": 47,
   "metadata": {},
   "outputs": [],
   "source": [
    "# Asignamos la proporcion de 80-20 para el train y el test\n",
    "test_size = 0.2\n",
    "seed = 1\n",
    "X_train, X_test, y_train, y_test = train_test_split(X, y, test_size = test_size, random_state = seed)"
   ]
  },
  {
   "cell_type": "code",
   "execution_count": 48,
   "metadata": {},
   "outputs": [
    {
     "data": {
      "text/plain": [
       "LogisticRegression()"
      ]
     },
     "execution_count": 48,
     "metadata": {},
     "output_type": "execute_result"
    }
   ],
   "source": [
    "# Ajustamos y entrenamos solo con el grupo de Entreamiento\n",
    "modelo01.fit(X_train,y_train)"
   ]
  },
  {
   "cell_type": "code",
   "execution_count": 49,
   "metadata": {},
   "outputs": [
    {
     "data": {
      "text/plain": [
       "array([0, 0, 0, ..., 0, 0, 0])"
      ]
     },
     "execution_count": 49,
     "metadata": {},
     "output_type": "execute_result"
    }
   ],
   "source": [
    "#  Haemos las prediciones de todo el X_test\n",
    "predicciones_train_modelo01 = modelo01.predict(X_test)\n",
    "predicciones_train_modelo01"
   ]
  },
  {
   "cell_type": "code",
   "execution_count": 50,
   "metadata": {},
   "outputs": [
    {
     "name": "stdout",
     "output_type": "stream",
     "text": [
      "False Positives 11229\n",
      "True Positives 520\n"
     ]
    },
    {
     "data": {
      "image/png": "[encoded data removed]",
      "text/plain": [
       "<Figure size 288x288 with 2 Axes>"
      ]
     },
     "metadata": {
      "needs_background": "light"
     },
     "output_type": "display_data"
    },
    {
     "data": {
      "text/plain": [
       "array([[77770,   756],\n",
       "       [11229,   520]])"
      ]
     },
     "execution_count": 50,
     "metadata": {},
     "output_type": "execute_result"
    }
   ],
   "source": [
    "matriz_confusion(modelo01)"
   ]
  },
  {
   "cell_type": "markdown",
   "metadata": {},
   "source": [
    "### Evolutivo Confusion Matrix \n",
    "\n",
    "                MODELO            0        1\n",
    "                ==============================\n",
    "    - Falsos positivos =       11460     11229\n",
    "    - Verdaderos positivos =     289       520\n"
   ]
  },
  {
   "cell_type": "code",
   "execution_count": 51,
   "metadata": {},
   "outputs": [
    {
     "name": "stdout",
     "output_type": "stream",
     "text": [
      "accuracy_score =  0.8672389919689837\n",
      "precision_score =  0.40752351097178685\n",
      "recall_score =  0.04425908587964933\n",
      "fi =  0.07984644913627638\n",
      "roc_auc_score =  0.7458338085021267\n",
      "classification_report\n",
      "              precision    recall  f1-score   support\n",
      "\n",
      "           0       0.87      0.99      0.93     78526\n",
      "           1       0.41      0.04      0.08     11749\n",
      "\n",
      "    accuracy                           0.87     90275\n",
      "   macro avg       0.64      0.52      0.50     90275\n",
      "weighted avg       0.81      0.87      0.82     90275\n",
      "\n"
     ]
    },
    {
     "data": {
      "text/plain": [
       "()"
      ]
     },
     "execution_count": 51,
     "metadata": {},
     "output_type": "execute_result"
    }
   ],
   "source": [
    "model_results(modelo01)"
   ]
  },
  {
   "cell_type": "code",
   "execution_count": 52,
   "metadata": {},
   "outputs": [],
   "source": [
    "def roc_curv (modelo):\n",
    "    ras = roc_auc_score(y_test,modelo.predict_proba(X_test)[:, 1])\n",
    "    print('roc_auc_score =', ras)\n",
    "    fpr, tpr, threshold = roc_curve(y_test,modelo.predict_proba(X_test)[:, 1])\n",
    "    plt.plot(fpr, tpr)\n",
    "    plt.xlabel('fpr')\n",
    "    plt.ylabel('tpr')\n",
    "\n",
    "    return ()"
   ]
  },
  {
   "cell_type": "code",
   "execution_count": 53,
   "metadata": {},
   "outputs": [
    {
     "name": "stdout",
     "output_type": "stream",
     "text": [
      "roc_auc_score = 0.7458338085021267\n"
     ]
    },
    {
     "data": {
      "text/plain": [
       "()"
      ]
     },
     "execution_count": 53,
     "metadata": {},
     "output_type": "execute_result"
    },
    {
     "data": {
      "image/png": "[encoded data removed]",
      "text/plain": [
       "<Figure size 432x288 with 1 Axes>"
      ]
     },
     "metadata": {
      "needs_background": "light"
     },
     "output_type": "display_data"
    }
   ],
   "source": [
    "roc_curv(modelo01)\n"
   ]
  },
  {
   "cell_type": "markdown",
   "metadata": {},
   "source": [
    "### Evolutivo Metricas                             \n",
    "\n",
    "      MODELO     0      1         \n",
    "      ======================\n",
    "    - Accuracy  0.87 - 0.86 \n",
    "    - Precision 0.48 - 0.40 \n",
    "    - Recall    0.02 - 0.04 \n",
    "    - F1        0.04 - 0.08\n",
    "    - Curva roc 0.49 - 0.74 \n",
    "    "
   ]
  },
  {
   "cell_type": "markdown",
   "metadata": {},
   "source": [
    "### Conclusiones Modelo 01 con OneHotEndoder.\n",
    "\n",
    "   Utilizando OHE hemos conseguido subir la Curva Roc hasta 0.74. Hemos obtenido mas verdaderos positivos pero totalmente insuficiente.\n",
    "   \n",
    "   Seguimos evolucionando el modelo \n",
    "   \n",
    "## (Modelo 0.2) Regresion Lineal\n",
    "\n",
    "   \n",
    " En este caso Normalizaremos las varaibles numericas. \n",
    "   "
   ]
  },
  {
   "cell_type": "code",
   "execution_count": 54,
   "metadata": {},
   "outputs": [],
   "source": [
    "# cargamos la libreria\n",
    "from sklearn.preprocessing import MinMaxScaler\n",
    "scaler = MinMaxScaler()"
   ]
  },
  {
   "cell_type": "code",
   "execution_count": 55,
   "metadata": {},
   "outputs": [],
   "source": [
    "df_datos_numericos = data = df.select_dtypes('number')"
   ]
  },
  {
   "cell_type": "code",
   "execution_count": 56,
   "metadata": {},
   "outputs": [],
   "source": [
    "# asignamos nombres a las columnas\n",
    "columnas_datos_numericos = df_datos_numericos.columns"
   ]
  },
  {
   "cell_type": "code",
   "execution_count": 57,
   "metadata": {},
   "outputs": [],
   "source": [
    "# normalizamos\n",
    "df_normalizado = scaler.fit_transform(df_datos_numericos)"
   ]
  },
  {
   "cell_type": "code",
   "execution_count": 58,
   "metadata": {},
   "outputs": [],
   "source": [
    "# asigamos las columnas\n",
    "df_normalizado = pd.DataFrame(df_normalizado, columns=columnas_datos_numericos)"
   ]
  },
  {
   "cell_type": "code",
   "execution_count": 59,
   "metadata": {},
   "outputs": [
    {
     "data": {
      "text/html": [
       "<div>\n",
       "<style scoped>\n",
       "    .dataframe tbody tr th:only-of-type {\n",
       "        vertical-align: middle;\n",
       "    }\n",
       "\n",
       "    .dataframe tbody tr th {\n",
       "        vertical-align: top;\n",
       "    }\n",
       "\n",
       "    .dataframe thead th {\n",
       "        text-align: right;\n",
       "    }\n",
       "</style>\n",
       "<table border=\"1\" class=\"dataframe\">\n",
       "  <thead>\n",
       "    <tr style=\"text-align: right;\">\n",
       "      <th></th>\n",
       "      <th>saldo_captacion</th>\n",
       "      <th>saldo_financiacion</th>\n",
       "      <th>saldo_ffii</th>\n",
       "      <th>saldo_plp</th>\n",
       "      <th>lp_dom_ingresos</th>\n",
       "      <th>lp_tjta_cto</th>\n",
       "      <th>lp_tjt_rev</th>\n",
       "      <th>lp_rbos</th>\n",
       "      <th>lp_of_int</th>\n",
       "      <th>edad</th>\n",
       "      <th>...</th>\n",
       "      <th>tipo_gestor_etiqueta</th>\n",
       "      <th>esta_carterizado_etiqueta</th>\n",
       "      <th>cliente_bbp_etiqueta</th>\n",
       "      <th>cartera_patron_etiqueta</th>\n",
       "      <th>digital_3_meses_etiqueta</th>\n",
       "      <th>camino_digital_etiqueta</th>\n",
       "      <th>marca_bp_etiqueta</th>\n",
       "      <th>marca_ccte_etiqueta</th>\n",
       "      <th>seg_valor_etiqueta</th>\n",
       "      <th>seg_recorrido_etiqueta</th>\n",
       "    </tr>\n",
       "  </thead>\n",
       "  <tbody>\n",
       "    <tr>\n",
       "      <th>0</th>\n",
       "      <td>0.258207</td>\n",
       "      <td>0.001689</td>\n",
       "      <td>0.415566</td>\n",
       "      <td>0.031101</td>\n",
       "      <td>1.0</td>\n",
       "      <td>1.0</td>\n",
       "      <td>1.0</td>\n",
       "      <td>1.0</td>\n",
       "      <td>1.0</td>\n",
       "      <td>0.584746</td>\n",
       "      <td>...</td>\n",
       "      <td>0.0</td>\n",
       "      <td>1.0</td>\n",
       "      <td>0.0</td>\n",
       "      <td>0.0</td>\n",
       "      <td>1.0</td>\n",
       "      <td>0.00</td>\n",
       "      <td>0.0</td>\n",
       "      <td>0.0</td>\n",
       "      <td>0.0</td>\n",
       "      <td>0.333333</td>\n",
       "    </tr>\n",
       "    <tr>\n",
       "      <th>1</th>\n",
       "      <td>0.223408</td>\n",
       "      <td>0.001689</td>\n",
       "      <td>0.355362</td>\n",
       "      <td>0.000000</td>\n",
       "      <td>0.0</td>\n",
       "      <td>0.0</td>\n",
       "      <td>0.0</td>\n",
       "      <td>1.0</td>\n",
       "      <td>1.0</td>\n",
       "      <td>0.686441</td>\n",
       "      <td>...</td>\n",
       "      <td>0.0</td>\n",
       "      <td>1.0</td>\n",
       "      <td>0.0</td>\n",
       "      <td>0.0</td>\n",
       "      <td>1.0</td>\n",
       "      <td>0.00</td>\n",
       "      <td>0.0</td>\n",
       "      <td>0.0</td>\n",
       "      <td>0.0</td>\n",
       "      <td>0.000000</td>\n",
       "    </tr>\n",
       "    <tr>\n",
       "      <th>2</th>\n",
       "      <td>0.223408</td>\n",
       "      <td>0.001689</td>\n",
       "      <td>0.355362</td>\n",
       "      <td>0.000000</td>\n",
       "      <td>0.0</td>\n",
       "      <td>0.0</td>\n",
       "      <td>0.0</td>\n",
       "      <td>1.0</td>\n",
       "      <td>0.0</td>\n",
       "      <td>0.635593</td>\n",
       "      <td>...</td>\n",
       "      <td>0.0</td>\n",
       "      <td>1.0</td>\n",
       "      <td>0.0</td>\n",
       "      <td>1.0</td>\n",
       "      <td>0.0</td>\n",
       "      <td>0.75</td>\n",
       "      <td>0.0</td>\n",
       "      <td>1.0</td>\n",
       "      <td>0.0</td>\n",
       "      <td>0.333333</td>\n",
       "    </tr>\n",
       "    <tr>\n",
       "      <th>3</th>\n",
       "      <td>0.260528</td>\n",
       "      <td>0.001689</td>\n",
       "      <td>0.343695</td>\n",
       "      <td>0.000000</td>\n",
       "      <td>1.0</td>\n",
       "      <td>0.0</td>\n",
       "      <td>0.0</td>\n",
       "      <td>1.0</td>\n",
       "      <td>0.0</td>\n",
       "      <td>0.796610</td>\n",
       "      <td>...</td>\n",
       "      <td>0.0</td>\n",
       "      <td>1.0</td>\n",
       "      <td>0.0</td>\n",
       "      <td>0.0</td>\n",
       "      <td>0.0</td>\n",
       "      <td>0.75</td>\n",
       "      <td>0.0</td>\n",
       "      <td>0.0</td>\n",
       "      <td>0.0</td>\n",
       "      <td>0.333333</td>\n",
       "    </tr>\n",
       "    <tr>\n",
       "      <th>4</th>\n",
       "      <td>0.338789</td>\n",
       "      <td>0.001689</td>\n",
       "      <td>0.293617</td>\n",
       "      <td>0.237736</td>\n",
       "      <td>0.0</td>\n",
       "      <td>0.0</td>\n",
       "      <td>0.0</td>\n",
       "      <td>1.0</td>\n",
       "      <td>1.0</td>\n",
       "      <td>0.542373</td>\n",
       "      <td>...</td>\n",
       "      <td>0.0</td>\n",
       "      <td>1.0</td>\n",
       "      <td>0.0</td>\n",
       "      <td>0.0</td>\n",
       "      <td>1.0</td>\n",
       "      <td>0.00</td>\n",
       "      <td>0.0</td>\n",
       "      <td>0.0</td>\n",
       "      <td>0.0</td>\n",
       "      <td>0.333333</td>\n",
       "    </tr>\n",
       "  </tbody>\n",
       "</table>\n",
       "<p>5 rows × 25 columns</p>\n",
       "</div>"
      ],
      "text/plain": [
       "   saldo_captacion  saldo_financiacion  saldo_ffii  saldo_plp  \\\n",
       "0         0.258207            0.001689    0.415566   0.031101   \n",
       "1         0.223408            0.001689    0.355362   0.000000   \n",
       "2         0.223408            0.001689    0.355362   0.000000   \n",
       "3         0.260528            0.001689    0.343695   0.000000   \n",
       "4         0.338789            0.001689    0.293617   0.237736   \n",
       "\n",
       "   lp_dom_ingresos  lp_tjta_cto  lp_tjt_rev  lp_rbos  lp_of_int      edad  \\\n",
       "0              1.0          1.0         1.0      1.0        1.0  0.584746   \n",
       "1              0.0          0.0         0.0      1.0        1.0  0.686441   \n",
       "2              0.0          0.0         0.0      1.0        0.0  0.635593   \n",
       "3              1.0          0.0         0.0      1.0        0.0  0.796610   \n",
       "4              0.0          0.0         0.0      1.0        1.0  0.542373   \n",
       "\n",
       "   ...  tipo_gestor_etiqueta  esta_carterizado_etiqueta  cliente_bbp_etiqueta  \\\n",
       "0  ...                   0.0                        1.0                   0.0   \n",
       "1  ...                   0.0                        1.0                   0.0   \n",
       "2  ...                   0.0                        1.0                   0.0   \n",
       "3  ...                   0.0                        1.0                   0.0   \n",
       "4  ...                   0.0                        1.0                   0.0   \n",
       "\n",
       "   cartera_patron_etiqueta  digital_3_meses_etiqueta  camino_digital_etiqueta  \\\n",
       "0                      0.0                       1.0                     0.00   \n",
       "1                      0.0                       1.0                     0.00   \n",
       "2                      1.0                       0.0                     0.75   \n",
       "3                      0.0                       0.0                     0.75   \n",
       "4                      0.0                       1.0                     0.00   \n",
       "\n",
       "   marca_bp_etiqueta  marca_ccte_etiqueta  seg_valor_etiqueta  \\\n",
       "0                0.0                  0.0                 0.0   \n",
       "1                0.0                  0.0                 0.0   \n",
       "2                0.0                  1.0                 0.0   \n",
       "3                0.0                  0.0                 0.0   \n",
       "4                0.0                  0.0                 0.0   \n",
       "\n",
       "   seg_recorrido_etiqueta  \n",
       "0                0.333333  \n",
       "1                0.000000  \n",
       "2                0.333333  \n",
       "3                0.333333  \n",
       "4                0.333333  \n",
       "\n",
       "[5 rows x 25 columns]"
      ]
     },
     "execution_count": 59,
     "metadata": {},
     "output_type": "execute_result"
    }
   ],
   "source": [
    "# comprobamos\n",
    "df_normalizado.head(5)"
   ]
  },
  {
   "cell_type": "markdown",
   "metadata": {},
   "source": [
    "## __Sacamos el Modelo 02__"
   ]
  },
  {
   "cell_type": "code",
   "execution_count": 60,
   "metadata": {},
   "outputs": [
    {
     "data": {
      "text/plain": [
       "Index(['saldo_captacion', 'saldo_financiacion', 'saldo_ffii', 'saldo_plp',\n",
       "       'lp_dom_ingresos', 'lp_tjta_cto', 'lp_tjt_rev', 'lp_rbos', 'lp_of_int',\n",
       "       'edad', 'lp_seg_vida', 'lp_seg_acc', 'lp_seg_salud', 'lp_seg_hogar',\n",
       "       'lp_seg_auto', 'tipo_gestor_etiqueta', 'esta_carterizado_etiqueta',\n",
       "       'cliente_bbp_etiqueta', 'cartera_patron_etiqueta',\n",
       "       'digital_3_meses_etiqueta', 'camino_digital_etiqueta',\n",
       "       'marca_bp_etiqueta', 'marca_ccte_etiqueta', 'seg_valor_etiqueta',\n",
       "       'seg_recorrido_etiqueta'],\n",
       "      dtype='object')"
      ]
     },
     "execution_count": 60,
     "metadata": {},
     "output_type": "execute_result"
    }
   ],
   "source": [
    "datos_numericos.columns"
   ]
  },
  {
   "cell_type": "code",
   "execution_count": 61,
   "metadata": {},
   "outputs": [
    {
     "name": "stdout",
     "output_type": "stream",
     "text": [
      "Nº Datos X = 10832976\n",
      "Dimension X = (451374, 24)\n",
      "==========================\n",
      "Nº Datos y = 451374\n",
      "Dimersion y = (451374,)\n"
     ]
    }
   ],
   "source": [
    "# Asignamos Target e Inputs a nuestro modelo\n",
    "datos_numericos = df_normalizado.select_dtypes('number')\n",
    "X = datos_numericos.drop(['lp_seg_hogar'],1)\n",
    "y= df_normalizado['lp_seg_hogar']\n",
    "print('Nº Datos X =', X.size)\n",
    "print('Dimension X =', X.shape)\n",
    "print('='*26)\n",
    "print('Nº Datos y =', y.size)\n",
    "print('Dimersion y =', y.shape)"
   ]
  },
  {
   "cell_type": "code",
   "execution_count": 62,
   "metadata": {},
   "outputs": [],
   "source": [
    "# Creamos la instancia del modelo de clasificacion\n",
    "modelo02 = LogisticRegression(solver = 'newton-cg')"
   ]
  },
  {
   "cell_type": "code",
   "execution_count": 63,
   "metadata": {},
   "outputs": [
    {
     "data": {
      "text/plain": [
       "LogisticRegression(solver='newton-cg')"
      ]
     },
     "execution_count": 63,
     "metadata": {},
     "output_type": "execute_result"
    }
   ],
   "source": [
    "# Ajustamos el modelo\n",
    "modelo02.fit(X,y)"
   ]
  },
  {
   "cell_type": "code",
   "execution_count": 64,
   "metadata": {},
   "outputs": [
    {
     "data": {
      "text/plain": [
       "array([0., 0., 0., ..., 0., 0., 0.])"
      ]
     },
     "execution_count": 64,
     "metadata": {},
     "output_type": "execute_result"
    }
   ],
   "source": [
    "# Hacemos las primeras predicciones\n",
    "predicciones_modelo02 = modelo02.predict(X)\n",
    "predicciones_modelo02"
   ]
  },
  {
   "cell_type": "code",
   "execution_count": 65,
   "metadata": {},
   "outputs": [],
   "source": [
    "# Asignamos la proporcion de 80-20 para el train y el test\n",
    "test_size = 0.2\n",
    "seed = 1\n",
    "X_train, X_test, y_train, y_test = train_test_split(X, y, test_size = test_size, random_state = seed)"
   ]
  },
  {
   "cell_type": "code",
   "execution_count": 66,
   "metadata": {},
   "outputs": [
    {
     "data": {
      "text/plain": [
       "LogisticRegression(solver='newton-cg')"
      ]
     },
     "execution_count": 66,
     "metadata": {},
     "output_type": "execute_result"
    }
   ],
   "source": [
    "# Ajustamos y entrenamos solo con el grupo de Entreamiento\n",
    "modelo02.fit(X_train,y_train)"
   ]
  },
  {
   "cell_type": "code",
   "execution_count": 67,
   "metadata": {},
   "outputs": [
    {
     "data": {
      "text/plain": [
       "array([0., 0., 0., ..., 0., 0., 0.])"
      ]
     },
     "execution_count": 67,
     "metadata": {},
     "output_type": "execute_result"
    }
   ],
   "source": [
    "#  Haemos las prediciones de todo el X_test\n",
    "predicciones_train_modelo02 = modelo02.predict(X_test)\n",
    "predicciones_train_modelo02"
   ]
  },
  {
   "cell_type": "code",
   "execution_count": 68,
   "metadata": {},
   "outputs": [
    {
     "name": "stdout",
     "output_type": "stream",
     "text": [
      "False Positives 10963\n",
      "True Positives 786\n"
     ]
    },
    {
     "data": {
      "image/png": "[encoded data removed]",
      "text/plain": [
       "<Figure size 288x288 with 2 Axes>"
      ]
     },
     "metadata": {
      "needs_background": "light"
     },
     "output_type": "display_data"
    },
    {
     "data": {
      "text/plain": [
       "array([[77799,   727],\n",
       "       [10963,   786]])"
      ]
     },
     "execution_count": 68,
     "metadata": {},
     "output_type": "execute_result"
    }
   ],
   "source": [
    "matriz_confusion(modelo02)"
   ]
  },
  {
   "cell_type": "markdown",
   "metadata": {},
   "source": [
    "### Evolutivo Confusion Matrix \n",
    "\n",
    "                MODELO            0        1        2\n",
    "                ======================================\n",
    "    - Falsos positivos =       11460     11229    10963\n",
    "    - Verdaderos positivos =     289       520      786"
   ]
  },
  {
   "cell_type": "code",
   "execution_count": 69,
   "metadata": {},
   "outputs": [
    {
     "name": "stdout",
     "output_type": "stream",
     "text": [
      "accuracy_score =  0.8705067848241484\n",
      "precision_score =  0.5194976867151355\n",
      "recall_score =  0.0668993105796238\n",
      "fi =  0.11853415774393\n",
      "roc_auc_score =  0.8405776541293202\n",
      "classification_report\n",
      "              precision    recall  f1-score   support\n",
      "\n",
      "         0.0       0.88      0.99      0.93     78526\n",
      "         1.0       0.52      0.07      0.12     11749\n",
      "\n",
      "    accuracy                           0.87     90275\n",
      "   macro avg       0.70      0.53      0.52     90275\n",
      "weighted avg       0.83      0.87      0.82     90275\n",
      "\n"
     ]
    },
    {
     "data": {
      "text/plain": [
       "()"
      ]
     },
     "execution_count": 69,
     "metadata": {},
     "output_type": "execute_result"
    }
   ],
   "source": [
    "model_results(modelo02)"
   ]
  },
  {
   "cell_type": "code",
   "execution_count": 70,
   "metadata": {
    "scrolled": true
   },
   "outputs": [
    {
     "name": "stdout",
     "output_type": "stream",
     "text": [
      "roc_auc_score = 0.8405776541293202\n"
     ]
    },
    {
     "data": {
      "text/plain": [
       "Text(0, 0.5, 'tpr')"
      ]
     },
     "execution_count": 70,
     "metadata": {},
     "output_type": "execute_result"
    },
    {
     "data": {
      "image/png": "[encoded data removed]",
      "text/plain": [
       "<Figure size 432x288 with 1 Axes>"
      ]
     },
     "metadata": {
      "needs_background": "light"
     },
     "output_type": "display_data"
    }
   ],
   "source": [
    "print('roc_auc_score =', roc_auc_score(y_test,modelo02.predict_proba(X_test)[:, 1]))\n",
    "fpr, tpr, threshold = roc_curve(y_test,modelo02.predict_proba(X_test)[:, 1])\n",
    "plt.plot(fpr, tpr)\n",
    "plt.xlabel('fpr')\n",
    "plt.ylabel('tpr')"
   ]
  },
  {
   "cell_type": "markdown",
   "metadata": {},
   "source": [
    "### Evolutivo Metricas\n",
    "\n",
    "      MODELO     0      1      2      \n",
    "      ============================\n",
    "    - Accuracy  0.87 - 0.86 - 0.87\n",
    "    - Precision 0.48 - 0.40 - 0.51\n",
    "    - Recall    0.02 - 0.04 - 0.06\n",
    "    - F1        0.04 - 0.05 - 0.11\n",
    "    - Curva roc 0.49 - 0.74 - 0.84\n",
    "    "
   ]
  },
  {
   "cell_type": "markdown",
   "metadata": {},
   "source": [
    "### Conclusiones Modelo 02 Normalizando.\n",
    "\n",
    "Hemos vuelto a aumentar la Curva Roc pero no conseguimos aumentar Recall.\n",
    "\n",
    "Recordamos que la variable Target esta muy desbalanceada. \n",
    "\n",
    "Evolucionamos el modelo solucionando el balanceo.\n",
    "\n",
    "## (Modelo 0.3) Regresion Lineal\n",
    "\n"
   ]
  },
  {
   "cell_type": "code",
   "execution_count": 71,
   "metadata": {},
   "outputs": [
    {
     "name": "stdout",
     "output_type": "stream",
     "text": [
      "(451374, 30)\n",
      "0    0.869707\n",
      "1    0.130293\n",
      "Name: lp_seg_hogar, dtype: float64\n"
     ]
    }
   ],
   "source": [
    "# vemos como esta de desbalanceada la clase_hogar\n",
    "print(df.shape)\n",
    "clase_hogar = pd.value_counts(df['lp_seg_hogar'], sort = True, normalize = True)\n",
    "print (clase_hogar)"
   ]
  },
  {
   "cell_type": "code",
   "execution_count": 72,
   "metadata": {},
   "outputs": [
    {
     "name": "stdout",
     "output_type": "stream",
     "text": [
      "% clientes que tienen seguro hogar =  0.13029328228918813\n"
     ]
    },
    {
     "data": {
      "text/plain": [
       "Text(0.5, 0, 'Seguro Hogar')"
      ]
     },
     "execution_count": 72,
     "metadata": {},
     "output_type": "execute_result"
    },
    {
     "data": {
      "image/png": "[encoded data removed]",
      "text/plain": [
       "<Figure size 432x288 with 1 Axes>"
      ]
     },
     "metadata": {
      "needs_background": "light"
     },
     "output_type": "display_data"
    }
   ],
   "source": [
    "# Ploteamos el desbalanceo de la variable Target para una mejor visualizacion\n",
    "clase_hogar.plot(kind = 'bar', rot = 0)\n",
    "porcentaje_con_hogar = clase_hogar[1]\n",
    "print ('% clientes que tienen seguro hogar = ', porcentaje_con_hogar)\n",
    "plt.title(\"% Clientes que tiene seguro hogar\")\n",
    "plt.xlabel('Seguro Hogar')"
   ]
  },
  {
   "cell_type": "markdown",
   "metadata": {},
   "source": [
    "## __Sacamos el Modelo 03__"
   ]
  },
  {
   "cell_type": "code",
   "execution_count": 73,
   "metadata": {},
   "outputs": [
    {
     "name": "stdout",
     "output_type": "stream",
     "text": [
      "Nº Datos X = 10832976\n",
      "Dimension X = (451374, 24)\n",
      "==========================\n",
      "Nº Datos y = 451374\n",
      "Dimersion y = (451374,)\n"
     ]
    }
   ],
   "source": [
    "# Asignamos Target e Inputs a nuestro modelo\n",
    "datos_numericos = df_normalizado.select_dtypes('number')\n",
    "X = datos_numericos.drop(['lp_seg_hogar'],1)\n",
    "y= df_normalizado['lp_seg_hogar']\n",
    "print('Nº Datos X =', X.size)\n",
    "print('Dimension X =', X.shape)\n",
    "print('='*26)\n",
    "print('Nº Datos y =', y.size)\n",
    "print('Dimersion y =', y.shape)"
   ]
  },
  {
   "cell_type": "markdown",
   "metadata": {},
   "source": [
    "### Para solucionar el desbalanceo del Target vamos a utilizar 2 estrategias distintas\n",
    "\n",
    "\n",
    "###  1ª Estrategia: Subsampling en la clase mayoritaria \n",
    "    - Con NearMiss\n",
    "    - Con Smote\n",
    "\n",
    "###  2ª Estrategia: Parametro Weigth balanced"
   ]
  },
  {
   "cell_type": "code",
   "execution_count": 74,
   "metadata": {},
   "outputs": [],
   "source": [
    "# 1ª Estrategia NearMiss\n",
    "modelo03 = LogisticRegression(solver = 'liblinear')"
   ]
  },
  {
   "cell_type": "code",
   "execution_count": 75,
   "metadata": {},
   "outputs": [
    {
     "data": {
      "text/plain": [
       "LogisticRegression(solver='liblinear')"
      ]
     },
     "execution_count": 75,
     "metadata": {},
     "output_type": "execute_result"
    }
   ],
   "source": [
    "modelo03.fit(X,y)"
   ]
  },
  {
   "cell_type": "code",
   "execution_count": 76,
   "metadata": {},
   "outputs": [
    {
     "data": {
      "text/plain": [
       "array([0., 0., 0., ..., 0., 0., 0.])"
      ]
     },
     "execution_count": 76,
     "metadata": {},
     "output_type": "execute_result"
    }
   ],
   "source": [
    "modelo03.predict(X)"
   ]
  },
  {
   "cell_type": "code",
   "execution_count": 77,
   "metadata": {},
   "outputs": [],
   "source": [
    "from imblearn.under_sampling import NearMiss\n",
    "nr = NearMiss() "
   ]
  },
  {
   "cell_type": "code",
   "execution_count": 78,
   "metadata": {},
   "outputs": [],
   "source": [
    "X_train_miss, y_train_miss = nr.fit_sample(X_train, y_train)  "
   ]
  },
  {
   "cell_type": "code",
   "execution_count": 78,
   "metadata": {},
   "outputs": [
    {
     "name": "stdout",
     "output_type": "stream",
     "text": [
      "Distribution before resampling Counter({0.0: 314037, 1.0: 47062})\n",
      "Distribution after resampling Counter({0.0: 47062, 1.0: 47062})\n"
     ]
    }
   ],
   "source": [
    "from collections import Counter\n",
    "print (\"Distribution before resampling {}\".format(Counter(y_train)))\n",
    "print (\"Distribution after resampling {}\".format(Counter(y_train_miss)))\n",
    " "
   ]
  },
  {
   "cell_type": "code",
   "execution_count": 80,
   "metadata": {},
   "outputs": [
    {
     "data": {
      "text/plain": [
       "LogisticRegression(solver='liblinear')"
      ]
     },
     "execution_count": 80,
     "metadata": {},
     "output_type": "execute_result"
    }
   ],
   "source": [
    "modelo03.fit(X_train_miss, y_train_miss) "
   ]
  },
  {
   "cell_type": "code",
   "execution_count": 81,
   "metadata": {},
   "outputs": [
    {
     "data": {
      "text/plain": [
       "array([0., 1., 0., ..., 0., 1., 0.])"
      ]
     },
     "execution_count": 81,
     "metadata": {},
     "output_type": "execute_result"
    }
   ],
   "source": [
    "modelo03.predict(X_test)"
   ]
  },
  {
   "cell_type": "code",
   "execution_count": 82,
   "metadata": {},
   "outputs": [
    {
     "name": "stdout",
     "output_type": "stream",
     "text": [
      "RESULTADOS MODELO_03\n",
      "====================================\n",
      "accuracy_score =  0.5425976183882582\n",
      "====================================\n",
      "precision = 0.17018331212182106\n",
      "====================================\n",
      "recall = 0.6487360626436293\n",
      "====================================\n",
      "f1_score = 0.2696335078534031\n",
      "====================================\n",
      "roc_auc_score = 0.6122557114754232\n",
      "====================================\n",
      "classification_report\n",
      "              precision    recall  f1-score   support\n",
      "\n",
      "         0.0       0.91      0.53      0.67     78526\n",
      "         1.0       0.17      0.65      0.27     11749\n",
      "\n",
      "    accuracy                           0.54     90275\n",
      "   macro avg       0.54      0.59      0.47     90275\n",
      "weighted avg       0.81      0.54      0.62     90275\n",
      "\n"
     ]
    }
   ],
   "source": [
    "# RESULTADOS BALANCEO CON NEARMISS\n",
    "print('RESULTADOS MODELO_03')\n",
    "print('====================================')\n",
    "print ('accuracy_score = ', accuracy_score(y_test,modelo03.predict(X_test)))\n",
    "print('====================================')\n",
    "print('precision =', precision_score(y_test,modelo03.predict(X_test)))\n",
    "print('====================================')\n",
    "print('recall =', recall_score(y_test,modelo03.predict(X_test)))\n",
    "print('====================================')\n",
    "print('f1_score =', f1_score(y_test,modelo03.predict(X_test)))\n",
    "print('====================================')\n",
    "print('roc_auc_score =', roc_auc_score(y_test,modelo03.predict_proba(X_test)[:, 1]))\n",
    "print('====================================')\n",
    "print('classification_report')\n",
    "print(classification_report(y_test, modelo03.predict(X_test)))\n"
   ]
  },
  {
   "cell_type": "code",
   "execution_count": 96,
   "metadata": {},
   "outputs": [],
   "source": [
    "# 1ª Estrategia SMOTE\n",
    "from imblearn.over_sampling import SMOTE \n",
    "sm = SMOTE(random_state = 2) "
   ]
  },
  {
   "cell_type": "code",
   "execution_count": 84,
   "metadata": {},
   "outputs": [],
   "source": [
    "modelo03 = LogisticRegression(solver = 'liblinear')"
   ]
  },
  {
   "cell_type": "code",
   "execution_count": 86,
   "metadata": {},
   "outputs": [
    {
     "data": {
      "text/plain": [
       "LogisticRegression(solver='liblinear')"
      ]
     },
     "execution_count": 86,
     "metadata": {},
     "output_type": "execute_result"
    }
   ],
   "source": [
    "modelo03.fit(X,y)"
   ]
  },
  {
   "cell_type": "code",
   "execution_count": 87,
   "metadata": {},
   "outputs": [
    {
     "data": {
      "text/plain": [
       "array([0., 0., 0., ..., 0., 0., 0.])"
      ]
     },
     "execution_count": 87,
     "metadata": {},
     "output_type": "execute_result"
    }
   ],
   "source": [
    "modelo03.predict(X)"
   ]
  },
  {
   "cell_type": "code",
   "execution_count": 88,
   "metadata": {},
   "outputs": [],
   "source": [
    "X_train_smote, y_train_smote = sm.fit_sample(X_train, y_train) "
   ]
  },
  {
   "cell_type": "code",
   "execution_count": 89,
   "metadata": {},
   "outputs": [
    {
     "name": "stdout",
     "output_type": "stream",
     "text": [
      "Distribution before resampling Counter({0.0: 314037, 1.0: 47062})\n",
      "Distribution labels after resampling Counter({1.0: 314037, 0.0: 314037})\n"
     ]
    }
   ],
   "source": [
    "print (\"Distribution before resampling {}\".format(Counter(y_train)))\n",
    "print (\"Distribution labels after resampling {}\".format(Counter(y_train_smote)))"
   ]
  },
  {
   "cell_type": "code",
   "execution_count": 91,
   "metadata": {},
   "outputs": [
    {
     "data": {
      "text/plain": [
       "LogisticRegression(solver='liblinear')"
      ]
     },
     "execution_count": 91,
     "metadata": {},
     "output_type": "execute_result"
    }
   ],
   "source": [
    "modelo03.fit(X_train_smote, y_train_smote) "
   ]
  },
  {
   "cell_type": "code",
   "execution_count": 79,
   "metadata": {},
   "outputs": [
    {
     "data": {
      "text/plain": [
       "array([0., 0., 0., ..., 0., 0., 0.])"
      ]
     },
     "execution_count": 79,
     "metadata": {},
     "output_type": "execute_result"
    }
   ],
   "source": [
    "modelo03.predict(X_test)"
   ]
  },
  {
   "cell_type": "code",
   "execution_count": 80,
   "metadata": {},
   "outputs": [
    {
     "data": {
      "text/plain": [
       "array([0.29624667, 0.35078752, 0.02074687, ..., 0.20734304, 0.34335961,\n",
       "       0.00965239])"
      ]
     },
     "execution_count": 80,
     "metadata": {},
     "output_type": "execute_result"
    }
   ],
   "source": [
    "modelo03.predict_proba(X_test)[:, 1]"
   ]
  },
  {
   "cell_type": "code",
   "execution_count": 82,
   "metadata": {},
   "outputs": [
    {
     "name": "stdout",
     "output_type": "stream",
     "text": [
      "accuracy_score =  0.8703295486014955\n",
      "precision_score =  0.5139338950097213\n",
      "recall_score =  0.06749510596646523\n",
      "fi =  0.11931989166415888\n",
      "roc_auc_score =  0.8407230841238152\n",
      "classification_report\n",
      "              precision    recall  f1-score   support\n",
      "\n",
      "         0.0       0.88      0.99      0.93     78526\n",
      "         1.0       0.51      0.07      0.12     11749\n",
      "\n",
      "    accuracy                           0.87     90275\n",
      "   macro avg       0.70      0.53      0.52     90275\n",
      "weighted avg       0.83      0.87      0.82     90275\n",
      "\n"
     ]
    },
    {
     "data": {
      "text/plain": [
       "()"
      ]
     },
     "execution_count": 82,
     "metadata": {},
     "output_type": "execute_result"
    }
   ],
   "source": [
    "model_results(modelo03)"
   ]
  },
  {
   "cell_type": "code",
   "execution_count": 83,
   "metadata": {},
   "outputs": [],
   "source": [
    "# 2ª Estrategia  parametro class_weigth 'balanced' como medida de desbalanceo.\n",
    "modelo03 = LogisticRegression(solver='newton-cg', class_weight='balanced')"
   ]
  },
  {
   "cell_type": "code",
   "execution_count": 84,
   "metadata": {},
   "outputs": [
    {
     "data": {
      "text/plain": [
       "LogisticRegression(class_weight='balanced', solver='newton-cg')"
      ]
     },
     "execution_count": 84,
     "metadata": {},
     "output_type": "execute_result"
    }
   ],
   "source": [
    "modelo03.fit(X,y)"
   ]
  },
  {
   "cell_type": "code",
   "execution_count": 85,
   "metadata": {},
   "outputs": [
    {
     "data": {
      "text/plain": [
       "array([1., 1., 0., ..., 0., 0., 0.])"
      ]
     },
     "execution_count": 85,
     "metadata": {},
     "output_type": "execute_result"
    }
   ],
   "source": [
    "modelo03.predict(X)"
   ]
  },
  {
   "cell_type": "code",
   "execution_count": 86,
   "metadata": {},
   "outputs": [],
   "source": [
    "test_size = 0.2\n",
    "seed = 7\n",
    "X_train, X_test, y_train, y_test = train_test_split(X, y, test_size = test_size, random_state = seed)"
   ]
  },
  {
   "cell_type": "code",
   "execution_count": 87,
   "metadata": {},
   "outputs": [
    {
     "data": {
      "text/plain": [
       "LogisticRegression(class_weight='balanced', solver='newton-cg')"
      ]
     },
     "execution_count": 87,
     "metadata": {},
     "output_type": "execute_result"
    }
   ],
   "source": [
    "modelo03.fit(X_train,y_train)"
   ]
  },
  {
   "cell_type": "code",
   "execution_count": 88,
   "metadata": {},
   "outputs": [
    {
     "data": {
      "text/plain": [
       "array([1., 1., 1., ..., 1., 1., 0.])"
      ]
     },
     "execution_count": 88,
     "metadata": {},
     "output_type": "execute_result"
    }
   ],
   "source": [
    "modelo03.predict(X_test)"
   ]
  },
  {
   "cell_type": "code",
   "execution_count": 89,
   "metadata": {},
   "outputs": [
    {
     "data": {
      "text/plain": [
       "array([0.59913663, 0.60864129, 0.70789069, ..., 0.66134724, 0.858474  ,\n",
       "       0.28165642])"
      ]
     },
     "execution_count": 89,
     "metadata": {},
     "output_type": "execute_result"
    }
   ],
   "source": [
    "modelo03.predict_proba(X_test)[:, 1]"
   ]
  },
  {
   "cell_type": "code",
   "execution_count": 91,
   "metadata": {},
   "outputs": [
    {
     "name": "stdout",
     "output_type": "stream",
     "text": [
      "False Positives 1328\n",
      "True Positives 10457\n"
     ]
    },
    {
     "data": {
      "image/png": "[encoded data removed]",
      "text/plain": [
       "<Figure size 288x288 with 2 Axes>"
      ]
     },
     "metadata": {
      "needs_background": "light"
     },
     "output_type": "display_data"
    },
    {
     "data": {
      "text/plain": [
       "array([[52293, 26197],\n",
       "       [ 1328, 10457]])"
      ]
     },
     "execution_count": 91,
     "metadata": {},
     "output_type": "execute_result"
    }
   ],
   "source": [
    "matriz_confusion(modelo03)"
   ]
  },
  {
   "cell_type": "markdown",
   "metadata": {},
   "source": [
    "### Evolutivo Confusion Matrix \n",
    "\n",
    "                MODELO            0        1        2        3\n",
    "                ==================================================\n",
    "    - Falsos positivos =       11460     11229    10963     1328\n",
    "    - Verdaderos positivos =     289       520      786    10457"
   ]
  },
  {
   "cell_type": "code",
   "execution_count": 92,
   "metadata": {},
   "outputs": [
    {
     "name": "stdout",
     "output_type": "stream",
     "text": [
      "accuracy_score =  0.6950983107172528\n",
      "precision_score =  0.28528946363289137\n",
      "recall_score =  0.88731438268986\n",
      "fi =  0.4317595326080225\n",
      "roc_auc_score =  0.8407239623065678\n",
      "classification_report\n",
      "              precision    recall  f1-score   support\n",
      "\n",
      "         0.0       0.98      0.67      0.79     78490\n",
      "         1.0       0.29      0.89      0.43     11785\n",
      "\n",
      "    accuracy                           0.70     90275\n",
      "   macro avg       0.63      0.78      0.61     90275\n",
      "weighted avg       0.89      0.70      0.74     90275\n",
      "\n"
     ]
    },
    {
     "data": {
      "text/plain": [
       "()"
      ]
     },
     "execution_count": 92,
     "metadata": {},
     "output_type": "execute_result"
    }
   ],
   "source": [
    "model_results(modelo03)"
   ]
  },
  {
   "cell_type": "code",
   "execution_count": 81,
   "metadata": {},
   "outputs": [
    {
     "name": "stdout",
     "output_type": "stream",
     "text": [
      "roc_auc_score = 0.8407239623065678\n"
     ]
    },
    {
     "data": {
      "text/plain": [
       "Text(0, 0.5, 'tpr')"
      ]
     },
     "execution_count": 81,
     "metadata": {},
     "output_type": "execute_result"
    },
    {
     "data": {
      "image/png": "[encoded data removed]",
      "text/plain": [
       "<Figure size 432x288 with 1 Axes>"
      ]
     },
     "metadata": {
      "needs_background": "light"
     },
     "output_type": "display_data"
    }
   ],
   "source": [
    "print('roc_auc_score =', roc_auc_score(y_test,modelo03.predict_proba(X_test)[:, 1]))\n",
    "fpr, tpr, threshold = roc_curve(y_test,modelo03.predict_proba(X_test)[:, 1])\n",
    "plt.plot(fpr, tpr)\n",
    "plt.xlabel('fpr')\n",
    "plt.ylabel('tpr')"
   ]
  },
  {
   "cell_type": "markdown",
   "metadata": {},
   "source": [
    "### Conclusiones \n",
    "\n",
    "Hemos utilizado distintas estrategias para solucionar el desbalanceo del Target.  Finalmente el parametro class_weigth 'balanced' es el que mayor resutlado ha obtenido.  Hemos conseguido aumentar el Recall hasta 0,89 y la curva roc hasta 0.84.\n"
   ]
  },
  {
   "cell_type": "markdown",
   "metadata": {},
   "source": [
    "### Evolutivo Metricas\n",
    "\n",
    "      MODELO     0      1      2       3\n",
    "      =======================================\n",
    "    - Accuracy  0.87 - 0.86 - 0.87 - 0.69\n",
    "    - Precision 0.48 - 0.40 - 0.51 - 0.28\n",
    "    - Recall    0.02 - 0.04 - 0.06 - 0.89\n",
    "    - F1        0.04 - 0.05 - 0.11 - 0.43\n",
    "    - Curva roc 0.49 - 0.74 - 0.84 - 0.84\n",
    "    "
   ]
  },
  {
   "cell_type": "code",
   "execution_count": null,
   "metadata": {},
   "outputs": [],
   "source": []
  }
 ],
 "metadata": {
  "kernelspec": {
   "display_name": "Python 3",
   "language": "python",
   "name": "python3"
  },
  "language_info": {
   "codemirror_mode": {
    "name": "ipython",
    "version": 3
   },
   "file_extension": ".py",
   "mimetype": "text/x-python",
   "name": "python",
   "nbconvert_exporter": "python",
   "pygments_lexer": "ipython3",
   "version": "3.7.7"
  }
 },
 "nbformat": 4,
 "nbformat_minor": 2
}
