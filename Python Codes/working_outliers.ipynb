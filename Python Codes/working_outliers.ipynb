{
 "cells": [
  {
   "cell_type": "markdown",
   "metadata": {},
   "source": [
    "# DETECCION DE OUTLIERS"
   ]
  },
  {
   "cell_type": "code",
   "execution_count": 1,
   "metadata": {},
   "outputs": [],
   "source": [
    "import pandas as pd\n",
    "import numpy as np\n",
    "import matplotlib.pyplot as plt\n",
    "%matplotlib inline"
   ]
  },
  {
   "cell_type": "code",
   "execution_count": 2,
   "metadata": {},
   "outputs": [],
   "source": [
    "df = pd.read_csv('/home/dsc/Master-Kschool/TFM/Financial-Product-Sales-Forecast-Model/0rigin_data/cleanned_data/df.tfm')"
   ]
  },
  {
   "cell_type": "code",
   "execution_count": 3,
   "metadata": {},
   "outputs": [
    {
     "data": {
      "text/html": [
       "<div>\n",
       "<style scoped>\n",
       "    .dataframe tbody tr th:only-of-type {\n",
       "        vertical-align: middle;\n",
       "    }\n",
       "\n",
       "    .dataframe tbody tr th {\n",
       "        vertical-align: top;\n",
       "    }\n",
       "\n",
       "    .dataframe thead th {\n",
       "        text-align: right;\n",
       "    }\n",
       "</style>\n",
       "<table border=\"1\" class=\"dataframe\">\n",
       "  <thead>\n",
       "    <tr style=\"text-align: right;\">\n",
       "      <th></th>\n",
       "      <th>cliente</th>\n",
       "      <th>saldo_captacion</th>\n",
       "      <th>esta_carterizado</th>\n",
       "      <th>cliente_bbp</th>\n",
       "      <th>tipo_gestor</th>\n",
       "      <th>gestor</th>\n",
       "      <th>cartera_patron</th>\n",
       "      <th>codigo_cartera</th>\n",
       "      <th>digital_3_meses</th>\n",
       "      <th>camino_digital</th>\n",
       "      <th>...</th>\n",
       "      <th>edad</th>\n",
       "      <th>seg_valor</th>\n",
       "      <th>seg_recorrido</th>\n",
       "      <th>dz</th>\n",
       "      <th>oficina</th>\n",
       "      <th>lp_seg_vida</th>\n",
       "      <th>lp_seg_acc</th>\n",
       "      <th>lp_seg_salud</th>\n",
       "      <th>lp_seg_hogar</th>\n",
       "      <th>lp_seg_auto</th>\n",
       "    </tr>\n",
       "  </thead>\n",
       "  <tbody>\n",
       "    <tr>\n",
       "      <th>0</th>\n",
       "      <td>1</td>\n",
       "      <td>1328106.49</td>\n",
       "      <td>SI</td>\n",
       "      <td>NO</td>\n",
       "      <td>ASESOR FINANCIERO</td>\n",
       "      <td>18287.0</td>\n",
       "      <td>ASESORAMIENTO FINANCIERO</td>\n",
       "      <td>14881.0</td>\n",
       "      <td>SI</td>\n",
       "      <td>COMPRADOR</td>\n",
       "      <td>...</td>\n",
       "      <td>69.0</td>\n",
       "      <td>ALTO</td>\n",
       "      <td>BAJO RECORRIDO</td>\n",
       "      <td>2</td>\n",
       "      <td>210</td>\n",
       "      <td>0</td>\n",
       "      <td>0</td>\n",
       "      <td>0</td>\n",
       "      <td>1</td>\n",
       "      <td>0</td>\n",
       "    </tr>\n",
       "    <tr>\n",
       "      <th>1</th>\n",
       "      <td>2</td>\n",
       "      <td>1142234.34</td>\n",
       "      <td>SI</td>\n",
       "      <td>NO</td>\n",
       "      <td>ASESOR FINANCIERO</td>\n",
       "      <td>18287.0</td>\n",
       "      <td>ASESORAMIENTO FINANCIERO</td>\n",
       "      <td>14881.0</td>\n",
       "      <td>SI</td>\n",
       "      <td>COMPRADOR</td>\n",
       "      <td>...</td>\n",
       "      <td>81.0</td>\n",
       "      <td>ALTO</td>\n",
       "      <td>ALTO RECORRIDO</td>\n",
       "      <td>2</td>\n",
       "      <td>210</td>\n",
       "      <td>0</td>\n",
       "      <td>0</td>\n",
       "      <td>0</td>\n",
       "      <td>0</td>\n",
       "      <td>0</td>\n",
       "    </tr>\n",
       "  </tbody>\n",
       "</table>\n",
       "<p>2 rows × 30 columns</p>\n",
       "</div>"
      ],
      "text/plain": [
       "   cliente  saldo_captacion esta_carterizado cliente_bbp        tipo_gestor  \\\n",
       "0        1       1328106.49               SI          NO  ASESOR FINANCIERO   \n",
       "1        2       1142234.34               SI          NO  ASESOR FINANCIERO   \n",
       "\n",
       "    gestor            cartera_patron  codigo_cartera digital_3_meses  \\\n",
       "0  18287.0  ASESORAMIENTO FINANCIERO         14881.0              SI   \n",
       "1  18287.0  ASESORAMIENTO FINANCIERO         14881.0              SI   \n",
       "\n",
       "  camino_digital  ...  edad  seg_valor   seg_recorrido  dz  oficina  \\\n",
       "0      COMPRADOR  ...  69.0       ALTO  BAJO RECORRIDO   2      210   \n",
       "1      COMPRADOR  ...  81.0       ALTO  ALTO RECORRIDO   2      210   \n",
       "\n",
       "   lp_seg_vida  lp_seg_acc  lp_seg_salud lp_seg_hogar lp_seg_auto  \n",
       "0            0           0             0            1           0  \n",
       "1            0           0             0            0           0  \n",
       "\n",
       "[2 rows x 30 columns]"
      ]
     },
     "execution_count": 3,
     "metadata": {},
     "output_type": "execute_result"
    }
   ],
   "source": [
    "df.head(2)"
   ]
  },
  {
   "cell_type": "code",
   "execution_count": 4,
   "metadata": {},
   "outputs": [],
   "source": [
    "posibles_variables_con_outliers = df[['edad','saldo_captacion','saldo_financiacion','saldo_ffii','saldo_plp']]"
   ]
  },
  {
   "cell_type": "code",
   "execution_count": 5,
   "metadata": {},
   "outputs": [
    {
     "data": {
      "text/html": [
       "<div>\n",
       "<style scoped>\n",
       "    .dataframe tbody tr th:only-of-type {\n",
       "        vertical-align: middle;\n",
       "    }\n",
       "\n",
       "    .dataframe tbody tr th {\n",
       "        vertical-align: top;\n",
       "    }\n",
       "\n",
       "    .dataframe thead th {\n",
       "        text-align: right;\n",
       "    }\n",
       "</style>\n",
       "<table border=\"1\" class=\"dataframe\">\n",
       "  <thead>\n",
       "    <tr style=\"text-align: right;\">\n",
       "      <th></th>\n",
       "      <th>edad</th>\n",
       "      <th>saldo_captacion</th>\n",
       "      <th>saldo_financiacion</th>\n",
       "      <th>saldo_ffii</th>\n",
       "      <th>saldo_plp</th>\n",
       "    </tr>\n",
       "  </thead>\n",
       "  <tbody>\n",
       "    <tr>\n",
       "      <th>count</th>\n",
       "      <td>451374.000000</td>\n",
       "      <td>4.513740e+05</td>\n",
       "      <td>4.513740e+05</td>\n",
       "      <td>4.513740e+05</td>\n",
       "      <td>451374.000000</td>\n",
       "    </tr>\n",
       "    <tr>\n",
       "      <th>mean</th>\n",
       "      <td>58.268941</td>\n",
       "      <td>4.971455e+04</td>\n",
       "      <td>1.380668e+04</td>\n",
       "      <td>8.483663e+03</td>\n",
       "      <td>1728.478326</td>\n",
       "    </tr>\n",
       "    <tr>\n",
       "      <th>std</th>\n",
       "      <td>19.018368</td>\n",
       "      <td>8.792364e+04</td>\n",
       "      <td>4.296438e+04</td>\n",
       "      <td>3.844671e+04</td>\n",
       "      <td>10780.622435</td>\n",
       "    </tr>\n",
       "    <tr>\n",
       "      <th>min</th>\n",
       "      <td>0.000000</td>\n",
       "      <td>-5.104332e+04</td>\n",
       "      <td>-4.900000e+03</td>\n",
       "      <td>0.000000e+00</td>\n",
       "      <td>0.000000</td>\n",
       "    </tr>\n",
       "    <tr>\n",
       "      <th>25%</th>\n",
       "      <td>45.000000</td>\n",
       "      <td>1.813182e+03</td>\n",
       "      <td>0.000000e+00</td>\n",
       "      <td>0.000000e+00</td>\n",
       "      <td>0.000000</td>\n",
       "    </tr>\n",
       "    <tr>\n",
       "      <th>50%</th>\n",
       "      <td>60.000000</td>\n",
       "      <td>1.520828e+04</td>\n",
       "      <td>0.000000e+00</td>\n",
       "      <td>0.000000e+00</td>\n",
       "      <td>0.000000</td>\n",
       "    </tr>\n",
       "    <tr>\n",
       "      <th>75%</th>\n",
       "      <td>73.000000</td>\n",
       "      <td>6.446964e+04</td>\n",
       "      <td>6.841775e+02</td>\n",
       "      <td>0.000000e+00</td>\n",
       "      <td>0.000000</td>\n",
       "    </tr>\n",
       "    <tr>\n",
       "      <th>max</th>\n",
       "      <td>118.000000</td>\n",
       "      <td>5.290216e+06</td>\n",
       "      <td>2.896317e+06</td>\n",
       "      <td>3.130940e+06</td>\n",
       "      <td>459937.460000</td>\n",
       "    </tr>\n",
       "  </tbody>\n",
       "</table>\n",
       "</div>"
      ],
      "text/plain": [
       "                edad  saldo_captacion  saldo_financiacion    saldo_ffii  \\\n",
       "count  451374.000000     4.513740e+05        4.513740e+05  4.513740e+05   \n",
       "mean       58.268941     4.971455e+04        1.380668e+04  8.483663e+03   \n",
       "std        19.018368     8.792364e+04        4.296438e+04  3.844671e+04   \n",
       "min         0.000000    -5.104332e+04       -4.900000e+03  0.000000e+00   \n",
       "25%        45.000000     1.813182e+03        0.000000e+00  0.000000e+00   \n",
       "50%        60.000000     1.520828e+04        0.000000e+00  0.000000e+00   \n",
       "75%        73.000000     6.446964e+04        6.841775e+02  0.000000e+00   \n",
       "max       118.000000     5.290216e+06        2.896317e+06  3.130940e+06   \n",
       "\n",
       "           saldo_plp  \n",
       "count  451374.000000  \n",
       "mean     1728.478326  \n",
       "std     10780.622435  \n",
       "min         0.000000  \n",
       "25%         0.000000  \n",
       "50%         0.000000  \n",
       "75%         0.000000  \n",
       "max    459937.460000  "
      ]
     },
     "execution_count": 5,
     "metadata": {},
     "output_type": "execute_result"
    },
    {
     "data": {
      "image/png": "[encoded data removed]",
      "text/plain": [
       "<Figure size 720x504 with 6 Axes>"
      ]
     },
     "metadata": {
      "needs_background": "light"
     },
     "output_type": "display_data"
    }
   ],
   "source": [
    "# Variable ffii. No contiene outliers. Son valores reales. La mayoria de los clientes no tienen saldos en ffii.\n",
    "# Variable plp.  No contiene outliers. Son valores reales. La mayoria de los clientes no tienen saldos en plp.\n",
    "# Variable Captacion. No tiene outliers. Son valores reales. Solamente modificamos los negativos a la media.\n",
    "# Variable saldo Fin. No tiene outliers. Son valores reales.Solamente modificamos los negativos a la media\n",
    "# Variable edad. Es la unica que puede tener ouliers reales.  Estidiamos y esos ouliers le damos valor de media.\n",
    "posibles_variables_con_outliers.hist(figsize = (10,7), color = 'y', bins = 40);\n",
    "posibles_variables_con_outliers.describe()"
   ]
  },
  {
   "cell_type": "markdown",
   "metadata": {},
   "source": [
    "# OUTLIER EDAD"
   ]
  },
  {
   "cell_type": "code",
   "execution_count": 11,
   "metadata": {
    "scrolled": false
   },
   "outputs": [
    {
     "name": "stdout",
     "output_type": "stream",
     "text": [
      "Boxplot edad\n"
     ]
    },
    {
     "data": {
      "text/plain": [
       "count    451374.000000\n",
       "mean         58.268941\n",
       "std          19.018368\n",
       "min           0.000000\n",
       "25%          45.000000\n",
       "50%          60.000000\n",
       "75%          73.000000\n",
       "max         118.000000\n",
       "Name: edad, dtype: float64"
      ]
     },
     "execution_count": 11,
     "metadata": {},
     "output_type": "execute_result"
    },
    {
     "data": {
      "image/png": "[encoded data removed]",
      "text/plain": [
       "<Figure size 432x288 with 1 Axes>"
      ]
     },
     "metadata": {
      "needs_background": "light"
     },
     "output_type": "display_data"
    }
   ],
   "source": [
    "# Hacemos una primera visualizacion\n",
    "print ('Boxplot edad')\n",
    "plt.boxplot(df['edad'],vert = False,widths = 2)\n",
    "plt.show   \n",
    "df['edad'].describe()"
   ]
  },
  {
   "cell_type": "code",
   "execution_count": 12,
   "metadata": {},
   "outputs": [
    {
     "name": "stdout",
     "output_type": "stream",
     "text": [
      "Cuartiles edad\n",
      "==============================\n",
      "Primer cuartil 45.0\n",
      "==============================\n",
      "Tercer cuartil 73.0\n",
      "==============================\n",
      "Rango_intercuartil 28.0\n",
      "==============================\n",
      "Mediana 60.0\n",
      "==============================\n",
      "Minimo 0.0\n",
      "==============================\n",
      "Maximo 118.0\n"
     ]
    }
   ],
   "source": [
    "print ('Cuartiles edad')\n",
    "print('='*30)\n",
    "Q1 = df['edad'].quantile(0.25)\n",
    "print ('Primer cuartil',Q1)\n",
    "print('='*30)\n",
    "Q3 = df['edad'].quantile(0.75)\n",
    "print ('Tercer cuartil',Q3)\n",
    "print('='*30)\n",
    "rangointercuartil = (Q3 - Q1)\n",
    "print ('Rango_intercuartil',rangointercuartil)\n",
    "print('='*30)\n",
    "mediana = df['edad'].median()\n",
    "print ('Mediana', mediana)\n",
    "print('='*30)\n",
    "minimo = df['edad'].min()\n",
    "print ('Minimo', minimo)\n",
    "print('='*30)\n",
    "maximo = df['edad'].max()\n",
    "print ('Maximo', maximo)"
   ]
  },
  {
   "cell_type": "code",
   "execution_count": 13,
   "metadata": {
    "scrolled": true
   },
   "outputs": [
    {
     "name": "stdout",
     "output_type": "stream",
     "text": [
      "==============================\n",
      "Extremo bigote_inferior 3.0\n",
      "==============================\n",
      "Extremo bigote_superior 115.0\n",
      "==============================\n"
     ]
    }
   ],
   "source": [
    "#sacamos los extremos superiores e inferiores de los bigotes\n",
    "print('='*30)\n",
    "extremo_inferior = Q1 - 1.5 * rangointercuartil\n",
    "print ('Extremo bigote_inferior', extremo_inferior)\n",
    "print('='*30)\n",
    "extremo_superior = Q3 + 1.5 * rangointercuartil\n",
    "print ('Extremo bigote_superior', extremo_superior)\n",
    "print('='*30)"
   ]
  },
  {
   "cell_type": "code",
   "execution_count": 14,
   "metadata": {},
   "outputs": [],
   "source": [
    "#detectamos los outliers\n",
    "ubicacion_outliers = (df['edad'] < extremo_inferior) | (df['edad'] > extremo_superior)\n",
    "#print ('ubicacion_outliers',ubicacion_outliers)"
   ]
  },
  {
   "cell_type": "code",
   "execution_count": 15,
   "metadata": {},
   "outputs": [
    {
     "data": {
      "text/plain": [
       "254"
      ]
     },
     "execution_count": 15,
     "metadata": {},
     "output_type": "execute_result"
    }
   ],
   "source": [
    "outliers = df['edad'][ubicacion_outliers]\n",
    "outliers.count()\n",
    "#print ('lista_outliers',outlier)"
   ]
  },
  {
   "cell_type": "code",
   "execution_count": 16,
   "metadata": {},
   "outputs": [],
   "source": [
    "#detectamos tambien los NO outliers\n",
    "resto_datos_no_outliers = (df['edad'] >= extremo_inferior) & (df['edad'] <= extremo_superior)\n",
    "#print ('ubicacion_outliers',ubicacion_outliers)"
   ]
  },
  {
   "cell_type": "code",
   "execution_count": 17,
   "metadata": {},
   "outputs": [
    {
     "data": {
      "text/plain": [
       "451120"
      ]
     },
     "execution_count": 17,
     "metadata": {},
     "output_type": "execute_result"
    }
   ],
   "source": [
    "no_outliers = df['edad'][resto_datos_no_outliers]\n",
    "no_outliers.count()\n",
    "#print ('lista_ubicacion_sin_outliers',sin_outlier)"
   ]
  },
  {
   "cell_type": "code",
   "execution_count": 18,
   "metadata": {},
   "outputs": [],
   "source": [
    "# No queremos eliminar los outliers ya que son muy pocos vs todo el df. Los transformamos a la media de edad\n",
    "df[(df['edad']<3) | (df['edad']>=115)] = df['edad'].mean()"
   ]
  },
  {
   "cell_type": "code",
   "execution_count": 19,
   "metadata": {},
   "outputs": [
    {
     "name": "stdout",
     "output_type": "stream",
     "text": [
      "Boxplot edad\n"
     ]
    },
    {
     "data": {
      "text/plain": [
       "count    451374.000000\n",
       "mean         58.299586\n",
       "std          18.970610\n",
       "min           3.000000\n",
       "25%          45.000000\n",
       "50%          60.000000\n",
       "75%          73.000000\n",
       "max         114.000000\n",
       "Name: edad, dtype: float64"
      ]
     },
     "execution_count": 19,
     "metadata": {},
     "output_type": "execute_result"
    },
    {
     "data": {
      "image/png": "[encoded data removed]",
      "text/plain": [
       "<Figure size 432x288 with 1 Axes>"
      ]
     },
     "metadata": {
      "needs_background": "light"
     },
     "output_type": "display_data"
    }
   ],
   "source": [
    "# Volvemos a hacer la  visualizacion\n",
    "print ('Boxplot edad')\n",
    "plt.boxplot(df['edad'],vert = False, widths = 2)\n",
    "plt.show   \n",
    "df['edad'].describe()"
   ]
  },
  {
   "cell_type": "markdown",
   "metadata": {},
   "source": [
    "#  SALDO CAPTACION"
   ]
  },
  {
   "cell_type": "code",
   "execution_count": 20,
   "metadata": {},
   "outputs": [
    {
     "data": {
      "text/plain": [
       "count    4.513740e+05\n",
       "mean     4.971323e+04\n",
       "std      8.792428e+04\n",
       "min     -5.104332e+04\n",
       "25%      1.809365e+03\n",
       "50%      1.520690e+04\n",
       "75%      6.446964e+04\n",
       "max      5.290216e+06\n",
       "Name: saldo_captacion, dtype: float64"
      ]
     },
     "execution_count": 20,
     "metadata": {},
     "output_type": "execute_result"
    }
   ],
   "source": [
    "# No queremos los valores negativos. Les damos valor de media.\n",
    "df['saldo_captacion'].describe()"
   ]
  },
  {
   "cell_type": "code",
   "execution_count": 25,
   "metadata": {},
   "outputs": [
    {
     "data": {
      "text/plain": [
       "9439"
      ]
     },
     "execution_count": 25,
     "metadata": {},
     "output_type": "execute_result"
    }
   ],
   "source": [
    "# Hay 9439 clientes con saldo negativo . Solo el 2%\n",
    "df[df['saldo_captacion'] < 0]['cliente'].nunique()"
   ]
  },
  {
   "cell_type": "code",
   "execution_count": 33,
   "metadata": {},
   "outputs": [
    {
     "data": {
      "text/plain": [
       "451374"
      ]
     },
     "execution_count": 33,
     "metadata": {},
     "output_type": "execute_result"
    }
   ],
   "source": [
    "df['cliente'].count()"
   ]
  },
  {
   "cell_type": "code",
   "execution_count": 36,
   "metadata": {},
   "outputs": [
    {
     "data": {
      "text/plain": [
       "0.020911705149166765"
      ]
     },
     "execution_count": 36,
     "metadata": {},
     "output_type": "execute_result"
    }
   ],
   "source": [
    "df[df['saldo_captacion'] < 0]['cliente'].nunique() / df['cliente'].count()"
   ]
  },
  {
   "cell_type": "code",
   "execution_count": 59,
   "metadata": {},
   "outputs": [],
   "source": [
    "# No queremos los valores negativos. Les damos valor de cero.\n",
    "df[df['saldo_captacion'] < 0] = 0"
   ]
  },
  {
   "cell_type": "code",
   "execution_count": 58,
   "metadata": {},
   "outputs": [
    {
     "data": {
      "text/plain": [
       "count    4.513740e+05\n",
       "mean     5.061069e+04\n",
       "std      8.713412e+04\n",
       "min      0.000000e+00\n",
       "25%      2.186115e+03\n",
       "50%      1.761814e+04\n",
       "75%      6.427437e+04\n",
       "max      5.096383e+06\n",
       "Name: saldo_captacion, dtype: float64"
      ]
     },
     "execution_count": 58,
     "metadata": {},
     "output_type": "execute_result"
    }
   ],
   "source": [
    "# Sacamos nuvamente datos estadisticos..\n",
    "df['saldo_captacion'].describe()"
   ]
  },
  {
   "cell_type": "markdown",
   "metadata": {},
   "source": [
    "#  SALDO FINANCIACION"
   ]
  },
  {
   "cell_type": "code",
   "execution_count": 51,
   "metadata": {},
   "outputs": [
    {
     "data": {
      "text/plain": [
       "count    4.513740e+05\n",
       "mean     1.457941e+04\n",
       "std      4.288681e+04\n",
       "min     -4.900000e+03\n",
       "25%      0.000000e+00\n",
       "50%      9.550000e+00\n",
       "75%      9.892050e+02\n",
       "max      2.896317e+06\n",
       "Name: saldo_financiacion, dtype: float64"
      ]
     },
     "execution_count": 51,
     "metadata": {},
     "output_type": "execute_result"
    }
   ],
   "source": [
    "# No queremos los valores negativos. Les damos valor de media.\n",
    "df['saldo_financiacion'].describe()"
   ]
  },
  {
   "cell_type": "code",
   "execution_count": 52,
   "metadata": {},
   "outputs": [
    {
     "data": {
      "text/plain": [
       "696"
      ]
     },
     "execution_count": 52,
     "metadata": {},
     "output_type": "execute_result"
    }
   ],
   "source": [
    "# Hay 9439 clientes con saldo negativo . Solo el 2%\n",
    "df[df['saldo_financiacion'] < 0]['cliente'].nunique()"
   ]
  },
  {
   "cell_type": "code",
   "execution_count": 53,
   "metadata": {},
   "outputs": [
    {
     "data": {
      "text/plain": [
       "451374"
      ]
     },
     "execution_count": 53,
     "metadata": {},
     "output_type": "execute_result"
    }
   ],
   "source": [
    "df['cliente'].count()"
   ]
  },
  {
   "cell_type": "code",
   "execution_count": 54,
   "metadata": {},
   "outputs": [
    {
     "data": {
      "text/plain": [
       "0.0015419585532175093"
      ]
     },
     "execution_count": 54,
     "metadata": {},
     "output_type": "execute_result"
    }
   ],
   "source": [
    "df[df['saldo_financiacion'] < 0]['cliente'].nunique() / df['cliente'].count()"
   ]
  },
  {
   "cell_type": "code",
   "execution_count": 55,
   "metadata": {},
   "outputs": [],
   "source": [
    "df[df['saldo_financiacion'] < 0] = 0"
   ]
  },
  {
   "cell_type": "code",
   "execution_count": 56,
   "metadata": {},
   "outputs": [
    {
     "data": {
      "text/plain": [
       "count    4.513740e+05\n",
       "mean     1.457975e+04\n",
       "std      4.288669e+04\n",
       "min      0.000000e+00\n",
       "25%      0.000000e+00\n",
       "50%      9.550000e+00\n",
       "75%      9.892050e+02\n",
       "max      2.896317e+06\n",
       "Name: saldo_financiacion, dtype: float64"
      ]
     },
     "execution_count": 56,
     "metadata": {},
     "output_type": "execute_result"
    }
   ],
   "source": [
    "# No queremos los valores negativos. Les damos valor de cero.\n",
    "df['saldo_financiacion'].describe()"
   ]
  },
  {
   "cell_type": "code",
   "execution_count": null,
   "metadata": {},
   "outputs": [],
   "source": []
  }
 ],
 "metadata": {
  "kernelspec": {
   "display_name": "Python 3",
   "language": "python",
   "name": "python3"
  },
  "language_info": {
   "codemirror_mode": {
    "name": "ipython",
    "version": 3
   },
   "file_extension": ".py",
   "mimetype": "text/x-python",
   "name": "python",
   "nbconvert_exporter": "python",
   "pygments_lexer": "ipython3",
   "version": "3.7.7"
  }
 },
 "nbformat": 4,
 "nbformat_minor": 2
}
