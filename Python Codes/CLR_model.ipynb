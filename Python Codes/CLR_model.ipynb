{
 "cells": [
  {
   "cell_type": "markdown",
   "metadata": {},
   "source": [
    "# MODELO CLASIFICACION REGRESION LOGISTICA"
   ]
  },
  {
   "cell_type": "markdown",
   "metadata": {},
   "source": [
    "Presentamos e Importamos todas las librerias que vamos a necesitar a lo largo del modelo."
   ]
  },
  {
   "cell_type": "code",
   "execution_count": 1,
   "metadata": {},
   "outputs": [],
   "source": [
    "import pandas as pd\n",
    "import numpy as np\n",
    "\n",
    "#Librerias Visualizacion\n",
    "import matplotlib.pyplot as plt\n",
    "import pylab as pl\n",
    "import seaborn as sns \n",
    "from pylab import rcParams \n",
    "from matplotlib import pyplot\n",
    "\n",
    "#Libreria Metricas\n",
    "from sklearn.metrics import f1_score, recall_score, precision_score, accuracy_score\n",
    "from sklearn.metrics import roc_auc_score, roc_curve\n",
    "from sklearn.metrics import confusion_matrix\n",
    "from sklearn.metrics import classification_report\n",
    "from sklearn.metrics import confusion_matrix\n",
    "from sklearn.metrics import classification_report\n",
    "from sklearn.metrics import auc\n",
    "\n",
    "#Librerias Modelos\n",
    "from sklearn.linear_model import LogisticRegression\n",
    "from sklearn.neighbors import KNeighborsRegressor\n",
    "from sklearn.tree import DecisionTreeClassifier \n",
    "from sklearn.ensemble import RandomForestClassifier\n",
    "from sklearn.model_selection import train_test_split \n",
    "\n",
    "# librerias Procesamieno Feature_engineering\n",
    "from sklearn.preprocessing import LabelEncoder\n",
    "from imblearn.over_sampling import RandomOverSampler\n",
    "from imblearn.combine import SMOTETomek\n",
    "from imblearn.ensemble import BalancedBaggingClassifier \n",
    "from collections import Counter\n",
    "\n",
    "# Libreria Dimensionalidad\n",
    "from sklearn.decomposition import PCA\n"
   ]
  },
  {
   "cell_type": "markdown",
   "metadata": {},
   "source": [
    "Leemos y presentamos nuestra Base de Datos. Mostramos las 5 primeras filas, el tipo y el nombre de las Columnas / variables que la componen. Las variables que se refierne a unidades de negocio no las vamos a utilizar en el modelo por lo que las transformamos a Objeto para un mejor entendimiento y segmentacion de las propias variables. "
   ]
  },
  {
   "cell_type": "code",
   "execution_count": 2,
   "metadata": {},
   "outputs": [],
   "source": [
    "df = pd.read_csv('/home/dsc/Master-Kschool/TFM/Financial-Product-Sales-Forecast-Model/0rigin_data/cleanned_data/df.tfm')"
   ]
  },
  {
   "cell_type": "code",
   "execution_count": 3,
   "metadata": {
    "scrolled": true
   },
   "outputs": [
    {
     "data": {
      "text/html": [
       "<div>\n",
       "<style scoped>\n",
       "    .dataframe tbody tr th:only-of-type {\n",
       "        vertical-align: middle;\n",
       "    }\n",
       "\n",
       "    .dataframe tbody tr th {\n",
       "        vertical-align: top;\n",
       "    }\n",
       "\n",
       "    .dataframe thead th {\n",
       "        text-align: right;\n",
       "    }\n",
       "</style>\n",
       "<table border=\"1\" class=\"dataframe\">\n",
       "  <thead>\n",
       "    <tr style=\"text-align: right;\">\n",
       "      <th></th>\n",
       "      <th>cliente</th>\n",
       "      <th>saldo_captacion</th>\n",
       "      <th>esta_carterizado</th>\n",
       "      <th>cliente_bbp</th>\n",
       "      <th>tipo_gestor</th>\n",
       "      <th>gestor</th>\n",
       "      <th>cartera_patron</th>\n",
       "      <th>codigo_cartera</th>\n",
       "      <th>digital_3_meses</th>\n",
       "      <th>camino_digital</th>\n",
       "      <th>...</th>\n",
       "      <th>edad</th>\n",
       "      <th>seg_valor</th>\n",
       "      <th>seg_recorrido</th>\n",
       "      <th>dz</th>\n",
       "      <th>oficina</th>\n",
       "      <th>lp_seg_vida</th>\n",
       "      <th>lp_seg_acc</th>\n",
       "      <th>lp_seg_salud</th>\n",
       "      <th>lp_seg_hogar</th>\n",
       "      <th>lp_seg_auto</th>\n",
       "    </tr>\n",
       "  </thead>\n",
       "  <tbody>\n",
       "    <tr>\n",
       "      <th>0</th>\n",
       "      <td>1</td>\n",
       "      <td>1328106.49</td>\n",
       "      <td>SI</td>\n",
       "      <td>NO</td>\n",
       "      <td>ASESOR FINANCIERO</td>\n",
       "      <td>18287.0</td>\n",
       "      <td>ASESORAMIENTO FINANCIERO</td>\n",
       "      <td>14881.0</td>\n",
       "      <td>SI</td>\n",
       "      <td>COMPRADOR</td>\n",
       "      <td>...</td>\n",
       "      <td>69.0</td>\n",
       "      <td>ALTO</td>\n",
       "      <td>BAJO RECORRIDO</td>\n",
       "      <td>2</td>\n",
       "      <td>210</td>\n",
       "      <td>0</td>\n",
       "      <td>0</td>\n",
       "      <td>0</td>\n",
       "      <td>1</td>\n",
       "      <td>0</td>\n",
       "    </tr>\n",
       "    <tr>\n",
       "      <th>1</th>\n",
       "      <td>2</td>\n",
       "      <td>1142234.34</td>\n",
       "      <td>SI</td>\n",
       "      <td>NO</td>\n",
       "      <td>ASESOR FINANCIERO</td>\n",
       "      <td>18287.0</td>\n",
       "      <td>ASESORAMIENTO FINANCIERO</td>\n",
       "      <td>14881.0</td>\n",
       "      <td>SI</td>\n",
       "      <td>COMPRADOR</td>\n",
       "      <td>...</td>\n",
       "      <td>81.0</td>\n",
       "      <td>ALTO</td>\n",
       "      <td>ALTO RECORRIDO</td>\n",
       "      <td>2</td>\n",
       "      <td>210</td>\n",
       "      <td>0</td>\n",
       "      <td>0</td>\n",
       "      <td>0</td>\n",
       "      <td>0</td>\n",
       "      <td>0</td>\n",
       "    </tr>\n",
       "    <tr>\n",
       "      <th>2</th>\n",
       "      <td>3</td>\n",
       "      <td>1142234.34</td>\n",
       "      <td>SI</td>\n",
       "      <td>NO</td>\n",
       "      <td>ASESOR FINANCIERO</td>\n",
       "      <td>18287.0</td>\n",
       "      <td>TUTELA</td>\n",
       "      <td>28332.0</td>\n",
       "      <td>NO</td>\n",
       "      <td>SIN USO</td>\n",
       "      <td>...</td>\n",
       "      <td>75.0</td>\n",
       "      <td>ALTO</td>\n",
       "      <td>BAJO RECORRIDO</td>\n",
       "      <td>2</td>\n",
       "      <td>210</td>\n",
       "      <td>0</td>\n",
       "      <td>0</td>\n",
       "      <td>0</td>\n",
       "      <td>0</td>\n",
       "      <td>0</td>\n",
       "    </tr>\n",
       "    <tr>\n",
       "      <th>3</th>\n",
       "      <td>4</td>\n",
       "      <td>1340503.88</td>\n",
       "      <td>SI</td>\n",
       "      <td>NO</td>\n",
       "      <td>ASESOR FINANCIERO</td>\n",
       "      <td>41475.0</td>\n",
       "      <td>ASESORAMIENTO FINANCIERO</td>\n",
       "      <td>14204.0</td>\n",
       "      <td>NO</td>\n",
       "      <td>SIN USO</td>\n",
       "      <td>...</td>\n",
       "      <td>94.0</td>\n",
       "      <td>ALTO</td>\n",
       "      <td>BAJO RECORRIDO</td>\n",
       "      <td>2</td>\n",
       "      <td>210</td>\n",
       "      <td>0</td>\n",
       "      <td>0</td>\n",
       "      <td>0</td>\n",
       "      <td>0</td>\n",
       "      <td>0</td>\n",
       "    </tr>\n",
       "    <tr>\n",
       "      <th>4</th>\n",
       "      <td>5</td>\n",
       "      <td>1758517.70</td>\n",
       "      <td>SI</td>\n",
       "      <td>NO</td>\n",
       "      <td>ASESOR FINANCIERO</td>\n",
       "      <td>39000.0</td>\n",
       "      <td>ASESORAMIENTO FINANCIERO</td>\n",
       "      <td>14219.0</td>\n",
       "      <td>SI</td>\n",
       "      <td>COMPRADOR</td>\n",
       "      <td>...</td>\n",
       "      <td>64.0</td>\n",
       "      <td>ALTO</td>\n",
       "      <td>BAJO RECORRIDO</td>\n",
       "      <td>2</td>\n",
       "      <td>210</td>\n",
       "      <td>0</td>\n",
       "      <td>0</td>\n",
       "      <td>0</td>\n",
       "      <td>0</td>\n",
       "      <td>0</td>\n",
       "    </tr>\n",
       "  </tbody>\n",
       "</table>\n",
       "<p>5 rows × 30 columns</p>\n",
       "</div>"
      ],
      "text/plain": [
       "   cliente  saldo_captacion esta_carterizado cliente_bbp        tipo_gestor  \\\n",
       "0        1       1328106.49               SI          NO  ASESOR FINANCIERO   \n",
       "1        2       1142234.34               SI          NO  ASESOR FINANCIERO   \n",
       "2        3       1142234.34               SI          NO  ASESOR FINANCIERO   \n",
       "3        4       1340503.88               SI          NO  ASESOR FINANCIERO   \n",
       "4        5       1758517.70               SI          NO  ASESOR FINANCIERO   \n",
       "\n",
       "    gestor            cartera_patron  codigo_cartera digital_3_meses  \\\n",
       "0  18287.0  ASESORAMIENTO FINANCIERO         14881.0              SI   \n",
       "1  18287.0  ASESORAMIENTO FINANCIERO         14881.0              SI   \n",
       "2  18287.0                    TUTELA         28332.0              NO   \n",
       "3  41475.0  ASESORAMIENTO FINANCIERO         14204.0              NO   \n",
       "4  39000.0  ASESORAMIENTO FINANCIERO         14219.0              SI   \n",
       "\n",
       "  camino_digital  ...  edad  seg_valor   seg_recorrido  dz  oficina  \\\n",
       "0      COMPRADOR  ...  69.0       ALTO  BAJO RECORRIDO   2      210   \n",
       "1      COMPRADOR  ...  81.0       ALTO  ALTO RECORRIDO   2      210   \n",
       "2        SIN USO  ...  75.0       ALTO  BAJO RECORRIDO   2      210   \n",
       "3        SIN USO  ...  94.0       ALTO  BAJO RECORRIDO   2      210   \n",
       "4      COMPRADOR  ...  64.0       ALTO  BAJO RECORRIDO   2      210   \n",
       "\n",
       "   lp_seg_vida  lp_seg_acc  lp_seg_salud lp_seg_hogar lp_seg_auto  \n",
       "0            0           0             0            1           0  \n",
       "1            0           0             0            0           0  \n",
       "2            0           0             0            0           0  \n",
       "3            0           0             0            0           0  \n",
       "4            0           0             0            0           0  \n",
       "\n",
       "[5 rows x 30 columns]"
      ]
     },
     "execution_count": 3,
     "metadata": {},
     "output_type": "execute_result"
    }
   ],
   "source": [
    "df.head(5)"
   ]
  },
  {
   "cell_type": "code",
   "execution_count": 4,
   "metadata": {
    "scrolled": false
   },
   "outputs": [
    {
     "data": {
      "text/plain": [
       "Index(['cliente', 'saldo_captacion', 'esta_carterizado', 'cliente_bbp',\n",
       "       'tipo_gestor', 'gestor', 'cartera_patron', 'codigo_cartera',\n",
       "       'digital_3_meses', 'camino_digital', 'saldo_financiacion', 'saldo_ffii',\n",
       "       'saldo_plp', 'lp_dom_ingresos', 'lp_tjta_cto', 'lp_tjt_rev', 'lp_rbos',\n",
       "       'lp_of_int', 'marca_bp', 'marca_ccte', 'edad', 'seg_valor',\n",
       "       'seg_recorrido', 'dz', 'oficina', 'lp_seg_vida', 'lp_seg_acc',\n",
       "       'lp_seg_salud', 'lp_seg_hogar', 'lp_seg_auto'],\n",
       "      dtype='object')"
      ]
     },
     "execution_count": 4,
     "metadata": {},
     "output_type": "execute_result"
    }
   ],
   "source": [
    "df.columns"
   ]
  },
  {
   "cell_type": "code",
   "execution_count": 5,
   "metadata": {},
   "outputs": [
    {
     "data": {
      "text/plain": [
       "cliente                 int64\n",
       "saldo_captacion       float64\n",
       "esta_carterizado       object\n",
       "cliente_bbp            object\n",
       "tipo_gestor            object\n",
       "gestor                float64\n",
       "cartera_patron         object\n",
       "codigo_cartera        float64\n",
       "digital_3_meses        object\n",
       "camino_digital         object\n",
       "saldo_financiacion    float64\n",
       "saldo_ffii            float64\n",
       "saldo_plp             float64\n",
       "lp_dom_ingresos         int64\n",
       "lp_tjta_cto             int64\n",
       "lp_tjt_rev              int64\n",
       "lp_rbos                 int64\n",
       "lp_of_int               int64\n",
       "marca_bp               object\n",
       "marca_ccte             object\n",
       "edad                  float64\n",
       "seg_valor              object\n",
       "seg_recorrido          object\n",
       "dz                      int64\n",
       "oficina                 int64\n",
       "lp_seg_vida             int64\n",
       "lp_seg_acc              int64\n",
       "lp_seg_salud            int64\n",
       "lp_seg_hogar            int64\n",
       "lp_seg_auto             int64\n",
       "dtype: object"
      ]
     },
     "execution_count": 5,
     "metadata": {},
     "output_type": "execute_result"
    }
   ],
   "source": [
    "df.dtypes"
   ]
  },
  {
   "cell_type": "markdown",
   "metadata": {},
   "source": [
    "## PRIMERA APROXIMACION AL MODELO"
   ]
  },
  {
   "cell_type": "code",
   "execution_count": 6,
   "metadata": {},
   "outputs": [],
   "source": [
    "df[[\"cliente\", \"gestor\",\n",
    "    'codigo_cartera', 'dz', 'oficina']] = df[[\"cliente\", \"gestor\",\n",
    "                                              'codigo_cartera', 'dz', 'oficina']].astype(object);"
   ]
  },
  {
   "cell_type": "code",
   "execution_count": 7,
   "metadata": {},
   "outputs": [],
   "source": [
    "df = df.select_dtypes('number')"
   ]
  },
  {
   "cell_type": "code",
   "execution_count": 8,
   "metadata": {},
   "outputs": [
    {
     "name": "stdout",
     "output_type": "stream",
     "text": [
      "Datos X = 6319236 (451374, 14)\n",
      "Datos y = 451374 (451374,)\n"
     ]
    }
   ],
   "source": [
    "# Inputs y Target \n",
    "X = df.drop(['lp_seg_hogar'], axis = 1)\n",
    "y= df['lp_seg_hogar']\n",
    "print('Datos X =', X.size, X.shape)\n",
    "print('Datos y =', y.size, y.shape)"
   ]
  },
  {
   "cell_type": "code",
   "execution_count": 9,
   "metadata": {},
   "outputs": [],
   "source": [
    "clf_log_regressor = LogisticRegression()"
   ]
  },
  {
   "cell_type": "code",
   "execution_count": 10,
   "metadata": {},
   "outputs": [
    {
     "data": {
      "text/plain": [
       "LogisticRegression()"
      ]
     },
     "execution_count": 10,
     "metadata": {},
     "output_type": "execute_result"
    }
   ],
   "source": [
    "clf_log_regressor.fit(X,y)"
   ]
  },
  {
   "cell_type": "code",
   "execution_count": 11,
   "metadata": {},
   "outputs": [
    {
     "data": {
      "text/plain": [
       "array([1, 1, 1, ..., 0, 0, 0])"
      ]
     },
     "execution_count": 11,
     "metadata": {},
     "output_type": "execute_result"
    }
   ],
   "source": [
    "clf_log_regressor.predict(X)"
   ]
  },
  {
   "cell_type": "code",
   "execution_count": 12,
   "metadata": {},
   "outputs": [],
   "source": [
    "test_size = 0.20\n",
    "seed = 7\n",
    "X_train, X_test, y_train, y_test = train_test_split(X, y, test_size = test_size, random_state = seed)"
   ]
  },
  {
   "cell_type": "code",
   "execution_count": 13,
   "metadata": {},
   "outputs": [
    {
     "data": {
      "text/plain": [
       "LogisticRegression()"
      ]
     },
     "execution_count": 13,
     "metadata": {},
     "output_type": "execute_result"
    }
   ],
   "source": [
    "clf_log_regressor.fit(X_train,y_train)"
   ]
  },
  {
   "cell_type": "code",
   "execution_count": 14,
   "metadata": {},
   "outputs": [
    {
     "data": {
      "text/plain": [
       "array([0, 0, 0, ..., 0, 0, 0])"
      ]
     },
     "execution_count": 14,
     "metadata": {},
     "output_type": "execute_result"
    }
   ],
   "source": [
    "clf_log_regressor.predict(X_test)"
   ]
  },
  {
   "cell_type": "code",
   "execution_count": 15,
   "metadata": {},
   "outputs": [
    {
     "data": {
      "text/plain": [
       "array([0.31004564, 0.13072842, 0.17100719, ..., 0.07256822, 0.13290052,\n",
       "       0.03860107])"
      ]
     },
     "execution_count": 15,
     "metadata": {},
     "output_type": "execute_result"
    }
   ],
   "source": [
    "clf_log_regressor.predict_proba(X_test)[:, 1]"
   ]
  },
  {
   "cell_type": "code",
   "execution_count": 16,
   "metadata": {},
   "outputs": [
    {
     "name": "stdout",
     "output_type": "stream",
     "text": [
      "== Primera Aproximacion CLR_model ==\n",
      "accuracy_score = 0.8687565771254501\n",
      "====================================\n",
      "precision  = 0.4470588235294118\n",
      "====================================\n",
      "recall = 0.022571064913025032\n",
      "====================================\n",
      "f1_score = 0.042972536348949916\n",
      "====================================\n",
      "roc_auc_score = 0.4880382752670486\n",
      "====================================\n",
      "classification_report\n",
      "              precision    recall  f1-score   support\n",
      "\n",
      "           0       0.87      1.00      0.93     78490\n",
      "           1       0.45      0.02      0.04     11785\n",
      "\n",
      "    accuracy                           0.87     90275\n",
      "   macro avg       0.66      0.51      0.49     90275\n",
      "weighted avg       0.82      0.87      0.81     90275\n",
      "\n"
     ]
    }
   ],
   "source": [
    "print('== Primera Aproximacion CLR_model ==')\n",
    "print ('accuracy_score =', accuracy_score(y_test,clf_log_regressor.predict(X_test)))\n",
    "print('====================================')\n",
    "print('precision  =', precision_score(y_test,clf_log_regressor.predict(X_test)))\n",
    "print('====================================')\n",
    "print('recall =', recall_score(y_test,clf_log_regressor.predict(X_test)))\n",
    "print('====================================')\n",
    "print('f1_score =', f1_score(y_test,clf_log_regressor.predict(X_test)))\n",
    "print('====================================')\n",
    "print('roc_auc_score =', roc_auc_score(y_test,clf_log_regressor.predict_proba(X_test)[:, 1]))\n",
    "print('====================================')\n",
    "print('classification_report')\n",
    "print(classification_report(y_test, clf_log_regressor.predict(X_test)))"
   ]
  },
  {
   "cell_type": "code",
   "execution_count": 17,
   "metadata": {},
   "outputs": [
    {
     "name": "stdout",
     "output_type": "stream",
     "text": [
      "Sin entrenar: ROC AUC=0.500\n",
      "Regresión Logística: ROC AUC=0.488\n"
     ]
    },
    {
     "data": {
      "image/png": "[encoded data removed]",
      "text/plain": [
       "<Figure size 432x288 with 1 Axes>"
      ]
     },
     "metadata": {
      "needs_background": "light"
     },
     "output_type": "display_data"
    }
   ],
   "source": [
    "#Generamos un clasificador sin entrenar , que asignará 0 a todo\n",
    "sin_entrenar = [0 for _ in range(len(X_test))]\n",
    "# Calculamos el AUC\n",
    "ns_auc = roc_auc_score(y_test, sin_entrenar)\n",
    "lr_auc = roc_auc_score(y_test, clf_log_regressor.predict_proba(X_test)[:, 1])\n",
    "# Imprimimos en pantalla\n",
    "print('Sin entrenar: ROC AUC=%.3f' % (ns_auc))\n",
    "print('Regresión Logística: ROC AUC=%.3f' % (lr_auc))\n",
    "# Calculamos las curvas ROC\n",
    "ns_fpr, ns_tpr, _ = roc_curve(y_test, sin_entrenar)\n",
    "lr_fpr, lr_tpr, _ = roc_curve(y_test, clf_log_regressor.predict_proba(X_test)[:, 1])\n",
    "# Pintamos las curvas ROC\n",
    "pyplot.plot(ns_fpr, ns_tpr, linestyle='--', label='Sin entrenar')\n",
    "pyplot.plot(lr_fpr, lr_tpr, marker='.', label=' clf_log_regressor' , color = \"y\")\n",
    "# Etiquetas de los ejes\n",
    "pyplot.xlabel('Tasa de Falsos Positivos')\n",
    "pyplot.ylabel('Tasa de Verdaderos Positivos')\n",
    "pyplot.legend()\n",
    "pyplot.show()"
   ]
  },
  {
   "cell_type": "code",
   "execution_count": 22,
   "metadata": {},
   "outputs": [],
   "source": [
    "df = pd.read_csv('/home/dsc/Master-Kschool/TFM/Financial-Product-Sales-Forecast-Model/0rigin_data/cleanned_data/df.tfm')\n"
   ]
  },
  {
   "cell_type": "code",
   "execution_count": 23,
   "metadata": {},
   "outputs": [],
   "source": [
    "df[[\"cliente\", \"gestor\",\n",
    "    'codigo_cartera', 'dz', 'oficina']] = df[[\"cliente\", \"gestor\",\n",
    "                                              'codigo_cartera', 'dz', 'oficina']].astype(object);"
   ]
  },
  {
   "cell_type": "markdown",
   "metadata": {},
   "source": [
    "## LABEL ENCODER\n",
    "\n",
    "Dentro del Data Frame existen 10 variables categoricas las cuales tenemos que transformar a numero para poder utilizarlas en el modelo."
   ]
  },
  {
   "cell_type": "code",
   "execution_count": 24,
   "metadata": {},
   "outputs": [],
   "source": [
    "from sklearn.preprocessing import LabelEncoder\n",
    "lbl = LabelEncoder()"
   ]
  },
  {
   "cell_type": "markdown",
   "metadata": {},
   "source": [
    "Transformamos las variables"
   ]
  },
  {
   "cell_type": "code",
   "execution_count": 25,
   "metadata": {},
   "outputs": [
    {
     "data": {
      "text/plain": [
       "array([1, 0, 1, ..., 3, 3, 0])"
      ]
     },
     "execution_count": 25,
     "metadata": {},
     "output_type": "execute_result"
    }
   ],
   "source": [
    "lbl.fit_transform(df['tipo_gestor'])\n",
    "lbl.fit_transform(df['esta_carterizado'])\n",
    "lbl.fit_transform(df['cliente_bbp'])\n",
    "lbl.fit_transform(df['cartera_patron'])\n",
    "lbl.fit_transform(df['digital_3_meses'])\n",
    "lbl.fit_transform(df['camino_digital'])\n",
    "lbl.fit_transform(df['marca_bp'])\n",
    "lbl.fit_transform(df['marca_ccte'])\n",
    "lbl.fit_transform(df['seg_valor'])\n",
    "lbl.fit_transform(df['seg_recorrido'])\n"
   ]
  },
  {
   "cell_type": "markdown",
   "metadata": {},
   "source": [
    "Asignamos a cada una de estas variables una nueva columna"
   ]
  },
  {
   "cell_type": "code",
   "execution_count": 26,
   "metadata": {},
   "outputs": [],
   "source": [
    "df['tipo_gestor_etiqueta']=lbl.fit_transform(df['tipo_gestor'])\n",
    "df['esta_carterizado_etiqueta']=lbl.fit_transform(df['esta_carterizado'])\n",
    "df['cliente_bbp_etiqueta']=lbl.fit_transform(df['cliente_bbp'])\n",
    "df['cartera_patron_etiqueta']=lbl.fit_transform(df['cartera_patron'])\n",
    "df['digital_3_meses_etiqueta']=lbl.fit_transform(df['digital_3_meses'])\n",
    "df['camino_digital_etiqueta']=lbl.fit_transform(df['camino_digital'])\n",
    "df['marca_bp_etiqueta']=lbl.fit_transform(df['marca_bp'])\n",
    "df['marca_ccte_etiqueta']=lbl.fit_transform(df['marca_ccte'])\n",
    "df['seg_valor_etiqueta']=lbl.fit_transform(df['seg_valor'])\n",
    "df['seg_recorrido_etiqueta']=lbl.fit_transform(df['seg_recorrido'])"
   ]
  },
  {
   "cell_type": "markdown",
   "metadata": {},
   "source": [
    "Confirmamos que la transformacion se ha realizado correctamente. "
   ]
  },
  {
   "cell_type": "code",
   "execution_count": 27,
   "metadata": {
    "scrolled": true
   },
   "outputs": [
    {
     "data": {
      "text/plain": [
       "0    163991\n",
       "2    149923\n",
       "1    127889\n",
       "3      9571\n",
       "Name: seg_recorrido_etiqueta, dtype: int64"
      ]
     },
     "execution_count": 27,
     "metadata": {},
     "output_type": "execute_result"
    }
   ],
   "source": [
    "df['seg_recorrido_etiqueta'].value_counts()"
   ]
  },
  {
   "cell_type": "markdown",
   "metadata": {},
   "source": [
    "Eliminamos las antiguas variables categoricas que se han transformado y lo confirmamos listando las columnas."
   ]
  },
  {
   "cell_type": "code",
   "execution_count": 28,
   "metadata": {},
   "outputs": [],
   "source": [
    "df.drop(['tipo_gestor','esta_carterizado','cliente_bbp','cartera_patron','digital_3_meses','camino_digital',\n",
    "         'marca_bp','marca_ccte','seg_valor','seg_recorrido'],axis = 1,inplace = True)"
   ]
  },
  {
   "cell_type": "code",
   "execution_count": 29,
   "metadata": {},
   "outputs": [
    {
     "data": {
      "text/plain": [
       "Index(['cliente', 'saldo_captacion', 'gestor', 'codigo_cartera',\n",
       "       'saldo_financiacion', 'saldo_ffii', 'saldo_plp', 'lp_dom_ingresos',\n",
       "       'lp_tjta_cto', 'lp_tjt_rev', 'lp_rbos', 'lp_of_int', 'edad', 'dz',\n",
       "       'oficina', 'lp_seg_vida', 'lp_seg_acc', 'lp_seg_salud', 'lp_seg_hogar',\n",
       "       'lp_seg_auto', 'tipo_gestor_etiqueta', 'esta_carterizado_etiqueta',\n",
       "       'cliente_bbp_etiqueta', 'cartera_patron_etiqueta',\n",
       "       'digital_3_meses_etiqueta', 'camino_digital_etiqueta',\n",
       "       'marca_bp_etiqueta', 'marca_ccte_etiqueta', 'seg_valor_etiqueta',\n",
       "       'seg_recorrido_etiqueta'],\n",
       "      dtype='object')"
      ]
     },
     "execution_count": 29,
     "metadata": {},
     "output_type": "execute_result"
    }
   ],
   "source": [
    "df.columns"
   ]
  },
  {
   "cell_type": "markdown",
   "metadata": {},
   "source": [
    "# OUTLIERS\n",
    "\n",
    "Hemos visto durante la exploracion del data set que existen distintas variables que son susceptibles de tener Outliers. Estas son 'edad','saldo_captacion','saldo_financiacion','saldo_ffii','saldo_plp'.  Trabajamos con ellas.  Lo primero que hacemos es analizarlas estadisticamente con Describe() y plotear un histograma de las mismas para verlas graficamente"
   ]
  },
  {
   "cell_type": "code",
   "execution_count": 30,
   "metadata": {},
   "outputs": [],
   "source": [
    "posibles_variables_con_outliers = df[['edad','saldo_captacion','saldo_financiacion','saldo_ffii','saldo_plp']]"
   ]
  },
  {
   "cell_type": "code",
   "execution_count": 31,
   "metadata": {
    "scrolled": true
   },
   "outputs": [
    {
     "data": {
      "text/html": [
       "<div>\n",
       "<style scoped>\n",
       "    .dataframe tbody tr th:only-of-type {\n",
       "        vertical-align: middle;\n",
       "    }\n",
       "\n",
       "    .dataframe tbody tr th {\n",
       "        vertical-align: top;\n",
       "    }\n",
       "\n",
       "    .dataframe thead th {\n",
       "        text-align: right;\n",
       "    }\n",
       "</style>\n",
       "<table border=\"1\" class=\"dataframe\">\n",
       "  <thead>\n",
       "    <tr style=\"text-align: right;\">\n",
       "      <th></th>\n",
       "      <th>edad</th>\n",
       "      <th>saldo_captacion</th>\n",
       "      <th>saldo_financiacion</th>\n",
       "      <th>saldo_ffii</th>\n",
       "      <th>saldo_plp</th>\n",
       "    </tr>\n",
       "  </thead>\n",
       "  <tbody>\n",
       "    <tr>\n",
       "      <th>count</th>\n",
       "      <td>451374.000000</td>\n",
       "      <td>4.513740e+05</td>\n",
       "      <td>4.513740e+05</td>\n",
       "      <td>4.513740e+05</td>\n",
       "      <td>451374.000000</td>\n",
       "    </tr>\n",
       "    <tr>\n",
       "      <th>mean</th>\n",
       "      <td>58.268941</td>\n",
       "      <td>4.971455e+04</td>\n",
       "      <td>1.380668e+04</td>\n",
       "      <td>8.483663e+03</td>\n",
       "      <td>1728.478326</td>\n",
       "    </tr>\n",
       "    <tr>\n",
       "      <th>std</th>\n",
       "      <td>19.018368</td>\n",
       "      <td>8.792364e+04</td>\n",
       "      <td>4.296438e+04</td>\n",
       "      <td>3.844671e+04</td>\n",
       "      <td>10780.622435</td>\n",
       "    </tr>\n",
       "    <tr>\n",
       "      <th>min</th>\n",
       "      <td>0.000000</td>\n",
       "      <td>-5.104332e+04</td>\n",
       "      <td>-4.900000e+03</td>\n",
       "      <td>0.000000e+00</td>\n",
       "      <td>0.000000</td>\n",
       "    </tr>\n",
       "    <tr>\n",
       "      <th>25%</th>\n",
       "      <td>45.000000</td>\n",
       "      <td>1.813182e+03</td>\n",
       "      <td>0.000000e+00</td>\n",
       "      <td>0.000000e+00</td>\n",
       "      <td>0.000000</td>\n",
       "    </tr>\n",
       "    <tr>\n",
       "      <th>50%</th>\n",
       "      <td>60.000000</td>\n",
       "      <td>1.520828e+04</td>\n",
       "      <td>0.000000e+00</td>\n",
       "      <td>0.000000e+00</td>\n",
       "      <td>0.000000</td>\n",
       "    </tr>\n",
       "    <tr>\n",
       "      <th>75%</th>\n",
       "      <td>73.000000</td>\n",
       "      <td>6.446964e+04</td>\n",
       "      <td>6.841775e+02</td>\n",
       "      <td>0.000000e+00</td>\n",
       "      <td>0.000000</td>\n",
       "    </tr>\n",
       "    <tr>\n",
       "      <th>max</th>\n",
       "      <td>118.000000</td>\n",
       "      <td>5.290216e+06</td>\n",
       "      <td>2.896317e+06</td>\n",
       "      <td>3.130940e+06</td>\n",
       "      <td>459937.460000</td>\n",
       "    </tr>\n",
       "  </tbody>\n",
       "</table>\n",
       "</div>"
      ],
      "text/plain": [
       "                edad  saldo_captacion  saldo_financiacion    saldo_ffii  \\\n",
       "count  451374.000000     4.513740e+05        4.513740e+05  4.513740e+05   \n",
       "mean       58.268941     4.971455e+04        1.380668e+04  8.483663e+03   \n",
       "std        19.018368     8.792364e+04        4.296438e+04  3.844671e+04   \n",
       "min         0.000000    -5.104332e+04       -4.900000e+03  0.000000e+00   \n",
       "25%        45.000000     1.813182e+03        0.000000e+00  0.000000e+00   \n",
       "50%        60.000000     1.520828e+04        0.000000e+00  0.000000e+00   \n",
       "75%        73.000000     6.446964e+04        6.841775e+02  0.000000e+00   \n",
       "max       118.000000     5.290216e+06        2.896317e+06  3.130940e+06   \n",
       "\n",
       "           saldo_plp  \n",
       "count  451374.000000  \n",
       "mean     1728.478326  \n",
       "std     10780.622435  \n",
       "min         0.000000  \n",
       "25%         0.000000  \n",
       "50%         0.000000  \n",
       "75%         0.000000  \n",
       "max    459937.460000  "
      ]
     },
     "execution_count": 31,
     "metadata": {},
     "output_type": "execute_result"
    }
   ],
   "source": [
    "posibles_variables_con_outliers.describe()"
   ]
  },
  {
   "cell_type": "markdown",
   "metadata": {},
   "source": [
    "- Variable Fondos de Inversion. No contiene outliers. Son valores reales. La mayoria de los clientes no tienen saldos en Fondos de Inversion.\n",
    "- Variable Planes de Pension.  No contiene outliers. Son valores reales. La mayoria de los clientes no tienen saldos en Planes de Pension.\n",
    "- Variable Captacion. No tiene outliers. Son valores reales. Solamente modificamos los negativos y les damos valor de la media.\n",
    "- Variable saldo Financiacion. No tiene outliers. Son valores reales.Solamente modificamos los negativos y les damos valor de la media.\n",
    "- __Variable edad. Es la unica que puede tener ouliers reales.  Estudiamos y esos ouliers les asignaremos un nuevo valor.__"
   ]
  },
  {
   "cell_type": "markdown",
   "metadata": {},
   "source": [
    "__Variable EDAD__\n",
    "\n",
    "Hacemos una primera visualizacion con un histograma y un BoxPlot.  Estos arrojan informacion interesante como la distribucion normal y que el maximo de edad es de 118 años y que existen clientes con 0 años. Con este Boxplot vemos que los valores por debajo de 3/4 años y los valores por encima de los 114/115 años son outliers.  Estos valores los vamos a corregir dandoles valores minimos de 18 años y maximo de 100, adaptandolos a la realidad de mayoria de edad y de logica de estimacion de vida."
   ]
  },
  {
   "cell_type": "code",
   "execution_count": 93,
   "metadata": {},
   "outputs": [
    {
     "data": {
      "text/plain": [
       "<AxesSubplot:>"
      ]
     },
     "execution_count": 93,
     "metadata": {},
     "output_type": "execute_result"
    },
    {
     "data": {
      "image/png": "[encoded data removed]",
      "text/plain": [
       "<Figure size 432x288 with 1 Axes>"
      ]
     },
     "metadata": {
      "needs_background": "light"
     },
     "output_type": "display_data"
    }
   ],
   "source": [
    "df['edad'].hist(color = 'y', bins = 25)"
   ]
  },
  {
   "cell_type": "code",
   "execution_count": 33,
   "metadata": {},
   "outputs": [
    {
     "name": "stdout",
     "output_type": "stream",
     "text": [
      "Boxplot edad\n"
     ]
    },
    {
     "data": {
      "text/plain": [
       "count    451374.000000\n",
       "mean         58.268941\n",
       "std          19.018368\n",
       "min           0.000000\n",
       "25%          45.000000\n",
       "50%          60.000000\n",
       "75%          73.000000\n",
       "max         118.000000\n",
       "Name: edad, dtype: float64"
      ]
     },
     "execution_count": 33,
     "metadata": {},
     "output_type": "execute_result"
    },
    {
     "data": {
      "image/png": "[encoded data removed]",
      "text/plain": [
       "<Figure size 432x288 with 1 Axes>"
      ]
     },
     "metadata": {
      "needs_background": "light"
     },
     "output_type": "display_data"
    }
   ],
   "source": [
    "print ('Boxplot edad')\n",
    "plt.boxplot(df['edad'],vert = False, widths = 2)\n",
    "plt.show   \n",
    "df['edad'].describe()"
   ]
  },
  {
   "cell_type": "markdown",
   "metadata": {},
   "source": [
    "Para poder sacar los valores que son Outliers debemos sacar los rangos intercuartiles e identifcar los \"bigotes\""
   ]
  },
  {
   "cell_type": "code",
   "execution_count": 34,
   "metadata": {},
   "outputs": [
    {
     "name": "stdout",
     "output_type": "stream",
     "text": [
      "Cuartiles edad\n",
      "==============================\n",
      "Primer cuartil 45.0\n",
      "==============================\n",
      "Tercer cuartil 73.0\n",
      "==============================\n",
      "Rango_intercuartil 28.0\n",
      "==============================\n",
      "Mediana 60.0\n",
      "==============================\n",
      "Minimo 0.0\n",
      "==============================\n",
      "Maximo 118.0\n"
     ]
    }
   ],
   "source": [
    "# Cuartiles y rangos intercuartil\n",
    "print ('Cuartiles edad')\n",
    "print('='*30)\n",
    "Q1 = df['edad'].quantile(0.25)\n",
    "print ('Primer cuartil',Q1)\n",
    "print('='*30)\n",
    "Q3 = df['edad'].quantile(0.75)\n",
    "print ('Tercer cuartil',Q3)\n",
    "print('='*30)\n",
    "rangointercuartil = (Q3 - Q1)\n",
    "print ('Rango_intercuartil',rangointercuartil)\n",
    "print('='*30)\n",
    "mediana = df['edad'].median()\n",
    "print ('Mediana', mediana)\n",
    "print('='*30)\n",
    "minimo = df['edad'].min()\n",
    "print ('Minimo', minimo)\n",
    "print('='*30)\n",
    "maximo = df['edad'].max()\n",
    "print ('Maximo', maximo)"
   ]
  },
  {
   "cell_type": "code",
   "execution_count": 35,
   "metadata": {},
   "outputs": [
    {
     "name": "stdout",
     "output_type": "stream",
     "text": [
      "==============================\n",
      "Extremo bigote_inferior 3.0\n",
      "==============================\n",
      "Extremo bigote_superior 115.0\n",
      "==============================\n"
     ]
    }
   ],
   "source": [
    "# Identifcamos los extremos superiores e inferiores de los bigotes\n",
    "print('='*30)\n",
    "extremo_inferior = Q1 - 1.5 * rangointercuartil\n",
    "print ('Extremo bigote_inferior', extremo_inferior)\n",
    "print('='*30)\n",
    "extremo_superior = Q3 + 1.5 * rangointercuartil\n",
    "print ('Extremo bigote_superior', extremo_superior)\n",
    "print('='*30)"
   ]
  },
  {
   "cell_type": "code",
   "execution_count": 36,
   "metadata": {},
   "outputs": [
    {
     "name": "stdout",
     "output_type": "stream",
     "text": [
      "Outliers    : 254\n",
      "No Outliers : 451120\n"
     ]
    }
   ],
   "source": [
    "# Detectamos y contamos los outliers\n",
    "ubicacion_outliers = (df['edad'] < extremo_inferior) | (df['edad'] > extremo_superior)\n",
    "outliers = df['edad'][ubicacion_outliers]\n",
    "resto_datos_no_outliers = (df['edad'] >= extremo_inferior) & (df['edad'] <= extremo_superior)\n",
    "no_outliers = df['edad'][resto_datos_no_outliers]\n",
    "print('Outliers    :', outliers.count())\n",
    "print('No Outliers :', no_outliers.count())\n"
   ]
  },
  {
   "cell_type": "code",
   "execution_count": 37,
   "metadata": {},
   "outputs": [],
   "source": [
    "# No queremos eliminar los outliers ya que son muy pocos vs todo el df. Los transformamos a la media de edad\n",
    "df['edad'] = df['edad'].where(df['edad'] > 3 ,df['edad'].mean())\n",
    "df['edad'] = df['edad'].where(df['edad'] < 115 ,df['edad'].mean())"
   ]
  },
  {
   "cell_type": "code",
   "execution_count": 38,
   "metadata": {
    "scrolled": false
   },
   "outputs": [
    {
     "name": "stdout",
     "output_type": "stream",
     "text": [
      "Boxplot edad\n"
     ]
    },
    {
     "data": {
      "text/plain": [
       "count    451374.000000\n",
       "mean         58.324076\n",
       "std          18.934848\n",
       "min           4.000000\n",
       "25%          45.000000\n",
       "50%          60.000000\n",
       "75%          73.000000\n",
       "max         114.000000\n",
       "Name: edad, dtype: float64"
      ]
     },
     "execution_count": 38,
     "metadata": {},
     "output_type": "execute_result"
    },
    {
     "data": {
      "image/png": "[encoded data removed]",
      "text/plain": [
       "<Figure size 432x288 with 1 Axes>"
      ]
     },
     "metadata": {
      "needs_background": "light"
     },
     "output_type": "display_data"
    }
   ],
   "source": [
    "# Volvemos a hacer la  visualizacion\n",
    "print ('Boxplot edad')\n",
    "plt.boxplot(df['edad'],vert = False, widths = 2)\n",
    "plt.show   \n",
    "df['edad'].describe()"
   ]
  },
  {
   "cell_type": "markdown",
   "metadata": {},
   "source": [
    "__Variable SALDO CAPTACION__\n",
    "\n",
    "Sacamos un histograma y listamos un describe() para ver cual es su distribucion y sus principales estadisticas descirptivas. Esta variable esta conpuesta principalmente por clientes con bajos saldos de ahorro. En este caso todos los saldos son utiles, no existen outliers pero si saldos negativos que vamos a corregir para el modelo dandoles valores de 0 euros."
   ]
  },
  {
   "cell_type": "code",
   "execution_count": 92,
   "metadata": {},
   "outputs": [
    {
     "data": {
      "text/plain": [
       "<AxesSubplot:>"
      ]
     },
     "execution_count": 92,
     "metadata": {},
     "output_type": "execute_result"
    },
    {
     "data": {
      "image/png": "[encoded data removed]",
      "text/plain": [
       "<Figure size 432x288 with 1 Axes>"
      ]
     },
     "metadata": {
      "needs_background": "light"
     },
     "output_type": "display_data"
    }
   ],
   "source": [
    "df['saldo_captacion'].hist(color = 'y', bins = 50)"
   ]
  },
  {
   "cell_type": "code",
   "execution_count": 40,
   "metadata": {},
   "outputs": [
    {
     "data": {
      "text/plain": [
       "count    4.513740e+05\n",
       "mean     4.971455e+04\n",
       "std      8.792364e+04\n",
       "min     -5.104332e+04\n",
       "25%      1.813182e+03\n",
       "50%      1.520828e+04\n",
       "75%      6.446964e+04\n",
       "max      5.290216e+06\n",
       "Name: saldo_captacion, dtype: float64"
      ]
     },
     "execution_count": 40,
     "metadata": {},
     "output_type": "execute_result"
    }
   ],
   "source": [
    "df['saldo_captacion'].describe()"
   ]
  },
  {
   "cell_type": "code",
   "execution_count": 41,
   "metadata": {
    "scrolled": true
   },
   "outputs": [
    {
     "name": "stdout",
     "output_type": "stream",
     "text": [
      "Clientes_con_saldos_negativos : 9440\n",
      "Porcentaje_Clientes_con_saldos_negativos:  0.02091392060685817\n"
     ]
    }
   ],
   "source": [
    "# Hay 9440 clientes con saldo negativo . Solo el 2%\n",
    "Clientes_con_saldos_negativos = df[df['saldo_captacion'] < 0]['cliente'].nunique()\n",
    "Porcentaje_Clientes_con_saldos_negativos = df[df['saldo_captacion'] < 0]['cliente'].nunique() / df['cliente'].count()\n",
    "print ('Clientes_con_saldos_negativos :',Clientes_con_saldos_negativos)\n",
    "print ('Porcentaje_Clientes_con_saldos_negativos: ',Porcentaje_Clientes_con_saldos_negativos)"
   ]
  },
  {
   "cell_type": "code",
   "execution_count": 42,
   "metadata": {},
   "outputs": [],
   "source": [
    "# No queremos los valores negativos. Les damos valor de cero.\n",
    "df[df['saldo_captacion'] < 0] = 0"
   ]
  },
  {
   "cell_type": "code",
   "execution_count": 43,
   "metadata": {
    "scrolled": true
   },
   "outputs": [
    {
     "data": {
      "text/plain": [
       "count    4.513740e+05\n",
       "mean     4.971805e+04\n",
       "std      8.792162e+04\n",
       "min      0.000000e+00\n",
       "25%      1.813182e+03\n",
       "50%      1.520828e+04\n",
       "75%      6.446964e+04\n",
       "max      5.290216e+06\n",
       "Name: saldo_captacion, dtype: float64"
      ]
     },
     "execution_count": 43,
     "metadata": {},
     "output_type": "execute_result"
    }
   ],
   "source": [
    "# Sacamos nuvamente datos estadisticos..\n",
    "df['saldo_captacion'].describe()"
   ]
  },
  {
   "cell_type": "markdown",
   "metadata": {},
   "source": [
    "__Variable SALDO FINANCIACION__\n",
    "\n",
    "Sacamos un histograma y listamos un describe() para ver cual es su distribucion y sus principales estadisticas descirptivas. Todos los datos de esta variable son datos validos ya que se trata de financiacion real de los clientes.  No existen outliers pero si existen clientes con financiacion negativa, esto es que son deudores.  Estos datos los vamos a transformar a valor 0€"
   ]
  },
  {
   "cell_type": "code",
   "execution_count": null,
   "metadata": {},
   "outputs": [],
   "source": [
    "df['saldo_financiacion'].hist(color = 'y', bins = 50)"
   ]
  },
  {
   "cell_type": "code",
   "execution_count": 45,
   "metadata": {},
   "outputs": [
    {
     "data": {
      "text/plain": [
       "count    4.513740e+05\n",
       "mean     1.353979e+04\n",
       "std      4.262430e+04\n",
       "min     -4.900000e+03\n",
       "25%      0.000000e+00\n",
       "50%      0.000000e+00\n",
       "75%      6.066900e+02\n",
       "max      2.896317e+06\n",
       "Name: saldo_financiacion, dtype: float64"
      ]
     },
     "execution_count": 45,
     "metadata": {},
     "output_type": "execute_result"
    }
   ],
   "source": [
    "# No queremos los valores negativos. Les damos valor de media.\n",
    "df['saldo_financiacion'].describe()"
   ]
  },
  {
   "cell_type": "code",
   "execution_count": 46,
   "metadata": {},
   "outputs": [
    {
     "name": "stdout",
     "output_type": "stream",
     "text": [
      "Clientes_con_financiacion_negativa : 696\n",
      "Porcentaje_Clientes_con_financiacion_negativa:  0.0015419585532175093\n"
     ]
    }
   ],
   "source": [
    "# Hay 9439 clientes con saldo negativo . \n",
    "Clientes_con_financiacion_negativa = df[df['saldo_financiacion'] < 0]['cliente'].nunique()\n",
    "Porcentaje_Clientes_con_financiacion_negativad = df[df['saldo_financiacion'] < 0]['cliente'].nunique() / df['cliente'].count()\n",
    "print ('Clientes_con_financiacion_negativa :',Clientes_con_financiacion_negativa)\n",
    "print ('Porcentaje_Clientes_con_financiacion_negativa: ',Porcentaje_Clientes_con_financiacion_negativad)"
   ]
  },
  {
   "cell_type": "code",
   "execution_count": 47,
   "metadata": {},
   "outputs": [],
   "source": [
    "# No queremos los valores negativos. Les damos valor de cero.\n",
    "df[df['saldo_financiacion'] < 0] = 0"
   ]
  },
  {
   "cell_type": "code",
   "execution_count": 48,
   "metadata": {},
   "outputs": [
    {
     "data": {
      "text/plain": [
       "count    4.513740e+05\n",
       "mean     1.354013e+04\n",
       "std      4.262418e+04\n",
       "min      0.000000e+00\n",
       "25%      0.000000e+00\n",
       "50%      0.000000e+00\n",
       "75%      6.066900e+02\n",
       "max      2.896317e+06\n",
       "Name: saldo_financiacion, dtype: float64"
      ]
     },
     "execution_count": 48,
     "metadata": {},
     "output_type": "execute_result"
    }
   ],
   "source": [
    "df['saldo_financiacion'].describe()"
   ]
  },
  {
   "cell_type": "markdown",
   "metadata": {},
   "source": [
    "__Variable SALDO PLANES DE PENSION__\n",
    "\n",
    "Sacamos un histograma y listamos un describe() para ver cual es su distribucion y sus principales estadisticas descriptivas. Se trata de una variable donde la mayoria de los clientes no tienen saldos en Planes de Pension.  Esta variable la mantenemos sin hacer ningun cambio. "
   ]
  },
  {
   "cell_type": "code",
   "execution_count": 94,
   "metadata": {},
   "outputs": [
    {
     "data": {
      "text/plain": [
       "<AxesSubplot:>"
      ]
     },
     "execution_count": 94,
     "metadata": {},
     "output_type": "execute_result"
    },
    {
     "data": {
      "image/png": "[encoded data removed]",
      "text/plain": [
       "<Figure size 432x288 with 1 Axes>"
      ]
     },
     "metadata": {
      "needs_background": "light"
     },
     "output_type": "display_data"
    }
   ],
   "source": [
    "df['saldo_plp'].hist(color = 'y', bins = 50)"
   ]
  },
  {
   "cell_type": "code",
   "execution_count": 50,
   "metadata": {
    "scrolled": false
   },
   "outputs": [
    {
     "data": {
      "text/plain": [
       "count    451374.000000\n",
       "mean       1720.115913\n",
       "std       10755.266998\n",
       "min           0.000000\n",
       "25%           0.000000\n",
       "50%           0.000000\n",
       "75%           0.000000\n",
       "max      459937.460000\n",
       "Name: saldo_plp, dtype: float64"
      ]
     },
     "execution_count": 50,
     "metadata": {},
     "output_type": "execute_result"
    }
   ],
   "source": [
    "df['saldo_plp'].describe()"
   ]
  },
  {
   "cell_type": "markdown",
   "metadata": {},
   "source": [
    "## __ADAPTAMOS EL DF SEGUN LAS VARIABLES QUE VAMOS A NECESITAR__\n",
    "\n"
   ]
  },
  {
   "cell_type": "code",
   "execution_count": 51,
   "metadata": {
    "scrolled": true
   },
   "outputs": [
    {
     "data": {
      "text/plain": [
       "Index(['cliente', 'saldo_captacion', 'gestor', 'codigo_cartera',\n",
       "       'saldo_financiacion', 'saldo_ffii', 'saldo_plp', 'lp_dom_ingresos',\n",
       "       'lp_tjta_cto', 'lp_tjt_rev', 'lp_rbos', 'lp_of_int', 'edad', 'dz',\n",
       "       'oficina', 'lp_seg_vida', 'lp_seg_acc', 'lp_seg_salud', 'lp_seg_hogar',\n",
       "       'lp_seg_auto', 'tipo_gestor_etiqueta', 'esta_carterizado_etiqueta',\n",
       "       'cliente_bbp_etiqueta', 'cartera_patron_etiqueta',\n",
       "       'digital_3_meses_etiqueta', 'camino_digital_etiqueta',\n",
       "       'marca_bp_etiqueta', 'marca_ccte_etiqueta', 'seg_valor_etiqueta',\n",
       "       'seg_recorrido_etiqueta'],\n",
       "      dtype='object')"
      ]
     },
     "execution_count": 51,
     "metadata": {},
     "output_type": "execute_result"
    }
   ],
   "source": [
    "df.columns"
   ]
  },
  {
   "cell_type": "code",
   "execution_count": 52,
   "metadata": {},
   "outputs": [],
   "source": [
    "df = df[['edad','saldo_captacion','saldo_financiacion','saldo_ffii','saldo_plp',\n",
    "              'lp_dom_ingresos','lp_tjta_cto','lp_tjt_rev','lp_rbos','lp_of_int',\n",
    "              'lp_seg_vida','lp_seg_acc','lp_seg_salud','lp_seg_auto','lp_seg_hogar',\n",
    "              'cartera_patron_etiqueta','digital_3_meses_etiqueta','camino_digital_etiqueta','marca_bp_etiqueta','marca_ccte_etiqueta',\n",
    "              'seg_valor_etiqueta','seg_recorrido_etiqueta']]\n",
    "               "
   ]
  },
  {
   "cell_type": "markdown",
   "metadata": {},
   "source": [
    "## NORMALIZACION\n",
    "\n",
    "Debemos llevar todas las varaibles a una escala comun. Para ello utilizamos MinMaxScaler."
   ]
  },
  {
   "cell_type": "code",
   "execution_count": 53,
   "metadata": {},
   "outputs": [],
   "source": [
    "from sklearn.preprocessing import MinMaxScaler"
   ]
  },
  {
   "cell_type": "code",
   "execution_count": 54,
   "metadata": {},
   "outputs": [],
   "source": [
    "scaler = MinMaxScaler()"
   ]
  },
  {
   "cell_type": "code",
   "execution_count": 55,
   "metadata": {},
   "outputs": [],
   "source": [
    "df_normalizado = scaler.fit_transform(df)"
   ]
  },
  {
   "cell_type": "code",
   "execution_count": 56,
   "metadata": {},
   "outputs": [],
   "source": [
    "columnas_datos_numericos = df.columns"
   ]
  },
  {
   "cell_type": "code",
   "execution_count": 57,
   "metadata": {},
   "outputs": [],
   "source": [
    "df_normalizado = pd.DataFrame(df_normalizado, columns=columnas_datos_numericos)"
   ]
  },
  {
   "cell_type": "code",
   "execution_count": 58,
   "metadata": {},
   "outputs": [
    {
     "data": {
      "text/html": [
       "<div>\n",
       "<style scoped>\n",
       "    .dataframe tbody tr th:only-of-type {\n",
       "        vertical-align: middle;\n",
       "    }\n",
       "\n",
       "    .dataframe tbody tr th {\n",
       "        vertical-align: top;\n",
       "    }\n",
       "\n",
       "    .dataframe thead th {\n",
       "        text-align: right;\n",
       "    }\n",
       "</style>\n",
       "<table border=\"1\" class=\"dataframe\">\n",
       "  <thead>\n",
       "    <tr style=\"text-align: right;\">\n",
       "      <th></th>\n",
       "      <th>edad</th>\n",
       "      <th>saldo_captacion</th>\n",
       "      <th>saldo_financiacion</th>\n",
       "      <th>saldo_ffii</th>\n",
       "      <th>saldo_plp</th>\n",
       "      <th>lp_dom_ingresos</th>\n",
       "      <th>lp_tjta_cto</th>\n",
       "      <th>lp_tjt_rev</th>\n",
       "      <th>lp_rbos</th>\n",
       "      <th>lp_of_int</th>\n",
       "      <th>...</th>\n",
       "      <th>lp_seg_salud</th>\n",
       "      <th>lp_seg_auto</th>\n",
       "      <th>lp_seg_hogar</th>\n",
       "      <th>cartera_patron_etiqueta</th>\n",
       "      <th>digital_3_meses_etiqueta</th>\n",
       "      <th>camino_digital_etiqueta</th>\n",
       "      <th>marca_bp_etiqueta</th>\n",
       "      <th>marca_ccte_etiqueta</th>\n",
       "      <th>seg_valor_etiqueta</th>\n",
       "      <th>seg_recorrido_etiqueta</th>\n",
       "    </tr>\n",
       "  </thead>\n",
       "  <tbody>\n",
       "    <tr>\n",
       "      <th>0</th>\n",
       "      <td>0.605263</td>\n",
       "      <td>0.260598</td>\n",
       "      <td>0.0</td>\n",
       "      <td>0.45682</td>\n",
       "      <td>0.031101</td>\n",
       "      <td>1.0</td>\n",
       "      <td>1.0</td>\n",
       "      <td>1.0</td>\n",
       "      <td>1.0</td>\n",
       "      <td>1.0</td>\n",
       "      <td>...</td>\n",
       "      <td>0.0</td>\n",
       "      <td>0.0</td>\n",
       "      <td>1.0</td>\n",
       "      <td>0.0</td>\n",
       "      <td>1.0</td>\n",
       "      <td>0.00</td>\n",
       "      <td>0.0</td>\n",
       "      <td>0.0</td>\n",
       "      <td>0.0</td>\n",
       "      <td>0.333333</td>\n",
       "    </tr>\n",
       "    <tr>\n",
       "      <th>1</th>\n",
       "      <td>0.710526</td>\n",
       "      <td>0.224126</td>\n",
       "      <td>0.0</td>\n",
       "      <td>0.39064</td>\n",
       "      <td>0.000000</td>\n",
       "      <td>0.0</td>\n",
       "      <td>0.0</td>\n",
       "      <td>0.0</td>\n",
       "      <td>1.0</td>\n",
       "      <td>1.0</td>\n",
       "      <td>...</td>\n",
       "      <td>0.0</td>\n",
       "      <td>0.0</td>\n",
       "      <td>0.0</td>\n",
       "      <td>0.0</td>\n",
       "      <td>1.0</td>\n",
       "      <td>0.00</td>\n",
       "      <td>0.0</td>\n",
       "      <td>0.0</td>\n",
       "      <td>0.0</td>\n",
       "      <td>0.000000</td>\n",
       "    </tr>\n",
       "    <tr>\n",
       "      <th>2</th>\n",
       "      <td>0.657895</td>\n",
       "      <td>0.224126</td>\n",
       "      <td>0.0</td>\n",
       "      <td>0.39064</td>\n",
       "      <td>0.000000</td>\n",
       "      <td>0.0</td>\n",
       "      <td>0.0</td>\n",
       "      <td>0.0</td>\n",
       "      <td>1.0</td>\n",
       "      <td>0.0</td>\n",
       "      <td>...</td>\n",
       "      <td>0.0</td>\n",
       "      <td>0.0</td>\n",
       "      <td>0.0</td>\n",
       "      <td>1.0</td>\n",
       "      <td>0.0</td>\n",
       "      <td>0.75</td>\n",
       "      <td>0.0</td>\n",
       "      <td>1.0</td>\n",
       "      <td>0.0</td>\n",
       "      <td>0.333333</td>\n",
       "    </tr>\n",
       "  </tbody>\n",
       "</table>\n",
       "<p>3 rows × 22 columns</p>\n",
       "</div>"
      ],
      "text/plain": [
       "       edad  saldo_captacion  saldo_financiacion  saldo_ffii  saldo_plp  \\\n",
       "0  0.605263         0.260598                 0.0     0.45682   0.031101   \n",
       "1  0.710526         0.224126                 0.0     0.39064   0.000000   \n",
       "2  0.657895         0.224126                 0.0     0.39064   0.000000   \n",
       "\n",
       "   lp_dom_ingresos  lp_tjta_cto  lp_tjt_rev  lp_rbos  lp_of_int  ...  \\\n",
       "0              1.0          1.0         1.0      1.0        1.0  ...   \n",
       "1              0.0          0.0         0.0      1.0        1.0  ...   \n",
       "2              0.0          0.0         0.0      1.0        0.0  ...   \n",
       "\n",
       "   lp_seg_salud  lp_seg_auto  lp_seg_hogar  cartera_patron_etiqueta  \\\n",
       "0           0.0          0.0           1.0                      0.0   \n",
       "1           0.0          0.0           0.0                      0.0   \n",
       "2           0.0          0.0           0.0                      1.0   \n",
       "\n",
       "   digital_3_meses_etiqueta  camino_digital_etiqueta  marca_bp_etiqueta  \\\n",
       "0                       1.0                     0.00                0.0   \n",
       "1                       1.0                     0.00                0.0   \n",
       "2                       0.0                     0.75                0.0   \n",
       "\n",
       "   marca_ccte_etiqueta  seg_valor_etiqueta  seg_recorrido_etiqueta  \n",
       "0                  0.0                 0.0                0.333333  \n",
       "1                  0.0                 0.0                0.000000  \n",
       "2                  1.0                 0.0                0.333333  \n",
       "\n",
       "[3 rows x 22 columns]"
      ]
     },
     "execution_count": 58,
     "metadata": {},
     "output_type": "execute_result"
    }
   ],
   "source": [
    "df_normalizado.head(3)"
   ]
  },
  {
   "cell_type": "markdown",
   "metadata": {},
   "source": [
    "## PCA \n",
    "\n",
    "Despues de haber reducido el Data Frame quedandonos unicamente con las columnas necesarias para el estudio del modelo, aun asi tenemos 22 variables que vamos a intentar reducir utilizando PCA para reducir la dimensionalidad. Compararemos si la utilizacion del PCA mejora o no el resultado.\n"
   ]
  },
  {
   "cell_type": "code",
   "execution_count": 59,
   "metadata": {},
   "outputs": [],
   "source": [
    "from sklearn.decomposition import PCA"
   ]
  },
  {
   "cell_type": "code",
   "execution_count": 60,
   "metadata": {},
   "outputs": [],
   "source": [
    "df_sin_target = df_normalizado.drop(['lp_seg_hogar'], axis = 1)"
   ]
  },
  {
   "cell_type": "code",
   "execution_count": 61,
   "metadata": {},
   "outputs": [],
   "source": [
    "#Instanciamos objeto PCA y aplicamos\n",
    "pca = PCA(15) # n =  ponemos como numero de pcas 105\n",
    "pca.fit(df_sin_target) # obtener los componentes principales\n",
    "df_transforming = pca.transform(df_sin_target) # convertimos nuestros datos con las nuevas dimensiones de PCA"
   ]
  },
  {
   "cell_type": "code",
   "execution_count": 62,
   "metadata": {},
   "outputs": [
    {
     "data": {
      "text/plain": [
       "array([ 0.77244536,  0.00479176, -0.00290637,  0.00288189,  0.00232971,\n",
       "       -0.04517836, -0.00456588, -0.02945997, -0.19092502, -0.01071285,\n",
       "        0.07993142,  0.58654283,  0.00441977,  0.02831311,  0.0100089 ,\n",
       "        0.09663323, -0.00501407, -0.0496873 , -0.01132092,  0.01886127,\n",
       "        0.01128446])"
      ]
     },
     "execution_count": 62,
     "metadata": {},
     "output_type": "execute_result"
    }
   ],
   "source": [
    "pca.components_[14]"
   ]
  },
  {
   "cell_type": "code",
   "execution_count": 63,
   "metadata": {},
   "outputs": [
    {
     "data": {
      "text/plain": [
       "[('edad', -1.051139997979437),\n",
       " ('saldo_captacion', 0.2263482863525146),\n",
       " ('saldo_financiacion', 0.13529949656549206),\n",
       " ('saldo_ffii', 0.26729552368437026),\n",
       " ('saldo_plp', 0.5500890111912979),\n",
       " ('lp_dom_ingresos', -0.10174484196765905),\n",
       " ('lp_tjta_cto', 0.04416676752165436),\n",
       " ('lp_tjt_rev', 0.03753192984059132),\n",
       " ('lp_rbos', -0.3267201883219551),\n",
       " ('lp_of_int', 0.39885865448824326),\n",
       " ('lp_seg_vida', -0.22553960392628714),\n",
       " ('lp_seg_acc', 0.009661124957989818),\n",
       " ('lp_seg_salud', -0.3083050621993356),\n",
       " ('lp_seg_auto', -0.12764648357663813),\n",
       " ('cartera_patron_etiqueta', 0.05501816559488092)]"
      ]
     },
     "execution_count": 63,
     "metadata": {},
     "output_type": "execute_result"
    }
   ],
   "source": [
    "list(zip(df_sin_target.columns, df_transforming[0]))"
   ]
  },
  {
   "cell_type": "code",
   "execution_count": 64,
   "metadata": {},
   "outputs": [
    {
     "name": "stdout",
     "output_type": "stream",
     "text": [
      "shape of X_pca (451374, 15)\n",
      "[0.26749326 0.14826234 0.11061553 0.09614101 0.06503345 0.05148205\n",
      " 0.04344869 0.04085878 0.03830512 0.03312437 0.03086427 0.02656999\n",
      " 0.02349518 0.00815522 0.00804602]\n",
      "suma: 0.9918952831748927\n"
     ]
    }
   ],
   "source": [
    "print(\"shape of X_pca\", df_transforming.shape)\n",
    "expl = pca.explained_variance_ratio_\n",
    "print(expl)\n",
    "print('suma:',sum(expl[0:15]))\n",
    "#Vemos que con los 15 componentes tenemos el 99% de varianza explicada"
   ]
  },
  {
   "cell_type": "code",
   "execution_count": 95,
   "metadata": {
    "scrolled": true
   },
   "outputs": [
    {
     "data": {
      "image/png": "[encoded data removed]",
      "text/plain": [
       "<Figure size 432x288 with 1 Axes>"
      ]
     },
     "metadata": {
      "needs_background": "light"
     },
     "output_type": "display_data"
    }
   ],
   "source": [
    "#graficamos el acumulado de varianza explicada en las nuevas dimensiones\n",
    "plt.plot(np.cumsum(pca.explained_variance_ratio_), color = 'y')\n",
    "plt.xlabel('number of components')\n",
    "plt.ylabel('cumulative explained variance')\n",
    "plt.show() "
   ]
  },
  {
   "cell_type": "code",
   "execution_count": 66,
   "metadata": {},
   "outputs": [],
   "source": [
    "# Damos un nombre a cada columna del DF una vez realizado el PCA.\n",
    "df_pca = pd.DataFrame (data = df_transforming, columns = ['1','2','3','4','5','6','7','8','9',\n",
    "                                                          '10','11','12','13','14','15'\n",
    "                                                          ])"
   ]
  },
  {
   "cell_type": "code",
   "execution_count": 67,
   "metadata": {},
   "outputs": [],
   "source": [
    "# Unimos nuestro Target al DF con PCA realizado.\n",
    "finalDf = pd.concat ([df_pca, df_normalizado [['lp_seg_hogar']]], axis = 1)"
   ]
  },
  {
   "cell_type": "code",
   "execution_count": 68,
   "metadata": {
    "scrolled": true
   },
   "outputs": [
    {
     "data": {
      "text/plain": [
       "Index(['1', '2', '3', '4', '5', '6', '7', '8', '9', '10', '11', '12', '13',\n",
       "       '14', '15', 'lp_seg_hogar'],\n",
       "      dtype='object')"
      ]
     },
     "execution_count": 68,
     "metadata": {},
     "output_type": "execute_result"
    }
   ],
   "source": [
    "finalDf.columns"
   ]
  },
  {
   "cell_type": "markdown",
   "metadata": {},
   "source": [
    "## MODELO"
   ]
  },
  {
   "cell_type": "code",
   "execution_count": 69,
   "metadata": {},
   "outputs": [
    {
     "data": {
      "text/plain": [
       "Index(['edad', 'saldo_captacion', 'saldo_financiacion', 'saldo_ffii',\n",
       "       'saldo_plp', 'lp_dom_ingresos', 'lp_tjta_cto', 'lp_tjt_rev', 'lp_rbos',\n",
       "       'lp_of_int', 'lp_seg_vida', 'lp_seg_acc', 'lp_seg_salud', 'lp_seg_auto',\n",
       "       'lp_seg_hogar', 'cartera_patron_etiqueta', 'digital_3_meses_etiqueta',\n",
       "       'camino_digital_etiqueta', 'marca_bp_etiqueta', 'marca_ccte_etiqueta',\n",
       "       'seg_valor_etiqueta', 'seg_recorrido_etiqueta'],\n",
       "      dtype='object')"
      ]
     },
     "execution_count": 69,
     "metadata": {},
     "output_type": "execute_result"
    }
   ],
   "source": [
    "df.columns"
   ]
  },
  {
   "cell_type": "code",
   "execution_count": 70,
   "metadata": {},
   "outputs": [],
   "source": [
    "# finalDf = Modelo con PCA\n",
    "# df_normalizado = Modelo sin PCA\n",
    "from sklearn.linear_model import LogisticRegression\n",
    "from sklearn.model_selection import train_test_split"
   ]
  },
  {
   "cell_type": "code",
   "execution_count": 71,
   "metadata": {},
   "outputs": [
    {
     "name": "stdout",
     "output_type": "stream",
     "text": [
      "Datos X = 9478854 (451374, 21)\n",
      "Datos y = 451374 (451374,)\n"
     ]
    }
   ],
   "source": [
    "# Inputs y Target Sin PCA\n",
    "X = df_normalizado.drop(['lp_seg_hogar'], axis = 1)\n",
    "y= df_normalizado['lp_seg_hogar']\n",
    "print('Datos X =', X.size, X.shape)\n",
    "print('Datos y =', y.size, y.shape)"
   ]
  },
  {
   "cell_type": "code",
   "execution_count": 72,
   "metadata": {},
   "outputs": [
    {
     "name": "stdout",
     "output_type": "stream",
     "text": [
      "Datos X = 6770610 (451374, 15)\n",
      "Datos y = 451374 (451374,)\n"
     ]
    }
   ],
   "source": [
    "# Inputs y Target Con PCA\n",
    "X_pca = finalDf.drop(['lp_seg_hogar'], axis = 1)\n",
    "y_pca = finalDf['lp_seg_hogar']\n",
    "print('Datos X =', X_pca.size, X_pca.shape)\n",
    "print('Datos y =', y_pca.size, y_pca.shape)"
   ]
  },
  {
   "cell_type": "markdown",
   "metadata": {},
   "source": [
    "## BALANCEO\n",
    "\n",
    "Hemos visto en el estudio del Target que esta muy desbalanceado. Utilizaremos 3 distintas formulas para remediar este desbalanceo. Depues de entrenar las tres opciones Weigth balanced & Smote arrojan mejores resultados. NearMiss obtiene muy bajo resultado\n",
    "\n",
    "- Penalización para compensar Weigth balanced\n",
    "- NearMiss\n",
    "- Smote\n",
    "\n",
    "__1ª Estrategia: Penalización para compensar Weigth balanced__"
   ]
  },
  {
   "cell_type": "code",
   "execution_count": 73,
   "metadata": {},
   "outputs": [],
   "source": [
    "# Solver elegido liblinear. 'newton-cg' no converge. \n",
    "clf_log_regressor = LogisticRegression(solver = 'liblinear', class_weight='balanced')\n",
    "clf_log_regressor_pca = LogisticRegression(solver = 'liblinear', class_weight='balanced')"
   ]
  },
  {
   "cell_type": "code",
   "execution_count": 74,
   "metadata": {},
   "outputs": [
    {
     "data": {
      "text/plain": [
       "LogisticRegression(class_weight='balanced', solver='liblinear')"
      ]
     },
     "execution_count": 74,
     "metadata": {},
     "output_type": "execute_result"
    }
   ],
   "source": [
    "# Sin pca\n",
    "clf_log_regressor.fit(X,y)"
   ]
  },
  {
   "cell_type": "code",
   "execution_count": 75,
   "metadata": {},
   "outputs": [
    {
     "data": {
      "text/plain": [
       "LogisticRegression(class_weight='balanced', solver='liblinear')"
      ]
     },
     "execution_count": 75,
     "metadata": {},
     "output_type": "execute_result"
    }
   ],
   "source": [
    "clf_log_regressor_pca.fit(X_pca,y_pca)"
   ]
  },
  {
   "cell_type": "code",
   "execution_count": 76,
   "metadata": {},
   "outputs": [
    {
     "data": {
      "text/plain": [
       "array([1., 1., 0., ..., 0., 0., 0.])"
      ]
     },
     "execution_count": 76,
     "metadata": {},
     "output_type": "execute_result"
    }
   ],
   "source": [
    "# Sin pca\n",
    "clf_log_regressor.predict(X)"
   ]
  },
  {
   "cell_type": "code",
   "execution_count": 77,
   "metadata": {},
   "outputs": [
    {
     "data": {
      "text/plain": [
       "array([1., 1., 0., ..., 0., 0., 0.])"
      ]
     },
     "execution_count": 77,
     "metadata": {},
     "output_type": "execute_result"
    }
   ],
   "source": [
    "clf_log_regressor_pca.predict(X_pca)"
   ]
  },
  {
   "cell_type": "code",
   "execution_count": 78,
   "metadata": {},
   "outputs": [],
   "source": [
    "# Sin pca\n",
    "test_size = 0.2\n",
    "seed = 7\n",
    "X_train, X_test, y_train, y_test = train_test_split(X, y, test_size = test_size, random_state = seed)"
   ]
  },
  {
   "cell_type": "code",
   "execution_count": 79,
   "metadata": {},
   "outputs": [],
   "source": [
    "# Con pca\n",
    "test_size = 0.2\n",
    "seed = 7\n",
    "X_pca_train, X_pca_test, y_pca_train, y_pca_test = train_test_split(X_pca, y_pca, test_size = test_size, random_state = seed)"
   ]
  },
  {
   "cell_type": "code",
   "execution_count": 80,
   "metadata": {},
   "outputs": [
    {
     "data": {
      "text/plain": [
       "LogisticRegression(class_weight='balanced', solver='liblinear')"
      ]
     },
     "execution_count": 80,
     "metadata": {},
     "output_type": "execute_result"
    }
   ],
   "source": [
    "# Sin pca\n",
    "clf_log_regressor.fit(X_train,y_train)"
   ]
  },
  {
   "cell_type": "code",
   "execution_count": 81,
   "metadata": {},
   "outputs": [
    {
     "data": {
      "text/plain": [
       "LogisticRegression(class_weight='balanced', solver='liblinear')"
      ]
     },
     "execution_count": 81,
     "metadata": {},
     "output_type": "execute_result"
    }
   ],
   "source": [
    "# Con pca\n",
    "clf_log_regressor_pca.fit(X_pca_train,y_pca_train)"
   ]
  },
  {
   "cell_type": "code",
   "execution_count": 82,
   "metadata": {},
   "outputs": [
    {
     "data": {
      "text/plain": [
       "array([1., 1., 1., ..., 1., 1., 0.])"
      ]
     },
     "execution_count": 82,
     "metadata": {},
     "output_type": "execute_result"
    }
   ],
   "source": [
    "# Sin pca\n",
    "clf_log_regressor.predict(X_test)"
   ]
  },
  {
   "cell_type": "code",
   "execution_count": 83,
   "metadata": {},
   "outputs": [
    {
     "data": {
      "text/plain": [
       "array([1., 1., 1., ..., 1., 1., 0.])"
      ]
     },
     "execution_count": 83,
     "metadata": {},
     "output_type": "execute_result"
    }
   ],
   "source": [
    "# Con pca\n",
    "clf_log_regressor_pca.predict(X_pca_test)"
   ]
  },
  {
   "cell_type": "code",
   "execution_count": 84,
   "metadata": {},
   "outputs": [
    {
     "data": {
      "text/plain": [
       "array([0.59778442, 0.61215968, 0.7213536 , ..., 0.6709972 , 0.85741806,\n",
       "       0.29143237])"
      ]
     },
     "execution_count": 84,
     "metadata": {},
     "output_type": "execute_result"
    }
   ],
   "source": [
    "# Sin pca\n",
    "clf_log_regressor.predict_proba(X_test)[:, 1]"
   ]
  },
  {
   "cell_type": "code",
   "execution_count": 85,
   "metadata": {},
   "outputs": [
    {
     "data": {
      "text/plain": [
       "array([0.74002932, 0.67216468, 0.76594521, ..., 0.70911023, 0.6913487 ,\n",
       "       0.28201202])"
      ]
     },
     "execution_count": 85,
     "metadata": {},
     "output_type": "execute_result"
    }
   ],
   "source": [
    "# Con pca\n",
    "clf_log_regressor_pca.predict_proba(X_pca_test)[:, 1]"
   ]
  },
  {
   "cell_type": "code",
   "execution_count": 86,
   "metadata": {
    "scrolled": false
   },
   "outputs": [
    {
     "name": "stdout",
     "output_type": "stream",
     "text": [
      "[[52795 25802]\n",
      " [ 1326 10352]]\n"
     ]
    },
    {
     "data": {
      "image/png": "[encoded data removed]",
      "text/plain": [
       "<Figure size 288x288 with 2 Axes>"
      ]
     },
     "metadata": {
      "needs_background": "light"
     },
     "output_type": "display_data"
    }
   ],
   "source": [
    "# Sin pca\n",
    "matriz_confusion_clf_log_regressor = confusion_matrix(y_test,clf_log_regressor.predict(X_test))\n",
    "print(matriz_confusion_clf_log_regressor)\n",
    "pl.matshow(confusion_matrix(y_test,clf_log_regressor.predict(X_test)))\n",
    "pl.title('Matriz de Confusion sin pca')\n",
    "pl.colorbar()\n",
    "pl.show()"
   ]
  },
  {
   "cell_type": "code",
   "execution_count": 87,
   "metadata": {},
   "outputs": [
    {
     "name": "stdout",
     "output_type": "stream",
     "text": [
      "[[51195 27402]\n",
      " [ 1206 10472]]\n"
     ]
    },
    {
     "data": {
      "image/png": "[encoded data removed]",
      "text/plain": [
       "<Figure size 288x288 with 2 Axes>"
      ]
     },
     "metadata": {
      "needs_background": "light"
     },
     "output_type": "display_data"
    }
   ],
   "source": [
    "# Con pca\n",
    "matriz_confusion_clf_log_regressor_pca = confusion_matrix(y_pca_test,clf_log_regressor_pca.predict(X_pca_test))\n",
    "print(matriz_confusion_clf_log_regressor_pca)\n",
    "pl.matshow(confusion_matrix(y_pca_test,clf_log_regressor_pca.predict(X_pca_test)))\n",
    "pl.title('Matriz de Confusion con PCA')\n",
    "pl.colorbar()\n",
    "pl.show()"
   ]
  },
  {
   "cell_type": "markdown",
   "metadata": {},
   "source": [
    "## Metrics: Cross validation"
   ]
  },
  {
   "cell_type": "code",
   "execution_count": 88,
   "metadata": {},
   "outputs": [
    {
     "name": "stdout",
     "output_type": "stream",
     "text": [
      "Cross Validation sin pca:  0.28653385075187565 0.8874849991428082 0.43313146168063243\n",
      "Cross Validation con pca:  0.27660320183064624 0.8951825818618208 0.4225511215081747\n"
     ]
    }
   ],
   "source": [
    "from sklearn.model_selection import cross_val_score\n",
    "cross_val_score_precision = cross_val_score(clf_log_regressor,X,y,cv=5,scoring=\"precision\").mean()\n",
    "cross_val_score_precision_pca = cross_val_score(clf_log_regressor_pca,X_pca,y_pca,cv=5,scoring=\"precision\").mean()\n",
    "cross_val_score_recall = cross_val_score(clf_log_regressor,X,y,cv=5,scoring=\"recall\").mean()\n",
    "cross_val_score_recall_pca = cross_val_score(clf_log_regressor_pca,X_pca,y_pca,cv=5,scoring=\"recall\").mean()\n",
    "cross_val_score_f1 = cross_val_score(clf_log_regressor,X,y,cv=5,scoring=\"f1\").mean()\n",
    "cross_val_score_f1_pca = cross_val_score(clf_log_regressor_pca,X_pca,y_pca,cv=5,scoring=\"f1\").mean()\n",
    "print('Cross Validation sin pca: ', cross_val_score_precision , cross_val_score_recall, cross_val_score_f1)\n",
    "print('Cross Validation con pca: ', cross_val_score_precision_pca , cross_val_score_recall_pca, cross_val_score_f1_pca)"
   ]
  },
  {
   "cell_type": "code",
   "execution_count": 89,
   "metadata": {},
   "outputs": [
    {
     "name": "stdout",
     "output_type": "stream",
     "text": [
      "========== CLR_model ================\n",
      "accuracy_score_sin_pca =  0.6994959844918305\n",
      "accuracy_score_con_pca =  0.6831016338964275\n",
      "====================================\n",
      "precision_sin_pca  = 0.28633069646512144\n",
      "precision_con_pca  = 0.27649574906268154\n",
      "====================================\n",
      "recall_sin_pca  = 0.8864531597876348\n",
      "recall_con_pca  = 0.8967288919335503\n",
      "====================================\n",
      "f1_score_sin_pca  = 0.4328483023917044\n",
      "f1_score_con_pca  = 0.42266709719082984\n",
      "====================================\n",
      "roc_auc_score_sin_pca  = 0.8432042268174845\n",
      "roc_auc_score_con_pca  = 0.828035322817812\n",
      "====================================\n",
      "classification_report_sin_pca \n",
      "              precision    recall  f1-score   support\n",
      "\n",
      "         0.0       0.98      0.67      0.80     78597\n",
      "         1.0       0.29      0.89      0.43     11678\n",
      "\n",
      "    accuracy                           0.70     90275\n",
      "   macro avg       0.63      0.78      0.61     90275\n",
      "weighted avg       0.89      0.70      0.75     90275\n",
      "\n",
      "classification_report_con_pca \n",
      "              precision    recall  f1-score   support\n",
      "\n",
      "         0.0       0.98      0.65      0.78     78597\n",
      "         1.0       0.28      0.90      0.42     11678\n",
      "\n",
      "    accuracy                           0.68     90275\n",
      "   macro avg       0.63      0.77      0.60     90275\n",
      "weighted avg       0.89      0.68      0.74     90275\n",
      "\n"
     ]
    }
   ],
   "source": [
    "print('========== CLR_model ================')\n",
    "print ('accuracy_score_sin_pca = ', accuracy_score(y_test,clf_log_regressor.predict(X_test)))\n",
    "print ('accuracy_score_con_pca = ', accuracy_score(y_pca_test,clf_log_regressor_pca.predict(X_pca_test)))\n",
    "print('====================================')\n",
    "print('precision_sin_pca  =', precision_score(y_test,clf_log_regressor.predict(X_test)))\n",
    "print('precision_con_pca  =', precision_score(y_pca_test,clf_log_regressor_pca.predict(X_pca_test)))\n",
    "print('====================================')\n",
    "print('recall_sin_pca  =', recall_score(y_test,clf_log_regressor.predict(X_test)))\n",
    "print('recall_con_pca  =', recall_score(y_pca_test,clf_log_regressor_pca.predict(X_pca_test)))\n",
    "print('====================================')\n",
    "print('f1_score_sin_pca  =', f1_score(y_test,clf_log_regressor.predict(X_test)))\n",
    "print('f1_score_con_pca  =', f1_score(y_pca_test,clf_log_regressor_pca.predict(X_pca_test)))\n",
    "print('====================================')\n",
    "print('roc_auc_score_sin_pca  =', roc_auc_score(y_test,clf_log_regressor.predict_proba(X_test)[:, 1]))\n",
    "print('roc_auc_score_con_pca  =', roc_auc_score(y_pca_test,clf_log_regressor_pca.predict_proba(X_pca_test)[:, 1]))\n",
    "print('====================================')\n",
    "print('classification_report_sin_pca ')\n",
    "print(classification_report(y_test, clf_log_regressor.predict(X_test)))\n",
    "print('classification_report_con_pca ')\n",
    "print(classification_report(y_pca_test, clf_log_regressor_pca.predict(X_pca_test)))"
   ]
  },
  {
   "cell_type": "markdown",
   "metadata": {},
   "source": [
    "## Curva Roc Balanceado con class weigth"
   ]
  },
  {
   "cell_type": "code",
   "execution_count": 91,
   "metadata": {
    "scrolled": true
   },
   "outputs": [
    {
     "name": "stdout",
     "output_type": "stream",
     "text": [
      "Sin entrenar: ROC AUC=0.500\n",
      "Regresión Logística: ROC AUC=0.843\n"
     ]
    },
    {
     "data": {
      "image/png": "[encoded data removed]",
      "text/plain": [
       "<Figure size 432x288 with 1 Axes>"
      ]
     },
     "metadata": {
      "needs_background": "light"
     },
     "output_type": "display_data"
    }
   ],
   "source": [
    "# Pintamos la Curva Roc SIN PCA que ha dado mejor resultado\n",
    "#Generamos un clasificador sin entrenar , que asignará 0 a todo\n",
    "sin_entrenar = [0 for _ in range(len(X_test))]\n",
    "# Calculamos el AUC\n",
    "ns_auc = roc_auc_score(y_test, sin_entrenar)\n",
    "lr_auc = roc_auc_score(y_test, clf_log_regressor.predict_proba(X_test)[:, 1])\n",
    "# Imprimimos en pantalla\n",
    "print('Sin entrenar: ROC AUC=%.3f' % (ns_auc))\n",
    "print('Regresión Logística: ROC AUC=%.3f' % (lr_auc))\n",
    "# Calculamos las curvas ROC\n",
    "ns_fpr, ns_tpr, _ = roc_curve(y_test, sin_entrenar)\n",
    "lr_fpr, lr_tpr, _ = roc_curve(y_test, clf_log_regressor.predict_proba(X_test)[:, 1])\n",
    "# Pintamos las curvas ROC\n",
    "pyplot.plot(ns_fpr, ns_tpr, linestyle='--', label='Sin entrenar')\n",
    "pyplot.plot(lr_fpr, lr_tpr, marker='.', label=' clf_log_regressor' , color = \"y\")\n",
    "# Etiquetas de los ejes\n",
    "pyplot.xlabel('Tasa de Falsos Positivos')\n",
    "pyplot.ylabel('Tasa de Verdaderos Positivos')\n",
    "pyplot.legend()\n",
    "pyplot.show()"
   ]
  },
  {
   "cell_type": "markdown",
   "metadata": {},
   "source": [
    "### 2ª Estrategia: Subsampling en la clase mayoritaria \n",
    "    - Con NearMiss\n",
    "    \n",
    "https://www.geeksforgeeks.org/ml-handling-imbalanced-data-with-smote-and-near-miss-algorithm-in-python/"
   ]
  },
  {
   "cell_type": "code",
   "execution_count": 96,
   "metadata": {},
   "outputs": [],
   "source": [
    "clf_log_regressor = LogisticRegression(solver = 'liblinear')"
   ]
  },
  {
   "cell_type": "code",
   "execution_count": 97,
   "metadata": {},
   "outputs": [
    {
     "data": {
      "text/plain": [
       "LogisticRegression(solver='liblinear')"
      ]
     },
     "execution_count": 97,
     "metadata": {},
     "output_type": "execute_result"
    }
   ],
   "source": [
    "clf_log_regressor.fit(X,y)"
   ]
  },
  {
   "cell_type": "code",
   "execution_count": 98,
   "metadata": {},
   "outputs": [
    {
     "data": {
      "text/plain": [
       "array([0., 0., 0., ..., 0., 0., 0.])"
      ]
     },
     "execution_count": 98,
     "metadata": {},
     "output_type": "execute_result"
    }
   ],
   "source": [
    "clf_log_regressor.predict(X)"
   ]
  },
  {
   "cell_type": "code",
   "execution_count": 99,
   "metadata": {},
   "outputs": [],
   "source": [
    "# Balanceamos con NearMiss \"\n",
    "from imblearn.under_sampling import NearMiss\n",
    "nr = NearMiss() "
   ]
  },
  {
   "cell_type": "code",
   "execution_count": 100,
   "metadata": {},
   "outputs": [],
   "source": [
    "# Sin pca\n",
    "X_train_miss, y_train_miss = nr.fit_sample(X_train, y_train)  "
   ]
  },
  {
   "cell_type": "code",
   "execution_count": 101,
   "metadata": {},
   "outputs": [],
   "source": [
    "# Con pca\n",
    "X_train_miss_pca, y_train_miss_pca = nr.fit_sample(X_pca_train, y_pca_train)  "
   ]
  },
  {
   "cell_type": "code",
   "execution_count": 102,
   "metadata": {},
   "outputs": [
    {
     "name": "stdout",
     "output_type": "stream",
     "text": [
      "Distribucion antes de NearMiss_sin_pca : Counter({0.0: 314447, 1.0: 46652}) \n",
      "Distribucion antes de NearMiss_con_pca : Counter({0.0: 314447, 1.0: 46652}) \n",
      "====================================\n",
      "Distribucion despues de NearMiss_sin_pca : Counter({0.0: 46652, 1.0: 46652}) \n",
      "Distribucion despues de NearMiss_con_pca : Counter({0.0: 46652, 1.0: 46652}) \n"
     ]
    }
   ],
   "source": [
    "print (\"Distribucion antes de NearMiss_sin_pca : {} \".format(Counter(y_train)))\n",
    "print (\"Distribucion antes de NearMiss_con_pca : {} \".format(Counter(y_pca_train)))\n",
    "print('====================================')\n",
    "print (\"Distribucion despues de NearMiss_sin_pca : {} \".format(Counter(y_train_miss)))\n",
    "print (\"Distribucion despues de NearMiss_con_pca : {} \".format(Counter(y_train_miss_pca)))"
   ]
  },
  {
   "cell_type": "code",
   "execution_count": 103,
   "metadata": {},
   "outputs": [
    {
     "data": {
      "text/plain": [
       "LogisticRegression(solver='liblinear')"
      ]
     },
     "execution_count": 103,
     "metadata": {},
     "output_type": "execute_result"
    }
   ],
   "source": [
    "# Sin pca\n",
    "clf_log_regressor.fit(X_train_miss, y_train_miss) "
   ]
  },
  {
   "cell_type": "code",
   "execution_count": 104,
   "metadata": {},
   "outputs": [
    {
     "data": {
      "text/plain": [
       "LogisticRegression(class_weight='balanced', solver='liblinear')"
      ]
     },
     "execution_count": 104,
     "metadata": {},
     "output_type": "execute_result"
    }
   ],
   "source": [
    "# Con pca\n",
    "clf_log_regressor_pca.fit(X_train_miss_pca, y_train_miss_pca) "
   ]
  },
  {
   "cell_type": "code",
   "execution_count": 105,
   "metadata": {},
   "outputs": [
    {
     "data": {
      "text/plain": [
       "array([1., 1., 1., ..., 0., 1., 0.])"
      ]
     },
     "execution_count": 105,
     "metadata": {},
     "output_type": "execute_result"
    }
   ],
   "source": [
    "# Sin pca\n",
    "clf_log_regressor.predict(X_test)"
   ]
  },
  {
   "cell_type": "code",
   "execution_count": 106,
   "metadata": {},
   "outputs": [
    {
     "data": {
      "text/plain": [
       "array([1., 1., 1., ..., 0., 0., 1.])"
      ]
     },
     "execution_count": 106,
     "metadata": {},
     "output_type": "execute_result"
    }
   ],
   "source": [
    "# Con pca\n",
    "clf_log_regressor_pca.predict(X_pca_test)"
   ]
  },
  {
   "cell_type": "code",
   "execution_count": 107,
   "metadata": {
    "scrolled": true
   },
   "outputs": [
    {
     "data": {
      "text/plain": [
       "array([0.65841118, 0.63083343, 0.95536121, ..., 0.37046827, 0.93395562,\n",
       "       0.38124456])"
      ]
     },
     "execution_count": 107,
     "metadata": {},
     "output_type": "execute_result"
    }
   ],
   "source": [
    "# Sin pca\n",
    "clf_log_regressor.predict_proba(X_test)[:, 1]"
   ]
  },
  {
   "cell_type": "code",
   "execution_count": 108,
   "metadata": {},
   "outputs": [
    {
     "data": {
      "text/plain": [
       "array([0.75529522, 0.70554259, 0.98879333, ..., 0.36412691, 0.39172265,\n",
       "       0.66073173])"
      ]
     },
     "execution_count": 108,
     "metadata": {},
     "output_type": "execute_result"
    }
   ],
   "source": [
    "# Con pca\n",
    "clf_log_regressor_pca.predict_proba(X_pca_test)[:, 1]"
   ]
  },
  {
   "cell_type": "markdown",
   "metadata": {},
   "source": [
    "## Curva Roc Balanceado con Nearmiss"
   ]
  },
  {
   "cell_type": "code",
   "execution_count": 109,
   "metadata": {},
   "outputs": [
    {
     "name": "stdout",
     "output_type": "stream",
     "text": [
      "=== RESULTADOS CON NEARMISS ========\n",
      "accuracy_score_sin_pca =  0.5620382165605096\n",
      "accuracy_score_con_pca =  0.47042924397673774\n",
      "====================================\n",
      "precision_sin_pca  = 0.1755979412655162\n",
      "precision_covalidationnn_pca  = 0.14112879194230885\n",
      "====================================\n",
      "recall_sin_pca  = 0.6456585031683507\n",
      "recall_con_pca  = 0.6083233430381915\n",
      "====================================\n",
      "f1_score_sin_pca  = 0.27610450958492777\n",
      "f1_score_con_pca  = 0.22910586148512457\n",
      "====================================\n",
      "roc_auc_score_sin_pca  = 0.6206506671332498\n",
      "roc_auc_score_con_pca  = 0.5130019747568922\n",
      "====================================\n",
      "classification_report_sin_pca \n",
      "              precision    recall  f1-score   support\n",
      "\n",
      "         0.0       0.91      0.55      0.69     78597\n",
      "         1.0       0.18      0.65      0.28     11678\n",
      "\n",
      "    accuracy                           0.56     90275\n",
      "   macro avg       0.54      0.60      0.48     90275\n",
      "weighted avg       0.82      0.56      0.63     90275\n",
      "\n",
      "classification_report_con_pca \n",
      "              precision    recall  f1-score   support\n",
      "\n",
      "         0.0       0.89      0.45      0.60     78597\n",
      "         1.0       0.14      0.61      0.23     11678\n",
      "\n",
      "    accuracy                           0.47     90275\n",
      "   macro avg       0.51      0.53      0.41     90275\n",
      "weighted avg       0.79      0.47      0.55     90275\n",
      "\n"
     ]
    }
   ],
   "source": [
    "print('=== RESULTADOS CON NEARMISS ========')\n",
    "print ('accuracy_score_sin_pca = ', accuracy_score(y_test,clf_log_regressor.predict(X_test)))\n",
    "print ('accuracy_score_con_pca = ', accuracy_score(y_pca_test,clf_log_regressor_pca.predict(X_pca_test)))\n",
    "print('====================================')\n",
    "print('precision_sin_pca  =', precision_score(y_test,clf_log_regressor.predict(X_test)))\n",
    "print('precision_covalidationnn_pca  =', precision_score(y_pca_test,clf_log_regressor_pca.predict(X_pca_test)))\n",
    "print('====================================')\n",
    "print('recall_sin_pca  =', recall_score(y_test,clf_log_regressor.predict(X_test)))\n",
    "print('recall_con_pca  =', recall_score(y_pca_test,clf_log_regressor_pca.predict(X_pca_test)))\n",
    "print('====================================')\n",
    "print('f1_score_sin_pca  =', f1_score(y_test,clf_log_regressor.predict(X_test)))\n",
    "print('f1_score_con_pca  =', f1_score(y_pca_test,clf_log_regressor_pca.predict(X_pca_test)))\n",
    "print('====================================')\n",
    "print('roc_auc_score_sin_pca  =', roc_auc_score(y_test,clf_log_regressor.predict_proba(X_test)[:, 1]))\n",
    "print('roc_auc_score_con_pca  =', roc_auc_score(y_pca_test,clf_log_regressor_pca.predict_proba(X_pca_test)[:, 1]))\n",
    "print('====================================')\n",
    "print('classification_report_sin_pca ')\n",
    "print(classification_report(y_test, clf_log_regressor.predict(X_test)))\n",
    "print('classification_report_con_pca ')\n",
    "print(classification_report(y_pca_test, clf_log_regressor_pca.predict(X_pca_test)))"
   ]
  },
  {
   "cell_type": "markdown",
   "metadata": {},
   "source": [
    "## Curva Roc Balanceado con Nearmiss"
   ]
  },
  {
   "cell_type": "code",
   "execution_count": 110,
   "metadata": {},
   "outputs": [
    {
     "name": "stdout",
     "output_type": "stream",
     "text": [
      "Sin entrenar: ROC AUC=0.500\n",
      "Regresión Logística: ROC AUC=0.621\n"
     ]
    },
    {
     "data": {
      "image/png": "[encoded data removed]",
      "text/plain": [
       "<Figure size 432x288 with 1 Axes>"
      ]
     },
     "metadata": {
      "needs_background": "light"
     },
     "output_type": "display_data"
    }
   ],
   "source": [
    "#Generamos un clasificador sin entrenar , que asignará 0 a todo\n",
    "sin_entrenar = [0 for _ in range(len(X_test))]\n",
    "# Calculamos el AUC\n",
    "ns_auc = roc_auc_score(y_test, sin_entrenar)\n",
    "lr_auc = roc_auc_score(y_test, clf_log_regressor.predict_proba(X_test)[:, 1])\n",
    "# Imprimimos en pantalla\n",
    "print('Sin entrenar: ROC AUC=%.3f' % (ns_auc))\n",
    "print('Regresión Logística: ROC AUC=%.3f' % (lr_auc))\n",
    "# Calculamos las curvas ROC\n",
    "ns_fpr, ns_tpr, _ = roc_curve(y_test, sin_entrenar)\n",
    "lr_fpr, lr_tpr, _ = roc_curve(y_test, clf_log_regressor.predict_proba(X_test)[:, 1])\n",
    "# Pintamos las curvas ROC\n",
    "pyplot.plot(ns_fpr, ns_tpr, linestyle='--', label='Sin entrenar')\n",
    "pyplot.plot(lr_fpr, lr_tpr, marker='.', label=' clf_log_regressor' , color = \"y\")\n",
    "# Etiquetas de los ejes\n",
    "pyplot.xlabel('Tasa de Falsos Positivos')\n",
    "pyplot.ylabel('Tasa de Verdaderos Positivos')\n",
    "pyplot.legend()\n",
    "pyplot.show()"
   ]
  },
  {
   "cell_type": "markdown",
   "metadata": {},
   "source": [
    "### 2ª Estrategia: Subsampling en la clase mayoritaria \n",
    "      - Con Smote"
   ]
  },
  {
   "cell_type": "code",
   "execution_count": 111,
   "metadata": {},
   "outputs": [],
   "source": [
    "# Balanceamos con Smote \"\"\" no mejoramos\"\"\"\n",
    "from imblearn.over_sampling import SMOTE \n",
    "sm = SMOTE(random_state = 2) "
   ]
  },
  {
   "cell_type": "code",
   "execution_count": 112,
   "metadata": {},
   "outputs": [],
   "source": [
    "#clf_log_regressor = LogisticRegression(solver = 'liblinear')"
   ]
  },
  {
   "cell_type": "code",
   "execution_count": 113,
   "metadata": {},
   "outputs": [],
   "source": [
    "#clf_log_regressor.fit(X,y)"
   ]
  },
  {
   "cell_type": "code",
   "execution_count": 114,
   "metadata": {},
   "outputs": [],
   "source": [
    "#clf_log_regressor.predict(X)"
   ]
  },
  {
   "cell_type": "code",
   "execution_count": 115,
   "metadata": {},
   "outputs": [],
   "source": [
    "# Sin pca\n",
    "X_train_smote, y_train_smote = sm.fit_sample(X_train, y_train) "
   ]
  },
  {
   "cell_type": "code",
   "execution_count": 116,
   "metadata": {},
   "outputs": [],
   "source": [
    "# Con pca\n",
    "X_train_smote_pca, y_train_smote_pca = nr.fit_sample(X_pca_train, y_pca_train)  "
   ]
  },
  {
   "cell_type": "code",
   "execution_count": 117,
   "metadata": {},
   "outputs": [
    {
     "name": "stdout",
     "output_type": "stream",
     "text": [
      "Distribucion antes de Smote_sin_pca : Counter({0.0: 314447, 1.0: 46652}) \n",
      "Distribucion antes de Smote_con_pca : Counter({0.0: 314447, 1.0: 46652}) \n",
      "====================================\n",
      "Distribucion despues de Smote_sin_pca : Counter({0.0: 314447, 1.0: 314447}) \n",
      "Distribucion despues de NSmote_con_pca : Counter({0.0: 46652, 1.0: 46652}) \n"
     ]
    }
   ],
   "source": [
    "print (\"Distribucion antes de Smote_sin_pca : {} \".format(Counter(y_train)))\n",
    "print (\"Distribucion antes de Smote_con_pca : {} \".format(Counter(y_pca_train)))\n",
    "print('====================================')\n",
    "print (\"Distribucion despues de Smote_sin_pca : {} \".format(Counter(y_train_smote)))\n",
    "print (\"Distribucion despues de NSmote_con_pca : {} \".format(Counter(y_train_smote_pca)))"
   ]
  },
  {
   "cell_type": "code",
   "execution_count": 118,
   "metadata": {},
   "outputs": [
    {
     "data": {
      "text/plain": [
       "LogisticRegression(solver='liblinear')"
      ]
     },
     "execution_count": 118,
     "metadata": {},
     "output_type": "execute_result"
    }
   ],
   "source": [
    "# Sin pca\n",
    "clf_log_regressor.fit(X_train_smote, y_train_smote) "
   ]
  },
  {
   "cell_type": "code",
   "execution_count": 119,
   "metadata": {},
   "outputs": [
    {
     "data": {
      "text/plain": [
       "LogisticRegression(class_weight='balanced', solver='liblinear')"
      ]
     },
     "execution_count": 119,
     "metadata": {},
     "output_type": "execute_result"
    }
   ],
   "source": [
    "# Con pca\n",
    "clf_log_regressor_pca.fit(X_train_smote_pca, y_train_smote_pca) "
   ]
  },
  {
   "cell_type": "code",
   "execution_count": 120,
   "metadata": {},
   "outputs": [
    {
     "data": {
      "text/plain": [
       "array([1., 1., 1., ..., 1., 1., 0.])"
      ]
     },
     "execution_count": 120,
     "metadata": {},
     "output_type": "execute_result"
    }
   ],
   "source": [
    "# Sin pca\n",
    "clf_log_regressor.predict(X_test)"
   ]
  },
  {
   "cell_type": "code",
   "execution_count": 121,
   "metadata": {},
   "outputs": [
    {
     "data": {
      "text/plain": [
       "array([1., 1., 1., ..., 0., 0., 1.])"
      ]
     },
     "execution_count": 121,
     "metadata": {},
     "output_type": "execute_result"
    }
   ],
   "source": [
    "# Con pca\n",
    "clf_log_regressor_pca.predict(X_pca_test)"
   ]
  },
  {
   "cell_type": "code",
   "execution_count": 122,
   "metadata": {},
   "outputs": [
    {
     "data": {
      "text/plain": [
       "array([0.58453036, 0.617949  , 0.71656121, ..., 0.67559252, 0.84884824,\n",
       "       0.30334895])"
      ]
     },
     "execution_count": 122,
     "metadata": {},
     "output_type": "execute_result"
    }
   ],
   "source": [
    "# Sin pca\n",
    "clf_log_regressor.predict_proba(X_test)[:, 1]"
   ]
  },
  {
   "cell_type": "code",
   "execution_count": 123,
   "metadata": {},
   "outputs": [
    {
     "data": {
      "text/plain": [
       "array([0.75529522, 0.70554259, 0.98879333, ..., 0.36412691, 0.39172265,\n",
       "       0.66073173])"
      ]
     },
     "execution_count": 123,
     "metadata": {},
     "output_type": "execute_result"
    }
   ],
   "source": [
    "# Con pca\n",
    "clf_log_regressor_pca.predict_proba(X_pca_test)[:, 1]"
   ]
  },
  {
   "cell_type": "code",
   "execution_count": 124,
   "metadata": {},
   "outputs": [
    {
     "name": "stdout",
     "output_type": "stream",
     "text": [
      "=== RESULTADOS CON SMOTE ========\n",
      "accuracy_score_sin_pca =  0.6996178343949044\n",
      "accuracy_score_con_pca =  0.47042924397673774\n",
      "====================================\n",
      "precision_sin_pca  = 0.28621673267052533\n",
      "precision_covalidationnn_pca  = 0.14112879194230885\n",
      "====================================\n",
      "recall_sin_pca  = 0.8849974310669635\n",
      "recall_con_pca  = 0.6083233430381915\n",
      "====================================\n",
      "f1_score_sin_pca  = 0.43254441584531356\n",
      "f1_score_con_pca  = 0.22910586148512457\n",
      "====================================\n",
      "roc_auc_score_sin_pca  = 0.843483230348852\n",
      "roc_auc_score_con_pca  = 0.5130019747568922\n",
      "====================================\n",
      "classification_report_sin_pca \n",
      "              precision    recall  f1-score   support\n",
      "\n",
      "         0.0       0.98      0.67      0.80     78597\n",
      "         1.0       0.29      0.88      0.43     11678\n",
      "\n",
      "    accuracy                           0.70     90275\n",
      "   macro avg       0.63      0.78      0.61     90275\n",
      "weighted avg       0.89      0.70      0.75     90275\n",
      "\n",
      "classification_report_con_pca \n",
      "              precision    recall  f1-score   support\n",
      "\n",
      "         0.0       0.89      0.45      0.60     78597\n",
      "         1.0       0.14      0.61      0.23     11678\n",
      "\n",
      "    accuracy                           0.47     90275\n",
      "   macro avg       0.51      0.53      0.41     90275\n",
      "weighted avg       0.79      0.47      0.55     90275\n",
      "\n"
     ]
    }
   ],
   "source": [
    "print('=== RESULTADOS CON SMOTE ========')\n",
    "print ('accuracy_score_sin_pca = ', accuracy_score(y_test,clf_log_regressor.predict(X_test)))\n",
    "print ('accuracy_score_con_pca = ', accuracy_score(y_pca_test,clf_log_regressor_pca.predict(X_pca_test)))\n",
    "print('====================================')\n",
    "print('precision_sin_pca  =', precision_score(y_test,clf_log_regressor.predict(X_test)))\n",
    "print('precision_covalidationnn_pca  =', precision_score(y_pca_test,clf_log_regressor_pca.predict(X_pca_test)))\n",
    "print('====================================')\n",
    "print('recall_sin_pca  =', recall_score(y_test,clf_log_regressor.predict(X_test)))\n",
    "print('recall_con_pca  =', recall_score(y_pca_test,clf_log_regressor_pca.predict(X_pca_test)))\n",
    "print('====================================')\n",
    "print('f1_score_sin_pca  =', f1_score(y_test,clf_log_regressor.predict(X_test)))\n",
    "print('f1_score_con_pca  =', f1_score(y_pca_test,clf_log_regressor_pca.predict(X_pca_test)))\n",
    "print('====================================')\n",
    "print('roc_auc_score_sin_pca  =', roc_auc_score(y_test,clf_log_regressor.predict_proba(X_test)[:, 1]))\n",
    "print('roc_auc_score_con_pca  =', roc_auc_score(y_pca_test,clf_log_regressor_pca.predict_proba(X_pca_test)[:, 1]))\n",
    "print('====================================')\n",
    "print('classification_report_sin_pca ')\n",
    "print(classification_report(y_test, clf_log_regressor.predict(X_test)))\n",
    "print('classification_report_con_pca ')\n",
    "print(classification_report(y_pca_test, clf_log_regressor_pca.predict(X_pca_test)))\n"
   ]
  },
  {
   "cell_type": "markdown",
   "metadata": {},
   "source": [
    "## Curva Roc Balanceado con Smote"
   ]
  },
  {
   "cell_type": "code",
   "execution_count": 125,
   "metadata": {},
   "outputs": [
    {
     "name": "stdout",
     "output_type": "stream",
     "text": [
      "Sin entrenar: ROC AUC=0.500\n",
      "Regresión Logística: ROC AUC=0.843\n"
     ]
    },
    {
     "data": {
      "image/png": "[encoded data removed]",
      "text/plain": [
       "<Figure size 432x288 with 1 Axes>"
      ]
     },
     "metadata": {
      "needs_background": "light"
     },
     "output_type": "display_data"
    }
   ],
   "source": [
    "#Generamos un clasificador sin entrenar , que asignará 0 a todo\n",
    "sin_entrenar = [0 for _ in range(len(X_test))]\n",
    "# Calculamos el AUC\n",
    "ns_auc = roc_auc_score(y_test, sin_entrenar)\n",
    "lr_auc = roc_auc_score(y_test, clf_log_regressor.predict_proba(X_test)[:, 1])\n",
    "# Imprimimos en pantalla\n",
    "print('Sin entrenar: ROC AUC=%.3f' % (ns_auc))\n",
    "print('Regresión Logística: ROC AUC=%.3f' % (lr_auc))\n",
    "# Calculamos las curvas ROC\n",
    "ns_fpr, ns_tpr, _ = roc_curve(y_test, sin_entrenar)\n",
    "lr_fpr, lr_tpr, _ = roc_curve(y_test, clf_log_regressor.predict_proba(X_test)[:, 1])\n",
    "# Pintamos las curvas ROC\n",
    "pyplot.plot(ns_fpr, ns_tpr, linestyle='--', label='Sin entrenar')\n",
    "pyplot.plot(lr_fpr, lr_tpr, marker='.', label=' clf_log_regressor' , color = \"y\")\n",
    "# Etiquetas de los ejes\n",
    "pyplot.xlabel('Tasa de Falsos Positivos')\n",
    "pyplot.ylabel('Tasa de Verdaderos Positivos')\n",
    "pyplot.legend()\n",
    "pyplot.show()"
   ]
  },
  {
   "cell_type": "code",
   "execution_count": null,
   "metadata": {},
   "outputs": [],
   "source": []
  }
 ],
 "metadata": {
  "kernelspec": {
   "display_name": "Python 3",
   "language": "python",
   "name": "python3"
  },
  "language_info": {
   "codemirror_mode": {
    "name": "ipython",
    "version": 3
   },
   "file_extension": ".py",
   "mimetype": "text/x-python",
   "name": "python",
   "nbconvert_exporter": "python",
   "pygments_lexer": "ipython3",
   "version": "3.7.7"
  }
 },
 "nbformat": 4,
 "nbformat_minor": 2
}
