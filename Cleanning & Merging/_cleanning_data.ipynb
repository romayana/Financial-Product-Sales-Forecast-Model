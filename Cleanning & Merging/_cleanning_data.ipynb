{
 "cells": [
  {
   "cell_type": "markdown",
   "metadata": {},
   "source": [
    "# Cleaning & Preparing Data."
   ]
  },
  {
   "cell_type": "markdown",
   "metadata": {},
   "source": [
    "Cargamos Libreria Pandas"
   ]
  },
  {
   "cell_type": "code",
   "execution_count": 3,
   "metadata": {},
   "outputs": [],
   "source": [
    "import pandas as pd"
   ]
  },
  {
   "cell_type": "markdown",
   "metadata": {},
   "source": [
    "#### - Direccion actual"
   ]
  },
  {
   "cell_type": "code",
   "execution_count": 4,
   "metadata": {
    "scrolled": true
   },
   "outputs": [
    {
     "data": {
      "text/plain": [
       "'C:\\\\Users\\\\manue\\\\TFM\\\\Financial-Product-Sales-Forecast-Model\\\\Cleanning & Merging'"
      ]
     },
     "execution_count": 4,
     "metadata": {},
     "output_type": "execute_result"
    }
   ],
   "source": [
    "pwd"
   ]
  },
  {
   "cell_type": "markdown",
   "metadata": {},
   "source": [
    "### RUTA CARPETA LOCAL"
   ]
  },
  {
   "cell_type": "code",
   "execution_count": 5,
   "metadata": {},
   "outputs": [],
   "source": [
    "# CAMBIAR SEGUN RUTA LOCAL HASTA UBICACION DE REPOSITORIO\n",
    "ruta = '/Users/manue/TFM'"
   ]
  },
  {
   "cell_type": "markdown",
   "metadata": {},
   "source": [
    "Leemos el Data Frame creado con el anterior paso de Merge."
   ]
  },
  {
   "cell_type": "code",
   "execution_count": 6,
   "metadata": {},
   "outputs": [],
   "source": [
    "df = pd.read_csv(ruta + '/Financial-Product-Sales-Forecast-Model/Cleanning & Merging/df_merged.csv')"
   ]
  },
  {
   "cell_type": "markdown",
   "metadata": {},
   "source": [
    "Visualizamos las 5 primeras filas del df"
   ]
  },
  {
   "cell_type": "code",
   "execution_count": 7,
   "metadata": {},
   "outputs": [
    {
     "data": {
      "text/html": [
       "<div>\n",
       "<style scoped>\n",
       "    .dataframe tbody tr th:only-of-type {\n",
       "        vertical-align: middle;\n",
       "    }\n",
       "\n",
       "    .dataframe tbody tr th {\n",
       "        vertical-align: top;\n",
       "    }\n",
       "\n",
       "    .dataframe thead th {\n",
       "        text-align: right;\n",
       "    }\n",
       "</style>\n",
       "<table border=\"1\" class=\"dataframe\">\n",
       "  <thead>\n",
       "    <tr style=\"text-align: right;\">\n",
       "      <th></th>\n",
       "      <th>cliente</th>\n",
       "      <th>saldo_captacion</th>\n",
       "      <th>esta_carterizado</th>\n",
       "      <th>cliente_bbp</th>\n",
       "      <th>tipo_gestor</th>\n",
       "      <th>gestor</th>\n",
       "      <th>cartera_patron</th>\n",
       "      <th>codigo_cartera</th>\n",
       "      <th>digital_3_meses</th>\n",
       "      <th>camino_digital</th>\n",
       "      <th>...</th>\n",
       "      <th>edad</th>\n",
       "      <th>seg_valor</th>\n",
       "      <th>seg_recorrido</th>\n",
       "      <th>dz</th>\n",
       "      <th>oficina</th>\n",
       "      <th>lp_seg_vida</th>\n",
       "      <th>lp_seg_acc</th>\n",
       "      <th>lp_seg_salud</th>\n",
       "      <th>lp_seg_hogar</th>\n",
       "      <th>lp_seg_auto</th>\n",
       "    </tr>\n",
       "  </thead>\n",
       "  <tbody>\n",
       "    <tr>\n",
       "      <th>0</th>\n",
       "      <td>54073</td>\n",
       "      <td>606781.74</td>\n",
       "      <td>SI</td>\n",
       "      <td>NO</td>\n",
       "      <td>ASESOR FINANCIERO</td>\n",
       "      <td>34000.0</td>\n",
       "      <td>ASESORAMIENTO FINANCIERO</td>\n",
       "      <td>34624.0</td>\n",
       "      <td>SI</td>\n",
       "      <td>TRANSACCIONAL</td>\n",
       "      <td>...</td>\n",
       "      <td>76.0</td>\n",
       "      <td>ALTO</td>\n",
       "      <td>BAJO RECORRIDO</td>\n",
       "      <td>1</td>\n",
       "      <td>110</td>\n",
       "      <td>0</td>\n",
       "      <td>0</td>\n",
       "      <td>0</td>\n",
       "      <td>0</td>\n",
       "      <td>0</td>\n",
       "    </tr>\n",
       "    <tr>\n",
       "      <th>1</th>\n",
       "      <td>54074</td>\n",
       "      <td>642217.25</td>\n",
       "      <td>SI</td>\n",
       "      <td>NO</td>\n",
       "      <td>ASESOR FINANCIERO</td>\n",
       "      <td>11425.0</td>\n",
       "      <td>ASESORAMIENTO FINANCIERO</td>\n",
       "      <td>37074.0</td>\n",
       "      <td>NO</td>\n",
       "      <td>POCO USO</td>\n",
       "      <td>...</td>\n",
       "      <td>72.0</td>\n",
       "      <td>ALTO</td>\n",
       "      <td>BAJO RECORRIDO</td>\n",
       "      <td>1</td>\n",
       "      <td>110</td>\n",
       "      <td>0</td>\n",
       "      <td>0</td>\n",
       "      <td>0</td>\n",
       "      <td>0</td>\n",
       "      <td>0</td>\n",
       "    </tr>\n",
       "    <tr>\n",
       "      <th>2</th>\n",
       "      <td>54075</td>\n",
       "      <td>377560.33</td>\n",
       "      <td>SI</td>\n",
       "      <td>NO</td>\n",
       "      <td>ASESOR FINANCIERO</td>\n",
       "      <td>34000.0</td>\n",
       "      <td>ASESORAMIENTO FINANCIERO</td>\n",
       "      <td>34624.0</td>\n",
       "      <td>NaN</td>\n",
       "      <td>NaN</td>\n",
       "      <td>...</td>\n",
       "      <td>75.0</td>\n",
       "      <td>ALTO</td>\n",
       "      <td>BAJO RECORRIDO</td>\n",
       "      <td>1</td>\n",
       "      <td>110</td>\n",
       "      <td>0</td>\n",
       "      <td>0</td>\n",
       "      <td>0</td>\n",
       "      <td>1</td>\n",
       "      <td>0</td>\n",
       "    </tr>\n",
       "    <tr>\n",
       "      <th>3</th>\n",
       "      <td>54076</td>\n",
       "      <td>319380.38</td>\n",
       "      <td>SI</td>\n",
       "      <td>NO</td>\n",
       "      <td>ASESOR FINANCIERO</td>\n",
       "      <td>23108.0</td>\n",
       "      <td>ASESORAMIENTO FINANCIERO</td>\n",
       "      <td>13835.0</td>\n",
       "      <td>SI</td>\n",
       "      <td>COMPRADOR</td>\n",
       "      <td>...</td>\n",
       "      <td>69.0</td>\n",
       "      <td>ALTO</td>\n",
       "      <td>BAJO RECORRIDO</td>\n",
       "      <td>1</td>\n",
       "      <td>110</td>\n",
       "      <td>0</td>\n",
       "      <td>0</td>\n",
       "      <td>0</td>\n",
       "      <td>0</td>\n",
       "      <td>0</td>\n",
       "    </tr>\n",
       "    <tr>\n",
       "      <th>4</th>\n",
       "      <td>54077</td>\n",
       "      <td>293443.44</td>\n",
       "      <td>SI</td>\n",
       "      <td>NO</td>\n",
       "      <td>ASESOR FINANCIERO</td>\n",
       "      <td>23108.0</td>\n",
       "      <td>ASESORAMIENTO FINANCIERO</td>\n",
       "      <td>13835.0</td>\n",
       "      <td>SI</td>\n",
       "      <td>CONSULTIVO</td>\n",
       "      <td>...</td>\n",
       "      <td>72.0</td>\n",
       "      <td>ALTO</td>\n",
       "      <td>BAJO RECORRIDO</td>\n",
       "      <td>1</td>\n",
       "      <td>110</td>\n",
       "      <td>0</td>\n",
       "      <td>0</td>\n",
       "      <td>0</td>\n",
       "      <td>0</td>\n",
       "      <td>1</td>\n",
       "    </tr>\n",
       "  </tbody>\n",
       "</table>\n",
       "<p>5 rows × 30 columns</p>\n",
       "</div>"
      ],
      "text/plain": [
       "   cliente  saldo_captacion esta_carterizado cliente_bbp        tipo_gestor  \\\n",
       "0    54073        606781.74               SI          NO  ASESOR FINANCIERO   \n",
       "1    54074        642217.25               SI          NO  ASESOR FINANCIERO   \n",
       "2    54075        377560.33               SI          NO  ASESOR FINANCIERO   \n",
       "3    54076        319380.38               SI          NO  ASESOR FINANCIERO   \n",
       "4    54077        293443.44               SI          NO  ASESOR FINANCIERO   \n",
       "\n",
       "    gestor            cartera_patron  codigo_cartera digital_3_meses  \\\n",
       "0  34000.0  ASESORAMIENTO FINANCIERO         34624.0              SI   \n",
       "1  11425.0  ASESORAMIENTO FINANCIERO         37074.0              NO   \n",
       "2  34000.0  ASESORAMIENTO FINANCIERO         34624.0             NaN   \n",
       "3  23108.0  ASESORAMIENTO FINANCIERO         13835.0              SI   \n",
       "4  23108.0  ASESORAMIENTO FINANCIERO         13835.0              SI   \n",
       "\n",
       "  camino_digital  ...  edad  seg_valor   seg_recorrido  dz  oficina  \\\n",
       "0  TRANSACCIONAL  ...  76.0       ALTO  BAJO RECORRIDO   1      110   \n",
       "1       POCO USO  ...  72.0       ALTO  BAJO RECORRIDO   1      110   \n",
       "2            NaN  ...  75.0       ALTO  BAJO RECORRIDO   1      110   \n",
       "3      COMPRADOR  ...  69.0       ALTO  BAJO RECORRIDO   1      110   \n",
       "4     CONSULTIVO  ...  72.0       ALTO  BAJO RECORRIDO   1      110   \n",
       "\n",
       "   lp_seg_vida  lp_seg_acc  lp_seg_salud lp_seg_hogar lp_seg_auto  \n",
       "0            0           0             0            0           0  \n",
       "1            0           0             0            0           0  \n",
       "2            0           0             0            1           0  \n",
       "3            0           0             0            0           0  \n",
       "4            0           0             0            0           1  \n",
       "\n",
       "[5 rows x 30 columns]"
      ]
     },
     "execution_count": 7,
     "metadata": {},
     "output_type": "execute_result"
    }
   ],
   "source": [
    "df.head()"
   ]
  },
  {
   "cell_type": "markdown",
   "metadata": {},
   "source": [
    "Vemos la dimension del df. 451.374 filas / 30 columnas"
   ]
  },
  {
   "cell_type": "code",
   "execution_count": 8,
   "metadata": {
    "scrolled": false
   },
   "outputs": [
    {
     "data": {
      "text/plain": [
       "(451374, 30)"
      ]
     },
     "execution_count": 8,
     "metadata": {},
     "output_type": "execute_result"
    }
   ],
   "source": [
    "df.shape"
   ]
  },
  {
   "cell_type": "markdown",
   "metadata": {},
   "source": [
    "# Tratamiento de Missing Data"
   ]
  },
  {
   "cell_type": "markdown",
   "metadata": {},
   "source": [
    "Primera busqueda de datos Nans. Confirmamos que existen 10 variables distintas que contienen Nans.  Revisamos sus valores y asignamos a los nans un nuevo valor acorde a su naturaleza."
   ]
  },
  {
   "cell_type": "code",
   "execution_count": 9,
   "metadata": {
    "scrolled": false
   },
   "outputs": [
    {
     "data": {
      "text/plain": [
       "cliente               False\n",
       "saldo_captacion        True\n",
       "esta_carterizado      False\n",
       "cliente_bbp           False\n",
       "tipo_gestor            True\n",
       "gestor                 True\n",
       "cartera_patron         True\n",
       "codigo_cartera         True\n",
       "digital_3_meses        True\n",
       "camino_digital         True\n",
       "saldo_financiacion     True\n",
       "saldo_ffii            False\n",
       "saldo_plp             False\n",
       "lp_dom_ingresos       False\n",
       "lp_tjta_cto           False\n",
       "lp_tjt_rev            False\n",
       "lp_rbos               False\n",
       "lp_of_int             False\n",
       "marca_bp              False\n",
       "marca_ccte             True\n",
       "edad                   True\n",
       "seg_valor             False\n",
       "seg_recorrido         False\n",
       "dz                    False\n",
       "oficina               False\n",
       "lp_seg_vida           False\n",
       "lp_seg_acc            False\n",
       "lp_seg_salud          False\n",
       "lp_seg_hogar          False\n",
       "lp_seg_auto           False\n",
       "dtype: bool"
      ]
     },
     "execution_count": 9,
     "metadata": {},
     "output_type": "execute_result"
    }
   ],
   "source": [
    "df.isna().any()"
   ]
  },
  {
   "cell_type": "markdown",
   "metadata": {},
   "source": [
    "Valores de las columnas con Nans. No se listan variables Int or Float"
   ]
  },
  {
   "cell_type": "code",
   "execution_count": 10,
   "metadata": {},
   "outputs": [
    {
     "name": "stdout",
     "output_type": "stream",
     "text": [
      "['ASESOR FINANCIERO' nan 'SUBDIRECCIÓN DE OFICINA']\n",
      "['ASESORAMIENTO FINANCIERO' nan 'TUTELA']\n",
      "['SI' 'NO' nan]\n",
      "['AF' 'CCTE' nan]\n",
      "['TRANSACCIONAL' 'POCO USO' nan 'COMPRADOR' 'CONSULTIVO']\n"
     ]
    }
   ],
   "source": [
    "#print(df['SF_AH_CAPTACION_TT'].unique())\n",
    "print(df['tipo_gestor'].unique())\n",
    "#print(df['GESTOR'].unique())\n",
    "print(df['cartera_patron'].unique())\n",
    "#print(df['CODIGO_CARTERA'].unique())\n",
    "print(df['digital_3_meses'].unique())\n",
    "#print(df['SF_FINANCIACION_TT'].unique())\n",
    "print(df['marca_ccte'].unique())\n",
    "#print(df['EDAD'].unique())\n",
    "print(df['camino_digital'].unique())"
   ]
  },
  {
   "cell_type": "markdown",
   "metadata": {},
   "source": [
    "Asignamos valores acorde a la naturaleza de cada segmento\n",
    "    \n",
    "    "
   ]
  },
  {
   "cell_type": "code",
   "execution_count": 11,
   "metadata": {},
   "outputs": [],
   "source": [
    "df.fillna({'saldo_captacion': 0, 'tipo_gestor' : 'SIN GESTOR', 'gestor': 10001, 'cartera_patron': 'SIN CARTERA',\n",
    "          'codigo_cartera': 10001, 'digital_3_meses':'NO','camino_digital':'SIN USO','saldo_financiacion': 0,\n",
    "           'marca_ccte':'SIN MARCA','edad':0},\n",
    "         inplace = True)"
   ]
  },
  {
   "cell_type": "markdown",
   "metadata": {},
   "source": [
    "Confirmamos que hemos solucionado los Nans"
   ]
  },
  {
   "cell_type": "code",
   "execution_count": 12,
   "metadata": {},
   "outputs": [
    {
     "data": {
      "text/plain": [
       "cliente               False\n",
       "saldo_captacion       False\n",
       "esta_carterizado      False\n",
       "cliente_bbp           False\n",
       "tipo_gestor           False\n",
       "gestor                False\n",
       "cartera_patron        False\n",
       "codigo_cartera        False\n",
       "digital_3_meses       False\n",
       "camino_digital        False\n",
       "saldo_financiacion    False\n",
       "saldo_ffii            False\n",
       "saldo_plp             False\n",
       "lp_dom_ingresos       False\n",
       "lp_tjta_cto           False\n",
       "lp_tjt_rev            False\n",
       "lp_rbos               False\n",
       "lp_of_int             False\n",
       "marca_bp              False\n",
       "marca_ccte            False\n",
       "edad                  False\n",
       "seg_valor             False\n",
       "seg_recorrido         False\n",
       "dz                    False\n",
       "oficina               False\n",
       "lp_seg_vida           False\n",
       "lp_seg_acc            False\n",
       "lp_seg_salud          False\n",
       "lp_seg_hogar          False\n",
       "lp_seg_auto           False\n",
       "dtype: bool"
      ]
     },
     "execution_count": 12,
     "metadata": {},
     "output_type": "execute_result"
    }
   ],
   "source": [
    "df.isna().any()"
   ]
  },
  {
   "cell_type": "code",
   "execution_count": 13,
   "metadata": {},
   "outputs": [
    {
     "name": "stdout",
     "output_type": "stream",
     "text": [
      "['ASESOR FINANCIERO' 'SIN GESTOR' 'SUBDIRECCIÓN DE OFICINA']\n",
      "['ASESORAMIENTO FINANCIERO' 'SIN CARTERA' 'TUTELA']\n",
      "['SI' 'NO']\n",
      "['AF' 'CCTE' 'SIN MARCA']\n",
      "['TRANSACCIONAL' 'POCO USO' 'SIN USO' 'COMPRADOR' 'CONSULTIVO']\n"
     ]
    }
   ],
   "source": [
    "#print(df['SF_AH_CAPTACION_TT'].unique())\n",
    "print(df['tipo_gestor'].unique())\n",
    "#print(df['GESTOR'].unique())\n",
    "print(df['cartera_patron'].unique())\n",
    "#print(df['CODIGO_CARTERA'].unique())\n",
    "print(df['digital_3_meses'].unique())\n",
    "#print(df['SF_FINANCIACION_TT'].unique())\n",
    "print(df['marca_ccte'].unique())\n",
    "#print(df['EDAD'].unique())\n",
    "print(df['camino_digital'].unique())"
   ]
  },
  {
   "cell_type": "markdown",
   "metadata": {},
   "source": [
    "# Tipos de Datos"
   ]
  },
  {
   "cell_type": "code",
   "execution_count": 14,
   "metadata": {},
   "outputs": [
    {
     "data": {
      "text/plain": [
       "cliente                 int64\n",
       "saldo_captacion       float64\n",
       "esta_carterizado       object\n",
       "cliente_bbp            object\n",
       "tipo_gestor            object\n",
       "gestor                float64\n",
       "cartera_patron         object\n",
       "codigo_cartera        float64\n",
       "digital_3_meses        object\n",
       "camino_digital         object\n",
       "saldo_financiacion    float64\n",
       "saldo_ffii            float64\n",
       "saldo_plp             float64\n",
       "lp_dom_ingresos         int64\n",
       "lp_tjta_cto             int64\n",
       "lp_tjt_rev              int64\n",
       "lp_rbos                 int64\n",
       "lp_of_int               int64\n",
       "marca_bp               object\n",
       "marca_ccte             object\n",
       "edad                  float64\n",
       "seg_valor              object\n",
       "seg_recorrido          object\n",
       "dz                      int64\n",
       "oficina                 int64\n",
       "lp_seg_vida             int64\n",
       "lp_seg_acc              int64\n",
       "lp_seg_salud            int64\n",
       "lp_seg_hogar            int64\n",
       "lp_seg_auto             int64\n",
       "dtype: object"
      ]
     },
     "execution_count": 14,
     "metadata": {},
     "output_type": "execute_result"
    }
   ],
   "source": [
    "df.dtypes"
   ]
  },
  {
   "cell_type": "markdown",
   "metadata": {},
   "source": [
    "Generamos un nuevo csv con los datos limpios y ordenados por numero de cliente."
   ]
  },
  {
   "cell_type": "code",
   "execution_count": 15,
   "metadata": {},
   "outputs": [
    {
     "data": {
      "text/plain": [
       "'C:\\\\Users\\\\manue\\\\TFM\\\\Financial-Product-Sales-Forecast-Model\\\\Cleanning & Merging'"
      ]
     },
     "execution_count": 15,
     "metadata": {},
     "output_type": "execute_result"
    }
   ],
   "source": [
    "pwd"
   ]
  },
  {
   "cell_type": "code",
   "execution_count": 16,
   "metadata": {},
   "outputs": [],
   "source": [
    "df.sort_values(by = 'cliente').to_csv('df_cleanned.csv', index = False)"
   ]
  },
  {
   "cell_type": "code",
   "execution_count": null,
   "metadata": {},
   "outputs": [],
   "source": []
  }
 ],
 "metadata": {
  "kernelspec": {
   "display_name": "Python 3",
   "language": "python",
   "name": "python3"
  },
  "language_info": {
   "codemirror_mode": {
    "name": "ipython",
    "version": 3
   },
   "file_extension": ".py",
   "mimetype": "text/x-python",
   "name": "python",
   "nbconvert_exporter": "python",
   "pygments_lexer": "ipython3",
   "version": "3.8.5"
  }
 },
 "nbformat": 4,
 "nbformat_minor": 2
}
