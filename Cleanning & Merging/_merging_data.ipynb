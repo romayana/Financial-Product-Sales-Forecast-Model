{
 "cells": [
  {
   "cell_type": "markdown",
   "metadata": {},
   "source": [
    "# Mergin Data"
   ]
  },
  {
   "cell_type": "code",
   "execution_count": 1,
   "metadata": {},
   "outputs": [],
   "source": [
    "import pandas as pd\n",
    "from functools import reduce"
   ]
  },
  {
   "cell_type": "code",
   "execution_count": 2,
   "metadata": {},
   "outputs": [
    {
     "data": {
      "text/plain": [
       "'C:\\\\Users\\\\manue\\\\TFM\\\\Financial-Product-Sales-Forecast-Model\\\\Cleanning & Merging'"
      ]
     },
     "execution_count": 2,
     "metadata": {},
     "output_type": "execute_result"
    }
   ],
   "source": [
    "pwd"
   ]
  },
  {
   "cell_type": "markdown",
   "metadata": {},
   "source": [
    "Disponemos de una Base de datos compuesta por 11 / carpetas-Direcciones de Zona con 9 Archivos Excell cada uno. Total 99 archivos a leer y converger en un solo Data Frame\n",
    "\n",
    "Los Archivos estan dividos por segmentos:\n",
    "\n",
    "- Captacion\n",
    "- Cartera\n",
    "- Digital\n",
    "- Financiacion\n",
    "- Fondos Inversion y Planes Pension\n",
    "- Lineas de Productos\n",
    "- Marca\n",
    "- Segmento y edad\n",
    "- Seguros"
   ]
  },
  {
   "cell_type": "markdown",
   "metadata": {},
   "source": [
    "### Lectura datos dz1"
   ]
  },
  {
   "cell_type": "code",
   "execution_count": 3,
   "metadata": {},
   "outputs": [],
   "source": [
    "captacion1 = pd.read_excel('/Users/manue/TFM/Financial-Product-Sales-Forecast-Model/0rigin_data/dz1/1_CAPTACION.xlsx')\n",
    "cartera1 = pd.read_excel('/Users/manue/TFM/Financial-Product-Sales-Forecast-Model/0rigin_data/dz1/1_CARTERA.xlsx')\n",
    "digital1 = pd.read_excel('/Users/manue/TFM/Financial-Product-Sales-Forecast-Model/0rigin_data/dz1/1_DIGITAL.xlsx')\n",
    "financiacion1 = pd.read_excel('/Users/manue/TFM/Financial-Product-Sales-Forecast-Model/0rigin_data/dz1/1_FINANCIACION.xlsx')\n",
    "fondos_planes1 = pd.read_excel('/Users/manue/TFM/Financial-Product-Sales-Forecast-Model/0rigin_data/dz1/1_FONDOS_PLANES.xlsx')\n",
    "lps1 = pd.read_excel('/Users/manue/TFM/Financial-Product-Sales-Forecast-Model/0rigin_data/dz1/1_LPS.xlsx')\n",
    "marca1 = pd.read_excel('/Users/manue/TFM/Financial-Product-Sales-Forecast-Model/0rigin_data/dz1/1_MARCA.xlsx')\n",
    "segmento_edad1 = pd.read_excel('/Users/manue/TFM/Financial-Product-Sales-Forecast-Model/0rigin_data/dz1/1_SEGMENTO_EDAD.xlsx')\n",
    "seguros1 = pd.read_excel('/Users/manue/TFM/Financial-Product-Sales-Forecast-Model/0rigin_data/dz1/1_SEGUROS.xlsx')"
   ]
  },
  {
   "cell_type": "markdown",
   "metadata": {},
   "source": [
    "### Lectura datos dz2"
   ]
  },
  {
   "cell_type": "code",
   "execution_count": 6,
   "metadata": {},
   "outputs": [],
   "source": [
    "captacion2 = pd.read_excel('/Users/manue/TFM/Financial-Product-Sales-Forecast-Model/0rigin_data/dz2/2_CAPTACION.xlsx')\n",
    "cartera2  = pd.read_excel('/Users/manue/TFM/Financial-Product-Sales-Forecast-Model/0rigin_data/dz2/2_CARTERA.xlsx')\n",
    "digital2  = pd.read_excel('/Users/manue/TFM/Financial-Product-Sales-Forecast-Model/0rigin_data/dz2/2_DIGITAL.xlsx')\n",
    "financiacion2  = pd.read_excel('/Users/manue/TFM/Financial-Product-Sales-Forecast-Model/0rigin_data/dz2/2_FINANCIACION.xlsx')\n",
    "fondos_planes2  = pd.read_excel('/Users/manue/TFM/Financial-Product-Sales-Forecast-Model/0rigin_data/dz2/2_FONDOS_PLANES.xlsx')\n",
    "lps2  = pd.read_excel('/Users/manue/TFM/Financial-Product-Sales-Forecast-Model/0rigin_data/dz2/2_LPS.xlsx')\n",
    "marca2  = pd.read_excel('/Users/manue/TFM/Financial-Product-Sales-Forecast-Model/0rigin_data/dz2/2_MARCA.xlsx')\n",
    "segmento_edad2  = pd.read_excel('/Users/manue/TFM/Financial-Product-Sales-Forecast-Model/0rigin_data/dz2/2_SEGMENTO_EDAD.xlsx')\n",
    "seguros2  = pd.read_excel('/Users/manue/TFM/Financial-Product-Sales-Forecast-Model/0rigin_data/dz2/2_SEGUROS.xlsx')"
   ]
  },
  {
   "cell_type": "markdown",
   "metadata": {},
   "source": [
    "### Lectura datos dz3"
   ]
  },
  {
   "cell_type": "code",
   "execution_count": 9,
   "metadata": {},
   "outputs": [],
   "source": [
    "captacion3 = pd.read_excel('/Users/manue/TFM/Financial-Product-Sales-Forecast-Model/0rigin_data/dz3/3_CAPTACION.xlsx')\n",
    "cartera3 = pd.read_excel('/Users/manue/TFM/Financial-Product-Sales-Forecast-Model/0rigin_data/dz3/3_CARTERA.xlsx')\n",
    "digital3 = pd.read_excel('/Users/manue/TFM/Financial-Product-Sales-Forecast-Model/0rigin_data/dz3/3_DIGITAL.xlsx')\n",
    "financiacion3 = pd.read_excel('/Users/manue/TFM/Financial-Product-Sales-Forecast-Model/0rigin_data/dz3/3_FINANCIACION.xlsx')\n",
    "fondos_planes3 = pd.read_excel('/Users/manue/TFM/Financial-Product-Sales-Forecast-Model/0rigin_data/dz3/3_FONDOS_PLANES.xlsx')\n",
    "lps3 = pd.read_excel('/Users/manue/TFM/Financial-Product-Sales-Forecast-Model/0rigin_data/dz3/3_LPS.xlsx')\n",
    "marca3 = pd.read_excel('/Users/manue/TFM/Financial-Product-Sales-Forecast-Model/0rigin_data/dz3/3_MARCA.xlsx')\n",
    "segmento_edad3 = pd.read_excel('/Users/manue/TFM/Financial-Product-Sales-Forecast-Model/0rigin_data/dz3/3_SEGMENTO_EDAD.xlsx')\n",
    "seguros3 = pd.read_excel('/Users/manue/TFM/Financial-Product-Sales-Forecast-Model/0rigin_data/dz3/3_SEGUROS.xlsx')"
   ]
  },
  {
   "cell_type": "markdown",
   "metadata": {},
   "source": [
    "### Lectura datos dz4"
   ]
  },
  {
   "cell_type": "code",
   "execution_count": 11,
   "metadata": {},
   "outputs": [],
   "source": [
    "captacion4 = pd.read_excel('/Users/manue/TFM/Financial-Product-Sales-Forecast-Model/0rigin_data/dz4/4_CAPTACION.xlsx')\n",
    "cartera4 = pd.read_excel('/Users/manue/TFM/Financial-Product-Sales-Forecast-Model/0rigin_data/dz4/4_CARTERA.xlsx')\n",
    "digital4 = pd.read_excel('/Users/manue/TFM/Financial-Product-Sales-Forecast-Model/0rigin_data/dz4/4_DIGITAL.xlsx')\n",
    "financiacion4 = pd.read_excel('/Users/manue/TFM/Financial-Product-Sales-Forecast-Model/0rigin_data/dz4/4_FINANCIACION.xlsx')\n",
    "fondos_planes4 = pd.read_excel('/Users/manue/TFM/Financial-Product-Sales-Forecast-Model/0rigin_data/dz4/4_FONDOS_PLANES.xlsx')\n",
    "lps4 = pd.read_excel('/Users/manue/TFM/Financial-Product-Sales-Forecast-Model/0rigin_data/dz4/4_LPS.xlsx')\n",
    "marca4 = pd.read_excel('/Users/manue/TFM/Financial-Product-Sales-Forecast-Model/0rigin_data/dz4/4_MARCA.xlsx')\n",
    "segmento_edad4 = pd.read_excel('/Users/manue/TFM/Financial-Product-Sales-Forecast-Model/0rigin_data/dz4/4_SEGMENTO_EDAD.xlsx')\n",
    "seguros4 = pd.read_excel('/Users/manue/TFM/Financial-Product-Sales-Forecast-Model/0rigin_data/dz4/4_SEGUROS.xlsx')"
   ]
  },
  {
   "cell_type": "markdown",
   "metadata": {},
   "source": [
    "### Lectura datos dz5"
   ]
  },
  {
   "cell_type": "code",
   "execution_count": 12,
   "metadata": {},
   "outputs": [],
   "source": [
    "captacion5 = pd.read_excel('/Users/manue/TFM/Financial-Product-Sales-Forecast-Model/0rigin_data/dz5/5_CAPTACION.xlsx')\n",
    "cartera5 = pd.read_excel('/Users/manue/TFM/Financial-Product-Sales-Forecast-Model/0rigin_data/dz5/5_CARTERA.xlsx')\n",
    "digital5 = pd.read_excel('/Users/manue/TFM/Financial-Product-Sales-Forecast-Model/0rigin_data/dz5/5_DIGITAL.xlsx')\n",
    "financiacion5 = pd.read_excel('/Users/manue/TFM/Financial-Product-Sales-Forecast-Model/0rigin_data/dz5/5_FINANCIACION.xlsx')\n",
    "fondos_planes5 = pd.read_excel('/Users/manue/TFM/Financial-Product-Sales-Forecast-Model/0rigin_data/dz5/5_FONDOS_PLANES.xlsx')\n",
    "lps5 = pd.read_excel('/Users/manue/TFM/Financial-Product-Sales-Forecast-Model/0rigin_data/dz5/5_LPS.xlsx')\n",
    "marca5 = pd.read_excel('/Users/manue/TFM/Financial-Product-Sales-Forecast-Model/0rigin_data/dz5/5_MARCA.xlsx')\n",
    "segmento_edad5 = pd.read_excel('/Users/manue/TFM/Financial-Product-Sales-Forecast-Model/0rigin_data/dz5/5_SEGMENTO_EDAD.xlsx')\n",
    "seguros5 = pd.read_excel('/Users/manue/TFM/Financial-Product-Sales-Forecast-Model/0rigin_data/dz5/5_SEGUROS.xlsx')"
   ]
  },
  {
   "cell_type": "markdown",
   "metadata": {},
   "source": [
    "### Lectura datos dz6"
   ]
  },
  {
   "cell_type": "code",
   "execution_count": 13,
   "metadata": {},
   "outputs": [],
   "source": [
    "captacion6 = pd.read_excel('/Users/manue/TFM/Financial-Product-Sales-Forecast-Model/0rigin_data/dz6/6_CAPTACION.xlsx')\n",
    "cartera6 = pd.read_excel('/Users/manue/TFM/Financial-Product-Sales-Forecast-Model/0rigin_data/dz6/6_CARTERA.xlsx')\n",
    "digital6 = pd.read_excel('/Users/manue/TFM/Financial-Product-Sales-Forecast-Model/0rigin_data/dz6/6_DIGITAL.xlsx')\n",
    "financiacion6 = pd.read_excel('/Users/manue/TFM/Financial-Product-Sales-Forecast-Model/0rigin_data/dz6/6_FINANCIACION.xlsx')\n",
    "fondos_planes6 = pd.read_excel('/Users/manue/TFM/Financial-Product-Sales-Forecast-Model/0rigin_data/dz6/6_FONDOS_PLANES.xlsx')\n",
    "lps6 = pd.read_excel('/Users/manue/TFM/Financial-Product-Sales-Forecast-Model/0rigin_data/dz6/6_LPS.xlsx')\n",
    "marca6 = pd.read_excel('/Users/manue/TFM/Financial-Product-Sales-Forecast-Model/0rigin_data/dz6/6_MARCA.xlsx')\n",
    "segmento_edad6 = pd.read_excel('/Users/manue/TFM/Financial-Product-Sales-Forecast-Model/0rigin_data/dz6/6_SEGMENTO_EDAD.xlsx')\n",
    "seguros6 = pd.read_excel('/Users/manue/TFM/Financial-Product-Sales-Forecast-Model/0rigin_data/dz6/6_SEGUROS.xlsx')"
   ]
  },
  {
   "cell_type": "markdown",
   "metadata": {},
   "source": [
    "### Lectura datos dz7"
   ]
  },
  {
   "cell_type": "code",
   "execution_count": 14,
   "metadata": {},
   "outputs": [],
   "source": [
    "captacion7 = pd.read_excel('/Users/manue/TFM/Financial-Product-Sales-Forecast-Model/0rigin_data/dz7/7_CAPTACION.xlsx')\n",
    "cartera7 = pd.read_excel('/Users/manue/TFM/Financial-Product-Sales-Forecast-Model/0rigin_data/dz7/7_CARTERA.xlsx')\n",
    "digital7 = pd.read_excel('/Users/manue/TFM/Financial-Product-Sales-Forecast-Model/0rigin_data/dz7/7_DIGITAL.xlsx')\n",
    "financiacion7 = pd.read_excel('/Users/manue/TFM/Financial-Product-Sales-Forecast-Model/0rigin_data/dz7/7_FINANCIACION.xlsx')\n",
    "fondos_planes7 = pd.read_excel('/Users/manue/TFM/Financial-Product-Sales-Forecast-Model/0rigin_data/dz7/7_FONDOS_PLANES.xlsx')\n",
    "lps7 = pd.read_excel('/Users/manue/TFM/Financial-Product-Sales-Forecast-Model/0rigin_data/dz7/7_LPS.xlsx')\n",
    "marca7 = pd.read_excel('/Users/manue/TFM/Financial-Product-Sales-Forecast-Model/0rigin_data/dz7/7_MARCA.xlsx')\n",
    "segmento_edad7 = pd.read_excel('/Users/manue/TFM/Financial-Product-Sales-Forecast-Model/0rigin_data/dz7/7_SEGMENTO_EDAD.xlsx')\n",
    "seguros7 = pd.read_excel('/Users/manue/TFM/Financial-Product-Sales-Forecast-Model/0rigin_data/dz7/7_SEGUROS.xlsx')"
   ]
  },
  {
   "cell_type": "markdown",
   "metadata": {},
   "source": [
    "### Lectura datos dz8"
   ]
  },
  {
   "cell_type": "code",
   "execution_count": 15,
   "metadata": {},
   "outputs": [],
   "source": [
    "captacion8 = pd.read_excel('/Users/manue/TFM/Financial-Product-Sales-Forecast-Model/0rigin_data/dz8/8_CAPTACION.xlsx')\n",
    "cartera8 = pd.read_excel('/Users/manue/TFM/Financial-Product-Sales-Forecast-Model/0rigin_data/dz8/8_CARTERA.xlsx')\n",
    "digital8 = pd.read_excel('/Users/manue/TFM/Financial-Product-Sales-Forecast-Model/0rigin_data/dz8/8_DIGITAL.xlsx')\n",
    "financiacion8 = pd.read_excel('/Users/manue/TFM/Financial-Product-Sales-Forecast-Model/0rigin_data/dz8/8_FINANCIACION.xlsx')\n",
    "fondos_planes8 = pd.read_excel('/Users/manue/TFM/Financial-Product-Sales-Forecast-Model/0rigin_data/dz8/8_FONDOS_PLANES.xlsx')\n",
    "lps8 = pd.read_excel('/Users/manue/TFM/Financial-Product-Sales-Forecast-Model/0rigin_data/dz8/8_LPS.xlsx')\n",
    "marca8 = pd.read_excel('/Users/manue/TFM/Financial-Product-Sales-Forecast-Model/0rigin_data/dz8/8_MARCA.xlsx')\n",
    "segmento_edad8 = pd.read_excel('/Users/manue/TFM/Financial-Product-Sales-Forecast-Model/0rigin_data/dz8/8_SEGMENTO_EDAD.xlsx')\n",
    "seguros8 = pd.read_excel('/Users/manue/TFM/Financial-Product-Sales-Forecast-Model/0rigin_data/dz8/8_SEGUROS.xlsx')"
   ]
  },
  {
   "cell_type": "markdown",
   "metadata": {},
   "source": [
    "### Lectura datos dz9"
   ]
  },
  {
   "cell_type": "code",
   "execution_count": 16,
   "metadata": {},
   "outputs": [],
   "source": [
    "captacion9 = pd.read_excel('/Users/manue/TFM/Financial-Product-Sales-Forecast-Model/0rigin_data/dz9/9_CAPTACION.xlsx')\n",
    "cartera9 = pd.read_excel('/Users/manue/TFM/Financial-Product-Sales-Forecast-Model/0rigin_data/dz9/9_CARTERA.xlsx')\n",
    "digital9 = pd.read_excel('/Users/manue/TFM/Financial-Product-Sales-Forecast-Model/0rigin_data/dz9/9_DIGITAL.xlsx')\n",
    "financiacion9 = pd.read_excel('/Users/manue/TFM/Financial-Product-Sales-Forecast-Model/0rigin_data/dz9/9_FINANCIACION.xlsx')\n",
    "fondos_planes9 = pd.read_excel('/Users/manue/TFM/Financial-Product-Sales-Forecast-Model/0rigin_data/dz9/9_FONDOS_PLANES.xlsx')\n",
    "lps9 = pd.read_excel('/Users/manue/TFM/Financial-Product-Sales-Forecast-Model/0rigin_data/dz9/9_LPS.xlsx')\n",
    "marca9 = pd.read_excel('/Users/manue/TFM/Financial-Product-Sales-Forecast-Model/0rigin_data/dz9/9_MARCA.xlsx')\n",
    "segmento_edad9 = pd.read_excel('/Users/manue/TFM/Financial-Product-Sales-Forecast-Model/0rigin_data/dz9/9_SEGMENTO_EDAD.xlsx')\n",
    "seguros9 = pd.read_excel('/Users/manue/TFM/Financial-Product-Sales-Forecast-Model/0rigin_data/dz9/9_SEGUROS.xlsx')"
   ]
  },
  {
   "cell_type": "markdown",
   "metadata": {},
   "source": [
    "### Lectura datos dz10"
   ]
  },
  {
   "cell_type": "code",
   "execution_count": 17,
   "metadata": {},
   "outputs": [],
   "source": [
    "captacion10 = pd.read_excel('/Users/manue/TFM/Financial-Product-Sales-Forecast-Model/0rigin_data/dz10/10_CAPTACION.xlsx')\n",
    "cartera10 = pd.read_excel('/Users/manue/TFM/Financial-Product-Sales-Forecast-Model/0rigin_data/dz10/10_CARTERA.xlsx')\n",
    "digital10 = pd.read_excel('/Users/manue/TFM/Financial-Product-Sales-Forecast-Model/0rigin_data/dz10/10_DIGITAL.xlsx')\n",
    "financiacion10 = pd.read_excel('/Users/manue/TFM/Financial-Product-Sales-Forecast-Model/0rigin_data/dz10/10_FINANCIACION.xlsx')\n",
    "fondos_planes10 = pd.read_excel('/Users/manue/TFM/Financial-Product-Sales-Forecast-Model/0rigin_data/dz10/10_FONDOS_PLANES.xlsx')\n",
    "lps10 = pd.read_excel('/Users/manue/TFM/Financial-Product-Sales-Forecast-Model/0rigin_data/dz10/10_LPS.xlsx')\n",
    "marca10 = pd.read_excel('/Users/manue/TFM/Financial-Product-Sales-Forecast-Model/0rigin_data/dz10/10_MARCA.xlsx')\n",
    "segmento_edad10 = pd.read_excel('/Users/manue/TFM/Financial-Product-Sales-Forecast-Model/0rigin_data/dz10/10_SEGMENTO_EDAD.xlsx')\n",
    "seguros10 = pd.read_excel('/Users/manue/TFM/Financial-Product-Sales-Forecast-Model/0rigin_data/dz10/10_SEGUROS.xlsx')"
   ]
  },
  {
   "cell_type": "markdown",
   "metadata": {},
   "source": [
    "### Lectura datos dz11"
   ]
  },
  {
   "cell_type": "code",
   "execution_count": 19,
   "metadata": {},
   "outputs": [],
   "source": [
    "captacion11 = pd.read_excel('/Users/manue/TFM/Financial-Product-Sales-Forecast-Model/0rigin_data/dz11/11_CAPTACION.xlsx')\n",
    "cartera11 = pd.read_excel('/Users/manue/TFM/Financial-Product-Sales-Forecast-Model/0rigin_data/dz11/11_CARTERA.xlsx')\n",
    "digital11 = pd.read_excel('/Users/manue/TFM/Financial-Product-Sales-Forecast-Model/0rigin_data/dz11/11_DIGITAL.xlsx')\n",
    "financiacion11= pd.read_excel('/Users/manue/TFM/Financial-Product-Sales-Forecast-Model/0rigin_data/dz11/11_FINANCIACION.xlsx')\n",
    "fondos_planes11 = pd.read_excel('/Users/manue/TFM/Financial-Product-Sales-Forecast-Model/0rigin_data/dz11/11_FONDOS_PLANES.xlsx')\n",
    "lps11 = pd.read_excel('/Users/manue/TFM/Financial-Product-Sales-Forecast-Model/0rigin_data/dz11/11_LPS.xlsx')\n",
    "marca11 = pd.read_excel('/Users/manue/TFM/Financial-Product-Sales-Forecast-Model/0rigin_data/dz11/11_MARCA.xlsx')\n",
    "segmento_edad11 = pd.read_excel('/Users/manue/TFM/Financial-Product-Sales-Forecast-Model/0rigin_data/dz11/11_SEGMENTO_EDAD.xlsx')\n",
    "seguros11= pd.read_excel('/Users/manue/TFM/Financial-Product-Sales-Forecast-Model/0rigin_data/dz11/11_SEGUROS.xlsx')"
   ]
  },
  {
   "cell_type": "markdown",
   "metadata": {},
   "source": [
    "### Merge de cada dz\n",
    "\n",
    "Creamos listas uniendo los segmentos cada una de las Direcciones de Zona\n"
   ]
  },
  {
   "cell_type": "code",
   "execution_count": 20,
   "metadata": {},
   "outputs": [],
   "source": [
    "data_frames1 = [captacion1, cartera1, digital1,financiacion1,fondos_planes1,lps1,marca1,segmento_edad1,seguros1]\n",
    "data_frames2 = [captacion2, cartera2, digital2,financiacion2,fondos_planes2,lps2,marca2,segmento_edad2,seguros2]\n",
    "data_frames3 = [captacion3, cartera3, digital3,financiacion3,fondos_planes3,lps3,marca3,segmento_edad3,seguros3]\n",
    "data_frames4 = [captacion4, cartera4, digital4,financiacion4,fondos_planes4,lps4,marca4,segmento_edad4,seguros4]\n",
    "data_frames5 = [captacion5, cartera5, digital5,financiacion5,fondos_planes5,lps5,marca5,segmento_edad5,seguros5]\n",
    "data_frames6 = [captacion6, cartera6, digital6,financiacion6,fondos_planes6,lps6,marca6,segmento_edad6,seguros6]\n",
    "data_frames7 = [captacion7, cartera7, digital7,financiacion7,fondos_planes7,lps7,marca7,segmento_edad7,seguros7]\n",
    "data_frames8 = [captacion8, cartera8, digital8,financiacion8,fondos_planes8,lps8,marca8,segmento_edad8,seguros8]\n",
    "data_frames9 = [captacion9, cartera9, digital9,financiacion9,fondos_planes9,lps9,marca9,segmento_edad9,seguros9]\n",
    "data_frames10 = [captacion10,cartera10,digital10,financiacion10,fondos_planes10,lps10,marca10,segmento_edad10,seguros10]\n",
    "data_frames11 = [captacion11,cartera11,digital11,financiacion11,fondos_planes11,lps11,marca11,segmento_edad11,seguros11]"
   ]
  },
  {
   "cell_type": "markdown",
   "metadata": {},
   "source": [
    "Procedemos a unir cada una de las direcciones de zona en un sola variable. Conseguimos 10 variables distintas coincidiendo con las Direcciones de zona existentes"
   ]
  },
  {
   "cell_type": "code",
   "execution_count": 21,
   "metadata": {},
   "outputs": [],
   "source": [
    "dz1_merged = reduce(lambda  left,right: pd.merge(left,right,on=['PERSONA'],\n",
    "                                            how='outer'), data_frames1)\n",
    "dz2_merged = reduce(lambda  left,right: pd.merge(left,right,on=['PERSONA'],\n",
    "                                            how='outer'), data_frames2)\n",
    "dz3_merged = reduce(lambda  left,right: pd.merge(left,right,on=['PERSONA'],\n",
    "                                            how='outer'), data_frames3)\n",
    "dz4_merged = reduce(lambda  left,right: pd.merge(left,right,on=['PERSONA'],\n",
    "                                            how='outer'), data_frames4)\n",
    "dz5_merged = reduce(lambda  left,right: pd.merge(left,right,on=['PERSONA'],\n",
    "                                            how='outer'), data_frames5)\n",
    "dz6_merged = reduce(lambda  left,right: pd.merge(left,right,on=['PERSONA'],\n",
    "                                            how='outer'), data_frames6)\n",
    "dz7_merged = reduce(lambda  left,right: pd.merge(left,right,on=['PERSONA'],\n",
    "                                            how='outer'), data_frames7)\n",
    "dz8_merged = reduce(lambda  left,right: pd.merge(left,right,on=['PERSONA'],\n",
    "                                            how='outer'), data_frames8)\n",
    "dz9_merged = reduce(lambda  left,right: pd.merge(left,right,on=['PERSONA'],\n",
    "                                            how='outer'), data_frames9)\n",
    "dz10_merged = reduce(lambda  left,right: pd.merge(left,right,on=['PERSONA'],\n",
    "                                            how='outer'), data_frames10)\n",
    "dz11_merged = reduce(lambda  left,right: pd.merge(left,right,on=['PERSONA'],\n",
    "                                            how='outer'), data_frames11)"
   ]
  },
  {
   "cell_type": "markdown",
   "metadata": {},
   "source": [
    "Confirmamos que el merge ha tenido efecto y eliminamos las columnas que no necesitamos en cada una de las Direcciones de Zona"
   ]
  },
  {
   "cell_type": "code",
   "execution_count": 22,
   "metadata": {},
   "outputs": [
    {
     "data": {
      "text/plain": [
       "Index(['DZ_x', 'OFICINA_x', 'PERSONA', 'SF_AH_CAPTACION_TT', 'DZ_y',\n",
       "       'OFICINA_y', 'ESTA_CARTERIZADO', 'CLIENTE_BBP', 'TIP_GESTOR', 'GESTOR',\n",
       "       'CARTERA_PATRON', 'CODIGO_CARTERA', 'DZ_x', 'OFICINA_x',\n",
       "       'DIGITAL_3_MESES', 'CAMINO_DIGITAL', 'DZ_y', 'OFICINA_y',\n",
       "       'SF_FINANCIACION_TT', 'DZ_x', 'OFICINA_x', 'SF_FONDOS_INVER',\n",
       "       'SF_PLAN_PENSION', 'DZ_y', 'OFICINA_y', 'LP_DOMIC_INGRESOS',\n",
       "       'LP_TARJ_CREDITO', 'LP_TARJ_REVOLVING', 'LP_REC_LTGA_OTR',\n",
       "       'LP_OFIC_INTERNET', 'DZ_x', 'OFICINA_x', 'MARCA_BANCA_PERSONAL',\n",
       "       'MARCA_AF_CCTE', 'DZ_y', 'OFICINA_y', 'EDAD', 'SEGMENTO_VALOR',\n",
       "       'SEGMENTO_RECORRIDO', 'DZ', 'OFICINA', 'LP_SEG_VIDA', 'LP_SEG_ACCIDENT',\n",
       "       'LP_SEG_MEDICOS', 'LP_SEG_MULTIRRIES', 'LP_SEG_AUTO'],\n",
       "      dtype='object')"
      ]
     },
     "execution_count": 22,
     "metadata": {},
     "output_type": "execute_result"
    }
   ],
   "source": [
    "dz1_merged.columns"
   ]
  },
  {
   "cell_type": "code",
   "execution_count": 23,
   "metadata": {},
   "outputs": [],
   "source": [
    "dz1_merged.drop(dz2_merged.columns[[0,1,4,5,12,13,16,17,19,20,23,24,\n",
    "                                    30,31,34,35]],axis='columns', inplace = True)"
   ]
  },
  {
   "cell_type": "code",
   "execution_count": 24,
   "metadata": {},
   "outputs": [
    {
     "data": {
      "text/plain": [
       "Index(['DZ_x', 'OFICINA_x', 'PERSONA', 'SF_AH_CAPTACION_TT', 'DZ_y',\n",
       "       'OFICINA_y', 'ESTA_CARTERIZADO', 'CLIENTE_BBP', 'TIP_GESTOR', 'GESTOR',\n",
       "       'CARTERA_PATRON', 'CODIGO_CARTERA', 'DZ_x', 'OFICINA_x',\n",
       "       'DIGITAL_3_MESES', 'CAMINO_DIGITAL', 'DZ_y', 'OFICINA_y',\n",
       "       'SF_FINANCIACION_TT', 'DZ_x', 'OFICINA_x', 'SF_FONDOS_INVER',\n",
       "       'SF_PLAN_PENSION', 'DZ_y', 'OFICINA_y', 'LP_DOMIC_INGRESOS',\n",
       "       'LP_TARJ_CREDITO', 'LP_TARJ_REVOLVING', 'LP_REC_LTGA_OTR',\n",
       "       'LP_OFIC_INTERNET', 'DZ_x', 'OFICINA_x', 'MARCA_BANCA_PERSONAL',\n",
       "       'MARCA_AF_CCTE', 'DZ_y', 'OFICINA_y', 'EDAD', 'SEGMENTO_VALOR',\n",
       "       'SEGMENTO_RECORRIDO', 'DZ', 'OFICINA', 'LP_SEG_VIDA', 'LP_SEG_ACCIDENT',\n",
       "       'LP_SEG_MEDICOS', 'LP_SEG_MULTIRRIES', 'LP_SEG_AUTO'],\n",
       "      dtype='object')"
      ]
     },
     "execution_count": 24,
     "metadata": {},
     "output_type": "execute_result"
    }
   ],
   "source": [
    "dz2_merged.columns"
   ]
  },
  {
   "cell_type": "code",
   "execution_count": 25,
   "metadata": {},
   "outputs": [],
   "source": [
    "dz2_merged.drop(dz2_merged.columns[[0,1,4,5,12,13,16,17,19,20,23,24,\n",
    "                                    30,31,34,35]],axis='columns', inplace = True)"
   ]
  },
  {
   "cell_type": "code",
   "execution_count": 26,
   "metadata": {},
   "outputs": [
    {
     "data": {
      "text/plain": [
       "Index(['DZ_x', 'OFICINA_x', 'PERSONA', 'SF_AH_CAPTACION_TT', 'DZ_y',\n",
       "       'OFICINA_y', 'ESTA_CARTERIZADO', 'CLIENTE_BBP', 'TIP_GESTOR', 'GESTOR',\n",
       "       'CARTERA_PATRON', 'CODIGO_CARTERA', 'DZ_x', 'OFICINA_x',\n",
       "       'DIGITAL_3_MESES', 'CAMINO_DIGITAL', 'DZ_y', 'OFICINA_y',\n",
       "       'SF_FINANCIACION_TT', 'DZ_x', 'OFICINA_x', 'SF_FONDOS_INVER',\n",
       "       'SF_PLAN_PENSION', 'DZ_y', 'OFICINA_y', 'LP_DOMIC_INGRESOS',\n",
       "       'LP_TARJ_CREDITO', 'LP_TARJ_REVOLVING', 'LP_REC_LTGA_OTR',\n",
       "       'LP_OFIC_INTERNET', 'DZ_x', 'OFICINA_x', 'MARCA_BANCA_PERSONAL',\n",
       "       'MARCA_AF_CCTE', 'DZ_y', 'OFICINA_y', 'EDAD', 'SEGMENTO_VALOR',\n",
       "       'SEGMENTO_RECORRIDO', 'DZ', 'OFICINA', 'LP_SEG_VIDA', 'LP_SEG_ACCIDENT',\n",
       "       'LP_SEG_MEDICOS', 'LP_SEG_MULTIRRIES', 'LP_SEG_AUTO'],\n",
       "      dtype='object')"
      ]
     },
     "execution_count": 26,
     "metadata": {},
     "output_type": "execute_result"
    }
   ],
   "source": [
    "dz3_merged.columns"
   ]
  },
  {
   "cell_type": "code",
   "execution_count": 27,
   "metadata": {},
   "outputs": [],
   "source": [
    "dz3_merged.drop(dz3_merged.columns[[0,1,4,5,12,13,16,17,19,20,23,24,\n",
    "                                    30,31,34,35]],axis='columns', inplace = True)"
   ]
  },
  {
   "cell_type": "code",
   "execution_count": 28,
   "metadata": {},
   "outputs": [
    {
     "data": {
      "text/plain": [
       "Index(['DZ_x', 'OFICINA_x', 'PERSONA', 'SF_AH_CAPTACION_TT', 'DZ_y',\n",
       "       'OFICINA_y', 'ESTA_CARTERIZADO', 'CLIENTE_BBP', 'TIP_GESTOR', 'GESTOR',\n",
       "       'CARTERA_PATRON', 'CODIGO_CARTERA', 'DZ_x', 'OFICINA_x',\n",
       "       'DIGITAL_3_MESES', 'CAMINO_DIGITAL', 'DZ_y', 'OFICINA_y',\n",
       "       'SF_FINANCIACION_TT', 'DZ_x', 'OFICINA_x', 'SF_FONDOS_INVER',\n",
       "       'SF_PLAN_PENSION', 'DZ_y', 'OFICINA_y', 'LP_DOMIC_INGRESOS',\n",
       "       'LP_TARJ_CREDITO', 'LP_TARJ_REVOLVING', 'LP_REC_LTGA_OTR',\n",
       "       'LP_OFIC_INTERNET', 'DZ_x', 'OFICINA_x', 'MARCA_BANCA_PERSONAL',\n",
       "       'MARCA_AF_CCTE', 'DZ_y', 'OFICINA_y', 'EDAD', 'SEGMENTO_VALOR',\n",
       "       'SEGMENTO_RECORRIDO', 'DZ', 'OFICINA', 'LP_SEG_VIDA', 'LP_SEG_ACCIDENT',\n",
       "       'LP_SEG_MEDICOS', 'LP_SEG_MULTIRRIES', 'LP_SEG_AUTO'],\n",
       "      dtype='object')"
      ]
     },
     "execution_count": 28,
     "metadata": {},
     "output_type": "execute_result"
    }
   ],
   "source": [
    "dz4_merged.columns"
   ]
  },
  {
   "cell_type": "code",
   "execution_count": 29,
   "metadata": {},
   "outputs": [],
   "source": [
    "dz4_merged.drop(dz4_merged.columns[[0,1,4,5,12,13,16,17,19,20,23,24,\n",
    "                                    30,31,34,35]],axis='columns', inplace = True)"
   ]
  },
  {
   "cell_type": "code",
   "execution_count": 30,
   "metadata": {},
   "outputs": [
    {
     "data": {
      "text/plain": [
       "Index(['DZ_x', 'OFICINA_x', 'PERSONA', 'SF_AH_CAPTACION_TT', 'DZ_y',\n",
       "       'OFICINA_y', 'ESTA_CARTERIZADO', 'CLIENTE_BBP', 'TIP_GESTOR', 'GESTOR',\n",
       "       'CARTERA_PATRON', 'CODIGO_CARTERA', 'DZ_x', 'OFICINA_x',\n",
       "       'DIGITAL_3_MESES', 'CAMINO_DIGITAL', 'DZ_y', 'OFICINA_y',\n",
       "       'SF_FINANCIACION_TT', 'DZ_x', 'OFICINA_x', 'SF_FONDOS_INVER',\n",
       "       'SF_PLAN_PENSION', 'DZ_y', 'OFICINA_y', 'LP_DOMIC_INGRESOS',\n",
       "       'LP_TARJ_CREDITO', 'LP_TARJ_REVOLVING', 'LP_REC_LTGA_OTR',\n",
       "       'LP_OFIC_INTERNET', 'DZ_x', 'OFICINA_x', 'MARCA_BANCA_PERSONAL',\n",
       "       'MARCA_AF_CCTE', 'DZ_y', 'OFICINA_y', 'EDAD', 'SEGMENTO_VALOR',\n",
       "       'SEGMENTO_RECORRIDO', 'DZ', 'OFICINA', 'LP_SEG_VIDA', 'LP_SEG_ACCIDENT',\n",
       "       'LP_SEG_MEDICOS', 'LP_SEG_MULTIRRIES', 'LP_SEG_AUTO'],\n",
       "      dtype='object')"
      ]
     },
     "execution_count": 30,
     "metadata": {},
     "output_type": "execute_result"
    }
   ],
   "source": [
    "dz5_merged.columns"
   ]
  },
  {
   "cell_type": "code",
   "execution_count": 31,
   "metadata": {},
   "outputs": [],
   "source": [
    "dz5_merged.drop(dz5_merged.columns[[0,1,4,5,12,13,16,17,19,20,23,24,\n",
    "                                    30,31,34,35]],axis='columns', inplace = True)"
   ]
  },
  {
   "cell_type": "code",
   "execution_count": 32,
   "metadata": {},
   "outputs": [
    {
     "data": {
      "text/plain": [
       "Index(['PERSONA', 'SF_AH_CAPTACION_TT', 'ESTA_CARTERIZADO', 'CLIENTE_BBP',\n",
       "       'TIP_GESTOR', 'GESTOR', 'CARTERA_PATRON', 'CODIGO_CARTERA',\n",
       "       'DIGITAL_3_MESES', 'CAMINO_DIGITAL', 'SF_FINANCIACION_TT',\n",
       "       'SF_FONDOS_INVER', 'SF_PLAN_PENSION', 'LP_DOMIC_INGRESOS',\n",
       "       'LP_TARJ_CREDITO', 'LP_TARJ_REVOLVING', 'LP_REC_LTGA_OTR',\n",
       "       'LP_OFIC_INTERNET', 'MARCA_BANCA_PERSONAL', 'MARCA_AF_CCTE', 'EDAD',\n",
       "       'SEGMENTO_VALOR', 'SEGMENTO_RECORRIDO', 'DZ', 'OFICINA', 'LP_SEG_VIDA',\n",
       "       'LP_SEG_ACCIDENT', 'LP_SEG_MEDICOS', 'LP_SEG_MULTIRRIES',\n",
       "       'LP_SEG_AUTO'],\n",
       "      dtype='object')"
      ]
     },
     "execution_count": 32,
     "metadata": {},
     "output_type": "execute_result"
    }
   ],
   "source": [
    "dz5_merged.columns"
   ]
  },
  {
   "cell_type": "code",
   "execution_count": 33,
   "metadata": {},
   "outputs": [],
   "source": [
    "dz6_merged.drop(dz6_merged.columns[[0,1,4,5,12,13,16,17,19,20,23,24,\n",
    "                                    30,31,34,35]],axis='columns', inplace = True)"
   ]
  },
  {
   "cell_type": "code",
   "execution_count": 34,
   "metadata": {},
   "outputs": [
    {
     "data": {
      "text/plain": [
       "Index(['DZ_x', 'OFICINA_x', 'PERSONA', 'SF_AH_CAPTACION_TT', 'DZ_y',\n",
       "       'OFICINA_y', 'ESTA_CARTERIZADO', 'CLIENTE_BBP', 'TIP_GESTOR', 'GESTOR',\n",
       "       'CARTERA_PATRON', 'CODIGO_CARTERA', 'DZ_x', 'OFICINA_x',\n",
       "       'DIGITAL_3_MESES', 'CAMINO_DIGITAL', 'DZ_y', 'OFICINA_y',\n",
       "       'SF_FINANCIACION_TT', 'DZ_x', 'OFICINA_x', 'SF_FONDOS_INVER',\n",
       "       'SF_PLAN_PENSION', 'DZ_y', 'OFICINA_y', 'LP_DOMIC_INGRESOS',\n",
       "       'LP_TARJ_CREDITO', 'LP_TARJ_REVOLVING', 'LP_REC_LTGA_OTR',\n",
       "       'LP_OFIC_INTERNET', 'DZ_x', 'OFICINA_x', 'MARCA_BANCA_PERSONAL',\n",
       "       'MARCA_AF_CCTE', 'DZ_y', 'OFICINA_y', 'EDAD', 'SEGMENTO_VALOR',\n",
       "       'SEGMENTO_RECORRIDO', 'DZ', 'OFICINA', 'LP_SEG_VIDA', 'LP_SEG_ACCIDENT',\n",
       "       'LP_SEG_MEDICOS', 'LP_SEG_MULTIRRIES', 'LP_SEG_AUTO'],\n",
       "      dtype='object')"
      ]
     },
     "execution_count": 34,
     "metadata": {},
     "output_type": "execute_result"
    }
   ],
   "source": [
    "dz7_merged.columns"
   ]
  },
  {
   "cell_type": "code",
   "execution_count": 35,
   "metadata": {},
   "outputs": [],
   "source": [
    "dz7_merged.drop(dz7_merged.columns[[0,1,4,5,12,13,16,17,19,20,23,24,\n",
    "                                    30,31,34,35]],axis='columns', inplace = True)"
   ]
  },
  {
   "cell_type": "code",
   "execution_count": 36,
   "metadata": {},
   "outputs": [
    {
     "data": {
      "text/plain": [
       "Index(['DZ_x', 'OFICINA_x', 'PERSONA', 'SF_AH_CAPTACION_TT', 'DZ_y',\n",
       "       'OFICINA_y', 'ESTA_CARTERIZADO', 'CLIENTE_BBP', 'TIP_GESTOR', 'GESTOR',\n",
       "       'CARTERA_PATRON', 'CODIGO_CARTERA', 'DZ_x', 'OFICINA_x',\n",
       "       'DIGITAL_3_MESES', 'CAMINO_DIGITAL', 'DZ_y', 'OFICINA_y',\n",
       "       'SF_FINANCIACION_TT', 'DZ_x', 'OFICINA_x', 'SF_FONDOS_INVER',\n",
       "       'SF_PLAN_PENSION', 'DZ_y', 'OFICINA_y', 'LP_DOMIC_INGRESOS',\n",
       "       'LP_TARJ_CREDITO', 'LP_TARJ_REVOLVING', 'LP_REC_LTGA_OTR',\n",
       "       'LP_OFIC_INTERNET', 'DZ_x', 'OFICINA_x', 'MARCA_BANCA_PERSONAL',\n",
       "       'MARCA_AF_CCTE', 'DZ_y', 'OFICINA_y', 'EDAD', 'SEGMENTO_VALOR',\n",
       "       'SEGMENTO_RECORRIDO', 'DZ', 'OFICINA', 'LP_SEG_VIDA', 'LP_SEG_ACCIDENT',\n",
       "       'LP_SEG_MEDICOS', 'LP_SEG_MULTIRRIES', 'LP_SEG_AUTO'],\n",
       "      dtype='object')"
      ]
     },
     "execution_count": 36,
     "metadata": {},
     "output_type": "execute_result"
    }
   ],
   "source": [
    "dz8_merged.columns"
   ]
  },
  {
   "cell_type": "code",
   "execution_count": 37,
   "metadata": {},
   "outputs": [],
   "source": [
    "dz8_merged.drop(dz8_merged.columns[[0,1,4,5,12,13,16,17,19,20,23,24,\n",
    "                                    30,31,34,35]],axis='columns', inplace = True)"
   ]
  },
  {
   "cell_type": "code",
   "execution_count": 38,
   "metadata": {},
   "outputs": [
    {
     "data": {
      "text/plain": [
       "Index(['DZ_x', 'OFICINA_x', 'PERSONA', 'SF_AH_CAPTACION_TT', 'DZ_y',\n",
       "       'OFICINA_y', 'ESTA_CARTERIZADO', 'CLIENTE_BBP', 'TIP_GESTOR', 'GESTOR',\n",
       "       'CARTERA_PATRON', 'CODIGO_CARTERA', 'DZ_x', 'OFICINA_x',\n",
       "       'DIGITAL_3_MESES', 'CAMINO_DIGITAL', 'DZ_y', 'OFICINA_y',\n",
       "       'SF_FINANCIACION_TT', 'DZ_x', 'OFICINA_x', 'SF_FONDOS_INVER',\n",
       "       'SF_PLAN_PENSION', 'DZ_y', 'OFICINA_y', 'LP_DOMIC_INGRESOS',\n",
       "       'LP_TARJ_CREDITO', 'LP_TARJ_REVOLVING', 'LP_REC_LTGA_OTR',\n",
       "       'LP_OFIC_INTERNET', 'DZ_x', 'OFICINA_x', 'MARCA_BANCA_PERSONAL',\n",
       "       'MARCA_AF_CCTE', 'DZ_y', 'OFICINA_y', 'EDAD', 'SEGMENTO_VALOR',\n",
       "       'SEGMENTO_RECORRIDO', 'DZ', 'OFICINA', 'LP_SEG_VIDA', 'LP_SEG_ACCIDENT',\n",
       "       'LP_SEG_MEDICOS', 'LP_SEG_MULTIRRIES', 'LP_SEG_AUTO'],\n",
       "      dtype='object')"
      ]
     },
     "execution_count": 38,
     "metadata": {},
     "output_type": "execute_result"
    }
   ],
   "source": [
    "dz9_merged.columns"
   ]
  },
  {
   "cell_type": "code",
   "execution_count": 39,
   "metadata": {},
   "outputs": [],
   "source": [
    "dz9_merged.drop(dz9_merged.columns[[0,1,4,5,12,13,16,17,19,20,23,24,\n",
    "                                    30,31,34,35]],axis='columns', inplace = True)"
   ]
  },
  {
   "cell_type": "code",
   "execution_count": 40,
   "metadata": {},
   "outputs": [
    {
     "data": {
      "text/plain": [
       "Index(['DZ_x', 'OFICINA_x', 'PERSONA', 'SF_AH_CAPTACION_TT', 'DZ_y',\n",
       "       'OFICINA_y', 'ESTA_CARTERIZADO', 'CLIENTE_BBP', 'TIP_GESTOR', 'GESTOR',\n",
       "       'CARTERA_PATRON', 'CODIGO_CARTERA', 'DZ_x', 'OFICINA_x',\n",
       "       'DIGITAL_3_MESES', 'CAMINO_DIGITAL', 'DZ_y', 'OFICINA_y',\n",
       "       'SF_FINANCIACION_TT', 'DZ_x', 'OFICINA_x', 'SF_FONDOS_INVER',\n",
       "       'SF_PLAN_PENSION', 'DZ_y', 'OFICINA_y', 'LP_DOMIC_INGRESOS',\n",
       "       'LP_TARJ_CREDITO', 'LP_TARJ_REVOLVING', 'LP_REC_LTGA_OTR',\n",
       "       'LP_OFIC_INTERNET', 'DZ_x', 'OFICINA_x', 'MARCA_BANCA_PERSONAL',\n",
       "       'MARCA_AF_CCTE', 'DZ_y', 'OFICINA_y', 'EDAD', 'SEGMENTO_VALOR',\n",
       "       'SEGMENTO_RECORRIDO', 'DZ', 'OFICINA', 'LP_SEG_VIDA', 'LP_SEG_ACCIDENT',\n",
       "       'LP_SEG_MEDICOS', 'LP_SEG_MULTIRRIES', 'LP_SEG_AUTO'],\n",
       "      dtype='object')"
      ]
     },
     "execution_count": 40,
     "metadata": {},
     "output_type": "execute_result"
    }
   ],
   "source": [
    "dz10_merged.columns"
   ]
  },
  {
   "cell_type": "code",
   "execution_count": 41,
   "metadata": {},
   "outputs": [],
   "source": [
    "dz10_merged.drop(dz10_merged.columns[[0,1,4,5,12,13,16,17,19,20,23,24,\n",
    "                                    30,31,34,35]],axis='columns', inplace = True)"
   ]
  },
  {
   "cell_type": "code",
   "execution_count": 42,
   "metadata": {},
   "outputs": [
    {
     "data": {
      "text/plain": [
       "Index(['DZ_x', 'OFICINA_x', 'PERSONA', 'SF_AH_CAPTACION_TT', 'DZ_y',\n",
       "       'OFICINA_y', 'ESTA_CARTERIZADO', 'CLIENTE_BBP', 'TIP_GESTOR', 'GESTOR',\n",
       "       'CARTERA_PATRON', 'CODIGO_CARTERA', 'DZ_x', 'OFICINA_x',\n",
       "       'DIGITAL_3_MESES', 'CAMINO_DIGITAL', 'DZ_y', 'OFICINA_y',\n",
       "       'SF_FINANCIACION_TT', 'DZ_x', 'OFICINA_x', 'SF_FONDOS_INVER',\n",
       "       'SF_PLAN_PENSION', 'DZ_y', 'OFICINA_y', 'LP_DOMIC_INGRESOS',\n",
       "       'LP_TARJ_CREDITO', 'LP_TARJ_REVOLVING', 'LP_REC_LTGA_OTR',\n",
       "       'LP_OFIC_INTERNET', 'DZ_x', 'OFICINA_x', 'MARCA_BANCA_PERSONAL',\n",
       "       'MARCA_AF_CCTE', 'DZ_y', 'OFICINA_y', 'EDAD', 'SEGMENTO_VALOR',\n",
       "       'SEGMENTO_RECORRIDO', 'DZ', 'OFICINA', 'LP_SEG_VIDA', 'LP_SEG_ACCIDENT',\n",
       "       'LP_SEG_MEDICOS', 'LP_SEG_MULTIRRIES', 'LP_SEG_AUTO'],\n",
       "      dtype='object')"
      ]
     },
     "execution_count": 42,
     "metadata": {},
     "output_type": "execute_result"
    }
   ],
   "source": [
    "dz11_merged.columns"
   ]
  },
  {
   "cell_type": "code",
   "execution_count": 43,
   "metadata": {},
   "outputs": [],
   "source": [
    "dz11_merged.drop(dz11_merged.columns[[0,1,4,5,12,13,16,17,19,20,23,24,\n",
    "                                    30,31,34,35]],axis='columns', inplace = True)"
   ]
  },
  {
   "cell_type": "markdown",
   "metadata": {},
   "source": [
    "Finalemente unimos cada en un solo Data Frame todas las Direcciones de Zona. Listamos su dimension, el nombre de las columnas y les cambiamos los nombres a minusculas."
   ]
  },
  {
   "cell_type": "code",
   "execution_count": 44,
   "metadata": {},
   "outputs": [],
   "source": [
    "df = pd.concat([dz1_merged,dz2_merged,dz3_merged,dz4_merged,dz5_merged,\n",
    "                   dz6_merged,dz7_merged,dz8_merged,dz9_merged,\n",
    "                   dz10_merged,dz11_merged])"
   ]
  },
  {
   "cell_type": "code",
   "execution_count": 45,
   "metadata": {},
   "outputs": [
    {
     "data": {
      "text/plain": [
       "(451374, 30)"
      ]
     },
     "execution_count": 45,
     "metadata": {},
     "output_type": "execute_result"
    }
   ],
   "source": [
    "df.shape"
   ]
  },
  {
   "cell_type": "code",
   "execution_count": 46,
   "metadata": {},
   "outputs": [
    {
     "data": {
      "text/plain": [
       "Index(['PERSONA', 'SF_AH_CAPTACION_TT', 'ESTA_CARTERIZADO', 'CLIENTE_BBP',\n",
       "       'TIP_GESTOR', 'GESTOR', 'CARTERA_PATRON', 'CODIGO_CARTERA',\n",
       "       'DIGITAL_3_MESES', 'CAMINO_DIGITAL', 'SF_FINANCIACION_TT',\n",
       "       'SF_FONDOS_INVER', 'SF_PLAN_PENSION', 'LP_DOMIC_INGRESOS',\n",
       "       'LP_TARJ_CREDITO', 'LP_TARJ_REVOLVING', 'LP_REC_LTGA_OTR',\n",
       "       'LP_OFIC_INTERNET', 'MARCA_BANCA_PERSONAL', 'MARCA_AF_CCTE', 'EDAD',\n",
       "       'SEGMENTO_VALOR', 'SEGMENTO_RECORRIDO', 'DZ', 'OFICINA', 'LP_SEG_VIDA',\n",
       "       'LP_SEG_ACCIDENT', 'LP_SEG_MEDICOS', 'LP_SEG_MULTIRRIES',\n",
       "       'LP_SEG_AUTO'],\n",
       "      dtype='object')"
      ]
     },
     "execution_count": 46,
     "metadata": {},
     "output_type": "execute_result"
    }
   ],
   "source": [
    "df.columns"
   ]
  },
  {
   "cell_type": "code",
   "execution_count": 47,
   "metadata": {},
   "outputs": [],
   "source": [
    "df.columns = ['cliente', 'saldo_captacion', 'esta_carterizado',\n",
    "       'cliente_bbp', 'tipo_gestor', 'gestor', 'cartera_patron',\n",
    "       'codigo_cartera', 'digital_3_meses', 'camino_digital',\n",
    "       'saldo_financiacion', 'saldo_ffii', 'saldo_plp', 'lp_dom_ingresos',\n",
    "       'lp_tjta_cto', 'lp_tjt_rev', 'lp_rbos', 'lp_of_int', 'marca_bp',\n",
    "       'marca_ccte', 'edad', 'seg_valor', 'seg_recorrido', 'dz', 'oficina',\n",
    "       'lp_seg_vida', 'lp_seg_acc', 'lp_seg_salud', 'lp_seg_hogar',\n",
    "       'lp_seg_auto']"
   ]
  },
  {
   "cell_type": "code",
   "execution_count": 48,
   "metadata": {},
   "outputs": [
    {
     "data": {
      "text/plain": [
       "Index(['cliente', 'saldo_captacion', 'esta_carterizado', 'cliente_bbp',\n",
       "       'tipo_gestor', 'gestor', 'cartera_patron', 'codigo_cartera',\n",
       "       'digital_3_meses', 'camino_digital', 'saldo_financiacion', 'saldo_ffii',\n",
       "       'saldo_plp', 'lp_dom_ingresos', 'lp_tjta_cto', 'lp_tjt_rev', 'lp_rbos',\n",
       "       'lp_of_int', 'marca_bp', 'marca_ccte', 'edad', 'seg_valor',\n",
       "       'seg_recorrido', 'dz', 'oficina', 'lp_seg_vida', 'lp_seg_acc',\n",
       "       'lp_seg_salud', 'lp_seg_hogar', 'lp_seg_auto'],\n",
       "      dtype='object')"
      ]
     },
     "execution_count": 48,
     "metadata": {},
     "output_type": "execute_result"
    }
   ],
   "source": [
    "df.columns"
   ]
  },
  {
   "cell_type": "markdown",
   "metadata": {},
   "source": [
    "__Creamos el archivo csv__"
   ]
  },
  {
   "cell_type": "code",
   "execution_count": 49,
   "metadata": {},
   "outputs": [
    {
     "data": {
      "text/plain": [
       "'C:\\\\Users\\\\manue\\\\TFM\\\\Financial-Product-Sales-Forecast-Model\\\\Cleanning & Merging'"
      ]
     },
     "execution_count": 49,
     "metadata": {},
     "output_type": "execute_result"
    }
   ],
   "source": [
    "pwd"
   ]
  },
  {
   "cell_type": "code",
   "execution_count": 50,
   "metadata": {},
   "outputs": [],
   "source": [
    "df.to_csv('df_merged.csv', index = False)"
   ]
  },
  {
   "cell_type": "code",
   "execution_count": null,
   "metadata": {},
   "outputs": [],
   "source": []
  }
 ],
 "metadata": {
  "kernelspec": {
   "display_name": "Python 3",
   "language": "python",
   "name": "python3"
  },
  "language_info": {
   "codemirror_mode": {
    "name": "ipython",
    "version": 3
   },
   "file_extension": ".py",
   "mimetype": "text/x-python",
   "name": "python",
   "nbconvert_exporter": "python",
   "pygments_lexer": "ipython3",
   "version": "3.8.5"
  }
 },
 "nbformat": 4,
 "nbformat_minor": 2
}
