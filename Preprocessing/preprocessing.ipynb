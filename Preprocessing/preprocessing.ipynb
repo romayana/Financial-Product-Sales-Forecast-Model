{
 "cells": [
  {
   "cell_type": "markdown",
   "metadata": {},
   "source": [
    "# Preprocessing"
   ]
  },
  {
   "cell_type": "markdown",
   "metadata": {},
   "source": [
    "As we have concluded in our study of the database (EDA) we make some modifications in the Data Frame.\n",
    "\n",
    "- We eliminate 2 categorical segmentation variables. It is BP and customer BP.\n",
    "- Age variable. We will eliminate the clients between the age ranges 0-25 and 90 and above.\n",
    "- Investment Funds and Pension Plans are converted to Boolean variables. (0-1) Has or has not.  \n",
    "\n",
    "Additionally we work with:\n",
    "\n",
    "- Label Encoder - Convert categorical variables into numbers.\n",
    "- Outliers - Revision of possible Ouliers\n",
    "- Normalization - Bring all variables to a common scale.\n",
    "- PCA Possible simplification of variables by reducing dimensionality to database.\n",
    "\n",
    "We are going to save three different csv's for use in the different models\n"
   ]
  },
  {
   "cell_type": "code",
   "execution_count": 2,
   "metadata": {},
   "outputs": [],
   "source": [
    "import pandas as pd\n",
    "import numpy as np"
   ]
  },
  {
   "cell_type": "code",
   "execution_count": 3,
   "metadata": {},
   "outputs": [],
   "source": [
    "df = pd.read_csv('D:/Masters y Cursos/TFM/Financial-Product-Sales-Forecast-Model/Cleanning & Merging/df_cleanned.csv')"
   ]
  },
  {
   "cell_type": "markdown",
   "metadata": {},
   "source": [
    "### LABEL ENCODER\n",
    "\n",
    "Based on EDA performed, within segmentation variables we keep only 5 which we have to transform to number to be able to use them in the model."
   ]
  },
  {
   "cell_type": "code",
   "execution_count": 4,
   "metadata": {},
   "outputs": [],
   "source": [
    "variables_segmentacion =['seg_valor','camino_digital','seg_recorrido','marca_ccte','marca_bp']\n"
   ]
  },
  {
   "cell_type": "code",
   "execution_count": 5,
   "metadata": {},
   "outputs": [],
   "source": [
    "from sklearn.preprocessing import LabelEncoder\n",
    "lbl = LabelEncoder()"
   ]
  },
  {
   "cell_type": "code",
   "execution_count": 6,
   "metadata": {},
   "outputs": [],
   "source": [
    "for segmento in variables_segmentacion:\n",
    "    df[segmento]=lbl.fit_transform(df[segmento])"
   ]
  },
  {
   "cell_type": "code",
   "execution_count": 7,
   "metadata": {
    "scrolled": true
   },
   "outputs": [
    {
     "data": {
      "text/plain": [
       "0    249593\n",
       "2    134911\n",
       "1     66870\n",
       "Name: seg_valor, dtype: int64"
      ]
     },
     "execution_count": 7,
     "metadata": {},
     "output_type": "execute_result"
    }
   ],
   "source": [
    "# We confirm that the transformation has been performed correctly. \n",
    "df['seg_valor'].value_counts()"
   ]
  },
  {
   "cell_type": "code",
   "execution_count": 8,
   "metadata": {},
   "outputs": [
    {
     "data": {
      "text/plain": [
       "array([0, 2, 1])"
      ]
     },
     "execution_count": 8,
     "metadata": {},
     "output_type": "execute_result"
    }
   ],
   "source": [
    "df['seg_valor'].unique()"
   ]
  },
  {
   "cell_type": "markdown",
   "metadata": {},
   "source": [
    "## Variables adaptation"
   ]
  },
  {
   "cell_type": "code",
   "execution_count": 9,
   "metadata": {},
   "outputs": [],
   "source": [
    "# We eliminate customers from 0 to 24 years old and over 90 years old.\n",
    "inf25 = df[df['edad'] < 25].index\n",
    "# Delete these row indexes from dataFrame\n",
    "df.drop(inf25 , inplace=True)"
   ]
  },
  {
   "cell_type": "code",
   "execution_count": 10,
   "metadata": {},
   "outputs": [],
   "source": [
    "# We eliminate customers over 90 years old\n",
    "sup90 = df[df['edad'] > 90].index\n",
    "# Delete these row indexes from dataFrame\n",
    "df.drop(sup90 , inplace=True)"
   ]
  },
  {
   "cell_type": "code",
   "execution_count": 11,
   "metadata": {
    "scrolled": true
   },
   "outputs": [
    {
     "data": {
      "text/plain": [
       "count    417812.000000\n",
       "mean         59.915787\n",
       "std          16.207368\n",
       "min          25.000000\n",
       "25%          48.000000\n",
       "50%          61.000000\n",
       "75%          73.000000\n",
       "max          90.000000\n",
       "Name: edad, dtype: float64"
      ]
     },
     "execution_count": 11,
     "metadata": {},
     "output_type": "execute_result"
    }
   ],
   "source": [
    "df['edad'].describe()"
   ]
  },
  {
   "cell_type": "markdown",
   "metadata": {},
   "source": [
    "### Age Outliers\n",
    "\n",
    "We have seen during the exploration of the data set that there are several variables that are susceptible to Outliers. These are 'age', 'catchment_balance', 'funding_balance', 'effii_balance', 'plp_balance'. \n",
    "\n",
    "- Capture Variable. These are real values. We do not want to eliminate outliers. We only modify the negative ones and give them a value of 0 Euros.\n",
    "- Investment funds and pension plans. We will transform to boolean value 0-1 \"Has not Has.\n",
    "- Funding is a variable that by its nature we do not want to modify.\n",
    "\n",
    "- Age variable. It is the only one that can have real ouliers.  We have previously eliminated customers between 0-25 years old and over 90 years old, so probably the Outlier are already worked. "
   ]
  },
  {
   "cell_type": "markdown",
   "metadata": {},
   "source": [
    "__Age Variable__\n",
    "\n",
    "We make the visualization with a histogram and a BoxPlot. With the latter we confirm that we have no Outliers."
   ]
  },
  {
   "cell_type": "code",
   "execution_count": 12,
   "metadata": {},
   "outputs": [],
   "source": [
    "import matplotlib.pyplot as plt\n",
    "import pylab as pl"
   ]
  },
  {
   "cell_type": "code",
   "execution_count": 13,
   "metadata": {},
   "outputs": [
    {
     "data": {
      "text/plain": [
       "<AxesSubplot:>"
      ]
     },
     "execution_count": 13,
     "metadata": {},
     "output_type": "execute_result"
    },
    {
     "data": {
      "image/png": "[encoded data removed]",
      "text/plain": [
       "<Figure size 432x288 with 1 Axes>"
      ]
     },
     "metadata": {
      "needs_background": "light"
     },
     "output_type": "display_data"
    }
   ],
   "source": [
    "df['edad'].hist(color = 'y', bins = 15)"
   ]
  },
  {
   "cell_type": "code",
   "execution_count": 14,
   "metadata": {
    "scrolled": false
   },
   "outputs": [
    {
     "name": "stdout",
     "output_type": "stream",
     "text": [
      "Boxplot edad\n"
     ]
    },
    {
     "data": {
      "text/plain": [
       "<function matplotlib.pyplot.show(close=None, block=None)>"
      ]
     },
     "execution_count": 14,
     "metadata": {},
     "output_type": "execute_result"
    },
    {
     "data": {
      "image/png": "[encoded data removed]",
      "text/plain": [
       "<Figure size 432x288 with 1 Axes>"
      ]
     },
     "metadata": {
      "needs_background": "light"
     },
     "output_type": "display_data"
    }
   ],
   "source": [
    "print ('Boxplot edad')\n",
    "plt.boxplot(df['edad'],vert = False, widths = 2)\n",
    "plt.show   \n"
   ]
  },
  {
   "cell_type": "code",
   "execution_count": 15,
   "metadata": {
    "scrolled": true
   },
   "outputs": [
    {
     "data": {
      "text/plain": [
       "count    417812.000000\n",
       "mean         59.915787\n",
       "std          16.207368\n",
       "min          25.000000\n",
       "25%          48.000000\n",
       "50%          61.000000\n",
       "75%          73.000000\n",
       "max          90.000000\n",
       "Name: edad, dtype: float64"
      ]
     },
     "execution_count": 15,
     "metadata": {},
     "output_type": "execute_result"
    }
   ],
   "source": [
    "df['edad'].describe()"
   ]
  },
  {
   "cell_type": "code",
   "execution_count": 16,
   "metadata": {},
   "outputs": [
    {
     "data": {
      "text/plain": [
       "0    0.888785\n",
       "1    0.111215\n",
       "Name: saldo_plp, dtype: float64"
      ]
     },
     "execution_count": 16,
     "metadata": {},
     "output_type": "execute_result"
    }
   ],
   "source": [
    "# Transform variable Future savings Plans 0 Don't have - 1 Yes have\n",
    "df['saldo_plp'] = df['saldo_plp'].apply(lambda x: 1 if x > 0 else 0)\n",
    "pd.value_counts(df['saldo_plp'], normalize = True)"
   ]
  },
  {
   "cell_type": "code",
   "execution_count": 17,
   "metadata": {},
   "outputs": [
    {
     "data": {
      "text/plain": [
       "0    0.859183\n",
       "1    0.140817\n",
       "Name: saldo_ffii, dtype: float64"
      ]
     },
     "execution_count": 17,
     "metadata": {},
     "output_type": "execute_result"
    }
   ],
   "source": [
    "# Transform variable Investment Funds 0 Don't have 1 Yes have\n",
    "df['saldo_ffii'] = df['saldo_ffii'].apply(lambda x: 1 if x > 0 else 0)\n",
    "pd.value_counts(df['saldo_ffii'], normalize = True)"
   ]
  },
  {
   "cell_type": "code",
   "execution_count": 18,
   "metadata": {},
   "outputs": [
    {
     "name": "stdout",
     "output_type": "stream",
     "text": [
      "customers_with_negative_balances : 8828\n",
      "customers_percent_with_negative_balances:  0.021129120274190307\n"
     ]
    }
   ],
   "source": [
    "# Savings Variable\n",
    "customers_with_negative_balances = df[df['saldo_captacion'] < 0]['cliente'].nunique()\n",
    "customers_percent_with_negative_balances  = df[df['saldo_captacion'] < 0]['cliente'].nunique() / df['cliente'].count()\n",
    "print ('customers_with_negative_balances :',customers_with_negative_balances)\n",
    "print ('customers_percent_with_negative_balances: ',customers_percent_with_negative_balances)"
   ]
  },
  {
   "cell_type": "code",
   "execution_count": 19,
   "metadata": {},
   "outputs": [],
   "source": [
    "# We do not want negative values. We give them a value of zero.\n",
    "df[df['saldo_captacion'] < 0] = 0"
   ]
  },
  {
   "cell_type": "code",
   "execution_count": 20,
   "metadata": {
    "scrolled": true
   },
   "outputs": [
    {
     "data": {
      "text/plain": [
       "count    4.178120e+05\n",
       "mean     5.194882e+04\n",
       "std      8.914284e+04\n",
       "min      0.000000e+00\n",
       "25%      2.189145e+03\n",
       "50%      1.787874e+04\n",
       "75%      6.811098e+04\n",
       "max      5.290216e+06\n",
       "Name: saldo_captacion, dtype: float64"
      ]
     },
     "execution_count": 20,
     "metadata": {},
     "output_type": "execute_result"
    }
   ],
   "source": [
    "df['saldo_captacion'].describe()"
   ]
  },
  {
   "cell_type": "code",
   "execution_count": 21,
   "metadata": {},
   "outputs": [],
   "source": [
    "df=df[['saldo_captacion','saldo_financiacion','edad','seg_valor','saldo_ffii', 'saldo_plp', \n",
    "      'lp_dom_ingresos','camino_digital','seg_recorrido','marca_ccte','lp_seg_vida',\n",
    "       'lp_seg_auto','marca_bp','lp_tjta_cto', 'lp_tjt_rev','lp_seg_acc','lp_seg_hogar']]"
   ]
  },
  {
   "cell_type": "code",
   "execution_count": 22,
   "metadata": {},
   "outputs": [
    {
     "data": {
      "text/html": [
       "<div>\n",
       "<style scoped>\n",
       "    .dataframe tbody tr th:only-of-type {\n",
       "        vertical-align: middle;\n",
       "    }\n",
       "\n",
       "    .dataframe tbody tr th {\n",
       "        vertical-align: top;\n",
       "    }\n",
       "\n",
       "    .dataframe thead th {\n",
       "        text-align: right;\n",
       "    }\n",
       "</style>\n",
       "<table border=\"1\" class=\"dataframe\">\n",
       "  <thead>\n",
       "    <tr style=\"text-align: right;\">\n",
       "      <th></th>\n",
       "      <th>saldo_captacion</th>\n",
       "      <th>saldo_financiacion</th>\n",
       "      <th>edad</th>\n",
       "      <th>seg_valor</th>\n",
       "      <th>saldo_ffii</th>\n",
       "      <th>saldo_plp</th>\n",
       "      <th>lp_dom_ingresos</th>\n",
       "      <th>camino_digital</th>\n",
       "      <th>seg_recorrido</th>\n",
       "      <th>marca_ccte</th>\n",
       "      <th>lp_seg_vida</th>\n",
       "      <th>lp_seg_auto</th>\n",
       "      <th>marca_bp</th>\n",
       "      <th>lp_tjta_cto</th>\n",
       "      <th>lp_tjt_rev</th>\n",
       "      <th>lp_seg_acc</th>\n",
       "      <th>lp_seg_hogar</th>\n",
       "    </tr>\n",
       "  </thead>\n",
       "  <tbody>\n",
       "    <tr>\n",
       "      <th>101019</th>\n",
       "      <td>118270.64</td>\n",
       "      <td>60.74</td>\n",
       "      <td>89.0</td>\n",
       "      <td>0</td>\n",
       "      <td>1</td>\n",
       "      <td>0</td>\n",
       "      <td>1</td>\n",
       "      <td>3</td>\n",
       "      <td>2</td>\n",
       "      <td>0</td>\n",
       "      <td>0</td>\n",
       "      <td>0</td>\n",
       "      <td>1</td>\n",
       "      <td>1</td>\n",
       "      <td>0</td>\n",
       "      <td>0</td>\n",
       "      <td>0</td>\n",
       "    </tr>\n",
       "    <tr>\n",
       "      <th>427889</th>\n",
       "      <td>16487.74</td>\n",
       "      <td>32298.12</td>\n",
       "      <td>27.0</td>\n",
       "      <td>2</td>\n",
       "      <td>0</td>\n",
       "      <td>1</td>\n",
       "      <td>0</td>\n",
       "      <td>3</td>\n",
       "      <td>2</td>\n",
       "      <td>2</td>\n",
       "      <td>1</td>\n",
       "      <td>0</td>\n",
       "      <td>0</td>\n",
       "      <td>0</td>\n",
       "      <td>0</td>\n",
       "      <td>0</td>\n",
       "      <td>0</td>\n",
       "    </tr>\n",
       "    <tr>\n",
       "      <th>39035</th>\n",
       "      <td>98347.74</td>\n",
       "      <td>486.24</td>\n",
       "      <td>44.0</td>\n",
       "      <td>0</td>\n",
       "      <td>0</td>\n",
       "      <td>0</td>\n",
       "      <td>1</td>\n",
       "      <td>4</td>\n",
       "      <td>2</td>\n",
       "      <td>0</td>\n",
       "      <td>0</td>\n",
       "      <td>0</td>\n",
       "      <td>1</td>\n",
       "      <td>1</td>\n",
       "      <td>0</td>\n",
       "      <td>0</td>\n",
       "      <td>0</td>\n",
       "    </tr>\n",
       "    <tr>\n",
       "      <th>329321</th>\n",
       "      <td>16994.08</td>\n",
       "      <td>116.51</td>\n",
       "      <td>49.0</td>\n",
       "      <td>2</td>\n",
       "      <td>0</td>\n",
       "      <td>0</td>\n",
       "      <td>1</td>\n",
       "      <td>1</td>\n",
       "      <td>0</td>\n",
       "      <td>0</td>\n",
       "      <td>0</td>\n",
       "      <td>0</td>\n",
       "      <td>0</td>\n",
       "      <td>1</td>\n",
       "      <td>0</td>\n",
       "      <td>0</td>\n",
       "      <td>0</td>\n",
       "    </tr>\n",
       "    <tr>\n",
       "      <th>99527</th>\n",
       "      <td>59070.26</td>\n",
       "      <td>368.40</td>\n",
       "      <td>43.0</td>\n",
       "      <td>0</td>\n",
       "      <td>0</td>\n",
       "      <td>0</td>\n",
       "      <td>1</td>\n",
       "      <td>4</td>\n",
       "      <td>0</td>\n",
       "      <td>0</td>\n",
       "      <td>0</td>\n",
       "      <td>0</td>\n",
       "      <td>1</td>\n",
       "      <td>1</td>\n",
       "      <td>0</td>\n",
       "      <td>0</td>\n",
       "      <td>0</td>\n",
       "    </tr>\n",
       "  </tbody>\n",
       "</table>\n",
       "</div>"
      ],
      "text/plain": [
       "        saldo_captacion  saldo_financiacion  edad  seg_valor  saldo_ffii  \\\n",
       "101019        118270.64               60.74  89.0          0           1   \n",
       "427889         16487.74            32298.12  27.0          2           0   \n",
       "39035          98347.74              486.24  44.0          0           0   \n",
       "329321         16994.08              116.51  49.0          2           0   \n",
       "99527          59070.26              368.40  43.0          0           0   \n",
       "\n",
       "        saldo_plp  lp_dom_ingresos  camino_digital  seg_recorrido  marca_ccte  \\\n",
       "101019          0                1               3              2           0   \n",
       "427889          1                0               3              2           2   \n",
       "39035           0                1               4              2           0   \n",
       "329321          0                1               1              0           0   \n",
       "99527           0                1               4              0           0   \n",
       "\n",
       "        lp_seg_vida  lp_seg_auto  marca_bp  lp_tjta_cto  lp_tjt_rev  \\\n",
       "101019            0            0         1            1           0   \n",
       "427889            1            0         0            0           0   \n",
       "39035             0            0         1            1           0   \n",
       "329321            0            0         0            1           0   \n",
       "99527             0            0         1            1           0   \n",
       "\n",
       "        lp_seg_acc  lp_seg_hogar  \n",
       "101019           0             0  \n",
       "427889           0             0  \n",
       "39035            0             0  \n",
       "329321           0             0  \n",
       "99527            0             0  "
      ]
     },
     "execution_count": 22,
     "metadata": {},
     "output_type": "execute_result"
    }
   ],
   "source": [
    "df.sample(5)"
   ]
  },
  {
   "cell_type": "code",
   "execution_count": 23,
   "metadata": {},
   "outputs": [],
   "source": [
    "# Save to csv\n",
    "df.to_csv('df_encoded.csv', index = False)"
   ]
  },
  {
   "cell_type": "markdown",
   "metadata": {},
   "source": [
    "### NORMALIZATION\n",
    "\n",
    "Bring all variables to a common scale. For this we use MinMaxScaler."
   ]
  },
  {
   "cell_type": "code",
   "execution_count": 24,
   "metadata": {},
   "outputs": [],
   "source": [
    "from sklearn.preprocessing import MinMaxScaler"
   ]
  },
  {
   "cell_type": "code",
   "execution_count": 25,
   "metadata": {},
   "outputs": [],
   "source": [
    "scaler = MinMaxScaler()"
   ]
  },
  {
   "cell_type": "code",
   "execution_count": 26,
   "metadata": {},
   "outputs": [],
   "source": [
    "df_normalized = scaler.fit_transform(df)"
   ]
  },
  {
   "cell_type": "code",
   "execution_count": 27,
   "metadata": {},
   "outputs": [],
   "source": [
    "columnas = df.columns"
   ]
  },
  {
   "cell_type": "code",
   "execution_count": 28,
   "metadata": {},
   "outputs": [],
   "source": [
    "df_normalized = pd.DataFrame(df_normalized, columns=columnas)"
   ]
  },
  {
   "cell_type": "code",
   "execution_count": 29,
   "metadata": {
    "scrolled": false
   },
   "outputs": [
    {
     "data": {
      "text/html": [
       "<div>\n",
       "<style scoped>\n",
       "    .dataframe tbody tr th:only-of-type {\n",
       "        vertical-align: middle;\n",
       "    }\n",
       "\n",
       "    .dataframe tbody tr th {\n",
       "        vertical-align: top;\n",
       "    }\n",
       "\n",
       "    .dataframe thead th {\n",
       "        text-align: right;\n",
       "    }\n",
       "</style>\n",
       "<table border=\"1\" class=\"dataframe\">\n",
       "  <thead>\n",
       "    <tr style=\"text-align: right;\">\n",
       "      <th></th>\n",
       "      <th>saldo_captacion</th>\n",
       "      <th>saldo_financiacion</th>\n",
       "      <th>edad</th>\n",
       "      <th>seg_valor</th>\n",
       "      <th>saldo_ffii</th>\n",
       "      <th>saldo_plp</th>\n",
       "      <th>lp_dom_ingresos</th>\n",
       "      <th>camino_digital</th>\n",
       "      <th>seg_recorrido</th>\n",
       "      <th>marca_ccte</th>\n",
       "      <th>lp_seg_vida</th>\n",
       "      <th>lp_seg_auto</th>\n",
       "      <th>marca_bp</th>\n",
       "      <th>lp_tjta_cto</th>\n",
       "      <th>lp_tjt_rev</th>\n",
       "      <th>lp_seg_acc</th>\n",
       "      <th>lp_seg_hogar</th>\n",
       "    </tr>\n",
       "  </thead>\n",
       "  <tbody>\n",
       "    <tr>\n",
       "      <th>0</th>\n",
       "      <td>0.251050</td>\n",
       "      <td>0.001689</td>\n",
       "      <td>0.766667</td>\n",
       "      <td>0.0</td>\n",
       "      <td>1.0</td>\n",
       "      <td>1.0</td>\n",
       "      <td>1.0</td>\n",
       "      <td>0.00</td>\n",
       "      <td>0.333333</td>\n",
       "      <td>0.0</td>\n",
       "      <td>0.0</td>\n",
       "      <td>0.0</td>\n",
       "      <td>0.0</td>\n",
       "      <td>1.0</td>\n",
       "      <td>1.0</td>\n",
       "      <td>0.0</td>\n",
       "      <td>1.0</td>\n",
       "    </tr>\n",
       "    <tr>\n",
       "      <th>1</th>\n",
       "      <td>0.215915</td>\n",
       "      <td>0.001689</td>\n",
       "      <td>0.900000</td>\n",
       "      <td>0.0</td>\n",
       "      <td>1.0</td>\n",
       "      <td>0.0</td>\n",
       "      <td>0.0</td>\n",
       "      <td>0.00</td>\n",
       "      <td>0.000000</td>\n",
       "      <td>0.0</td>\n",
       "      <td>0.0</td>\n",
       "      <td>0.0</td>\n",
       "      <td>0.0</td>\n",
       "      <td>0.0</td>\n",
       "      <td>0.0</td>\n",
       "      <td>0.0</td>\n",
       "      <td>0.0</td>\n",
       "    </tr>\n",
       "    <tr>\n",
       "      <th>2</th>\n",
       "      <td>0.215915</td>\n",
       "      <td>0.001689</td>\n",
       "      <td>0.833333</td>\n",
       "      <td>0.0</td>\n",
       "      <td>1.0</td>\n",
       "      <td>0.0</td>\n",
       "      <td>0.0</td>\n",
       "      <td>0.75</td>\n",
       "      <td>0.333333</td>\n",
       "      <td>1.0</td>\n",
       "      <td>0.0</td>\n",
       "      <td>0.0</td>\n",
       "      <td>0.0</td>\n",
       "      <td>0.0</td>\n",
       "      <td>0.0</td>\n",
       "      <td>0.0</td>\n",
       "      <td>0.0</td>\n",
       "    </tr>\n",
       "  </tbody>\n",
       "</table>\n",
       "</div>"
      ],
      "text/plain": [
       "   saldo_captacion  saldo_financiacion      edad  seg_valor  saldo_ffii  \\\n",
       "0         0.251050            0.001689  0.766667        0.0         1.0   \n",
       "1         0.215915            0.001689  0.900000        0.0         1.0   \n",
       "2         0.215915            0.001689  0.833333        0.0         1.0   \n",
       "\n",
       "   saldo_plp  lp_dom_ingresos  camino_digital  seg_recorrido  marca_ccte  \\\n",
       "0        1.0              1.0            0.00       0.333333         0.0   \n",
       "1        0.0              0.0            0.00       0.000000         0.0   \n",
       "2        0.0              0.0            0.75       0.333333         1.0   \n",
       "\n",
       "   lp_seg_vida  lp_seg_auto  marca_bp  lp_tjta_cto  lp_tjt_rev  lp_seg_acc  \\\n",
       "0          0.0          0.0       0.0          1.0         1.0         0.0   \n",
       "1          0.0          0.0       0.0          0.0         0.0         0.0   \n",
       "2          0.0          0.0       0.0          0.0         0.0         0.0   \n",
       "\n",
       "   lp_seg_hogar  \n",
       "0           1.0  \n",
       "1           0.0  \n",
       "2           0.0  "
      ]
     },
     "execution_count": 29,
     "metadata": {},
     "output_type": "execute_result"
    }
   ],
   "source": [
    "df_normalized.head(3)"
   ]
  },
  {
   "cell_type": "code",
   "execution_count": 30,
   "metadata": {},
   "outputs": [],
   "source": [
    "# save to csv\n",
    "df_normalized.to_csv('df_normalized.csv', index = False)"
   ]
  },
  {
   "cell_type": "code",
   "execution_count": 31,
   "metadata": {},
   "outputs": [
    {
     "data": {
      "text/plain": [
       "Index(['saldo_captacion', 'saldo_financiacion', 'edad', 'seg_valor',\n",
       "       'saldo_ffii', 'saldo_plp', 'lp_dom_ingresos', 'camino_digital',\n",
       "       'seg_recorrido', 'marca_ccte', 'lp_seg_vida', 'lp_seg_auto', 'marca_bp',\n",
       "       'lp_tjta_cto', 'lp_tjt_rev', 'lp_seg_acc', 'lp_seg_hogar'],\n",
       "      dtype='object')"
      ]
     },
     "execution_count": 31,
     "metadata": {},
     "output_type": "execute_result"
    }
   ],
   "source": [
    "df_normalized.columns"
   ]
  },
  {
   "cell_type": "markdown",
   "metadata": {},
   "source": [
    "### PCA \n",
    "\n",
    "PCA is not necesary but i study it to try with the models. \n",
    "\n",
    "There ar only 17 variables that we will try to reduce using PCA to reduce the dimensionality. We will compare if the use of PCA improves or not the result.\n"
   ]
  },
  {
   "cell_type": "code",
   "execution_count": 32,
   "metadata": {},
   "outputs": [],
   "source": [
    "from sklearn.decomposition import PCA"
   ]
  },
  {
   "cell_type": "code",
   "execution_count": 33,
   "metadata": {},
   "outputs": [],
   "source": [
    "df_without_target = df_normalized.drop(['lp_seg_hogar'], axis = 1)"
   ]
  },
  {
   "cell_type": "code",
   "execution_count": 34,
   "metadata": {},
   "outputs": [],
   "source": [
    "# PCA object and we apply\n",
    "pca = PCA(15) # n =  ponemos como numero de pcas 15\n",
    "pca.fit(df_without_target) # obtener los componentes principales\n",
    "df_transforming = pca.transform(df_without_target) # convertimos nuestros datos con las nuevas dimensiones de PCA"
   ]
  },
  {
   "cell_type": "code",
   "execution_count": 35,
   "metadata": {},
   "outputs": [
    {
     "data": {
      "text/plain": [
       "array([-4.11889824e-01,  9.10978607e-01,  1.31662563e-02,  4.99907493e-03,\n",
       "        6.37255850e-03, -2.56658482e-03,  2.33568088e-04, -2.65712748e-03,\n",
       "       -5.83886051e-03, -8.93539668e-05, -7.27455382e-03, -1.60054293e-03,\n",
       "        9.98998533e-03,  1.29828400e-05, -6.78979411e-04, -4.71761888e-03])"
      ]
     },
     "execution_count": 35,
     "metadata": {},
     "output_type": "execute_result"
    }
   ],
   "source": [
    "pca.components_[14]"
   ]
  },
  {
   "cell_type": "code",
   "execution_count": 36,
   "metadata": {},
   "outputs": [
    {
     "data": {
      "text/plain": [
       "[('saldo_captacion', 1.0054773583346235),\n",
       " ('saldo_financiacion', 0.07789250191949051),\n",
       " ('edad', 0.38502292690306356),\n",
       " ('seg_valor', 0.3286855505328109),\n",
       " ('saldo_ffii', 0.5270259475547889),\n",
       " ('saldo_plp', 0.6200945446767393),\n",
       " ('lp_dom_ingresos', 0.9559897775616004),\n",
       " ('camino_digital', 0.11185132567008972),\n",
       " ('seg_recorrido', -0.10035165555479407),\n",
       " ('marca_ccte', -0.07430516952388962),\n",
       " ('lp_seg_vida', -0.37074753350110984),\n",
       " ('lp_seg_auto', -0.15791956357291642),\n",
       " ('marca_bp', -0.08083767823818092),\n",
       " ('lp_tjta_cto', -0.06358558882372542),\n",
       " ('lp_tjt_rev', -0.10212594774301068)]"
      ]
     },
     "execution_count": 36,
     "metadata": {},
     "output_type": "execute_result"
    }
   ],
   "source": [
    "list(zip(df_without_target.columns, df_transforming[0]))"
   ]
  },
  {
   "cell_type": "code",
   "execution_count": 37,
   "metadata": {},
   "outputs": [
    {
     "name": "stdout",
     "output_type": "stream",
     "text": [
      "shape of X_pca (417812, 15)\n",
      "[2.43541531e-01 1.83785848e-01 1.14700429e-01 7.90322361e-02\n",
      " 6.41066674e-02 6.02483731e-02 5.63915734e-02 4.43985341e-02\n",
      " 4.40507526e-02 3.96533603e-02 3.31396132e-02 1.74401388e-02\n",
      " 1.11996421e-02 8.10258599e-03 1.14564222e-04]\n",
      "sum: 0.9999058499657828\n"
     ]
    }
   ],
   "source": [
    "print(\"shape of X_pca\", df_transforming.shape)\n",
    "expl = pca.explained_variance_ratio_\n",
    "print(expl)\n",
    "print('sum:',sum(expl[0:15]))\n",
    "#We see that with the 15 components we have 99% of variance explained. That is why we dont need PCA."
   ]
  },
  {
   "cell_type": "code",
   "execution_count": 38,
   "metadata": {},
   "outputs": [
    {
     "data": {
      "image/png": "[encoded data removed]",
      "text/plain": [
       "<Figure size 432x288 with 1 Axes>"
      ]
     },
     "metadata": {
      "needs_background": "light"
     },
     "output_type": "display_data"
    }
   ],
   "source": [
    "#We plot the cumulative variance explained in the new dimensions.\n",
    "plt.plot(np.cumsum(pca.explained_variance_ratio_), color = 'y')\n",
    "plt.xlabel('number of components')\n",
    "plt.ylabel('cumulative explained variance')\n",
    "plt.show() "
   ]
  },
  {
   "cell_type": "code",
   "execution_count": 39,
   "metadata": {},
   "outputs": [],
   "source": [
    "# We give a name to each column of the DF once the PCA has been performed.\n",
    "df_pca = pd.DataFrame (data = df_transforming, columns = ['var_pca_1','var_pca_2','var_pca_3',\n",
    "                                                          'var_pca_4','var_pca_5','var_pca_6',\n",
    "                                                          'var_pca_7','var_pca_8','var_pca_9',\n",
    "                                                          'var_pca_10','var_pca_11','var_pca_12',\n",
    "                                                          'var_pca_13','var_pca_14','var_pca_15'])                          \n",
    "                                                          "
   ]
  },
  {
   "cell_type": "code",
   "execution_count": 40,
   "metadata": {},
   "outputs": [],
   "source": [
    "# Unimos nuestro Target al DF con PCA realizado.\n",
    "df_normalized_pca = pd.concat ([df_pca, df_normalized [['lp_seg_hogar']]], axis = 1)"
   ]
  },
  {
   "cell_type": "code",
   "execution_count": 41,
   "metadata": {},
   "outputs": [],
   "source": [
    "df_normalized_pca.to_csv('df_normalized_pca.csv', index = False)"
   ]
  },
  {
   "cell_type": "code",
   "execution_count": null,
   "metadata": {},
   "outputs": [],
   "source": []
  }
 ],
 "metadata": {
  "kernelspec": {
   "display_name": "Python 3",
   "language": "python",
   "name": "python3"
  },
  "language_info": {
   "codemirror_mode": {
    "name": "ipython",
    "version": 3
   },
   "file_extension": ".py",
   "mimetype": "text/x-python",
   "name": "python",
   "nbconvert_exporter": "python",
   "pygments_lexer": "ipython3",
   "version": "3.8.5"
  }
 },
 "nbformat": 4,
 "nbformat_minor": 2
}
