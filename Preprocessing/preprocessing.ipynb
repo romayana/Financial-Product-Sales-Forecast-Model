{
 "cells": [
  {
   "cell_type": "markdown",
   "metadata": {},
   "source": [
    "# Preprocessing"
   ]
  },
  {
   "cell_type": "markdown",
   "metadata": {},
   "source": [
    "Segun hemos concluido en nuestro estudio de la base de datos ( EDA ) hacemos unas modificaciones en el Data Frame.\n",
    "\n",
    "- Eliminamos 2 variables categoricas de segmentacion. Está carterizado y cliente BP.\n",
    "- Variable Edad. Eliminaremos a los clientes entre los rangos de edad 0-25 y 90 y superiores.\n",
    "- Fondos de Inversion y Planes de Pension son convertidas en variables booleanas. (0-1) Tiene o no tiene.  \n",
    "\n",
    "Adcionalmente trabajamos con:\n",
    "\n",
    "- Label Encoder - Convertir las variables categoricas en numero\n",
    "- Outliers - Revision de posibles Ouliers\n",
    "- Normalizacion - Llevar todas las variables a una escala comun\n",
    "- PCA Posible simplificacion de variables reduciendo dimesionalidad a la base de datos\n"
   ]
  },
  {
   "cell_type": "code",
   "execution_count": 52,
   "metadata": {},
   "outputs": [],
   "source": [
    "import pandas as pd\n",
    "import numpy as np"
   ]
  },
  {
   "cell_type": "code",
   "execution_count": 53,
   "metadata": {},
   "outputs": [],
   "source": [
    "# CAMBIAR SEGUN RUTA LOCAL HASTA UBICACION DEL REPOSITORIO\n",
    "ruta = '/Users/manue/TFM'"
   ]
  },
  {
   "cell_type": "code",
   "execution_count": 54,
   "metadata": {},
   "outputs": [],
   "source": [
    "#Leemos la base de datos y asociamos a la variable df el data set\n",
    "df = pd.read_csv(ruta + '/Financial-Product-Sales-Forecast-Model/Cleanning & Merging/df_cleanned.csv')"
   ]
  },
  {
   "cell_type": "markdown",
   "metadata": {},
   "source": [
    "### LABEL ENCODER\n",
    "\n",
    "Basandonos en EDA realizado ,dentro de variables de segmentacion mantenemos solo 5 las cuales tenemos que transformar a numero para poder utilizarlas en el modelo."
   ]
  },
  {
   "cell_type": "code",
   "execution_count": 46,
   "metadata": {},
   "outputs": [],
   "source": [
    "variables_segmentacion =['seg_valor','camino_digital','seg_recorrido','marca_ccte','marca_bp']\n"
   ]
  },
  {
   "cell_type": "code",
   "execution_count": 51,
   "metadata": {},
   "outputs": [
    {
     "data": {
      "text/plain": [
       "array(['ALTO', 'MEDIO', 'BAJO'], dtype=object)"
      ]
     },
     "execution_count": 51,
     "metadata": {},
     "output_type": "execute_result"
    }
   ],
   "source": [
    "df['seg_valor'].unique()"
   ]
  },
  {
   "cell_type": "code",
   "execution_count": 4,
   "metadata": {},
   "outputs": [],
   "source": [
    "from sklearn.preprocessing import LabelEncoder\n",
    "lbl = LabelEncoder()"
   ]
  },
  {
   "cell_type": "code",
   "execution_count": 5,
   "metadata": {},
   "outputs": [],
   "source": [
    "for segmento in variables_segmentacion:\n",
    "    df[segmento]=lbl.fit_transform(df[segmento])"
   ]
  },
  {
   "cell_type": "code",
   "execution_count": 7,
   "metadata": {
    "scrolled": true
   },
   "outputs": [
    {
     "data": {
      "text/plain": [
       "0    249593\n",
       "2    134911\n",
       "1     66870\n",
       "Name: seg_valor, dtype: int64"
      ]
     },
     "execution_count": 7,
     "metadata": {},
     "output_type": "execute_result"
    }
   ],
   "source": [
    "# Confirmamos que la transformacion se ha realizado correctamente.  \n",
    "df['seg_valor'].value_counts()"
   ]
  },
  {
   "cell_type": "code",
   "execution_count": 8,
   "metadata": {},
   "outputs": [
    {
     "data": {
      "text/plain": [
       "array([0, 2, 1])"
      ]
     },
     "execution_count": 8,
     "metadata": {},
     "output_type": "execute_result"
    }
   ],
   "source": [
    "df['seg_valor'].unique()"
   ]
  },
  {
   "cell_type": "markdown",
   "metadata": {},
   "source": [
    "## Adaptacion de Variables"
   ]
  },
  {
   "cell_type": "code",
   "execution_count": 9,
   "metadata": {},
   "outputs": [],
   "source": [
    "# Eliminamos clientes de 0 a 24 años y de mas de 90 años\n",
    "inf25 = df[df['edad'] < 25].index\n",
    "# Eliminamos las filas de la base de datos\n",
    "df.drop(inf25 , inplace=True)"
   ]
  },
  {
   "cell_type": "code",
   "execution_count": 10,
   "metadata": {},
   "outputs": [],
   "source": [
    "# Eliminamos clientes de mas de 90 años\n",
    "sup90 = df[df['edad'] > 90].index\n",
    "# Eliminamos las filas de la base de datos\n",
    "df.drop(sup90 , inplace=True)"
   ]
  },
  {
   "cell_type": "code",
   "execution_count": 11,
   "metadata": {
    "scrolled": true
   },
   "outputs": [
    {
     "data": {
      "text/plain": [
       "count    417812.000000\n",
       "mean         59.915787\n",
       "std          16.207368\n",
       "min          25.000000\n",
       "25%          48.000000\n",
       "50%          61.000000\n",
       "75%          73.000000\n",
       "max          90.000000\n",
       "Name: edad, dtype: float64"
      ]
     },
     "execution_count": 11,
     "metadata": {},
     "output_type": "execute_result"
    }
   ],
   "source": [
    "df['edad'].describe()"
   ]
  },
  {
   "cell_type": "markdown",
   "metadata": {},
   "source": [
    "### Estudio Outliers Edad\n",
    "\n",
    "Hemos visto durante la exploracion del data set que existen distintas variables que son susceptibles de tener Outliers. Estas son 'edad','saldo_captacion','saldo_financiacion','saldo_ffii','saldo_plp'. \n",
    "\n",
    "- Variable Captacion. Son valores reales. No queremos eliminar outliers. Solamente modificamos los negativos y les damos valor 0 Euros.\n",
    "- Fondos de inversion y planes de pension. Transformaremos a valor booleano 0-1 \"Tiene no Tiene.\n",
    "- Financiacion es una variable que por su naturaleza no queremos modificar.\n",
    "\n",
    "- __Variable edad__. Es la unica que puede tener ouliers reales.  Hemos eliminado previamente clientes entre 0-25 años y superiores a 90 años por lo que probablemente los Outlier esten ya trabajados. "
   ]
  },
  {
   "cell_type": "markdown",
   "metadata": {},
   "source": [
    "__Variable EDAD__\n",
    "\n",
    "Hacemos la visualizacion con un histograma y un BoxPlot. Con este ultimo confirmamos que no tenemos Outliers"
   ]
  },
  {
   "cell_type": "code",
   "execution_count": 12,
   "metadata": {},
   "outputs": [],
   "source": [
    "import matplotlib.pyplot as plt\n",
    "import pylab as pl"
   ]
  },
  {
   "cell_type": "code",
   "execution_count": 13,
   "metadata": {},
   "outputs": [
    {
     "data": {
      "text/plain": [
       "<AxesSubplot:>"
      ]
     },
     "execution_count": 13,
     "metadata": {},
     "output_type": "execute_result"
    },
    {
     "data": {
      "image/png": "[encoded data removed]",
      "text/plain": [
       "<Figure size 432x288 with 1 Axes>"
      ]
     },
     "metadata": {
      "needs_background": "light"
     },
     "output_type": "display_data"
    }
   ],
   "source": [
    "df['edad'].hist(color = 'r', bins = 15)"
   ]
  },
  {
   "cell_type": "code",
   "execution_count": 14,
   "metadata": {
    "scrolled": false
   },
   "outputs": [
    {
     "name": "stdout",
     "output_type": "stream",
     "text": [
      "Boxplot edad\n"
     ]
    },
    {
     "data": {
      "text/plain": [
       "<function matplotlib.pyplot.show(close=None, block=None)>"
      ]
     },
     "execution_count": 14,
     "metadata": {},
     "output_type": "execute_result"
    },
    {
     "data": {
      "image/png": "[encoded data removed]",
      "text/plain": [
       "<Figure size 432x288 with 1 Axes>"
      ]
     },
     "metadata": {
      "needs_background": "light"
     },
     "output_type": "display_data"
    }
   ],
   "source": [
    "print ('Boxplot edad')\n",
    "plt.boxplot(df['edad'],vert = False, widths = 2)\n",
    "plt.show   \n"
   ]
  },
  {
   "cell_type": "code",
   "execution_count": 15,
   "metadata": {
    "scrolled": true
   },
   "outputs": [
    {
     "data": {
      "text/plain": [
       "count    417812.000000\n",
       "mean         59.915787\n",
       "std          16.207368\n",
       "min          25.000000\n",
       "25%          48.000000\n",
       "50%          61.000000\n",
       "75%          73.000000\n",
       "max          90.000000\n",
       "Name: edad, dtype: float64"
      ]
     },
     "execution_count": 15,
     "metadata": {},
     "output_type": "execute_result"
    }
   ],
   "source": [
    "df['edad'].describe()"
   ]
  },
  {
   "cell_type": "code",
   "execution_count": 16,
   "metadata": {},
   "outputs": [
    {
     "data": {
      "text/plain": [
       "0    0.888785\n",
       "1    0.111215\n",
       "Name: saldo_plp, dtype: float64"
      ]
     },
     "execution_count": 16,
     "metadata": {},
     "output_type": "execute_result"
    }
   ],
   "source": [
    "# Transformamos variable Planes de Pension 0 No tiene 1 Si tiene\n",
    "df['saldo_plp'] = df['saldo_plp'].apply(lambda x: 1 if x > 0 else 0)\n",
    "pd.value_counts(df['saldo_plp'], normalize = True)"
   ]
  },
  {
   "cell_type": "code",
   "execution_count": 17,
   "metadata": {},
   "outputs": [
    {
     "data": {
      "text/plain": [
       "0    0.859183\n",
       "1    0.140817\n",
       "Name: saldo_ffii, dtype: float64"
      ]
     },
     "execution_count": 17,
     "metadata": {},
     "output_type": "execute_result"
    }
   ],
   "source": [
    "# Transformamos variable Fondos de Inversion 0 No tiene 1 Si tiene\n",
    "df['saldo_ffii'] = df['saldo_ffii'].apply(lambda x: 1 if x > 0 else 0)\n",
    "pd.value_counts(df['saldo_ffii'], normalize = True)"
   ]
  },
  {
   "cell_type": "code",
   "execution_count": 18,
   "metadata": {},
   "outputs": [
    {
     "name": "stdout",
     "output_type": "stream",
     "text": [
      "Clientes_con_saldos_negativos : 8828\n",
      "Porcentaje_Clientes_con_saldos_negativos:  0.021129120274190307\n"
     ]
    }
   ],
   "source": [
    "# Variable Captacion. \n",
    "Clientes_con_saldos_negativos = df[df['saldo_captacion'] < 0]['cliente'].nunique()\n",
    "Porcentaje_Clientes_con_saldos_negativos  = df[df['saldo_captacion'] < 0]['cliente'].nunique() / df['cliente'].count()\n",
    "print ('Clientes_con_saldos_negativos :',Clientes_con_saldos_negativos)\n",
    "print ('Porcentaje_Clientes_con_saldos_negativos: ',Porcentaje_Clientes_con_saldos_negativos)"
   ]
  },
  {
   "cell_type": "code",
   "execution_count": 19,
   "metadata": {},
   "outputs": [],
   "source": [
    "# No queremos los valores negativos. Les damos valor de cero.\n",
    "df[df['saldo_captacion'] < 0] = 0"
   ]
  },
  {
   "cell_type": "code",
   "execution_count": 20,
   "metadata": {
    "scrolled": true
   },
   "outputs": [
    {
     "data": {
      "text/plain": [
       "count    4.178120e+05\n",
       "mean     5.194882e+04\n",
       "std      8.914284e+04\n",
       "min      0.000000e+00\n",
       "25%      2.189145e+03\n",
       "50%      1.787874e+04\n",
       "75%      6.811098e+04\n",
       "max      5.290216e+06\n",
       "Name: saldo_captacion, dtype: float64"
      ]
     },
     "execution_count": 20,
     "metadata": {},
     "output_type": "execute_result"
    }
   ],
   "source": [
    "df['saldo_captacion'].describe()"
   ]
  },
  {
   "cell_type": "code",
   "execution_count": 21,
   "metadata": {},
   "outputs": [],
   "source": [
    "# Df sin unidades de negocio\n",
    "df=df[['saldo_captacion','saldo_financiacion','edad','seg_valor','saldo_ffii', 'saldo_plp', \n",
    "      'lp_dom_ingresos','camino_digital','seg_recorrido','marca_ccte','lp_seg_vida',\n",
    "       'lp_seg_auto','marca_bp','lp_tjta_cto', 'lp_tjt_rev','lp_seg_acc','lp_seg_hogar']]"
   ]
  },
  {
   "cell_type": "code",
   "execution_count": 22,
   "metadata": {},
   "outputs": [
    {
     "data": {
      "text/html": [
       "<div>\n",
       "<style scoped>\n",
       "    .dataframe tbody tr th:only-of-type {\n",
       "        vertical-align: middle;\n",
       "    }\n",
       "\n",
       "    .dataframe tbody tr th {\n",
       "        vertical-align: top;\n",
       "    }\n",
       "\n",
       "    .dataframe thead th {\n",
       "        text-align: right;\n",
       "    }\n",
       "</style>\n",
       "<table border=\"1\" class=\"dataframe\">\n",
       "  <thead>\n",
       "    <tr style=\"text-align: right;\">\n",
       "      <th></th>\n",
       "      <th>saldo_captacion</th>\n",
       "      <th>saldo_financiacion</th>\n",
       "      <th>edad</th>\n",
       "      <th>seg_valor</th>\n",
       "      <th>saldo_ffii</th>\n",
       "      <th>saldo_plp</th>\n",
       "      <th>lp_dom_ingresos</th>\n",
       "      <th>camino_digital</th>\n",
       "      <th>seg_recorrido</th>\n",
       "      <th>marca_ccte</th>\n",
       "      <th>lp_seg_vida</th>\n",
       "      <th>lp_seg_auto</th>\n",
       "      <th>marca_bp</th>\n",
       "      <th>lp_tjta_cto</th>\n",
       "      <th>lp_tjt_rev</th>\n",
       "      <th>lp_seg_acc</th>\n",
       "      <th>lp_seg_hogar</th>\n",
       "    </tr>\n",
       "  </thead>\n",
       "  <tbody>\n",
       "    <tr>\n",
       "      <th>216560</th>\n",
       "      <td>696.78</td>\n",
       "      <td>6784.51</td>\n",
       "      <td>56.0</td>\n",
       "      <td>1</td>\n",
       "      <td>0</td>\n",
       "      <td>0</td>\n",
       "      <td>0</td>\n",
       "      <td>2</td>\n",
       "      <td>0</td>\n",
       "      <td>2</td>\n",
       "      <td>0</td>\n",
       "      <td>0</td>\n",
       "      <td>0</td>\n",
       "      <td>1</td>\n",
       "      <td>1</td>\n",
       "      <td>0</td>\n",
       "      <td>0</td>\n",
       "    </tr>\n",
       "    <tr>\n",
       "      <th>306754</th>\n",
       "      <td>2537.44</td>\n",
       "      <td>5483.04</td>\n",
       "      <td>65.0</td>\n",
       "      <td>0</td>\n",
       "      <td>0</td>\n",
       "      <td>0</td>\n",
       "      <td>1</td>\n",
       "      <td>3</td>\n",
       "      <td>0</td>\n",
       "      <td>0</td>\n",
       "      <td>1</td>\n",
       "      <td>0</td>\n",
       "      <td>0</td>\n",
       "      <td>1</td>\n",
       "      <td>1</td>\n",
       "      <td>0</td>\n",
       "      <td>0</td>\n",
       "    </tr>\n",
       "    <tr>\n",
       "      <th>229289</th>\n",
       "      <td>205132.98</td>\n",
       "      <td>0.00</td>\n",
       "      <td>38.0</td>\n",
       "      <td>0</td>\n",
       "      <td>1</td>\n",
       "      <td>0</td>\n",
       "      <td>1</td>\n",
       "      <td>4</td>\n",
       "      <td>1</td>\n",
       "      <td>0</td>\n",
       "      <td>0</td>\n",
       "      <td>0</td>\n",
       "      <td>1</td>\n",
       "      <td>0</td>\n",
       "      <td>0</td>\n",
       "      <td>0</td>\n",
       "      <td>1</td>\n",
       "    </tr>\n",
       "    <tr>\n",
       "      <th>329141</th>\n",
       "      <td>26108.93</td>\n",
       "      <td>329406.78</td>\n",
       "      <td>58.0</td>\n",
       "      <td>0</td>\n",
       "      <td>0</td>\n",
       "      <td>1</td>\n",
       "      <td>1</td>\n",
       "      <td>4</td>\n",
       "      <td>0</td>\n",
       "      <td>0</td>\n",
       "      <td>1</td>\n",
       "      <td>0</td>\n",
       "      <td>1</td>\n",
       "      <td>1</td>\n",
       "      <td>1</td>\n",
       "      <td>1</td>\n",
       "      <td>0</td>\n",
       "    </tr>\n",
       "    <tr>\n",
       "      <th>87726</th>\n",
       "      <td>74591.77</td>\n",
       "      <td>1136.32</td>\n",
       "      <td>51.0</td>\n",
       "      <td>0</td>\n",
       "      <td>1</td>\n",
       "      <td>0</td>\n",
       "      <td>1</td>\n",
       "      <td>1</td>\n",
       "      <td>1</td>\n",
       "      <td>0</td>\n",
       "      <td>0</td>\n",
       "      <td>0</td>\n",
       "      <td>1</td>\n",
       "      <td>1</td>\n",
       "      <td>0</td>\n",
       "      <td>0</td>\n",
       "      <td>0</td>\n",
       "    </tr>\n",
       "  </tbody>\n",
       "</table>\n",
       "</div>"
      ],
      "text/plain": [
       "        saldo_captacion  saldo_financiacion  edad  seg_valor  saldo_ffii  \\\n",
       "216560           696.78             6784.51  56.0          1           0   \n",
       "306754          2537.44             5483.04  65.0          0           0   \n",
       "229289        205132.98                0.00  38.0          0           1   \n",
       "329141         26108.93           329406.78  58.0          0           0   \n",
       "87726          74591.77             1136.32  51.0          0           1   \n",
       "\n",
       "        saldo_plp  lp_dom_ingresos  camino_digital  seg_recorrido  marca_ccte  \\\n",
       "216560          0                0               2              0           2   \n",
       "306754          0                1               3              0           0   \n",
       "229289          0                1               4              1           0   \n",
       "329141          1                1               4              0           0   \n",
       "87726           0                1               1              1           0   \n",
       "\n",
       "        lp_seg_vida  lp_seg_auto  marca_bp  lp_tjta_cto  lp_tjt_rev  \\\n",
       "216560            0            0         0            1           1   \n",
       "306754            1            0         0            1           1   \n",
       "229289            0            0         1            0           0   \n",
       "329141            1            0         1            1           1   \n",
       "87726             0            0         1            1           0   \n",
       "\n",
       "        lp_seg_acc  lp_seg_hogar  \n",
       "216560           0             0  \n",
       "306754           0             0  \n",
       "229289           0             1  \n",
       "329141           1             0  \n",
       "87726            0             0  "
      ]
     },
     "execution_count": 22,
     "metadata": {},
     "output_type": "execute_result"
    }
   ],
   "source": [
    "df.sample(5)"
   ]
  },
  {
   "cell_type": "code",
   "execution_count": 23,
   "metadata": {},
   "outputs": [
    {
     "data": {
      "text/plain": [
       "'C:\\\\Users\\\\manue\\\\TFM\\\\Financial-Product-Sales-Forecast-Model\\\\Preprocessing'"
      ]
     },
     "execution_count": 23,
     "metadata": {},
     "output_type": "execute_result"
    }
   ],
   "source": [
    "pwd"
   ]
  },
  {
   "cell_type": "code",
   "execution_count": 24,
   "metadata": {},
   "outputs": [],
   "source": [
    "# Guardamos cvs\n",
    "df.to_csv('df_encoded.csv', index = False)"
   ]
  },
  {
   "cell_type": "markdown",
   "metadata": {},
   "source": [
    "### NORMALIZACION\n",
    "\n",
    "Debemos llevar todas las varaibles a una escala comun. Para ello utilizamos MinMaxScaler."
   ]
  },
  {
   "cell_type": "code",
   "execution_count": 25,
   "metadata": {},
   "outputs": [],
   "source": [
    "from sklearn.preprocessing import MinMaxScaler"
   ]
  },
  {
   "cell_type": "code",
   "execution_count": 26,
   "metadata": {},
   "outputs": [],
   "source": [
    "scaler = MinMaxScaler()"
   ]
  },
  {
   "cell_type": "code",
   "execution_count": 27,
   "metadata": {},
   "outputs": [],
   "source": [
    "df_normalized = scaler.fit_transform(df)"
   ]
  },
  {
   "cell_type": "code",
   "execution_count": 28,
   "metadata": {},
   "outputs": [],
   "source": [
    "columnas = df.columns"
   ]
  },
  {
   "cell_type": "code",
   "execution_count": 29,
   "metadata": {},
   "outputs": [],
   "source": [
    "df_normalized = pd.DataFrame(df_normalized, columns=columnas)"
   ]
  },
  {
   "cell_type": "code",
   "execution_count": 30,
   "metadata": {
    "scrolled": false
   },
   "outputs": [
    {
     "data": {
      "text/html": [
       "<div>\n",
       "<style scoped>\n",
       "    .dataframe tbody tr th:only-of-type {\n",
       "        vertical-align: middle;\n",
       "    }\n",
       "\n",
       "    .dataframe tbody tr th {\n",
       "        vertical-align: top;\n",
       "    }\n",
       "\n",
       "    .dataframe thead th {\n",
       "        text-align: right;\n",
       "    }\n",
       "</style>\n",
       "<table border=\"1\" class=\"dataframe\">\n",
       "  <thead>\n",
       "    <tr style=\"text-align: right;\">\n",
       "      <th></th>\n",
       "      <th>saldo_captacion</th>\n",
       "      <th>saldo_financiacion</th>\n",
       "      <th>edad</th>\n",
       "      <th>seg_valor</th>\n",
       "      <th>saldo_ffii</th>\n",
       "      <th>saldo_plp</th>\n",
       "      <th>lp_dom_ingresos</th>\n",
       "      <th>camino_digital</th>\n",
       "      <th>seg_recorrido</th>\n",
       "      <th>marca_ccte</th>\n",
       "      <th>lp_seg_vida</th>\n",
       "      <th>lp_seg_auto</th>\n",
       "      <th>marca_bp</th>\n",
       "      <th>lp_tjta_cto</th>\n",
       "      <th>lp_tjt_rev</th>\n",
       "      <th>lp_seg_acc</th>\n",
       "      <th>lp_seg_hogar</th>\n",
       "    </tr>\n",
       "  </thead>\n",
       "  <tbody>\n",
       "    <tr>\n",
       "      <th>0</th>\n",
       "      <td>0.251050</td>\n",
       "      <td>0.001689</td>\n",
       "      <td>0.766667</td>\n",
       "      <td>0.0</td>\n",
       "      <td>1.0</td>\n",
       "      <td>1.0</td>\n",
       "      <td>1.0</td>\n",
       "      <td>0.00</td>\n",
       "      <td>0.333333</td>\n",
       "      <td>0.0</td>\n",
       "      <td>0.0</td>\n",
       "      <td>0.0</td>\n",
       "      <td>0.0</td>\n",
       "      <td>1.0</td>\n",
       "      <td>1.0</td>\n",
       "      <td>0.0</td>\n",
       "      <td>1.0</td>\n",
       "    </tr>\n",
       "    <tr>\n",
       "      <th>1</th>\n",
       "      <td>0.215915</td>\n",
       "      <td>0.001689</td>\n",
       "      <td>0.900000</td>\n",
       "      <td>0.0</td>\n",
       "      <td>1.0</td>\n",
       "      <td>0.0</td>\n",
       "      <td>0.0</td>\n",
       "      <td>0.00</td>\n",
       "      <td>0.000000</td>\n",
       "      <td>0.0</td>\n",
       "      <td>0.0</td>\n",
       "      <td>0.0</td>\n",
       "      <td>0.0</td>\n",
       "      <td>0.0</td>\n",
       "      <td>0.0</td>\n",
       "      <td>0.0</td>\n",
       "      <td>0.0</td>\n",
       "    </tr>\n",
       "    <tr>\n",
       "      <th>2</th>\n",
       "      <td>0.215915</td>\n",
       "      <td>0.001689</td>\n",
       "      <td>0.833333</td>\n",
       "      <td>0.0</td>\n",
       "      <td>1.0</td>\n",
       "      <td>0.0</td>\n",
       "      <td>0.0</td>\n",
       "      <td>0.75</td>\n",
       "      <td>0.333333</td>\n",
       "      <td>1.0</td>\n",
       "      <td>0.0</td>\n",
       "      <td>0.0</td>\n",
       "      <td>0.0</td>\n",
       "      <td>0.0</td>\n",
       "      <td>0.0</td>\n",
       "      <td>0.0</td>\n",
       "      <td>0.0</td>\n",
       "    </tr>\n",
       "  </tbody>\n",
       "</table>\n",
       "</div>"
      ],
      "text/plain": [
       "   saldo_captacion  saldo_financiacion      edad  seg_valor  saldo_ffii  \\\n",
       "0         0.251050            0.001689  0.766667        0.0         1.0   \n",
       "1         0.215915            0.001689  0.900000        0.0         1.0   \n",
       "2         0.215915            0.001689  0.833333        0.0         1.0   \n",
       "\n",
       "   saldo_plp  lp_dom_ingresos  camino_digital  seg_recorrido  marca_ccte  \\\n",
       "0        1.0              1.0            0.00       0.333333         0.0   \n",
       "1        0.0              0.0            0.00       0.000000         0.0   \n",
       "2        0.0              0.0            0.75       0.333333         1.0   \n",
       "\n",
       "   lp_seg_vida  lp_seg_auto  marca_bp  lp_tjta_cto  lp_tjt_rev  lp_seg_acc  \\\n",
       "0          0.0          0.0       0.0          1.0         1.0         0.0   \n",
       "1          0.0          0.0       0.0          0.0         0.0         0.0   \n",
       "2          0.0          0.0       0.0          0.0         0.0         0.0   \n",
       "\n",
       "   lp_seg_hogar  \n",
       "0           1.0  \n",
       "1           0.0  \n",
       "2           0.0  "
      ]
     },
     "execution_count": 30,
     "metadata": {},
     "output_type": "execute_result"
    }
   ],
   "source": [
    "df_normalized.head(3)"
   ]
  },
  {
   "cell_type": "code",
   "execution_count": 31,
   "metadata": {},
   "outputs": [],
   "source": [
    "# save to csv\n",
    "df_normalized.to_csv('df_normalized.csv', index = False)"
   ]
  },
  {
   "cell_type": "code",
   "execution_count": 32,
   "metadata": {},
   "outputs": [
    {
     "data": {
      "text/plain": [
       "Index(['saldo_captacion', 'saldo_financiacion', 'edad', 'seg_valor',\n",
       "       'saldo_ffii', 'saldo_plp', 'lp_dom_ingresos', 'camino_digital',\n",
       "       'seg_recorrido', 'marca_ccte', 'lp_seg_vida', 'lp_seg_auto', 'marca_bp',\n",
       "       'lp_tjta_cto', 'lp_tjt_rev', 'lp_seg_acc', 'lp_seg_hogar'],\n",
       "      dtype='object')"
      ]
     },
     "execution_count": 32,
     "metadata": {},
     "output_type": "execute_result"
    }
   ],
   "source": [
    "df_normalized.columns"
   ]
  },
  {
   "cell_type": "markdown",
   "metadata": {},
   "source": [
    "### PCA \n",
    "\n",
    "No lo consideramos necesario. Despues de haber reducido el Data Frame quedandonos unicamente con las columnas necesarias para el estudio del modelo, aun asi tenemos 17 variables que vamos a intentar reducir utilizando PCA para reducir la dimensionalidad. Compararemos si la utilizacion del PCA mejora o no el resultado."
   ]
  },
  {
   "cell_type": "code",
   "execution_count": 33,
   "metadata": {},
   "outputs": [],
   "source": [
    "from sklearn.decomposition import PCA"
   ]
  },
  {
   "cell_type": "code",
   "execution_count": 34,
   "metadata": {},
   "outputs": [],
   "source": [
    "df_sin_target = df_normalized.drop(['lp_seg_hogar'], axis = 1)"
   ]
  },
  {
   "cell_type": "code",
   "execution_count": 35,
   "metadata": {},
   "outputs": [],
   "source": [
    "pca = PCA(15) # n =  ponemos como numero de pcas 15\n",
    "pca.fit(df_sin_target) # obtener los componentes principales\n",
    "df_transforming = pca.transform(df_sin_target) # convertimos nuestros datos con las nuevas dimensiones de PCA"
   ]
  },
  {
   "cell_type": "code",
   "execution_count": 36,
   "metadata": {},
   "outputs": [
    {
     "data": {
      "text/plain": [
       "array([-4.11889824e-01,  9.10978607e-01,  1.31662563e-02,  4.99907493e-03,\n",
       "        6.37255850e-03, -2.56658482e-03,  2.33568088e-04, -2.65712748e-03,\n",
       "       -5.83886051e-03, -8.93539668e-05, -7.27455382e-03, -1.60054293e-03,\n",
       "        9.98998533e-03,  1.29828400e-05, -6.78979411e-04, -4.71761888e-03])"
      ]
     },
     "execution_count": 36,
     "metadata": {},
     "output_type": "execute_result"
    }
   ],
   "source": [
    "pca.components_[14]"
   ]
  },
  {
   "cell_type": "code",
   "execution_count": 37,
   "metadata": {},
   "outputs": [
    {
     "data": {
      "text/plain": [
       "[('saldo_captacion', 1.0054773583346235),\n",
       " ('saldo_financiacion', 0.07789250191949051),\n",
       " ('edad', 0.38502292690306356),\n",
       " ('seg_valor', 0.3286855505328109),\n",
       " ('saldo_ffii', 0.5270259475547889),\n",
       " ('saldo_plp', 0.6200945446767393),\n",
       " ('lp_dom_ingresos', 0.9559897775616004),\n",
       " ('camino_digital', 0.11185132567008972),\n",
       " ('seg_recorrido', -0.10035165555479407),\n",
       " ('marca_ccte', -0.07430516952388962),\n",
       " ('lp_seg_vida', -0.37074753350110984),\n",
       " ('lp_seg_auto', -0.15791956357291642),\n",
       " ('marca_bp', -0.08083767823818092),\n",
       " ('lp_tjta_cto', -0.06358558882372542),\n",
       " ('lp_tjt_rev', -0.10212594774301068)]"
      ]
     },
     "execution_count": 37,
     "metadata": {},
     "output_type": "execute_result"
    }
   ],
   "source": [
    "list(zip(df_sin_target.columns, df_transforming[0]))"
   ]
  },
  {
   "cell_type": "code",
   "execution_count": 39,
   "metadata": {},
   "outputs": [
    {
     "name": "stdout",
     "output_type": "stream",
     "text": [
      "shape X_pca (417812, 15)\n",
      "[2.43541531e-01 1.83785848e-01 1.14700429e-01 7.90322361e-02\n",
      " 6.41066674e-02 6.02483731e-02 5.63915734e-02 4.43985341e-02\n",
      " 4.40507526e-02 3.96533603e-02 3.31396132e-02 1.74401388e-02\n",
      " 1.11996421e-02 8.10258599e-03 1.14564222e-04]\n",
      "sum: 0.9999058499657828\n"
     ]
    }
   ],
   "source": [
    "print(\"shape X_pca\", df_transforming.shape)\n",
    "exp = pca.explained_variance_ratio_\n",
    "print(exp)\n",
    "print('sum:',sum(exp[0:15]))\n",
    "#Vemos que con los 15 componentes tenemos el 99% de varianza explicada. Casi mismo numero de variables que sin PCA."
   ]
  },
  {
   "cell_type": "code",
   "execution_count": 40,
   "metadata": {},
   "outputs": [
    {
     "data": {
      "image/png": "[encoded data removed]",
      "text/plain": [
       "<Figure size 432x288 with 1 Axes>"
      ]
     },
     "metadata": {
      "needs_background": "light"
     },
     "output_type": "display_data"
    }
   ],
   "source": [
    "#graficamos el acumulado de varianza explicada en las nuevas dimensiones\n",
    "plt.plot(np.cumsum(pca.explained_variance_ratio_), color = 'y')\n",
    "plt.xlabel('numero de componentes')\n",
    "plt.ylabel('varianza explicada acumulada')\n",
    "plt.show() "
   ]
  },
  {
   "cell_type": "code",
   "execution_count": 41,
   "metadata": {},
   "outputs": [],
   "source": [
    "# Damos un nombre a cada columna del DF una vez realizado el PCA.\n",
    "df_pca = pd.DataFrame (data = df_transforming, columns = ['var_pca_1','var_pca_2','var_pca_3',\n",
    "                                                          'var_pca_4','var_pca_5','var_pca_6',\n",
    "                                                          'var_pca_7','var_pca_8','var_pca_9',\n",
    "                                                          'var_pca_10','var_pca_11','var_pca_12',\n",
    "                                                          'var_pca_13','var_pca_14','var_pca_15'])                          \n",
    "                                                          "
   ]
  },
  {
   "cell_type": "code",
   "execution_count": 42,
   "metadata": {},
   "outputs": [],
   "source": [
    "# Unimos nuestro Target al DF con PCA realizado.\n",
    "df_normalized_pca = pd.concat ([df_pca, df_normalized [['lp_seg_hogar']]], axis = 1)"
   ]
  },
  {
   "cell_type": "code",
   "execution_count": 43,
   "metadata": {},
   "outputs": [],
   "source": [
    "df_normalized_pca.to_csv('df_normalized_pca.csv', index = False)"
   ]
  },
  {
   "cell_type": "code",
   "execution_count": null,
   "metadata": {},
   "outputs": [],
   "source": []
  }
 ],
 "metadata": {
  "kernelspec": {
   "display_name": "Python 3",
   "language": "python",
   "name": "python3"
  },
  "language_info": {
   "codemirror_mode": {
    "name": "ipython",
    "version": 3
   },
   "file_extension": ".py",
   "mimetype": "text/x-python",
   "name": "python",
   "nbconvert_exporter": "python",
   "pygments_lexer": "ipython3",
   "version": "3.8.5"
  }
 },
 "nbformat": 4,
 "nbformat_minor": 2
}
